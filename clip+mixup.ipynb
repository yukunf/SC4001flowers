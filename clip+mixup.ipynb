{
 "cells": [
  {
   "cell_type": "code",
   "execution_count": 1,
   "id": "initial_id",
   "metadata": {
    "ExecuteTime": {
     "end_time": "2025-10-28T08:46:36.840434Z",
     "start_time": "2025-10-28T08:46:36.827705Z"
    },
    "colab": {
     "base_uri": "https://localhost:8080/"
    },
    "executionInfo": {
     "elapsed": 51315,
     "status": "ok",
     "timestamp": 1761825736131,
     "user": {
      "displayName": "晖景 PT26 筹募组",
      "userId": "03792069924342625156"
     },
     "user_tz": -480
    },
    "id": "initial_id",
    "outputId": "57ea9f80-840c-42c2-9215-3edcf4b22e3a"
   },
   "outputs": [
    {
     "name": "stdout",
     "output_type": "stream",
     "text": [
      "Cuda Availability:True Training on cuda\n"
     ]
    }
   ],
   "source": [
    "import gc\n",
    "import os\n",
    "from itertools import islice\n",
    "\n",
    "from torchvision import datasets, transforms\n",
    "from torch.utils.data import DataLoader\n",
    "import torch\n",
    "from transformers import pipeline, CLIPModel, CLIPProcessor\n",
    "from tqdm import tqdm\n",
    "\n",
    "# Configuration\n",
    "LOADER_PATCH_SIZE = 32\n",
    "device = \"cuda\" if torch.cuda.is_available() else \"cpu\"\n",
    "print(f\"Cuda Availability:{torch.cuda.is_available()} Training on {device}\")"
   ]
  },
  {
   "cell_type": "markdown",
   "id": "c24885366b00e5e9",
   "metadata": {
    "id": "c24885366b00e5e9"
   },
   "source": [
    "# Notebook for interactive testing for CLIP"
   ]
  },
  {
   "cell_type": "code",
   "execution_count": 2,
   "id": "afdd8de3917c931a",
   "metadata": {
    "ExecuteTime": {
     "end_time": "2025-10-28T08:46:42.065981Z",
     "start_time": "2025-10-28T08:46:37.637335Z"
    },
    "colab": {
     "base_uri": "https://localhost:8080/",
     "height": 453,
     "referenced_widgets": [
      "bfd0e7d0655e4f4dbb1d339a4f420700",
      "c26b9dc8a7ba4e3b8012c488618506bd",
      "5c0c45074d87411a93867fe64e3f51f2",
      "1a553d3d48344aff9eb5536899a47da5",
      "d5d94a7f056042068f145a36690b6cad",
      "76f9b24899d64eb6b6bff1a248461e06",
      "8eaa3d6a579942a1bd800b9000efabf8",
      "4e1827b12b0f43adb204d17eb0bc76ab",
      "710a3f572c1b4d43a06eb44f9d23febf",
      "2018e9bc8c00463f999577cb0de36495",
      "f31f6f8aac0849aaae0b67ab75a792ef",
      "811bdb341ed14c46815f150c9ff44f79",
      "1897e42d1fe948f1871daa03268764f0",
      "ba17856d13f44df2abf533d1ff693de4",
      "68d9a6e6a4d04c19ab720af69515f2a7",
      "6e46fe615f114de891f917da8ecddf59",
      "17b1b265227548d089a643a25a817a7d",
      "1d9c47c99b2f463aa529e7f5a864f5fc",
      "01f1faae372046b6826c75f55e6f1b50",
      "6daee02fa00541aaad2603d6abe740c3",
      "b9563fdf5bba43f1a58a177b86e997be",
      "b4ba892a1e444a64b2cd33e40c44a39e",
      "3f803273c7894a789ca6eaa3d8214ed0",
      "a03dccf8cecb4356a9870309f0efaa24",
      "419053c9d72a45b29725d84723db7855",
      "a34b427be96a432d875504928a8e2fc9",
      "4bf8d2d83267492db9e8f6bb34a36eb6",
      "6e79bfbd595746f3908ce01001bd35cf",
      "1d5fcadc90ba4dc5b6a9750aa74a60de",
      "e1ff23b4cd8e490fa2db57fa52f59a80",
      "3323016522764f66b6fa18f2e7504277",
      "cbeb85639805494badc466942ed9842e",
      "d5dc8a8f9fe54ca8a42eaaad395cf4d8",
      "0beb39bd72b9414081d648a8134dcaba",
      "cb7ef89b7a5542ffb78fee8a70429ada",
      "95ca064fe42e4d10967e7a102463e3e2",
      "8e2bd2bb990744b0b85571bf7c832c9a",
      "4ac3637d350b476eabaaa3db83f67a4a",
      "274a84e402164cefbfe59fc6713d5a36",
      "59f10284fd62487dabcec9d951b311af",
      "0c5947b7cf494775b59f6ec98701b8d0",
      "e9709d7460ba44acb357e654d79f020f",
      "1b7be38f930347a49686e304d2171591",
      "48a5b7a1f16d402987633f446923e94c",
      "eddc58df59174c7890c4789d62eb1a55",
      "b4ddbcd75b64408d9615b436af5382f8",
      "756d5d5baac8462492be11524d234f8c",
      "d70879895a1e4d4c9c9b8f7b4017228f",
      "60e1633b9dd64de78ffde5b995336a1e",
      "f34ac3ae47d54def924337862290be86",
      "c5049f086db04324b89f32f0ace88ed8",
      "9beec03d2f734e2cb2a4c9d302aeaa93",
      "6ebb44447a3749cabb1c9641aab60e8b",
      "6a435ec303d04ea48396146942823da3",
      "ac60d9d797344a57bca01800f44bb847",
      "0628a23f0c504dfc92bba5461d19916a",
      "7602514f70584b8d9027abfbd6fbd9d1",
      "786f1dc95d6a4f2a987e63c00759a404",
      "a1c3fb992b9d417094fdd19bfa9b3e9e",
      "5a22b2cd56a2498aa1bc2585e02a9a7c",
      "bb92a592fe954eb0af3b5fb7398a3f61",
      "9b9530fbe38241c6baf8a0ad532de10a",
      "88175fd09aa842cdbfc8cf913f4d5180",
      "1ce77663bc47485db8546935999e6039",
      "11afb02e60164dd2ad20ddebdbb0ee0d",
      "d6b2732a477f4fc2b4586cc47ab883c5",
      "40f778eb4bd14be393151b5b3543181b",
      "0277f04cbb0f4026b80c311bb369ec3d",
      "4b5171893ca4425393d59fced57c234d",
      "6d55f3f2b9424c4e8cfc39001a72d4d9",
      "336d378d85284bcaa2fb4dffc233d21d",
      "992b2a0a8cd14f53828a016a7a8a4ccc",
      "dd199421b7864dcf9ceb813e88084d01",
      "b0a273cba69449658055ca7717a9182b",
      "47706b833aeb4b4d977e144f2da3cee0",
      "44caa02fe37b4e16abca2479ba38481e",
      "d504d8d0ce0c4c4686a5e1187d7754d1",
      "cebb76ce52de4919afb83aa0d1567a10",
      "88ec83c3f7a546abb591e4e7a261a06b",
      "9ff736da809f4e5e97429358552a3551",
      "1d13a133b71247d3b658dd8992876048",
      "c59d22d54d94439d83c1b96515960b95",
      "bea921e10c3a4758984d98bbcdf6e3a3",
      "cfd6c384477b4481a7b11b81f77b6172",
      "61c8b2446a1c43ed9563a786bd0f085d",
      "e7a705d6ecdc4eed96ad0d55a4f06787",
      "c5935771c801400aac454a27fd429727",
      "2403123dc63b4a06a3eb73b873306a72",
      "2f28b3f5fc394b5ab0de1f66ea69a7ff",
      "a5292d8ba05140eb9ea0d1051a5f5ff8",
      "a0c7b29c77624ea2b8be567521ee95c5",
      "ed4ed9e3d97f49869df832a1cebcfca3",
      "04f162d094044c679fb63a05fb09d354",
      "2a1e6e97efd4427fb7da23097fbb9b98",
      "9b82ba4382574f9bba58ea72f58edc82",
      "3a115f50bd1a48ca86f767b8d82a35ed",
      "1966223c488544c78f7fed4f37fc04cd",
      "fafe22610ea8451591d86ea10070a1b4",
      "675d750c3e234ff2919d2fd4dd9a5373"
     ]
    },
    "executionInfo": {
     "elapsed": 14315,
     "status": "ok",
     "timestamp": 1761825750451,
     "user": {
      "displayName": "晖景 PT26 筹募组",
      "userId": "03792069924342625156"
     },
     "user_tz": -480
    },
    "id": "afdd8de3917c931a",
    "outputId": "545872d0-8881-4357-b2f9-21a9654d2129"
   },
   "outputs": [
    {
     "name": "stderr",
     "output_type": "stream",
     "text": [
      "/usr/local/lib/python3.12/dist-packages/huggingface_hub/utils/_auth.py:94: UserWarning: \n",
      "The secret `HF_TOKEN` does not exist in your Colab secrets.\n",
      "To authenticate with the Hugging Face Hub, create a token in your settings tab (https://huggingface.co/settings/tokens), set it as secret in your Google Colab and restart your session.\n",
      "You will be able to reuse this secret in all of your notebooks.\n",
      "Please note that authentication is recommended but still optional to access public models or datasets.\n",
      "  warnings.warn(\n"
     ]
    },
    {
     "data": {
      "application/vnd.jupyter.widget-view+json": {
       "model_id": "bfd0e7d0655e4f4dbb1d339a4f420700",
       "version_major": 2,
       "version_minor": 0
      },
      "text/plain": [
       "config.json: 0.00B [00:00, ?B/s]"
      ]
     },
     "metadata": {},
     "output_type": "display_data"
    },
    {
     "data": {
      "application/vnd.jupyter.widget-view+json": {
       "model_id": "811bdb341ed14c46815f150c9ff44f79",
       "version_major": 2,
       "version_minor": 0
      },
      "text/plain": [
       "pytorch_model.bin:   0%|          | 0.00/605M [00:00<?, ?B/s]"
      ]
     },
     "metadata": {},
     "output_type": "display_data"
    },
    {
     "data": {
      "application/vnd.jupyter.widget-view+json": {
       "model_id": "3f803273c7894a789ca6eaa3d8214ed0",
       "version_major": 2,
       "version_minor": 0
      },
      "text/plain": [
       "model.safetensors:   0%|          | 0.00/605M [00:00<?, ?B/s]"
      ]
     },
     "metadata": {},
     "output_type": "display_data"
    },
    {
     "name": "stderr",
     "output_type": "stream",
     "text": [
      "Using a slow image processor as `use_fast` is unset and a slow processor was saved with this model. `use_fast=True` will be the default behavior in v4.52, even if the model was saved with a slow processor. This will result in minor differences in outputs. You'll still be able to use a slow processor with `use_fast=False`.\n"
     ]
    },
    {
     "data": {
      "application/vnd.jupyter.widget-view+json": {
       "model_id": "0beb39bd72b9414081d648a8134dcaba",
       "version_major": 2,
       "version_minor": 0
      },
      "text/plain": [
       "preprocessor_config.json:   0%|          | 0.00/316 [00:00<?, ?B/s]"
      ]
     },
     "metadata": {},
     "output_type": "display_data"
    },
    {
     "data": {
      "application/vnd.jupyter.widget-view+json": {
       "model_id": "eddc58df59174c7890c4789d62eb1a55",
       "version_major": 2,
       "version_minor": 0
      },
      "text/plain": [
       "tokenizer_config.json:   0%|          | 0.00/592 [00:00<?, ?B/s]"
      ]
     },
     "metadata": {},
     "output_type": "display_data"
    },
    {
     "data": {
      "application/vnd.jupyter.widget-view+json": {
       "model_id": "0628a23f0c504dfc92bba5461d19916a",
       "version_major": 2,
       "version_minor": 0
      },
      "text/plain": [
       "vocab.json: 0.00B [00:00, ?B/s]"
      ]
     },
     "metadata": {},
     "output_type": "display_data"
    },
    {
     "data": {
      "application/vnd.jupyter.widget-view+json": {
       "model_id": "40f778eb4bd14be393151b5b3543181b",
       "version_major": 2,
       "version_minor": 0
      },
      "text/plain": [
       "merges.txt: 0.00B [00:00, ?B/s]"
      ]
     },
     "metadata": {},
     "output_type": "display_data"
    },
    {
     "data": {
      "application/vnd.jupyter.widget-view+json": {
       "model_id": "cebb76ce52de4919afb83aa0d1567a10",
       "version_major": 2,
       "version_minor": 0
      },
      "text/plain": [
       "tokenizer.json: 0.00B [00:00, ?B/s]"
      ]
     },
     "metadata": {},
     "output_type": "display_data"
    },
    {
     "data": {
      "application/vnd.jupyter.widget-view+json": {
       "model_id": "2f28b3f5fc394b5ab0de1f66ea69a7ff",
       "version_major": 2,
       "version_minor": 0
      },
      "text/plain": [
       "special_tokens_map.json:   0%|          | 0.00/389 [00:00<?, ?B/s]"
      ]
     },
     "metadata": {},
     "output_type": "display_data"
    }
   ],
   "source": [
    "\n",
    "class Cfg:\n",
    "    model_id: str = \"openai/clip-vit-base-patch32\"\n",
    "    batch_size: int = 32\n",
    "    epochs: int = 40\n",
    "    seed:   int = 42\n",
    "\n",
    "    # -------- Optim & Loss ----------\n",
    "    lr_head: float = 1e-3      # 线性头\n",
    "    wd_head: float = 1e-4\n",
    "    lr_lora: float = 1e-4      # LoRA 注入层\n",
    "    wd_lora: float = 1e-2\n",
    "    lambda_text: float = 0.3   # 文本对齐辅助损失权重\n",
    "\n",
    "    early_stopping: bool = True\n",
    "    early_stop_patience = 3\n",
    "    early_stop_minimum_improvement:float = 0.02\n",
    "\n",
    "\n",
    "    # -------- LoRA ----------\n",
    "    lora_rank: int = 8\n",
    "    lora_alpha: int = 16\n",
    "    lora_dropout: float = 0.0\n",
    "    lora_target: tuple = (\"q_proj\",\"k_proj\",\"v_proj\",\"out_proj\")  # 只对注意力投影层做LoRA\n",
    "    # 也可扩展到 MLP 内部 proj，但注意稳定性\n",
    "\n",
    "    amp: bool = True\n",
    "\n",
    "cfg = Cfg()\n",
    "\n",
    "PREPROCESS_DATA_ROOT = \"data/preprocessed\"\n",
    "torch.manual_seed(cfg.seed)\n",
    "model_id = \"openai/clip-vit-base-patch32\"\n",
    "clip_model = CLIPModel.from_pretrained(model_id).to(device).eval()\n",
    "processor  = CLIPProcessor.from_pretrained(model_id)"
   ]
  },
  {
   "cell_type": "code",
   "execution_count": 3,
   "id": "2a9dfdb42fcf2a",
   "metadata": {
    "ExecuteTime": {
     "end_time": "2025-10-28T08:46:43.038777Z",
     "start_time": "2025-10-28T08:46:42.066988Z"
    },
    "colab": {
     "base_uri": "https://localhost:8080/",
     "height": 1000
    },
    "executionInfo": {
     "elapsed": 307402,
     "status": "ok",
     "timestamp": 1761826057872,
     "user": {
      "displayName": "晖景 PT26 筹募组",
      "userId": "03792069924342625156"
     },
     "user_tz": -480
    },
    "id": "2a9dfdb42fcf2a",
    "outputId": "c3d7714b-4668-47c9-b3af-13fa57130a41"
   },
   "outputs": [
    {
     "name": "stderr",
     "output_type": "stream",
     "text": [
      "100%|██████████| 345M/345M [00:13<00:00, 26.3MB/s]\n",
      "100%|██████████| 502/502 [00:00<00:00, 2.39MB/s]\n",
      "100%|██████████| 15.0k/15.0k [00:00<00:00, 34.9MB/s]\n"
     ]
    },
    {
     "name": "stdout",
     "output_type": "stream",
     "text": [
      "Preprocessing train data...\n"
     ]
    },
    {
     "name": "stderr",
     "output_type": "stream",
     "text": [
      "Preprocessing train: 100%|██████████| 32/32 [00:09<00:00,  3.35it/s]\n"
     ]
    },
    {
     "name": "stdout",
     "output_type": "stream",
     "text": [
      "Saved → data/preprocessed/train.pt (pixels: torch.Size([1020, 3, 224, 224]), dtype=torch.float32)\n",
      "Performing Garbage Cleaning...\n",
      "Preprocessing val data...\n"
     ]
    },
    {
     "name": "stderr",
     "output_type": "stream",
     "text": [
      "Preprocessing val: 100%|██████████| 32/32 [00:09<00:00,  3.40it/s]\n"
     ]
    },
    {
     "name": "stdout",
     "output_type": "stream",
     "text": [
      "Saved → data/preprocessed/val.pt (pixels: torch.Size([1020, 3, 224, 224]), dtype=torch.float32)\n",
      "Performing Garbage Cleaning...\n",
      "Preprocessing test data...\n"
     ]
    },
    {
     "name": "stderr",
     "output_type": "stream",
     "text": [
      "Preprocessing test: 100%|██████████| 193/193 [01:14<00:00,  2.59it/s]\n"
     ]
    },
    {
     "name": "stdout",
     "output_type": "stream",
     "text": [
      "Saved → data/preprocessed/test.pt (pixels: torch.Size([6149, 3, 224, 224]), dtype=torch.float32)\n",
      "Performing Garbage Cleaning...\n"
     ]
    },
    {
     "data": {
      "text/plain": [
       "['pink primrose',\n",
       " 'hard-leaved pocket orchid',\n",
       " 'canterbury bells',\n",
       " 'sweet pea',\n",
       " 'english marigold',\n",
       " 'tiger lily',\n",
       " 'moon orchid',\n",
       " 'bird of paradise',\n",
       " 'monkshood',\n",
       " 'globe thistle',\n",
       " 'snapdragon',\n",
       " \"colt's foot\",\n",
       " 'king protea',\n",
       " 'spear thistle',\n",
       " 'yellow iris',\n",
       " 'globe-flower',\n",
       " 'purple coneflower',\n",
       " 'peruvian lily',\n",
       " 'balloon flower',\n",
       " 'giant white arum lily',\n",
       " 'fire lily',\n",
       " 'pincushion flower',\n",
       " 'fritillary',\n",
       " 'red ginger',\n",
       " 'grape hyacinth',\n",
       " 'corn poppy',\n",
       " 'prince of wales feathers',\n",
       " 'stemless gentian',\n",
       " 'artichoke',\n",
       " 'sweet william',\n",
       " 'carnation',\n",
       " 'garden phlox',\n",
       " 'love in the mist',\n",
       " 'mexican aster',\n",
       " 'alpine sea holly',\n",
       " 'ruby-lipped cattleya',\n",
       " 'cape flower',\n",
       " 'great masterwort',\n",
       " 'siam tulip',\n",
       " 'lenten rose',\n",
       " 'barbeton daisy',\n",
       " 'daffodil',\n",
       " 'sword lily',\n",
       " 'poinsettia',\n",
       " 'bolero deep blue',\n",
       " 'wallflower',\n",
       " 'marigold',\n",
       " 'buttercup',\n",
       " 'oxeye daisy',\n",
       " 'common dandelion',\n",
       " 'petunia',\n",
       " 'wild pansy',\n",
       " 'primula',\n",
       " 'sunflower',\n",
       " 'pelargonium',\n",
       " 'bishop of llandaff',\n",
       " 'gaura',\n",
       " 'geranium',\n",
       " 'orange dahlia',\n",
       " 'pink-yellow dahlia?',\n",
       " 'cautleya spicata',\n",
       " 'japanese anemone',\n",
       " 'black-eyed susan',\n",
       " 'silverbush',\n",
       " 'californian poppy',\n",
       " 'osteospermum',\n",
       " 'spring crocus',\n",
       " 'bearded iris',\n",
       " 'windflower',\n",
       " 'tree poppy',\n",
       " 'gazania',\n",
       " 'azalea',\n",
       " 'water lily',\n",
       " 'rose',\n",
       " 'thorn apple',\n",
       " 'morning glory',\n",
       " 'passion flower',\n",
       " 'lotus',\n",
       " 'toad lily',\n",
       " 'anthurium',\n",
       " 'frangipani',\n",
       " 'clematis',\n",
       " 'hibiscus',\n",
       " 'columbine',\n",
       " 'desert-rose',\n",
       " 'tree mallow',\n",
       " 'magnolia',\n",
       " 'cyclamen',\n",
       " 'watercress',\n",
       " 'canna lily',\n",
       " 'hippeastrum',\n",
       " 'bee balm',\n",
       " 'ball moss',\n",
       " 'foxglove',\n",
       " 'bougainvillea',\n",
       " 'camellia',\n",
       " 'mallow',\n",
       " 'mexican petunia',\n",
       " 'bromelia',\n",
       " 'blanket flower',\n",
       " 'trumpet creeper',\n",
       " 'blackberry lily']"
      ]
     },
     "execution_count": 3,
     "metadata": {},
     "output_type": "execute_result"
    }
   ],
   "source": [
    "# ---------- 2. Load Dataset ----------\n",
    "def collate_pil(batch):\n",
    "    # batch: List[ (PIL.Image.Image, int) ]\n",
    "    images, labels = zip(*batch)           # images: tuple of PIL, labels: tuple of int\n",
    "    return list(images), torch.tensor(labels)  # 让 processor 接收 list[PIL]，labels 变成 LongTensor\n",
    "\n",
    "def preprocess_dataset(split=\"train\",data_root='data',outputdir=\"data/preprocessed\",batchsize=cfg.batch_size,fp16=False):\n",
    "    os.makedirs(outputdir,exist_ok=True)\n",
    "    dataset = datasets.Flowers102(root=data_root, split=split, download=True)\n",
    "    classes = dataset.classes\n",
    "    loader = DataLoader(dataset, batch_size=batchsize, shuffle= True if split==\"train\" else False, num_workers=0,collate_fn=collate_pil)\n",
    "\n",
    "    # Allocate RAM\n",
    "    N = len(dataset)\n",
    "    C, H, W = 3, 224, 224\n",
    "    pixels = torch.empty((N,C,H,W), dtype=torch.float32 if not fp16 else torch.float16)\n",
    "    labels = torch.empty(N, dtype=torch.long)\n",
    "\n",
    "    print(f\"Preprocessing {split} data...\")\n",
    "\n",
    "    index = 0\n",
    "    with torch.no_grad():\n",
    "        for images, y in tqdm(loader,desc=f\"Preprocessing {split}\"):\n",
    "            pix = processor(images=images,return_tensors=\"pt\")['pixel_values']\n",
    "            if fp16:\n",
    "                pix = pix.half()\n",
    "            b = pix.size(0) # patch size\n",
    "            pixels[index:index+b] = pix\n",
    "            labels[index:index+b] = y\n",
    "            index += b\n",
    "\n",
    "\n",
    "    out_path = os.path.join(outputdir, f\"{split}.pt\")\n",
    "    torch.save({\"pixel_values\": pixels, \"labels\": labels, \"fp16\": fp16,\"classes\":classes}, out_path)\n",
    "    print(f\"Saved → {out_path} (pixels: {pixels.shape}, dtype={pixels.dtype})\")\n",
    "\n",
    "    print(\"Performing Garbage Cleaning...\")\n",
    "    del pixels, labels\n",
    "    torch.cuda.empty_cache()\n",
    "    gc.collect()\n",
    "\n",
    "    # for notebook\n",
    "    %reset_selective -f pixels\n",
    "    %reset_selective -f labels\n",
    "\n",
    "class CacheDataset:\n",
    "    def __init__(self, split=\"train\", root=\"data/preprocessed\"):\n",
    "        path = os.path.join(root, f\"{split}.pt\")\n",
    "        obj = torch.load(path, map_location=\"cpu\")\n",
    "        self.pixel_values = obj[\"pixel_values\"]\n",
    "        self.labels = obj[\"labels\"]\n",
    "        self.fp16 = bool(obj.get(\"fp16\", False))\n",
    "        self.classes = obj['classes']\n",
    "\n",
    "    def __len__(self):\n",
    "        return self.labels.numel()\n",
    "\n",
    "    def __getitem__(self, idx):\n",
    "        return self.pixel_values[idx], self.labels[idx]\n",
    "\n",
    "\n",
    "# Preprocess and save dataset\n",
    "if not os.path.exists(os.path.join(PREPROCESS_DATA_ROOT, \"train.pt\")):\n",
    "    preprocess_dataset(split=\"train\",data_root=\"data\",outputdir=PREPROCESS_DATA_ROOT,fp16=False)\n",
    "if not os.path.exists(os.path.join(PREPROCESS_DATA_ROOT, \"val.pt\")):\n",
    "    preprocess_dataset(split=\"val\",data_root=\"data\",outputdir=PREPROCESS_DATA_ROOT,fp16=False)\n",
    "if not os.path.exists(os.path.join(PREPROCESS_DATA_ROOT, \"test.pt\")):\n",
    "    preprocess_dataset(split=\"test\",data_root=\"data\",outputdir=PREPROCESS_DATA_ROOT,fp16=False)\n",
    "\n",
    "\n",
    "\n",
    "\n",
    "#Load dataset\n",
    "train_set = CacheDataset(split=\"train\")\n",
    "val_set = CacheDataset(split=\"val\")\n",
    "test_set = CacheDataset(split=\"test\")\n",
    "\n",
    "classname = val_set.classes\n",
    "classname\n",
    "\n",
    "\n"
   ]
  },
  {
   "cell_type": "code",
   "execution_count": null,
   "id": "d1a8294a5bd088ae",
   "metadata": {
    "ExecuteTime": {
     "end_time": "2025-10-28T08:46:43.041072Z",
     "start_time": "2025-10-28T08:46:43.038777Z"
    },
    "id": "d1a8294a5bd088ae"
   },
   "outputs": [],
   "source": []
  },
  {
   "cell_type": "code",
   "execution_count": 4,
   "id": "e55416c71fb1fdb0",
   "metadata": {
    "ExecuteTime": {
     "end_time": "2025-10-28T08:46:43.069590Z",
     "start_time": "2025-10-28T08:46:43.041072Z"
    },
    "executionInfo": {
     "elapsed": 17,
     "status": "ok",
     "timestamp": 1761826057884,
     "user": {
      "displayName": "晖景 PT26 筹募组",
      "userId": "03792069924342625156"
     },
     "user_tz": -480
    },
    "id": "e55416c71fb1fdb0"
   },
   "outputs": [],
   "source": [
    "# ---------- 3. DataLoader ----------\n",
    "# ---------- Process of images is put on epoch loops\n",
    "\n",
    "train_loader = DataLoader(\n",
    "    train_set, batch_size=cfg.batch_size, shuffle=True,\n",
    "    num_workers=0, pin_memory=True\n",
    "    #workers should be 4, but got problems in notebook\n",
    ")\n",
    "val_loader = DataLoader(\n",
    "    val_set, batch_size=cfg.batch_size, shuffle=False,\n",
    "    num_workers=0, pin_memory=True\n",
    ")\n",
    "test_loader = DataLoader(\n",
    "    test_set, batch_size=cfg.batch_size, shuffle=False,\n",
    "    num_workers=0, pin_memory=True\n",
    ")"
   ]
  },
  {
   "cell_type": "markdown",
   "id": "ea3ab3c785fcbdf5",
   "metadata": {
    "id": "ea3ab3c785fcbdf5"
   },
   "source": [
    "---\n",
    "## Model Setting and Training"
   ]
  },
  {
   "cell_type": "code",
   "execution_count": 5,
   "id": "2d9682cb89ba6dc0",
   "metadata": {
    "ExecuteTime": {
     "end_time": "2025-10-28T08:46:44.088769Z",
     "start_time": "2025-10-28T08:46:43.069590Z"
    },
    "colab": {
     "base_uri": "https://localhost:8080/"
    },
    "executionInfo": {
     "elapsed": 1596,
     "status": "ok",
     "timestamp": 1761826059485,
     "user": {
      "displayName": "晖景 PT26 筹募组",
      "userId": "03792069924342625156"
     },
     "user_tz": -480
    },
    "id": "2d9682cb89ba6dc0",
    "outputId": "8e9f048c-f29b-4a9a-cb71-d60526c1b392"
   },
   "outputs": [
    {
     "name": "stderr",
     "output_type": "stream",
     "text": [
      "TextEmbed: 100%|██████████| 102/102 [00:01<00:00, 63.25it/s]\n"
     ]
    }
   ],
   "source": [
    "# Word Prompt Embedding\n",
    "import torch\n",
    "from tqdm import tqdm\n",
    "\n",
    "promptTemplate = {\n",
    "    \"A photo of {}.\",\n",
    "    \"A photo of flower {}.\",\n",
    "    \"Botanic picture of {}\",\n",
    "    \"A example picture of type {}\"\n",
    "}\n",
    "# Use more templates to reduce sensitivity to other contexts\n",
    "\n",
    "@torch.no_grad()\n",
    "def build_text_embeddings(names):\n",
    "    embs = []\n",
    "    for name in tqdm(names, desc=\"TextEmbed\"):\n",
    "        prompts = [t.format(name.replace(\"_\",\" \")) for t in promptTemplate] # insert class names\n",
    "        inputs = processor(text=prompts, return_tensors=\"pt\", padding=True).to(device)\n",
    "        te = clip_model.get_text_features(**inputs)     # [T, D]\n",
    "        te = te / te.norm(dim=-1, keepdim=True)\n",
    "        embs.append(te.mean(dim=0))                     # [D]\n",
    "    text = torch.stack(embs, dim=0)                     # [C, D]\n",
    "    return text / text.norm(dim=-1, keepdim=True)\n",
    "\n",
    "text_embs = build_text_embeddings(classname)          # [102, D], 固定不训练\n",
    "\n"
   ]
  },
  {
   "cell_type": "markdown",
   "id": "c5246531ba1768ef",
   "metadata": {
    "id": "c5246531ba1768ef"
   },
   "source": [
    "----\n",
    "## Building CLIP model with LoRA and word embedding.\n",
    "\n",
    "Have to implement a LoRA linear layer ourselves."
   ]
  },
  {
   "cell_type": "code",
   "execution_count": 6,
   "id": "63a9ba3e82edb850",
   "metadata": {
    "ExecuteTime": {
     "end_time": "2025-10-28T06:31:54.228616Z",
     "start_time": "2025-10-28T06:31:54.220619Z"
    },
    "executionInfo": {
     "elapsed": 5,
     "status": "ok",
     "timestamp": 1761826059496,
     "user": {
      "displayName": "晖景 PT26 筹募组",
      "userId": "03792069924342625156"
     },
     "user_tz": -480
    },
    "id": "63a9ba3e82edb850"
   },
   "outputs": [],
   "source": [
    "# LoRA Injection (Trains LoRA matries only)\n",
    "import torch, torch.nn as nn\n",
    "from transformers.models.clip.modeling_clip import CLIPVisionModel\n",
    "\n",
    "# y = w0 + x*(BA)*alpha/rank\n",
    "# Shape of A: din by rank / Shape of B: rank by dout\n",
    "class LoRALinearLayer(nn.Module):\n",
    "    def __init__(self, base: nn.Linear, r=8, alpha=16, dropout=0.0):\n",
    "\n",
    "        super().__init__()\n",
    "        self.base = base # linear layer frozen for training LoRA parameters\n",
    "        self.r = r\n",
    "        self.scaling = alpha / r\n",
    "        dev = base.weight.device\n",
    "        dt  = base.weight.dtype\n",
    "\n",
    "\n",
    "\n",
    "        if r > 0:\n",
    "            self.lora_A = nn.Linear(base.in_features, r, bias=False).to(dev, dtype=dt)\n",
    "            self.lora_B = nn.Linear(r, base.out_features, bias=False).to(dev, dtype=dt)\n",
    "            self.dropout = nn.Dropout(dropout)\n",
    "            nn.init.kaiming_uniform_(self.lora_A.weight,a=5**0.5)\n",
    "            nn.init.zeros_(self.lora_B.weight) # set B to 0, avoid any bias introduced.\n",
    "        else:\n",
    "            self.lora_A = None\n",
    "            self.lora_B = None\n",
    "            self.dropout = nn.Identity()\n",
    "\n",
    "            #Frozen\n",
    "        for p in self.base.parameters():\n",
    "            p.requires_grad = False\n",
    "\n",
    "    def forward(self, x):\n",
    "        if self.r > 0:\n",
    "            return self.base(x) + self.dropout(self.lora_B(self.lora_A(x))) * self.scaling\n",
    "        else:\n",
    "            return self.base(x)\n",
    "\n",
    "\n",
    "# LoRA Injection with warped LoRA layer shown above.\n",
    "\n",
    "def lora_injection(clip_model: nn.Module, target_names=(\"q_proj\",\"k_proj\",\"v_proj\",\"out_proj\")):\n",
    "    \"\"\"\n",
    "    \"\"\"\n",
    "    assert isinstance(clip_model.vision_model, CLIPVisionModel.__mro__[0].__class__) or hasattr(clip_model, \"vision_model\")\n",
    "    lora_params = []\n",
    "    for name, module in clip_model.vision_model.named_modules():\n",
    "        # injection to clip/transformer attention layer: q_proj/k_proj/v_proj/out_proj\n",
    "        for t in target_names:\n",
    "            if hasattr(module, t):\n",
    "                lin = getattr(module, t)\n",
    "                if isinstance(lin, nn.Linear):\n",
    "                    lora_lin = LoRALinearLayer(lin, r=cfg.lora_rank, alpha=cfg.lora_alpha, dropout=cfg.lora_dropout)\n",
    "                    setattr(module, t, lora_lin)\n",
    "                    lora_params += list(lora_lin.lora_A.parameters()) + list(lora_lin.lora_B.parameters())\n",
    "    # Freeze the parameters\n",
    "    for p in clip_model.vision_model.parameters():\n",
    "        p.requires_grad = False\n",
    "    for p in lora_params:\n",
    "        p.requires_grad = True\n",
    "    return lora_params\n",
    "\n",
    "def build_head_and_optim(clip_model: CLIPModel):\n",
    "    feat_dim = clip_model.config.projection_dim  # ViT-B/32 = 512\n",
    "    head = nn.Linear(feat_dim, 102).to(device)\n",
    "\n",
    "    lora_params = lora_injection(clip_model, target_names=cfg.lora_target)\n",
    "    clip_model.to(device)\n",
    "\n",
    "    # 2 parameter groups: LoRA and linear head\n",
    "    optim = torch.optim.AdamW(\n",
    "        [\n",
    "            {\"params\": head.parameters(),      \"lr\": cfg.lr_head, \"weight_decay\": cfg.wd_head},\n",
    "            {\"params\": lora_params,            \"lr\": cfg.lr_lora, \"weight_decay\": cfg.wd_lora},\n",
    "        ]\n",
    "    )\n",
    "    scaler = torch.amp.GradScaler(enabled=(device==\"cuda\" and cfg.amp))\n",
    "    return head, optim, scaler\n"
   ]
  },
  {
   "cell_type": "code",
   "execution_count": 7,
   "id": "8a444b54cc7e7aa4",
   "metadata": {
    "ExecuteTime": {
     "end_time": "2025-10-28T06:31:58.564938Z",
     "start_time": "2025-10-28T06:31:58.554578Z"
    },
    "executionInfo": {
     "elapsed": 119,
     "status": "ok",
     "timestamp": 1761826059619,
     "user": {
      "displayName": "晖景 PT26 筹募组",
      "userId": "03792069924342625156"
     },
     "user_tz": -480
    },
    "id": "8a444b54cc7e7aa4"
   },
   "outputs": [],
   "source": [
    "head, optimizer, scaler = build_head_and_optim(clip_model)\n",
    "ce = torch.nn.CrossEntropyLoss()\n",
    "\n",
    "def get_image_feats(images):\n",
    "    # images are actual tensor now\n",
    "    # assume it's preprocessed\n",
    "    if isinstance(images, torch.Tensor):\n",
    "        pixel_values = images.to(device, dtype=torch.float16 if (device==\"cuda\" and cfg.amp) else torch.float32)\n",
    "    else:\n",
    "        inputs = processor(images=images, return_tensors=\"pt\").to(device)\n",
    "        pixel_values = inputs[\"pixel_values\"]\n",
    "\n",
    "    feats = clip_model.get_image_features(pixel_values=pixel_values)           # [B, D]\n",
    "    feats = feats / feats.norm(dim=-1, keepdim=True)\n",
    "    return feats\n",
    "\n",
    "def supervised_logits(feats):\n",
    "    return head(feats)                                        # [B, 102]\n",
    "\n",
    "def text_logits(feats):\n",
    "    # perform cosine similarity with text embedding.\n",
    "    return (feats @ text_embs.T) * clip_model.logit_scale.exp()"
   ]
  },
  {
   "cell_type": "markdown",
   "id": "ecf8ad5eafb9cbda",
   "metadata": {
    "id": "ecf8ad5eafb9cbda"
   },
   "source": [
    "\n",
    "----\n",
    "## Main Training Epoch"
   ]
  },
  {
   "cell_type": "code",
   "execution_count": 8,
   "id": "75d9230be58c43ff",
   "metadata": {
    "ExecuteTime": {
     "end_time": "2025-10-28T06:32:55.319113Z",
     "start_time": "2025-10-28T06:32:55.313182Z"
    },
    "executionInfo": {
     "elapsed": 19,
     "status": "ok",
     "timestamp": 1761826059645,
     "user": {
      "displayName": "晖景 PT26 筹募组",
      "userId": "03792069924342625156"
     },
     "user_tz": -480
    },
    "id": "75d9230be58c43ff"
   },
   "outputs": [],
   "source": [
    "class EarlyStopper:\n",
    "    def __init__(self):\n",
    "        self.counter = 0\n",
    "        self.last_loss = 0\n",
    "        self.patience = cfg.early_stop_patience\n",
    "        self.enable = cfg.early_stopping\n",
    "        self.delta = cfg.early_stop_minimum_improvement\n",
    "    def report(self,loss):\n",
    "        if self.last_loss - loss < self.delta:\n",
    "            self.counter += 1\n",
    "        else:\n",
    "            self.counter = 0\n",
    "        self.last_loss = loss\n",
    "\n",
    "    def stop_flag(self):\n",
    "        return self.enable and (self.counter >= self.patience)\n",
    "\n",
    "def run_epoch(loader: DataLoader, train: bool=True):\n",
    "    if train:\n",
    "        head.train()\n",
    "        clip_model.train()\n",
    "    else:\n",
    "        head.eval()\n",
    "        clip_model.eval()\n",
    "\n",
    "    total, correct_cls, correct_txt = 0, 0, 0\n",
    "    loss_sum = 0.0\n",
    "    for images, labels in tqdm(loader, desc=\"Train\" if train else \"Eval\"):\n",
    "        labels = labels.to(device)\n",
    "        with torch.amp.autocast(device_type=device,enabled=(device==\"cuda\" and cfg.amp)):\n",
    "            feats = get_image_feats(images)                   # [B, D]\n",
    "\n",
    "            logits_cls = supervised_logits(feats) # logits of classification score from linear layer head\n",
    "            loss_cls = ce(logits_cls, labels)\n",
    "\n",
    "            logits_txt = text_logits(feats) # logits of text embedding trained in transformer\n",
    "            loss_txt = ce(logits_txt, labels)\n",
    "            # Alignment between text and img.\n",
    "\n",
    "            loss = loss_cls + cfg.lambda_text * loss_txt # weighted\n",
    "\n",
    "\n",
    "        if train:\n",
    "            # backward propagation\n",
    "            optimizer.zero_grad()\n",
    "            scaler.scale(loss).backward()\n",
    "            scaler.step(optimizer)\n",
    "            scaler.update()\n",
    "\n",
    "\n",
    "        #Stats\n",
    "\n",
    "        loss_sum += loss.item() * labels.size(0)\n",
    "        total += labels.size(0)\n",
    "        correct_cls += (logits_cls.argmax(dim=-1) == labels).sum().item()\n",
    "        correct_txt += (logits_txt.argmax(dim=-1) == labels).sum().item()\n",
    "\n",
    "    loss_avg = loss_sum / total\n",
    "\n",
    "    return {\n",
    "    \"loss\": loss_avg,\n",
    "    \"acc_cls\": correct_cls/total,   # 线性头准确率\n",
    "    \"acc_txt\": correct_txt/total,   # 文本读出准确率（zero-shot 风格）\n",
    "}\n",
    "\n"
   ]
  },
  {
   "cell_type": "code",
   "execution_count": 18,
   "id": "11a145942664fd64",
   "metadata": {
    "ExecuteTime": {
     "end_time": "2025-10-28T06:35:27.954872Z",
     "start_time": "2025-10-28T06:32:55.729490Z"
    },
    "colab": {
     "base_uri": "https://localhost:8080/"
    },
    "executionInfo": {
     "elapsed": 162162,
     "status": "ok",
     "timestamp": 1761827795818,
     "user": {
      "displayName": "晖景 PT26 筹募组",
      "userId": "03792069924342625156"
     },
     "user_tz": -480
    },
    "id": "11a145942664fd64",
    "outputId": "97cfd005-7195-4623-90a4-27f2a30756e1"
   },
   "outputs": [
    {
     "name": "stderr",
     "output_type": "stream",
     "text": [
      "Train: 100%|██████████| 32/32 [00:02<00:00, 10.76it/s]\n",
      "Eval: 100%|██████████| 32/32 [00:01<00:00, 24.81it/s]\n"
     ]
    },
    {
     "name": "stdout",
     "output_type": "stream",
     "text": [
      "[1/40] Train: loss=5.0605 acc_cls=0.0382 acc_txt=0.6578 | Val:   loss=4.9554 acc_cls=0.1725 acc_txt=0.7020\n"
     ]
    },
    {
     "name": "stderr",
     "output_type": "stream",
     "text": [
      "Train: 100%|██████████| 32/32 [00:02<00:00, 13.21it/s]\n",
      "Eval: 100%|██████████| 32/32 [00:01<00:00, 24.70it/s]\n"
     ]
    },
    {
     "name": "stdout",
     "output_type": "stream",
     "text": [
      "[2/40] Train: loss=4.8601 acc_cls=0.3578 acc_txt=0.7225 | Val:   loss=4.7804 acc_cls=0.5245 acc_txt=0.7461\n"
     ]
    },
    {
     "name": "stderr",
     "output_type": "stream",
     "text": [
      "Train: 100%|██████████| 32/32 [00:02<00:00, 13.13it/s]\n",
      "Eval: 100%|██████████| 32/32 [00:01<00:00, 24.62it/s]\n"
     ]
    },
    {
     "name": "stdout",
     "output_type": "stream",
     "text": [
      "[3/40] Train: loss=4.6129 acc_cls=0.7490 acc_txt=0.8078 | Val:   loss=4.5712 acc_cls=0.7990 acc_txt=0.7912\n"
     ]
    },
    {
     "name": "stderr",
     "output_type": "stream",
     "text": [
      "Train: 100%|██████████| 32/32 [00:02<00:00, 11.91it/s]\n",
      "Eval: 100%|██████████| 32/32 [00:01<00:00, 24.75it/s]\n"
     ]
    },
    {
     "name": "stdout",
     "output_type": "stream",
     "text": [
      "[4/40] Train: loss=4.3281 acc_cls=0.9137 acc_txt=0.8873 | Val:   loss=4.3523 acc_cls=0.8686 acc_txt=0.8049\n"
     ]
    },
    {
     "name": "stderr",
     "output_type": "stream",
     "text": [
      "Train: 100%|██████████| 32/32 [00:02<00:00, 12.19it/s]\n",
      "Eval: 100%|██████████| 32/32 [00:01<00:00, 24.70it/s]\n"
     ]
    },
    {
     "name": "stdout",
     "output_type": "stream",
     "text": [
      "[5/40] Train: loss=4.0508 acc_cls=0.9549 acc_txt=0.9529 | Val:   loss=4.1288 acc_cls=0.8735 acc_txt=0.8137\n"
     ]
    },
    {
     "name": "stderr",
     "output_type": "stream",
     "text": [
      "Train: 100%|██████████| 32/32 [00:02<00:00, 12.99it/s]\n",
      "Eval: 100%|██████████| 32/32 [00:01<00:00, 24.72it/s]\n"
     ]
    },
    {
     "name": "stdout",
     "output_type": "stream",
     "text": [
      "[6/40] Train: loss=3.7849 acc_cls=0.9667 acc_txt=0.9755 | Val:   loss=3.9163 acc_cls=0.8814 acc_txt=0.8186\n"
     ]
    },
    {
     "name": "stderr",
     "output_type": "stream",
     "text": [
      "Train: 100%|██████████| 32/32 [00:02<00:00, 11.95it/s]\n",
      "Eval: 100%|██████████| 32/32 [00:01<00:00, 24.81it/s]\n"
     ]
    },
    {
     "name": "stdout",
     "output_type": "stream",
     "text": [
      "[7/40] Train: loss=3.5335 acc_cls=0.9784 acc_txt=0.9863 | Val:   loss=3.7264 acc_cls=0.8971 acc_txt=0.8069\n"
     ]
    },
    {
     "name": "stderr",
     "output_type": "stream",
     "text": [
      "Train: 100%|██████████| 32/32 [00:02<00:00, 12.95it/s]\n",
      "Eval: 100%|██████████| 32/32 [00:01<00:00, 24.57it/s]\n"
     ]
    },
    {
     "name": "stdout",
     "output_type": "stream",
     "text": [
      "[8/40] Train: loss=3.3036 acc_cls=0.9843 acc_txt=0.9902 | Val:   loss=3.5309 acc_cls=0.8980 acc_txt=0.8098\n"
     ]
    },
    {
     "name": "stderr",
     "output_type": "stream",
     "text": [
      "Train: 100%|██████████| 32/32 [00:02<00:00, 12.86it/s]\n",
      "Eval: 100%|██████████| 32/32 [00:01<00:00, 24.71it/s]\n"
     ]
    },
    {
     "name": "stdout",
     "output_type": "stream",
     "text": [
      "[9/40] Train: loss=3.0815 acc_cls=0.9912 acc_txt=0.9941 | Val:   loss=3.3423 acc_cls=0.9059 acc_txt=0.8118\n"
     ]
    },
    {
     "name": "stderr",
     "output_type": "stream",
     "text": [
      "Train: 100%|██████████| 32/32 [00:02<00:00, 12.16it/s]\n",
      "Eval: 100%|██████████| 32/32 [00:01<00:00, 23.26it/s]\n"
     ]
    },
    {
     "name": "stdout",
     "output_type": "stream",
     "text": [
      "[10/40] Train: loss=2.8729 acc_cls=0.9902 acc_txt=0.9971 | Val:   loss=3.1774 acc_cls=0.9029 acc_txt=0.8010\n"
     ]
    },
    {
     "name": "stderr",
     "output_type": "stream",
     "text": [
      "Train: 100%|██████████| 32/32 [00:02<00:00, 12.99it/s]\n",
      "Eval: 100%|██████████| 32/32 [00:01<00:00, 24.55it/s]\n"
     ]
    },
    {
     "name": "stdout",
     "output_type": "stream",
     "text": [
      "[11/40] Train: loss=2.6698 acc_cls=0.9912 acc_txt=0.9971 | Val:   loss=3.0121 acc_cls=0.9049 acc_txt=0.8078\n"
     ]
    },
    {
     "name": "stderr",
     "output_type": "stream",
     "text": [
      "Train: 100%|██████████| 32/32 [00:02<00:00, 13.01it/s]\n",
      "Eval: 100%|██████████| 32/32 [00:01<00:00, 24.72it/s]\n"
     ]
    },
    {
     "name": "stdout",
     "output_type": "stream",
     "text": [
      "[12/40] Train: loss=2.4755 acc_cls=0.9951 acc_txt=0.9990 | Val:   loss=2.8765 acc_cls=0.9039 acc_txt=0.8010\n"
     ]
    },
    {
     "name": "stderr",
     "output_type": "stream",
     "text": [
      "Train: 100%|██████████| 32/32 [00:02<00:00, 12.56it/s]\n",
      "Eval: 100%|██████████| 32/32 [00:01<00:00, 21.98it/s]\n"
     ]
    },
    {
     "name": "stdout",
     "output_type": "stream",
     "text": [
      "[13/40] Train: loss=2.2855 acc_cls=0.9961 acc_txt=0.9990 | Val:   loss=2.7142 acc_cls=0.9039 acc_txt=0.8039\n"
     ]
    },
    {
     "name": "stderr",
     "output_type": "stream",
     "text": [
      "Train: 100%|██████████| 32/32 [00:02<00:00, 13.06it/s]\n",
      "Eval: 100%|██████████| 32/32 [00:01<00:00, 24.83it/s]\n"
     ]
    },
    {
     "name": "stdout",
     "output_type": "stream",
     "text": [
      "[14/40] Train: loss=2.1024 acc_cls=0.9980 acc_txt=0.9980 | Val:   loss=2.5678 acc_cls=0.9029 acc_txt=0.8167\n"
     ]
    },
    {
     "name": "stderr",
     "output_type": "stream",
     "text": [
      "Train: 100%|██████████| 32/32 [00:02<00:00, 13.12it/s]\n",
      "Eval: 100%|██████████| 32/32 [00:01<00:00, 24.68it/s]\n"
     ]
    },
    {
     "name": "stdout",
     "output_type": "stream",
     "text": [
      "[15/40] Train: loss=1.9284 acc_cls=0.9980 acc_txt=1.0000 | Val:   loss=2.4732 acc_cls=0.9020 acc_txt=0.7951\n"
     ]
    },
    {
     "name": "stderr",
     "output_type": "stream",
     "text": [
      "Train: 100%|██████████| 32/32 [00:02<00:00, 12.76it/s]\n",
      "Eval: 100%|██████████| 32/32 [00:01<00:00, 21.57it/s]\n"
     ]
    },
    {
     "name": "stdout",
     "output_type": "stream",
     "text": [
      "[16/40] Train: loss=1.7602 acc_cls=1.0000 acc_txt=1.0000 | Val:   loss=2.3323 acc_cls=0.9108 acc_txt=0.7961\n"
     ]
    },
    {
     "name": "stderr",
     "output_type": "stream",
     "text": [
      "Train: 100%|██████████| 32/32 [00:02<00:00, 13.16it/s]\n",
      "Eval: 100%|██████████| 32/32 [00:01<00:00, 24.81it/s]\n"
     ]
    },
    {
     "name": "stdout",
     "output_type": "stream",
     "text": [
      "[17/40] Train: loss=1.6019 acc_cls=1.0000 acc_txt=1.0000 | Val:   loss=2.2160 acc_cls=0.9127 acc_txt=0.7941\n"
     ]
    },
    {
     "name": "stderr",
     "output_type": "stream",
     "text": [
      "Train: 100%|██████████| 32/32 [00:02<00:00, 13.18it/s]\n",
      "Eval: 100%|██████████| 32/32 [00:01<00:00, 24.89it/s]\n"
     ]
    },
    {
     "name": "stdout",
     "output_type": "stream",
     "text": [
      "[18/40] Train: loss=1.4521 acc_cls=1.0000 acc_txt=1.0000 | Val:   loss=2.1094 acc_cls=0.9147 acc_txt=0.7990\n"
     ]
    },
    {
     "name": "stderr",
     "output_type": "stream",
     "text": [
      "Train: 100%|██████████| 32/32 [00:02<00:00, 13.17it/s]\n",
      "Eval: 100%|██████████| 32/32 [00:01<00:00, 22.23it/s]\n"
     ]
    },
    {
     "name": "stdout",
     "output_type": "stream",
     "text": [
      "[19/40] Train: loss=1.3131 acc_cls=1.0000 acc_txt=1.0000 | Val:   loss=2.0085 acc_cls=0.9216 acc_txt=0.7882\n"
     ]
    },
    {
     "name": "stderr",
     "output_type": "stream",
     "text": [
      "Train: 100%|██████████| 32/32 [00:02<00:00, 12.44it/s]\n",
      "Eval: 100%|██████████| 32/32 [00:01<00:00, 24.78it/s]\n"
     ]
    },
    {
     "name": "stdout",
     "output_type": "stream",
     "text": [
      "[20/40] Train: loss=1.1826 acc_cls=1.0000 acc_txt=1.0000 | Val:   loss=1.9215 acc_cls=0.9206 acc_txt=0.7824\n"
     ]
    },
    {
     "name": "stderr",
     "output_type": "stream",
     "text": [
      "Train: 100%|██████████| 32/32 [00:02<00:00, 13.07it/s]\n",
      "Eval: 100%|██████████| 32/32 [00:01<00:00, 24.88it/s]\n"
     ]
    },
    {
     "name": "stdout",
     "output_type": "stream",
     "text": [
      "[21/40] Train: loss=1.0635 acc_cls=1.0000 acc_txt=1.0000 | Val:   loss=1.8568 acc_cls=0.9186 acc_txt=0.7735\n"
     ]
    },
    {
     "name": "stderr",
     "output_type": "stream",
     "text": [
      "Train: 100%|██████████| 32/32 [00:02<00:00, 13.19it/s]\n",
      "Eval: 100%|██████████| 32/32 [00:01<00:00, 22.96it/s]\n"
     ]
    },
    {
     "name": "stdout",
     "output_type": "stream",
     "text": [
      "[22/40] Train: loss=0.9548 acc_cls=1.0000 acc_txt=1.0000 | Val:   loss=1.7731 acc_cls=0.9167 acc_txt=0.7784\n"
     ]
    },
    {
     "name": "stderr",
     "output_type": "stream",
     "text": [
      "Train: 100%|██████████| 32/32 [00:02<00:00, 12.25it/s]\n",
      "Eval: 100%|██████████| 32/32 [00:01<00:00, 24.88it/s]\n"
     ]
    },
    {
     "name": "stdout",
     "output_type": "stream",
     "text": [
      "[23/40] Train: loss=0.8566 acc_cls=1.0000 acc_txt=1.0000 | Val:   loss=1.6872 acc_cls=0.9216 acc_txt=0.7814\n"
     ]
    },
    {
     "name": "stderr",
     "output_type": "stream",
     "text": [
      "Train: 100%|██████████| 32/32 [00:02<00:00, 13.12it/s]\n",
      "Eval: 100%|██████████| 32/32 [00:01<00:00, 25.01it/s]\n"
     ]
    },
    {
     "name": "stdout",
     "output_type": "stream",
     "text": [
      "[24/40] Train: loss=0.7682 acc_cls=1.0000 acc_txt=1.0000 | Val:   loss=1.6450 acc_cls=0.9167 acc_txt=0.7794\n"
     ]
    },
    {
     "name": "stderr",
     "output_type": "stream",
     "text": [
      "Train: 100%|██████████| 32/32 [00:02<00:00, 13.10it/s]\n",
      "Eval: 100%|██████████| 32/32 [00:01<00:00, 23.98it/s]\n"
     ]
    },
    {
     "name": "stdout",
     "output_type": "stream",
     "text": [
      "[25/40] Train: loss=0.6896 acc_cls=1.0000 acc_txt=1.0000 | Val:   loss=1.5718 acc_cls=0.9167 acc_txt=0.7804\n"
     ]
    },
    {
     "name": "stderr",
     "output_type": "stream",
     "text": [
      "Train: 100%|██████████| 32/32 [00:02<00:00, 12.12it/s]\n",
      "Eval: 100%|██████████| 32/32 [00:01<00:00, 25.04it/s]\n"
     ]
    },
    {
     "name": "stdout",
     "output_type": "stream",
     "text": [
      "[26/40] Train: loss=0.6183 acc_cls=1.0000 acc_txt=1.0000 | Val:   loss=1.5337 acc_cls=0.9206 acc_txt=0.7755\n"
     ]
    },
    {
     "name": "stderr",
     "output_type": "stream",
     "text": [
      "Train: 100%|██████████| 32/32 [00:02<00:00, 13.11it/s]\n",
      "Eval: 100%|██████████| 32/32 [00:01<00:00, 24.49it/s]\n"
     ]
    },
    {
     "name": "stdout",
     "output_type": "stream",
     "text": [
      "[27/40] Train: loss=0.5565 acc_cls=1.0000 acc_txt=1.0000 | Val:   loss=1.4720 acc_cls=0.9167 acc_txt=0.7784\n"
     ]
    },
    {
     "name": "stderr",
     "output_type": "stream",
     "text": [
      "Train: 100%|██████████| 32/32 [00:02<00:00, 13.06it/s]\n",
      "Eval: 100%|██████████| 32/32 [00:01<00:00, 24.89it/s]\n"
     ]
    },
    {
     "name": "stdout",
     "output_type": "stream",
     "text": [
      "[28/40] Train: loss=0.5016 acc_cls=1.0000 acc_txt=1.0000 | Val:   loss=1.4431 acc_cls=0.9147 acc_txt=0.7706\n"
     ]
    },
    {
     "name": "stderr",
     "output_type": "stream",
     "text": [
      "Train: 100%|██████████| 32/32 [00:02<00:00, 11.79it/s]\n",
      "Eval: 100%|██████████| 32/32 [00:01<00:00, 24.81it/s]\n"
     ]
    },
    {
     "name": "stdout",
     "output_type": "stream",
     "text": [
      "[29/40] Train: loss=0.4526 acc_cls=1.0000 acc_txt=1.0000 | Val:   loss=1.3796 acc_cls=0.9196 acc_txt=0.7775\n"
     ]
    },
    {
     "name": "stderr",
     "output_type": "stream",
     "text": [
      "Train: 100%|██████████| 32/32 [00:02<00:00, 13.08it/s]\n",
      "Eval: 100%|██████████| 32/32 [00:01<00:00, 24.64it/s]\n"
     ]
    },
    {
     "name": "stdout",
     "output_type": "stream",
     "text": [
      "[30/40] Train: loss=0.4101 acc_cls=1.0000 acc_txt=1.0000 | Val:   loss=1.3579 acc_cls=0.9176 acc_txt=0.7745\n"
     ]
    },
    {
     "name": "stderr",
     "output_type": "stream",
     "text": [
      "Train: 100%|██████████| 32/32 [00:02<00:00, 13.04it/s]\n",
      "Eval: 100%|██████████| 32/32 [00:01<00:00, 24.90it/s]\n"
     ]
    },
    {
     "name": "stdout",
     "output_type": "stream",
     "text": [
      "[31/40] Train: loss=0.3726 acc_cls=1.0000 acc_txt=1.0000 | Val:   loss=1.3358 acc_cls=0.9147 acc_txt=0.7696\n"
     ]
    },
    {
     "name": "stderr",
     "output_type": "stream",
     "text": [
      "Train: 100%|██████████| 32/32 [00:02<00:00, 12.00it/s]\n",
      "Eval: 100%|██████████| 32/32 [00:01<00:00, 23.65it/s]\n"
     ]
    },
    {
     "name": "stdout",
     "output_type": "stream",
     "text": [
      "[32/40] Train: loss=0.3399 acc_cls=1.0000 acc_txt=1.0000 | Val:   loss=1.2977 acc_cls=0.9167 acc_txt=0.7824\n"
     ]
    },
    {
     "name": "stderr",
     "output_type": "stream",
     "text": [
      "Train: 100%|██████████| 32/32 [00:02<00:00, 13.03it/s]\n",
      "Eval: 100%|██████████| 32/32 [00:01<00:00, 24.66it/s]\n"
     ]
    },
    {
     "name": "stdout",
     "output_type": "stream",
     "text": [
      "[33/40] Train: loss=0.3100 acc_cls=1.0000 acc_txt=1.0000 | Val:   loss=1.2747 acc_cls=0.9167 acc_txt=0.7725\n"
     ]
    },
    {
     "name": "stderr",
     "output_type": "stream",
     "text": [
      "Train: 100%|██████████| 32/32 [00:02<00:00, 13.10it/s]\n",
      "Eval: 100%|██████████| 32/32 [00:01<00:00, 24.75it/s]\n"
     ]
    },
    {
     "name": "stdout",
     "output_type": "stream",
     "text": [
      "[34/40] Train: loss=0.2837 acc_cls=1.0000 acc_txt=1.0000 | Val:   loss=1.2430 acc_cls=0.9088 acc_txt=0.7804\n"
     ]
    },
    {
     "name": "stderr",
     "output_type": "stream",
     "text": [
      "Train: 100%|██████████| 32/32 [00:02<00:00, 12.55it/s]\n",
      "Eval: 100%|██████████| 32/32 [00:01<00:00, 22.05it/s]\n"
     ]
    },
    {
     "name": "stdout",
     "output_type": "stream",
     "text": [
      "[35/40] Train: loss=0.2603 acc_cls=1.0000 acc_txt=1.0000 | Val:   loss=1.2159 acc_cls=0.9167 acc_txt=0.7794\n"
     ]
    },
    {
     "name": "stderr",
     "output_type": "stream",
     "text": [
      "Train: 100%|██████████| 32/32 [00:02<00:00, 13.03it/s]\n",
      "Eval: 100%|██████████| 32/32 [00:01<00:00, 24.56it/s]\n"
     ]
    },
    {
     "name": "stdout",
     "output_type": "stream",
     "text": [
      "[36/40] Train: loss=0.2400 acc_cls=1.0000 acc_txt=1.0000 | Val:   loss=1.2096 acc_cls=0.9137 acc_txt=0.7755\n"
     ]
    },
    {
     "name": "stderr",
     "output_type": "stream",
     "text": [
      "Train: 100%|██████████| 32/32 [00:02<00:00, 13.06it/s]\n",
      "Eval: 100%|██████████| 32/32 [00:01<00:00, 24.94it/s]\n"
     ]
    },
    {
     "name": "stdout",
     "output_type": "stream",
     "text": [
      "[37/40] Train: loss=0.2215 acc_cls=1.0000 acc_txt=1.0000 | Val:   loss=1.1870 acc_cls=0.9118 acc_txt=0.7824\n"
     ]
    },
    {
     "name": "stderr",
     "output_type": "stream",
     "text": [
      "Train: 100%|██████████| 32/32 [00:02<00:00, 12.67it/s]\n",
      "Eval: 100%|██████████| 32/32 [00:01<00:00, 22.00it/s]\n"
     ]
    },
    {
     "name": "stdout",
     "output_type": "stream",
     "text": [
      "[38/40] Train: loss=0.2055 acc_cls=1.0000 acc_txt=1.0000 | Val:   loss=1.1708 acc_cls=0.9118 acc_txt=0.7794\n"
     ]
    },
    {
     "name": "stderr",
     "output_type": "stream",
     "text": [
      "Train: 100%|██████████| 32/32 [00:02<00:00, 13.12it/s]\n",
      "Eval: 100%|██████████| 32/32 [00:01<00:00, 24.72it/s]\n"
     ]
    },
    {
     "name": "stdout",
     "output_type": "stream",
     "text": [
      "[39/40] Train: loss=0.1908 acc_cls=1.0000 acc_txt=1.0000 | Val:   loss=1.1614 acc_cls=0.9078 acc_txt=0.7686\n"
     ]
    },
    {
     "name": "stderr",
     "output_type": "stream",
     "text": [
      "Train: 100%|██████████| 32/32 [00:02<00:00, 13.11it/s]\n",
      "Eval: 100%|██████████| 32/32 [00:01<00:00, 24.64it/s]\n"
     ]
    },
    {
     "name": "stdout",
     "output_type": "stream",
     "text": [
      "[40/40] Train: loss=0.1775 acc_cls=1.0000 acc_txt=1.0000 | Val:   loss=1.1484 acc_cls=0.9088 acc_txt=0.7735\n",
      "Early stop triggered...Exiting on epoch 40\n"
     ]
    },
    {
     "name": "stderr",
     "output_type": "stream",
     "text": [
      "Eval: 100%|██████████| 193/193 [00:08<00:00, 23.68it/s]"
     ]
    },
    {
     "name": "stdout",
     "output_type": "stream",
     "text": [
      "Test: loss=2.0857  acc_cls=0.9045  acc_txt=0.7774\n"
     ]
    },
    {
     "name": "stderr",
     "output_type": "stream",
     "text": [
      "\n"
     ]
    }
   ],
   "source": [
    "best_val = -1.0\n",
    "best_head = None\n",
    "earlystop = EarlyStopper()\n",
    "for ep in range(1,cfg.epochs+1):\n",
    "    training = run_epoch(train_loader, train=True)\n",
    "    val = run_epoch(val_loader, train=False)\n",
    "    print(f\"[{ep}/{cfg.epochs}] \"\n",
    "          f\"Train: loss={training['loss']:.4f} acc_cls={training['acc_cls']:.4f} acc_txt={training['acc_txt']:.4f} | \"\n",
    "          f\"Val:   loss={val['loss']:.4f} acc_cls={val['acc_cls']:.4f} acc_txt={val['acc_txt']:.4f}\")\n",
    "\n",
    "\n",
    "    if val[\"acc_cls\"] > best_val:\n",
    "        best_val = val[\"acc_cls\"]\n",
    "        best_head = { k: v.detach().cpu() for k, v in head.state_dict().items() } # Detach the parameters from autograd (keeps weights only)\n",
    "    earlystop.report(val['loss'])\n",
    "    if earlystop.stop_flag():\n",
    "        print(f\"Early stop triggered...Exiting on epoch {ep}\")\n",
    "\n",
    "if best_head is not None:\n",
    "    head.load_state_dict({k: v.to(device) for k, v in best_head.items()})\n",
    "te = run_epoch(test_loader, train=False)\n",
    "print(f\"Test: loss={te['loss']:.4f}  acc_cls={te['acc_cls']:.4f}  acc_txt={te['acc_txt']:.4f}\")\n"
   ]
  },
  {
   "cell_type": "markdown",
   "id": "1d0690dad522e224",
   "metadata": {
    "id": "1d0690dad522e224"
   },
   "source": [
    "## Save trained model\n",
    "### Save head layer and LoRA layers only"
   ]
  },
  {
   "cell_type": "code",
   "execution_count": 19,
   "id": "80d54e14fbbd12cd",
   "metadata": {
    "ExecuteTime": {
     "end_time": "2025-10-28T06:37:32.109619Z",
     "start_time": "2025-10-28T06:37:32.102618Z"
    },
    "executionInfo": {
     "elapsed": 30,
     "status": "ok",
     "timestamp": 1761827795856,
     "user": {
      "displayName": "晖景 PT26 筹募组",
      "userId": "03792069924342625156"
     },
     "user_tz": -480
    },
    "id": "80d54e14fbbd12cd"
   },
   "outputs": [],
   "source": [
    "# Save Trained weights, as only head layer is trained\n",
    "def save_light_model(path,clip_model,head):\n",
    "    # sort out LoRA layers\n",
    "    lora_states = {k:v for k,v in clip_model.state_dict().items() if \"lora_\" in k}\n",
    "    checkpoint = {\n",
    "        \"clip_name\": \"openai/clip-vit-base-patch32\",\n",
    "        \"num_of_classes\": head.out_features,\n",
    "        \"head_state_dict\": head.state_dict(),\n",
    "        \"lora_states\": lora_states,\n",
    "    }\n",
    "    torch.save(checkpoint,path)\n",
    "    print(f\"Light weight model (only contains head and LoRA) saved to {path}\")\n",
    "\n",
    "\n",
    "    # Return clip_lora, head\n",
    "def load_light_simple(path, device=device, lora_targets=(\"q_proj\",\"k_proj\",\"v_proj\",\"out_proj\")):\n",
    "    checkpoint = torch.load(path, map_location=device)\n",
    "    clip_model = CLIPModel.from_pretrained(checkpoint[\"clip_name\"]).to(device)\n",
    "\n",
    "    # Injection again\n",
    "    lora_injection(clip_model, target_names=lora_targets)\n",
    "    # Load weights to injected layers\n",
    "    missing, unexpected = clip_model.load_state_dict(checkpoint[\"lora_states\"], strict=False) # set to false allow partial loading\n",
    "    print(missing, unexpected)\n",
    "\n",
    "    feat_dim = clip_model.config.projection_dim\n",
    "    head = nn.Linear(feat_dim,checkpoint[\"num_of_classes\"]).to(device)\n",
    "    head.load_state_dict(checkpoint[\"head_state_dict\"])\n",
    "\n",
    "    print(f\"[light] loaded ← {path}\")\n",
    "    return clip_model, head\n",
    "\n",
    "\n",
    "\n",
    "from pathlib import Path\n",
    "\n",
    "\n",
    "\n",
    "# Transformer Style Saving\n",
    "\n",
    "def save_full_dir(output_dir, clip_model, head):\n",
    "    output = Path(output_dir)\n",
    "    output.mkdir(parents=True, exist_ok=True)\n",
    "    clip_model.save_pretrained(output)           # 保存到目录（含 LoRA 参数）\n",
    "    torch.save({\"num_classes\": head.out_features,\n",
    "                \"state_dict\": head.state_dict()}, output/\"head.pt\")\n",
    "    print(f\"[full-dir] saved → {output}\")\n",
    "\n",
    "def load_full_dir(output_dir, device=device, lora_targets=(\"q_proj\",\"k_proj\",\"v_proj\",\"out_proj\")):\n",
    "    from transformers import CLIPModel\n",
    "    output = Path(output_dir)\n",
    "\n",
    "    clip_model = CLIPModel.from_pretrained(output).to(device)  # Load from folder\n",
    "    # 如你的保存目录包含了 LoRA 权重（因为它在 state_dict 里），这一步就不用再注入；\n",
    "    # 如果恢复后发现没有 LoRA 结构，可与上面相同：先注入再 load。\n",
    "\n",
    "    head_ckpt = torch.load(output/\"head.pt\", map_location=device)\n",
    "    import torch.nn as nn\n",
    "    head = nn.Linear(clip_model.config.projection_dim, head_ckpt[\"num_classes\"]).to(device)\n",
    "    head.load_state_dict(head_ckpt[\"state_dict\"])\n",
    "    print(f\"[full-dir] loaded ← {output}\")\n",
    "    return clip_model, head\n",
    "\n",
    "\n",
    "\n",
    "\n",
    "\n",
    "\n",
    "\n",
    "# Single File\n",
    "def save_full_model(path,clip_model,head):\n",
    "    checkpoint = {\n",
    "        \"clip_name\": \"openai/clip-vit-base-patch32\",\n",
    "        \"num_of_classes\": head.out_features,\n",
    "        \"clip_state_dict\": clip_model.state_dict(),\n",
    "        \"head_state_dict\": head.state_dict(),\n",
    "    }\n",
    "    torch.save(checkpoint,path)\n",
    "    print(f\"Full  model  saved to {path}\")\n",
    "\n",
    "def load_full_model(path,device=device, lora_targets=(\"q_proj\",\"k_proj\",\"v_proj\",\"out_proj\")):\n",
    "    checkpoint = torch.load(path, map_location=device)\n",
    "\n",
    "    print(checkpoint[\"clip_name\"])\n",
    "    clip_model = CLIPModel.from_pretrained(checkpoint[\"clip_name\"]).to(device)\n",
    "\n",
    "    # Injection again\n",
    "    lora_injection(clip_model, target_names=lora_targets)\n",
    "    # Load weights to injected layers\n",
    "    clip_model.load_state_dict(checkpoint[\"clip_state_dict\"], strict=True) # This time true cause loading full model\n",
    "\n",
    "    head = nn.Linear(clip_model.config.projection_dim,checkpoint[\"num_of_classes\"]).to(device)\n",
    "    head.load_state_dict(checkpoint[\"head_state_dict\"])\n",
    "\n",
    "    print(f\"Full  model  loaded from {path}\")\n",
    "    return clip_model, head\n"
   ]
  },
  {
   "cell_type": "code",
   "execution_count": 20,
   "id": "7b46319ea6fa5074",
   "metadata": {
    "ExecuteTime": {
     "end_time": "2025-10-28T06:37:33.569898Z",
     "start_time": "2025-10-28T06:37:33.551942Z"
    },
    "colab": {
     "base_uri": "https://localhost:8080/"
    },
    "executionInfo": {
     "elapsed": 68,
     "status": "ok",
     "timestamp": 1761827795917,
     "user": {
      "displayName": "晖景 PT26 筹募组",
      "userId": "03792069924342625156"
     },
     "user_tz": -480
    },
    "id": "7b46319ea6fa5074",
    "outputId": "c6e331da-675a-4cf6-98a9-84386f4df785"
   },
   "outputs": [
    {
     "name": "stdout",
     "output_type": "stream",
     "text": [
      "Light weight model (only contains head and LoRA) saved to model/clip_weights.pt\n"
     ]
    }
   ],
   "source": [
    "# Actual Saving Code\n",
    "os.makedirs(\"model\",exist_ok=True)\n",
    "save_light_model(\"model/clip_weights.pt\", clip_model, head)"
   ]
  },
  {
   "cell_type": "code",
   "execution_count": 21,
   "id": "62f1c97dc88c2105",
   "metadata": {
    "ExecuteTime": {
     "end_time": "2025-10-28T06:38:45.278740Z",
     "start_time": "2025-10-28T06:37:34.655336Z"
    },
    "colab": {
     "base_uri": "https://localhost:8080/"
    },
    "executionInfo": {
     "elapsed": 94291,
     "status": "ok",
     "timestamp": 1761827890210,
     "user": {
      "displayName": "晖景 PT26 筹募组",
      "userId": "03792069924342625156"
     },
     "user_tz": -480
    },
    "id": "62f1c97dc88c2105",
    "outputId": "a12842d7-ea12-40fc-8c64-a389889d881e"
   },
   "outputs": [
    {
     "name": "stdout",
     "output_type": "stream",
     "text": [
      "['logit_scale', 'text_model.embeddings.token_embedding.weight', 'text_model.embeddings.position_embedding.weight', 'text_model.encoder.layers.0.self_attn.k_proj.weight', 'text_model.encoder.layers.0.self_attn.k_proj.bias', 'text_model.encoder.layers.0.self_attn.v_proj.weight', 'text_model.encoder.layers.0.self_attn.v_proj.bias', 'text_model.encoder.layers.0.self_attn.q_proj.weight', 'text_model.encoder.layers.0.self_attn.q_proj.bias', 'text_model.encoder.layers.0.self_attn.out_proj.weight', 'text_model.encoder.layers.0.self_attn.out_proj.bias', 'text_model.encoder.layers.0.layer_norm1.weight', 'text_model.encoder.layers.0.layer_norm1.bias', 'text_model.encoder.layers.0.mlp.fc1.weight', 'text_model.encoder.layers.0.mlp.fc1.bias', 'text_model.encoder.layers.0.mlp.fc2.weight', 'text_model.encoder.layers.0.mlp.fc2.bias', 'text_model.encoder.layers.0.layer_norm2.weight', 'text_model.encoder.layers.0.layer_norm2.bias', 'text_model.encoder.layers.1.self_attn.k_proj.weight', 'text_model.encoder.layers.1.self_attn.k_proj.bias', 'text_model.encoder.layers.1.self_attn.v_proj.weight', 'text_model.encoder.layers.1.self_attn.v_proj.bias', 'text_model.encoder.layers.1.self_attn.q_proj.weight', 'text_model.encoder.layers.1.self_attn.q_proj.bias', 'text_model.encoder.layers.1.self_attn.out_proj.weight', 'text_model.encoder.layers.1.self_attn.out_proj.bias', 'text_model.encoder.layers.1.layer_norm1.weight', 'text_model.encoder.layers.1.layer_norm1.bias', 'text_model.encoder.layers.1.mlp.fc1.weight', 'text_model.encoder.layers.1.mlp.fc1.bias', 'text_model.encoder.layers.1.mlp.fc2.weight', 'text_model.encoder.layers.1.mlp.fc2.bias', 'text_model.encoder.layers.1.layer_norm2.weight', 'text_model.encoder.layers.1.layer_norm2.bias', 'text_model.encoder.layers.2.self_attn.k_proj.weight', 'text_model.encoder.layers.2.self_attn.k_proj.bias', 'text_model.encoder.layers.2.self_attn.v_proj.weight', 'text_model.encoder.layers.2.self_attn.v_proj.bias', 'text_model.encoder.layers.2.self_attn.q_proj.weight', 'text_model.encoder.layers.2.self_attn.q_proj.bias', 'text_model.encoder.layers.2.self_attn.out_proj.weight', 'text_model.encoder.layers.2.self_attn.out_proj.bias', 'text_model.encoder.layers.2.layer_norm1.weight', 'text_model.encoder.layers.2.layer_norm1.bias', 'text_model.encoder.layers.2.mlp.fc1.weight', 'text_model.encoder.layers.2.mlp.fc1.bias', 'text_model.encoder.layers.2.mlp.fc2.weight', 'text_model.encoder.layers.2.mlp.fc2.bias', 'text_model.encoder.layers.2.layer_norm2.weight', 'text_model.encoder.layers.2.layer_norm2.bias', 'text_model.encoder.layers.3.self_attn.k_proj.weight', 'text_model.encoder.layers.3.self_attn.k_proj.bias', 'text_model.encoder.layers.3.self_attn.v_proj.weight', 'text_model.encoder.layers.3.self_attn.v_proj.bias', 'text_model.encoder.layers.3.self_attn.q_proj.weight', 'text_model.encoder.layers.3.self_attn.q_proj.bias', 'text_model.encoder.layers.3.self_attn.out_proj.weight', 'text_model.encoder.layers.3.self_attn.out_proj.bias', 'text_model.encoder.layers.3.layer_norm1.weight', 'text_model.encoder.layers.3.layer_norm1.bias', 'text_model.encoder.layers.3.mlp.fc1.weight', 'text_model.encoder.layers.3.mlp.fc1.bias', 'text_model.encoder.layers.3.mlp.fc2.weight', 'text_model.encoder.layers.3.mlp.fc2.bias', 'text_model.encoder.layers.3.layer_norm2.weight', 'text_model.encoder.layers.3.layer_norm2.bias', 'text_model.encoder.layers.4.self_attn.k_proj.weight', 'text_model.encoder.layers.4.self_attn.k_proj.bias', 'text_model.encoder.layers.4.self_attn.v_proj.weight', 'text_model.encoder.layers.4.self_attn.v_proj.bias', 'text_model.encoder.layers.4.self_attn.q_proj.weight', 'text_model.encoder.layers.4.self_attn.q_proj.bias', 'text_model.encoder.layers.4.self_attn.out_proj.weight', 'text_model.encoder.layers.4.self_attn.out_proj.bias', 'text_model.encoder.layers.4.layer_norm1.weight', 'text_model.encoder.layers.4.layer_norm1.bias', 'text_model.encoder.layers.4.mlp.fc1.weight', 'text_model.encoder.layers.4.mlp.fc1.bias', 'text_model.encoder.layers.4.mlp.fc2.weight', 'text_model.encoder.layers.4.mlp.fc2.bias', 'text_model.encoder.layers.4.layer_norm2.weight', 'text_model.encoder.layers.4.layer_norm2.bias', 'text_model.encoder.layers.5.self_attn.k_proj.weight', 'text_model.encoder.layers.5.self_attn.k_proj.bias', 'text_model.encoder.layers.5.self_attn.v_proj.weight', 'text_model.encoder.layers.5.self_attn.v_proj.bias', 'text_model.encoder.layers.5.self_attn.q_proj.weight', 'text_model.encoder.layers.5.self_attn.q_proj.bias', 'text_model.encoder.layers.5.self_attn.out_proj.weight', 'text_model.encoder.layers.5.self_attn.out_proj.bias', 'text_model.encoder.layers.5.layer_norm1.weight', 'text_model.encoder.layers.5.layer_norm1.bias', 'text_model.encoder.layers.5.mlp.fc1.weight', 'text_model.encoder.layers.5.mlp.fc1.bias', 'text_model.encoder.layers.5.mlp.fc2.weight', 'text_model.encoder.layers.5.mlp.fc2.bias', 'text_model.encoder.layers.5.layer_norm2.weight', 'text_model.encoder.layers.5.layer_norm2.bias', 'text_model.encoder.layers.6.self_attn.k_proj.weight', 'text_model.encoder.layers.6.self_attn.k_proj.bias', 'text_model.encoder.layers.6.self_attn.v_proj.weight', 'text_model.encoder.layers.6.self_attn.v_proj.bias', 'text_model.encoder.layers.6.self_attn.q_proj.weight', 'text_model.encoder.layers.6.self_attn.q_proj.bias', 'text_model.encoder.layers.6.self_attn.out_proj.weight', 'text_model.encoder.layers.6.self_attn.out_proj.bias', 'text_model.encoder.layers.6.layer_norm1.weight', 'text_model.encoder.layers.6.layer_norm1.bias', 'text_model.encoder.layers.6.mlp.fc1.weight', 'text_model.encoder.layers.6.mlp.fc1.bias', 'text_model.encoder.layers.6.mlp.fc2.weight', 'text_model.encoder.layers.6.mlp.fc2.bias', 'text_model.encoder.layers.6.layer_norm2.weight', 'text_model.encoder.layers.6.layer_norm2.bias', 'text_model.encoder.layers.7.self_attn.k_proj.weight', 'text_model.encoder.layers.7.self_attn.k_proj.bias', 'text_model.encoder.layers.7.self_attn.v_proj.weight', 'text_model.encoder.layers.7.self_attn.v_proj.bias', 'text_model.encoder.layers.7.self_attn.q_proj.weight', 'text_model.encoder.layers.7.self_attn.q_proj.bias', 'text_model.encoder.layers.7.self_attn.out_proj.weight', 'text_model.encoder.layers.7.self_attn.out_proj.bias', 'text_model.encoder.layers.7.layer_norm1.weight', 'text_model.encoder.layers.7.layer_norm1.bias', 'text_model.encoder.layers.7.mlp.fc1.weight', 'text_model.encoder.layers.7.mlp.fc1.bias', 'text_model.encoder.layers.7.mlp.fc2.weight', 'text_model.encoder.layers.7.mlp.fc2.bias', 'text_model.encoder.layers.7.layer_norm2.weight', 'text_model.encoder.layers.7.layer_norm2.bias', 'text_model.encoder.layers.8.self_attn.k_proj.weight', 'text_model.encoder.layers.8.self_attn.k_proj.bias', 'text_model.encoder.layers.8.self_attn.v_proj.weight', 'text_model.encoder.layers.8.self_attn.v_proj.bias', 'text_model.encoder.layers.8.self_attn.q_proj.weight', 'text_model.encoder.layers.8.self_attn.q_proj.bias', 'text_model.encoder.layers.8.self_attn.out_proj.weight', 'text_model.encoder.layers.8.self_attn.out_proj.bias', 'text_model.encoder.layers.8.layer_norm1.weight', 'text_model.encoder.layers.8.layer_norm1.bias', 'text_model.encoder.layers.8.mlp.fc1.weight', 'text_model.encoder.layers.8.mlp.fc1.bias', 'text_model.encoder.layers.8.mlp.fc2.weight', 'text_model.encoder.layers.8.mlp.fc2.bias', 'text_model.encoder.layers.8.layer_norm2.weight', 'text_model.encoder.layers.8.layer_norm2.bias', 'text_model.encoder.layers.9.self_attn.k_proj.weight', 'text_model.encoder.layers.9.self_attn.k_proj.bias', 'text_model.encoder.layers.9.self_attn.v_proj.weight', 'text_model.encoder.layers.9.self_attn.v_proj.bias', 'text_model.encoder.layers.9.self_attn.q_proj.weight', 'text_model.encoder.layers.9.self_attn.q_proj.bias', 'text_model.encoder.layers.9.self_attn.out_proj.weight', 'text_model.encoder.layers.9.self_attn.out_proj.bias', 'text_model.encoder.layers.9.layer_norm1.weight', 'text_model.encoder.layers.9.layer_norm1.bias', 'text_model.encoder.layers.9.mlp.fc1.weight', 'text_model.encoder.layers.9.mlp.fc1.bias', 'text_model.encoder.layers.9.mlp.fc2.weight', 'text_model.encoder.layers.9.mlp.fc2.bias', 'text_model.encoder.layers.9.layer_norm2.weight', 'text_model.encoder.layers.9.layer_norm2.bias', 'text_model.encoder.layers.10.self_attn.k_proj.weight', 'text_model.encoder.layers.10.self_attn.k_proj.bias', 'text_model.encoder.layers.10.self_attn.v_proj.weight', 'text_model.encoder.layers.10.self_attn.v_proj.bias', 'text_model.encoder.layers.10.self_attn.q_proj.weight', 'text_model.encoder.layers.10.self_attn.q_proj.bias', 'text_model.encoder.layers.10.self_attn.out_proj.weight', 'text_model.encoder.layers.10.self_attn.out_proj.bias', 'text_model.encoder.layers.10.layer_norm1.weight', 'text_model.encoder.layers.10.layer_norm1.bias', 'text_model.encoder.layers.10.mlp.fc1.weight', 'text_model.encoder.layers.10.mlp.fc1.bias', 'text_model.encoder.layers.10.mlp.fc2.weight', 'text_model.encoder.layers.10.mlp.fc2.bias', 'text_model.encoder.layers.10.layer_norm2.weight', 'text_model.encoder.layers.10.layer_norm2.bias', 'text_model.encoder.layers.11.self_attn.k_proj.weight', 'text_model.encoder.layers.11.self_attn.k_proj.bias', 'text_model.encoder.layers.11.self_attn.v_proj.weight', 'text_model.encoder.layers.11.self_attn.v_proj.bias', 'text_model.encoder.layers.11.self_attn.q_proj.weight', 'text_model.encoder.layers.11.self_attn.q_proj.bias', 'text_model.encoder.layers.11.self_attn.out_proj.weight', 'text_model.encoder.layers.11.self_attn.out_proj.bias', 'text_model.encoder.layers.11.layer_norm1.weight', 'text_model.encoder.layers.11.layer_norm1.bias', 'text_model.encoder.layers.11.mlp.fc1.weight', 'text_model.encoder.layers.11.mlp.fc1.bias', 'text_model.encoder.layers.11.mlp.fc2.weight', 'text_model.encoder.layers.11.mlp.fc2.bias', 'text_model.encoder.layers.11.layer_norm2.weight', 'text_model.encoder.layers.11.layer_norm2.bias', 'text_model.final_layer_norm.weight', 'text_model.final_layer_norm.bias', 'vision_model.embeddings.class_embedding', 'vision_model.embeddings.patch_embedding.weight', 'vision_model.embeddings.position_embedding.weight', 'vision_model.pre_layrnorm.weight', 'vision_model.pre_layrnorm.bias', 'vision_model.encoder.layers.0.self_attn.k_proj.base.weight', 'vision_model.encoder.layers.0.self_attn.k_proj.base.bias', 'vision_model.encoder.layers.0.self_attn.v_proj.base.weight', 'vision_model.encoder.layers.0.self_attn.v_proj.base.bias', 'vision_model.encoder.layers.0.self_attn.q_proj.base.weight', 'vision_model.encoder.layers.0.self_attn.q_proj.base.bias', 'vision_model.encoder.layers.0.self_attn.out_proj.base.weight', 'vision_model.encoder.layers.0.self_attn.out_proj.base.bias', 'vision_model.encoder.layers.0.layer_norm1.weight', 'vision_model.encoder.layers.0.layer_norm1.bias', 'vision_model.encoder.layers.0.mlp.fc1.weight', 'vision_model.encoder.layers.0.mlp.fc1.bias', 'vision_model.encoder.layers.0.mlp.fc2.weight', 'vision_model.encoder.layers.0.mlp.fc2.bias', 'vision_model.encoder.layers.0.layer_norm2.weight', 'vision_model.encoder.layers.0.layer_norm2.bias', 'vision_model.encoder.layers.1.self_attn.k_proj.base.weight', 'vision_model.encoder.layers.1.self_attn.k_proj.base.bias', 'vision_model.encoder.layers.1.self_attn.v_proj.base.weight', 'vision_model.encoder.layers.1.self_attn.v_proj.base.bias', 'vision_model.encoder.layers.1.self_attn.q_proj.base.weight', 'vision_model.encoder.layers.1.self_attn.q_proj.base.bias', 'vision_model.encoder.layers.1.self_attn.out_proj.base.weight', 'vision_model.encoder.layers.1.self_attn.out_proj.base.bias', 'vision_model.encoder.layers.1.layer_norm1.weight', 'vision_model.encoder.layers.1.layer_norm1.bias', 'vision_model.encoder.layers.1.mlp.fc1.weight', 'vision_model.encoder.layers.1.mlp.fc1.bias', 'vision_model.encoder.layers.1.mlp.fc2.weight', 'vision_model.encoder.layers.1.mlp.fc2.bias', 'vision_model.encoder.layers.1.layer_norm2.weight', 'vision_model.encoder.layers.1.layer_norm2.bias', 'vision_model.encoder.layers.2.self_attn.k_proj.base.weight', 'vision_model.encoder.layers.2.self_attn.k_proj.base.bias', 'vision_model.encoder.layers.2.self_attn.v_proj.base.weight', 'vision_model.encoder.layers.2.self_attn.v_proj.base.bias', 'vision_model.encoder.layers.2.self_attn.q_proj.base.weight', 'vision_model.encoder.layers.2.self_attn.q_proj.base.bias', 'vision_model.encoder.layers.2.self_attn.out_proj.base.weight', 'vision_model.encoder.layers.2.self_attn.out_proj.base.bias', 'vision_model.encoder.layers.2.layer_norm1.weight', 'vision_model.encoder.layers.2.layer_norm1.bias', 'vision_model.encoder.layers.2.mlp.fc1.weight', 'vision_model.encoder.layers.2.mlp.fc1.bias', 'vision_model.encoder.layers.2.mlp.fc2.weight', 'vision_model.encoder.layers.2.mlp.fc2.bias', 'vision_model.encoder.layers.2.layer_norm2.weight', 'vision_model.encoder.layers.2.layer_norm2.bias', 'vision_model.encoder.layers.3.self_attn.k_proj.base.weight', 'vision_model.encoder.layers.3.self_attn.k_proj.base.bias', 'vision_model.encoder.layers.3.self_attn.v_proj.base.weight', 'vision_model.encoder.layers.3.self_attn.v_proj.base.bias', 'vision_model.encoder.layers.3.self_attn.q_proj.base.weight', 'vision_model.encoder.layers.3.self_attn.q_proj.base.bias', 'vision_model.encoder.layers.3.self_attn.out_proj.base.weight', 'vision_model.encoder.layers.3.self_attn.out_proj.base.bias', 'vision_model.encoder.layers.3.layer_norm1.weight', 'vision_model.encoder.layers.3.layer_norm1.bias', 'vision_model.encoder.layers.3.mlp.fc1.weight', 'vision_model.encoder.layers.3.mlp.fc1.bias', 'vision_model.encoder.layers.3.mlp.fc2.weight', 'vision_model.encoder.layers.3.mlp.fc2.bias', 'vision_model.encoder.layers.3.layer_norm2.weight', 'vision_model.encoder.layers.3.layer_norm2.bias', 'vision_model.encoder.layers.4.self_attn.k_proj.base.weight', 'vision_model.encoder.layers.4.self_attn.k_proj.base.bias', 'vision_model.encoder.layers.4.self_attn.v_proj.base.weight', 'vision_model.encoder.layers.4.self_attn.v_proj.base.bias', 'vision_model.encoder.layers.4.self_attn.q_proj.base.weight', 'vision_model.encoder.layers.4.self_attn.q_proj.base.bias', 'vision_model.encoder.layers.4.self_attn.out_proj.base.weight', 'vision_model.encoder.layers.4.self_attn.out_proj.base.bias', 'vision_model.encoder.layers.4.layer_norm1.weight', 'vision_model.encoder.layers.4.layer_norm1.bias', 'vision_model.encoder.layers.4.mlp.fc1.weight', 'vision_model.encoder.layers.4.mlp.fc1.bias', 'vision_model.encoder.layers.4.mlp.fc2.weight', 'vision_model.encoder.layers.4.mlp.fc2.bias', 'vision_model.encoder.layers.4.layer_norm2.weight', 'vision_model.encoder.layers.4.layer_norm2.bias', 'vision_model.encoder.layers.5.self_attn.k_proj.base.weight', 'vision_model.encoder.layers.5.self_attn.k_proj.base.bias', 'vision_model.encoder.layers.5.self_attn.v_proj.base.weight', 'vision_model.encoder.layers.5.self_attn.v_proj.base.bias', 'vision_model.encoder.layers.5.self_attn.q_proj.base.weight', 'vision_model.encoder.layers.5.self_attn.q_proj.base.bias', 'vision_model.encoder.layers.5.self_attn.out_proj.base.weight', 'vision_model.encoder.layers.5.self_attn.out_proj.base.bias', 'vision_model.encoder.layers.5.layer_norm1.weight', 'vision_model.encoder.layers.5.layer_norm1.bias', 'vision_model.encoder.layers.5.mlp.fc1.weight', 'vision_model.encoder.layers.5.mlp.fc1.bias', 'vision_model.encoder.layers.5.mlp.fc2.weight', 'vision_model.encoder.layers.5.mlp.fc2.bias', 'vision_model.encoder.layers.5.layer_norm2.weight', 'vision_model.encoder.layers.5.layer_norm2.bias', 'vision_model.encoder.layers.6.self_attn.k_proj.base.weight', 'vision_model.encoder.layers.6.self_attn.k_proj.base.bias', 'vision_model.encoder.layers.6.self_attn.v_proj.base.weight', 'vision_model.encoder.layers.6.self_attn.v_proj.base.bias', 'vision_model.encoder.layers.6.self_attn.q_proj.base.weight', 'vision_model.encoder.layers.6.self_attn.q_proj.base.bias', 'vision_model.encoder.layers.6.self_attn.out_proj.base.weight', 'vision_model.encoder.layers.6.self_attn.out_proj.base.bias', 'vision_model.encoder.layers.6.layer_norm1.weight', 'vision_model.encoder.layers.6.layer_norm1.bias', 'vision_model.encoder.layers.6.mlp.fc1.weight', 'vision_model.encoder.layers.6.mlp.fc1.bias', 'vision_model.encoder.layers.6.mlp.fc2.weight', 'vision_model.encoder.layers.6.mlp.fc2.bias', 'vision_model.encoder.layers.6.layer_norm2.weight', 'vision_model.encoder.layers.6.layer_norm2.bias', 'vision_model.encoder.layers.7.self_attn.k_proj.base.weight', 'vision_model.encoder.layers.7.self_attn.k_proj.base.bias', 'vision_model.encoder.layers.7.self_attn.v_proj.base.weight', 'vision_model.encoder.layers.7.self_attn.v_proj.base.bias', 'vision_model.encoder.layers.7.self_attn.q_proj.base.weight', 'vision_model.encoder.layers.7.self_attn.q_proj.base.bias', 'vision_model.encoder.layers.7.self_attn.out_proj.base.weight', 'vision_model.encoder.layers.7.self_attn.out_proj.base.bias', 'vision_model.encoder.layers.7.layer_norm1.weight', 'vision_model.encoder.layers.7.layer_norm1.bias', 'vision_model.encoder.layers.7.mlp.fc1.weight', 'vision_model.encoder.layers.7.mlp.fc1.bias', 'vision_model.encoder.layers.7.mlp.fc2.weight', 'vision_model.encoder.layers.7.mlp.fc2.bias', 'vision_model.encoder.layers.7.layer_norm2.weight', 'vision_model.encoder.layers.7.layer_norm2.bias', 'vision_model.encoder.layers.8.self_attn.k_proj.base.weight', 'vision_model.encoder.layers.8.self_attn.k_proj.base.bias', 'vision_model.encoder.layers.8.self_attn.v_proj.base.weight', 'vision_model.encoder.layers.8.self_attn.v_proj.base.bias', 'vision_model.encoder.layers.8.self_attn.q_proj.base.weight', 'vision_model.encoder.layers.8.self_attn.q_proj.base.bias', 'vision_model.encoder.layers.8.self_attn.out_proj.base.weight', 'vision_model.encoder.layers.8.self_attn.out_proj.base.bias', 'vision_model.encoder.layers.8.layer_norm1.weight', 'vision_model.encoder.layers.8.layer_norm1.bias', 'vision_model.encoder.layers.8.mlp.fc1.weight', 'vision_model.encoder.layers.8.mlp.fc1.bias', 'vision_model.encoder.layers.8.mlp.fc2.weight', 'vision_model.encoder.layers.8.mlp.fc2.bias', 'vision_model.encoder.layers.8.layer_norm2.weight', 'vision_model.encoder.layers.8.layer_norm2.bias', 'vision_model.encoder.layers.9.self_attn.k_proj.base.weight', 'vision_model.encoder.layers.9.self_attn.k_proj.base.bias', 'vision_model.encoder.layers.9.self_attn.v_proj.base.weight', 'vision_model.encoder.layers.9.self_attn.v_proj.base.bias', 'vision_model.encoder.layers.9.self_attn.q_proj.base.weight', 'vision_model.encoder.layers.9.self_attn.q_proj.base.bias', 'vision_model.encoder.layers.9.self_attn.out_proj.base.weight', 'vision_model.encoder.layers.9.self_attn.out_proj.base.bias', 'vision_model.encoder.layers.9.layer_norm1.weight', 'vision_model.encoder.layers.9.layer_norm1.bias', 'vision_model.encoder.layers.9.mlp.fc1.weight', 'vision_model.encoder.layers.9.mlp.fc1.bias', 'vision_model.encoder.layers.9.mlp.fc2.weight', 'vision_model.encoder.layers.9.mlp.fc2.bias', 'vision_model.encoder.layers.9.layer_norm2.weight', 'vision_model.encoder.layers.9.layer_norm2.bias', 'vision_model.encoder.layers.10.self_attn.k_proj.base.weight', 'vision_model.encoder.layers.10.self_attn.k_proj.base.bias', 'vision_model.encoder.layers.10.self_attn.v_proj.base.weight', 'vision_model.encoder.layers.10.self_attn.v_proj.base.bias', 'vision_model.encoder.layers.10.self_attn.q_proj.base.weight', 'vision_model.encoder.layers.10.self_attn.q_proj.base.bias', 'vision_model.encoder.layers.10.self_attn.out_proj.base.weight', 'vision_model.encoder.layers.10.self_attn.out_proj.base.bias', 'vision_model.encoder.layers.10.layer_norm1.weight', 'vision_model.encoder.layers.10.layer_norm1.bias', 'vision_model.encoder.layers.10.mlp.fc1.weight', 'vision_model.encoder.layers.10.mlp.fc1.bias', 'vision_model.encoder.layers.10.mlp.fc2.weight', 'vision_model.encoder.layers.10.mlp.fc2.bias', 'vision_model.encoder.layers.10.layer_norm2.weight', 'vision_model.encoder.layers.10.layer_norm2.bias', 'vision_model.encoder.layers.11.self_attn.k_proj.base.weight', 'vision_model.encoder.layers.11.self_attn.k_proj.base.bias', 'vision_model.encoder.layers.11.self_attn.v_proj.base.weight', 'vision_model.encoder.layers.11.self_attn.v_proj.base.bias', 'vision_model.encoder.layers.11.self_attn.q_proj.base.weight', 'vision_model.encoder.layers.11.self_attn.q_proj.base.bias', 'vision_model.encoder.layers.11.self_attn.out_proj.base.weight', 'vision_model.encoder.layers.11.self_attn.out_proj.base.bias', 'vision_model.encoder.layers.11.layer_norm1.weight', 'vision_model.encoder.layers.11.layer_norm1.bias', 'vision_model.encoder.layers.11.mlp.fc1.weight', 'vision_model.encoder.layers.11.mlp.fc1.bias', 'vision_model.encoder.layers.11.mlp.fc2.weight', 'vision_model.encoder.layers.11.mlp.fc2.bias', 'vision_model.encoder.layers.11.layer_norm2.weight', 'vision_model.encoder.layers.11.layer_norm2.bias', 'vision_model.post_layernorm.weight', 'vision_model.post_layernorm.bias', 'visual_projection.weight', 'text_projection.weight'] []\n",
      "[light] loaded ← model/clip_weights.pt\n",
      "Val Acc = 0.9029 | Test Acc = 0.9045\n"
     ]
    }
   ],
   "source": [
    "# Try loading one\n",
    "clip_model, head = load_light_simple(\"model/clip_weights.pt\")\n",
    "\n",
    "from itertools import islice\n",
    "clip_model.eval()\n",
    "head.eval()\n",
    "processor = CLIPProcessor.from_pretrained(getattr(clip_model, \"name_or_path\", \"openai/clip-vit-base-patch32\"))\n",
    "\n",
    "def collate_pil(batch):\n",
    "    imgs, labels = zip(*batch)\n",
    "    return list(imgs), torch.tensor(labels, dtype=torch.long)\n",
    "\n",
    "val_set  = datasets.Flowers102(root=\"./data\", split=\"val\",  download=True)\n",
    "test_set = datasets.Flowers102(root=\"./data\", split=\"test\", download=True)\n",
    "val_loader  = DataLoader(val_set,  batch_size=64, shuffle=False, num_workers=0, collate_fn=collate_pil)\n",
    "test_loader = DataLoader(test_set, batch_size=64, shuffle=False, num_workers=0, collate_fn=collate_pil)\n",
    "\n",
    "@torch.no_grad()\n",
    "def evaluate_first(loader):\n",
    "    total, correct = 0, 0\n",
    "    for images, labels in loader:\n",
    "        labels = labels.to(device)\n",
    "        inputs = processor(images=images, return_tensors=\"pt\").to(device)\n",
    "        feats = clip_model.get_image_features(**inputs)          # [B, D]\n",
    "        feats = feats / feats.norm(dim=-1, keepdim=True)\n",
    "        logits = head(feats)                                     # [B, C]\n",
    "        pred = logits.argmax(dim=-1)\n",
    "        correct += (pred == labels).sum().item()\n",
    "        total   += labels.size(0)\n",
    "    return correct / total\n",
    "\n",
    "\n",
    "val_acc  = evaluate_first(val_loader)\n",
    "test_acc = evaluate_first(test_loader)\n",
    "print(f\"Val Acc = {val_acc:.4f} | Test Acc = {test_acc:.4f}\")"
   ]
  },
  {
   "cell_type": "code",
   "execution_count": null,
   "id": "eabd4d4d884e5851",
   "metadata": {
    "ExecuteTime": {
     "end_time": "2025-10-27T16:32:24.305874Z",
     "start_time": "2025-10-27T16:32:20.307411Z"
    },
    "id": "eabd4d4d884e5851"
   },
   "outputs": [],
   "source": [
    "# This block saves full model\n",
    "\n",
    "# save_full_model(\"model/full_model.pt\", clip_model, head)\n",
    "# clip_model, head = load_full_model(\"model/full_model.pt\")"
   ]
  },
  {
   "cell_type": "markdown",
   "id": "554c83a3",
   "metadata": {
    "id": "554c83a3"
   },
   "source": [
    "----\n",
    "## Improvement 2: MixUp Data Augmentation\n",
    "Implement MixUp augmentation to improve model robustness through linear interpolation of image pairs and their labels.\n"
   ]
  },
  {
   "cell_type": "markdown",
   "id": "1c0bac3c",
   "metadata": {
    "id": "1c0bac3c"
   },
   "source": [
    "- Mixes pairs of images: x_mixed = λx_i + (1-λ)x_j\n",
    "- Mixes corresponding labels: y_mixed = λy_i + (1-λ)y_j\n",
    "- Uses Beta distribution to sample mixing coefficient λ\n",
    "- Trains a full model with MixUp applied with 50% probability during training\n",
    "- Plots loss and accuracy curves over epochs\n",
    "- Includes proper implementation based on the PyTorch documentation"
   ]
  },
  {
   "cell_type": "code",
   "execution_count": 22,
   "id": "JFZUCCCx9F2Z",
   "metadata": {
    "executionInfo": {
     "elapsed": 106,
     "status": "ok",
     "timestamp": 1761828000473,
     "user": {
      "displayName": "晖景 PT26 筹募组",
      "userId": "03792069924342625156"
     },
     "user_tz": -480
    },
    "id": "JFZUCCCx9F2Z"
   },
   "outputs": [],
   "source": [
    "class MixUpModule:\n",
    "    def __init__(self, alpha=0.5):\n",
    "        self.alpha = float(alpha)\n",
    "\n",
    "    def __call__(self, batch_z, batch_y):\n",
    "        if isinstance(batch_z, (list, tuple)):\n",
    "            batch_z = torch.stack(batch_z, dim=0)\n",
    "\n",
    "        B = batch_z.size(0)\n",
    "        if self.alpha > 0:\n",
    "            lam = np.random.beta(self.alpha, self.alpha, size=B).astype(np.float32)  # (B,)\n",
    "        else:\n",
    "            lam = np.ones(B, dtype=np.float32)\n",
    "\n",
    "        lam = torch.from_numpy(lam).to(batch_z.device)                  # (B,)\n",
    "        index = torch.randperm(B, device=batch_z.device)                # (B,)\n",
    "\n",
    "        # reshape lam for broadcasting over any [B, ...]\n",
    "        view = [B] + [1] * (batch_z.dim() - 1)                          # e.g. [B,1] or [B,1,1,1]\n",
    "        lam_view = lam.view(*view)\n",
    "\n",
    "        mixed_z = lam_view * batch_z + (1.0 - lam_view) * batch_z[index]\n",
    "        y_a, y_b = batch_y, batch_y[index]\n",
    "        return mixed_z, y_a, y_b, lam  # note: return lam as (B,)\n"
   ]
  },
  {
   "cell_type": "code",
   "execution_count": 23,
   "id": "v58UP_2e9LX0",
   "metadata": {
    "executionInfo": {
     "elapsed": 7,
     "status": "ok",
     "timestamp": 1761828001874,
     "user": {
      "displayName": "晖景 PT26 筹募组",
      "userId": "03792069924342625156"
     },
     "user_tz": -480
    },
    "id": "v58UP_2e9LX0"
   },
   "outputs": [],
   "source": [
    "def mixup_criterion(pred, y_a, y_b, lam, loss_fn=None):\n",
    "    if loss_fn is None:\n",
    "        loss_fn = torch.nn.CrossEntropyLoss(reduction=\"none\")  # per-sample\n",
    "    else:\n",
    "        # force per-sample if user passed a loss with default reduction\n",
    "        if not hasattr(loss_fn, \"reduction\") or loss_fn.reduction != \"none\":\n",
    "            loss_fn = torch.nn.CrossEntropyLoss(reduction=\"none\")\n",
    "\n",
    "    loss_a = loss_fn(pred, y_a)     # (B,)\n",
    "    loss_b = loss_fn(pred, y_b)     # (B,)\n",
    "    # lam is (B,)\n",
    "    return (lam * loss_a + (1.0 - lam) * loss_b).mean()\n",
    "\n",
    "def run_epoch_with_mixup(loader, head, clip_model, optimizer, scaler, mixup_module, train=True):\n",
    "    if train:\n",
    "        head.train(); clip_model.train()\n",
    "    else:\n",
    "        head.eval();  clip_model.eval()\n",
    "\n",
    "    total, correct_cls, loss_sum = 0, 0, 0.0\n",
    "    ce_none = torch.nn.CrossEntropyLoss(reduction=\"none\")  # used inside mixup_criterion\n",
    "\n",
    "    for images, labels in tqdm(loader, desc=\"Train MixUp\" if train else \"Eval\"):\n",
    "        labels = labels.to(device)\n",
    "        feats = get_image_feats(images)  # -> tensor on the right device in your setup\n",
    "\n",
    "        # >>> Make MixUp effective: apply every step in train <<<\n",
    "        if train:\n",
    "            feats, y_a, y_b, lam = mixup_module(feats, labels)\n",
    "            with torch.amp.autocast(device_type=device, enabled=(device==\"cuda\" and cfg.amp)):\n",
    "                logits_cls = head(feats)\n",
    "                loss_cls = mixup_criterion(logits_cls, y_a, y_b, lam, ce_none)\n",
    "        else:\n",
    "            with torch.amp.autocast(device_type=device, enabled=(device==\"cuda\" and cfg.amp)):\n",
    "                logits_cls = head(feats)\n",
    "                loss_cls = torch.nn.functional.cross_entropy(logits_cls, labels)\n",
    "\n",
    "        if train:\n",
    "            optimizer.zero_grad(set_to_none=True)\n",
    "            scaler.scale(loss_cls).backward()\n",
    "            scaler.step(optimizer)\n",
    "            scaler.update()\n",
    "\n",
    "        bs = labels.size(0)\n",
    "        loss_sum += loss_cls.item() * bs\n",
    "        total += bs\n",
    "        correct_cls += (logits_cls.argmax(dim=-1) == labels).sum().item()\n",
    "\n",
    "    return {\"loss\": loss_sum / total, \"acc_cls\": correct_cls / total}\n"
   ]
  },
  {
   "cell_type": "markdown",
   "id": "x4YDG2lVDcg-",
   "metadata": {
    "id": "x4YDG2lVDcg-"
   },
   "source": [
    "alpha = 0.2\n"
   ]
  },
  {
   "cell_type": "code",
   "execution_count": null,
   "id": "usVT32px9ZIj",
   "metadata": {
    "colab": {
     "base_uri": "https://localhost:8080/"
    },
    "executionInfo": {
     "elapsed": 816483,
     "status": "ok",
     "timestamp": 1761809142163,
     "user": {
      "displayName": "Yi Hsuen",
      "userId": "12840976340337931072"
     },
     "user_tz": -480
    },
    "id": "usVT32px9ZIj",
    "outputId": "d9f7ffde-a784-4af2-9bef-8a70f25233c3"
   },
   "outputs": [
    {
     "name": "stdout",
     "output_type": "stream",
     "text": [
      "\n",
      "======================================================================\n",
      "TRAINING WITH MIXUP AUGMENTATION\n",
      "======================================================================\n"
     ]
    },
    {
     "name": "stderr",
     "output_type": "stream",
     "text": [
      "Train MixUp: 100%|██████████| 32/32 [00:06<00:00,  4.66it/s]\n",
      "Eval: 100%|██████████| 16/16 [00:14<00:00,  1.12it/s]\n"
     ]
    },
    {
     "name": "stdout",
     "output_type": "stream",
     "text": [
      "[1/40] Train: loss=4.5388 acc=0.2578 | Val: loss=4.4462 acc=0.7265\n"
     ]
    },
    {
     "name": "stderr",
     "output_type": "stream",
     "text": [
      "Train MixUp: 100%|██████████| 32/32 [00:06<00:00,  4.92it/s]\n",
      "Eval: 100%|██████████| 16/16 [00:11<00:00,  1.36it/s]\n"
     ]
    },
    {
     "name": "stdout",
     "output_type": "stream",
     "text": [
      "[2/40] Train: loss=4.3407 acc=0.4549 | Val: loss=4.2719 acc=0.8627\n"
     ]
    },
    {
     "name": "stderr",
     "output_type": "stream",
     "text": [
      "Train MixUp: 100%|██████████| 32/32 [00:06<00:00,  4.89it/s]\n",
      "Eval: 100%|██████████| 16/16 [00:11<00:00,  1.35it/s]\n"
     ]
    },
    {
     "name": "stdout",
     "output_type": "stream",
     "text": [
      "[3/40] Train: loss=4.1523 acc=0.4951 | Val: loss=4.1016 acc=0.8765\n"
     ]
    },
    {
     "name": "stderr",
     "output_type": "stream",
     "text": [
      "Train MixUp: 100%|██████████| 32/32 [00:06<00:00,  4.94it/s]\n",
      "Eval: 100%|██████████| 16/16 [00:11<00:00,  1.39it/s]\n"
     ]
    },
    {
     "name": "stdout",
     "output_type": "stream",
     "text": [
      "[4/40] Train: loss=3.9575 acc=0.5304 | Val: loss=3.9336 acc=0.8873\n"
     ]
    },
    {
     "name": "stderr",
     "output_type": "stream",
     "text": [
      "Train MixUp: 100%|██████████| 32/32 [00:06<00:00,  4.97it/s]\n",
      "Eval: 100%|██████████| 16/16 [00:11<00:00,  1.35it/s]\n"
     ]
    },
    {
     "name": "stdout",
     "output_type": "stream",
     "text": [
      "[5/40] Train: loss=3.7759 acc=0.5010 | Val: loss=3.7678 acc=0.8912\n"
     ]
    },
    {
     "name": "stderr",
     "output_type": "stream",
     "text": [
      "Train MixUp: 100%|██████████| 32/32 [00:06<00:00,  4.95it/s]\n",
      "Eval: 100%|██████████| 16/16 [00:11<00:00,  1.37it/s]\n"
     ]
    },
    {
     "name": "stdout",
     "output_type": "stream",
     "text": [
      "[6/40] Train: loss=3.5832 acc=0.5392 | Val: loss=3.6054 acc=0.8971\n"
     ]
    },
    {
     "name": "stderr",
     "output_type": "stream",
     "text": [
      "Train MixUp: 100%|██████████| 32/32 [00:06<00:00,  4.93it/s]\n",
      "Eval: 100%|██████████| 16/16 [00:11<00:00,  1.36it/s]\n"
     ]
    },
    {
     "name": "stdout",
     "output_type": "stream",
     "text": [
      "[7/40] Train: loss=3.4100 acc=0.5235 | Val: loss=3.4452 acc=0.9000\n"
     ]
    },
    {
     "name": "stderr",
     "output_type": "stream",
     "text": [
      "Train MixUp: 100%|██████████| 32/32 [00:06<00:00,  4.93it/s]\n",
      "Eval: 100%|██████████| 16/16 [00:11<00:00,  1.36it/s]\n"
     ]
    },
    {
     "name": "stdout",
     "output_type": "stream",
     "text": [
      "[8/40] Train: loss=3.2488 acc=0.5186 | Val: loss=3.2917 acc=0.9000\n"
     ]
    },
    {
     "name": "stderr",
     "output_type": "stream",
     "text": [
      "Train MixUp: 100%|██████████| 32/32 [00:06<00:00,  4.96it/s]\n",
      "Eval: 100%|██████████| 16/16 [00:11<00:00,  1.36it/s]\n"
     ]
    },
    {
     "name": "stdout",
     "output_type": "stream",
     "text": [
      "[9/40] Train: loss=3.0667 acc=0.5225 | Val: loss=3.1413 acc=0.9020\n"
     ]
    },
    {
     "name": "stderr",
     "output_type": "stream",
     "text": [
      "Train MixUp: 100%|██████████| 32/32 [00:06<00:00,  4.95it/s]\n",
      "Eval: 100%|██████████| 16/16 [00:11<00:00,  1.37it/s]\n"
     ]
    },
    {
     "name": "stdout",
     "output_type": "stream",
     "text": [
      "[10/40] Train: loss=2.8808 acc=0.5078 | Val: loss=2.9934 acc=0.9049\n"
     ]
    },
    {
     "name": "stderr",
     "output_type": "stream",
     "text": [
      "Train MixUp: 100%|██████████| 32/32 [00:06<00:00,  4.93it/s]\n",
      "Eval: 100%|██████████| 16/16 [00:11<00:00,  1.34it/s]\n"
     ]
    },
    {
     "name": "stdout",
     "output_type": "stream",
     "text": [
      "[11/40] Train: loss=2.7474 acc=0.5069 | Val: loss=2.8525 acc=0.9029\n"
     ]
    },
    {
     "name": "stderr",
     "output_type": "stream",
     "text": [
      "Train MixUp: 100%|██████████| 32/32 [00:06<00:00,  4.95it/s]\n",
      "Eval: 100%|██████████| 16/16 [00:11<00:00,  1.37it/s]\n"
     ]
    },
    {
     "name": "stdout",
     "output_type": "stream",
     "text": [
      "[12/40] Train: loss=2.5883 acc=0.5186 | Val: loss=2.7151 acc=0.9049\n"
     ]
    },
    {
     "name": "stderr",
     "output_type": "stream",
     "text": [
      "Train MixUp: 100%|██████████| 32/32 [00:06<00:00,  4.96it/s]\n",
      "Eval: 100%|██████████| 16/16 [00:11<00:00,  1.34it/s]\n"
     ]
    },
    {
     "name": "stdout",
     "output_type": "stream",
     "text": [
      "[13/40] Train: loss=2.3974 acc=0.5186 | Val: loss=2.5818 acc=0.9029\n"
     ]
    },
    {
     "name": "stderr",
     "output_type": "stream",
     "text": [
      "Train MixUp: 100%|██████████| 32/32 [00:06<00:00,  4.96it/s]\n",
      "Eval: 100%|██████████| 16/16 [00:11<00:00,  1.38it/s]\n"
     ]
    },
    {
     "name": "stdout",
     "output_type": "stream",
     "text": [
      "[14/40] Train: loss=2.2672 acc=0.5431 | Val: loss=2.4556 acc=0.9098\n"
     ]
    },
    {
     "name": "stderr",
     "output_type": "stream",
     "text": [
      "Train MixUp: 100%|██████████| 32/32 [00:06<00:00,  4.93it/s]\n",
      "Eval: 100%|██████████| 16/16 [00:11<00:00,  1.35it/s]\n"
     ]
    },
    {
     "name": "stdout",
     "output_type": "stream",
     "text": [
      "[15/40] Train: loss=2.1304 acc=0.4833 | Val: loss=2.3349 acc=0.9049\n"
     ]
    },
    {
     "name": "stderr",
     "output_type": "stream",
     "text": [
      "Train MixUp: 100%|██████████| 32/32 [00:06<00:00,  4.96it/s]\n",
      "Eval: 100%|██████████| 16/16 [00:11<00:00,  1.37it/s]\n"
     ]
    },
    {
     "name": "stdout",
     "output_type": "stream",
     "text": [
      "[16/40] Train: loss=2.0037 acc=0.5245 | Val: loss=2.2208 acc=0.9049\n"
     ]
    },
    {
     "name": "stderr",
     "output_type": "stream",
     "text": [
      "Train MixUp: 100%|██████████| 32/32 [00:06<00:00,  4.94it/s]\n",
      "Eval: 100%|██████████| 16/16 [00:11<00:00,  1.35it/s]\n"
     ]
    },
    {
     "name": "stdout",
     "output_type": "stream",
     "text": [
      "[17/40] Train: loss=1.8981 acc=0.5225 | Val: loss=2.1118 acc=0.9059\n"
     ]
    },
    {
     "name": "stderr",
     "output_type": "stream",
     "text": [
      "Train MixUp: 100%|██████████| 32/32 [00:06<00:00,  4.94it/s]\n",
      "Eval: 100%|██████████| 16/16 [00:11<00:00,  1.38it/s]\n"
     ]
    },
    {
     "name": "stdout",
     "output_type": "stream",
     "text": [
      "[18/40] Train: loss=1.8114 acc=0.5245 | Val: loss=2.0103 acc=0.9029\n"
     ]
    },
    {
     "name": "stderr",
     "output_type": "stream",
     "text": [
      "Train MixUp: 100%|██████████| 32/32 [00:06<00:00,  4.94it/s]\n",
      "Eval: 100%|██████████| 16/16 [00:11<00:00,  1.36it/s]\n"
     ]
    },
    {
     "name": "stdout",
     "output_type": "stream",
     "text": [
      "[19/40] Train: loss=1.7009 acc=0.5176 | Val: loss=1.9147 acc=0.9020\n"
     ]
    },
    {
     "name": "stderr",
     "output_type": "stream",
     "text": [
      "Train MixUp: 100%|██████████| 32/32 [00:06<00:00,  4.95it/s]\n",
      "Eval: 100%|██████████| 16/16 [00:11<00:00,  1.37it/s]\n"
     ]
    },
    {
     "name": "stdout",
     "output_type": "stream",
     "text": [
      "[20/40] Train: loss=1.5362 acc=0.5069 | Val: loss=1.8243 acc=0.9010\n"
     ]
    },
    {
     "name": "stderr",
     "output_type": "stream",
     "text": [
      "Train MixUp: 100%|██████████| 32/32 [00:06<00:00,  4.93it/s]\n",
      "Eval: 100%|██████████| 16/16 [00:11<00:00,  1.35it/s]\n"
     ]
    },
    {
     "name": "stdout",
     "output_type": "stream",
     "text": [
      "[21/40] Train: loss=1.4722 acc=0.5108 | Val: loss=1.7403 acc=0.9020\n"
     ]
    },
    {
     "name": "stderr",
     "output_type": "stream",
     "text": [
      "Train MixUp: 100%|██████████| 32/32 [00:06<00:00,  4.95it/s]\n",
      "Eval: 100%|██████████| 16/16 [00:11<00:00,  1.37it/s]\n"
     ]
    },
    {
     "name": "stdout",
     "output_type": "stream",
     "text": [
      "[22/40] Train: loss=1.3893 acc=0.5176 | Val: loss=1.6613 acc=0.9039\n"
     ]
    },
    {
     "name": "stderr",
     "output_type": "stream",
     "text": [
      "Train MixUp: 100%|██████████| 32/32 [00:06<00:00,  4.96it/s]\n",
      "Eval: 100%|██████████| 16/16 [00:11<00:00,  1.35it/s]\n"
     ]
    },
    {
     "name": "stdout",
     "output_type": "stream",
     "text": [
      "[23/40] Train: loss=1.3220 acc=0.5000 | Val: loss=1.5879 acc=0.9059\n"
     ]
    },
    {
     "name": "stderr",
     "output_type": "stream",
     "text": [
      "Train MixUp: 100%|██████████| 32/32 [00:06<00:00,  4.95it/s]\n",
      "Eval: 100%|██████████| 16/16 [00:11<00:00,  1.36it/s]\n"
     ]
    },
    {
     "name": "stdout",
     "output_type": "stream",
     "text": [
      "[24/40] Train: loss=1.2579 acc=0.4961 | Val: loss=1.5204 acc=0.9069\n"
     ]
    },
    {
     "name": "stderr",
     "output_type": "stream",
     "text": [
      "Train MixUp: 100%|██████████| 32/32 [00:06<00:00,  4.95it/s]\n",
      "Eval: 100%|██████████| 16/16 [00:11<00:00,  1.35it/s]\n"
     ]
    },
    {
     "name": "stdout",
     "output_type": "stream",
     "text": [
      "[25/40] Train: loss=1.1985 acc=0.5147 | Val: loss=1.4579 acc=0.9078\n"
     ]
    },
    {
     "name": "stderr",
     "output_type": "stream",
     "text": [
      "Train MixUp: 100%|██████████| 32/32 [00:06<00:00,  4.94it/s]\n",
      "Eval: 100%|██████████| 16/16 [00:11<00:00,  1.36it/s]\n"
     ]
    },
    {
     "name": "stdout",
     "output_type": "stream",
     "text": [
      "[26/40] Train: loss=1.1642 acc=0.5118 | Val: loss=1.3997 acc=0.9098\n"
     ]
    },
    {
     "name": "stderr",
     "output_type": "stream",
     "text": [
      "Train MixUp: 100%|██████████| 32/32 [00:06<00:00,  4.92it/s]\n",
      "Eval: 100%|██████████| 16/16 [00:11<00:00,  1.34it/s]\n"
     ]
    },
    {
     "name": "stdout",
     "output_type": "stream",
     "text": [
      "[27/40] Train: loss=1.0839 acc=0.5314 | Val: loss=1.3455 acc=0.9108\n"
     ]
    },
    {
     "name": "stderr",
     "output_type": "stream",
     "text": [
      "Train MixUp: 100%|██████████| 32/32 [00:06<00:00,  4.95it/s]\n",
      "Eval: 100%|██████████| 16/16 [00:11<00:00,  1.35it/s]\n"
     ]
    },
    {
     "name": "stdout",
     "output_type": "stream",
     "text": [
      "[28/40] Train: loss=1.0487 acc=0.5167 | Val: loss=1.2955 acc=0.9098\n"
     ]
    },
    {
     "name": "stderr",
     "output_type": "stream",
     "text": [
      "Train MixUp: 100%|██████████| 32/32 [00:06<00:00,  4.95it/s]\n",
      "Eval: 100%|██████████| 16/16 [00:11<00:00,  1.35it/s]\n"
     ]
    },
    {
     "name": "stdout",
     "output_type": "stream",
     "text": [
      "[29/40] Train: loss=0.9769 acc=0.5118 | Val: loss=1.2492 acc=0.9108\n"
     ]
    },
    {
     "name": "stderr",
     "output_type": "stream",
     "text": [
      "Train MixUp: 100%|██████████| 32/32 [00:06<00:00,  4.95it/s]\n",
      "Eval: 100%|██████████| 16/16 [00:11<00:00,  1.35it/s]\n"
     ]
    },
    {
     "name": "stdout",
     "output_type": "stream",
     "text": [
      "[30/40] Train: loss=0.9151 acc=0.5392 | Val: loss=1.2063 acc=0.9098\n"
     ]
    },
    {
     "name": "stderr",
     "output_type": "stream",
     "text": [
      "Train MixUp: 100%|██████████| 32/32 [00:06<00:00,  4.94it/s]\n",
      "Eval: 100%|██████████| 16/16 [00:11<00:00,  1.35it/s]\n"
     ]
    },
    {
     "name": "stdout",
     "output_type": "stream",
     "text": [
      "[31/40] Train: loss=0.9088 acc=0.5000 | Val: loss=1.1665 acc=0.9098\n"
     ]
    },
    {
     "name": "stderr",
     "output_type": "stream",
     "text": [
      "Train MixUp: 100%|██████████| 32/32 [00:06<00:00,  4.95it/s]\n",
      "Eval: 100%|██████████| 16/16 [00:11<00:00,  1.36it/s]\n"
     ]
    },
    {
     "name": "stdout",
     "output_type": "stream",
     "text": [
      "[32/40] Train: loss=0.8874 acc=0.5304 | Val: loss=1.1297 acc=0.9078\n"
     ]
    },
    {
     "name": "stderr",
     "output_type": "stream",
     "text": [
      "Train MixUp: 100%|██████████| 32/32 [00:06<00:00,  4.95it/s]\n",
      "Eval: 100%|██████████| 16/16 [00:11<00:00,  1.34it/s]\n"
     ]
    },
    {
     "name": "stdout",
     "output_type": "stream",
     "text": [
      "[33/40] Train: loss=0.8494 acc=0.5206 | Val: loss=1.0953 acc=0.9088\n"
     ]
    },
    {
     "name": "stderr",
     "output_type": "stream",
     "text": [
      "Train MixUp: 100%|██████████| 32/32 [00:06<00:00,  4.95it/s]\n",
      "Eval: 100%|██████████| 16/16 [00:11<00:00,  1.36it/s]\n"
     ]
    },
    {
     "name": "stdout",
     "output_type": "stream",
     "text": [
      "[34/40] Train: loss=0.7976 acc=0.5343 | Val: loss=1.0635 acc=0.9098\n"
     ]
    },
    {
     "name": "stderr",
     "output_type": "stream",
     "text": [
      "Train MixUp: 100%|██████████| 32/32 [00:06<00:00,  4.94it/s]\n",
      "Eval: 100%|██████████| 16/16 [00:11<00:00,  1.35it/s]\n"
     ]
    },
    {
     "name": "stdout",
     "output_type": "stream",
     "text": [
      "[35/40] Train: loss=0.7857 acc=0.5431 | Val: loss=1.0341 acc=0.9098\n"
     ]
    },
    {
     "name": "stderr",
     "output_type": "stream",
     "text": [
      "Train MixUp: 100%|██████████| 32/32 [00:06<00:00,  4.95it/s]\n",
      "Eval: 100%|██████████| 16/16 [00:11<00:00,  1.35it/s]\n"
     ]
    },
    {
     "name": "stdout",
     "output_type": "stream",
     "text": [
      "[36/40] Train: loss=0.7990 acc=0.5520 | Val: loss=1.0063 acc=0.9108\n"
     ]
    },
    {
     "name": "stderr",
     "output_type": "stream",
     "text": [
      "Train MixUp: 100%|██████████| 32/32 [00:06<00:00,  4.93it/s]\n",
      "Eval: 100%|██████████| 16/16 [00:11<00:00,  1.34it/s]\n"
     ]
    },
    {
     "name": "stdout",
     "output_type": "stream",
     "text": [
      "[37/40] Train: loss=0.7867 acc=0.5176 | Val: loss=0.9802 acc=0.9108\n"
     ]
    },
    {
     "name": "stderr",
     "output_type": "stream",
     "text": [
      "Train MixUp: 100%|██████████| 32/32 [00:06<00:00,  4.96it/s]\n",
      "Eval: 100%|██████████| 16/16 [00:11<00:00,  1.36it/s]\n"
     ]
    },
    {
     "name": "stdout",
     "output_type": "stream",
     "text": [
      "[38/40] Train: loss=0.7369 acc=0.5275 | Val: loss=0.9560 acc=0.9108\n"
     ]
    },
    {
     "name": "stderr",
     "output_type": "stream",
     "text": [
      "Train MixUp: 100%|██████████| 32/32 [00:06<00:00,  4.95it/s]\n",
      "Eval: 100%|██████████| 16/16 [00:11<00:00,  1.34it/s]\n"
     ]
    },
    {
     "name": "stdout",
     "output_type": "stream",
     "text": [
      "[39/40] Train: loss=0.6874 acc=0.5206 | Val: loss=0.9338 acc=0.9108\n"
     ]
    },
    {
     "name": "stderr",
     "output_type": "stream",
     "text": [
      "Train MixUp: 100%|██████████| 32/32 [00:06<00:00,  4.94it/s]\n",
      "Eval: 100%|██████████| 16/16 [00:11<00:00,  1.36it/s]\n"
     ]
    },
    {
     "name": "stdout",
     "output_type": "stream",
     "text": [
      "[40/40] Train: loss=0.7068 acc=0.5088 | Val: loss=0.9125 acc=0.9118\n"
     ]
    },
    {
     "name": "stderr",
     "output_type": "stream",
     "text": [
      "Eval: 100%|██████████| 97/97 [01:17<00:00,  1.26it/s]"
     ]
    },
    {
     "name": "stdout",
     "output_type": "stream",
     "text": [
      "\n",
      "MixUp Final Results: Test loss=0.9292 | Test acc=0.9094\n"
     ]
    },
    {
     "name": "stderr",
     "output_type": "stream",
     "text": [
      "\n"
     ]
    }
   ],
   "source": [
    "# ================================================================\n",
    "# Train with MixUp augmentation (produces histories for plotting)\n",
    "# ================================================================\n",
    "print(\"\\n\" + \"=\"*70)\n",
    "print(\"TRAINING WITH MIXUP AUGMENTATION\")\n",
    "print(\"=\"*70)\n",
    "\n",
    "# Load CLIP (frozen eval; you're only training the head)\n",
    "clip_model_mixup = CLIPModel.from_pretrained(\"openai/clip-vit-base-patch32\").to(device).eval()\n",
    "head_mixup, optim_mixup, scaler_mixup = build_head_and_optim(clip_model_mixup)\n",
    "\n",
    "# <<< change α here to sweep values >>>\n",
    "mixup_module = MixUpModule(alpha=0.2)\n",
    "\n",
    "best_val_mixup = -1.0\n",
    "best_head_mixup = None\n",
    "earlystop_mixup = EarlyStopper()\n",
    "\n",
    "# Histories expected by your plotting cell (do not rename)\n",
    "train_losses_mixup, val_losses_mixup = [], []\n",
    "train_accs_mixup,  val_accs_mixup  = [], []\n",
    "\n",
    "for ep in range(1, cfg.epochs + 1):\n",
    "    training = run_epoch_with_mixup(\n",
    "        train_loader, head_mixup, clip_model_mixup,\n",
    "        optim_mixup, scaler_mixup, mixup_module, train=True\n",
    "    )\n",
    "    val = run_epoch_with_mixup(\n",
    "        val_loader, head_mixup, clip_model_mixup,\n",
    "        optim_mixup, scaler_mixup, mixup_module, train=False\n",
    "    )\n",
    "\n",
    "    # --- record histories for your plotting cell ---\n",
    "    train_losses_mixup.append(training['loss'])\n",
    "    val_losses_mixup.append(val['loss'])\n",
    "    train_accs_mixup.append(training['acc_cls'])\n",
    "    val_accs_mixup.append(val['acc_cls'])\n",
    "\n",
    "    print(f\"[{ep}/{cfg.epochs}] \"\n",
    "          f\"Train: loss={training['loss']:.4f} acc={training['acc_cls']:.4f} | \"\n",
    "          f\"Val: loss={val['loss']:.4f} acc={val['acc_cls']:.4f}\")\n",
    "\n",
    "    # Track best head by validation accuracy\n",
    "    if val[\"acc_cls\"] > best_val_mixup:\n",
    "        best_val_mixup = val[\"acc_cls\"]\n",
    "        best_head_mixup = {k: v.detach().cpu() for k, v in head_mixup.state_dict().items()}\n",
    "\n",
    "    # Early stopping on validation loss (your original logic)\n",
    "    earlystop_mixup.report(val['loss'])\n",
    "    if earlystop_mixup.stop_flag():\n",
    "        print(f\"Early stop triggered at epoch {ep}\")\n",
    "        break\n",
    "\n",
    "# Restore best validation head (if captured)\n",
    "if best_head_mixup is not None:\n",
    "    head_mixup.load_state_dict({k: v.to(device) for k, v in best_head_mixup.items()})\n",
    "\n",
    "# Final test evaluation (optional for your plots)\n",
    "test_mixup = run_epoch_with_mixup(\n",
    "    test_loader, head_mixup, clip_model_mixup,\n",
    "    optim_mixup, scaler_mixup, mixup_module, train=False\n",
    ")\n",
    "print(f\"\\nMixUp Final Results: Test loss={test_mixup['loss']:.4f} | Test acc={test_mixup['acc_cls']:.4f}\")\n"
   ]
  },
  {
   "cell_type": "code",
   "execution_count": null,
   "id": "Ta-drKWz9d6a",
   "metadata": {
    "colab": {
     "base_uri": "https://localhost:8080/",
     "height": 525
    },
    "executionInfo": {
     "elapsed": 326,
     "status": "ok",
     "timestamp": 1761809142522,
     "user": {
      "displayName": "Yi Hsuen",
      "userId": "12840976340337931072"
     },
     "user_tz": -480
    },
    "id": "Ta-drKWz9d6a",
    "outputId": "5e9ef7f5-6c08-4983-ef3c-3b7ec03b1a08"
   },
   "outputs": [
    {
     "data": {
      "image/png": "[encoded data removed]",
      "text/plain": [
       "<Figure size 1400x500 with 2 Axes>"
      ]
     },
     "metadata": {},
     "output_type": "display_data"
    },
    {
     "name": "stdout",
     "output_type": "stream",
     "text": [
      "======================================================================\n"
     ]
    }
   ],
   "source": [
    "# Visualize comparison\n",
    "fig, axes = plt.subplots(1, 2, figsize=(14, 5))\n",
    "\n",
    "epochs_range = range(1, len(train_losses_mixup) + 1)\n",
    "\n",
    "# Loss comparison\n",
    "axes[0].plot(epochs_range, train_losses_mixup, 'o-', label='Train Loss (MixUp)', linewidth=2)\n",
    "axes[0].plot(epochs_range, val_losses_mixup, 's-', label='Val Loss (MixUp)', linewidth=2)\n",
    "axes[0].set_xlabel('Epoch', fontsize=12)\n",
    "axes[0].set_ylabel('Loss', fontsize=12)\n",
    "axes[0].set_title('MixUp Training: Loss over Epochs', fontsize=13, fontweight='bold')\n",
    "axes[0].grid(True, alpha=0.3)\n",
    "axes[0].legend(fontsize=11)\n",
    "\n",
    "# Accuracy comparison\n",
    "axes[1].plot(epochs_range, train_accs_mixup, 'o-', label='Train Acc (MixUp)', linewidth=2)\n",
    "axes[1].plot(epochs_range, val_accs_mixup, 's-', label='Val Acc (MixUp)', linewidth=2)\n",
    "axes[1].set_xlabel('Epoch', fontsize=12)\n",
    "axes[1].set_ylabel('Accuracy', fontsize=12)\n",
    "axes[1].set_title('MixUp Training: Accuracy over Epochs', fontsize=13, fontweight='bold')\n",
    "axes[1].grid(True, alpha=0.3)\n",
    "axes[1].legend(fontsize=11)\n",
    "\n",
    "plt.tight_layout()\n",
    "plt.show()\n",
    "\n",
    "print(\"=\"*70)"
   ]
  },
  {
   "cell_type": "markdown",
   "id": "PHlV066fFSgE",
   "metadata": {
    "id": "PHlV066fFSgE"
   },
   "source": [
    "alpha = 0.2 2nd try"
   ]
  },
  {
   "cell_type": "code",
   "execution_count": 30,
   "id": "QlGnSoF2FU5M",
   "metadata": {
    "colab": {
     "base_uri": "https://localhost:8080/"
    },
    "executionInfo": {
     "elapsed": 825719,
     "status": "ok",
     "timestamp": 1761829695908,
     "user": {
      "displayName": "晖景 PT26 筹募组",
      "userId": "03792069924342625156"
     },
     "user_tz": -480
    },
    "id": "QlGnSoF2FU5M",
    "outputId": "4ef54f99-e191-4018-9d41-66abec475b5e"
   },
   "outputs": [
    {
     "name": "stdout",
     "output_type": "stream",
     "text": [
      "\n",
      "======================================================================\n",
      "TRAINING WITH MIXUP AUGMENTATION\n",
      "======================================================================\n"
     ]
    },
    {
     "name": "stderr",
     "output_type": "stream",
     "text": [
      "Train MixUp: 100%|██████████| 32/32 [00:06<00:00,  4.70it/s]\n",
      "Eval: 100%|██████████| 16/16 [00:12<00:00,  1.32it/s]\n"
     ]
    },
    {
     "name": "stdout",
     "output_type": "stream",
     "text": [
      "[1/40] Train: loss=4.5423 acc=0.2186 | Val: loss=4.4518 acc=0.6608\n"
     ]
    },
    {
     "name": "stderr",
     "output_type": "stream",
     "text": [
      "Train MixUp: 100%|██████████| 32/32 [00:06<00:00,  4.65it/s]\n",
      "Eval: 100%|██████████| 16/16 [00:12<00:00,  1.32it/s]\n"
     ]
    },
    {
     "name": "stdout",
     "output_type": "stream",
     "text": [
      "[2/40] Train: loss=4.3446 acc=0.5020 | Val: loss=4.2760 acc=0.8549\n"
     ]
    },
    {
     "name": "stderr",
     "output_type": "stream",
     "text": [
      "Train MixUp: 100%|██████████| 32/32 [00:06<00:00,  4.71it/s]\n",
      "Eval: 100%|██████████| 16/16 [00:11<00:00,  1.33it/s]\n"
     ]
    },
    {
     "name": "stdout",
     "output_type": "stream",
     "text": [
      "[3/40] Train: loss=4.1546 acc=0.5010 | Val: loss=4.1030 acc=0.8833\n"
     ]
    },
    {
     "name": "stderr",
     "output_type": "stream",
     "text": [
      "Train MixUp: 100%|██████████| 32/32 [00:06<00:00,  4.79it/s]\n",
      "Eval: 100%|██████████| 16/16 [00:11<00:00,  1.35it/s]\n"
     ]
    },
    {
     "name": "stdout",
     "output_type": "stream",
     "text": [
      "[4/40] Train: loss=3.9587 acc=0.5284 | Val: loss=3.9326 acc=0.8941\n"
     ]
    },
    {
     "name": "stderr",
     "output_type": "stream",
     "text": [
      "Train MixUp: 100%|██████████| 32/32 [00:06<00:00,  4.78it/s]\n",
      "Eval: 100%|██████████| 16/16 [00:12<00:00,  1.31it/s]\n"
     ]
    },
    {
     "name": "stdout",
     "output_type": "stream",
     "text": [
      "[5/40] Train: loss=3.7769 acc=0.5118 | Val: loss=3.7674 acc=0.8863\n"
     ]
    },
    {
     "name": "stderr",
     "output_type": "stream",
     "text": [
      "Train MixUp: 100%|██████████| 32/32 [00:06<00:00,  4.71it/s]\n",
      "Eval: 100%|██████████| 16/16 [00:12<00:00,  1.32it/s]\n"
     ]
    },
    {
     "name": "stdout",
     "output_type": "stream",
     "text": [
      "[6/40] Train: loss=3.5903 acc=0.5441 | Val: loss=3.6036 acc=0.8902\n"
     ]
    },
    {
     "name": "stderr",
     "output_type": "stream",
     "text": [
      "Train MixUp: 100%|██████████| 32/32 [00:06<00:00,  4.73it/s]\n",
      "Eval: 100%|██████████| 16/16 [00:12<00:00,  1.33it/s]\n"
     ]
    },
    {
     "name": "stdout",
     "output_type": "stream",
     "text": [
      "[7/40] Train: loss=3.3952 acc=0.4912 | Val: loss=3.4432 acc=0.8922\n"
     ]
    },
    {
     "name": "stderr",
     "output_type": "stream",
     "text": [
      "Train MixUp: 100%|██████████| 32/32 [00:06<00:00,  4.72it/s]\n",
      "Eval: 100%|██████████| 16/16 [00:12<00:00,  1.32it/s]\n"
     ]
    },
    {
     "name": "stdout",
     "output_type": "stream",
     "text": [
      "[8/40] Train: loss=3.2413 acc=0.5098 | Val: loss=3.2882 acc=0.8951\n"
     ]
    },
    {
     "name": "stderr",
     "output_type": "stream",
     "text": [
      "Train MixUp: 100%|██████████| 32/32 [00:06<00:00,  4.77it/s]\n",
      "Eval: 100%|██████████| 16/16 [00:12<00:00,  1.32it/s]\n"
     ]
    },
    {
     "name": "stdout",
     "output_type": "stream",
     "text": [
      "[9/40] Train: loss=3.0522 acc=0.5049 | Val: loss=3.1381 acc=0.9010\n"
     ]
    },
    {
     "name": "stderr",
     "output_type": "stream",
     "text": [
      "Train MixUp: 100%|██████████| 32/32 [00:06<00:00,  4.74it/s]\n",
      "Eval: 100%|██████████| 16/16 [00:12<00:00,  1.33it/s]\n"
     ]
    },
    {
     "name": "stdout",
     "output_type": "stream",
     "text": [
      "[10/40] Train: loss=2.9032 acc=0.5284 | Val: loss=2.9910 acc=0.8990\n"
     ]
    },
    {
     "name": "stderr",
     "output_type": "stream",
     "text": [
      "Train MixUp: 100%|██████████| 32/32 [00:06<00:00,  4.74it/s]\n",
      "Eval: 100%|██████████| 16/16 [00:12<00:00,  1.33it/s]\n"
     ]
    },
    {
     "name": "stdout",
     "output_type": "stream",
     "text": [
      "[11/40] Train: loss=2.7257 acc=0.5245 | Val: loss=2.8485 acc=0.8990\n"
     ]
    },
    {
     "name": "stderr",
     "output_type": "stream",
     "text": [
      "Train MixUp: 100%|██████████| 32/32 [00:06<00:00,  4.72it/s]\n",
      "Eval: 100%|██████████| 16/16 [00:12<00:00,  1.33it/s]\n"
     ]
    },
    {
     "name": "stdout",
     "output_type": "stream",
     "text": [
      "[12/40] Train: loss=2.5613 acc=0.5324 | Val: loss=2.7109 acc=0.8990\n"
     ]
    },
    {
     "name": "stderr",
     "output_type": "stream",
     "text": [
      "Train MixUp: 100%|██████████| 32/32 [00:06<00:00,  4.74it/s]\n",
      "Eval: 100%|██████████| 16/16 [00:11<00:00,  1.34it/s]\n"
     ]
    },
    {
     "name": "stdout",
     "output_type": "stream",
     "text": [
      "[13/40] Train: loss=2.4246 acc=0.5324 | Val: loss=2.5789 acc=0.8990\n"
     ]
    },
    {
     "name": "stderr",
     "output_type": "stream",
     "text": [
      "Train MixUp: 100%|██████████| 32/32 [00:06<00:00,  4.74it/s]\n",
      "Eval: 100%|██████████| 16/16 [00:12<00:00,  1.33it/s]\n"
     ]
    },
    {
     "name": "stdout",
     "output_type": "stream",
     "text": [
      "[14/40] Train: loss=2.2907 acc=0.5304 | Val: loss=2.4528 acc=0.9020\n"
     ]
    },
    {
     "name": "stderr",
     "output_type": "stream",
     "text": [
      "Train MixUp: 100%|██████████| 32/32 [00:06<00:00,  4.73it/s]\n",
      "Eval: 100%|██████████| 16/16 [00:11<00:00,  1.34it/s]\n"
     ]
    },
    {
     "name": "stdout",
     "output_type": "stream",
     "text": [
      "[15/40] Train: loss=2.1212 acc=0.5284 | Val: loss=2.3315 acc=0.9039\n"
     ]
    },
    {
     "name": "stderr",
     "output_type": "stream",
     "text": [
      "Train MixUp: 100%|██████████| 32/32 [00:06<00:00,  4.74it/s]\n",
      "Eval: 100%|██████████| 16/16 [00:11<00:00,  1.34it/s]\n"
     ]
    },
    {
     "name": "stdout",
     "output_type": "stream",
     "text": [
      "[16/40] Train: loss=1.9953 acc=0.5255 | Val: loss=2.2164 acc=0.9020\n"
     ]
    },
    {
     "name": "stderr",
     "output_type": "stream",
     "text": [
      "Train MixUp: 100%|██████████| 32/32 [00:06<00:00,  4.74it/s]\n",
      "Eval: 100%|██████████| 16/16 [00:12<00:00,  1.33it/s]\n"
     ]
    },
    {
     "name": "stdout",
     "output_type": "stream",
     "text": [
      "[17/40] Train: loss=1.8801 acc=0.5333 | Val: loss=2.1084 acc=0.9059\n"
     ]
    },
    {
     "name": "stderr",
     "output_type": "stream",
     "text": [
      "Train MixUp: 100%|██████████| 32/32 [00:06<00:00,  4.76it/s]\n",
      "Eval: 100%|██████████| 16/16 [00:12<00:00,  1.33it/s]\n"
     ]
    },
    {
     "name": "stdout",
     "output_type": "stream",
     "text": [
      "[18/40] Train: loss=1.7521 acc=0.5431 | Val: loss=2.0064 acc=0.9049\n"
     ]
    },
    {
     "name": "stderr",
     "output_type": "stream",
     "text": [
      "Train MixUp: 100%|██████████| 32/32 [00:06<00:00,  4.73it/s]\n",
      "Eval: 100%|██████████| 16/16 [00:12<00:00,  1.32it/s]\n"
     ]
    },
    {
     "name": "stdout",
     "output_type": "stream",
     "text": [
      "[19/40] Train: loss=1.6983 acc=0.5363 | Val: loss=1.9109 acc=0.9069\n"
     ]
    },
    {
     "name": "stderr",
     "output_type": "stream",
     "text": [
      "Train MixUp: 100%|██████████| 32/32 [00:06<00:00,  4.74it/s]\n",
      "Eval: 100%|██████████| 16/16 [00:11<00:00,  1.34it/s]\n"
     ]
    },
    {
     "name": "stdout",
     "output_type": "stream",
     "text": [
      "[20/40] Train: loss=1.5764 acc=0.5500 | Val: loss=1.8220 acc=0.9069\n"
     ]
    },
    {
     "name": "stderr",
     "output_type": "stream",
     "text": [
      "Train MixUp: 100%|██████████| 32/32 [00:06<00:00,  4.73it/s]\n",
      "Eval: 100%|██████████| 16/16 [00:12<00:00,  1.33it/s]\n"
     ]
    },
    {
     "name": "stdout",
     "output_type": "stream",
     "text": [
      "[21/40] Train: loss=1.4538 acc=0.5235 | Val: loss=1.7376 acc=0.9049\n"
     ]
    },
    {
     "name": "stderr",
     "output_type": "stream",
     "text": [
      "Train MixUp: 100%|██████████| 32/32 [00:06<00:00,  4.74it/s]\n",
      "Eval: 100%|██████████| 16/16 [00:12<00:00,  1.31it/s]\n"
     ]
    },
    {
     "name": "stdout",
     "output_type": "stream",
     "text": [
      "[22/40] Train: loss=1.4022 acc=0.5206 | Val: loss=1.6591 acc=0.9059\n"
     ]
    },
    {
     "name": "stderr",
     "output_type": "stream",
     "text": [
      "Train MixUp: 100%|██████████| 32/32 [00:06<00:00,  4.74it/s]\n",
      "Eval: 100%|██████████| 16/16 [00:12<00:00,  1.33it/s]\n"
     ]
    },
    {
     "name": "stdout",
     "output_type": "stream",
     "text": [
      "[23/40] Train: loss=1.3053 acc=0.5176 | Val: loss=1.5864 acc=0.9039\n"
     ]
    },
    {
     "name": "stderr",
     "output_type": "stream",
     "text": [
      "Train MixUp: 100%|██████████| 32/32 [00:06<00:00,  4.75it/s]\n",
      "Eval: 100%|██████████| 16/16 [00:11<00:00,  1.34it/s]\n"
     ]
    },
    {
     "name": "stdout",
     "output_type": "stream",
     "text": [
      "[24/40] Train: loss=1.2435 acc=0.5265 | Val: loss=1.5191 acc=0.9059\n"
     ]
    },
    {
     "name": "stderr",
     "output_type": "stream",
     "text": [
      "Train MixUp: 100%|██████████| 32/32 [00:06<00:00,  4.76it/s]\n",
      "Eval: 100%|██████████| 16/16 [00:12<00:00,  1.33it/s]\n"
     ]
    },
    {
     "name": "stdout",
     "output_type": "stream",
     "text": [
      "[25/40] Train: loss=1.2105 acc=0.5284 | Val: loss=1.4573 acc=0.9020\n"
     ]
    },
    {
     "name": "stderr",
     "output_type": "stream",
     "text": [
      "Train MixUp: 100%|██████████| 32/32 [00:06<00:00,  4.75it/s]\n",
      "Eval: 100%|██████████| 16/16 [00:11<00:00,  1.34it/s]\n"
     ]
    },
    {
     "name": "stdout",
     "output_type": "stream",
     "text": [
      "[26/40] Train: loss=1.1271 acc=0.5245 | Val: loss=1.3997 acc=0.9049\n"
     ]
    },
    {
     "name": "stderr",
     "output_type": "stream",
     "text": [
      "Train MixUp: 100%|██████████| 32/32 [00:06<00:00,  4.76it/s]\n",
      "Eval: 100%|██████████| 16/16 [00:11<00:00,  1.33it/s]\n"
     ]
    },
    {
     "name": "stdout",
     "output_type": "stream",
     "text": [
      "[27/40] Train: loss=1.0398 acc=0.5118 | Val: loss=1.3464 acc=0.9059\n"
     ]
    },
    {
     "name": "stderr",
     "output_type": "stream",
     "text": [
      "Train MixUp: 100%|██████████| 32/32 [00:06<00:00,  4.72it/s]\n",
      "Eval: 100%|██████████| 16/16 [00:11<00:00,  1.33it/s]\n"
     ]
    },
    {
     "name": "stdout",
     "output_type": "stream",
     "text": [
      "[28/40] Train: loss=1.0137 acc=0.5098 | Val: loss=1.2967 acc=0.9020\n"
     ]
    },
    {
     "name": "stderr",
     "output_type": "stream",
     "text": [
      "Train MixUp: 100%|██████████| 32/32 [00:06<00:00,  4.73it/s]\n",
      "Eval: 100%|██████████| 16/16 [00:12<00:00,  1.33it/s]\n"
     ]
    },
    {
     "name": "stdout",
     "output_type": "stream",
     "text": [
      "[29/40] Train: loss=1.0313 acc=0.5059 | Val: loss=1.2509 acc=0.9039\n"
     ]
    },
    {
     "name": "stderr",
     "output_type": "stream",
     "text": [
      "Train MixUp: 100%|██████████| 32/32 [00:06<00:00,  4.75it/s]\n",
      "Eval: 100%|██████████| 16/16 [00:12<00:00,  1.33it/s]\n"
     ]
    },
    {
     "name": "stdout",
     "output_type": "stream",
     "text": [
      "[30/40] Train: loss=0.9438 acc=0.5029 | Val: loss=1.2086 acc=0.9039\n"
     ]
    },
    {
     "name": "stderr",
     "output_type": "stream",
     "text": [
      "Train MixUp: 100%|██████████| 32/32 [00:06<00:00,  4.76it/s]\n",
      "Eval: 100%|██████████| 16/16 [00:11<00:00,  1.34it/s]\n"
     ]
    },
    {
     "name": "stdout",
     "output_type": "stream",
     "text": [
      "[31/40] Train: loss=0.9087 acc=0.5304 | Val: loss=1.1690 acc=0.9039\n"
     ]
    },
    {
     "name": "stderr",
     "output_type": "stream",
     "text": [
      "Train MixUp: 100%|██████████| 32/32 [00:06<00:00,  4.74it/s]\n",
      "Eval: 100%|██████████| 16/16 [00:11<00:00,  1.34it/s]\n"
     ]
    },
    {
     "name": "stdout",
     "output_type": "stream",
     "text": [
      "[32/40] Train: loss=0.8618 acc=0.5206 | Val: loss=1.1323 acc=0.9069\n"
     ]
    },
    {
     "name": "stderr",
     "output_type": "stream",
     "text": [
      "Train MixUp: 100%|██████████| 32/32 [00:06<00:00,  4.73it/s]\n",
      "Eval: 100%|██████████| 16/16 [00:11<00:00,  1.34it/s]\n"
     ]
    },
    {
     "name": "stdout",
     "output_type": "stream",
     "text": [
      "[33/40] Train: loss=0.8082 acc=0.5422 | Val: loss=1.0985 acc=0.9069\n"
     ]
    },
    {
     "name": "stderr",
     "output_type": "stream",
     "text": [
      "Train MixUp: 100%|██████████| 32/32 [00:06<00:00,  4.74it/s]\n",
      "Eval: 100%|██████████| 16/16 [00:11<00:00,  1.34it/s]\n"
     ]
    },
    {
     "name": "stdout",
     "output_type": "stream",
     "text": [
      "[34/40] Train: loss=0.8219 acc=0.5471 | Val: loss=1.0668 acc=0.9059\n"
     ]
    },
    {
     "name": "stderr",
     "output_type": "stream",
     "text": [
      "Train MixUp: 100%|██████████| 32/32 [00:06<00:00,  4.74it/s]\n",
      "Eval: 100%|██████████| 16/16 [00:12<00:00,  1.33it/s]\n"
     ]
    },
    {
     "name": "stdout",
     "output_type": "stream",
     "text": [
      "[35/40] Train: loss=0.7773 acc=0.5245 | Val: loss=1.0373 acc=0.9049\n"
     ]
    },
    {
     "name": "stderr",
     "output_type": "stream",
     "text": [
      "Train MixUp: 100%|██████████| 32/32 [00:06<00:00,  4.76it/s]\n",
      "Eval: 100%|██████████| 16/16 [00:11<00:00,  1.34it/s]\n"
     ]
    },
    {
     "name": "stdout",
     "output_type": "stream",
     "text": [
      "[36/40] Train: loss=0.7763 acc=0.4961 | Val: loss=1.0100 acc=0.9059\n"
     ]
    },
    {
     "name": "stderr",
     "output_type": "stream",
     "text": [
      "Train MixUp: 100%|██████████| 32/32 [00:06<00:00,  4.73it/s]\n",
      "Eval: 100%|██████████| 16/16 [00:11<00:00,  1.33it/s]\n"
     ]
    },
    {
     "name": "stdout",
     "output_type": "stream",
     "text": [
      "[37/40] Train: loss=0.7521 acc=0.5039 | Val: loss=0.9840 acc=0.9069\n"
     ]
    },
    {
     "name": "stderr",
     "output_type": "stream",
     "text": [
      "Train MixUp: 100%|██████████| 32/32 [00:06<00:00,  4.75it/s]\n",
      "Eval: 100%|██████████| 16/16 [00:12<00:00,  1.32it/s]\n"
     ]
    },
    {
     "name": "stdout",
     "output_type": "stream",
     "text": [
      "[38/40] Train: loss=0.7181 acc=0.5216 | Val: loss=0.9604 acc=0.9088\n"
     ]
    },
    {
     "name": "stderr",
     "output_type": "stream",
     "text": [
      "Train MixUp: 100%|██████████| 32/32 [00:06<00:00,  4.74it/s]\n",
      "Eval: 100%|██████████| 16/16 [00:11<00:00,  1.33it/s]\n"
     ]
    },
    {
     "name": "stdout",
     "output_type": "stream",
     "text": [
      "[39/40] Train: loss=0.7427 acc=0.5118 | Val: loss=0.9380 acc=0.9088\n"
     ]
    },
    {
     "name": "stderr",
     "output_type": "stream",
     "text": [
      "Train MixUp: 100%|██████████| 32/32 [00:06<00:00,  4.76it/s]\n",
      "Eval: 100%|██████████| 16/16 [00:11<00:00,  1.34it/s]\n"
     ]
    },
    {
     "name": "stdout",
     "output_type": "stream",
     "text": [
      "[40/40] Train: loss=0.7071 acc=0.5363 | Val: loss=0.9168 acc=0.9088\n"
     ]
    },
    {
     "name": "stderr",
     "output_type": "stream",
     "text": [
      "Eval: 100%|██████████| 97/97 [01:12<00:00,  1.33it/s]"
     ]
    },
    {
     "name": "stdout",
     "output_type": "stream",
     "text": [
      "\n",
      "MixUp Final Results: Test loss=0.9672 | Test acc=0.9109\n"
     ]
    },
    {
     "name": "stderr",
     "output_type": "stream",
     "text": [
      "\n"
     ]
    }
   ],
   "source": [
    "# ================================================================\n",
    "# Train with MixUp augmentation (produces histories for plotting)\n",
    "# ================================================================\n",
    "print(\"\\n\" + \"=\"*70)\n",
    "print(\"TRAINING WITH MIXUP AUGMENTATION\")\n",
    "print(\"=\"*70)\n",
    "\n",
    "# Load CLIP (frozen eval; you're only training the head)\n",
    "clip_model_mixup = CLIPModel.from_pretrained(\"openai/clip-vit-base-patch32\").to(device).eval()\n",
    "head_mixup, optim_mixup, scaler_mixup = build_head_and_optim(clip_model_mixup)\n",
    "\n",
    "# <<< change α here to sweep values >>>\n",
    "mixup_module = MixUpModule(alpha=0.2)\n",
    "\n",
    "best_val_mixup = -1.0\n",
    "best_head_mixup = None\n",
    "earlystop_mixup = EarlyStopper()\n",
    "\n",
    "# Histories expected by your plotting cell (do not rename)\n",
    "train_losses_mixup, val_losses_mixup = [], []\n",
    "train_accs_mixup,  val_accs_mixup  = [], []\n",
    "\n",
    "for ep in range(1, cfg.epochs + 1):\n",
    "    training = run_epoch_with_mixup(\n",
    "        train_loader, head_mixup, clip_model_mixup,\n",
    "        optim_mixup, scaler_mixup, mixup_module, train=True\n",
    "    )\n",
    "    val = run_epoch_with_mixup(\n",
    "        val_loader, head_mixup, clip_model_mixup,\n",
    "        optim_mixup, scaler_mixup, mixup_module, train=False\n",
    "    )\n",
    "\n",
    "    # --- record histories for your plotting cell ---\n",
    "    train_losses_mixup.append(training['loss'])\n",
    "    val_losses_mixup.append(val['loss'])\n",
    "    train_accs_mixup.append(training['acc_cls'])\n",
    "    val_accs_mixup.append(val['acc_cls'])\n",
    "\n",
    "    print(f\"[{ep}/{cfg.epochs}] \"\n",
    "          f\"Train: loss={training['loss']:.4f} acc={training['acc_cls']:.4f} | \"\n",
    "          f\"Val: loss={val['loss']:.4f} acc={val['acc_cls']:.4f}\")\n",
    "\n",
    "    # Track best head by validation accuracy\n",
    "    if val[\"acc_cls\"] > best_val_mixup:\n",
    "        best_val_mixup = val[\"acc_cls\"]\n",
    "        best_head_mixup = {k: v.detach().cpu() for k, v in head_mixup.state_dict().items()}\n",
    "\n",
    "    # Early stopping on validation loss (your original logic)\n",
    "    earlystop_mixup.report(val['loss'])\n",
    "    if earlystop_mixup.stop_flag():\n",
    "        print(f\"Early stop triggered at epoch {ep}\")\n",
    "        break\n",
    "\n",
    "# Restore best validation head (if captured)\n",
    "if best_head_mixup is not None:\n",
    "    head_mixup.load_state_dict({k: v.to(device) for k, v in best_head_mixup.items()})\n",
    "\n",
    "# Final test evaluation (optional for your plots)\n",
    "test_mixup = run_epoch_with_mixup(\n",
    "    test_loader, head_mixup, clip_model_mixup,\n",
    "    optim_mixup, scaler_mixup, mixup_module, train=False\n",
    ")\n",
    "print(f\"\\nMixUp Final Results: Test loss={test_mixup['loss']:.4f} | Test acc={test_mixup['acc_cls']:.4f}\")\n"
   ]
  },
  {
   "cell_type": "code",
   "execution_count": 17,
   "id": "V7ehluvEFXft",
   "metadata": {
    "colab": {
     "base_uri": "https://localhost:8080/",
     "height": 525
    },
    "executionInfo": {
     "elapsed": 378,
     "status": "ok",
     "timestamp": 1761827602692,
     "user": {
      "displayName": "晖景 PT26 筹募组",
      "userId": "03792069924342625156"
     },
     "user_tz": -480
    },
    "id": "V7ehluvEFXft",
    "outputId": "f1d3d4b4-dcaf-4530-d8bc-defa7b6b406c"
   },
   "outputs": [
    {
     "data": {
      "image/png": "[encoded data removed]",
      "text/plain": [
       "<Figure size 1400x500 with 2 Axes>"
      ]
     },
     "metadata": {},
     "output_type": "display_data"
    },
    {
     "name": "stdout",
     "output_type": "stream",
     "text": [
      "======================================================================\n"
     ]
    }
   ],
   "source": [
    "# Visualize comparison\n",
    "fig, axes = plt.subplots(1, 2, figsize=(14, 5))\n",
    "\n",
    "epochs_range = range(1, len(train_losses_mixup) + 1)\n",
    "\n",
    "# Loss comparison\n",
    "axes[0].plot(epochs_range, train_losses_mixup, 'o-', label='Train Loss (MixUp)', linewidth=2)\n",
    "axes[0].plot(epochs_range, val_losses_mixup, 's-', label='Val Loss (MixUp)', linewidth=2)\n",
    "axes[0].set_xlabel('Epoch', fontsize=12)\n",
    "axes[0].set_ylabel('Loss', fontsize=12)\n",
    "axes[0].set_title('MixUp Training: Loss over Epochs', fontsize=13, fontweight='bold')\n",
    "axes[0].grid(True, alpha=0.3)\n",
    "axes[0].legend(fontsize=11)\n",
    "\n",
    "# Accuracy comparison\n",
    "axes[1].plot(epochs_range, train_accs_mixup, 'o-', label='Train Acc (MixUp)', linewidth=2)\n",
    "axes[1].plot(epochs_range, val_accs_mixup, 's-', label='Val Acc (MixUp)', linewidth=2)\n",
    "axes[1].set_xlabel('Epoch', fontsize=12)\n",
    "axes[1].set_ylabel('Accuracy', fontsize=12)\n",
    "axes[1].set_title('MixUp Training: Accuracy over Epochs', fontsize=13, fontweight='bold')\n",
    "axes[1].grid(True, alpha=0.3)\n",
    "axes[1].legend(fontsize=11)\n",
    "\n",
    "plt.tight_layout()\n",
    "plt.show()\n",
    "\n",
    "print(\"=\"*70)"
   ]
  },
  {
   "cell_type": "markdown",
   "id": "Iwh9UFWbDfEP",
   "metadata": {
    "id": "Iwh9UFWbDfEP"
   },
   "source": [
    "alpha = 0.5"
   ]
  },
  {
   "cell_type": "code",
   "execution_count": 13,
   "id": "AGrpbeLADX_7",
   "metadata": {
    "colab": {
     "base_uri": "https://localhost:8080/"
    },
    "executionInfo": {
     "elapsed": 425379,
     "status": "ok",
     "timestamp": 1761827096163,
     "user": {
      "displayName": "晖景 PT26 筹募组",
      "userId": "03792069924342625156"
     },
     "user_tz": -480
    },
    "id": "AGrpbeLADX_7",
    "outputId": "b7d43ece-c0e9-4589-b10c-25c039bbe45e"
   },
   "outputs": [
    {
     "name": "stdout",
     "output_type": "stream",
     "text": [
      "\n",
      "======================================================================\n",
      "TRAINING WITH MIXUP AUGMENTATION\n",
      "======================================================================\n"
     ]
    },
    {
     "name": "stderr",
     "output_type": "stream",
     "text": [
      "Train MixUp: 100%|██████████| 32/32 [00:08<00:00,  3.70it/s]\n",
      "Eval: 100%|██████████| 32/32 [00:03<00:00,  9.86it/s]\n"
     ]
    },
    {
     "name": "stdout",
     "output_type": "stream",
     "text": [
      "[1/40] Train: loss=4.6136 acc=0.0206 | Val: loss=4.5704 acc=0.0980\n"
     ]
    },
    {
     "name": "stderr",
     "output_type": "stream",
     "text": [
      "Train MixUp: 100%|██████████| 32/32 [00:06<00:00,  4.70it/s]\n",
      "Eval: 100%|██████████| 32/32 [00:03<00:00,  9.65it/s]\n"
     ]
    },
    {
     "name": "stdout",
     "output_type": "stream",
     "text": [
      "[2/40] Train: loss=4.5527 acc=0.0843 | Val: loss=4.5134 acc=0.2941\n"
     ]
    },
    {
     "name": "stderr",
     "output_type": "stream",
     "text": [
      "Train MixUp: 100%|██████████| 32/32 [00:06<00:00,  4.63it/s]\n",
      "Eval: 100%|██████████| 32/32 [00:03<00:00,  9.49it/s]\n"
     ]
    },
    {
     "name": "stdout",
     "output_type": "stream",
     "text": [
      "[3/40] Train: loss=4.5044 acc=0.1686 | Val: loss=4.4581 acc=0.4422\n"
     ]
    },
    {
     "name": "stderr",
     "output_type": "stream",
     "text": [
      "Train MixUp: 100%|██████████| 32/32 [00:07<00:00,  4.56it/s]\n",
      "Eval: 100%|██████████| 32/32 [00:03<00:00,  9.14it/s]\n"
     ]
    },
    {
     "name": "stdout",
     "output_type": "stream",
     "text": [
      "[4/40] Train: loss=4.4504 acc=0.3049 | Val: loss=4.4033 acc=0.6196\n"
     ]
    },
    {
     "name": "stderr",
     "output_type": "stream",
     "text": [
      "Train MixUp: 100%|██████████| 32/32 [00:06<00:00,  4.74it/s]\n",
      "Eval: 100%|██████████| 32/32 [00:03<00:00,  9.73it/s]\n"
     ]
    },
    {
     "name": "stdout",
     "output_type": "stream",
     "text": [
      "[5/40] Train: loss=4.3985 acc=0.3549 | Val: loss=4.3490 acc=0.6843\n"
     ]
    },
    {
     "name": "stderr",
     "output_type": "stream",
     "text": [
      "Train MixUp: 100%|██████████| 32/32 [00:06<00:00,  4.81it/s]\n",
      "Eval: 100%|██████████| 32/32 [00:03<00:00,  9.91it/s]\n"
     ]
    },
    {
     "name": "stdout",
     "output_type": "stream",
     "text": [
      "[6/40] Train: loss=4.3452 acc=0.4108 | Val: loss=4.2957 acc=0.7039\n"
     ]
    },
    {
     "name": "stderr",
     "output_type": "stream",
     "text": [
      "Train MixUp: 100%|██████████| 32/32 [00:06<00:00,  4.85it/s]\n",
      "Eval: 100%|██████████| 32/32 [00:03<00:00,  9.93it/s]\n"
     ]
    },
    {
     "name": "stdout",
     "output_type": "stream",
     "text": [
      "[7/40] Train: loss=4.2969 acc=0.4029 | Val: loss=4.2433 acc=0.7333\n"
     ]
    },
    {
     "name": "stderr",
     "output_type": "stream",
     "text": [
      "Train MixUp: 100%|██████████| 32/32 [00:06<00:00,  4.85it/s]\n",
      "Eval: 100%|██████████| 32/32 [00:03<00:00,  9.95it/s]\n"
     ]
    },
    {
     "name": "stdout",
     "output_type": "stream",
     "text": [
      "[8/40] Train: loss=4.2487 acc=0.4137 | Val: loss=4.1914 acc=0.7892\n"
     ]
    },
    {
     "name": "stderr",
     "output_type": "stream",
     "text": [
      "Train MixUp: 100%|██████████| 32/32 [00:06<00:00,  4.84it/s]\n",
      "Eval: 100%|██████████| 32/32 [00:03<00:00,  9.90it/s]\n"
     ]
    },
    {
     "name": "stdout",
     "output_type": "stream",
     "text": [
      "[9/40] Train: loss=4.1949 acc=0.4304 | Val: loss=4.1400 acc=0.7784\n"
     ]
    },
    {
     "name": "stderr",
     "output_type": "stream",
     "text": [
      "Train MixUp: 100%|██████████| 32/32 [00:06<00:00,  4.83it/s]\n",
      "Eval: 100%|██████████| 32/32 [00:03<00:00,  9.78it/s]\n"
     ]
    },
    {
     "name": "stdout",
     "output_type": "stream",
     "text": [
      "[10/40] Train: loss=4.1446 acc=0.4422 | Val: loss=4.0882 acc=0.8049\n"
     ]
    },
    {
     "name": "stderr",
     "output_type": "stream",
     "text": [
      "Train MixUp: 100%|██████████| 32/32 [00:06<00:00,  4.79it/s]\n",
      "Eval: 100%|██████████| 32/32 [00:03<00:00,  9.77it/s]\n"
     ]
    },
    {
     "name": "stdout",
     "output_type": "stream",
     "text": [
      "[11/40] Train: loss=4.1022 acc=0.4353 | Val: loss=4.0373 acc=0.8167\n"
     ]
    },
    {
     "name": "stderr",
     "output_type": "stream",
     "text": [
      "Train MixUp: 100%|██████████| 32/32 [00:06<00:00,  4.77it/s]\n",
      "Eval: 100%|██████████| 32/32 [00:03<00:00,  9.79it/s]\n"
     ]
    },
    {
     "name": "stdout",
     "output_type": "stream",
     "text": [
      "[12/40] Train: loss=4.0490 acc=0.4500 | Val: loss=3.9867 acc=0.8441\n"
     ]
    },
    {
     "name": "stderr",
     "output_type": "stream",
     "text": [
      "Train MixUp: 100%|██████████| 32/32 [00:06<00:00,  4.77it/s]\n",
      "Eval: 100%|██████████| 32/32 [00:03<00:00,  9.81it/s]\n"
     ]
    },
    {
     "name": "stdout",
     "output_type": "stream",
     "text": [
      "[13/40] Train: loss=4.0082 acc=0.4510 | Val: loss=3.9371 acc=0.8373\n"
     ]
    },
    {
     "name": "stderr",
     "output_type": "stream",
     "text": [
      "Train MixUp: 100%|██████████| 32/32 [00:06<00:00,  4.76it/s]\n",
      "Eval: 100%|██████████| 32/32 [00:03<00:00,  9.77it/s]\n"
     ]
    },
    {
     "name": "stdout",
     "output_type": "stream",
     "text": [
      "[14/40] Train: loss=3.9563 acc=0.4775 | Val: loss=3.8881 acc=0.8314\n"
     ]
    },
    {
     "name": "stderr",
     "output_type": "stream",
     "text": [
      "Train MixUp: 100%|██████████| 32/32 [00:06<00:00,  4.77it/s]\n",
      "Eval: 100%|██████████| 32/32 [00:03<00:00,  9.80it/s]\n"
     ]
    },
    {
     "name": "stdout",
     "output_type": "stream",
     "text": [
      "[15/40] Train: loss=3.9084 acc=0.4873 | Val: loss=3.8389 acc=0.8363\n"
     ]
    },
    {
     "name": "stderr",
     "output_type": "stream",
     "text": [
      "Train MixUp: 100%|██████████| 32/32 [00:06<00:00,  4.81it/s]\n",
      "Eval: 100%|██████████| 32/32 [00:03<00:00,  9.68it/s]\n"
     ]
    },
    {
     "name": "stdout",
     "output_type": "stream",
     "text": [
      "[16/40] Train: loss=3.8649 acc=0.4627 | Val: loss=3.7903 acc=0.8539\n"
     ]
    },
    {
     "name": "stderr",
     "output_type": "stream",
     "text": [
      "Train MixUp: 100%|██████████| 32/32 [00:06<00:00,  4.80it/s]\n",
      "Eval: 100%|██████████| 32/32 [00:03<00:00,  9.80it/s]\n"
     ]
    },
    {
     "name": "stdout",
     "output_type": "stream",
     "text": [
      "[17/40] Train: loss=3.8190 acc=0.4971 | Val: loss=3.7422 acc=0.8510\n"
     ]
    },
    {
     "name": "stderr",
     "output_type": "stream",
     "text": [
      "Train MixUp: 100%|██████████| 32/32 [00:06<00:00,  4.80it/s]\n",
      "Eval: 100%|██████████| 32/32 [00:03<00:00,  9.84it/s]\n"
     ]
    },
    {
     "name": "stdout",
     "output_type": "stream",
     "text": [
      "[18/40] Train: loss=3.7723 acc=0.4990 | Val: loss=3.6946 acc=0.8510\n"
     ]
    },
    {
     "name": "stderr",
     "output_type": "stream",
     "text": [
      "Train MixUp: 100%|██████████| 32/32 [00:06<00:00,  4.79it/s]\n",
      "Eval: 100%|██████████| 32/32 [00:03<00:00,  9.92it/s]\n"
     ]
    },
    {
     "name": "stdout",
     "output_type": "stream",
     "text": [
      "[19/40] Train: loss=3.7298 acc=0.4990 | Val: loss=3.6481 acc=0.8569\n"
     ]
    },
    {
     "name": "stderr",
     "output_type": "stream",
     "text": [
      "Train MixUp: 100%|██████████| 32/32 [00:06<00:00,  4.79it/s]\n",
      "Eval: 100%|██████████| 32/32 [00:03<00:00,  9.85it/s]\n"
     ]
    },
    {
     "name": "stdout",
     "output_type": "stream",
     "text": [
      "[20/40] Train: loss=3.6804 acc=0.4716 | Val: loss=3.6017 acc=0.8539\n"
     ]
    },
    {
     "name": "stderr",
     "output_type": "stream",
     "text": [
      "Train MixUp: 100%|██████████| 32/32 [00:06<00:00,  4.79it/s]\n",
      "Eval: 100%|██████████| 32/32 [00:03<00:00,  9.88it/s]\n"
     ]
    },
    {
     "name": "stdout",
     "output_type": "stream",
     "text": [
      "[21/40] Train: loss=3.6293 acc=0.4696 | Val: loss=3.5553 acc=0.8549\n"
     ]
    },
    {
     "name": "stderr",
     "output_type": "stream",
     "text": [
      "Train MixUp: 100%|██████████| 32/32 [00:06<00:00,  4.81it/s]\n",
      "Eval: 100%|██████████| 32/32 [00:03<00:00,  9.78it/s]\n"
     ]
    },
    {
     "name": "stdout",
     "output_type": "stream",
     "text": [
      "[22/40] Train: loss=3.5896 acc=0.4755 | Val: loss=3.5093 acc=0.8647\n"
     ]
    },
    {
     "name": "stderr",
     "output_type": "stream",
     "text": [
      "Train MixUp: 100%|██████████| 32/32 [00:06<00:00,  4.80it/s]\n",
      "Eval: 100%|██████████| 32/32 [00:03<00:00,  9.84it/s]\n"
     ]
    },
    {
     "name": "stdout",
     "output_type": "stream",
     "text": [
      "[23/40] Train: loss=3.5485 acc=0.4569 | Val: loss=3.4644 acc=0.8667\n"
     ]
    },
    {
     "name": "stderr",
     "output_type": "stream",
     "text": [
      "Train MixUp: 100%|██████████| 32/32 [00:06<00:00,  4.79it/s]\n",
      "Eval: 100%|██████████| 32/32 [00:03<00:00,  9.82it/s]\n"
     ]
    },
    {
     "name": "stdout",
     "output_type": "stream",
     "text": [
      "[24/40] Train: loss=3.5097 acc=0.4706 | Val: loss=3.4199 acc=0.8755\n"
     ]
    },
    {
     "name": "stderr",
     "output_type": "stream",
     "text": [
      "Train MixUp: 100%|██████████| 32/32 [00:06<00:00,  4.79it/s]\n",
      "Eval: 100%|██████████| 32/32 [00:03<00:00,  9.91it/s]\n"
     ]
    },
    {
     "name": "stdout",
     "output_type": "stream",
     "text": [
      "[25/40] Train: loss=3.4730 acc=0.5078 | Val: loss=3.3763 acc=0.8696\n"
     ]
    },
    {
     "name": "stderr",
     "output_type": "stream",
     "text": [
      "Train MixUp: 100%|██████████| 32/32 [00:06<00:00,  4.78it/s]\n",
      "Eval: 100%|██████████| 32/32 [00:03<00:00,  9.86it/s]\n"
     ]
    },
    {
     "name": "stdout",
     "output_type": "stream",
     "text": [
      "[26/40] Train: loss=3.4147 acc=0.4912 | Val: loss=3.3322 acc=0.8735\n"
     ]
    },
    {
     "name": "stderr",
     "output_type": "stream",
     "text": [
      "Train MixUp: 100%|██████████| 32/32 [00:06<00:00,  4.78it/s]\n",
      "Eval: 100%|██████████| 32/32 [00:03<00:00,  9.81it/s]\n"
     ]
    },
    {
     "name": "stdout",
     "output_type": "stream",
     "text": [
      "[27/40] Train: loss=3.4057 acc=0.5069 | Val: loss=3.2896 acc=0.8784\n"
     ]
    },
    {
     "name": "stderr",
     "output_type": "stream",
     "text": [
      "Train MixUp: 100%|██████████| 32/32 [00:06<00:00,  4.80it/s]\n",
      "Eval: 100%|██████████| 32/32 [00:03<00:00,  9.70it/s]\n"
     ]
    },
    {
     "name": "stdout",
     "output_type": "stream",
     "text": [
      "[28/40] Train: loss=3.3485 acc=0.4824 | Val: loss=3.2472 acc=0.8804\n"
     ]
    },
    {
     "name": "stderr",
     "output_type": "stream",
     "text": [
      "Train MixUp: 100%|██████████| 32/32 [00:06<00:00,  4.79it/s]\n",
      "Eval: 100%|██████████| 32/32 [00:03<00:00,  9.81it/s]\n"
     ]
    },
    {
     "name": "stdout",
     "output_type": "stream",
     "text": [
      "[29/40] Train: loss=3.3005 acc=0.4775 | Val: loss=3.2053 acc=0.8804\n"
     ]
    },
    {
     "name": "stderr",
     "output_type": "stream",
     "text": [
      "Train MixUp: 100%|██████████| 32/32 [00:06<00:00,  4.78it/s]\n",
      "Eval: 100%|██████████| 32/32 [00:03<00:00,  9.91it/s]\n"
     ]
    },
    {
     "name": "stdout",
     "output_type": "stream",
     "text": [
      "[30/40] Train: loss=3.2494 acc=0.5029 | Val: loss=3.1634 acc=0.8843\n"
     ]
    },
    {
     "name": "stderr",
     "output_type": "stream",
     "text": [
      "Train MixUp: 100%|██████████| 32/32 [00:06<00:00,  4.78it/s]\n",
      "Eval: 100%|██████████| 32/32 [00:03<00:00,  9.84it/s]\n"
     ]
    },
    {
     "name": "stdout",
     "output_type": "stream",
     "text": [
      "[31/40] Train: loss=3.2392 acc=0.4961 | Val: loss=3.1225 acc=0.8922\n"
     ]
    },
    {
     "name": "stderr",
     "output_type": "stream",
     "text": [
      "Train MixUp: 100%|██████████| 32/32 [00:06<00:00,  4.78it/s]\n",
      "Eval: 100%|██████████| 32/32 [00:03<00:00,  9.86it/s]\n"
     ]
    },
    {
     "name": "stdout",
     "output_type": "stream",
     "text": [
      "[32/40] Train: loss=3.1595 acc=0.4804 | Val: loss=3.0813 acc=0.8912\n"
     ]
    },
    {
     "name": "stderr",
     "output_type": "stream",
     "text": [
      "Train MixUp: 100%|██████████| 32/32 [00:06<00:00,  4.79it/s]\n",
      "Eval: 100%|██████████| 32/32 [00:03<00:00,  9.72it/s]\n"
     ]
    },
    {
     "name": "stdout",
     "output_type": "stream",
     "text": [
      "[33/40] Train: loss=3.1375 acc=0.4902 | Val: loss=3.0406 acc=0.8863\n"
     ]
    },
    {
     "name": "stderr",
     "output_type": "stream",
     "text": [
      "Train MixUp: 100%|██████████| 32/32 [00:06<00:00,  4.79it/s]\n",
      "Eval: 100%|██████████| 32/32 [00:03<00:00,  9.75it/s]\n"
     ]
    },
    {
     "name": "stdout",
     "output_type": "stream",
     "text": [
      "[34/40] Train: loss=3.1196 acc=0.4794 | Val: loss=3.0013 acc=0.8863\n"
     ]
    },
    {
     "name": "stderr",
     "output_type": "stream",
     "text": [
      "Train MixUp: 100%|██████████| 32/32 [00:06<00:00,  4.80it/s]\n",
      "Eval: 100%|██████████| 32/32 [00:03<00:00,  9.81it/s]\n"
     ]
    },
    {
     "name": "stdout",
     "output_type": "stream",
     "text": [
      "[35/40] Train: loss=3.0576 acc=0.4912 | Val: loss=2.9622 acc=0.8784\n"
     ]
    },
    {
     "name": "stderr",
     "output_type": "stream",
     "text": [
      "Train MixUp: 100%|██████████| 32/32 [00:06<00:00,  4.78it/s]\n",
      "Eval: 100%|██████████| 32/32 [00:03<00:00,  9.82it/s]\n"
     ]
    },
    {
     "name": "stdout",
     "output_type": "stream",
     "text": [
      "[36/40] Train: loss=3.0370 acc=0.5294 | Val: loss=2.9240 acc=0.8775\n"
     ]
    },
    {
     "name": "stderr",
     "output_type": "stream",
     "text": [
      "Train MixUp: 100%|██████████| 32/32 [00:06<00:00,  4.78it/s]\n",
      "Eval: 100%|██████████| 32/32 [00:03<00:00,  9.83it/s]\n"
     ]
    },
    {
     "name": "stdout",
     "output_type": "stream",
     "text": [
      "[37/40] Train: loss=2.9719 acc=0.4892 | Val: loss=2.8854 acc=0.8775\n"
     ]
    },
    {
     "name": "stderr",
     "output_type": "stream",
     "text": [
      "Train MixUp: 100%|██████████| 32/32 [00:06<00:00,  4.78it/s]\n",
      "Eval: 100%|██████████| 32/32 [00:03<00:00,  9.84it/s]\n"
     ]
    },
    {
     "name": "stdout",
     "output_type": "stream",
     "text": [
      "[38/40] Train: loss=2.9542 acc=0.5127 | Val: loss=2.8475 acc=0.8794\n"
     ]
    },
    {
     "name": "stderr",
     "output_type": "stream",
     "text": [
      "Train MixUp: 100%|██████████| 32/32 [00:06<00:00,  4.79it/s]\n",
      "Eval: 100%|██████████| 32/32 [00:03<00:00,  9.79it/s]\n"
     ]
    },
    {
     "name": "stdout",
     "output_type": "stream",
     "text": [
      "[39/40] Train: loss=2.9044 acc=0.4882 | Val: loss=2.8100 acc=0.8765\n"
     ]
    },
    {
     "name": "stderr",
     "output_type": "stream",
     "text": [
      "Train MixUp: 100%|██████████| 32/32 [00:06<00:00,  4.80it/s]\n",
      "Eval: 100%|██████████| 32/32 [00:03<00:00,  9.73it/s]\n"
     ]
    },
    {
     "name": "stdout",
     "output_type": "stream",
     "text": [
      "[40/40] Train: loss=2.8905 acc=0.5176 | Val: loss=2.7735 acc=0.8804\n"
     ]
    },
    {
     "name": "stderr",
     "output_type": "stream",
     "text": [
      "Eval: 100%|██████████| 193/193 [00:19<00:00,  9.75it/s]"
     ]
    },
    {
     "name": "stdout",
     "output_type": "stream",
     "text": [
      "\n",
      "MixUp Final Results: Test loss=3.1537 | Test acc=0.8772\n"
     ]
    },
    {
     "name": "stderr",
     "output_type": "stream",
     "text": [
      "\n"
     ]
    }
   ],
   "source": [
    "# ================================================================\n",
    "# Train with MixUp augmentation (produces histories for plotting)\n",
    "# ================================================================\n",
    "print(\"\\n\" + \"=\"*70)\n",
    "print(\"TRAINING WITH MIXUP AUGMENTATION\")\n",
    "print(\"=\"*70)\n",
    "\n",
    "# Load CLIP (frozen eval; you're only training the head)\n",
    "clip_model_mixup = CLIPModel.from_pretrained(\"openai/clip-vit-base-patch32\").to(device).eval()\n",
    "head_mixup, optim_mixup, scaler_mixup = build_head_and_optim(clip_model_mixup)\n",
    "\n",
    "# <<< change α here to sweep values >>>\n",
    "mixup_module = MixUpModule(alpha=0.2)\n",
    "\n",
    "best_val_mixup = -1.0\n",
    "best_head_mixup = None\n",
    "earlystop_mixup = EarlyStopper()\n",
    "\n",
    "# Histories expected by your plotting cell (do not rename)\n",
    "train_losses_mixup, val_losses_mixup = [], []\n",
    "train_accs_mixup,  val_accs_mixup  = [], []\n",
    "\n",
    "for ep in range(1, cfg.epochs + 1):\n",
    "    training = run_epoch_with_mixup(\n",
    "        train_loader, head_mixup, clip_model_mixup,\n",
    "        optim_mixup, scaler_mixup, mixup_module, train=True\n",
    "    )\n",
    "    val = run_epoch_with_mixup(\n",
    "        val_loader, head_mixup, clip_model_mixup,\n",
    "        optim_mixup, scaler_mixup, mixup_module, train=False\n",
    "    )\n",
    "\n",
    "    # --- record histories for your plotting cell ---\n",
    "    train_losses_mixup.append(training['loss'])\n",
    "    val_losses_mixup.append(val['loss'])\n",
    "    train_accs_mixup.append(training['acc_cls'])\n",
    "    val_accs_mixup.append(val['acc_cls'])\n",
    "\n",
    "    print(f\"[{ep}/{cfg.epochs}] \"\n",
    "          f\"Train: loss={training['loss']:.4f} acc={training['acc_cls']:.4f} | \"\n",
    "          f\"Val: loss={val['loss']:.4f} acc={val['acc_cls']:.4f}\")\n",
    "\n",
    "    # Track best head by validation accuracy\n",
    "    if val[\"acc_cls\"] > best_val_mixup:\n",
    "        best_val_mixup = val[\"acc_cls\"]\n",
    "        best_head_mixup = {k: v.detach().cpu() for k, v in head_mixup.state_dict().items()}\n",
    "\n",
    "    # Early stopping on validation loss (your original logic)\n",
    "    earlystop_mixup.report(val['loss'])\n",
    "    if earlystop_mixup.stop_flag():\n",
    "        print(f\"Early stop triggered at epoch {ep}\")\n",
    "        break\n",
    "\n",
    "# Restore best validation head (if captured)\n",
    "if best_head_mixup is not None:\n",
    "    head_mixup.load_state_dict({k: v.to(device) for k, v in best_head_mixup.items()})\n",
    "\n",
    "# Final test evaluation (optional for your plots)\n",
    "test_mixup = run_epoch_with_mixup(\n",
    "    test_loader, head_mixup, clip_model_mixup,\n",
    "    optim_mixup, scaler_mixup, mixup_module, train=False\n",
    ")\n",
    "print(f\"\\nMixUp Final Results: Test loss={test_mixup['loss']:.4f} | Test acc={test_mixup['acc_cls']:.4f}\")\n"
   ]
  },
  {
   "cell_type": "code",
   "execution_count": 15,
   "id": "Rs29FqDmDi4w",
   "metadata": {
    "colab": {
     "base_uri": "https://localhost:8080/",
     "height": 525
    },
    "executionInfo": {
     "elapsed": 1407,
     "status": "ok",
     "timestamp": 1761827145648,
     "user": {
      "displayName": "晖景 PT26 筹募组",
      "userId": "03792069924342625156"
     },
     "user_tz": -480
    },
    "id": "Rs29FqDmDi4w",
    "outputId": "f4b9fb9f-5187-4ab2-ebe3-30f50f3ea143"
   },
   "outputs": [
    {
     "data": {
      "image/png": "[encoded data removed]",
      "text/plain": [
       "<Figure size 1400x500 with 2 Axes>"
      ]
     },
     "metadata": {},
     "output_type": "display_data"
    },
    {
     "name": "stdout",
     "output_type": "stream",
     "text": [
      "======================================================================\n"
     ]
    }
   ],
   "source": [
    "import matplotlib.pyplot as plt\n",
    "\n",
    "# Visualize comparison\n",
    "fig, axes = plt.subplots(1, 2, figsize=(14, 5))\n",
    "\n",
    "epochs_range = range(1, len(train_losses_mixup) + 1)\n",
    "\n",
    "# Loss comparison\n",
    "axes[0].plot(epochs_range, train_losses_mixup, 'o-', label='Train Loss (MixUp)', linewidth=2)\n",
    "axes[0].plot(epochs_range, val_losses_mixup, 's-', label='Val Loss (MixUp)', linewidth=2)\n",
    "axes[0].set_xlabel('Epoch', fontsize=12)\n",
    "axes[0].set_ylabel('Loss', fontsize=12)\n",
    "axes[0].set_title('MixUp Training: Loss over Epochs', fontsize=13, fontweight='bold')\n",
    "axes[0].grid(True, alpha=0.3)\n",
    "axes[0].legend(fontsize=11)\n",
    "\n",
    "# Accuracy comparison\n",
    "axes[1].plot(epochs_range, train_accs_mixup, 'o-', label='Train Acc (MixUp)', linewidth=2)\n",
    "axes[1].plot(epochs_range, val_accs_mixup, 's-', label='Val Acc (MixUp)', linewidth=2)\n",
    "axes[1].set_xlabel('Epoch', fontsize=12)\n",
    "axes[1].set_ylabel('Accuracy', fontsize=12)\n",
    "axes[1].set_title('MixUp Training: Accuracy over Epochs', fontsize=13, fontweight='bold')\n",
    "axes[1].grid(True, alpha=0.3)\n",
    "axes[1].legend(fontsize=11)\n",
    "\n",
    "plt.tight_layout()\n",
    "plt.show()\n",
    "\n",
    "print(\"=\"*70)"
   ]
  }
 ],
 "metadata": {
  "accelerator": "GPU",
  "colab": {
   "gpuType": "T4",
   "provenance": []
  },
  "kernelspec": {
   "display_name": "Python 3",
   "name": "python3"
  },
  "language_info": {
   "codemirror_mode": {
    "name": "ipython",
    "version": 3
   },
   "file_extension": ".py",
   "mimetype": "text/x-python",
   "name": "python",
   "nbconvert_exporter": "python",
   "pygments_lexer": "ipython3",
   "version": "3.12.4"
  },
  "widgets": {
   "application/vnd.jupyter.widget-state+json": {
    "01f1faae372046b6826c75f55e6f1b50": {
     "model_module": "@jupyter-widgets/base",
     "model_module_version": "1.2.0",
     "model_name": "LayoutModel",
     "state": {
      "_model_module": "@jupyter-widgets/base",
      "_model_module_version": "1.2.0",
      "_model_name": "LayoutModel",
      "_view_count": null,
      "_view_module": "@jupyter-widgets/base",
      "_view_module_version": "1.2.0",
      "_view_name": "LayoutView",
      "align_content": null,
      "align_items": null,
      "align_self": null,
      "border": null,
      "bottom": null,
      "display": null,
      "flex": null,
      "flex_flow": null,
      "grid_area": null,
      "grid_auto_columns": null,
      "grid_auto_flow": null,
      "grid_auto_rows": null,
      "grid_column": null,
      "grid_gap": null,
      "grid_row": null,
      "grid_template_areas": null,
      "grid_template_columns": null,
      "grid_template_rows": null,
      "height": null,
      "justify_content": null,
      "justify_items": null,
      "left": null,
      "margin": null,
      "max_height": null,
      "max_width": null,
      "min_height": null,
      "min_width": null,
      "object_fit": null,
      "object_position": null,
      "order": null,
      "overflow": null,
      "overflow_x": null,
      "overflow_y": null,
      "padding": null,
      "right": null,
      "top": null,
      "visibility": null,
      "width": null
     }
    },
    "0277f04cbb0f4026b80c311bb369ec3d": {
     "model_module": "@jupyter-widgets/controls",
     "model_module_version": "1.5.0",
     "model_name": "HTMLModel",
     "state": {
      "_dom_classes": [],
      "_model_module": "@jupyter-widgets/controls",
      "_model_module_version": "1.5.0",
      "_model_name": "HTMLModel",
      "_view_count": null,
      "_view_module": "@jupyter-widgets/controls",
      "_view_module_version": "1.5.0",
      "_view_name": "HTMLView",
      "description": "",
      "description_tooltip": null,
      "layout": "IPY_MODEL_992b2a0a8cd14f53828a016a7a8a4ccc",
      "placeholder": "​",
      "style": "IPY_MODEL_dd199421b7864dcf9ceb813e88084d01",
      "value": "merges.txt: "
     }
    },
    "04f162d094044c679fb63a05fb09d354": {
     "model_module": "@jupyter-widgets/base",
     "model_module_version": "1.2.0",
     "model_name": "LayoutModel",
     "state": {
      "_model_module": "@jupyter-widgets/base",
      "_model_module_version": "1.2.0",
      "_model_name": "LayoutModel",
      "_view_count": null,
      "_view_module": "@jupyter-widgets/base",
      "_view_module_version": "1.2.0",
      "_view_name": "LayoutView",
      "align_content": null,
      "align_items": null,
      "align_self": null,
      "border": null,
      "bottom": null,
      "display": null,
      "flex": null,
      "flex_flow": null,
      "grid_area": null,
      "grid_auto_columns": null,
      "grid_auto_flow": null,
      "grid_auto_rows": null,
      "grid_column": null,
      "grid_gap": null,
      "grid_row": null,
      "grid_template_areas": null,
      "grid_template_columns": null,
      "grid_template_rows": null,
      "height": null,
      "justify_content": null,
      "justify_items": null,
      "left": null,
      "margin": null,
      "max_height": null,
      "max_width": null,
      "min_height": null,
      "min_width": null,
      "object_fit": null,
      "object_position": null,
      "order": null,
      "overflow": null,
      "overflow_x": null,
      "overflow_y": null,
      "padding": null,
      "right": null,
      "top": null,
      "visibility": null,
      "width": null
     }
    },
    "0628a23f0c504dfc92bba5461d19916a": {
     "model_module": "@jupyter-widgets/controls",
     "model_module_version": "1.5.0",
     "model_name": "HBoxModel",
     "state": {
      "_dom_classes": [],
      "_model_module": "@jupyter-widgets/controls",
      "_model_module_version": "1.5.0",
      "_model_name": "HBoxModel",
      "_view_count": null,
      "_view_module": "@jupyter-widgets/controls",
      "_view_module_version": "1.5.0",
      "_view_name": "HBoxView",
      "box_style": "",
      "children": [
       "IPY_MODEL_7602514f70584b8d9027abfbd6fbd9d1",
       "IPY_MODEL_786f1dc95d6a4f2a987e63c00759a404",
       "IPY_MODEL_a1c3fb992b9d417094fdd19bfa9b3e9e"
      ],
      "layout": "IPY_MODEL_5a22b2cd56a2498aa1bc2585e02a9a7c"
     }
    },
    "0beb39bd72b9414081d648a8134dcaba": {
     "model_module": "@jupyter-widgets/controls",
     "model_module_version": "1.5.0",
     "model_name": "HBoxModel",
     "state": {
      "_dom_classes": [],
      "_model_module": "@jupyter-widgets/controls",
      "_model_module_version": "1.5.0",
      "_model_name": "HBoxModel",
      "_view_count": null,
      "_view_module": "@jupyter-widgets/controls",
      "_view_module_version": "1.5.0",
      "_view_name": "HBoxView",
      "box_style": "",
      "children": [
       "IPY_MODEL_cb7ef89b7a5542ffb78fee8a70429ada",
       "IPY_MODEL_95ca064fe42e4d10967e7a102463e3e2",
       "IPY_MODEL_8e2bd2bb990744b0b85571bf7c832c9a"
      ],
      "layout": "IPY_MODEL_4ac3637d350b476eabaaa3db83f67a4a"
     }
    },
    "0c5947b7cf494775b59f6ec98701b8d0": {
     "model_module": "@jupyter-widgets/base",
     "model_module_version": "1.2.0",
     "model_name": "LayoutModel",
     "state": {
      "_model_module": "@jupyter-widgets/base",
      "_model_module_version": "1.2.0",
      "_model_name": "LayoutModel",
      "_view_count": null,
      "_view_module": "@jupyter-widgets/base",
      "_view_module_version": "1.2.0",
      "_view_name": "LayoutView",
      "align_content": null,
      "align_items": null,
      "align_self": null,
      "border": null,
      "bottom": null,
      "display": null,
      "flex": null,
      "flex_flow": null,
      "grid_area": null,
      "grid_auto_columns": null,
      "grid_auto_flow": null,
      "grid_auto_rows": null,
      "grid_column": null,
      "grid_gap": null,
      "grid_row": null,
      "grid_template_areas": null,
      "grid_template_columns": null,
      "grid_template_rows": null,
      "height": null,
      "justify_content": null,
      "justify_items": null,
      "left": null,
      "margin": null,
      "max_height": null,
      "max_width": null,
      "min_height": null,
      "min_width": null,
      "object_fit": null,
      "object_position": null,
      "order": null,
      "overflow": null,
      "overflow_x": null,
      "overflow_y": null,
      "padding": null,
      "right": null,
      "top": null,
      "visibility": null,
      "width": null
     }
    },
    "11afb02e60164dd2ad20ddebdbb0ee0d": {
     "model_module": "@jupyter-widgets/base",
     "model_module_version": "1.2.0",
     "model_name": "LayoutModel",
     "state": {
      "_model_module": "@jupyter-widgets/base",
      "_model_module_version": "1.2.0",
      "_model_name": "LayoutModel",
      "_view_count": null,
      "_view_module": "@jupyter-widgets/base",
      "_view_module_version": "1.2.0",
      "_view_name": "LayoutView",
      "align_content": null,
      "align_items": null,
      "align_self": null,
      "border": null,
      "bottom": null,
      "display": null,
      "flex": null,
      "flex_flow": null,
      "grid_area": null,
      "grid_auto_columns": null,
      "grid_auto_flow": null,
      "grid_auto_rows": null,
      "grid_column": null,
      "grid_gap": null,
      "grid_row": null,
      "grid_template_areas": null,
      "grid_template_columns": null,
      "grid_template_rows": null,
      "height": null,
      "justify_content": null,
      "justify_items": null,
      "left": null,
      "margin": null,
      "max_height": null,
      "max_width": null,
      "min_height": null,
      "min_width": null,
      "object_fit": null,
      "object_position": null,
      "order": null,
      "overflow": null,
      "overflow_x": null,
      "overflow_y": null,
      "padding": null,
      "right": null,
      "top": null,
      "visibility": null,
      "width": null
     }
    },
    "17b1b265227548d089a643a25a817a7d": {
     "model_module": "@jupyter-widgets/base",
     "model_module_version": "1.2.0",
     "model_name": "LayoutModel",
     "state": {
      "_model_module": "@jupyter-widgets/base",
      "_model_module_version": "1.2.0",
      "_model_name": "LayoutModel",
      "_view_count": null,
      "_view_module": "@jupyter-widgets/base",
      "_view_module_version": "1.2.0",
      "_view_name": "LayoutView",
      "align_content": null,
      "align_items": null,
      "align_self": null,
      "border": null,
      "bottom": null,
      "display": null,
      "flex": null,
      "flex_flow": null,
      "grid_area": null,
      "grid_auto_columns": null,
      "grid_auto_flow": null,
      "grid_auto_rows": null,
      "grid_column": null,
      "grid_gap": null,
      "grid_row": null,
      "grid_template_areas": null,
      "grid_template_columns": null,
      "grid_template_rows": null,
      "height": null,
      "justify_content": null,
      "justify_items": null,
      "left": null,
      "margin": null,
      "max_height": null,
      "max_width": null,
      "min_height": null,
      "min_width": null,
      "object_fit": null,
      "object_position": null,
      "order": null,
      "overflow": null,
      "overflow_x": null,
      "overflow_y": null,
      "padding": null,
      "right": null,
      "top": null,
      "visibility": null,
      "width": null
     }
    },
    "1897e42d1fe948f1871daa03268764f0": {
     "model_module": "@jupyter-widgets/controls",
     "model_module_version": "1.5.0",
     "model_name": "HTMLModel",
     "state": {
      "_dom_classes": [],
      "_model_module": "@jupyter-widgets/controls",
      "_model_module_version": "1.5.0",
      "_model_name": "HTMLModel",
      "_view_count": null,
      "_view_module": "@jupyter-widgets/controls",
      "_view_module_version": "1.5.0",
      "_view_name": "HTMLView",
      "description": "",
      "description_tooltip": null,
      "layout": "IPY_MODEL_17b1b265227548d089a643a25a817a7d",
      "placeholder": "​",
      "style": "IPY_MODEL_1d9c47c99b2f463aa529e7f5a864f5fc",
      "value": "pytorch_model.bin: 100%"
     }
    },
    "1966223c488544c78f7fed4f37fc04cd": {
     "model_module": "@jupyter-widgets/controls",
     "model_module_version": "1.5.0",
     "model_name": "ProgressStyleModel",
     "state": {
      "_model_module": "@jupyter-widgets/controls",
      "_model_module_version": "1.5.0",
      "_model_name": "ProgressStyleModel",
      "_view_count": null,
      "_view_module": "@jupyter-widgets/base",
      "_view_module_version": "1.2.0",
      "_view_name": "StyleView",
      "bar_color": null,
      "description_width": ""
     }
    },
    "1a553d3d48344aff9eb5536899a47da5": {
     "model_module": "@jupyter-widgets/controls",
     "model_module_version": "1.5.0",
     "model_name": "HTMLModel",
     "state": {
      "_dom_classes": [],
      "_model_module": "@jupyter-widgets/controls",
      "_model_module_version": "1.5.0",
      "_model_name": "HTMLModel",
      "_view_count": null,
      "_view_module": "@jupyter-widgets/controls",
      "_view_module_version": "1.5.0",
      "_view_name": "HTMLView",
      "description": "",
      "description_tooltip": null,
      "layout": "IPY_MODEL_2018e9bc8c00463f999577cb0de36495",
      "placeholder": "​",
      "style": "IPY_MODEL_f31f6f8aac0849aaae0b67ab75a792ef",
      "value": " 4.19k/? [00:00&lt;00:00, 109kB/s]"
     }
    },
    "1b7be38f930347a49686e304d2171591": {
     "model_module": "@jupyter-widgets/base",
     "model_module_version": "1.2.0",
     "model_name": "LayoutModel",
     "state": {
      "_model_module": "@jupyter-widgets/base",
      "_model_module_version": "1.2.0",
      "_model_name": "LayoutModel",
      "_view_count": null,
      "_view_module": "@jupyter-widgets/base",
      "_view_module_version": "1.2.0",
      "_view_name": "LayoutView",
      "align_content": null,
      "align_items": null,
      "align_self": null,
      "border": null,
      "bottom": null,
      "display": null,
      "flex": null,
      "flex_flow": null,
      "grid_area": null,
      "grid_auto_columns": null,
      "grid_auto_flow": null,
      "grid_auto_rows": null,
      "grid_column": null,
      "grid_gap": null,
      "grid_row": null,
      "grid_template_areas": null,
      "grid_template_columns": null,
      "grid_template_rows": null,
      "height": null,
      "justify_content": null,
      "justify_items": null,
      "left": null,
      "margin": null,
      "max_height": null,
      "max_width": null,
      "min_height": null,
      "min_width": null,
      "object_fit": null,
      "object_position": null,
      "order": null,
      "overflow": null,
      "overflow_x": null,
      "overflow_y": null,
      "padding": null,
      "right": null,
      "top": null,
      "visibility": null,
      "width": null
     }
    },
    "1ce77663bc47485db8546935999e6039": {
     "model_module": "@jupyter-widgets/controls",
     "model_module_version": "1.5.0",
     "model_name": "ProgressStyleModel",
     "state": {
      "_model_module": "@jupyter-widgets/controls",
      "_model_module_version": "1.5.0",
      "_model_name": "ProgressStyleModel",
      "_view_count": null,
      "_view_module": "@jupyter-widgets/base",
      "_view_module_version": "1.2.0",
      "_view_name": "StyleView",
      "bar_color": null,
      "description_width": ""
     }
    },
    "1d13a133b71247d3b658dd8992876048": {
     "model_module": "@jupyter-widgets/controls",
     "model_module_version": "1.5.0",
     "model_name": "HTMLModel",
     "state": {
      "_dom_classes": [],
      "_model_module": "@jupyter-widgets/controls",
      "_model_module_version": "1.5.0",
      "_model_name": "HTMLModel",
      "_view_count": null,
      "_view_module": "@jupyter-widgets/controls",
      "_view_module_version": "1.5.0",
      "_view_name": "HTMLView",
      "description": "",
      "description_tooltip": null,
      "layout": "IPY_MODEL_c5935771c801400aac454a27fd429727",
      "placeholder": "​",
      "style": "IPY_MODEL_2403123dc63b4a06a3eb73b873306a72",
      "value": " 2.22M/? [00:00&lt;00:00, 17.7MB/s]"
     }
    },
    "1d5fcadc90ba4dc5b6a9750aa74a60de": {
     "model_module": "@jupyter-widgets/controls",
     "model_module_version": "1.5.0",
     "model_name": "DescriptionStyleModel",
     "state": {
      "_model_module": "@jupyter-widgets/controls",
      "_model_module_version": "1.5.0",
      "_model_name": "DescriptionStyleModel",
      "_view_count": null,
      "_view_module": "@jupyter-widgets/base",
      "_view_module_version": "1.2.0",
      "_view_name": "StyleView",
      "description_width": ""
     }
    },
    "1d9c47c99b2f463aa529e7f5a864f5fc": {
     "model_module": "@jupyter-widgets/controls",
     "model_module_version": "1.5.0",
     "model_name": "DescriptionStyleModel",
     "state": {
      "_model_module": "@jupyter-widgets/controls",
      "_model_module_version": "1.5.0",
      "_model_name": "DescriptionStyleModel",
      "_view_count": null,
      "_view_module": "@jupyter-widgets/base",
      "_view_module_version": "1.2.0",
      "_view_name": "StyleView",
      "description_width": ""
     }
    },
    "2018e9bc8c00463f999577cb0de36495": {
     "model_module": "@jupyter-widgets/base",
     "model_module_version": "1.2.0",
     "model_name": "LayoutModel",
     "state": {
      "_model_module": "@jupyter-widgets/base",
      "_model_module_version": "1.2.0",
      "_model_name": "LayoutModel",
      "_view_count": null,
      "_view_module": "@jupyter-widgets/base",
      "_view_module_version": "1.2.0",
      "_view_name": "LayoutView",
      "align_content": null,
      "align_items": null,
      "align_self": null,
      "border": null,
      "bottom": null,
      "display": null,
      "flex": null,
      "flex_flow": null,
      "grid_area": null,
      "grid_auto_columns": null,
      "grid_auto_flow": null,
      "grid_auto_rows": null,
      "grid_column": null,
      "grid_gap": null,
      "grid_row": null,
      "grid_template_areas": null,
      "grid_template_columns": null,
      "grid_template_rows": null,
      "height": null,
      "justify_content": null,
      "justify_items": null,
      "left": null,
      "margin": null,
      "max_height": null,
      "max_width": null,
      "min_height": null,
      "min_width": null,
      "object_fit": null,
      "object_position": null,
      "order": null,
      "overflow": null,
      "overflow_x": null,
      "overflow_y": null,
      "padding": null,
      "right": null,
      "top": null,
      "visibility": null,
      "width": null
     }
    },
    "2403123dc63b4a06a3eb73b873306a72": {
     "model_module": "@jupyter-widgets/controls",
     "model_module_version": "1.5.0",
     "model_name": "DescriptionStyleModel",
     "state": {
      "_model_module": "@jupyter-widgets/controls",
      "_model_module_version": "1.5.0",
      "_model_name": "DescriptionStyleModel",
      "_view_count": null,
      "_view_module": "@jupyter-widgets/base",
      "_view_module_version": "1.2.0",
      "_view_name": "StyleView",
      "description_width": ""
     }
    },
    "274a84e402164cefbfe59fc6713d5a36": {
     "model_module": "@jupyter-widgets/base",
     "model_module_version": "1.2.0",
     "model_name": "LayoutModel",
     "state": {
      "_model_module": "@jupyter-widgets/base",
      "_model_module_version": "1.2.0",
      "_model_name": "LayoutModel",
      "_view_count": null,
      "_view_module": "@jupyter-widgets/base",
      "_view_module_version": "1.2.0",
      "_view_name": "LayoutView",
      "align_content": null,
      "align_items": null,
      "align_self": null,
      "border": null,
      "bottom": null,
      "display": null,
      "flex": null,
      "flex_flow": null,
      "grid_area": null,
      "grid_auto_columns": null,
      "grid_auto_flow": null,
      "grid_auto_rows": null,
      "grid_column": null,
      "grid_gap": null,
      "grid_row": null,
      "grid_template_areas": null,
      "grid_template_columns": null,
      "grid_template_rows": null,
      "height": null,
      "justify_content": null,
      "justify_items": null,
      "left": null,
      "margin": null,
      "max_height": null,
      "max_width": null,
      "min_height": null,
      "min_width": null,
      "object_fit": null,
      "object_position": null,
      "order": null,
      "overflow": null,
      "overflow_x": null,
      "overflow_y": null,
      "padding": null,
      "right": null,
      "top": null,
      "visibility": null,
      "width": null
     }
    },
    "2a1e6e97efd4427fb7da23097fbb9b98": {
     "model_module": "@jupyter-widgets/base",
     "model_module_version": "1.2.0",
     "model_name": "LayoutModel",
     "state": {
      "_model_module": "@jupyter-widgets/base",
      "_model_module_version": "1.2.0",
      "_model_name": "LayoutModel",
      "_view_count": null,
      "_view_module": "@jupyter-widgets/base",
      "_view_module_version": "1.2.0",
      "_view_name": "LayoutView",
      "align_content": null,
      "align_items": null,
      "align_self": null,
      "border": null,
      "bottom": null,
      "display": null,
      "flex": null,
      "flex_flow": null,
      "grid_area": null,
      "grid_auto_columns": null,
      "grid_auto_flow": null,
      "grid_auto_rows": null,
      "grid_column": null,
      "grid_gap": null,
      "grid_row": null,
      "grid_template_areas": null,
      "grid_template_columns": null,
      "grid_template_rows": null,
      "height": null,
      "justify_content": null,
      "justify_items": null,
      "left": null,
      "margin": null,
      "max_height": null,
      "max_width": null,
      "min_height": null,
      "min_width": null,
      "object_fit": null,
      "object_position": null,
      "order": null,
      "overflow": null,
      "overflow_x": null,
      "overflow_y": null,
      "padding": null,
      "right": null,
      "top": null,
      "visibility": null,
      "width": null
     }
    },
    "2f28b3f5fc394b5ab0de1f66ea69a7ff": {
     "model_module": "@jupyter-widgets/controls",
     "model_module_version": "1.5.0",
     "model_name": "HBoxModel",
     "state": {
      "_dom_classes": [],
      "_model_module": "@jupyter-widgets/controls",
      "_model_module_version": "1.5.0",
      "_model_name": "HBoxModel",
      "_view_count": null,
      "_view_module": "@jupyter-widgets/controls",
      "_view_module_version": "1.5.0",
      "_view_name": "HBoxView",
      "box_style": "",
      "children": [
       "IPY_MODEL_a5292d8ba05140eb9ea0d1051a5f5ff8",
       "IPY_MODEL_a0c7b29c77624ea2b8be567521ee95c5",
       "IPY_MODEL_ed4ed9e3d97f49869df832a1cebcfca3"
      ],
      "layout": "IPY_MODEL_04f162d094044c679fb63a05fb09d354"
     }
    },
    "3323016522764f66b6fa18f2e7504277": {
     "model_module": "@jupyter-widgets/controls",
     "model_module_version": "1.5.0",
     "model_name": "ProgressStyleModel",
     "state": {
      "_model_module": "@jupyter-widgets/controls",
      "_model_module_version": "1.5.0",
      "_model_name": "ProgressStyleModel",
      "_view_count": null,
      "_view_module": "@jupyter-widgets/base",
      "_view_module_version": "1.2.0",
      "_view_name": "StyleView",
      "bar_color": null,
      "description_width": ""
     }
    },
    "336d378d85284bcaa2fb4dffc233d21d": {
     "model_module": "@jupyter-widgets/base",
     "model_module_version": "1.2.0",
     "model_name": "LayoutModel",
     "state": {
      "_model_module": "@jupyter-widgets/base",
      "_model_module_version": "1.2.0",
      "_model_name": "LayoutModel",
      "_view_count": null,
      "_view_module": "@jupyter-widgets/base",
      "_view_module_version": "1.2.0",
      "_view_name": "LayoutView",
      "align_content": null,
      "align_items": null,
      "align_self": null,
      "border": null,
      "bottom": null,
      "display": null,
      "flex": null,
      "flex_flow": null,
      "grid_area": null,
      "grid_auto_columns": null,
      "grid_auto_flow": null,
      "grid_auto_rows": null,
      "grid_column": null,
      "grid_gap": null,
      "grid_row": null,
      "grid_template_areas": null,
      "grid_template_columns": null,
      "grid_template_rows": null,
      "height": null,
      "justify_content": null,
      "justify_items": null,
      "left": null,
      "margin": null,
      "max_height": null,
      "max_width": null,
      "min_height": null,
      "min_width": null,
      "object_fit": null,
      "object_position": null,
      "order": null,
      "overflow": null,
      "overflow_x": null,
      "overflow_y": null,
      "padding": null,
      "right": null,
      "top": null,
      "visibility": null,
      "width": null
     }
    },
    "3a115f50bd1a48ca86f767b8d82a35ed": {
     "model_module": "@jupyter-widgets/base",
     "model_module_version": "1.2.0",
     "model_name": "LayoutModel",
     "state": {
      "_model_module": "@jupyter-widgets/base",
      "_model_module_version": "1.2.0",
      "_model_name": "LayoutModel",
      "_view_count": null,
      "_view_module": "@jupyter-widgets/base",
      "_view_module_version": "1.2.0",
      "_view_name": "LayoutView",
      "align_content": null,
      "align_items": null,
      "align_self": null,
      "border": null,
      "bottom": null,
      "display": null,
      "flex": null,
      "flex_flow": null,
      "grid_area": null,
      "grid_auto_columns": null,
      "grid_auto_flow": null,
      "grid_auto_rows": null,
      "grid_column": null,
      "grid_gap": null,
      "grid_row": null,
      "grid_template_areas": null,
      "grid_template_columns": null,
      "grid_template_rows": null,
      "height": null,
      "justify_content": null,
      "justify_items": null,
      "left": null,
      "margin": null,
      "max_height": null,
      "max_width": null,
      "min_height": null,
      "min_width": null,
      "object_fit": null,
      "object_position": null,
      "order": null,
      "overflow": null,
      "overflow_x": null,
      "overflow_y": null,
      "padding": null,
      "right": null,
      "top": null,
      "visibility": null,
      "width": null
     }
    },
    "3f803273c7894a789ca6eaa3d8214ed0": {
     "model_module": "@jupyter-widgets/controls",
     "model_module_version": "1.5.0",
     "model_name": "HBoxModel",
     "state": {
      "_dom_classes": [],
      "_model_module": "@jupyter-widgets/controls",
      "_model_module_version": "1.5.0",
      "_model_name": "HBoxModel",
      "_view_count": null,
      "_view_module": "@jupyter-widgets/controls",
      "_view_module_version": "1.5.0",
      "_view_name": "HBoxView",
      "box_style": "",
      "children": [
       "IPY_MODEL_a03dccf8cecb4356a9870309f0efaa24",
       "IPY_MODEL_419053c9d72a45b29725d84723db7855",
       "IPY_MODEL_a34b427be96a432d875504928a8e2fc9"
      ],
      "layout": "IPY_MODEL_4bf8d2d83267492db9e8f6bb34a36eb6"
     }
    },
    "40f778eb4bd14be393151b5b3543181b": {
     "model_module": "@jupyter-widgets/controls",
     "model_module_version": "1.5.0",
     "model_name": "HBoxModel",
     "state": {
      "_dom_classes": [],
      "_model_module": "@jupyter-widgets/controls",
      "_model_module_version": "1.5.0",
      "_model_name": "HBoxModel",
      "_view_count": null,
      "_view_module": "@jupyter-widgets/controls",
      "_view_module_version": "1.5.0",
      "_view_name": "HBoxView",
      "box_style": "",
      "children": [
       "IPY_MODEL_0277f04cbb0f4026b80c311bb369ec3d",
       "IPY_MODEL_4b5171893ca4425393d59fced57c234d",
       "IPY_MODEL_6d55f3f2b9424c4e8cfc39001a72d4d9"
      ],
      "layout": "IPY_MODEL_336d378d85284bcaa2fb4dffc233d21d"
     }
    },
    "419053c9d72a45b29725d84723db7855": {
     "model_module": "@jupyter-widgets/controls",
     "model_module_version": "1.5.0",
     "model_name": "FloatProgressModel",
     "state": {
      "_dom_classes": [],
      "_model_module": "@jupyter-widgets/controls",
      "_model_module_version": "1.5.0",
      "_model_name": "FloatProgressModel",
      "_view_count": null,
      "_view_module": "@jupyter-widgets/controls",
      "_view_module_version": "1.5.0",
      "_view_name": "ProgressView",
      "bar_style": "success",
      "description": "",
      "description_tooltip": null,
      "layout": "IPY_MODEL_e1ff23b4cd8e490fa2db57fa52f59a80",
      "max": 605157884,
      "min": 0,
      "orientation": "horizontal",
      "style": "IPY_MODEL_3323016522764f66b6fa18f2e7504277",
      "value": 605157884
     }
    },
    "44caa02fe37b4e16abca2479ba38481e": {
     "model_module": "@jupyter-widgets/base",
     "model_module_version": "1.2.0",
     "model_name": "LayoutModel",
     "state": {
      "_model_module": "@jupyter-widgets/base",
      "_model_module_version": "1.2.0",
      "_model_name": "LayoutModel",
      "_view_count": null,
      "_view_module": "@jupyter-widgets/base",
      "_view_module_version": "1.2.0",
      "_view_name": "LayoutView",
      "align_content": null,
      "align_items": null,
      "align_self": null,
      "border": null,
      "bottom": null,
      "display": null,
      "flex": null,
      "flex_flow": null,
      "grid_area": null,
      "grid_auto_columns": null,
      "grid_auto_flow": null,
      "grid_auto_rows": null,
      "grid_column": null,
      "grid_gap": null,
      "grid_row": null,
      "grid_template_areas": null,
      "grid_template_columns": null,
      "grid_template_rows": null,
      "height": null,
      "justify_content": null,
      "justify_items": null,
      "left": null,
      "margin": null,
      "max_height": null,
      "max_width": null,
      "min_height": null,
      "min_width": null,
      "object_fit": null,
      "object_position": null,
      "order": null,
      "overflow": null,
      "overflow_x": null,
      "overflow_y": null,
      "padding": null,
      "right": null,
      "top": null,
      "visibility": null,
      "width": null
     }
    },
    "47706b833aeb4b4d977e144f2da3cee0": {
     "model_module": "@jupyter-widgets/controls",
     "model_module_version": "1.5.0",
     "model_name": "ProgressStyleModel",
     "state": {
      "_model_module": "@jupyter-widgets/controls",
      "_model_module_version": "1.5.0",
      "_model_name": "ProgressStyleModel",
      "_view_count": null,
      "_view_module": "@jupyter-widgets/base",
      "_view_module_version": "1.2.0",
      "_view_name": "StyleView",
      "bar_color": null,
      "description_width": ""
     }
    },
    "48a5b7a1f16d402987633f446923e94c": {
     "model_module": "@jupyter-widgets/controls",
     "model_module_version": "1.5.0",
     "model_name": "DescriptionStyleModel",
     "state": {
      "_model_module": "@jupyter-widgets/controls",
      "_model_module_version": "1.5.0",
      "_model_name": "DescriptionStyleModel",
      "_view_count": null,
      "_view_module": "@jupyter-widgets/base",
      "_view_module_version": "1.2.0",
      "_view_name": "StyleView",
      "description_width": ""
     }
    },
    "4ac3637d350b476eabaaa3db83f67a4a": {
     "model_module": "@jupyter-widgets/base",
     "model_module_version": "1.2.0",
     "model_name": "LayoutModel",
     "state": {
      "_model_module": "@jupyter-widgets/base",
      "_model_module_version": "1.2.0",
      "_model_name": "LayoutModel",
      "_view_count": null,
      "_view_module": "@jupyter-widgets/base",
      "_view_module_version": "1.2.0",
      "_view_name": "LayoutView",
      "align_content": null,
      "align_items": null,
      "align_self": null,
      "border": null,
      "bottom": null,
      "display": null,
      "flex": null,
      "flex_flow": null,
      "grid_area": null,
      "grid_auto_columns": null,
      "grid_auto_flow": null,
      "grid_auto_rows": null,
      "grid_column": null,
      "grid_gap": null,
      "grid_row": null,
      "grid_template_areas": null,
      "grid_template_columns": null,
      "grid_template_rows": null,
      "height": null,
      "justify_content": null,
      "justify_items": null,
      "left": null,
      "margin": null,
      "max_height": null,
      "max_width": null,
      "min_height": null,
      "min_width": null,
      "object_fit": null,
      "object_position": null,
      "order": null,
      "overflow": null,
      "overflow_x": null,
      "overflow_y": null,
      "padding": null,
      "right": null,
      "top": null,
      "visibility": null,
      "width": null
     }
    },
    "4b5171893ca4425393d59fced57c234d": {
     "model_module": "@jupyter-widgets/controls",
     "model_module_version": "1.5.0",
     "model_name": "FloatProgressModel",
     "state": {
      "_dom_classes": [],
      "_model_module": "@jupyter-widgets/controls",
      "_model_module_version": "1.5.0",
      "_model_name": "FloatProgressModel",
      "_view_count": null,
      "_view_module": "@jupyter-widgets/controls",
      "_view_module_version": "1.5.0",
      "_view_name": "ProgressView",
      "bar_style": "success",
      "description": "",
      "description_tooltip": null,
      "layout": "IPY_MODEL_b0a273cba69449658055ca7717a9182b",
      "max": 1,
      "min": 0,
      "orientation": "horizontal",
      "style": "IPY_MODEL_47706b833aeb4b4d977e144f2da3cee0",
      "value": 1
     }
    },
    "4bf8d2d83267492db9e8f6bb34a36eb6": {
     "model_module": "@jupyter-widgets/base",
     "model_module_version": "1.2.0",
     "model_name": "LayoutModel",
     "state": {
      "_model_module": "@jupyter-widgets/base",
      "_model_module_version": "1.2.0",
      "_model_name": "LayoutModel",
      "_view_count": null,
      "_view_module": "@jupyter-widgets/base",
      "_view_module_version": "1.2.0",
      "_view_name": "LayoutView",
      "align_content": null,
      "align_items": null,
      "align_self": null,
      "border": null,
      "bottom": null,
      "display": null,
      "flex": null,
      "flex_flow": null,
      "grid_area": null,
      "grid_auto_columns": null,
      "grid_auto_flow": null,
      "grid_auto_rows": null,
      "grid_column": null,
      "grid_gap": null,
      "grid_row": null,
      "grid_template_areas": null,
      "grid_template_columns": null,
      "grid_template_rows": null,
      "height": null,
      "justify_content": null,
      "justify_items": null,
      "left": null,
      "margin": null,
      "max_height": null,
      "max_width": null,
      "min_height": null,
      "min_width": null,
      "object_fit": null,
      "object_position": null,
      "order": null,
      "overflow": null,
      "overflow_x": null,
      "overflow_y": null,
      "padding": null,
      "right": null,
      "top": null,
      "visibility": null,
      "width": null
     }
    },
    "4e1827b12b0f43adb204d17eb0bc76ab": {
     "model_module": "@jupyter-widgets/base",
     "model_module_version": "1.2.0",
     "model_name": "LayoutModel",
     "state": {
      "_model_module": "@jupyter-widgets/base",
      "_model_module_version": "1.2.0",
      "_model_name": "LayoutModel",
      "_view_count": null,
      "_view_module": "@jupyter-widgets/base",
      "_view_module_version": "1.2.0",
      "_view_name": "LayoutView",
      "align_content": null,
      "align_items": null,
      "align_self": null,
      "border": null,
      "bottom": null,
      "display": null,
      "flex": null,
      "flex_flow": null,
      "grid_area": null,
      "grid_auto_columns": null,
      "grid_auto_flow": null,
      "grid_auto_rows": null,
      "grid_column": null,
      "grid_gap": null,
      "grid_row": null,
      "grid_template_areas": null,
      "grid_template_columns": null,
      "grid_template_rows": null,
      "height": null,
      "justify_content": null,
      "justify_items": null,
      "left": null,
      "margin": null,
      "max_height": null,
      "max_width": null,
      "min_height": null,
      "min_width": null,
      "object_fit": null,
      "object_position": null,
      "order": null,
      "overflow": null,
      "overflow_x": null,
      "overflow_y": null,
      "padding": null,
      "right": null,
      "top": null,
      "visibility": null,
      "width": "20px"
     }
    },
    "59f10284fd62487dabcec9d951b311af": {
     "model_module": "@jupyter-widgets/controls",
     "model_module_version": "1.5.0",
     "model_name": "DescriptionStyleModel",
     "state": {
      "_model_module": "@jupyter-widgets/controls",
      "_model_module_version": "1.5.0",
      "_model_name": "DescriptionStyleModel",
      "_view_count": null,
      "_view_module": "@jupyter-widgets/base",
      "_view_module_version": "1.2.0",
      "_view_name": "StyleView",
      "description_width": ""
     }
    },
    "5a22b2cd56a2498aa1bc2585e02a9a7c": {
     "model_module": "@jupyter-widgets/base",
     "model_module_version": "1.2.0",
     "model_name": "LayoutModel",
     "state": {
      "_model_module": "@jupyter-widgets/base",
      "_model_module_version": "1.2.0",
      "_model_name": "LayoutModel",
      "_view_count": null,
      "_view_module": "@jupyter-widgets/base",
      "_view_module_version": "1.2.0",
      "_view_name": "LayoutView",
      "align_content": null,
      "align_items": null,
      "align_self": null,
      "border": null,
      "bottom": null,
      "display": null,
      "flex": null,
      "flex_flow": null,
      "grid_area": null,
      "grid_auto_columns": null,
      "grid_auto_flow": null,
      "grid_auto_rows": null,
      "grid_column": null,
      "grid_gap": null,
      "grid_row": null,
      "grid_template_areas": null,
      "grid_template_columns": null,
      "grid_template_rows": null,
      "height": null,
      "justify_content": null,
      "justify_items": null,
      "left": null,
      "margin": null,
      "max_height": null,
      "max_width": null,
      "min_height": null,
      "min_width": null,
      "object_fit": null,
      "object_position": null,
      "order": null,
      "overflow": null,
      "overflow_x": null,
      "overflow_y": null,
      "padding": null,
      "right": null,
      "top": null,
      "visibility": null,
      "width": null
     }
    },
    "5c0c45074d87411a93867fe64e3f51f2": {
     "model_module": "@jupyter-widgets/controls",
     "model_module_version": "1.5.0",
     "model_name": "FloatProgressModel",
     "state": {
      "_dom_classes": [],
      "_model_module": "@jupyter-widgets/controls",
      "_model_module_version": "1.5.0",
      "_model_name": "FloatProgressModel",
      "_view_count": null,
      "_view_module": "@jupyter-widgets/controls",
      "_view_module_version": "1.5.0",
      "_view_name": "ProgressView",
      "bar_style": "success",
      "description": "",
      "description_tooltip": null,
      "layout": "IPY_MODEL_4e1827b12b0f43adb204d17eb0bc76ab",
      "max": 1,
      "min": 0,
      "orientation": "horizontal",
      "style": "IPY_MODEL_710a3f572c1b4d43a06eb44f9d23febf",
      "value": 1
     }
    },
    "60e1633b9dd64de78ffde5b995336a1e": {
     "model_module": "@jupyter-widgets/base",
     "model_module_version": "1.2.0",
     "model_name": "LayoutModel",
     "state": {
      "_model_module": "@jupyter-widgets/base",
      "_model_module_version": "1.2.0",
      "_model_name": "LayoutModel",
      "_view_count": null,
      "_view_module": "@jupyter-widgets/base",
      "_view_module_version": "1.2.0",
      "_view_name": "LayoutView",
      "align_content": null,
      "align_items": null,
      "align_self": null,
      "border": null,
      "bottom": null,
      "display": null,
      "flex": null,
      "flex_flow": null,
      "grid_area": null,
      "grid_auto_columns": null,
      "grid_auto_flow": null,
      "grid_auto_rows": null,
      "grid_column": null,
      "grid_gap": null,
      "grid_row": null,
      "grid_template_areas": null,
      "grid_template_columns": null,
      "grid_template_rows": null,
      "height": null,
      "justify_content": null,
      "justify_items": null,
      "left": null,
      "margin": null,
      "max_height": null,
      "max_width": null,
      "min_height": null,
      "min_width": null,
      "object_fit": null,
      "object_position": null,
      "order": null,
      "overflow": null,
      "overflow_x": null,
      "overflow_y": null,
      "padding": null,
      "right": null,
      "top": null,
      "visibility": null,
      "width": null
     }
    },
    "61c8b2446a1c43ed9563a786bd0f085d": {
     "model_module": "@jupyter-widgets/base",
     "model_module_version": "1.2.0",
     "model_name": "LayoutModel",
     "state": {
      "_model_module": "@jupyter-widgets/base",
      "_model_module_version": "1.2.0",
      "_model_name": "LayoutModel",
      "_view_count": null,
      "_view_module": "@jupyter-widgets/base",
      "_view_module_version": "1.2.0",
      "_view_name": "LayoutView",
      "align_content": null,
      "align_items": null,
      "align_self": null,
      "border": null,
      "bottom": null,
      "display": null,
      "flex": null,
      "flex_flow": null,
      "grid_area": null,
      "grid_auto_columns": null,
      "grid_auto_flow": null,
      "grid_auto_rows": null,
      "grid_column": null,
      "grid_gap": null,
      "grid_row": null,
      "grid_template_areas": null,
      "grid_template_columns": null,
      "grid_template_rows": null,
      "height": null,
      "justify_content": null,
      "justify_items": null,
      "left": null,
      "margin": null,
      "max_height": null,
      "max_width": null,
      "min_height": null,
      "min_width": null,
      "object_fit": null,
      "object_position": null,
      "order": null,
      "overflow": null,
      "overflow_x": null,
      "overflow_y": null,
      "padding": null,
      "right": null,
      "top": null,
      "visibility": null,
      "width": "20px"
     }
    },
    "675d750c3e234ff2919d2fd4dd9a5373": {
     "model_module": "@jupyter-widgets/controls",
     "model_module_version": "1.5.0",
     "model_name": "DescriptionStyleModel",
     "state": {
      "_model_module": "@jupyter-widgets/controls",
      "_model_module_version": "1.5.0",
      "_model_name": "DescriptionStyleModel",
      "_view_count": null,
      "_view_module": "@jupyter-widgets/base",
      "_view_module_version": "1.2.0",
      "_view_name": "StyleView",
      "description_width": ""
     }
    },
    "68d9a6e6a4d04c19ab720af69515f2a7": {
     "model_module": "@jupyter-widgets/controls",
     "model_module_version": "1.5.0",
     "model_name": "HTMLModel",
     "state": {
      "_dom_classes": [],
      "_model_module": "@jupyter-widgets/controls",
      "_model_module_version": "1.5.0",
      "_model_name": "HTMLModel",
      "_view_count": null,
      "_view_module": "@jupyter-widgets/controls",
      "_view_module_version": "1.5.0",
      "_view_name": "HTMLView",
      "description": "",
      "description_tooltip": null,
      "layout": "IPY_MODEL_b9563fdf5bba43f1a58a177b86e997be",
      "placeholder": "​",
      "style": "IPY_MODEL_b4ba892a1e444a64b2cd33e40c44a39e",
      "value": " 605M/605M [00:05&lt;00:00, 204MB/s]"
     }
    },
    "6a435ec303d04ea48396146942823da3": {
     "model_module": "@jupyter-widgets/base",
     "model_module_version": "1.2.0",
     "model_name": "LayoutModel",
     "state": {
      "_model_module": "@jupyter-widgets/base",
      "_model_module_version": "1.2.0",
      "_model_name": "LayoutModel",
      "_view_count": null,
      "_view_module": "@jupyter-widgets/base",
      "_view_module_version": "1.2.0",
      "_view_name": "LayoutView",
      "align_content": null,
      "align_items": null,
      "align_self": null,
      "border": null,
      "bottom": null,
      "display": null,
      "flex": null,
      "flex_flow": null,
      "grid_area": null,
      "grid_auto_columns": null,
      "grid_auto_flow": null,
      "grid_auto_rows": null,
      "grid_column": null,
      "grid_gap": null,
      "grid_row": null,
      "grid_template_areas": null,
      "grid_template_columns": null,
      "grid_template_rows": null,
      "height": null,
      "justify_content": null,
      "justify_items": null,
      "left": null,
      "margin": null,
      "max_height": null,
      "max_width": null,
      "min_height": null,
      "min_width": null,
      "object_fit": null,
      "object_position": null,
      "order": null,
      "overflow": null,
      "overflow_x": null,
      "overflow_y": null,
      "padding": null,
      "right": null,
      "top": null,
      "visibility": null,
      "width": null
     }
    },
    "6d55f3f2b9424c4e8cfc39001a72d4d9": {
     "model_module": "@jupyter-widgets/controls",
     "model_module_version": "1.5.0",
     "model_name": "HTMLModel",
     "state": {
      "_dom_classes": [],
      "_model_module": "@jupyter-widgets/controls",
      "_model_module_version": "1.5.0",
      "_model_name": "HTMLModel",
      "_view_count": null,
      "_view_module": "@jupyter-widgets/controls",
      "_view_module_version": "1.5.0",
      "_view_name": "HTMLView",
      "description": "",
      "description_tooltip": null,
      "layout": "IPY_MODEL_44caa02fe37b4e16abca2479ba38481e",
      "placeholder": "​",
      "style": "IPY_MODEL_d504d8d0ce0c4c4686a5e1187d7754d1",
      "value": " 525k/? [00:00&lt;00:00, 7.38MB/s]"
     }
    },
    "6daee02fa00541aaad2603d6abe740c3": {
     "model_module": "@jupyter-widgets/controls",
     "model_module_version": "1.5.0",
     "model_name": "ProgressStyleModel",
     "state": {
      "_model_module": "@jupyter-widgets/controls",
      "_model_module_version": "1.5.0",
      "_model_name": "ProgressStyleModel",
      "_view_count": null,
      "_view_module": "@jupyter-widgets/base",
      "_view_module_version": "1.2.0",
      "_view_name": "StyleView",
      "bar_color": null,
      "description_width": ""
     }
    },
    "6e46fe615f114de891f917da8ecddf59": {
     "model_module": "@jupyter-widgets/base",
     "model_module_version": "1.2.0",
     "model_name": "LayoutModel",
     "state": {
      "_model_module": "@jupyter-widgets/base",
      "_model_module_version": "1.2.0",
      "_model_name": "LayoutModel",
      "_view_count": null,
      "_view_module": "@jupyter-widgets/base",
      "_view_module_version": "1.2.0",
      "_view_name": "LayoutView",
      "align_content": null,
      "align_items": null,
      "align_self": null,
      "border": null,
      "bottom": null,
      "display": null,
      "flex": null,
      "flex_flow": null,
      "grid_area": null,
      "grid_auto_columns": null,
      "grid_auto_flow": null,
      "grid_auto_rows": null,
      "grid_column": null,
      "grid_gap": null,
      "grid_row": null,
      "grid_template_areas": null,
      "grid_template_columns": null,
      "grid_template_rows": null,
      "height": null,
      "justify_content": null,
      "justify_items": null,
      "left": null,
      "margin": null,
      "max_height": null,
      "max_width": null,
      "min_height": null,
      "min_width": null,
      "object_fit": null,
      "object_position": null,
      "order": null,
      "overflow": null,
      "overflow_x": null,
      "overflow_y": null,
      "padding": null,
      "right": null,
      "top": null,
      "visibility": null,
      "width": null
     }
    },
    "6e79bfbd595746f3908ce01001bd35cf": {
     "model_module": "@jupyter-widgets/base",
     "model_module_version": "1.2.0",
     "model_name": "LayoutModel",
     "state": {
      "_model_module": "@jupyter-widgets/base",
      "_model_module_version": "1.2.0",
      "_model_name": "LayoutModel",
      "_view_count": null,
      "_view_module": "@jupyter-widgets/base",
      "_view_module_version": "1.2.0",
      "_view_name": "LayoutView",
      "align_content": null,
      "align_items": null,
      "align_self": null,
      "border": null,
      "bottom": null,
      "display": null,
      "flex": null,
      "flex_flow": null,
      "grid_area": null,
      "grid_auto_columns": null,
      "grid_auto_flow": null,
      "grid_auto_rows": null,
      "grid_column": null,
      "grid_gap": null,
      "grid_row": null,
      "grid_template_areas": null,
      "grid_template_columns": null,
      "grid_template_rows": null,
      "height": null,
      "justify_content": null,
      "justify_items": null,
      "left": null,
      "margin": null,
      "max_height": null,
      "max_width": null,
      "min_height": null,
      "min_width": null,
      "object_fit": null,
      "object_position": null,
      "order": null,
      "overflow": null,
      "overflow_x": null,
      "overflow_y": null,
      "padding": null,
      "right": null,
      "top": null,
      "visibility": null,
      "width": null
     }
    },
    "6ebb44447a3749cabb1c9641aab60e8b": {
     "model_module": "@jupyter-widgets/controls",
     "model_module_version": "1.5.0",
     "model_name": "ProgressStyleModel",
     "state": {
      "_model_module": "@jupyter-widgets/controls",
      "_model_module_version": "1.5.0",
      "_model_name": "ProgressStyleModel",
      "_view_count": null,
      "_view_module": "@jupyter-widgets/base",
      "_view_module_version": "1.2.0",
      "_view_name": "StyleView",
      "bar_color": null,
      "description_width": ""
     }
    },
    "710a3f572c1b4d43a06eb44f9d23febf": {
     "model_module": "@jupyter-widgets/controls",
     "model_module_version": "1.5.0",
     "model_name": "ProgressStyleModel",
     "state": {
      "_model_module": "@jupyter-widgets/controls",
      "_model_module_version": "1.5.0",
      "_model_name": "ProgressStyleModel",
      "_view_count": null,
      "_view_module": "@jupyter-widgets/base",
      "_view_module_version": "1.2.0",
      "_view_name": "StyleView",
      "bar_color": null,
      "description_width": ""
     }
    },
    "756d5d5baac8462492be11524d234f8c": {
     "model_module": "@jupyter-widgets/controls",
     "model_module_version": "1.5.0",
     "model_name": "FloatProgressModel",
     "state": {
      "_dom_classes": [],
      "_model_module": "@jupyter-widgets/controls",
      "_model_module_version": "1.5.0",
      "_model_name": "FloatProgressModel",
      "_view_count": null,
      "_view_module": "@jupyter-widgets/controls",
      "_view_module_version": "1.5.0",
      "_view_name": "ProgressView",
      "bar_style": "success",
      "description": "",
      "description_tooltip": null,
      "layout": "IPY_MODEL_9beec03d2f734e2cb2a4c9d302aeaa93",
      "max": 592,
      "min": 0,
      "orientation": "horizontal",
      "style": "IPY_MODEL_6ebb44447a3749cabb1c9641aab60e8b",
      "value": 592
     }
    },
    "7602514f70584b8d9027abfbd6fbd9d1": {
     "model_module": "@jupyter-widgets/controls",
     "model_module_version": "1.5.0",
     "model_name": "HTMLModel",
     "state": {
      "_dom_classes": [],
      "_model_module": "@jupyter-widgets/controls",
      "_model_module_version": "1.5.0",
      "_model_name": "HTMLModel",
      "_view_count": null,
      "_view_module": "@jupyter-widgets/controls",
      "_view_module_version": "1.5.0",
      "_view_name": "HTMLView",
      "description": "",
      "description_tooltip": null,
      "layout": "IPY_MODEL_bb92a592fe954eb0af3b5fb7398a3f61",
      "placeholder": "​",
      "style": "IPY_MODEL_9b9530fbe38241c6baf8a0ad532de10a",
      "value": "vocab.json: "
     }
    },
    "76f9b24899d64eb6b6bff1a248461e06": {
     "model_module": "@jupyter-widgets/base",
     "model_module_version": "1.2.0",
     "model_name": "LayoutModel",
     "state": {
      "_model_module": "@jupyter-widgets/base",
      "_model_module_version": "1.2.0",
      "_model_name": "LayoutModel",
      "_view_count": null,
      "_view_module": "@jupyter-widgets/base",
      "_view_module_version": "1.2.0",
      "_view_name": "LayoutView",
      "align_content": null,
      "align_items": null,
      "align_self": null,
      "border": null,
      "bottom": null,
      "display": null,
      "flex": null,
      "flex_flow": null,
      "grid_area": null,
      "grid_auto_columns": null,
      "grid_auto_flow": null,
      "grid_auto_rows": null,
      "grid_column": null,
      "grid_gap": null,
      "grid_row": null,
      "grid_template_areas": null,
      "grid_template_columns": null,
      "grid_template_rows": null,
      "height": null,
      "justify_content": null,
      "justify_items": null,
      "left": null,
      "margin": null,
      "max_height": null,
      "max_width": null,
      "min_height": null,
      "min_width": null,
      "object_fit": null,
      "object_position": null,
      "order": null,
      "overflow": null,
      "overflow_x": null,
      "overflow_y": null,
      "padding": null,
      "right": null,
      "top": null,
      "visibility": null,
      "width": null
     }
    },
    "786f1dc95d6a4f2a987e63c00759a404": {
     "model_module": "@jupyter-widgets/controls",
     "model_module_version": "1.5.0",
     "model_name": "FloatProgressModel",
     "state": {
      "_dom_classes": [],
      "_model_module": "@jupyter-widgets/controls",
      "_model_module_version": "1.5.0",
      "_model_name": "FloatProgressModel",
      "_view_count": null,
      "_view_module": "@jupyter-widgets/controls",
      "_view_module_version": "1.5.0",
      "_view_name": "ProgressView",
      "bar_style": "success",
      "description": "",
      "description_tooltip": null,
      "layout": "IPY_MODEL_88175fd09aa842cdbfc8cf913f4d5180",
      "max": 1,
      "min": 0,
      "orientation": "horizontal",
      "style": "IPY_MODEL_1ce77663bc47485db8546935999e6039",
      "value": 1
     }
    },
    "811bdb341ed14c46815f150c9ff44f79": {
     "model_module": "@jupyter-widgets/controls",
     "model_module_version": "1.5.0",
     "model_name": "HBoxModel",
     "state": {
      "_dom_classes": [],
      "_model_module": "@jupyter-widgets/controls",
      "_model_module_version": "1.5.0",
      "_model_name": "HBoxModel",
      "_view_count": null,
      "_view_module": "@jupyter-widgets/controls",
      "_view_module_version": "1.5.0",
      "_view_name": "HBoxView",
      "box_style": "",
      "children": [
       "IPY_MODEL_1897e42d1fe948f1871daa03268764f0",
       "IPY_MODEL_ba17856d13f44df2abf533d1ff693de4",
       "IPY_MODEL_68d9a6e6a4d04c19ab720af69515f2a7"
      ],
      "layout": "IPY_MODEL_6e46fe615f114de891f917da8ecddf59"
     }
    },
    "88175fd09aa842cdbfc8cf913f4d5180": {
     "model_module": "@jupyter-widgets/base",
     "model_module_version": "1.2.0",
     "model_name": "LayoutModel",
     "state": {
      "_model_module": "@jupyter-widgets/base",
      "_model_module_version": "1.2.0",
      "_model_name": "LayoutModel",
      "_view_count": null,
      "_view_module": "@jupyter-widgets/base",
      "_view_module_version": "1.2.0",
      "_view_name": "LayoutView",
      "align_content": null,
      "align_items": null,
      "align_self": null,
      "border": null,
      "bottom": null,
      "display": null,
      "flex": null,
      "flex_flow": null,
      "grid_area": null,
      "grid_auto_columns": null,
      "grid_auto_flow": null,
      "grid_auto_rows": null,
      "grid_column": null,
      "grid_gap": null,
      "grid_row": null,
      "grid_template_areas": null,
      "grid_template_columns": null,
      "grid_template_rows": null,
      "height": null,
      "justify_content": null,
      "justify_items": null,
      "left": null,
      "margin": null,
      "max_height": null,
      "max_width": null,
      "min_height": null,
      "min_width": null,
      "object_fit": null,
      "object_position": null,
      "order": null,
      "overflow": null,
      "overflow_x": null,
      "overflow_y": null,
      "padding": null,
      "right": null,
      "top": null,
      "visibility": null,
      "width": "20px"
     }
    },
    "88ec83c3f7a546abb591e4e7a261a06b": {
     "model_module": "@jupyter-widgets/controls",
     "model_module_version": "1.5.0",
     "model_name": "HTMLModel",
     "state": {
      "_dom_classes": [],
      "_model_module": "@jupyter-widgets/controls",
      "_model_module_version": "1.5.0",
      "_model_name": "HTMLModel",
      "_view_count": null,
      "_view_module": "@jupyter-widgets/controls",
      "_view_module_version": "1.5.0",
      "_view_name": "HTMLView",
      "description": "",
      "description_tooltip": null,
      "layout": "IPY_MODEL_bea921e10c3a4758984d98bbcdf6e3a3",
      "placeholder": "​",
      "style": "IPY_MODEL_cfd6c384477b4481a7b11b81f77b6172",
      "value": "tokenizer.json: "
     }
    },
    "8e2bd2bb990744b0b85571bf7c832c9a": {
     "model_module": "@jupyter-widgets/controls",
     "model_module_version": "1.5.0",
     "model_name": "HTMLModel",
     "state": {
      "_dom_classes": [],
      "_model_module": "@jupyter-widgets/controls",
      "_model_module_version": "1.5.0",
      "_model_name": "HTMLModel",
      "_view_count": null,
      "_view_module": "@jupyter-widgets/controls",
      "_view_module_version": "1.5.0",
      "_view_name": "HTMLView",
      "description": "",
      "description_tooltip": null,
      "layout": "IPY_MODEL_1b7be38f930347a49686e304d2171591",
      "placeholder": "​",
      "style": "IPY_MODEL_48a5b7a1f16d402987633f446923e94c",
      "value": " 316/316 [00:00&lt;00:00, 5.00kB/s]"
     }
    },
    "8eaa3d6a579942a1bd800b9000efabf8": {
     "model_module": "@jupyter-widgets/controls",
     "model_module_version": "1.5.0",
     "model_name": "DescriptionStyleModel",
     "state": {
      "_model_module": "@jupyter-widgets/controls",
      "_model_module_version": "1.5.0",
      "_model_name": "DescriptionStyleModel",
      "_view_count": null,
      "_view_module": "@jupyter-widgets/base",
      "_view_module_version": "1.2.0",
      "_view_name": "StyleView",
      "description_width": ""
     }
    },
    "95ca064fe42e4d10967e7a102463e3e2": {
     "model_module": "@jupyter-widgets/controls",
     "model_module_version": "1.5.0",
     "model_name": "FloatProgressModel",
     "state": {
      "_dom_classes": [],
      "_model_module": "@jupyter-widgets/controls",
      "_model_module_version": "1.5.0",
      "_model_name": "FloatProgressModel",
      "_view_count": null,
      "_view_module": "@jupyter-widgets/controls",
      "_view_module_version": "1.5.0",
      "_view_name": "ProgressView",
      "bar_style": "success",
      "description": "",
      "description_tooltip": null,
      "layout": "IPY_MODEL_0c5947b7cf494775b59f6ec98701b8d0",
      "max": 316,
      "min": 0,
      "orientation": "horizontal",
      "style": "IPY_MODEL_e9709d7460ba44acb357e654d79f020f",
      "value": 316
     }
    },
    "992b2a0a8cd14f53828a016a7a8a4ccc": {
     "model_module": "@jupyter-widgets/base",
     "model_module_version": "1.2.0",
     "model_name": "LayoutModel",
     "state": {
      "_model_module": "@jupyter-widgets/base",
      "_model_module_version": "1.2.0",
      "_model_name": "LayoutModel",
      "_view_count": null,
      "_view_module": "@jupyter-widgets/base",
      "_view_module_version": "1.2.0",
      "_view_name": "LayoutView",
      "align_content": null,
      "align_items": null,
      "align_self": null,
      "border": null,
      "bottom": null,
      "display": null,
      "flex": null,
      "flex_flow": null,
      "grid_area": null,
      "grid_auto_columns": null,
      "grid_auto_flow": null,
      "grid_auto_rows": null,
      "grid_column": null,
      "grid_gap": null,
      "grid_row": null,
      "grid_template_areas": null,
      "grid_template_columns": null,
      "grid_template_rows": null,
      "height": null,
      "justify_content": null,
      "justify_items": null,
      "left": null,
      "margin": null,
      "max_height": null,
      "max_width": null,
      "min_height": null,
      "min_width": null,
      "object_fit": null,
      "object_position": null,
      "order": null,
      "overflow": null,
      "overflow_x": null,
      "overflow_y": null,
      "padding": null,
      "right": null,
      "top": null,
      "visibility": null,
      "width": null
     }
    },
    "9b82ba4382574f9bba58ea72f58edc82": {
     "model_module": "@jupyter-widgets/controls",
     "model_module_version": "1.5.0",
     "model_name": "DescriptionStyleModel",
     "state": {
      "_model_module": "@jupyter-widgets/controls",
      "_model_module_version": "1.5.0",
      "_model_name": "DescriptionStyleModel",
      "_view_count": null,
      "_view_module": "@jupyter-widgets/base",
      "_view_module_version": "1.2.0",
      "_view_name": "StyleView",
      "description_width": ""
     }
    },
    "9b9530fbe38241c6baf8a0ad532de10a": {
     "model_module": "@jupyter-widgets/controls",
     "model_module_version": "1.5.0",
     "model_name": "DescriptionStyleModel",
     "state": {
      "_model_module": "@jupyter-widgets/controls",
      "_model_module_version": "1.5.0",
      "_model_name": "DescriptionStyleModel",
      "_view_count": null,
      "_view_module": "@jupyter-widgets/base",
      "_view_module_version": "1.2.0",
      "_view_name": "StyleView",
      "description_width": ""
     }
    },
    "9beec03d2f734e2cb2a4c9d302aeaa93": {
     "model_module": "@jupyter-widgets/base",
     "model_module_version": "1.2.0",
     "model_name": "LayoutModel",
     "state": {
      "_model_module": "@jupyter-widgets/base",
      "_model_module_version": "1.2.0",
      "_model_name": "LayoutModel",
      "_view_count": null,
      "_view_module": "@jupyter-widgets/base",
      "_view_module_version": "1.2.0",
      "_view_name": "LayoutView",
      "align_content": null,
      "align_items": null,
      "align_self": null,
      "border": null,
      "bottom": null,
      "display": null,
      "flex": null,
      "flex_flow": null,
      "grid_area": null,
      "grid_auto_columns": null,
      "grid_auto_flow": null,
      "grid_auto_rows": null,
      "grid_column": null,
      "grid_gap": null,
      "grid_row": null,
      "grid_template_areas": null,
      "grid_template_columns": null,
      "grid_template_rows": null,
      "height": null,
      "justify_content": null,
      "justify_items": null,
      "left": null,
      "margin": null,
      "max_height": null,
      "max_width": null,
      "min_height": null,
      "min_width": null,
      "object_fit": null,
      "object_position": null,
      "order": null,
      "overflow": null,
      "overflow_x": null,
      "overflow_y": null,
      "padding": null,
      "right": null,
      "top": null,
      "visibility": null,
      "width": null
     }
    },
    "9ff736da809f4e5e97429358552a3551": {
     "model_module": "@jupyter-widgets/controls",
     "model_module_version": "1.5.0",
     "model_name": "FloatProgressModel",
     "state": {
      "_dom_classes": [],
      "_model_module": "@jupyter-widgets/controls",
      "_model_module_version": "1.5.0",
      "_model_name": "FloatProgressModel",
      "_view_count": null,
      "_view_module": "@jupyter-widgets/controls",
      "_view_module_version": "1.5.0",
      "_view_name": "ProgressView",
      "bar_style": "success",
      "description": "",
      "description_tooltip": null,
      "layout": "IPY_MODEL_61c8b2446a1c43ed9563a786bd0f085d",
      "max": 1,
      "min": 0,
      "orientation": "horizontal",
      "style": "IPY_MODEL_e7a705d6ecdc4eed96ad0d55a4f06787",
      "value": 1
     }
    },
    "a03dccf8cecb4356a9870309f0efaa24": {
     "model_module": "@jupyter-widgets/controls",
     "model_module_version": "1.5.0",
     "model_name": "HTMLModel",
     "state": {
      "_dom_classes": [],
      "_model_module": "@jupyter-widgets/controls",
      "_model_module_version": "1.5.0",
      "_model_name": "HTMLModel",
      "_view_count": null,
      "_view_module": "@jupyter-widgets/controls",
      "_view_module_version": "1.5.0",
      "_view_name": "HTMLView",
      "description": "",
      "description_tooltip": null,
      "layout": "IPY_MODEL_6e79bfbd595746f3908ce01001bd35cf",
      "placeholder": "​",
      "style": "IPY_MODEL_1d5fcadc90ba4dc5b6a9750aa74a60de",
      "value": "model.safetensors: 100%"
     }
    },
    "a0c7b29c77624ea2b8be567521ee95c5": {
     "model_module": "@jupyter-widgets/controls",
     "model_module_version": "1.5.0",
     "model_name": "FloatProgressModel",
     "state": {
      "_dom_classes": [],
      "_model_module": "@jupyter-widgets/controls",
      "_model_module_version": "1.5.0",
      "_model_name": "FloatProgressModel",
      "_view_count": null,
      "_view_module": "@jupyter-widgets/controls",
      "_view_module_version": "1.5.0",
      "_view_name": "ProgressView",
      "bar_style": "success",
      "description": "",
      "description_tooltip": null,
      "layout": "IPY_MODEL_3a115f50bd1a48ca86f767b8d82a35ed",
      "max": 389,
      "min": 0,
      "orientation": "horizontal",
      "style": "IPY_MODEL_1966223c488544c78f7fed4f37fc04cd",
      "value": 389
     }
    },
    "a1c3fb992b9d417094fdd19bfa9b3e9e": {
     "model_module": "@jupyter-widgets/controls",
     "model_module_version": "1.5.0",
     "model_name": "HTMLModel",
     "state": {
      "_dom_classes": [],
      "_model_module": "@jupyter-widgets/controls",
      "_model_module_version": "1.5.0",
      "_model_name": "HTMLModel",
      "_view_count": null,
      "_view_module": "@jupyter-widgets/controls",
      "_view_module_version": "1.5.0",
      "_view_name": "HTMLView",
      "description": "",
      "description_tooltip": null,
      "layout": "IPY_MODEL_11afb02e60164dd2ad20ddebdbb0ee0d",
      "placeholder": "​",
      "style": "IPY_MODEL_d6b2732a477f4fc2b4586cc47ab883c5",
      "value": " 862k/? [00:00&lt;00:00, 6.50MB/s]"
     }
    },
    "a34b427be96a432d875504928a8e2fc9": {
     "model_module": "@jupyter-widgets/controls",
     "model_module_version": "1.5.0",
     "model_name": "HTMLModel",
     "state": {
      "_dom_classes": [],
      "_model_module": "@jupyter-widgets/controls",
      "_model_module_version": "1.5.0",
      "_model_name": "HTMLModel",
      "_view_count": null,
      "_view_module": "@jupyter-widgets/controls",
      "_view_module_version": "1.5.0",
      "_view_name": "HTMLView",
      "description": "",
      "description_tooltip": null,
      "layout": "IPY_MODEL_cbeb85639805494badc466942ed9842e",
      "placeholder": "​",
      "style": "IPY_MODEL_d5dc8a8f9fe54ca8a42eaaad395cf4d8",
      "value": " 605M/605M [00:06&lt;00:00, 172MB/s]"
     }
    },
    "a5292d8ba05140eb9ea0d1051a5f5ff8": {
     "model_module": "@jupyter-widgets/controls",
     "model_module_version": "1.5.0",
     "model_name": "HTMLModel",
     "state": {
      "_dom_classes": [],
      "_model_module": "@jupyter-widgets/controls",
      "_model_module_version": "1.5.0",
      "_model_name": "HTMLModel",
      "_view_count": null,
      "_view_module": "@jupyter-widgets/controls",
      "_view_module_version": "1.5.0",
      "_view_name": "HTMLView",
      "description": "",
      "description_tooltip": null,
      "layout": "IPY_MODEL_2a1e6e97efd4427fb7da23097fbb9b98",
      "placeholder": "​",
      "style": "IPY_MODEL_9b82ba4382574f9bba58ea72f58edc82",
      "value": "special_tokens_map.json: 100%"
     }
    },
    "ac60d9d797344a57bca01800f44bb847": {
     "model_module": "@jupyter-widgets/controls",
     "model_module_version": "1.5.0",
     "model_name": "DescriptionStyleModel",
     "state": {
      "_model_module": "@jupyter-widgets/controls",
      "_model_module_version": "1.5.0",
      "_model_name": "DescriptionStyleModel",
      "_view_count": null,
      "_view_module": "@jupyter-widgets/base",
      "_view_module_version": "1.2.0",
      "_view_name": "StyleView",
      "description_width": ""
     }
    },
    "b0a273cba69449658055ca7717a9182b": {
     "model_module": "@jupyter-widgets/base",
     "model_module_version": "1.2.0",
     "model_name": "LayoutModel",
     "state": {
      "_model_module": "@jupyter-widgets/base",
      "_model_module_version": "1.2.0",
      "_model_name": "LayoutModel",
      "_view_count": null,
      "_view_module": "@jupyter-widgets/base",
      "_view_module_version": "1.2.0",
      "_view_name": "LayoutView",
      "align_content": null,
      "align_items": null,
      "align_self": null,
      "border": null,
      "bottom": null,
      "display": null,
      "flex": null,
      "flex_flow": null,
      "grid_area": null,
      "grid_auto_columns": null,
      "grid_auto_flow": null,
      "grid_auto_rows": null,
      "grid_column": null,
      "grid_gap": null,
      "grid_row": null,
      "grid_template_areas": null,
      "grid_template_columns": null,
      "grid_template_rows": null,
      "height": null,
      "justify_content": null,
      "justify_items": null,
      "left": null,
      "margin": null,
      "max_height": null,
      "max_width": null,
      "min_height": null,
      "min_width": null,
      "object_fit": null,
      "object_position": null,
      "order": null,
      "overflow": null,
      "overflow_x": null,
      "overflow_y": null,
      "padding": null,
      "right": null,
      "top": null,
      "visibility": null,
      "width": "20px"
     }
    },
    "b4ba892a1e444a64b2cd33e40c44a39e": {
     "model_module": "@jupyter-widgets/controls",
     "model_module_version": "1.5.0",
     "model_name": "DescriptionStyleModel",
     "state": {
      "_model_module": "@jupyter-widgets/controls",
      "_model_module_version": "1.5.0",
      "_model_name": "DescriptionStyleModel",
      "_view_count": null,
      "_view_module": "@jupyter-widgets/base",
      "_view_module_version": "1.2.0",
      "_view_name": "StyleView",
      "description_width": ""
     }
    },
    "b4ddbcd75b64408d9615b436af5382f8": {
     "model_module": "@jupyter-widgets/controls",
     "model_module_version": "1.5.0",
     "model_name": "HTMLModel",
     "state": {
      "_dom_classes": [],
      "_model_module": "@jupyter-widgets/controls",
      "_model_module_version": "1.5.0",
      "_model_name": "HTMLModel",
      "_view_count": null,
      "_view_module": "@jupyter-widgets/controls",
      "_view_module_version": "1.5.0",
      "_view_name": "HTMLView",
      "description": "",
      "description_tooltip": null,
      "layout": "IPY_MODEL_f34ac3ae47d54def924337862290be86",
      "placeholder": "​",
      "style": "IPY_MODEL_c5049f086db04324b89f32f0ace88ed8",
      "value": "tokenizer_config.json: 100%"
     }
    },
    "b9563fdf5bba43f1a58a177b86e997be": {
     "model_module": "@jupyter-widgets/base",
     "model_module_version": "1.2.0",
     "model_name": "LayoutModel",
     "state": {
      "_model_module": "@jupyter-widgets/base",
      "_model_module_version": "1.2.0",
      "_model_name": "LayoutModel",
      "_view_count": null,
      "_view_module": "@jupyter-widgets/base",
      "_view_module_version": "1.2.0",
      "_view_name": "LayoutView",
      "align_content": null,
      "align_items": null,
      "align_self": null,
      "border": null,
      "bottom": null,
      "display": null,
      "flex": null,
      "flex_flow": null,
      "grid_area": null,
      "grid_auto_columns": null,
      "grid_auto_flow": null,
      "grid_auto_rows": null,
      "grid_column": null,
      "grid_gap": null,
      "grid_row": null,
      "grid_template_areas": null,
      "grid_template_columns": null,
      "grid_template_rows": null,
      "height": null,
      "justify_content": null,
      "justify_items": null,
      "left": null,
      "margin": null,
      "max_height": null,
      "max_width": null,
      "min_height": null,
      "min_width": null,
      "object_fit": null,
      "object_position": null,
      "order": null,
      "overflow": null,
      "overflow_x": null,
      "overflow_y": null,
      "padding": null,
      "right": null,
      "top": null,
      "visibility": null,
      "width": null
     }
    },
    "ba17856d13f44df2abf533d1ff693de4": {
     "model_module": "@jupyter-widgets/controls",
     "model_module_version": "1.5.0",
     "model_name": "FloatProgressModel",
     "state": {
      "_dom_classes": [],
      "_model_module": "@jupyter-widgets/controls",
      "_model_module_version": "1.5.0",
      "_model_name": "FloatProgressModel",
      "_view_count": null,
      "_view_module": "@jupyter-widgets/controls",
      "_view_module_version": "1.5.0",
      "_view_name": "ProgressView",
      "bar_style": "success",
      "description": "",
      "description_tooltip": null,
      "layout": "IPY_MODEL_01f1faae372046b6826c75f55e6f1b50",
      "max": 605247071,
      "min": 0,
      "orientation": "horizontal",
      "style": "IPY_MODEL_6daee02fa00541aaad2603d6abe740c3",
      "value": 605247071
     }
    },
    "bb92a592fe954eb0af3b5fb7398a3f61": {
     "model_module": "@jupyter-widgets/base",
     "model_module_version": "1.2.0",
     "model_name": "LayoutModel",
     "state": {
      "_model_module": "@jupyter-widgets/base",
      "_model_module_version": "1.2.0",
      "_model_name": "LayoutModel",
      "_view_count": null,
      "_view_module": "@jupyter-widgets/base",
      "_view_module_version": "1.2.0",
      "_view_name": "LayoutView",
      "align_content": null,
      "align_items": null,
      "align_self": null,
      "border": null,
      "bottom": null,
      "display": null,
      "flex": null,
      "flex_flow": null,
      "grid_area": null,
      "grid_auto_columns": null,
      "grid_auto_flow": null,
      "grid_auto_rows": null,
      "grid_column": null,
      "grid_gap": null,
      "grid_row": null,
      "grid_template_areas": null,
      "grid_template_columns": null,
      "grid_template_rows": null,
      "height": null,
      "justify_content": null,
      "justify_items": null,
      "left": null,
      "margin": null,
      "max_height": null,
      "max_width": null,
      "min_height": null,
      "min_width": null,
      "object_fit": null,
      "object_position": null,
      "order": null,
      "overflow": null,
      "overflow_x": null,
      "overflow_y": null,
      "padding": null,
      "right": null,
      "top": null,
      "visibility": null,
      "width": null
     }
    },
    "bea921e10c3a4758984d98bbcdf6e3a3": {
     "model_module": "@jupyter-widgets/base",
     "model_module_version": "1.2.0",
     "model_name": "LayoutModel",
     "state": {
      "_model_module": "@jupyter-widgets/base",
      "_model_module_version": "1.2.0",
      "_model_name": "LayoutModel",
      "_view_count": null,
      "_view_module": "@jupyter-widgets/base",
      "_view_module_version": "1.2.0",
      "_view_name": "LayoutView",
      "align_content": null,
      "align_items": null,
      "align_self": null,
      "border": null,
      "bottom": null,
      "display": null,
      "flex": null,
      "flex_flow": null,
      "grid_area": null,
      "grid_auto_columns": null,
      "grid_auto_flow": null,
      "grid_auto_rows": null,
      "grid_column": null,
      "grid_gap": null,
      "grid_row": null,
      "grid_template_areas": null,
      "grid_template_columns": null,
      "grid_template_rows": null,
      "height": null,
      "justify_content": null,
      "justify_items": null,
      "left": null,
      "margin": null,
      "max_height": null,
      "max_width": null,
      "min_height": null,
      "min_width": null,
      "object_fit": null,
      "object_position": null,
      "order": null,
      "overflow": null,
      "overflow_x": null,
      "overflow_y": null,
      "padding": null,
      "right": null,
      "top": null,
      "visibility": null,
      "width": null
     }
    },
    "bfd0e7d0655e4f4dbb1d339a4f420700": {
     "model_module": "@jupyter-widgets/controls",
     "model_module_version": "1.5.0",
     "model_name": "HBoxModel",
     "state": {
      "_dom_classes": [],
      "_model_module": "@jupyter-widgets/controls",
      "_model_module_version": "1.5.0",
      "_model_name": "HBoxModel",
      "_view_count": null,
      "_view_module": "@jupyter-widgets/controls",
      "_view_module_version": "1.5.0",
      "_view_name": "HBoxView",
      "box_style": "",
      "children": [
       "IPY_MODEL_c26b9dc8a7ba4e3b8012c488618506bd",
       "IPY_MODEL_5c0c45074d87411a93867fe64e3f51f2",
       "IPY_MODEL_1a553d3d48344aff9eb5536899a47da5"
      ],
      "layout": "IPY_MODEL_d5d94a7f056042068f145a36690b6cad"
     }
    },
    "c26b9dc8a7ba4e3b8012c488618506bd": {
     "model_module": "@jupyter-widgets/controls",
     "model_module_version": "1.5.0",
     "model_name": "HTMLModel",
     "state": {
      "_dom_classes": [],
      "_model_module": "@jupyter-widgets/controls",
      "_model_module_version": "1.5.0",
      "_model_name": "HTMLModel",
      "_view_count": null,
      "_view_module": "@jupyter-widgets/controls",
      "_view_module_version": "1.5.0",
      "_view_name": "HTMLView",
      "description": "",
      "description_tooltip": null,
      "layout": "IPY_MODEL_76f9b24899d64eb6b6bff1a248461e06",
      "placeholder": "​",
      "style": "IPY_MODEL_8eaa3d6a579942a1bd800b9000efabf8",
      "value": "config.json: "
     }
    },
    "c5049f086db04324b89f32f0ace88ed8": {
     "model_module": "@jupyter-widgets/controls",
     "model_module_version": "1.5.0",
     "model_name": "DescriptionStyleModel",
     "state": {
      "_model_module": "@jupyter-widgets/controls",
      "_model_module_version": "1.5.0",
      "_model_name": "DescriptionStyleModel",
      "_view_count": null,
      "_view_module": "@jupyter-widgets/base",
      "_view_module_version": "1.2.0",
      "_view_name": "StyleView",
      "description_width": ""
     }
    },
    "c5935771c801400aac454a27fd429727": {
     "model_module": "@jupyter-widgets/base",
     "model_module_version": "1.2.0",
     "model_name": "LayoutModel",
     "state": {
      "_model_module": "@jupyter-widgets/base",
      "_model_module_version": "1.2.0",
      "_model_name": "LayoutModel",
      "_view_count": null,
      "_view_module": "@jupyter-widgets/base",
      "_view_module_version": "1.2.0",
      "_view_name": "LayoutView",
      "align_content": null,
      "align_items": null,
      "align_self": null,
      "border": null,
      "bottom": null,
      "display": null,
      "flex": null,
      "flex_flow": null,
      "grid_area": null,
      "grid_auto_columns": null,
      "grid_auto_flow": null,
      "grid_auto_rows": null,
      "grid_column": null,
      "grid_gap": null,
      "grid_row": null,
      "grid_template_areas": null,
      "grid_template_columns": null,
      "grid_template_rows": null,
      "height": null,
      "justify_content": null,
      "justify_items": null,
      "left": null,
      "margin": null,
      "max_height": null,
      "max_width": null,
      "min_height": null,
      "min_width": null,
      "object_fit": null,
      "object_position": null,
      "order": null,
      "overflow": null,
      "overflow_x": null,
      "overflow_y": null,
      "padding": null,
      "right": null,
      "top": null,
      "visibility": null,
      "width": null
     }
    },
    "c59d22d54d94439d83c1b96515960b95": {
     "model_module": "@jupyter-widgets/base",
     "model_module_version": "1.2.0",
     "model_name": "LayoutModel",
     "state": {
      "_model_module": "@jupyter-widgets/base",
      "_model_module_version": "1.2.0",
      "_model_name": "LayoutModel",
      "_view_count": null,
      "_view_module": "@jupyter-widgets/base",
      "_view_module_version": "1.2.0",
      "_view_name": "LayoutView",
      "align_content": null,
      "align_items": null,
      "align_self": null,
      "border": null,
      "bottom": null,
      "display": null,
      "flex": null,
      "flex_flow": null,
      "grid_area": null,
      "grid_auto_columns": null,
      "grid_auto_flow": null,
      "grid_auto_rows": null,
      "grid_column": null,
      "grid_gap": null,
      "grid_row": null,
      "grid_template_areas": null,
      "grid_template_columns": null,
      "grid_template_rows": null,
      "height": null,
      "justify_content": null,
      "justify_items": null,
      "left": null,
      "margin": null,
      "max_height": null,
      "max_width": null,
      "min_height": null,
      "min_width": null,
      "object_fit": null,
      "object_position": null,
      "order": null,
      "overflow": null,
      "overflow_x": null,
      "overflow_y": null,
      "padding": null,
      "right": null,
      "top": null,
      "visibility": null,
      "width": null
     }
    },
    "cb7ef89b7a5542ffb78fee8a70429ada": {
     "model_module": "@jupyter-widgets/controls",
     "model_module_version": "1.5.0",
     "model_name": "HTMLModel",
     "state": {
      "_dom_classes": [],
      "_model_module": "@jupyter-widgets/controls",
      "_model_module_version": "1.5.0",
      "_model_name": "HTMLModel",
      "_view_count": null,
      "_view_module": "@jupyter-widgets/controls",
      "_view_module_version": "1.5.0",
      "_view_name": "HTMLView",
      "description": "",
      "description_tooltip": null,
      "layout": "IPY_MODEL_274a84e402164cefbfe59fc6713d5a36",
      "placeholder": "​",
      "style": "IPY_MODEL_59f10284fd62487dabcec9d951b311af",
      "value": "preprocessor_config.json: 100%"
     }
    },
    "cbeb85639805494badc466942ed9842e": {
     "model_module": "@jupyter-widgets/base",
     "model_module_version": "1.2.0",
     "model_name": "LayoutModel",
     "state": {
      "_model_module": "@jupyter-widgets/base",
      "_model_module_version": "1.2.0",
      "_model_name": "LayoutModel",
      "_view_count": null,
      "_view_module": "@jupyter-widgets/base",
      "_view_module_version": "1.2.0",
      "_view_name": "LayoutView",
      "align_content": null,
      "align_items": null,
      "align_self": null,
      "border": null,
      "bottom": null,
      "display": null,
      "flex": null,
      "flex_flow": null,
      "grid_area": null,
      "grid_auto_columns": null,
      "grid_auto_flow": null,
      "grid_auto_rows": null,
      "grid_column": null,
      "grid_gap": null,
      "grid_row": null,
      "grid_template_areas": null,
      "grid_template_columns": null,
      "grid_template_rows": null,
      "height": null,
      "justify_content": null,
      "justify_items": null,
      "left": null,
      "margin": null,
      "max_height": null,
      "max_width": null,
      "min_height": null,
      "min_width": null,
      "object_fit": null,
      "object_position": null,
      "order": null,
      "overflow": null,
      "overflow_x": null,
      "overflow_y": null,
      "padding": null,
      "right": null,
      "top": null,
      "visibility": null,
      "width": null
     }
    },
    "cebb76ce52de4919afb83aa0d1567a10": {
     "model_module": "@jupyter-widgets/controls",
     "model_module_version": "1.5.0",
     "model_name": "HBoxModel",
     "state": {
      "_dom_classes": [],
      "_model_module": "@jupyter-widgets/controls",
      "_model_module_version": "1.5.0",
      "_model_name": "HBoxModel",
      "_view_count": null,
      "_view_module": "@jupyter-widgets/controls",
      "_view_module_version": "1.5.0",
      "_view_name": "HBoxView",
      "box_style": "",
      "children": [
       "IPY_MODEL_88ec83c3f7a546abb591e4e7a261a06b",
       "IPY_MODEL_9ff736da809f4e5e97429358552a3551",
       "IPY_MODEL_1d13a133b71247d3b658dd8992876048"
      ],
      "layout": "IPY_MODEL_c59d22d54d94439d83c1b96515960b95"
     }
    },
    "cfd6c384477b4481a7b11b81f77b6172": {
     "model_module": "@jupyter-widgets/controls",
     "model_module_version": "1.5.0",
     "model_name": "DescriptionStyleModel",
     "state": {
      "_model_module": "@jupyter-widgets/controls",
      "_model_module_version": "1.5.0",
      "_model_name": "DescriptionStyleModel",
      "_view_count": null,
      "_view_module": "@jupyter-widgets/base",
      "_view_module_version": "1.2.0",
      "_view_name": "StyleView",
      "description_width": ""
     }
    },
    "d504d8d0ce0c4c4686a5e1187d7754d1": {
     "model_module": "@jupyter-widgets/controls",
     "model_module_version": "1.5.0",
     "model_name": "DescriptionStyleModel",
     "state": {
      "_model_module": "@jupyter-widgets/controls",
      "_model_module_version": "1.5.0",
      "_model_name": "DescriptionStyleModel",
      "_view_count": null,
      "_view_module": "@jupyter-widgets/base",
      "_view_module_version": "1.2.0",
      "_view_name": "StyleView",
      "description_width": ""
     }
    },
    "d5d94a7f056042068f145a36690b6cad": {
     "model_module": "@jupyter-widgets/base",
     "model_module_version": "1.2.0",
     "model_name": "LayoutModel",
     "state": {
      "_model_module": "@jupyter-widgets/base",
      "_model_module_version": "1.2.0",
      "_model_name": "LayoutModel",
      "_view_count": null,
      "_view_module": "@jupyter-widgets/base",
      "_view_module_version": "1.2.0",
      "_view_name": "LayoutView",
      "align_content": null,
      "align_items": null,
      "align_self": null,
      "border": null,
      "bottom": null,
      "display": null,
      "flex": null,
      "flex_flow": null,
      "grid_area": null,
      "grid_auto_columns": null,
      "grid_auto_flow": null,
      "grid_auto_rows": null,
      "grid_column": null,
      "grid_gap": null,
      "grid_row": null,
      "grid_template_areas": null,
      "grid_template_columns": null,
      "grid_template_rows": null,
      "height": null,
      "justify_content": null,
      "justify_items": null,
      "left": null,
      "margin": null,
      "max_height": null,
      "max_width": null,
      "min_height": null,
      "min_width": null,
      "object_fit": null,
      "object_position": null,
      "order": null,
      "overflow": null,
      "overflow_x": null,
      "overflow_y": null,
      "padding": null,
      "right": null,
      "top": null,
      "visibility": null,
      "width": null
     }
    },
    "d5dc8a8f9fe54ca8a42eaaad395cf4d8": {
     "model_module": "@jupyter-widgets/controls",
     "model_module_version": "1.5.0",
     "model_name": "DescriptionStyleModel",
     "state": {
      "_model_module": "@jupyter-widgets/controls",
      "_model_module_version": "1.5.0",
      "_model_name": "DescriptionStyleModel",
      "_view_count": null,
      "_view_module": "@jupyter-widgets/base",
      "_view_module_version": "1.2.0",
      "_view_name": "StyleView",
      "description_width": ""
     }
    },
    "d6b2732a477f4fc2b4586cc47ab883c5": {
     "model_module": "@jupyter-widgets/controls",
     "model_module_version": "1.5.0",
     "model_name": "DescriptionStyleModel",
     "state": {
      "_model_module": "@jupyter-widgets/controls",
      "_model_module_version": "1.5.0",
      "_model_name": "DescriptionStyleModel",
      "_view_count": null,
      "_view_module": "@jupyter-widgets/base",
      "_view_module_version": "1.2.0",
      "_view_name": "StyleView",
      "description_width": ""
     }
    },
    "d70879895a1e4d4c9c9b8f7b4017228f": {
     "model_module": "@jupyter-widgets/controls",
     "model_module_version": "1.5.0",
     "model_name": "HTMLModel",
     "state": {
      "_dom_classes": [],
      "_model_module": "@jupyter-widgets/controls",
      "_model_module_version": "1.5.0",
      "_model_name": "HTMLModel",
      "_view_count": null,
      "_view_module": "@jupyter-widgets/controls",
      "_view_module_version": "1.5.0",
      "_view_name": "HTMLView",
      "description": "",
      "description_tooltip": null,
      "layout": "IPY_MODEL_6a435ec303d04ea48396146942823da3",
      "placeholder": "​",
      "style": "IPY_MODEL_ac60d9d797344a57bca01800f44bb847",
      "value": " 592/592 [00:00&lt;00:00, 12.4kB/s]"
     }
    },
    "dd199421b7864dcf9ceb813e88084d01": {
     "model_module": "@jupyter-widgets/controls",
     "model_module_version": "1.5.0",
     "model_name": "DescriptionStyleModel",
     "state": {
      "_model_module": "@jupyter-widgets/controls",
      "_model_module_version": "1.5.0",
      "_model_name": "DescriptionStyleModel",
      "_view_count": null,
      "_view_module": "@jupyter-widgets/base",
      "_view_module_version": "1.2.0",
      "_view_name": "StyleView",
      "description_width": ""
     }
    },
    "e1ff23b4cd8e490fa2db57fa52f59a80": {
     "model_module": "@jupyter-widgets/base",
     "model_module_version": "1.2.0",
     "model_name": "LayoutModel",
     "state": {
      "_model_module": "@jupyter-widgets/base",
      "_model_module_version": "1.2.0",
      "_model_name": "LayoutModel",
      "_view_count": null,
      "_view_module": "@jupyter-widgets/base",
      "_view_module_version": "1.2.0",
      "_view_name": "LayoutView",
      "align_content": null,
      "align_items": null,
      "align_self": null,
      "border": null,
      "bottom": null,
      "display": null,
      "flex": null,
      "flex_flow": null,
      "grid_area": null,
      "grid_auto_columns": null,
      "grid_auto_flow": null,
      "grid_auto_rows": null,
      "grid_column": null,
      "grid_gap": null,
      "grid_row": null,
      "grid_template_areas": null,
      "grid_template_columns": null,
      "grid_template_rows": null,
      "height": null,
      "justify_content": null,
      "justify_items": null,
      "left": null,
      "margin": null,
      "max_height": null,
      "max_width": null,
      "min_height": null,
      "min_width": null,
      "object_fit": null,
      "object_position": null,
      "order": null,
      "overflow": null,
      "overflow_x": null,
      "overflow_y": null,
      "padding": null,
      "right": null,
      "top": null,
      "visibility": null,
      "width": null
     }
    },
    "e7a705d6ecdc4eed96ad0d55a4f06787": {
     "model_module": "@jupyter-widgets/controls",
     "model_module_version": "1.5.0",
     "model_name": "ProgressStyleModel",
     "state": {
      "_model_module": "@jupyter-widgets/controls",
      "_model_module_version": "1.5.0",
      "_model_name": "ProgressStyleModel",
      "_view_count": null,
      "_view_module": "@jupyter-widgets/base",
      "_view_module_version": "1.2.0",
      "_view_name": "StyleView",
      "bar_color": null,
      "description_width": ""
     }
    },
    "e9709d7460ba44acb357e654d79f020f": {
     "model_module": "@jupyter-widgets/controls",
     "model_module_version": "1.5.0",
     "model_name": "ProgressStyleModel",
     "state": {
      "_model_module": "@jupyter-widgets/controls",
      "_model_module_version": "1.5.0",
      "_model_name": "ProgressStyleModel",
      "_view_count": null,
      "_view_module": "@jupyter-widgets/base",
      "_view_module_version": "1.2.0",
      "_view_name": "StyleView",
      "bar_color": null,
      "description_width": ""
     }
    },
    "ed4ed9e3d97f49869df832a1cebcfca3": {
     "model_module": "@jupyter-widgets/controls",
     "model_module_version": "1.5.0",
     "model_name": "HTMLModel",
     "state": {
      "_dom_classes": [],
      "_model_module": "@jupyter-widgets/controls",
      "_model_module_version": "1.5.0",
      "_model_name": "HTMLModel",
      "_view_count": null,
      "_view_module": "@jupyter-widgets/controls",
      "_view_module_version": "1.5.0",
      "_view_name": "HTMLView",
      "description": "",
      "description_tooltip": null,
      "layout": "IPY_MODEL_fafe22610ea8451591d86ea10070a1b4",
      "placeholder": "​",
      "style": "IPY_MODEL_675d750c3e234ff2919d2fd4dd9a5373",
      "value": " 389/389 [00:00&lt;00:00, 9.93kB/s]"
     }
    },
    "eddc58df59174c7890c4789d62eb1a55": {
     "model_module": "@jupyter-widgets/controls",
     "model_module_version": "1.5.0",
     "model_name": "HBoxModel",
     "state": {
      "_dom_classes": [],
      "_model_module": "@jupyter-widgets/controls",
      "_model_module_version": "1.5.0",
      "_model_name": "HBoxModel",
      "_view_count": null,
      "_view_module": "@jupyter-widgets/controls",
      "_view_module_version": "1.5.0",
      "_view_name": "HBoxView",
      "box_style": "",
      "children": [
       "IPY_MODEL_b4ddbcd75b64408d9615b436af5382f8",
       "IPY_MODEL_756d5d5baac8462492be11524d234f8c",
       "IPY_MODEL_d70879895a1e4d4c9c9b8f7b4017228f"
      ],
      "layout": "IPY_MODEL_60e1633b9dd64de78ffde5b995336a1e"
     }
    },
    "f31f6f8aac0849aaae0b67ab75a792ef": {
     "model_module": "@jupyter-widgets/controls",
     "model_module_version": "1.5.0",
     "model_name": "DescriptionStyleModel",
     "state": {
      "_model_module": "@jupyter-widgets/controls",
      "_model_module_version": "1.5.0",
      "_model_name": "DescriptionStyleModel",
      "_view_count": null,
      "_view_module": "@jupyter-widgets/base",
      "_view_module_version": "1.2.0",
      "_view_name": "StyleView",
      "description_width": ""
     }
    },
    "f34ac3ae47d54def924337862290be86": {
     "model_module": "@jupyter-widgets/base",
     "model_module_version": "1.2.0",
     "model_name": "LayoutModel",
     "state": {
      "_model_module": "@jupyter-widgets/base",
      "_model_module_version": "1.2.0",
      "_model_name": "LayoutModel",
      "_view_count": null,
      "_view_module": "@jupyter-widgets/base",
      "_view_module_version": "1.2.0",
      "_view_name": "LayoutView",
      "align_content": null,
      "align_items": null,
      "align_self": null,
      "border": null,
      "bottom": null,
      "display": null,
      "flex": null,
      "flex_flow": null,
      "grid_area": null,
      "grid_auto_columns": null,
      "grid_auto_flow": null,
      "grid_auto_rows": null,
      "grid_column": null,
      "grid_gap": null,
      "grid_row": null,
      "grid_template_areas": null,
      "grid_template_columns": null,
      "grid_template_rows": null,
      "height": null,
      "justify_content": null,
      "justify_items": null,
      "left": null,
      "margin": null,
      "max_height": null,
      "max_width": null,
      "min_height": null,
      "min_width": null,
      "object_fit": null,
      "object_position": null,
      "order": null,
      "overflow": null,
      "overflow_x": null,
      "overflow_y": null,
      "padding": null,
      "right": null,
      "top": null,
      "visibility": null,
      "width": null
     }
    },
    "fafe22610ea8451591d86ea10070a1b4": {
     "model_module": "@jupyter-widgets/base",
     "model_module_version": "1.2.0",
     "model_name": "LayoutModel",
     "state": {
      "_model_module": "@jupyter-widgets/base",
      "_model_module_version": "1.2.0",
      "_model_name": "LayoutModel",
      "_view_count": null,
      "_view_module": "@jupyter-widgets/base",
      "_view_module_version": "1.2.0",
      "_view_name": "LayoutView",
      "align_content": null,
      "align_items": null,
      "align_self": null,
      "border": null,
      "bottom": null,
      "display": null,
      "flex": null,
      "flex_flow": null,
      "grid_area": null,
      "grid_auto_columns": null,
      "grid_auto_flow": null,
      "grid_auto_rows": null,
      "grid_column": null,
      "grid_gap": null,
      "grid_row": null,
      "grid_template_areas": null,
      "grid_template_columns": null,
      "grid_template_rows": null,
      "height": null,
      "justify_content": null,
      "justify_items": null,
      "left": null,
      "margin": null,
      "max_height": null,
      "max_width": null,
      "min_height": null,
      "min_width": null,
      "object_fit": null,
      "object_position": null,
      "order": null,
      "overflow": null,
      "overflow_x": null,
      "overflow_y": null,
      "padding": null,
      "right": null,
      "top": null,
      "visibility": null,
      "width": null
     }
    }
   }
  }
 },
 "nbformat": 4,
 "nbformat_minor": 5
}
