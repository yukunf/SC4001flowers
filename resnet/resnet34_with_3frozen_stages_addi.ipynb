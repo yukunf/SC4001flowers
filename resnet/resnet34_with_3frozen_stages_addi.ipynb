{
 "cells": [
  {
   "cell_type": "code",
   "execution_count": 1,
   "id": "ae516310",
   "metadata": {
    "colab": {
     "base_uri": "https://localhost:8080/"
    },
    "executionInfo": {
     "elapsed": 36991,
     "status": "ok",
     "timestamp": 1761838177475,
     "user": {
      "displayName": "Fact Frenzy NBA",
      "userId": "02617294725587601640"
     },
     "user_tz": -480
    },
    "id": "ae516310",
    "outputId": "5d8421e6-e693-48f5-a7dd-0b6f0079c901"
   },
   "outputs": [
    {
     "name": "stdout",
     "output_type": "stream",
     "text": [
      "Downloading Flowers-102 dataset...\n",
      "  Downloading imagelabels.mat...\n",
      "  ✓ imagelabels.mat downloaded\n",
      "  Downloading setid.mat...\n",
      "  ✓ setid.mat downloaded\n",
      "  Downloading images (this may take a few minutes)...\n",
      "  ✓ Images downloaded, extracting...\n"
     ]
    },
    {
     "name": "stderr",
     "output_type": "stream",
     "text": [
      "/tmp/ipython-input-396053014.py:64: DeprecationWarning: Python 3.14 will, by default, filter extracted tar archives and reject files or modify their metadata. Use the filter argument to control this behavior.\n",
      "  tar.extractall(data_dir)\n"
     ]
    },
    {
     "name": "stdout",
     "output_type": "stream",
     "text": [
      "  ✓ Images extracted\n",
      "✓ Flowers-102 dataset ready!\n"
     ]
    },
    {
     "data": {
      "text/plain": [
       "True"
      ]
     },
     "execution_count": 1,
     "metadata": {},
     "output_type": "execute_result"
    }
   ],
   "source": [
    "# Download and setup Flowers-102 dataset\n",
    "import os\n",
    "import urllib.request\n",
    "import scipy.io\n",
    "from zipfile import ZipFile\n",
    "import shutil\n",
    "\n",
    "def download_flowers102_dataset(data_dir='data/flowers-102'):\n",
    "    \"\"\"\n",
    "    Download and extract the Flowers-102 dataset\n",
    "    \"\"\"\n",
    "    # Create data directory if it doesn't exist\n",
    "    os.makedirs(data_dir, exist_ok=True)\n",
    "\n",
    "    # Check if dataset already exists\n",
    "    if os.path.exists(os.path.join(data_dir, 'imagelabels.mat')) and \\\n",
    "       os.path.exists(os.path.join(data_dir, 'setid.mat')) and \\\n",
    "       os.path.exists(os.path.join(data_dir, 'jpg')):\n",
    "        print(\"✓ Flowers-102 dataset already downloaded and extracted!\")\n",
    "        return\n",
    "\n",
    "    print(\"Downloading Flowers-102 dataset...\")\n",
    "\n",
    "    # URLs for the dataset files\n",
    "    urls = {\n",
    "        'images': 'http://www.robots.ox.ac.uk/~vgg/data/flowers/102/102flowers.tgz',\n",
    "        'labels': 'http://www.robots.ox.ac.uk/~vgg/data/flowers/102/imagelabels.mat',\n",
    "        'setid': 'http://www.robots.ox.ac.uk/~vgg/data/flowers/102/setid.mat'\n",
    "    }\n",
    "\n",
    "    # Download image labels\n",
    "    labels_path = os.path.join(data_dir, 'imagelabels.mat')\n",
    "    if not os.path.exists(labels_path):\n",
    "        print(\"  Downloading imagelabels.mat...\")\n",
    "        try:\n",
    "            urllib.request.urlretrieve(urls['labels'], labels_path)\n",
    "            print(\"  ✓ imagelabels.mat downloaded\")\n",
    "        except Exception as e:\n",
    "            print(f\"  ✗ Failed to download imagelabels.mat: {e}\")\n",
    "            return False\n",
    "\n",
    "    # Download setid\n",
    "    setid_path = os.path.join(data_dir, 'setid.mat')\n",
    "    if not os.path.exists(setid_path):\n",
    "        print(\"  Downloading setid.mat...\")\n",
    "        try:\n",
    "            urllib.request.urlretrieve(urls['setid'], setid_path)\n",
    "            print(\"  ✓ setid.mat downloaded\")\n",
    "        except Exception as e:\n",
    "            print(f\"  ✗ Failed to download setid.mat: {e}\")\n",
    "            return False\n",
    "\n",
    "    # Download and extract images\n",
    "    jpg_dir = os.path.join(data_dir, 'jpg')\n",
    "    if not os.path.exists(jpg_dir):\n",
    "        print(\"  Downloading images (this may take a few minutes)...\")\n",
    "        tar_path = os.path.join(data_dir, 'flowers.tgz')\n",
    "        try:\n",
    "            urllib.request.urlretrieve(urls['images'], tar_path)\n",
    "            print(\"  ✓ Images downloaded, extracting...\")\n",
    "\n",
    "            import tarfile\n",
    "            with tarfile.open(tar_path, 'r:gz') as tar:\n",
    "                tar.extractall(data_dir)\n",
    "\n",
    "            # Move images to jpg folder if needed\n",
    "            temp_dir = os.path.join(data_dir, 'jpg')\n",
    "            if not os.path.exists(temp_dir):\n",
    "                os.makedirs(temp_dir)\n",
    "\n",
    "            # Look for extracted jpg directory\n",
    "            for root, dirs, files in os.walk(data_dir):\n",
    "                if 'jpg' in root:\n",
    "                    for file in files:\n",
    "                        if file.endswith('.jpg'):\n",
    "                            src = os.path.join(root, file)\n",
    "                            dst = os.path.join(jpg_dir, file)\n",
    "                            if not os.path.exists(dst):\n",
    "                                shutil.copy2(src, dst)\n",
    "\n",
    "            # Clean up tar file\n",
    "            if os.path.exists(tar_path):\n",
    "                os.remove(tar_path)\n",
    "\n",
    "            print(\"  ✓ Images extracted\")\n",
    "        except Exception as e:\n",
    "            print(f\"  ✗ Failed to download images: {e}\")\n",
    "            return False\n",
    "\n",
    "    print(\"✓ Flowers-102 dataset ready!\")\n",
    "    return True\n",
    "\n",
    "# Download the dataset\n",
    "download_flowers102_dataset()\n"
   ]
  },
  {
   "cell_type": "markdown",
   "id": "f8e021fd",
   "metadata": {
    "id": "f8e021fd"
   },
   "source": [
    "# Flower Recognition with ResNet"
   ]
  },
  {
   "cell_type": "code",
   "execution_count": null,
   "id": "615a7c67",
   "metadata": {
    "id": "615a7c67"
   },
   "outputs": [],
   "source": [
    "!pip install torch torchvision pandas numpy matplotlib scikit-learn pillow scipy\n"
   ]
  },
  {
   "cell_type": "code",
   "execution_count": 2,
   "id": "9509e9c3",
   "metadata": {
    "colab": {
     "base_uri": "https://localhost:8080/"
    },
    "executionInfo": {
     "elapsed": 10529,
     "status": "ok",
     "timestamp": 1761838201371,
     "user": {
      "displayName": "Fact Frenzy NBA",
      "userId": "02617294725587601640"
     },
     "user_tz": -480
    },
    "id": "9509e9c3",
    "outputId": "7f85cbbb-166f-4efc-8590-5091313c9399"
   },
   "outputs": [
    {
     "name": "stdout",
     "output_type": "stream",
     "text": [
      "Using device: cuda:0\n"
     ]
    }
   ],
   "source": [
    "# Flower Recognition with ResNet - Complete Implementation\n",
    "# Installing required packages\n",
    "\n",
    "import numpy as np\n",
    "import pandas as pd\n",
    "import matplotlib.pyplot as plt\n",
    "import seaborn as sns\n",
    "\n",
    "import torch\n",
    "import torch.nn as nn\n",
    "import torch.optim as optim\n",
    "from torch.optim import lr_scheduler\n",
    "import torch.backends.cudnn as cudnn\n",
    "import torch.nn.functional as F\n",
    "\n",
    "import torchvision\n",
    "from torchvision import datasets, transforms, models\n",
    "from torch.utils.data import DataLoader\n",
    "\n",
    "from sklearn.metrics import confusion_matrix, classification_report\n",
    "import scipy\n",
    "from PIL import Image\n",
    "import os\n",
    "import shutil\n",
    "import time\n",
    "from tempfile import TemporaryDirectory\n",
    "from tqdm import tqdm\n",
    "import warnings\n",
    "warnings.filterwarnings('ignore')\n",
    "\n",
    "# Set device\n",
    "device = torch.device(\"cuda:0\" if torch.cuda.is_available() else \"cpu\")\n",
    "print(f\"Using device: {device}\")\n",
    "\n",
    "# Set random seeds for reproducibility\n",
    "torch.manual_seed(42)\n",
    "np.random.seed(42)\n",
    "if torch.cuda.is_available():\n",
    "    torch.cuda.manual_seed(42)"
   ]
  },
  {
   "cell_type": "code",
   "execution_count": 3,
   "id": "f7548775",
   "metadata": {
    "colab": {
     "base_uri": "https://localhost:8080/"
    },
    "executionInfo": {
     "elapsed": 53,
     "status": "ok",
     "timestamp": 1761838201432,
     "user": {
      "displayName": "Fact Frenzy NBA",
      "userId": "02617294725587601640"
     },
     "user_tz": -480
    },
    "id": "f7548775",
    "outputId": "a50da802-c75c-4762-def5-f1cf5ea90979"
   },
   "outputs": [
    {
     "name": "stdout",
     "output_type": "stream",
     "text": [
      "Dataset sizes:\n",
      "Training: 1020 images\n",
      "Validation: 1020 images\n",
      "Test: 6149 images\n"
     ]
    }
   ],
   "source": [
    "# Set up data loading and preprocessing\n",
    "import os\n",
    "import scipy.io\n",
    "from torchvision import transforms, datasets\n",
    "from torch.utils.data import Dataset, DataLoader\n",
    "from PIL import Image\n",
    "\n",
    "# Data directories\n",
    "data_dir = 'data/flowers-102'\n",
    "images_dir = os.path.join(data_dir, 'jpg')\n",
    "\n",
    "# Load mat files for labels and train/val/test splits\n",
    "labels = scipy.io.loadmat(os.path.join(data_dir, 'imagelabels.mat'))['labels'][0] - 1  # Convert to 0-based indexing\n",
    "splits = scipy.io.loadmat(os.path.join(data_dir, 'setid.mat'))\n",
    "\n",
    "# Get indices for train, val, and test sets\n",
    "train_idx = splits['trnid'][0] - 1  # Convert to 0-based indexing\n",
    "val_idx = splits['valid'][0] - 1\n",
    "test_idx = splits['tstid'][0] - 1\n",
    "\n",
    "class Flowers102Dataset(Dataset):\n",
    "    def __init__(self, image_dir, indices, labels, transform=None):\n",
    "        self.image_dir = image_dir\n",
    "        self.indices = indices\n",
    "        self.labels = labels\n",
    "        self.transform = transform\n",
    "\n",
    "    def __len__(self):\n",
    "        return len(self.indices)\n",
    "\n",
    "    def __getitem__(self, idx):\n",
    "        img_idx = self.indices[idx]\n",
    "        img_name = f'image_{img_idx+1:05d}.jpg'\n",
    "        img_path = os.path.join(self.image_dir, img_name)\n",
    "        image = Image.open(img_path).convert('RGB')\n",
    "\n",
    "        if self.transform:\n",
    "            image = self.transform(image)\n",
    "\n",
    "        label = self.labels[img_idx]\n",
    "        return image, label\n",
    "\n",
    "# Define transforms\n",
    "train_transform = transforms.Compose([\n",
    "    transforms.RandomResizedCrop(224),\n",
    "    transforms.RandomHorizontalFlip(),\n",
    "    transforms.ToTensor(),\n",
    "    transforms.Normalize([0.485, 0.456, 0.406], [0.229, 0.224, 0.225])\n",
    "])\n",
    "\n",
    "val_test_transform = transforms.Compose([\n",
    "    transforms.Resize(256),\n",
    "    transforms.CenterCrop(224),\n",
    "    transforms.ToTensor(),\n",
    "    transforms.Normalize([0.485, 0.456, 0.406], [0.229, 0.224, 0.225])\n",
    "])\n",
    "\n",
    "# Create datasets\n",
    "train_dataset = Flowers102Dataset(images_dir, train_idx, labels, train_transform)\n",
    "val_dataset = Flowers102Dataset(images_dir, val_idx, labels, val_test_transform)\n",
    "test_dataset = Flowers102Dataset(images_dir, test_idx, labels, val_test_transform)\n",
    "\n",
    "# Create dataloaders\n",
    "batch_size = 32\n",
    "dataloaders = {\n",
    "    'train': DataLoader(train_dataset, batch_size=batch_size, shuffle=True, num_workers=4),\n",
    "    'val': DataLoader(val_dataset, batch_size=batch_size, shuffle=False, num_workers=4),\n",
    "    'test': DataLoader(test_dataset, batch_size=batch_size, shuffle=False, num_workers=4)\n",
    "}\n",
    "\n",
    "# Store dataset sizes\n",
    "dataset_sizes = {\n",
    "    'train': len(train_dataset),\n",
    "    'val': len(val_dataset),\n",
    "    'test': len(test_dataset)\n",
    "}\n",
    "\n",
    "print(f\"Dataset sizes:\")\n",
    "print(f\"Training: {dataset_sizes['train']} images\")\n",
    "print(f\"Validation: {dataset_sizes['val']} images\")\n",
    "print(f\"Test: {dataset_sizes['test']} images\")"
   ]
  },
  {
   "cell_type": "code",
   "execution_count": 4,
   "id": "c072060c",
   "metadata": {
    "colab": {
     "base_uri": "https://localhost:8080/",
     "height": 163
    },
    "executionInfo": {
     "elapsed": 1731,
     "status": "ok",
     "timestamp": 1761838233768,
     "user": {
      "displayName": "Fact Frenzy NBA",
      "userId": "02617294725587601640"
     },
     "user_tz": -480
    },
    "id": "c072060c",
    "outputId": "9fed9f53-cdc1-4585-8a4e-76c98e430c67"
   },
   "outputs": [
    {
     "name": "stdout",
     "output_type": "stream",
     "text": [
      "Training samples:\n"
     ]
    },
    {
     "data": {
      "image/png": "[encoded data removed]",
      "text/plain": [
       "<Figure size 640x480 with 1 Axes>"
      ]
     },
     "metadata": {},
     "output_type": "display_data"
    }
   ],
   "source": [
    "def imshow(inp, title=None):\n",
    "    \"\"\"Display image for Tensor.\"\"\"\n",
    "    inp = inp.numpy().transpose((1, 2, 0))\n",
    "    mean = np.array([0.485, 0.456, 0.406])\n",
    "    std = np.array([0.229, 0.224, 0.225])\n",
    "    inp = std * inp + mean\n",
    "    inp = np.clip(inp, 0, 1)\n",
    "    plt.imshow(inp)\n",
    "    if title is not None:\n",
    "        plt.title(title)\n",
    "    plt.pause(0.001)\n",
    "\n",
    "# Visualize some training images\n",
    "def visualize_samples(dataloader, num_images=8):\n",
    "    inputs, classes = next(iter(dataloader))\n",
    "    out = torchvision.utils.make_grid(inputs[:num_images])\n",
    "    imshow(out, title=[f'Class {x}' for x in classes[:num_images]])\n",
    "\n",
    "print(\"Training samples:\")\n",
    "visualize_samples(dataloaders['train'])"
   ]
  },
  {
   "cell_type": "code",
   "execution_count": 5,
   "id": "9ef28202",
   "metadata": {
    "executionInfo": {
     "elapsed": 7,
     "status": "ok",
     "timestamp": 1761838236922,
     "user": {
      "displayName": "Fact Frenzy NBA",
      "userId": "02617294725587601640"
     },
     "user_tz": -480
    },
    "id": "9ef28202"
   },
   "outputs": [],
   "source": [
    "# Base ResNet Model\n",
    "class FlowerResNet(nn.Module):\n",
    "    def __init__(self, base_model='resnet18', pretrained=True, num_classes=102):\n",
    "        super(FlowerResNet, self).__init__()\n",
    "\n",
    "        if base_model == 'resnet18':\n",
    "            if pretrained:\n",
    "                self.backbone = models.resnet18(weights='IMAGENET1K_V1')\n",
    "            else:\n",
    "                self.backbone = models.resnet18(weights=None)\n",
    "        elif base_model == 'resnet34':\n",
    "            if pretrained:\n",
    "                self.backbone = models.resnet34(weights='IMAGENET1K_V1')\n",
    "            else:\n",
    "                self.backbone = models.resnet34(weights=None)\n",
    "        else:\n",
    "            raise ValueError(\"Unsupported base model\")\n",
    "\n",
    "        # Replace the final fully connected layer\n",
    "        in_features = self.backbone.fc.in_features\n",
    "        self.backbone.fc = nn.Linear(in_features, num_classes)\n",
    "\n",
    "    def forward(self, x):\n",
    "        return self.backbone(x)\n",
    "\n",
    "# Model with Frozen Stages\n",
    "class FlowerResNetFrozen(nn.Module):\n",
    "    def __init__(self, base_model='resnet18', num_frozen_stages=3, num_classes=102):\n",
    "        super(FlowerResNetFrozen, self).__init__()\n",
    "\n",
    "        if base_model == 'resnet18':\n",
    "            self.backbone = models.resnet18(weights='IMAGENET1K_V1')\n",
    "        elif base_model == 'resnet34':\n",
    "            self.backbone = models.resnet34(weights='IMAGENET1K_V1')\n",
    "        else:\n",
    "            raise ValueError(\"Unsupported base model\")\n",
    "\n",
    "        # Freeze specified stages\n",
    "        self._freeze_stages(num_frozen_stages)\n",
    "\n",
    "        # Replace the final fully connected layer\n",
    "        in_features = self.backbone.fc.in_features\n",
    "        self.backbone.fc = nn.Linear(in_features, num_classes)\n",
    "\n",
    "    def _freeze_stages(self, num_stages):\n",
    "        \"\"\"Freeze the first num_stages of ResNet\"\"\"\n",
    "        if num_stages >= 1:\n",
    "            for param in self.backbone.conv1.parameters():\n",
    "                param.requires_grad = False\n",
    "            for param in self.backbone.bn1.parameters():\n",
    "                param.requires_grad = False\n",
    "        if num_stages >= 2:\n",
    "            for param in self.backbone.layer1.parameters():\n",
    "                param.requires_grad = False\n",
    "        if num_stages >= 3:\n",
    "            for param in self.backbone.layer2.parameters():\n",
    "                param.requires_grad = False\n",
    "        if num_stages >= 4:\n",
    "            for param in self.backbone.layer3.parameters():\n",
    "                param.requires_grad = False\n",
    "        if num_stages >= 5:\n",
    "            for param in self.backbone.layer4.parameters():\n",
    "                param.requires_grad = False\n",
    "\n",
    "    def forward(self, x):\n",
    "        return self.backbone(x)"
   ]
  },
  {
   "cell_type": "code",
   "execution_count": 6,
   "id": "57b9eea3",
   "metadata": {
    "executionInfo": {
     "elapsed": 21,
     "status": "ok",
     "timestamp": 1761838239917,
     "user": {
      "displayName": "Fact Frenzy NBA",
      "userId": "02617294725587601640"
     },
     "user_tz": -480
    },
    "id": "57b9eea3"
   },
   "outputs": [],
   "source": [
    "def train_model(model, criterion, optimizer, scheduler, num_epochs=25, model_name='resnet18'):\n",
    "    since = time.time()\n",
    "\n",
    "    # Create checkpoint directory\n",
    "    checkpoint_path = './model_checkpoints'\n",
    "    os.makedirs(checkpoint_path, exist_ok=True)\n",
    "    best_model_params_path = os.path.join(checkpoint_path, f'best_{model_name}_params.pt')\n",
    "\n",
    "    # Save initial model\n",
    "    torch.save(model.state_dict(), best_model_params_path)\n",
    "\n",
    "    # Track metrics\n",
    "    train_losses, train_accs = [], []\n",
    "    val_losses, val_accs = [], []\n",
    "    best_acc = 0.0\n",
    "\n",
    "    for epoch in range(num_epochs):\n",
    "        print(f'Epoch {epoch}/{num_epochs - 1}')\n",
    "        print('-' * 10)\n",
    "\n",
    "        # Each epoch has training and validation phases\n",
    "        for phase in ['train', 'val']:\n",
    "            if phase == 'train':\n",
    "                model.train()\n",
    "            else:\n",
    "                model.eval()\n",
    "\n",
    "            running_loss = 0.0\n",
    "            running_corrects = 0\n",
    "\n",
    "            # Iterate over data with progress bar\n",
    "            pbar = tqdm(dataloaders[phase], desc=f'{phase.capitalize()} Epoch {epoch}')\n",
    "            for inputs, labels in pbar:\n",
    "                inputs = inputs.to(device)\n",
    "                labels = labels.to(device)\n",
    "\n",
    "                # Zero gradients\n",
    "                optimizer.zero_grad()\n",
    "\n",
    "                # Forward pass\n",
    "                with torch.set_grad_enabled(phase == 'train'):\n",
    "                    outputs = model(inputs)\n",
    "                    _, preds = torch.max(outputs, 1)\n",
    "                    loss = criterion(outputs, labels)\n",
    "\n",
    "                    # Backward + optimize only in training phase\n",
    "                    if phase == 'train':\n",
    "                        loss.backward()\n",
    "                        optimizer.step()\n",
    "\n",
    "                # Statistics\n",
    "                running_loss += loss.item() * inputs.size(0)\n",
    "                running_corrects += torch.sum(preds == labels.data)\n",
    "\n",
    "                # Update progress bar\n",
    "                pbar.set_postfix({\n",
    "                    'Loss': f'{loss.item():.4f}',\n",
    "                    'Acc': f'{torch.sum(preds == labels.data).item() / inputs.size(0):.4f}'\n",
    "                })\n",
    "\n",
    "            if phase == 'train' and scheduler is not None:\n",
    "                scheduler.step()\n",
    "\n",
    "            # Calculate epoch metrics\n",
    "            epoch_loss = running_loss / dataset_sizes[phase]\n",
    "            epoch_acc = running_corrects.double() / dataset_sizes[phase]\n",
    "\n",
    "            print(f'{phase} Loss: {epoch_loss:.4f} Acc: {epoch_acc:.4f}')\n",
    "\n",
    "            # Store metrics\n",
    "            if phase == 'train':\n",
    "                train_losses.append(epoch_loss)\n",
    "                train_accs.append(epoch_acc.cpu())\n",
    "            else:\n",
    "                val_losses.append(epoch_loss)\n",
    "                val_accs.append(epoch_acc.cpu())\n",
    "\n",
    "            # Save best model\n",
    "            if phase == 'val' and epoch_acc > best_acc:\n",
    "                best_acc = epoch_acc\n",
    "                torch.save(model.state_dict(), best_model_params_path)\n",
    "                print(f'New best model saved with val_acc: {best_acc:.4f}')\n",
    "\n",
    "        print()\n",
    "\n",
    "    time_elapsed = time.time() - since\n",
    "    print(f'Training complete in {time_elapsed // 60:.0f}m {time_elapsed % 60:.0f}s')\n",
    "    print(f'Best val Acc: {best_acc:4f}')\n",
    "\n",
    "    # Load best model weights\n",
    "    model.load_state_dict(torch.load(best_model_params_path))\n",
    "\n",
    "    return model, train_losses, train_accs, val_losses, val_accs"
   ]
  },
  {
   "cell_type": "code",
   "execution_count": 7,
   "id": "b67e717d",
   "metadata": {
    "executionInfo": {
     "elapsed": 18,
     "status": "ok",
     "timestamp": 1761838243477,
     "user": {
      "displayName": "Fact Frenzy NBA",
      "userId": "02617294725587601640"
     },
     "user_tz": -480
    },
    "id": "b67e717d"
   },
   "outputs": [],
   "source": [
    "def plot_training_curves(train_losses, val_losses, train_accs, val_accs, model_name):\n",
    "    fig, (ax1, ax2) = plt.subplots(1, 2, figsize=(15, 5))\n",
    "\n",
    "    # Plot losses\n",
    "    ax1.plot(train_losses, label='Train Loss')\n",
    "    ax1.plot(val_losses, label='Val Loss')\n",
    "    ax1.set_title(f'{model_name} - Loss')\n",
    "    ax1.set_xlabel('Epoch')\n",
    "    ax1.set_ylabel('Loss')\n",
    "    ax1.legend()\n",
    "    ax1.grid(True)\n",
    "\n",
    "    # Plot accuracies\n",
    "    ax2.plot(train_accs, label='Train Acc')\n",
    "    ax2.plot(val_accs, label='Val Acc')\n",
    "    ax2.set_title(f'{model_name} - Accuracy')\n",
    "    ax2.set_xlabel('Epoch')\n",
    "    ax2.set_ylabel('Accuracy')\n",
    "    ax2.legend()\n",
    "    ax2.grid(True)\n",
    "\n",
    "    plt.tight_layout()\n",
    "    plt.savefig(f'{model_name}_training_curves.png', dpi=300, bbox_inches='tight')\n",
    "    plt.show()\n",
    "\n",
    "def visualize_model_predictions(model, num_images=6):\n",
    "    was_training = model.training\n",
    "    model.eval()\n",
    "    images_so_far = 0\n",
    "    fig = plt.figure(figsize=(12, 8))\n",
    "\n",
    "    with torch.no_grad():\n",
    "        for inputs, labels in dataloaders['val']:\n",
    "            inputs = inputs.to(device)\n",
    "            labels = labels.to(device)\n",
    "\n",
    "            outputs = model(inputs)\n",
    "            _, preds = torch.max(outputs, 1)\n",
    "\n",
    "            for j in range(inputs.size()[0]):\n",
    "                images_so_far += 1\n",
    "                ax = plt.subplot(num_images//2, 2, images_so_far)\n",
    "                ax.axis('off')\n",
    "\n",
    "                # Color code correct/incorrect predictions\n",
    "                color = 'green' if preds[j] == labels[j] else 'red'\n",
    "                ax.set_title(f'Pred: {preds[j].item()} | True: {labels[j].item()}',\n",
    "                           color=color, fontweight='bold')\n",
    "\n",
    "                # Denormalize and show image\n",
    "                inp = inputs.cpu().data[j]\n",
    "                inp = inp.numpy().transpose((1, 2, 0))\n",
    "                mean = np.array([0.485, 0.456, 0.406])\n",
    "                std = np.array([0.229, 0.224, 0.225])\n",
    "                inp = std * inp + mean\n",
    "                inp = np.clip(inp, 0, 1)\n",
    "                ax.imshow(inp)\n",
    "\n",
    "                if images_so_far == num_images:\n",
    "                    model.train(mode=was_training)\n",
    "                    return\n",
    "        model.train(mode=was_training)\n",
    "\n",
    "def evaluate_model(model, criterion):\n",
    "    was_training = model.training\n",
    "    model.eval()\n",
    "\n",
    "    test_loss = 0.0\n",
    "    correct = 0\n",
    "    all_preds = []\n",
    "    all_labels = []\n",
    "\n",
    "    print(\"Evaluating on test set...\")\n",
    "    with torch.no_grad():\n",
    "        for inputs, labels in tqdm(dataloaders['test']):\n",
    "            inputs = inputs.to(device)\n",
    "            labels = labels.to(device)\n",
    "\n",
    "            outputs = model(inputs)\n",
    "            _, preds = torch.max(outputs, 1)\n",
    "\n",
    "            test_loss += criterion(outputs, labels).item() * inputs.size(0)\n",
    "            correct += torch.sum(preds == labels.data)\n",
    "\n",
    "            all_preds.extend(preds.cpu().numpy())\n",
    "            all_labels.extend(labels.cpu().numpy())\n",
    "\n",
    "    test_loss /= dataset_sizes['test']\n",
    "    test_acc = correct.double() / dataset_sizes['test']\n",
    "\n",
    "    print(f'Test Loss: {test_loss:.4f}')\n",
    "    print(f'Test Accuracy: {test_acc:.4f}')\n",
    "\n",
    "    model.train(mode=was_training)\n",
    "    return test_loss, test_acc, all_preds, all_labels\n",
    "\n",
    "def plot_confusion_matrix(all_labels, all_preds, class_names=None):\n",
    "    cm = confusion_matrix(all_labels, all_preds)\n",
    "    plt.figure(figsize=(12, 10))\n",
    "    sns.heatmap(cm, annot=False, fmt='d', cmap='Blues',\n",
    "                xticklabels=class_names if class_names else range(102),\n",
    "                yticklabels=class_names if class_names else range(102))\n",
    "    plt.title('Confusion Matrix')\n",
    "    plt.xlabel('Predicted Label')\n",
    "    plt.ylabel('True Label')\n",
    "    plt.tight_layout()\n",
    "    plt.savefig('confusion_matrix.png', dpi=300, bbox_inches='tight')\n",
    "    plt.show()"
   ]
  },
  {
   "cell_type": "markdown",
   "id": "21de1450",
   "metadata": {
    "id": "21de1450"
   },
   "source": [
    "### Experiment 3 resnet-34 with 3 frozen stages"
   ]
  },
  {
   "cell_type": "code",
   "execution_count": 22,
   "id": "4b7278cd",
   "metadata": {
    "colab": {
     "base_uri": "https://localhost:8080/",
     "height": 1000
    },
    "executionInfo": {
     "elapsed": 617911,
     "status": "ok",
     "timestamp": 1761842195505,
     "user": {
      "displayName": "Fact Frenzy NBA",
      "userId": "02617294725587601640"
     },
     "user_tz": -480
    },
    "id": "4b7278cd",
    "outputId": "5666c29f-7986-4ac8-ea98-7c143103ced8"
   },
   "outputs": [
    {
     "name": "stdout",
     "output_type": "stream",
     "text": [
      "ResNet34 - Trainable parameters: 19989094/21336998 (93.68%)\n",
      "Epoch 0/49\n",
      "----------\n"
     ]
    },
    {
     "name": "stderr",
     "output_type": "stream",
     "text": [
      "Train Epoch 0: 100%|██████████| 32/32 [00:05<00:00,  5.37it/s, Loss=4.4727, Acc=0.0357]\n"
     ]
    },
    {
     "name": "stdout",
     "output_type": "stream",
     "text": [
      "train Loss: 4.6625 Acc: 0.0186\n"
     ]
    },
    {
     "name": "stderr",
     "output_type": "stream",
     "text": [
      "Val Epoch 0: 100%|██████████| 32/32 [00:05<00:00,  5.83it/s, Loss=4.0953, Acc=0.0357]\n"
     ]
    },
    {
     "name": "stdout",
     "output_type": "stream",
     "text": [
      "val Loss: 4.3069 Acc: 0.0696\n",
      "New best model saved with val_acc: 0.0696\n",
      "\n",
      "Epoch 1/49\n",
      "----------\n"
     ]
    },
    {
     "name": "stderr",
     "output_type": "stream",
     "text": [
      "Train Epoch 1: 100%|██████████| 32/32 [00:05<00:00,  6.39it/s, Loss=3.8795, Acc=0.2500]\n"
     ]
    },
    {
     "name": "stdout",
     "output_type": "stream",
     "text": [
      "train Loss: 4.0874 Acc: 0.1598\n"
     ]
    },
    {
     "name": "stderr",
     "output_type": "stream",
     "text": [
      "Val Epoch 1: 100%|██████████| 32/32 [00:06<00:00,  5.21it/s, Loss=3.2192, Acc=0.4643]\n"
     ]
    },
    {
     "name": "stdout",
     "output_type": "stream",
     "text": [
      "val Loss: 3.6968 Acc: 0.3029\n",
      "New best model saved with val_acc: 0.3029\n",
      "\n",
      "Epoch 2/49\n",
      "----------\n"
     ]
    },
    {
     "name": "stderr",
     "output_type": "stream",
     "text": [
      "Train Epoch 2: 100%|██████████| 32/32 [00:04<00:00,  6.44it/s, Loss=3.1557, Acc=0.6071]\n"
     ]
    },
    {
     "name": "stdout",
     "output_type": "stream",
     "text": [
      "train Loss: 3.5180 Acc: 0.4186\n"
     ]
    },
    {
     "name": "stderr",
     "output_type": "stream",
     "text": [
      "Val Epoch 2: 100%|██████████| 32/32 [00:06<00:00,  4.95it/s, Loss=2.2952, Acc=0.7500]\n"
     ]
    },
    {
     "name": "stdout",
     "output_type": "stream",
     "text": [
      "val Loss: 3.0534 Acc: 0.5137\n",
      "New best model saved with val_acc: 0.5137\n",
      "\n",
      "Epoch 3/49\n",
      "----------\n"
     ]
    },
    {
     "name": "stderr",
     "output_type": "stream",
     "text": [
      "Train Epoch 3: 100%|██████████| 32/32 [00:05<00:00,  6.15it/s, Loss=3.0866, Acc=0.5357]\n"
     ]
    },
    {
     "name": "stdout",
     "output_type": "stream",
     "text": [
      "train Loss: 2.9559 Acc: 0.5647\n"
     ]
    },
    {
     "name": "stderr",
     "output_type": "stream",
     "text": [
      "Val Epoch 3: 100%|██████████| 32/32 [00:06<00:00,  4.91it/s, Loss=1.7425, Acc=0.7500]\n"
     ]
    },
    {
     "name": "stdout",
     "output_type": "stream",
     "text": [
      "val Loss: 2.5210 Acc: 0.6265\n",
      "New best model saved with val_acc: 0.6265\n",
      "\n",
      "Epoch 4/49\n",
      "----------\n"
     ]
    },
    {
     "name": "stderr",
     "output_type": "stream",
     "text": [
      "Train Epoch 4: 100%|██████████| 32/32 [00:04<00:00,  6.44it/s, Loss=2.0937, Acc=0.7143]\n"
     ]
    },
    {
     "name": "stdout",
     "output_type": "stream",
     "text": [
      "train Loss: 2.4865 Acc: 0.6735\n"
     ]
    },
    {
     "name": "stderr",
     "output_type": "stream",
     "text": [
      "Val Epoch 4: 100%|██████████| 32/32 [00:06<00:00,  4.86it/s, Loss=1.4396, Acc=0.7500]\n"
     ]
    },
    {
     "name": "stdout",
     "output_type": "stream",
     "text": [
      "val Loss: 2.1024 Acc: 0.6961\n",
      "New best model saved with val_acc: 0.6961\n",
      "\n",
      "Epoch 5/49\n",
      "----------\n"
     ]
    },
    {
     "name": "stderr",
     "output_type": "stream",
     "text": [
      "Train Epoch 5: 100%|██████████| 32/32 [00:04<00:00,  6.54it/s, Loss=2.0720, Acc=0.8214]\n"
     ]
    },
    {
     "name": "stdout",
     "output_type": "stream",
     "text": [
      "train Loss: 2.1087 Acc: 0.7480\n"
     ]
    },
    {
     "name": "stderr",
     "output_type": "stream",
     "text": [
      "Val Epoch 5: 100%|██████████| 32/32 [00:06<00:00,  4.87it/s, Loss=1.2450, Acc=0.7857]\n"
     ]
    },
    {
     "name": "stdout",
     "output_type": "stream",
     "text": [
      "val Loss: 1.7625 Acc: 0.7500\n",
      "New best model saved with val_acc: 0.7500\n",
      "\n",
      "Epoch 6/49\n",
      "----------\n"
     ]
    },
    {
     "name": "stderr",
     "output_type": "stream",
     "text": [
      "Train Epoch 6: 100%|██████████| 32/32 [00:04<00:00,  6.67it/s, Loss=1.9261, Acc=0.7143]\n"
     ]
    },
    {
     "name": "stdout",
     "output_type": "stream",
     "text": [
      "train Loss: 1.7669 Acc: 0.8088\n"
     ]
    },
    {
     "name": "stderr",
     "output_type": "stream",
     "text": [
      "Val Epoch 6: 100%|██████████| 32/32 [00:05<00:00,  5.62it/s, Loss=0.9077, Acc=0.8571]\n"
     ]
    },
    {
     "name": "stdout",
     "output_type": "stream",
     "text": [
      "val Loss: 1.5038 Acc: 0.7912\n",
      "New best model saved with val_acc: 0.7912\n",
      "\n",
      "Epoch 7/49\n",
      "----------\n"
     ]
    },
    {
     "name": "stderr",
     "output_type": "stream",
     "text": [
      "Train Epoch 7: 100%|██████████| 32/32 [00:05<00:00,  5.75it/s, Loss=1.2139, Acc=0.8214]\n"
     ]
    },
    {
     "name": "stdout",
     "output_type": "stream",
     "text": [
      "train Loss: 1.5582 Acc: 0.8147\n"
     ]
    },
    {
     "name": "stderr",
     "output_type": "stream",
     "text": [
      "Val Epoch 7: 100%|██████████| 32/32 [00:05<00:00,  5.88it/s, Loss=0.7926, Acc=0.8929]\n"
     ]
    },
    {
     "name": "stdout",
     "output_type": "stream",
     "text": [
      "val Loss: 1.3070 Acc: 0.8245\n",
      "New best model saved with val_acc: 0.8245\n",
      "\n",
      "Epoch 8/49\n",
      "----------\n"
     ]
    },
    {
     "name": "stderr",
     "output_type": "stream",
     "text": [
      "Train Epoch 8: 100%|██████████| 32/32 [00:06<00:00,  5.21it/s, Loss=1.2412, Acc=0.8214]\n"
     ]
    },
    {
     "name": "stdout",
     "output_type": "stream",
     "text": [
      "train Loss: 1.2922 Acc: 0.8696\n"
     ]
    },
    {
     "name": "stderr",
     "output_type": "stream",
     "text": [
      "Val Epoch 8: 100%|██████████| 32/32 [00:05<00:00,  5.84it/s, Loss=0.6934, Acc=0.8571]\n"
     ]
    },
    {
     "name": "stdout",
     "output_type": "stream",
     "text": [
      "val Loss: 1.1334 Acc: 0.8382\n",
      "New best model saved with val_acc: 0.8382\n",
      "\n",
      "Epoch 9/49\n",
      "----------\n"
     ]
    },
    {
     "name": "stderr",
     "output_type": "stream",
     "text": [
      "Train Epoch 9: 100%|██████████| 32/32 [00:06<00:00,  5.29it/s, Loss=1.1011, Acc=0.9643]\n"
     ]
    },
    {
     "name": "stdout",
     "output_type": "stream",
     "text": [
      "train Loss: 1.1276 Acc: 0.8882\n"
     ]
    },
    {
     "name": "stderr",
     "output_type": "stream",
     "text": [
      "Val Epoch 9: 100%|██████████| 32/32 [00:05<00:00,  5.84it/s, Loss=0.6322, Acc=0.9643]\n"
     ]
    },
    {
     "name": "stdout",
     "output_type": "stream",
     "text": [
      "val Loss: 0.9985 Acc: 0.8510\n",
      "New best model saved with val_acc: 0.8510\n",
      "\n",
      "Epoch 10/49\n",
      "----------\n"
     ]
    },
    {
     "name": "stderr",
     "output_type": "stream",
     "text": [
      "Train Epoch 10: 100%|██████████| 32/32 [00:05<00:00,  5.48it/s, Loss=1.0818, Acc=0.8929]\n"
     ]
    },
    {
     "name": "stdout",
     "output_type": "stream",
     "text": [
      "train Loss: 0.9713 Acc: 0.8931\n"
     ]
    },
    {
     "name": "stderr",
     "output_type": "stream",
     "text": [
      "Val Epoch 10: 100%|██████████| 32/32 [00:05<00:00,  5.76it/s, Loss=0.5471, Acc=0.9286]\n"
     ]
    },
    {
     "name": "stdout",
     "output_type": "stream",
     "text": [
      "val Loss: 0.8997 Acc: 0.8735\n",
      "New best model saved with val_acc: 0.8735\n",
      "\n",
      "Epoch 11/49\n",
      "----------\n"
     ]
    },
    {
     "name": "stderr",
     "output_type": "stream",
     "text": [
      "Train Epoch 11: 100%|██████████| 32/32 [00:05<00:00,  6.16it/s, Loss=1.1302, Acc=0.8571]\n"
     ]
    },
    {
     "name": "stdout",
     "output_type": "stream",
     "text": [
      "train Loss: 0.8686 Acc: 0.9020\n"
     ]
    },
    {
     "name": "stderr",
     "output_type": "stream",
     "text": [
      "Val Epoch 11: 100%|██████████| 32/32 [00:06<00:00,  5.18it/s, Loss=0.5589, Acc=0.8929]\n"
     ]
    },
    {
     "name": "stdout",
     "output_type": "stream",
     "text": [
      "val Loss: 0.8087 Acc: 0.8843\n",
      "New best model saved with val_acc: 0.8843\n",
      "\n",
      "Epoch 12/49\n",
      "----------\n"
     ]
    },
    {
     "name": "stderr",
     "output_type": "stream",
     "text": [
      "Train Epoch 12: 100%|██████████| 32/32 [00:04<00:00,  6.52it/s, Loss=1.0327, Acc=0.8571]\n"
     ]
    },
    {
     "name": "stdout",
     "output_type": "stream",
     "text": [
      "train Loss: 0.7603 Acc: 0.9176\n"
     ]
    },
    {
     "name": "stderr",
     "output_type": "stream",
     "text": [
      "Val Epoch 12: 100%|██████████| 32/32 [00:06<00:00,  4.88it/s, Loss=0.4465, Acc=0.9643]\n"
     ]
    },
    {
     "name": "stdout",
     "output_type": "stream",
     "text": [
      "val Loss: 0.7529 Acc: 0.8902\n",
      "New best model saved with val_acc: 0.8902\n",
      "\n",
      "Epoch 13/49\n",
      "----------\n"
     ]
    },
    {
     "name": "stderr",
     "output_type": "stream",
     "text": [
      "Train Epoch 13: 100%|██████████| 32/32 [00:04<00:00,  6.50it/s, Loss=0.7732, Acc=0.9286]\n"
     ]
    },
    {
     "name": "stdout",
     "output_type": "stream",
     "text": [
      "train Loss: 0.6669 Acc: 0.9314\n"
     ]
    },
    {
     "name": "stderr",
     "output_type": "stream",
     "text": [
      "Val Epoch 13: 100%|██████████| 32/32 [00:06<00:00,  4.77it/s, Loss=0.4774, Acc=0.8929]\n"
     ]
    },
    {
     "name": "stdout",
     "output_type": "stream",
     "text": [
      "val Loss: 0.7071 Acc: 0.8931\n",
      "New best model saved with val_acc: 0.8931\n",
      "\n",
      "Epoch 14/49\n",
      "----------\n"
     ]
    },
    {
     "name": "stderr",
     "output_type": "stream",
     "text": [
      "Train Epoch 14: 100%|██████████| 32/32 [00:05<00:00,  6.32it/s, Loss=0.6058, Acc=0.9286]\n"
     ]
    },
    {
     "name": "stdout",
     "output_type": "stream",
     "text": [
      "train Loss: 0.6362 Acc: 0.9255\n"
     ]
    },
    {
     "name": "stderr",
     "output_type": "stream",
     "text": [
      "Val Epoch 14: 100%|██████████| 32/32 [00:06<00:00,  4.88it/s, Loss=0.3901, Acc=0.9643]\n"
     ]
    },
    {
     "name": "stdout",
     "output_type": "stream",
     "text": [
      "val Loss: 0.6441 Acc: 0.8961\n",
      "New best model saved with val_acc: 0.8961\n",
      "\n",
      "Epoch 15/49\n",
      "----------\n"
     ]
    },
    {
     "name": "stderr",
     "output_type": "stream",
     "text": [
      "Train Epoch 15: 100%|██████████| 32/32 [00:05<00:00,  6.33it/s, Loss=0.5201, Acc=0.9643]\n"
     ]
    },
    {
     "name": "stdout",
     "output_type": "stream",
     "text": [
      "train Loss: 0.5485 Acc: 0.9451\n"
     ]
    },
    {
     "name": "stderr",
     "output_type": "stream",
     "text": [
      "Val Epoch 15: 100%|██████████| 32/32 [00:06<00:00,  5.26it/s, Loss=0.3461, Acc=1.0000]\n"
     ]
    },
    {
     "name": "stdout",
     "output_type": "stream",
     "text": [
      "val Loss: 0.6136 Acc: 0.8990\n",
      "New best model saved with val_acc: 0.8990\n",
      "\n",
      "Epoch 16/49\n",
      "----------\n"
     ]
    },
    {
     "name": "stderr",
     "output_type": "stream",
     "text": [
      "Train Epoch 16: 100%|██████████| 32/32 [00:05<00:00,  5.88it/s, Loss=0.6210, Acc=0.9286]\n"
     ]
    },
    {
     "name": "stdout",
     "output_type": "stream",
     "text": [
      "train Loss: 0.5310 Acc: 0.9480\n"
     ]
    },
    {
     "name": "stderr",
     "output_type": "stream",
     "text": [
      "Val Epoch 16: 100%|██████████| 32/32 [00:05<00:00,  5.73it/s, Loss=0.3495, Acc=0.9643]\n"
     ]
    },
    {
     "name": "stdout",
     "output_type": "stream",
     "text": [
      "val Loss: 0.5923 Acc: 0.8961\n",
      "\n",
      "Epoch 17/49\n",
      "----------\n"
     ]
    },
    {
     "name": "stderr",
     "output_type": "stream",
     "text": [
      "Train Epoch 17: 100%|██████████| 32/32 [00:05<00:00,  5.43it/s, Loss=0.3993, Acc=0.9286]\n"
     ]
    },
    {
     "name": "stdout",
     "output_type": "stream",
     "text": [
      "train Loss: 0.4779 Acc: 0.9539\n"
     ]
    },
    {
     "name": "stderr",
     "output_type": "stream",
     "text": [
      "Val Epoch 17: 100%|██████████| 32/32 [00:05<00:00,  5.75it/s, Loss=0.3264, Acc=0.9643]\n"
     ]
    },
    {
     "name": "stdout",
     "output_type": "stream",
     "text": [
      "val Loss: 0.5585 Acc: 0.9020\n",
      "New best model saved with val_acc: 0.9020\n",
      "\n",
      "Epoch 18/49\n",
      "----------\n"
     ]
    },
    {
     "name": "stderr",
     "output_type": "stream",
     "text": [
      "Train Epoch 18: 100%|██████████| 32/32 [00:06<00:00,  5.32it/s, Loss=0.6177, Acc=0.8571]\n"
     ]
    },
    {
     "name": "stdout",
     "output_type": "stream",
     "text": [
      "train Loss: 0.4689 Acc: 0.9461\n"
     ]
    },
    {
     "name": "stderr",
     "output_type": "stream",
     "text": [
      "Val Epoch 18: 100%|██████████| 32/32 [00:05<00:00,  5.68it/s, Loss=0.3491, Acc=0.9286]\n"
     ]
    },
    {
     "name": "stdout",
     "output_type": "stream",
     "text": [
      "val Loss: 0.5283 Acc: 0.9059\n",
      "New best model saved with val_acc: 0.9059\n",
      "\n",
      "Epoch 19/49\n",
      "----------\n"
     ]
    },
    {
     "name": "stderr",
     "output_type": "stream",
     "text": [
      "Train Epoch 19: 100%|██████████| 32/32 [00:06<00:00,  5.32it/s, Loss=0.2287, Acc=1.0000]\n"
     ]
    },
    {
     "name": "stdout",
     "output_type": "stream",
     "text": [
      "train Loss: 0.4345 Acc: 0.9549\n"
     ]
    },
    {
     "name": "stderr",
     "output_type": "stream",
     "text": [
      "Val Epoch 19: 100%|██████████| 32/32 [00:05<00:00,  5.90it/s, Loss=0.3035, Acc=0.9643]\n"
     ]
    },
    {
     "name": "stdout",
     "output_type": "stream",
     "text": [
      "val Loss: 0.5155 Acc: 0.9078\n",
      "New best model saved with val_acc: 0.9078\n",
      "\n",
      "Epoch 20/49\n",
      "----------\n"
     ]
    },
    {
     "name": "stderr",
     "output_type": "stream",
     "text": [
      "Train Epoch 20: 100%|██████████| 32/32 [00:05<00:00,  5.74it/s, Loss=0.5128, Acc=0.9286]\n"
     ]
    },
    {
     "name": "stdout",
     "output_type": "stream",
     "text": [
      "train Loss: 0.3944 Acc: 0.9490\n"
     ]
    },
    {
     "name": "stderr",
     "output_type": "stream",
     "text": [
      "Val Epoch 20: 100%|██████████| 32/32 [00:05<00:00,  5.66it/s, Loss=0.3128, Acc=0.9643]\n"
     ]
    },
    {
     "name": "stdout",
     "output_type": "stream",
     "text": [
      "val Loss: 0.4974 Acc: 0.9098\n",
      "New best model saved with val_acc: 0.9098\n",
      "\n",
      "Epoch 21/49\n",
      "----------\n"
     ]
    },
    {
     "name": "stderr",
     "output_type": "stream",
     "text": [
      "Train Epoch 21: 100%|██████████| 32/32 [00:05<00:00,  6.23it/s, Loss=0.3738, Acc=0.9286]\n"
     ]
    },
    {
     "name": "stdout",
     "output_type": "stream",
     "text": [
      "train Loss: 0.3441 Acc: 0.9618\n"
     ]
    },
    {
     "name": "stderr",
     "output_type": "stream",
     "text": [
      "Val Epoch 21: 100%|██████████| 32/32 [00:06<00:00,  4.85it/s, Loss=0.2655, Acc=1.0000]\n"
     ]
    },
    {
     "name": "stdout",
     "output_type": "stream",
     "text": [
      "val Loss: 0.4785 Acc: 0.9137\n",
      "New best model saved with val_acc: 0.9137\n",
      "\n",
      "Epoch 22/49\n",
      "----------\n"
     ]
    },
    {
     "name": "stderr",
     "output_type": "stream",
     "text": [
      "Train Epoch 22: 100%|██████████| 32/32 [00:05<00:00,  6.35it/s, Loss=0.3802, Acc=1.0000]\n"
     ]
    },
    {
     "name": "stdout",
     "output_type": "stream",
     "text": [
      "train Loss: 0.3425 Acc: 0.9657\n"
     ]
    },
    {
     "name": "stderr",
     "output_type": "stream",
     "text": [
      "Val Epoch 22: 100%|██████████| 32/32 [00:06<00:00,  4.80it/s, Loss=0.2715, Acc=0.9643]\n"
     ]
    },
    {
     "name": "stdout",
     "output_type": "stream",
     "text": [
      "val Loss: 0.4626 Acc: 0.9176\n",
      "New best model saved with val_acc: 0.9176\n",
      "\n",
      "Epoch 23/49\n",
      "----------\n"
     ]
    },
    {
     "name": "stderr",
     "output_type": "stream",
     "text": [
      "Train Epoch 23: 100%|██████████| 32/32 [00:05<00:00,  6.36it/s, Loss=0.3033, Acc=0.9286]\n"
     ]
    },
    {
     "name": "stdout",
     "output_type": "stream",
     "text": [
      "train Loss: 0.3083 Acc: 0.9637\n"
     ]
    },
    {
     "name": "stderr",
     "output_type": "stream",
     "text": [
      "Val Epoch 23: 100%|██████████| 32/32 [00:06<00:00,  4.84it/s, Loss=0.2662, Acc=0.9643]\n"
     ]
    },
    {
     "name": "stdout",
     "output_type": "stream",
     "text": [
      "val Loss: 0.4585 Acc: 0.9196\n",
      "New best model saved with val_acc: 0.9196\n",
      "\n",
      "Epoch 24/49\n",
      "----------\n"
     ]
    },
    {
     "name": "stderr",
     "output_type": "stream",
     "text": [
      "Train Epoch 24: 100%|██████████| 32/32 [00:05<00:00,  6.22it/s, Loss=0.3752, Acc=1.0000]\n"
     ]
    },
    {
     "name": "stdout",
     "output_type": "stream",
     "text": [
      "train Loss: 0.3024 Acc: 0.9696\n"
     ]
    },
    {
     "name": "stderr",
     "output_type": "stream",
     "text": [
      "Val Epoch 24: 100%|██████████| 32/32 [00:06<00:00,  4.81it/s, Loss=0.1932, Acc=1.0000]\n"
     ]
    },
    {
     "name": "stdout",
     "output_type": "stream",
     "text": [
      "val Loss: 0.4517 Acc: 0.9206\n",
      "New best model saved with val_acc: 0.9206\n",
      "\n",
      "Epoch 25/49\n",
      "----------\n"
     ]
    },
    {
     "name": "stderr",
     "output_type": "stream",
     "text": [
      "Train Epoch 25: 100%|██████████| 32/32 [00:04<00:00,  6.57it/s, Loss=0.2288, Acc=0.9643]\n"
     ]
    },
    {
     "name": "stdout",
     "output_type": "stream",
     "text": [
      "train Loss: 0.3034 Acc: 0.9657\n"
     ]
    },
    {
     "name": "stderr",
     "output_type": "stream",
     "text": [
      "Val Epoch 25: 100%|██████████| 32/32 [00:06<00:00,  5.10it/s, Loss=0.2040, Acc=1.0000]\n"
     ]
    },
    {
     "name": "stdout",
     "output_type": "stream",
     "text": [
      "val Loss: 0.4319 Acc: 0.9176\n",
      "\n",
      "Epoch 26/49\n",
      "----------\n"
     ]
    },
    {
     "name": "stderr",
     "output_type": "stream",
     "text": [
      "Train Epoch 26: 100%|██████████| 32/32 [00:05<00:00,  6.27it/s, Loss=0.1524, Acc=0.9643]\n"
     ]
    },
    {
     "name": "stdout",
     "output_type": "stream",
     "text": [
      "train Loss: 0.2874 Acc: 0.9598\n"
     ]
    },
    {
     "name": "stderr",
     "output_type": "stream",
     "text": [
      "Val Epoch 26: 100%|██████████| 32/32 [00:05<00:00,  5.62it/s, Loss=0.2403, Acc=0.9643]\n"
     ]
    },
    {
     "name": "stdout",
     "output_type": "stream",
     "text": [
      "val Loss: 0.4241 Acc: 0.9225\n",
      "New best model saved with val_acc: 0.9225\n",
      "\n",
      "Epoch 27/49\n",
      "----------\n"
     ]
    },
    {
     "name": "stderr",
     "output_type": "stream",
     "text": [
      "Train Epoch 27: 100%|██████████| 32/32 [00:05<00:00,  5.43it/s, Loss=0.2891, Acc=0.9643]\n"
     ]
    },
    {
     "name": "stdout",
     "output_type": "stream",
     "text": [
      "train Loss: 0.3086 Acc: 0.9529\n"
     ]
    },
    {
     "name": "stderr",
     "output_type": "stream",
     "text": [
      "Val Epoch 27: 100%|██████████| 32/32 [00:05<00:00,  5.68it/s, Loss=0.2276, Acc=0.9643]\n"
     ]
    },
    {
     "name": "stdout",
     "output_type": "stream",
     "text": [
      "val Loss: 0.4135 Acc: 0.9206\n",
      "\n",
      "Epoch 28/49\n",
      "----------\n"
     ]
    },
    {
     "name": "stderr",
     "output_type": "stream",
     "text": [
      "Train Epoch 28: 100%|██████████| 32/32 [00:06<00:00,  5.06it/s, Loss=0.1727, Acc=1.0000]\n"
     ]
    },
    {
     "name": "stdout",
     "output_type": "stream",
     "text": [
      "train Loss: 0.2658 Acc: 0.9667\n"
     ]
    },
    {
     "name": "stderr",
     "output_type": "stream",
     "text": [
      "Val Epoch 28: 100%|██████████| 32/32 [00:05<00:00,  5.72it/s, Loss=0.1827, Acc=1.0000]\n"
     ]
    },
    {
     "name": "stdout",
     "output_type": "stream",
     "text": [
      "val Loss: 0.4166 Acc: 0.9216\n",
      "\n",
      "Epoch 29/49\n",
      "----------\n"
     ]
    },
    {
     "name": "stderr",
     "output_type": "stream",
     "text": [
      "Train Epoch 29: 100%|██████████| 32/32 [00:06<00:00,  5.12it/s, Loss=0.1257, Acc=1.0000]\n"
     ]
    },
    {
     "name": "stdout",
     "output_type": "stream",
     "text": [
      "train Loss: 0.2332 Acc: 0.9696\n"
     ]
    },
    {
     "name": "stderr",
     "output_type": "stream",
     "text": [
      "Val Epoch 29: 100%|██████████| 32/32 [00:05<00:00,  5.78it/s, Loss=0.1793, Acc=1.0000]\n"
     ]
    },
    {
     "name": "stdout",
     "output_type": "stream",
     "text": [
      "val Loss: 0.4060 Acc: 0.9265\n",
      "New best model saved with val_acc: 0.9265\n",
      "\n",
      "Epoch 30/49\n",
      "----------\n"
     ]
    },
    {
     "name": "stderr",
     "output_type": "stream",
     "text": [
      "Train Epoch 30: 100%|██████████| 32/32 [00:06<00:00,  5.18it/s, Loss=0.2406, Acc=0.9643]\n"
     ]
    },
    {
     "name": "stdout",
     "output_type": "stream",
     "text": [
      "train Loss: 0.2536 Acc: 0.9696\n"
     ]
    },
    {
     "name": "stderr",
     "output_type": "stream",
     "text": [
      "Val Epoch 30: 100%|██████████| 32/32 [00:05<00:00,  5.71it/s, Loss=0.1965, Acc=1.0000]\n"
     ]
    },
    {
     "name": "stdout",
     "output_type": "stream",
     "text": [
      "val Loss: 0.4048 Acc: 0.9275\n",
      "New best model saved with val_acc: 0.9275\n",
      "\n",
      "Epoch 31/49\n",
      "----------\n"
     ]
    },
    {
     "name": "stderr",
     "output_type": "stream",
     "text": [
      "Train Epoch 31: 100%|██████████| 32/32 [00:05<00:00,  5.81it/s, Loss=0.2212, Acc=0.9643]\n"
     ]
    },
    {
     "name": "stdout",
     "output_type": "stream",
     "text": [
      "train Loss: 0.2327 Acc: 0.9755\n"
     ]
    },
    {
     "name": "stderr",
     "output_type": "stream",
     "text": [
      "Val Epoch 31: 100%|██████████| 32/32 [00:05<00:00,  5.35it/s, Loss=0.2025, Acc=1.0000]\n"
     ]
    },
    {
     "name": "stdout",
     "output_type": "stream",
     "text": [
      "val Loss: 0.3979 Acc: 0.9294\n",
      "New best model saved with val_acc: 0.9294\n",
      "\n",
      "Epoch 32/49\n",
      "----------\n"
     ]
    },
    {
     "name": "stderr",
     "output_type": "stream",
     "text": [
      "Train Epoch 32: 100%|██████████| 32/32 [00:05<00:00,  6.08it/s, Loss=0.3662, Acc=0.8929]\n"
     ]
    },
    {
     "name": "stdout",
     "output_type": "stream",
     "text": [
      "train Loss: 0.2236 Acc: 0.9735\n"
     ]
    },
    {
     "name": "stderr",
     "output_type": "stream",
     "text": [
      "Val Epoch 32: 100%|██████████| 32/32 [00:06<00:00,  5.01it/s, Loss=0.1980, Acc=1.0000]\n"
     ]
    },
    {
     "name": "stdout",
     "output_type": "stream",
     "text": [
      "val Loss: 0.3983 Acc: 0.9294\n",
      "\n",
      "Epoch 33/49\n",
      "----------\n"
     ]
    },
    {
     "name": "stderr",
     "output_type": "stream",
     "text": [
      "Train Epoch 33: 100%|██████████| 32/32 [00:05<00:00,  6.19it/s, Loss=0.3659, Acc=0.9643]\n"
     ]
    },
    {
     "name": "stdout",
     "output_type": "stream",
     "text": [
      "train Loss: 0.2367 Acc: 0.9735\n"
     ]
    },
    {
     "name": "stderr",
     "output_type": "stream",
     "text": [
      "Val Epoch 33: 100%|██████████| 32/32 [00:06<00:00,  4.77it/s, Loss=0.1953, Acc=1.0000]\n"
     ]
    },
    {
     "name": "stdout",
     "output_type": "stream",
     "text": [
      "val Loss: 0.4009 Acc: 0.9314\n",
      "New best model saved with val_acc: 0.9314\n",
      "\n",
      "Epoch 34/49\n",
      "----------\n"
     ]
    },
    {
     "name": "stderr",
     "output_type": "stream",
     "text": [
      "Train Epoch 34: 100%|██████████| 32/32 [00:05<00:00,  5.97it/s, Loss=0.4175, Acc=0.8929]\n"
     ]
    },
    {
     "name": "stdout",
     "output_type": "stream",
     "text": [
      "train Loss: 0.2263 Acc: 0.9755\n"
     ]
    },
    {
     "name": "stderr",
     "output_type": "stream",
     "text": [
      "Val Epoch 34: 100%|██████████| 32/32 [00:06<00:00,  4.70it/s, Loss=0.2100, Acc=1.0000]\n"
     ]
    },
    {
     "name": "stdout",
     "output_type": "stream",
     "text": [
      "val Loss: 0.3932 Acc: 0.9304\n",
      "\n",
      "Epoch 35/49\n",
      "----------\n"
     ]
    },
    {
     "name": "stderr",
     "output_type": "stream",
     "text": [
      "Train Epoch 35: 100%|██████████| 32/32 [00:05<00:00,  6.22it/s, Loss=0.1859, Acc=0.9643]\n"
     ]
    },
    {
     "name": "stdout",
     "output_type": "stream",
     "text": [
      "train Loss: 0.2238 Acc: 0.9696\n"
     ]
    },
    {
     "name": "stderr",
     "output_type": "stream",
     "text": [
      "Val Epoch 35: 100%|██████████| 32/32 [00:06<00:00,  4.85it/s, Loss=0.1918, Acc=1.0000]\n"
     ]
    },
    {
     "name": "stdout",
     "output_type": "stream",
     "text": [
      "val Loss: 0.3992 Acc: 0.9255\n",
      "\n",
      "Epoch 36/49\n",
      "----------\n"
     ]
    },
    {
     "name": "stderr",
     "output_type": "stream",
     "text": [
      "Train Epoch 36: 100%|██████████| 32/32 [00:05<00:00,  6.16it/s, Loss=0.2449, Acc=0.9643]\n"
     ]
    },
    {
     "name": "stdout",
     "output_type": "stream",
     "text": [
      "train Loss: 0.2051 Acc: 0.9755\n"
     ]
    },
    {
     "name": "stderr",
     "output_type": "stream",
     "text": [
      "Val Epoch 36: 100%|██████████| 32/32 [00:06<00:00,  4.81it/s, Loss=0.2074, Acc=1.0000]\n"
     ]
    },
    {
     "name": "stdout",
     "output_type": "stream",
     "text": [
      "val Loss: 0.3900 Acc: 0.9284\n",
      "\n",
      "Epoch 37/49\n",
      "----------\n"
     ]
    },
    {
     "name": "stderr",
     "output_type": "stream",
     "text": [
      "Train Epoch 37: 100%|██████████| 32/32 [00:05<00:00,  6.04it/s, Loss=0.2626, Acc=0.9643]\n"
     ]
    },
    {
     "name": "stdout",
     "output_type": "stream",
     "text": [
      "train Loss: 0.2534 Acc: 0.9598\n"
     ]
    },
    {
     "name": "stderr",
     "output_type": "stream",
     "text": [
      "Val Epoch 37: 100%|██████████| 32/32 [00:06<00:00,  4.98it/s, Loss=0.2157, Acc=1.0000]\n"
     ]
    },
    {
     "name": "stdout",
     "output_type": "stream",
     "text": [
      "val Loss: 0.3931 Acc: 0.9304\n",
      "\n",
      "Epoch 38/49\n",
      "----------\n"
     ]
    },
    {
     "name": "stderr",
     "output_type": "stream",
     "text": [
      "Train Epoch 38: 100%|██████████| 32/32 [00:05<00:00,  6.03it/s, Loss=0.2207, Acc=0.9643]\n"
     ]
    },
    {
     "name": "stdout",
     "output_type": "stream",
     "text": [
      "train Loss: 0.2133 Acc: 0.9735\n"
     ]
    },
    {
     "name": "stderr",
     "output_type": "stream",
     "text": [
      "Val Epoch 38: 100%|██████████| 32/32 [00:05<00:00,  5.77it/s, Loss=0.1943, Acc=1.0000]\n"
     ]
    },
    {
     "name": "stdout",
     "output_type": "stream",
     "text": [
      "val Loss: 0.3916 Acc: 0.9294\n",
      "\n",
      "Epoch 39/49\n",
      "----------\n"
     ]
    },
    {
     "name": "stderr",
     "output_type": "stream",
     "text": [
      "Train Epoch 39: 100%|██████████| 32/32 [00:05<00:00,  5.38it/s, Loss=0.2477, Acc=0.9643]\n"
     ]
    },
    {
     "name": "stdout",
     "output_type": "stream",
     "text": [
      "train Loss: 0.1989 Acc: 0.9755\n"
     ]
    },
    {
     "name": "stderr",
     "output_type": "stream",
     "text": [
      "Val Epoch 39: 100%|██████████| 32/32 [00:05<00:00,  5.67it/s, Loss=0.2238, Acc=1.0000]\n"
     ]
    },
    {
     "name": "stdout",
     "output_type": "stream",
     "text": [
      "val Loss: 0.3931 Acc: 0.9324\n",
      "New best model saved with val_acc: 0.9324\n",
      "\n",
      "Epoch 40/49\n",
      "----------\n"
     ]
    },
    {
     "name": "stderr",
     "output_type": "stream",
     "text": [
      "Train Epoch 40: 100%|██████████| 32/32 [00:06<00:00,  5.29it/s, Loss=0.2183, Acc=0.9643]\n"
     ]
    },
    {
     "name": "stdout",
     "output_type": "stream",
     "text": [
      "train Loss: 0.2144 Acc: 0.9765\n"
     ]
    },
    {
     "name": "stderr",
     "output_type": "stream",
     "text": [
      "Val Epoch 40: 100%|██████████| 32/32 [00:05<00:00,  5.78it/s, Loss=0.2042, Acc=1.0000]\n"
     ]
    },
    {
     "name": "stdout",
     "output_type": "stream",
     "text": [
      "val Loss: 0.3962 Acc: 0.9245\n",
      "\n",
      "Epoch 41/49\n",
      "----------\n"
     ]
    },
    {
     "name": "stderr",
     "output_type": "stream",
     "text": [
      "Train Epoch 41: 100%|██████████| 32/32 [00:06<00:00,  5.17it/s, Loss=0.1009, Acc=1.0000]\n"
     ]
    },
    {
     "name": "stdout",
     "output_type": "stream",
     "text": [
      "train Loss: 0.2289 Acc: 0.9725\n"
     ]
    },
    {
     "name": "stderr",
     "output_type": "stream",
     "text": [
      "Val Epoch 41: 100%|██████████| 32/32 [00:05<00:00,  5.68it/s, Loss=0.1903, Acc=1.0000]\n"
     ]
    },
    {
     "name": "stdout",
     "output_type": "stream",
     "text": [
      "val Loss: 0.3923 Acc: 0.9284\n",
      "\n",
      "Epoch 42/49\n",
      "----------\n"
     ]
    },
    {
     "name": "stderr",
     "output_type": "stream",
     "text": [
      "Train Epoch 42: 100%|██████████| 32/32 [00:05<00:00,  5.40it/s, Loss=0.1212, Acc=1.0000]\n"
     ]
    },
    {
     "name": "stdout",
     "output_type": "stream",
     "text": [
      "train Loss: 0.2223 Acc: 0.9735\n"
     ]
    },
    {
     "name": "stderr",
     "output_type": "stream",
     "text": [
      "Val Epoch 42: 100%|██████████| 32/32 [00:05<00:00,  5.60it/s, Loss=0.1807, Acc=1.0000]\n"
     ]
    },
    {
     "name": "stdout",
     "output_type": "stream",
     "text": [
      "val Loss: 0.3876 Acc: 0.9265\n",
      "\n",
      "Epoch 43/49\n",
      "----------\n"
     ]
    },
    {
     "name": "stderr",
     "output_type": "stream",
     "text": [
      "Train Epoch 43: 100%|██████████| 32/32 [00:05<00:00,  6.07it/s, Loss=0.2759, Acc=0.9643]\n"
     ]
    },
    {
     "name": "stdout",
     "output_type": "stream",
     "text": [
      "train Loss: 0.2363 Acc: 0.9696\n"
     ]
    },
    {
     "name": "stderr",
     "output_type": "stream",
     "text": [
      "Val Epoch 43: 100%|██████████| 32/32 [00:06<00:00,  5.08it/s, Loss=0.2204, Acc=0.9643]\n"
     ]
    },
    {
     "name": "stdout",
     "output_type": "stream",
     "text": [
      "val Loss: 0.3911 Acc: 0.9294\n",
      "\n",
      "Epoch 44/49\n",
      "----------\n"
     ]
    },
    {
     "name": "stderr",
     "output_type": "stream",
     "text": [
      "Train Epoch 44: 100%|██████████| 32/32 [00:05<00:00,  6.34it/s, Loss=0.1357, Acc=1.0000]\n"
     ]
    },
    {
     "name": "stdout",
     "output_type": "stream",
     "text": [
      "train Loss: 0.2337 Acc: 0.9637\n"
     ]
    },
    {
     "name": "stderr",
     "output_type": "stream",
     "text": [
      "Val Epoch 44: 100%|██████████| 32/32 [00:06<00:00,  4.80it/s, Loss=0.2156, Acc=1.0000]\n"
     ]
    },
    {
     "name": "stdout",
     "output_type": "stream",
     "text": [
      "val Loss: 0.3903 Acc: 0.9304\n",
      "\n",
      "Epoch 45/49\n",
      "----------\n"
     ]
    },
    {
     "name": "stderr",
     "output_type": "stream",
     "text": [
      "Train Epoch 45: 100%|██████████| 32/32 [00:05<00:00,  5.99it/s, Loss=0.1317, Acc=1.0000]\n"
     ]
    },
    {
     "name": "stdout",
     "output_type": "stream",
     "text": [
      "train Loss: 0.1973 Acc: 0.9745\n"
     ]
    },
    {
     "name": "stderr",
     "output_type": "stream",
     "text": [
      "Val Epoch 45: 100%|██████████| 32/32 [00:06<00:00,  4.77it/s, Loss=0.2054, Acc=1.0000]\n"
     ]
    },
    {
     "name": "stdout",
     "output_type": "stream",
     "text": [
      "val Loss: 0.3931 Acc: 0.9245\n",
      "\n",
      "Epoch 46/49\n",
      "----------\n"
     ]
    },
    {
     "name": "stderr",
     "output_type": "stream",
     "text": [
      "Train Epoch 46: 100%|██████████| 32/32 [00:05<00:00,  6.28it/s, Loss=0.2843, Acc=0.9643]\n"
     ]
    },
    {
     "name": "stdout",
     "output_type": "stream",
     "text": [
      "train Loss: 0.2261 Acc: 0.9686\n"
     ]
    },
    {
     "name": "stderr",
     "output_type": "stream",
     "text": [
      "Val Epoch 46: 100%|██████████| 32/32 [00:06<00:00,  4.79it/s, Loss=0.2165, Acc=0.9643]\n"
     ]
    },
    {
     "name": "stdout",
     "output_type": "stream",
     "text": [
      "val Loss: 0.3892 Acc: 0.9284\n",
      "\n",
      "Epoch 47/49\n",
      "----------\n"
     ]
    },
    {
     "name": "stderr",
     "output_type": "stream",
     "text": [
      "Train Epoch 47: 100%|██████████| 32/32 [00:05<00:00,  6.25it/s, Loss=0.1072, Acc=1.0000]\n"
     ]
    },
    {
     "name": "stdout",
     "output_type": "stream",
     "text": [
      "train Loss: 0.1901 Acc: 0.9775\n"
     ]
    },
    {
     "name": "stderr",
     "output_type": "stream",
     "text": [
      "Val Epoch 47: 100%|██████████| 32/32 [00:06<00:00,  4.75it/s, Loss=0.2177, Acc=0.9643]\n"
     ]
    },
    {
     "name": "stdout",
     "output_type": "stream",
     "text": [
      "val Loss: 0.3866 Acc: 0.9304\n",
      "\n",
      "Epoch 48/49\n",
      "----------\n"
     ]
    },
    {
     "name": "stderr",
     "output_type": "stream",
     "text": [
      "Train Epoch 48: 100%|██████████| 32/32 [00:05<00:00,  6.29it/s, Loss=0.1368, Acc=1.0000]\n"
     ]
    },
    {
     "name": "stdout",
     "output_type": "stream",
     "text": [
      "train Loss: 0.2221 Acc: 0.9676\n"
     ]
    },
    {
     "name": "stderr",
     "output_type": "stream",
     "text": [
      "Val Epoch 48: 100%|██████████| 32/32 [00:05<00:00,  5.45it/s, Loss=0.2105, Acc=0.9643]\n"
     ]
    },
    {
     "name": "stdout",
     "output_type": "stream",
     "text": [
      "val Loss: 0.3918 Acc: 0.9284\n",
      "\n",
      "Epoch 49/49\n",
      "----------\n"
     ]
    },
    {
     "name": "stderr",
     "output_type": "stream",
     "text": [
      "Train Epoch 49: 100%|██████████| 32/32 [00:05<00:00,  5.55it/s, Loss=0.0963, Acc=1.0000]\n"
     ]
    },
    {
     "name": "stdout",
     "output_type": "stream",
     "text": [
      "train Loss: 0.2139 Acc: 0.9716\n"
     ]
    },
    {
     "name": "stderr",
     "output_type": "stream",
     "text": [
      "Val Epoch 49: 100%|██████████| 32/32 [00:05<00:00,  5.78it/s, Loss=0.2059, Acc=1.0000]\n"
     ]
    },
    {
     "name": "stdout",
     "output_type": "stream",
     "text": [
      "val Loss: 0.3867 Acc: 0.9304\n",
      "\n",
      "Training complete in 9m 42s\n",
      "Best val Acc: 0.932353\n"
     ]
    },
    {
     "data": {
      "image/png": "[encoded data removed]",
      "text/plain": [
       "<Figure size 1500x500 with 2 Axes>"
      ]
     },
     "metadata": {},
     "output_type": "display_data"
    },
    {
     "name": "stdout",
     "output_type": "stream",
     "text": [
      "Evaluating on test set...\n"
     ]
    },
    {
     "name": "stderr",
     "output_type": "stream",
     "text": [
      "100%|██████████| 193/193 [00:34<00:00,  5.63it/s]\n"
     ]
    },
    {
     "name": "stdout",
     "output_type": "stream",
     "text": [
      "Test Loss: 0.4764\n",
      "Test Accuracy: 0.9013\n",
      "ResNet34 Frozen - Test Accuracy: 0.9013\n"
     ]
    }
   ],
   "source": [
    "\n",
    "# Create ResNet-34 model with frozen stages\n",
    "model_resnet34 = FlowerResNetFrozen(base_model='resnet34', num_frozen_stages=3, num_classes=102)\n",
    "model_resnet34 = model_resnet34.to(device)\n",
    "\n",
    "# Count parameters\n",
    "trainable_params_34 = sum(p.numel() for p in model_resnet34.parameters() if p.requires_grad)\n",
    "total_params_34 = sum(p.numel() for p in model_resnet34.parameters())\n",
    "print(f\"ResNet34 - Trainable parameters: {trainable_params_34}/{total_params_34} ({trainable_params_34/total_params_34*100:.2f}%)\")\n",
    "\n",
    "# Define loss function\n",
    "criterion = nn.CrossEntropyLoss()\n",
    "\n",
    "# Define number of epochs (if not already defined)\n",
    "num_epochs = 50\n",
    "\n",
    "# Define optimizer\n",
    "optimizer_34 = optim.SGD(\n",
    "    filter(lambda p: p.requires_grad, model_resnet34.parameters()),\n",
    "    lr=0.001, momentum=0.9\n",
    ")\n",
    "scheduler_34 = lr_scheduler.StepLR(optimizer_34, step_size=30, gamma=0.1)\n",
    "\n",
    "# Train model\n",
    "model_resnet34, train_losses_34, train_accs_34, val_losses_34, val_accs_34 = train_model(\n",
    "    model_resnet34, criterion, optimizer_34, scheduler_34, num_epochs, 'resnet34_frozen'\n",
    ")\n",
    "\n",
    "# Plot results\n",
    "plot_training_curves(train_losses_34, val_losses_34, train_accs_34, val_accs_34, 'ResNet34_Frozen')\n",
    "\n",
    "# Evaluate on test set\n",
    "test_loss_34, test_acc_34, all_preds_34, all_labels_34 = evaluate_model(model_resnet34, criterion)\n",
    "\n",
    "# Save training logs\n",
    "with open('resnet34_frozen.txt', 'w') as f:\n",
    "    f.write(\"Epoch,Train_Loss,Val_Loss,Train_Acc,Val_Acc\\n\")\n",
    "    for epoch in range(num_epochs):\n",
    "        f.write(f\"{epoch+1},{train_losses_34[epoch]:.4f},{val_losses_34[epoch]:.4f},{train_accs_34[epoch]:.4f},{val_accs_34[epoch]:.4f}\\n\")\n",
    "\n",
    "print(f\"ResNet34 Frozen - Test Accuracy: {test_acc_34:.4f}\")"
   ]
  },
  {
   "cell_type": "markdown",
   "id": "d55e39bd",
   "metadata": {
    "id": "d55e39bd"
   },
   "source": [
    "----\n",
    "## Improvement 1: MixUp Data Augmentation\n",
    "Implement MixUp augmentation to improve model robustness through linear interpolation of image pairs and their labels.\n"
   ]
  },
  {
   "cell_type": "markdown",
   "id": "7061673d",
   "metadata": {
    "id": "7061673d"
   },
   "source": [
    "MixUp augmentation applied during training\n",
    "- Samples mixing coefficient λ from Beta distribution\n",
    "- Creates random permutation of batch indices\n",
    "- Mixes images: `mixed_inputs = λ * inputs + (1-λ) * inputs[index]`\n",
    "- Mixes labels: `λ * loss(out, labels_a) + (1-λ) * loss(out, labels_b)`\n",
    "- Applied with 50% probability to regularize training"
   ]
  },
  {
   "cell_type": "code",
   "execution_count": 12,
   "id": "c1d12cf2",
   "metadata": {
    "executionInfo": {
     "elapsed": 22,
     "status": "ok",
     "timestamp": 1761838616043,
     "user": {
      "displayName": "Fact Frenzy NBA",
      "userId": "02617294725587601640"
     },
     "user_tz": -480
    },
    "id": "c1d12cf2"
   },
   "outputs": [],
   "source": [
    "def train_model_with_mixup(model, criterion, optimizer, scheduler, num_epochs=50, model_name='resnet_mixup', alpha=0.2):\n",
    "    \"\"\"\n",
    "    Train model with MixUp augmentation\n",
    "\n",
    "    Args:\n",
    "        alpha: Beta distribution parameter for sampling λ\n",
    "    \"\"\"\n",
    "    since = time.time()\n",
    "\n",
    "    # Create checkpoint directory\n",
    "    checkpoint_path = './model_checkpoints'\n",
    "    os.makedirs(checkpoint_path, exist_ok=True)\n",
    "    best_model_params_path = os.path.join(checkpoint_path, f'best_{model_name}_params.pt')\n",
    "\n",
    "    # Save initial model\n",
    "    torch.save(model.state_dict(), best_model_params_path)\n",
    "\n",
    "    # Track metrics\n",
    "    train_losses, train_accs = [], []\n",
    "    val_losses, val_accs = [], []\n",
    "    best_acc = 0.0\n",
    "\n",
    "    for epoch in range(num_epochs):\n",
    "        print(f'Epoch {epoch}/{num_epochs - 1}')\n",
    "        print('-' * 10)\n",
    "\n",
    "        # Each epoch has training and validation phases\n",
    "        for phase in ['train', 'val']:\n",
    "            if phase == 'train':\n",
    "                model.train()\n",
    "            else:\n",
    "                model.eval()\n",
    "\n",
    "            running_loss = 0.0\n",
    "            running_corrects = 0\n",
    "\n",
    "            # Iterate over data with progress bar\n",
    "            pbar = tqdm(dataloaders[phase], desc=f'{phase.capitalize()} Epoch {epoch}')\n",
    "            for inputs, labels in pbar:\n",
    "                inputs = inputs.to(device)\n",
    "                labels = labels.to(device)\n",
    "\n",
    "                # Zero gradients\n",
    "                optimizer.zero_grad()\n",
    "\n",
    "                # Forward pass\n",
    "                with torch.set_grad_enabled(phase == 'train'):\n",
    "                    # ===== MIXUP AUGMENTATION (lines 51-70) =====\n",
    "                    if phase == 'train' and np.random.rand() > 0.5:  # Apply MixUp with 50% probability\n",
    "                        # Sample mixing coefficient λ from Beta(α, α)\n",
    "                        lam = np.random.beta(alpha, alpha)\n",
    "                        lam = max(lam, 1 - lam)  # Make λ >= 0.5 for stability\n",
    "\n",
    "                        # Create random permutation of indices\n",
    "                        batch_size = inputs.size(0)\n",
    "                        index = torch.randperm(batch_size).to(device)\n",
    "\n",
    "                        # Mix inputs and labels\n",
    "                        mixed_inputs = lam * inputs + (1 - lam) * inputs[index, :]\n",
    "                        labels_a = labels\n",
    "                        labels_b = labels[index]\n",
    "\n",
    "                        # Forward pass with mixed inputs\n",
    "                        outputs = model(mixed_inputs)\n",
    "                        _, preds = torch.max(outputs, 1)\n",
    "\n",
    "                        # Compute MixUp loss: λ*loss(out, y_a) + (1-λ)*loss(out, y_b)\n",
    "                        loss = lam * criterion(outputs, labels_a) + (1 - lam) * criterion(outputs, labels_b)\n",
    "                    else:\n",
    "                        # Standard forward pass (no MixUp)\n",
    "                        outputs = model(inputs)\n",
    "                        _, preds = torch.max(outputs, 1)\n",
    "                        loss = criterion(outputs, labels)\n",
    "                    # ===== END MIXUP AUGMENTATION =====\n",
    "\n",
    "                    # Backward + optimize only in training phase\n",
    "                    if phase == 'train':\n",
    "                        loss.backward()\n",
    "                        optimizer.step()\n",
    "\n",
    "                # Statistics\n",
    "                running_loss += loss.item() * inputs.size(0)\n",
    "                running_corrects += torch.sum(preds == labels.data)\n",
    "\n",
    "                # Update progress bar\n",
    "                pbar.set_postfix({\n",
    "                    'Loss': f'{loss.item():.4f}',\n",
    "                    'Acc': f'{torch.sum(preds == labels.data).item() / inputs.size(0):.4f}'\n",
    "                })\n",
    "\n",
    "            if phase == 'train' and scheduler is not None:\n",
    "                scheduler.step()\n",
    "\n",
    "            # Calculate epoch metrics\n",
    "            epoch_loss = running_loss / dataset_sizes[phase]\n",
    "            epoch_acc = running_corrects.double() / dataset_sizes[phase]\n",
    "\n",
    "            print(f'{phase} Loss: {epoch_loss:.4f} Acc: {epoch_acc:.4f}')\n",
    "\n",
    "            # Store metrics\n",
    "            if phase == 'train':\n",
    "                train_losses.append(epoch_loss)\n",
    "                train_accs.append(epoch_acc.cpu())\n",
    "            else:\n",
    "                val_losses.append(epoch_loss)\n",
    "                val_accs.append(epoch_acc.cpu())\n",
    "\n",
    "            # Save best model\n",
    "            if phase == 'val' and epoch_acc > best_acc:\n",
    "                best_acc = epoch_acc\n",
    "                torch.save(model.state_dict(), best_model_params_path)\n",
    "                print(f'New best model saved with val_acc: {best_acc:.4f}')\n",
    "\n",
    "        print()\n",
    "\n",
    "    time_elapsed = time.time() - since\n",
    "    print(f'Training complete in {time_elapsed // 60:.0f}m {time_elapsed % 60:.0f}s')\n",
    "    print(f'Best val Acc: {best_acc:4f}')\n",
    "\n",
    "    # Load best model weights\n",
    "    model.load_state_dict(torch.load(best_model_params_path))\n",
    "\n",
    "    return model, train_losses, train_accs, val_losses, val_accs\n"
   ]
  },
  {
   "cell_type": "code",
   "execution_count": 23,
   "id": "c0e4a8e8",
   "metadata": {
    "colab": {
     "base_uri": "https://localhost:8080/",
     "height": 1000
    },
    "executionInfo": {
     "elapsed": 628406,
     "status": "ok",
     "timestamp": 1761842885684,
     "user": {
      "displayName": "Fact Frenzy NBA",
      "userId": "02617294725587601640"
     },
     "user_tz": -480
    },
    "id": "c0e4a8e8",
    "outputId": "1233ad56-e3de-46cd-b1fb-abd4ec41341e"
   },
   "outputs": [
    {
     "name": "stdout",
     "output_type": "stream",
     "text": [
      "\n",
      "======================================================================\n",
      "TRAINING RESNET-34 WITH MIXUP AUGMENTATION\n",
      "======================================================================\n",
      "Epoch 0/49\n",
      "----------\n"
     ]
    },
    {
     "name": "stderr",
     "output_type": "stream",
     "text": [
      "Train Epoch 0: 100%|██████████| 32/32 [00:05<00:00,  6.33it/s, Loss=4.3666, Acc=0.2687]\n"
     ]
    },
    {
     "name": "stdout",
     "output_type": "stream",
     "text": [
      "train Loss: 4.6902 Acc: 0.2687\n"
     ]
    },
    {
     "name": "stderr",
     "output_type": "stream",
     "text": [
      "Val Epoch 0: 100%|██████████| 32/32 [00:05<00:00,  5.38it/s, Loss=3.9545, Acc=0.0784]\n"
     ]
    },
    {
     "name": "stdout",
     "output_type": "stream",
     "text": [
      "val Loss: 4.3189 Acc: 0.0784\n",
      "New best model saved with val_acc: 0.0784\n",
      "\n",
      "Epoch 1/49\n",
      "----------\n"
     ]
    },
    {
     "name": "stderr",
     "output_type": "stream",
     "text": [
      "Train Epoch 1: 100%|██████████| 32/32 [00:05<00:00,  5.80it/s, Loss=4.0196, Acc=1.3330]\n"
     ]
    },
    {
     "name": "stdout",
     "output_type": "stream",
     "text": [
      "train Loss: 4.1635 Acc: 1.3330\n"
     ]
    },
    {
     "name": "stderr",
     "output_type": "stream",
     "text": [
      "Val Epoch 1: 100%|██████████| 32/32 [00:05<00:00,  5.77it/s, Loss=3.0318, Acc=0.3147]\n"
     ]
    },
    {
     "name": "stdout",
     "output_type": "stream",
     "text": [
      "val Loss: 3.7393 Acc: 0.3147\n",
      "New best model saved with val_acc: 0.3147\n",
      "\n",
      "Epoch 2/49\n",
      "----------\n"
     ]
    },
    {
     "name": "stderr",
     "output_type": "stream",
     "text": [
      "Train Epoch 2: 100%|██████████| 32/32 [00:06<00:00,  5.16it/s, Loss=4.1508, Acc=5.2364]\n"
     ]
    },
    {
     "name": "stdout",
     "output_type": "stream",
     "text": [
      "train Loss: 3.6452 Acc: 5.2364\n"
     ]
    },
    {
     "name": "stderr",
     "output_type": "stream",
     "text": [
      "Val Epoch 2: 100%|██████████| 32/32 [00:05<00:00,  5.79it/s, Loss=2.2521, Acc=0.4863]\n"
     ]
    },
    {
     "name": "stdout",
     "output_type": "stream",
     "text": [
      "val Loss: 3.1373 Acc: 0.4863\n",
      "New best model saved with val_acc: 0.4863\n",
      "\n",
      "Epoch 3/49\n",
      "----------\n"
     ]
    },
    {
     "name": "stderr",
     "output_type": "stream",
     "text": [
      "Train Epoch 3: 100%|██████████| 32/32 [00:06<00:00,  5.10it/s, Loss=2.6416, Acc=7.0255]\n"
     ]
    },
    {
     "name": "stdout",
     "output_type": "stream",
     "text": [
      "train Loss: 3.2014 Acc: 7.0255\n"
     ]
    },
    {
     "name": "stderr",
     "output_type": "stream",
     "text": [
      "Val Epoch 3: 100%|██████████| 32/32 [00:05<00:00,  5.81it/s, Loss=1.6283, Acc=0.6039]\n"
     ]
    },
    {
     "name": "stdout",
     "output_type": "stream",
     "text": [
      "val Loss: 2.6378 Acc: 0.6039\n",
      "New best model saved with val_acc: 0.6039\n",
      "\n",
      "Epoch 4/49\n",
      "----------\n"
     ]
    },
    {
     "name": "stderr",
     "output_type": "stream",
     "text": [
      "Train Epoch 4: 100%|██████████| 32/32 [00:06<00:00,  5.19it/s, Loss=2.6771, Acc=10.3006]\n"
     ]
    },
    {
     "name": "stdout",
     "output_type": "stream",
     "text": [
      "train Loss: 2.7961 Acc: 10.3006\n"
     ]
    },
    {
     "name": "stderr",
     "output_type": "stream",
     "text": [
      "Val Epoch 4: 100%|██████████| 32/32 [00:05<00:00,  5.74it/s, Loss=1.4401, Acc=0.6882]\n"
     ]
    },
    {
     "name": "stdout",
     "output_type": "stream",
     "text": [
      "val Loss: 2.2475 Acc: 0.6882\n",
      "New best model saved with val_acc: 0.6882\n",
      "\n",
      "Epoch 5/49\n",
      "----------\n"
     ]
    },
    {
     "name": "stderr",
     "output_type": "stream",
     "text": [
      "Train Epoch 5: 100%|██████████| 32/32 [00:05<00:00,  5.37it/s, Loss=2.0542, Acc=10.1977]\n"
     ]
    },
    {
     "name": "stdout",
     "output_type": "stream",
     "text": [
      "train Loss: 2.3424 Acc: 10.1977\n"
     ]
    },
    {
     "name": "stderr",
     "output_type": "stream",
     "text": [
      "Val Epoch 5: 100%|██████████| 32/32 [00:05<00:00,  5.72it/s, Loss=1.1921, Acc=0.7422]\n"
     ]
    },
    {
     "name": "stdout",
     "output_type": "stream",
     "text": [
      "val Loss: 1.8799 Acc: 0.7422\n",
      "New best model saved with val_acc: 0.7422\n",
      "\n",
      "Epoch 6/49\n",
      "----------\n"
     ]
    },
    {
     "name": "stderr",
     "output_type": "stream",
     "text": [
      "Train Epoch 6: 100%|██████████| 32/32 [00:05<00:00,  6.25it/s, Loss=1.9821, Acc=9.7245]\n"
     ]
    },
    {
     "name": "stdout",
     "output_type": "stream",
     "text": [
      "train Loss: 2.1680 Acc: 9.7245\n"
     ]
    },
    {
     "name": "stderr",
     "output_type": "stream",
     "text": [
      "Val Epoch 6: 100%|██████████| 32/32 [00:06<00:00,  5.13it/s, Loss=0.9235, Acc=0.7863]\n"
     ]
    },
    {
     "name": "stdout",
     "output_type": "stream",
     "text": [
      "val Loss: 1.6148 Acc: 0.7863\n",
      "New best model saved with val_acc: 0.7863\n",
      "\n",
      "Epoch 7/49\n",
      "----------\n"
     ]
    },
    {
     "name": "stderr",
     "output_type": "stream",
     "text": [
      "Train Epoch 7: 100%|██████████| 32/32 [00:05<00:00,  6.27it/s, Loss=1.8646, Acc=11.0008]\n"
     ]
    },
    {
     "name": "stdout",
     "output_type": "stream",
     "text": [
      "train Loss: 1.8954 Acc: 11.0008\n"
     ]
    },
    {
     "name": "stderr",
     "output_type": "stream",
     "text": [
      "Val Epoch 7: 100%|██████████| 32/32 [00:06<00:00,  4.77it/s, Loss=0.8172, Acc=0.8108]\n"
     ]
    },
    {
     "name": "stdout",
     "output_type": "stream",
     "text": [
      "val Loss: 1.4065 Acc: 0.8108\n",
      "New best model saved with val_acc: 0.8108\n",
      "\n",
      "Epoch 8/49\n",
      "----------\n"
     ]
    },
    {
     "name": "stderr",
     "output_type": "stream",
     "text": [
      "Train Epoch 8: 100%|██████████| 32/32 [00:05<00:00,  6.31it/s, Loss=1.4583, Acc=14.2886]\n"
     ]
    },
    {
     "name": "stdout",
     "output_type": "stream",
     "text": [
      "train Loss: 1.6053 Acc: 14.2886\n"
     ]
    },
    {
     "name": "stderr",
     "output_type": "stream",
     "text": [
      "Val Epoch 8: 100%|██████████| 32/32 [00:06<00:00,  4.88it/s, Loss=0.6535, Acc=0.8324]\n"
     ]
    },
    {
     "name": "stdout",
     "output_type": "stream",
     "text": [
      "val Loss: 1.2357 Acc: 0.8324\n",
      "New best model saved with val_acc: 0.8324\n",
      "\n",
      "Epoch 9/49\n",
      "----------\n"
     ]
    },
    {
     "name": "stderr",
     "output_type": "stream",
     "text": [
      "Train Epoch 9: 100%|██████████| 32/32 [00:05<00:00,  6.36it/s, Loss=1.5141, Acc=13.0176]\n"
     ]
    },
    {
     "name": "stdout",
     "output_type": "stream",
     "text": [
      "train Loss: 1.3832 Acc: 13.0176\n"
     ]
    },
    {
     "name": "stderr",
     "output_type": "stream",
     "text": [
      "Val Epoch 9: 100%|██████████| 32/32 [00:06<00:00,  4.84it/s, Loss=0.6814, Acc=0.8480]\n"
     ]
    },
    {
     "name": "stdout",
     "output_type": "stream",
     "text": [
      "val Loss: 1.0902 Acc: 0.8480\n",
      "New best model saved with val_acc: 0.8480\n",
      "\n",
      "Epoch 10/49\n",
      "----------\n"
     ]
    },
    {
     "name": "stderr",
     "output_type": "stream",
     "text": [
      "Train Epoch 10: 100%|██████████| 32/32 [00:05<00:00,  6.18it/s, Loss=0.9818, Acc=12.9790]\n"
     ]
    },
    {
     "name": "stdout",
     "output_type": "stream",
     "text": [
      "train Loss: 1.4000 Acc: 12.9790\n"
     ]
    },
    {
     "name": "stderr",
     "output_type": "stream",
     "text": [
      "Val Epoch 10: 100%|██████████| 32/32 [00:06<00:00,  4.86it/s, Loss=0.6571, Acc=0.8510]\n"
     ]
    },
    {
     "name": "stdout",
     "output_type": "stream",
     "text": [
      "val Loss: 0.9909 Acc: 0.8510\n",
      "New best model saved with val_acc: 0.8510\n",
      "\n",
      "Epoch 11/49\n",
      "----------\n"
     ]
    },
    {
     "name": "stderr",
     "output_type": "stream",
     "text": [
      "Train Epoch 11: 100%|██████████| 32/32 [00:04<00:00,  6.41it/s, Loss=0.8520, Acc=12.4569]\n"
     ]
    },
    {
     "name": "stdout",
     "output_type": "stream",
     "text": [
      "train Loss: 1.1179 Acc: 12.4569\n"
     ]
    },
    {
     "name": "stderr",
     "output_type": "stream",
     "text": [
      "Val Epoch 11: 100%|██████████| 32/32 [00:05<00:00,  5.36it/s, Loss=0.5548, Acc=0.8647]\n"
     ]
    },
    {
     "name": "stdout",
     "output_type": "stream",
     "text": [
      "val Loss: 0.8804 Acc: 0.8647\n",
      "New best model saved with val_acc: 0.8647\n",
      "\n",
      "Epoch 12/49\n",
      "----------\n"
     ]
    },
    {
     "name": "stderr",
     "output_type": "stream",
     "text": [
      "Train Epoch 12: 100%|██████████| 32/32 [00:05<00:00,  5.92it/s, Loss=1.0278, Acc=11.7050]\n"
     ]
    },
    {
     "name": "stdout",
     "output_type": "stream",
     "text": [
      "train Loss: 1.3489 Acc: 11.7050\n"
     ]
    },
    {
     "name": "stderr",
     "output_type": "stream",
     "text": [
      "Val Epoch 12: 100%|██████████| 32/32 [00:05<00:00,  5.73it/s, Loss=0.5489, Acc=0.8804]\n"
     ]
    },
    {
     "name": "stdout",
     "output_type": "stream",
     "text": [
      "val Loss: 0.8253 Acc: 0.8804\n",
      "New best model saved with val_acc: 0.8804\n",
      "\n",
      "Epoch 13/49\n",
      "----------\n"
     ]
    },
    {
     "name": "stderr",
     "output_type": "stream",
     "text": [
      "Train Epoch 13: 100%|██████████| 32/32 [00:06<00:00,  5.09it/s, Loss=0.5698, Acc=11.7036]\n"
     ]
    },
    {
     "name": "stdout",
     "output_type": "stream",
     "text": [
      "train Loss: 1.1571 Acc: 11.7036\n"
     ]
    },
    {
     "name": "stderr",
     "output_type": "stream",
     "text": [
      "Val Epoch 13: 100%|██████████| 32/32 [00:05<00:00,  5.76it/s, Loss=0.4852, Acc=0.8775]\n"
     ]
    },
    {
     "name": "stdout",
     "output_type": "stream",
     "text": [
      "val Loss: 0.7724 Acc: 0.8775\n",
      "\n",
      "Epoch 14/49\n",
      "----------\n"
     ]
    },
    {
     "name": "stderr",
     "output_type": "stream",
     "text": [
      "Train Epoch 14: 100%|██████████| 32/32 [00:06<00:00,  5.28it/s, Loss=0.8960, Acc=12.6541]\n"
     ]
    },
    {
     "name": "stdout",
     "output_type": "stream",
     "text": [
      "train Loss: 1.1066 Acc: 12.6541\n"
     ]
    },
    {
     "name": "stderr",
     "output_type": "stream",
     "text": [
      "Val Epoch 14: 100%|██████████| 32/32 [00:05<00:00,  5.83it/s, Loss=0.4064, Acc=0.8843]\n"
     ]
    },
    {
     "name": "stdout",
     "output_type": "stream",
     "text": [
      "val Loss: 0.7210 Acc: 0.8843\n",
      "New best model saved with val_acc: 0.8843\n",
      "\n",
      "Epoch 15/49\n",
      "----------\n"
     ]
    },
    {
     "name": "stderr",
     "output_type": "stream",
     "text": [
      "Train Epoch 15: 100%|██████████| 32/32 [00:06<00:00,  5.17it/s, Loss=2.8951, Acc=14.4811]\n"
     ]
    },
    {
     "name": "stdout",
     "output_type": "stream",
     "text": [
      "train Loss: 0.8557 Acc: 14.4811\n"
     ]
    },
    {
     "name": "stderr",
     "output_type": "stream",
     "text": [
      "Val Epoch 15: 100%|██████████| 32/32 [00:05<00:00,  5.60it/s, Loss=0.4213, Acc=0.8971]\n"
     ]
    },
    {
     "name": "stdout",
     "output_type": "stream",
     "text": [
      "val Loss: 0.6734 Acc: 0.8971\n",
      "New best model saved with val_acc: 0.8971\n",
      "\n",
      "Epoch 16/49\n",
      "----------\n"
     ]
    },
    {
     "name": "stderr",
     "output_type": "stream",
     "text": [
      "Train Epoch 16: 100%|██████████| 32/32 [00:05<00:00,  5.69it/s, Loss=0.7676, Acc=15.1724]\n"
     ]
    },
    {
     "name": "stdout",
     "output_type": "stream",
     "text": [
      "train Loss: 0.8384 Acc: 15.1724\n"
     ]
    },
    {
     "name": "stderr",
     "output_type": "stream",
     "text": [
      "Val Epoch 16: 100%|██████████| 32/32 [00:05<00:00,  5.63it/s, Loss=0.4101, Acc=0.8941]\n"
     ]
    },
    {
     "name": "stdout",
     "output_type": "stream",
     "text": [
      "val Loss: 0.6522 Acc: 0.8941\n",
      "\n",
      "Epoch 17/49\n",
      "----------\n"
     ]
    },
    {
     "name": "stderr",
     "output_type": "stream",
     "text": [
      "Train Epoch 17: 100%|██████████| 32/32 [00:05<00:00,  6.18it/s, Loss=2.6593, Acc=10.5188]\n"
     ]
    },
    {
     "name": "stdout",
     "output_type": "stream",
     "text": [
      "train Loss: 1.0267 Acc: 10.5188\n"
     ]
    },
    {
     "name": "stderr",
     "output_type": "stream",
     "text": [
      "Val Epoch 17: 100%|██████████| 32/32 [00:06<00:00,  4.97it/s, Loss=0.3977, Acc=0.9039]\n"
     ]
    },
    {
     "name": "stdout",
     "output_type": "stream",
     "text": [
      "val Loss: 0.6337 Acc: 0.9039\n",
      "New best model saved with val_acc: 0.9039\n",
      "\n",
      "Epoch 18/49\n",
      "----------\n"
     ]
    },
    {
     "name": "stderr",
     "output_type": "stream",
     "text": [
      "Train Epoch 18: 100%|██████████| 32/32 [00:05<00:00,  6.09it/s, Loss=0.8762, Acc=13.0276]\n"
     ]
    },
    {
     "name": "stdout",
     "output_type": "stream",
     "text": [
      "train Loss: 0.7587 Acc: 13.0276\n"
     ]
    },
    {
     "name": "stderr",
     "output_type": "stream",
     "text": [
      "Val Epoch 18: 100%|██████████| 32/32 [00:06<00:00,  4.82it/s, Loss=0.3662, Acc=0.9078]\n"
     ]
    },
    {
     "name": "stdout",
     "output_type": "stream",
     "text": [
      "val Loss: 0.5862 Acc: 0.9078\n",
      "New best model saved with val_acc: 0.9078\n",
      "\n",
      "Epoch 19/49\n",
      "----------\n"
     ]
    },
    {
     "name": "stderr",
     "output_type": "stream",
     "text": [
      "Train Epoch 19: 100%|██████████| 32/32 [00:05<00:00,  6.32it/s, Loss=0.3539, Acc=15.3919]\n"
     ]
    },
    {
     "name": "stdout",
     "output_type": "stream",
     "text": [
      "train Loss: 0.8277 Acc: 15.3919\n"
     ]
    },
    {
     "name": "stderr",
     "output_type": "stream",
     "text": [
      "Val Epoch 19: 100%|██████████| 32/32 [00:06<00:00,  4.83it/s, Loss=0.3327, Acc=0.9098]\n"
     ]
    },
    {
     "name": "stdout",
     "output_type": "stream",
     "text": [
      "val Loss: 0.5548 Acc: 0.9098\n",
      "New best model saved with val_acc: 0.9098\n",
      "\n",
      "Epoch 20/49\n",
      "----------\n"
     ]
    },
    {
     "name": "stderr",
     "output_type": "stream",
     "text": [
      "Train Epoch 20: 100%|██████████| 32/32 [00:05<00:00,  6.30it/s, Loss=0.8828, Acc=12.5450]\n"
     ]
    },
    {
     "name": "stdout",
     "output_type": "stream",
     "text": [
      "train Loss: 0.5409 Acc: 12.5450\n"
     ]
    },
    {
     "name": "stderr",
     "output_type": "stream",
     "text": [
      "Val Epoch 20: 100%|██████████| 32/32 [00:06<00:00,  4.72it/s, Loss=0.3074, Acc=0.9069]\n"
     ]
    },
    {
     "name": "stdout",
     "output_type": "stream",
     "text": [
      "val Loss: 0.5426 Acc: 0.9069\n",
      "\n",
      "Epoch 21/49\n",
      "----------\n"
     ]
    },
    {
     "name": "stderr",
     "output_type": "stream",
     "text": [
      "Train Epoch 21: 100%|██████████| 32/32 [00:05<00:00,  6.34it/s, Loss=0.4690, Acc=10.8381]\n"
     ]
    },
    {
     "name": "stdout",
     "output_type": "stream",
     "text": [
      "train Loss: 0.7452 Acc: 10.8381\n"
     ]
    },
    {
     "name": "stderr",
     "output_type": "stream",
     "text": [
      "Val Epoch 21: 100%|██████████| 32/32 [00:06<00:00,  4.76it/s, Loss=0.3031, Acc=0.9118]\n"
     ]
    },
    {
     "name": "stdout",
     "output_type": "stream",
     "text": [
      "val Loss: 0.5348 Acc: 0.9118\n",
      "New best model saved with val_acc: 0.9118\n",
      "\n",
      "Epoch 22/49\n",
      "----------\n"
     ]
    },
    {
     "name": "stderr",
     "output_type": "stream",
     "text": [
      "Train Epoch 22: 100%|██████████| 32/32 [00:05<00:00,  6.27it/s, Loss=0.2726, Acc=11.9341]\n"
     ]
    },
    {
     "name": "stdout",
     "output_type": "stream",
     "text": [
      "train Loss: 0.5648 Acc: 11.9341\n"
     ]
    },
    {
     "name": "stderr",
     "output_type": "stream",
     "text": [
      "Val Epoch 22: 100%|██████████| 32/32 [00:06<00:00,  5.14it/s, Loss=0.3118, Acc=0.9186]\n"
     ]
    },
    {
     "name": "stdout",
     "output_type": "stream",
     "text": [
      "val Loss: 0.4992 Acc: 0.9186\n",
      "New best model saved with val_acc: 0.9186\n",
      "\n",
      "Epoch 23/49\n",
      "----------\n"
     ]
    },
    {
     "name": "stderr",
     "output_type": "stream",
     "text": [
      "Train Epoch 23: 100%|██████████| 32/32 [00:05<00:00,  6.00it/s, Loss=2.9329, Acc=12.7734]\n"
     ]
    },
    {
     "name": "stdout",
     "output_type": "stream",
     "text": [
      "train Loss: 0.6854 Acc: 12.7734\n"
     ]
    },
    {
     "name": "stderr",
     "output_type": "stream",
     "text": [
      "Val Epoch 23: 100%|██████████| 32/32 [00:05<00:00,  5.61it/s, Loss=0.2850, Acc=0.9069]\n"
     ]
    },
    {
     "name": "stdout",
     "output_type": "stream",
     "text": [
      "val Loss: 0.5061 Acc: 0.9069\n",
      "\n",
      "Epoch 24/49\n",
      "----------\n"
     ]
    },
    {
     "name": "stderr",
     "output_type": "stream",
     "text": [
      "Train Epoch 24: 100%|██████████| 32/32 [00:05<00:00,  5.40it/s, Loss=0.4916, Acc=13.3607]\n"
     ]
    },
    {
     "name": "stdout",
     "output_type": "stream",
     "text": [
      "train Loss: 0.7703 Acc: 13.3607\n"
     ]
    },
    {
     "name": "stderr",
     "output_type": "stream",
     "text": [
      "Val Epoch 24: 100%|██████████| 32/32 [00:05<00:00,  5.88it/s, Loss=0.3220, Acc=0.9157]\n"
     ]
    },
    {
     "name": "stdout",
     "output_type": "stream",
     "text": [
      "val Loss: 0.4870 Acc: 0.9157\n",
      "\n",
      "Epoch 25/49\n",
      "----------\n"
     ]
    },
    {
     "name": "stderr",
     "output_type": "stream",
     "text": [
      "Train Epoch 25: 100%|██████████| 32/32 [00:06<00:00,  5.11it/s, Loss=0.3435, Acc=13.0211]\n"
     ]
    },
    {
     "name": "stdout",
     "output_type": "stream",
     "text": [
      "train Loss: 0.6683 Acc: 13.0211\n"
     ]
    },
    {
     "name": "stderr",
     "output_type": "stream",
     "text": [
      "Val Epoch 25: 100%|██████████| 32/32 [00:05<00:00,  5.80it/s, Loss=0.2565, Acc=0.9196]\n"
     ]
    },
    {
     "name": "stdout",
     "output_type": "stream",
     "text": [
      "val Loss: 0.4775 Acc: 0.9196\n",
      "New best model saved with val_acc: 0.9196\n",
      "\n",
      "Epoch 26/49\n",
      "----------\n"
     ]
    },
    {
     "name": "stderr",
     "output_type": "stream",
     "text": [
      "Train Epoch 26: 100%|██████████| 32/32 [00:06<00:00,  5.21it/s, Loss=1.1968, Acc=15.4708]\n"
     ]
    },
    {
     "name": "stdout",
     "output_type": "stream",
     "text": [
      "train Loss: 0.5774 Acc: 15.4708\n"
     ]
    },
    {
     "name": "stderr",
     "output_type": "stream",
     "text": [
      "Val Epoch 26: 100%|██████████| 32/32 [00:05<00:00,  5.74it/s, Loss=0.2564, Acc=0.9216]\n"
     ]
    },
    {
     "name": "stdout",
     "output_type": "stream",
     "text": [
      "val Loss: 0.4728 Acc: 0.9216\n",
      "New best model saved with val_acc: 0.9216\n",
      "\n",
      "Epoch 27/49\n",
      "----------\n"
     ]
    },
    {
     "name": "stderr",
     "output_type": "stream",
     "text": [
      "Train Epoch 27: 100%|██████████| 32/32 [00:06<00:00,  5.32it/s, Loss=0.2166, Acc=15.9311]\n"
     ]
    },
    {
     "name": "stdout",
     "output_type": "stream",
     "text": [
      "train Loss: 0.5736 Acc: 15.9311\n"
     ]
    },
    {
     "name": "stderr",
     "output_type": "stream",
     "text": [
      "Val Epoch 27: 100%|██████████| 32/32 [00:05<00:00,  5.74it/s, Loss=0.2628, Acc=0.9176]\n"
     ]
    },
    {
     "name": "stdout",
     "output_type": "stream",
     "text": [
      "val Loss: 0.4573 Acc: 0.9176\n",
      "\n",
      "Epoch 28/49\n",
      "----------\n"
     ]
    },
    {
     "name": "stderr",
     "output_type": "stream",
     "text": [
      "Train Epoch 28: 100%|██████████| 32/32 [00:05<00:00,  6.07it/s, Loss=0.2605, Acc=16.8561]\n"
     ]
    },
    {
     "name": "stdout",
     "output_type": "stream",
     "text": [
      "train Loss: 0.6540 Acc: 16.8561\n"
     ]
    },
    {
     "name": "stderr",
     "output_type": "stream",
     "text": [
      "Val Epoch 28: 100%|██████████| 32/32 [00:06<00:00,  5.26it/s, Loss=0.2697, Acc=0.9225]\n"
     ]
    },
    {
     "name": "stdout",
     "output_type": "stream",
     "text": [
      "val Loss: 0.4652 Acc: 0.9225\n",
      "New best model saved with val_acc: 0.9225\n",
      "\n",
      "Epoch 29/49\n",
      "----------\n"
     ]
    },
    {
     "name": "stderr",
     "output_type": "stream",
     "text": [
      "Train Epoch 29: 100%|██████████| 32/32 [00:05<00:00,  6.30it/s, Loss=0.3829, Acc=13.7027]\n"
     ]
    },
    {
     "name": "stdout",
     "output_type": "stream",
     "text": [
      "train Loss: 0.6987 Acc: 13.7027\n"
     ]
    },
    {
     "name": "stderr",
     "output_type": "stream",
     "text": [
      "Val Epoch 29: 100%|██████████| 32/32 [00:06<00:00,  4.85it/s, Loss=0.2831, Acc=0.9216]\n"
     ]
    },
    {
     "name": "stdout",
     "output_type": "stream",
     "text": [
      "val Loss: 0.4701 Acc: 0.9216\n",
      "\n",
      "Epoch 30/49\n",
      "----------\n"
     ]
    },
    {
     "name": "stderr",
     "output_type": "stream",
     "text": [
      "Train Epoch 30: 100%|██████████| 32/32 [00:05<00:00,  6.26it/s, Loss=1.1650, Acc=14.2064]\n"
     ]
    },
    {
     "name": "stdout",
     "output_type": "stream",
     "text": [
      "train Loss: 0.6060 Acc: 14.2064\n"
     ]
    },
    {
     "name": "stderr",
     "output_type": "stream",
     "text": [
      "Val Epoch 30: 100%|██████████| 32/32 [00:06<00:00,  4.85it/s, Loss=0.2435, Acc=0.9255]\n"
     ]
    },
    {
     "name": "stdout",
     "output_type": "stream",
     "text": [
      "val Loss: 0.4481 Acc: 0.9255\n",
      "New best model saved with val_acc: 0.9255\n",
      "\n",
      "Epoch 31/49\n",
      "----------\n"
     ]
    },
    {
     "name": "stderr",
     "output_type": "stream",
     "text": [
      "Train Epoch 31: 100%|██████████| 32/32 [00:05<00:00,  6.02it/s, Loss=0.6620, Acc=12.8224]\n"
     ]
    },
    {
     "name": "stdout",
     "output_type": "stream",
     "text": [
      "train Loss: 0.4920 Acc: 12.8224\n"
     ]
    },
    {
     "name": "stderr",
     "output_type": "stream",
     "text": [
      "Val Epoch 31: 100%|██████████| 32/32 [00:06<00:00,  4.85it/s, Loss=0.2448, Acc=0.9186]\n"
     ]
    },
    {
     "name": "stdout",
     "output_type": "stream",
     "text": [
      "val Loss: 0.4518 Acc: 0.9186\n",
      "\n",
      "Epoch 32/49\n",
      "----------\n"
     ]
    },
    {
     "name": "stderr",
     "output_type": "stream",
     "text": [
      "Train Epoch 32: 100%|██████████| 32/32 [00:05<00:00,  6.10it/s, Loss=0.1735, Acc=15.1489]\n"
     ]
    },
    {
     "name": "stdout",
     "output_type": "stream",
     "text": [
      "train Loss: 0.4665 Acc: 15.1489\n"
     ]
    },
    {
     "name": "stderr",
     "output_type": "stream",
     "text": [
      "Val Epoch 32: 100%|██████████| 32/32 [00:06<00:00,  4.87it/s, Loss=0.2631, Acc=0.9235]\n"
     ]
    },
    {
     "name": "stdout",
     "output_type": "stream",
     "text": [
      "val Loss: 0.4410 Acc: 0.9235\n",
      "\n",
      "Epoch 33/49\n",
      "----------\n"
     ]
    },
    {
     "name": "stderr",
     "output_type": "stream",
     "text": [
      "Train Epoch 33: 100%|██████████| 32/32 [00:05<00:00,  6.03it/s, Loss=0.2668, Acc=10.8547]\n"
     ]
    },
    {
     "name": "stdout",
     "output_type": "stream",
     "text": [
      "train Loss: 0.5237 Acc: 10.8547\n"
     ]
    },
    {
     "name": "stderr",
     "output_type": "stream",
     "text": [
      "Val Epoch 33: 100%|██████████| 32/32 [00:06<00:00,  4.81it/s, Loss=0.2804, Acc=0.9216]\n"
     ]
    },
    {
     "name": "stdout",
     "output_type": "stream",
     "text": [
      "val Loss: 0.4533 Acc: 0.9216\n",
      "\n",
      "Epoch 34/49\n",
      "----------\n"
     ]
    },
    {
     "name": "stderr",
     "output_type": "stream",
     "text": [
      "Train Epoch 34: 100%|██████████| 32/32 [00:05<00:00,  6.04it/s, Loss=0.7972, Acc=14.8070]\n"
     ]
    },
    {
     "name": "stdout",
     "output_type": "stream",
     "text": [
      "train Loss: 0.6406 Acc: 14.8070\n"
     ]
    },
    {
     "name": "stderr",
     "output_type": "stream",
     "text": [
      "Val Epoch 34: 100%|██████████| 32/32 [00:05<00:00,  5.52it/s, Loss=0.2609, Acc=0.9206]\n"
     ]
    },
    {
     "name": "stdout",
     "output_type": "stream",
     "text": [
      "val Loss: 0.4545 Acc: 0.9206\n",
      "\n",
      "Epoch 35/49\n",
      "----------\n"
     ]
    },
    {
     "name": "stderr",
     "output_type": "stream",
     "text": [
      "Train Epoch 35: 100%|██████████| 32/32 [00:06<00:00,  5.27it/s, Loss=0.6004, Acc=13.7129]\n"
     ]
    },
    {
     "name": "stdout",
     "output_type": "stream",
     "text": [
      "train Loss: 0.4968 Acc: 13.7129\n"
     ]
    },
    {
     "name": "stderr",
     "output_type": "stream",
     "text": [
      "Val Epoch 35: 100%|██████████| 32/32 [00:05<00:00,  5.68it/s, Loss=0.2486, Acc=0.9284]\n"
     ]
    },
    {
     "name": "stdout",
     "output_type": "stream",
     "text": [
      "val Loss: 0.4298 Acc: 0.9284\n",
      "New best model saved with val_acc: 0.9284\n",
      "\n",
      "Epoch 36/49\n",
      "----------\n"
     ]
    },
    {
     "name": "stderr",
     "output_type": "stream",
     "text": [
      "Train Epoch 36: 100%|██████████| 32/32 [00:06<00:00,  4.95it/s, Loss=0.1897, Acc=15.0932]\n"
     ]
    },
    {
     "name": "stdout",
     "output_type": "stream",
     "text": [
      "train Loss: 0.4656 Acc: 15.0932\n"
     ]
    },
    {
     "name": "stderr",
     "output_type": "stream",
     "text": [
      "Val Epoch 36: 100%|██████████| 32/32 [00:05<00:00,  5.59it/s, Loss=0.2493, Acc=0.9245]\n"
     ]
    },
    {
     "name": "stdout",
     "output_type": "stream",
     "text": [
      "val Loss: 0.4447 Acc: 0.9245\n",
      "\n",
      "Epoch 37/49\n",
      "----------\n"
     ]
    },
    {
     "name": "stderr",
     "output_type": "stream",
     "text": [
      "Train Epoch 37: 100%|██████████| 32/32 [00:06<00:00,  5.14it/s, Loss=0.2813, Acc=17.5023]\n"
     ]
    },
    {
     "name": "stdout",
     "output_type": "stream",
     "text": [
      "train Loss: 0.6253 Acc: 17.5023\n"
     ]
    },
    {
     "name": "stderr",
     "output_type": "stream",
     "text": [
      "Val Epoch 37: 100%|██████████| 32/32 [00:05<00:00,  5.63it/s, Loss=0.2648, Acc=0.9235]\n"
     ]
    },
    {
     "name": "stdout",
     "output_type": "stream",
     "text": [
      "val Loss: 0.4407 Acc: 0.9235\n",
      "\n",
      "Epoch 38/49\n",
      "----------\n"
     ]
    },
    {
     "name": "stderr",
     "output_type": "stream",
     "text": [
      "Train Epoch 38: 100%|██████████| 32/32 [00:06<00:00,  5.11it/s, Loss=0.1650, Acc=14.9430]\n"
     ]
    },
    {
     "name": "stdout",
     "output_type": "stream",
     "text": [
      "train Loss: 0.4949 Acc: 14.9430\n"
     ]
    },
    {
     "name": "stderr",
     "output_type": "stream",
     "text": [
      "Val Epoch 38: 100%|██████████| 32/32 [00:05<00:00,  5.52it/s, Loss=0.2821, Acc=0.9206]\n"
     ]
    },
    {
     "name": "stdout",
     "output_type": "stream",
     "text": [
      "val Loss: 0.4416 Acc: 0.9206\n",
      "\n",
      "Epoch 39/49\n",
      "----------\n"
     ]
    },
    {
     "name": "stderr",
     "output_type": "stream",
     "text": [
      "Train Epoch 39: 100%|██████████| 32/32 [00:06<00:00,  4.93it/s, Loss=0.2318, Acc=13.2467]\n"
     ]
    },
    {
     "name": "stdout",
     "output_type": "stream",
     "text": [
      "train Loss: 0.3633 Acc: 13.2467\n"
     ]
    },
    {
     "name": "stderr",
     "output_type": "stream",
     "text": [
      "Val Epoch 39: 100%|██████████| 32/32 [00:05<00:00,  5.62it/s, Loss=0.2596, Acc=0.9294]\n"
     ]
    },
    {
     "name": "stdout",
     "output_type": "stream",
     "text": [
      "val Loss: 0.4323 Acc: 0.9294\n",
      "New best model saved with val_acc: 0.9294\n",
      "\n",
      "Epoch 40/49\n",
      "----------\n"
     ]
    },
    {
     "name": "stderr",
     "output_type": "stream",
     "text": [
      "Train Epoch 40: 100%|██████████| 32/32 [00:06<00:00,  5.21it/s, Loss=0.3514, Acc=12.8106]\n"
     ]
    },
    {
     "name": "stdout",
     "output_type": "stream",
     "text": [
      "train Loss: 0.5375 Acc: 12.8106\n"
     ]
    },
    {
     "name": "stderr",
     "output_type": "stream",
     "text": [
      "Val Epoch 40: 100%|██████████| 32/32 [00:05<00:00,  5.58it/s, Loss=0.2728, Acc=0.9275]\n"
     ]
    },
    {
     "name": "stdout",
     "output_type": "stream",
     "text": [
      "val Loss: 0.4369 Acc: 0.9275\n",
      "\n",
      "Epoch 41/49\n",
      "----------\n"
     ]
    },
    {
     "name": "stderr",
     "output_type": "stream",
     "text": [
      "Train Epoch 41: 100%|██████████| 32/32 [00:05<00:00,  5.73it/s, Loss=0.2852, Acc=9.5351]\n"
     ]
    },
    {
     "name": "stdout",
     "output_type": "stream",
     "text": [
      "train Loss: 0.5665 Acc: 9.5351\n"
     ]
    },
    {
     "name": "stderr",
     "output_type": "stream",
     "text": [
      "Val Epoch 41: 100%|██████████| 32/32 [00:06<00:00,  5.06it/s, Loss=0.2855, Acc=0.9235]\n"
     ]
    },
    {
     "name": "stdout",
     "output_type": "stream",
     "text": [
      "val Loss: 0.4429 Acc: 0.9235\n",
      "\n",
      "Epoch 42/49\n",
      "----------\n"
     ]
    },
    {
     "name": "stderr",
     "output_type": "stream",
     "text": [
      "Train Epoch 42: 100%|██████████| 32/32 [00:05<00:00,  6.00it/s, Loss=0.1725, Acc=13.5063]\n"
     ]
    },
    {
     "name": "stdout",
     "output_type": "stream",
     "text": [
      "train Loss: 0.5440 Acc: 13.5063\n"
     ]
    },
    {
     "name": "stderr",
     "output_type": "stream",
     "text": [
      "Val Epoch 42: 100%|██████████| 32/32 [00:06<00:00,  4.73it/s, Loss=0.2752, Acc=0.9275]\n"
     ]
    },
    {
     "name": "stdout",
     "output_type": "stream",
     "text": [
      "val Loss: 0.4357 Acc: 0.9275\n",
      "\n",
      "Epoch 43/49\n",
      "----------\n"
     ]
    },
    {
     "name": "stderr",
     "output_type": "stream",
     "text": [
      "Train Epoch 43: 100%|██████████| 32/32 [00:05<00:00,  5.90it/s, Loss=0.1329, Acc=15.7926]\n"
     ]
    },
    {
     "name": "stdout",
     "output_type": "stream",
     "text": [
      "train Loss: 0.6089 Acc: 15.7926\n"
     ]
    },
    {
     "name": "stderr",
     "output_type": "stream",
     "text": [
      "Val Epoch 43: 100%|██████████| 32/32 [00:06<00:00,  4.60it/s, Loss=0.2784, Acc=0.9216]\n"
     ]
    },
    {
     "name": "stdout",
     "output_type": "stream",
     "text": [
      "val Loss: 0.4324 Acc: 0.9216\n",
      "\n",
      "Epoch 44/49\n",
      "----------\n"
     ]
    },
    {
     "name": "stderr",
     "output_type": "stream",
     "text": [
      "Train Epoch 44: 100%|██████████| 32/32 [00:05<00:00,  5.83it/s, Loss=0.3887, Acc=15.2291]\n"
     ]
    },
    {
     "name": "stdout",
     "output_type": "stream",
     "text": [
      "train Loss: 0.5806 Acc: 15.2291\n"
     ]
    },
    {
     "name": "stderr",
     "output_type": "stream",
     "text": [
      "Val Epoch 44: 100%|██████████| 32/32 [00:06<00:00,  4.68it/s, Loss=0.2866, Acc=0.9265]\n"
     ]
    },
    {
     "name": "stdout",
     "output_type": "stream",
     "text": [
      "val Loss: 0.4329 Acc: 0.9265\n",
      "\n",
      "Epoch 45/49\n",
      "----------\n"
     ]
    },
    {
     "name": "stderr",
     "output_type": "stream",
     "text": [
      "Train Epoch 45: 100%|██████████| 32/32 [00:05<00:00,  5.98it/s, Loss=0.2498, Acc=12.9536]\n"
     ]
    },
    {
     "name": "stdout",
     "output_type": "stream",
     "text": [
      "train Loss: 0.8414 Acc: 12.9536\n"
     ]
    },
    {
     "name": "stderr",
     "output_type": "stream",
     "text": [
      "Val Epoch 45: 100%|██████████| 32/32 [00:06<00:00,  4.73it/s, Loss=0.2907, Acc=0.9235]\n"
     ]
    },
    {
     "name": "stdout",
     "output_type": "stream",
     "text": [
      "val Loss: 0.4556 Acc: 0.9235\n",
      "\n",
      "Epoch 46/49\n",
      "----------\n"
     ]
    },
    {
     "name": "stderr",
     "output_type": "stream",
     "text": [
      "Train Epoch 46: 100%|██████████| 32/32 [00:05<00:00,  5.79it/s, Loss=0.3692, Acc=12.5649]\n"
     ]
    },
    {
     "name": "stdout",
     "output_type": "stream",
     "text": [
      "train Loss: 0.4009 Acc: 12.5649\n"
     ]
    },
    {
     "name": "stderr",
     "output_type": "stream",
     "text": [
      "Val Epoch 46: 100%|██████████| 32/32 [00:07<00:00,  4.57it/s, Loss=0.2601, Acc=0.9245]\n"
     ]
    },
    {
     "name": "stdout",
     "output_type": "stream",
     "text": [
      "val Loss: 0.4288 Acc: 0.9245\n",
      "\n",
      "Epoch 47/49\n",
      "----------\n"
     ]
    },
    {
     "name": "stderr",
     "output_type": "stream",
     "text": [
      "Train Epoch 47: 100%|██████████| 32/32 [00:05<00:00,  6.04it/s, Loss=0.3945, Acc=9.4855]\n"
     ]
    },
    {
     "name": "stdout",
     "output_type": "stream",
     "text": [
      "train Loss: 0.4341 Acc: 9.4855\n"
     ]
    },
    {
     "name": "stderr",
     "output_type": "stream",
     "text": [
      "Val Epoch 47: 100%|██████████| 32/32 [00:06<00:00,  4.67it/s, Loss=0.2633, Acc=0.9284]\n"
     ]
    },
    {
     "name": "stdout",
     "output_type": "stream",
     "text": [
      "val Loss: 0.4220 Acc: 0.9284\n",
      "\n",
      "Epoch 48/49\n",
      "----------\n"
     ]
    },
    {
     "name": "stderr",
     "output_type": "stream",
     "text": [
      "Train Epoch 48: 100%|██████████| 32/32 [00:05<00:00,  6.04it/s, Loss=0.2113, Acc=9.4564]\n"
     ]
    },
    {
     "name": "stdout",
     "output_type": "stream",
     "text": [
      "train Loss: 0.4366 Acc: 9.4564\n"
     ]
    },
    {
     "name": "stderr",
     "output_type": "stream",
     "text": [
      "Val Epoch 48: 100%|██████████| 32/32 [00:06<00:00,  4.71it/s, Loss=0.2656, Acc=0.9275]\n"
     ]
    },
    {
     "name": "stdout",
     "output_type": "stream",
     "text": [
      "val Loss: 0.4280 Acc: 0.9275\n",
      "\n",
      "Epoch 49/49\n",
      "----------\n"
     ]
    },
    {
     "name": "stderr",
     "output_type": "stream",
     "text": [
      "Train Epoch 49: 100%|██████████| 32/32 [00:05<00:00,  5.88it/s, Loss=0.1732, Acc=11.0956]\n"
     ]
    },
    {
     "name": "stdout",
     "output_type": "stream",
     "text": [
      "train Loss: 0.5994 Acc: 11.0956\n"
     ]
    },
    {
     "name": "stderr",
     "output_type": "stream",
     "text": [
      "Val Epoch 49: 100%|██████████| 32/32 [00:06<00:00,  5.11it/s, Loss=0.2864, Acc=0.9196]\n"
     ]
    },
    {
     "name": "stdout",
     "output_type": "stream",
     "text": [
      "val Loss: 0.4440 Acc: 0.9196\n",
      "\n",
      "Training complete in 9m 51s\n",
      "Best val Acc: 0.929412\n"
     ]
    },
    {
     "data": {
      "image/png": "[encoded data removed]",
      "text/plain": [
       "<Figure size 1500x500 with 2 Axes>"
      ]
     },
     "metadata": {},
     "output_type": "display_data"
    },
    {
     "name": "stdout",
     "output_type": "stream",
     "text": [
      "Evaluating on test set...\n"
     ]
    },
    {
     "name": "stderr",
     "output_type": "stream",
     "text": [
      "100%|██████████| 193/193 [00:35<00:00,  5.51it/s]"
     ]
    },
    {
     "name": "stdout",
     "output_type": "stream",
     "text": [
      "Test Loss: 0.5254\n",
      "Test Accuracy: 0.8967\n",
      "\n",
      "ResNet34 with MixUp - Test Accuracy: 0.8967\n"
     ]
    },
    {
     "name": "stderr",
     "output_type": "stream",
     "text": [
      "\n"
     ]
    }
   ],
   "source": [
    "# Train ResNet-34 with MixUp augmentation\n",
    "print(\"\\n\" + \"=\"*70)\n",
    "print(\"TRAINING RESNET-34 WITH MIXUP AUGMENTATION\")\n",
    "print(\"=\"*70)\n",
    "\n",
    "model_resnet34_mixup = FlowerResNetFrozen(base_model='resnet34', num_frozen_stages=3, num_classes=102)\n",
    "model_resnet34_mixup = model_resnet34_mixup.to(device)\n",
    "\n",
    "# Define loss function\n",
    "criterion = nn.CrossEntropyLoss()\n",
    "\n",
    "# Define number of epochs (if not already defined)\n",
    "num_epochs = 50\n",
    "\n",
    "# Define optimizer\n",
    "optimizer_34_mixup = optim.SGD(\n",
    "    filter(lambda p: p.requires_grad, model_resnet34_mixup.parameters()),\n",
    "    lr=0.001, momentum=0.9\n",
    ")\n",
    "scheduler_34_mixup = lr_scheduler.StepLR(optimizer_34_mixup, step_size=30, gamma=0.1)\n",
    "\n",
    "# Train model with MixUp\n",
    "model_resnet34_mixup, train_losses_34_mixup, train_accs_34_mixup, val_losses_34_mixup, val_accs_34_mixup = train_model_with_mixup(\n",
    "    model_resnet34_mixup, criterion, optimizer_34_mixup, scheduler_34_mixup, num_epochs, 'resnet34_frozen_mixup', alpha=0.2\n",
    ")\n",
    "\n",
    "# Plot results\n",
    "plot_training_curves(train_losses_34_mixup, val_losses_34_mixup, train_accs_34_mixup, val_accs_34_mixup, 'ResNet34_Frozen_MixUp')\n",
    "\n",
    "# Evaluate on test set\n",
    "test_loss_34_mixup, test_acc_34_mixup, all_preds_34_mixup, all_labels_34_mixup = evaluate_model(model_resnet34_mixup, criterion)\n",
    "\n",
    "# Save training logs\n",
    "with open('resnet34_frozen_mixup.txt', 'w') as f:\n",
    "    f.write(\"Epoch,Train_Loss,Val_Loss,Train_Acc,Val_Acc\\n\")\n",
    "    for epoch in range(len(train_losses_34_mixup)):\n",
    "        f.write(f\"{epoch+1},{train_losses_34_mixup[epoch]:.4f},{val_losses_34_mixup[epoch]:.4f},{train_accs_34_mixup[epoch]:.4f},{val_accs_34_mixup[epoch]:.4f}\\n\")\n",
    "\n",
    "print(f\"\\nResNet34 with MixUp - Test Accuracy: {test_acc_34_mixup:.4f}\")\n"
   ]
  },
  {
   "cell_type": "markdown",
   "id": "96322469",
   "metadata": {},
   "source": [
    "Mixup and Cutout: CutMix outperforms Mixup [46] by +5.51% and +1.41% on CUB200-2011 and ImageNet dataset, respectively. We observe that Mixup degraded the localization accuracy over baseline and tends to focus on a small region of image as shown in Fig- ure 4. As we hypothesized in Section 3.2, the Mixuped sample has the ambiguity, so the CNN trained with those samples tends to focus on the most discriminative part for classification, which leads the degradation of localization ability. "
   ]
  },
  {
   "cell_type": "markdown",
   "id": "0e5dbf23",
   "metadata": {},
   "source": [
    "https://wandb.ai/authors/tfaugmentation/reports/Modern-Data-Augmentation-Techniques-for-Computer-Vision--VmlldzoxNzU3NTU"
   ]
  },
  {
   "cell_type": "markdown",
   "id": "598131d0",
   "metadata": {
    "id": "598131d0"
   },
   "source": [
    "----\n",
    "## Improvement 2: Triplet Loss for Metric Learning\n",
    "Implement Triplet Loss to improve feature discrimination and model robustness.\n"
   ]
  },
  {
   "cell_type": "markdown",
   "id": "0f0a814b",
   "metadata": {
    "id": "0f0a814b"
   },
   "source": [
    "1. `TripletLoss` class - Implements metric learning loss:\n",
    "\n",
    "    - Computes pairwise distances between embeddings\n",
    "    - Uses hard negative mining to find most challenging examples\n",
    "    - Loss: `L = max(0, d(anchor,positive) - d(anchor,negative) + margin)`\n",
    "\n",
    "2. `ResNetWithTripletLoss` class - Modified ResNet architecture:\n",
    "\n",
    "    - Removes final classification layer\n",
    "    - Adds embedding projection layer (256-dim)\n",
    "    - Adds separate classification head\n",
    "    - Outputs both embeddings and logits\n",
    "\n",
    "3. `train_model_with_triplet_loss()` function:\n",
    "\n",
    "    - Key implementation (lines 143-162): Combined loss computation\n",
    "        - Gets embeddings and logits from forward pass\n",
    "        - Computes CE loss on logits\n",
    "        - Computes Triplet loss on embeddings\n",
    "        - Combined: `loss = 0.3 * triplet_loss + 0.7 * ce_loss`\n",
    "    - Tracks triplet loss component separately for analysis"
   ]
  },
  {
   "cell_type": "code",
   "execution_count": 14,
   "id": "ba9685da",
   "metadata": {
    "executionInfo": {
     "elapsed": 54,
     "status": "ok",
     "timestamp": 1761839606729,
     "user": {
      "displayName": "Fact Frenzy NBA",
      "userId": "02617294725587601640"
     },
     "user_tz": -480
    },
    "id": "ba9685da"
   },
   "outputs": [],
   "source": [
    "# ===== TRIPLET LOSS IMPLEMENTATION =====\n",
    "class TripletLoss(nn.Module):\n",
    "    \"\"\"\n",
    "    Triplet Loss: L = max(0, d(a,p) - d(a,n) + margin)\n",
    "\n",
    "    Minimizes distance between anchor-positive pairs (same class)\n",
    "    while maximizing distance between anchor-negative pairs (different classes)\n",
    "\n",
    "    Reference: https://arxiv.org/abs/1503.03832\n",
    "    \"\"\"\n",
    "    def __init__(self, margin=1.0, p=2):\n",
    "        \"\"\"\n",
    "        Args:\n",
    "            margin: margin for triplet loss\n",
    "            p: p-norm to use for distance (2 for L2)\n",
    "        \"\"\"\n",
    "        super(TripletLoss, self).__init__()\n",
    "        self.margin = margin\n",
    "        self.p = p\n",
    "\n",
    "    def forward(self, embeddings, labels):\n",
    "        \"\"\"\n",
    "        Compute triplet loss for a batch\n",
    "\n",
    "        Args:\n",
    "            embeddings: tensor of shape [B, D] - feature embeddings (before softmax)\n",
    "            labels: tensor of shape [B] - class labels\n",
    "\n",
    "        Returns:\n",
    "            triplet_loss: scalar\n",
    "        \"\"\"\n",
    "        batch_size = embeddings.size(0)\n",
    "\n",
    "        # Compute pairwise distances: D_ij = ||e_i - e_j||_p\n",
    "        distances = torch.cdist(embeddings, embeddings, p=self.p)  # [B, B]\n",
    "\n",
    "        # Create masks for positive and negative pairs\n",
    "        labels_equal = labels.unsqueeze(0) == labels.unsqueeze(1)  # [B, B]\n",
    "\n",
    "        # Set diagonal to False (don't use same sample as positive)\n",
    "        diag_mask = ~torch.eye(batch_size, dtype=torch.bool, device=labels.device)\n",
    "        pos_mask = labels_equal & diag_mask  # Same class, different sample\n",
    "        neg_mask = ~labels_equal  # Different class\n",
    "\n",
    "        # For each anchor, find hardest positive and hardest negative\n",
    "        distances_pos = distances.clone()\n",
    "        distances_pos[~pos_mask] = float('-inf')  # Set invalid to -inf (take max)\n",
    "\n",
    "        distances_neg = distances.clone()\n",
    "        distances_neg[~neg_mask] = float('inf')   # Set invalid to +inf (take min)\n",
    "\n",
    "        # Get hardest examples per anchor (hard negative mining)\n",
    "        hardest_pos_dist, _ = distances_pos.max(dim=1)  # [B]\n",
    "        hardest_neg_dist, _ = distances_neg.min(dim=1)  # [B]\n",
    "\n",
    "        # Compute triplet loss\n",
    "        triplet_losses = F.relu(hardest_pos_dist - hardest_neg_dist + self.margin)\n",
    "\n",
    "        return triplet_losses.mean()\n",
    "\n",
    "\n",
    "class ResNetWithTripletLoss(nn.Module):\n",
    "    \"\"\"\n",
    "    ResNet model that outputs both classification logits and embedding features\n",
    "    for use with triplet loss\n",
    "    \"\"\"\n",
    "    def __init__(self, base_model='resnet34', num_frozen_stages=3, num_classes=102, embedding_dim=256):\n",
    "        super(ResNetWithTripletLoss, self).__init__()\n",
    "\n",
    "        if base_model == 'resnet34':\n",
    "            self.backbone = models.resnet34(weights='IMAGENET1K_V1')\n",
    "        else:\n",
    "            raise ValueError(\"Unsupported base model\")\n",
    "\n",
    "        # Freeze specified stages\n",
    "        self._freeze_stages(num_frozen_stages)\n",
    "\n",
    "        # Get feature dimension\n",
    "        in_features = self.backbone.fc.in_features\n",
    "\n",
    "        # Replace final layer with embedding layer\n",
    "        self.backbone.fc = nn.Identity()  # Remove final classification layer\n",
    "\n",
    "        # Add embedding projection layer\n",
    "        self.embedding_proj = nn.Linear(in_features, embedding_dim)\n",
    "\n",
    "        # Add classification head\n",
    "        self.classifier = nn.Linear(embedding_dim, num_classes)\n",
    "\n",
    "    def _freeze_stages(self, num_stages):\n",
    "        \"\"\"Freeze the first num_stages of ResNet\"\"\"\n",
    "        if num_stages >= 1:\n",
    "            for param in self.backbone.conv1.parameters():\n",
    "                param.requires_grad = False\n",
    "            for param in self.backbone.bn1.parameters():\n",
    "                param.requires_grad = False\n",
    "        if num_stages >= 2:\n",
    "            for param in self.backbone.layer1.parameters():\n",
    "                param.requires_grad = False\n",
    "        if num_stages >= 3:\n",
    "            for param in self.backbone.layer2.parameters():\n",
    "                param.requires_grad = False\n",
    "        if num_stages >= 4:\n",
    "            for param in self.backbone.layer3.parameters():\n",
    "                param.requires_grad = False\n",
    "        if num_stages >= 5:\n",
    "            for param in self.backbone.layer4.parameters():\n",
    "                param.requires_grad = False\n",
    "\n",
    "    def forward(self, x):\n",
    "        # Get backbone features\n",
    "        features = self.backbone(x)  # [B, 512]\n",
    "\n",
    "        # Project to embedding space\n",
    "        embeddings = self.embedding_proj(features)  # [B, 256]\n",
    "\n",
    "        # Classification logits\n",
    "        logits = self.classifier(embeddings)  # [B, 102]\n",
    "\n",
    "        return embeddings, logits\n",
    "\n",
    "\n",
    "def train_model_with_triplet_loss(model, criterion_ce, criterion_triplet, optimizer, scheduler,\n",
    "                                  num_epochs=25, model_name='resnet_triplet', lambda_triplet=0.3):\n",
    "    \"\"\"\n",
    "    Train model with combined Triplet Loss + Classification Loss\n",
    "    Total Loss = lambda_triplet * triplet_loss + (1 - lambda_triplet) * ce_loss\n",
    "    \"\"\"\n",
    "    since = time.time()\n",
    "\n",
    "    # Create checkpoint directory\n",
    "    checkpoint_path = './model_checkpoints'\n",
    "    os.makedirs(checkpoint_path, exist_ok=True)\n",
    "    best_model_params_path = os.path.join(checkpoint_path, f'best_{model_name}_params.pt')\n",
    "\n",
    "    # Save initial model\n",
    "    torch.save(model.state_dict(), best_model_params_path)\n",
    "\n",
    "    # Track metrics\n",
    "    train_losses, train_accs = [], []\n",
    "    train_triplet_losses = []  # Track triplet loss component\n",
    "    val_losses, val_accs = [], []\n",
    "    best_acc = 0.0\n",
    "\n",
    "    for epoch in range(num_epochs):\n",
    "        print(f'Epoch {epoch}/{num_epochs - 1}')\n",
    "        print('-' * 10)\n",
    "\n",
    "        # Each epoch has training and validation phases\n",
    "        for phase in ['train', 'val']:\n",
    "            if phase == 'train':\n",
    "                model.train()\n",
    "            else:\n",
    "                model.eval()\n",
    "\n",
    "            running_loss = 0.0\n",
    "            running_triplet_loss = 0.0\n",
    "            running_corrects = 0\n",
    "\n",
    "            # Iterate over data with progress bar\n",
    "            pbar = tqdm(dataloaders[phase], desc=f'{phase.capitalize()} Epoch {epoch}')\n",
    "            for inputs, labels in pbar:\n",
    "                inputs = inputs.to(device)\n",
    "                labels = labels.to(device)\n",
    "\n",
    "                # Zero gradients\n",
    "                optimizer.zero_grad()\n",
    "\n",
    "                # Forward pass\n",
    "                with torch.set_grad_enabled(phase == 'train'):\n",
    "                    # ===== TRIPLET LOSS (lines 143-162) =====\n",
    "                    embeddings, logits = model(inputs)  # Get embeddings and logits\n",
    "                    _, preds = torch.max(logits, 1)\n",
    "\n",
    "                    # Compute classification loss\n",
    "                    ce_loss = criterion_ce(logits, labels)\n",
    "\n",
    "                    # Compute triplet loss on embeddings\n",
    "                    tri_loss = criterion_triplet(embeddings, labels)\n",
    "\n",
    "                    # Combined loss: weighted combination\n",
    "                    loss = lambda_triplet * tri_loss + (1 - lambda_triplet) * ce_loss\n",
    "                    # ===== END TRIPLET LOSS =====\n",
    "\n",
    "                    # Backward + optimize only in training phase\n",
    "                    if phase == 'train':\n",
    "                        loss.backward()\n",
    "                        optimizer.step()\n",
    "\n",
    "                # Statistics\n",
    "                running_loss += loss.item() * inputs.size(0)\n",
    "                running_triplet_loss += tri_loss.item() * inputs.size(0)\n",
    "                running_corrects += torch.sum(preds == labels.data)\n",
    "\n",
    "                # Update progress bar\n",
    "                pbar.set_postfix({\n",
    "                    'Loss': f'{loss.item():.4f}',\n",
    "                    'Triplet': f'{tri_loss.item():.4f}',\n",
    "                    'Acc': f'{torch.sum(preds == labels.data).item() / inputs.size(0):.4f}'\n",
    "                })\n",
    "\n",
    "            if phase == 'train' and scheduler is not None:\n",
    "                scheduler.step()\n",
    "\n",
    "            # Calculate epoch metrics\n",
    "            epoch_loss = running_loss / dataset_sizes[phase]\n",
    "            epoch_triplet_loss = running_triplet_loss / dataset_sizes[phase]\n",
    "            epoch_acc = running_corrects.double() / dataset_sizes[phase]\n",
    "\n",
    "            if phase == 'train':\n",
    "                print(f'{phase} Loss: {epoch_loss:.4f} (Triplet: {epoch_triplet_loss:.4f}) Acc: {epoch_acc:.4f}')\n",
    "            else:\n",
    "                print(f'{phase} Loss: {epoch_loss:.4f} Acc: {epoch_acc:.4f}')\n",
    "\n",
    "            # Store metrics\n",
    "            if phase == 'train':\n",
    "                train_losses.append(epoch_loss)\n",
    "                train_accs.append(epoch_acc.cpu())\n",
    "                train_triplet_losses.append(epoch_triplet_loss)\n",
    "            else:\n",
    "                val_losses.append(epoch_loss)\n",
    "                val_accs.append(epoch_acc.cpu())\n",
    "\n",
    "            # Save best model\n",
    "            if phase == 'val' and epoch_acc > best_acc:\n",
    "                best_acc = epoch_acc\n",
    "                torch.save(model.state_dict(), best_model_params_path)\n",
    "                print(f'New best model saved with val_acc: {best_acc:.4f}')\n",
    "\n",
    "        print()\n",
    "\n",
    "    time_elapsed = time.time() - since\n",
    "    print(f'Training complete in {time_elapsed // 60:.0f}m {time_elapsed % 60:.0f}s')\n",
    "    print(f'Best val Acc: {best_acc:4f}')\n",
    "\n",
    "    # Load best model weights\n",
    "    model.load_state_dict(torch.load(best_model_params_path))\n",
    "\n",
    "    return model, train_losses, train_accs, val_losses, val_accs, train_triplet_losses\n"
   ]
  },
  {
   "cell_type": "code",
   "execution_count": 19,
   "id": "Bm-Q7SNn5Nte",
   "metadata": {
    "colab": {
     "base_uri": "https://localhost:8080/",
     "height": 1000
    },
    "executionInfo": {
     "elapsed": 626784,
     "status": "ok",
     "timestamp": 1761841482085,
     "user": {
      "displayName": "Fact Frenzy NBA",
      "userId": "02617294725587601640"
     },
     "user_tz": -480
    },
    "id": "Bm-Q7SNn5Nte",
    "outputId": "a6ff8b5a-c551-4ea9-f468-8521cd75bc1a"
   },
   "outputs": [
    {
     "name": "stdout",
     "output_type": "stream",
     "text": [
      "\n",
      "======================================================================\n",
      "TRAINING RESNET-34 WITH TRIPLET LOSS\n",
      "======================================================================\n",
      "ResNet34 Triplet - Trainable parameters: 20094310/21442214 (93.71%)\n",
      "Epoch 0/49\n",
      "----------\n"
     ]
    },
    {
     "name": "stderr",
     "output_type": "stream",
     "text": [
      "Train Epoch 0: 100%|██████████| 32/32 [00:06<00:00,  5.06it/s, Loss=3.3319, Triplet=0.4327, Acc=0.0000]\n"
     ]
    },
    {
     "name": "stdout",
     "output_type": "stream",
     "text": [
      "train Loss: 3.3836 (Triplet: 0.3642) Acc: 0.0167\n"
     ]
    },
    {
     "name": "stderr",
     "output_type": "stream",
     "text": [
      "Val Epoch 0: 100%|██████████| 32/32 [00:05<00:00,  5.71it/s, Loss=3.9573, Triplet=2.1341, Acc=0.0000]\n"
     ]
    },
    {
     "name": "stdout",
     "output_type": "stream",
     "text": [
      "val Loss: 3.8430 Acc: 0.0392\n",
      "New best model saved with val_acc: 0.0392\n",
      "\n",
      "Epoch 1/49\n",
      "----------\n"
     ]
    },
    {
     "name": "stderr",
     "output_type": "stream",
     "text": [
      "Train Epoch 1: 100%|██████████| 32/32 [00:06<00:00,  5.16it/s, Loss=3.2304, Triplet=0.3410, Acc=0.0000]\n"
     ]
    },
    {
     "name": "stdout",
     "output_type": "stream",
     "text": [
      "train Loss: 3.2607 (Triplet: 0.3722) Acc: 0.0422\n"
     ]
    },
    {
     "name": "stderr",
     "output_type": "stream",
     "text": [
      "Val Epoch 1: 100%|██████████| 32/32 [00:05<00:00,  5.61it/s, Loss=3.7697, Triplet=1.9546, Acc=0.0000]\n"
     ]
    },
    {
     "name": "stdout",
     "output_type": "stream",
     "text": [
      "val Loss: 3.6902 Acc: 0.0990\n",
      "New best model saved with val_acc: 0.0990\n",
      "\n",
      "Epoch 2/49\n",
      "----------\n"
     ]
    },
    {
     "name": "stderr",
     "output_type": "stream",
     "text": [
      "Train Epoch 2: 100%|██████████| 32/32 [00:06<00:00,  5.06it/s, Loss=3.0104, Triplet=0.2603, Acc=0.1786]\n"
     ]
    },
    {
     "name": "stdout",
     "output_type": "stream",
     "text": [
      "train Loss: 3.1222 (Triplet: 0.3252) Acc: 0.1441\n"
     ]
    },
    {
     "name": "stderr",
     "output_type": "stream",
     "text": [
      "Val Epoch 2: 100%|██████████| 32/32 [00:05<00:00,  5.70it/s, Loss=3.4068, Triplet=1.6419, Acc=0.1429]\n"
     ]
    },
    {
     "name": "stdout",
     "output_type": "stream",
     "text": [
      "val Loss: 3.5231 Acc: 0.2265\n",
      "New best model saved with val_acc: 0.2265\n",
      "\n",
      "Epoch 3/49\n",
      "----------\n"
     ]
    },
    {
     "name": "stderr",
     "output_type": "stream",
     "text": [
      "Train Epoch 3: 100%|██████████| 32/32 [00:06<00:00,  5.15it/s, Loss=2.9487, Triplet=0.3351, Acc=0.2857]\n"
     ]
    },
    {
     "name": "stdout",
     "output_type": "stream",
     "text": [
      "train Loss: 3.0149 (Triplet: 0.3996) Acc: 0.2637\n"
     ]
    },
    {
     "name": "stderr",
     "output_type": "stream",
     "text": [
      "Val Epoch 3: 100%|██████████| 32/32 [00:05<00:00,  5.71it/s, Loss=3.1368, Triplet=1.3193, Acc=0.3571]\n"
     ]
    },
    {
     "name": "stdout",
     "output_type": "stream",
     "text": [
      "val Loss: 3.3373 Acc: 0.3441\n",
      "New best model saved with val_acc: 0.3441\n",
      "\n",
      "Epoch 4/49\n",
      "----------\n"
     ]
    },
    {
     "name": "stderr",
     "output_type": "stream",
     "text": [
      "Train Epoch 4: 100%|██████████| 32/32 [00:05<00:00,  5.56it/s, Loss=2.9535, Triplet=0.4814, Acc=0.2500]\n"
     ]
    },
    {
     "name": "stdout",
     "output_type": "stream",
     "text": [
      "train Loss: 2.8433 (Triplet: 0.3006) Acc: 0.3853\n"
     ]
    },
    {
     "name": "stderr",
     "output_type": "stream",
     "text": [
      "Val Epoch 4: 100%|██████████| 32/32 [00:06<00:00,  5.21it/s, Loss=2.8452, Triplet=1.0365, Acc=0.4643]\n"
     ]
    },
    {
     "name": "stdout",
     "output_type": "stream",
     "text": [
      "val Loss: 3.1519 Acc: 0.4314\n",
      "New best model saved with val_acc: 0.4314\n",
      "\n",
      "Epoch 5/49\n",
      "----------\n"
     ]
    },
    {
     "name": "stderr",
     "output_type": "stream",
     "text": [
      "Train Epoch 5: 100%|██████████| 32/32 [00:05<00:00,  6.10it/s, Loss=2.8182, Triplet=0.2478, Acc=0.2500]\n"
     ]
    },
    {
     "name": "stdout",
     "output_type": "stream",
     "text": [
      "train Loss: 2.7086 (Triplet: 0.3350) Acc: 0.4725\n"
     ]
    },
    {
     "name": "stderr",
     "output_type": "stream",
     "text": [
      "Val Epoch 5: 100%|██████████| 32/32 [00:06<00:00,  4.93it/s, Loss=2.5417, Triplet=0.7828, Acc=0.5714]\n"
     ]
    },
    {
     "name": "stdout",
     "output_type": "stream",
     "text": [
      "val Loss: 2.9558 Acc: 0.4853\n",
      "New best model saved with val_acc: 0.4853\n",
      "\n",
      "Epoch 6/49\n",
      "----------\n"
     ]
    },
    {
     "name": "stderr",
     "output_type": "stream",
     "text": [
      "Train Epoch 6: 100%|██████████| 32/32 [00:05<00:00,  6.14it/s, Loss=2.5969, Triplet=0.3573, Acc=0.4643]\n"
     ]
    },
    {
     "name": "stdout",
     "output_type": "stream",
     "text": [
      "train Loss: 2.5315 (Triplet: 0.2891) Acc: 0.5392\n"
     ]
    },
    {
     "name": "stderr",
     "output_type": "stream",
     "text": [
      "Val Epoch 6: 100%|██████████| 32/32 [00:06<00:00,  4.67it/s, Loss=2.2504, Triplet=0.6561, Acc=0.6786]\n"
     ]
    },
    {
     "name": "stdout",
     "output_type": "stream",
     "text": [
      "val Loss: 2.7673 Acc: 0.5686\n",
      "New best model saved with val_acc: 0.5686\n",
      "\n",
      "Epoch 7/49\n",
      "----------\n"
     ]
    },
    {
     "name": "stderr",
     "output_type": "stream",
     "text": [
      "Train Epoch 7: 100%|██████████| 32/32 [00:05<00:00,  5.62it/s, Loss=2.1586, Triplet=0.1936, Acc=0.6429]\n"
     ]
    },
    {
     "name": "stdout",
     "output_type": "stream",
     "text": [
      "train Loss: 2.3575 (Triplet: 0.2850) Acc: 0.6069\n"
     ]
    },
    {
     "name": "stderr",
     "output_type": "stream",
     "text": [
      "Val Epoch 7: 100%|██████████| 32/32 [00:06<00:00,  4.77it/s, Loss=1.9089, Triplet=0.4843, Acc=0.7143]\n"
     ]
    },
    {
     "name": "stdout",
     "output_type": "stream",
     "text": [
      "val Loss: 2.5790 Acc: 0.6039\n",
      "New best model saved with val_acc: 0.6039\n",
      "\n",
      "Epoch 8/49\n",
      "----------\n"
     ]
    },
    {
     "name": "stderr",
     "output_type": "stream",
     "text": [
      "Train Epoch 8: 100%|██████████| 32/32 [00:05<00:00,  6.16it/s, Loss=2.1820, Triplet=0.3646, Acc=0.5714]\n"
     ]
    },
    {
     "name": "stdout",
     "output_type": "stream",
     "text": [
      "train Loss: 2.1928 (Triplet: 0.3185) Acc: 0.6363\n"
     ]
    },
    {
     "name": "stderr",
     "output_type": "stream",
     "text": [
      "Val Epoch 8: 100%|██████████| 32/32 [00:06<00:00,  4.83it/s, Loss=1.6041, Triplet=0.4219, Acc=0.7500]\n"
     ]
    },
    {
     "name": "stdout",
     "output_type": "stream",
     "text": [
      "val Loss: 2.3999 Acc: 0.6363\n",
      "New best model saved with val_acc: 0.6363\n",
      "\n",
      "Epoch 9/49\n",
      "----------\n"
     ]
    },
    {
     "name": "stderr",
     "output_type": "stream",
     "text": [
      "Train Epoch 9: 100%|██████████| 32/32 [00:05<00:00,  6.21it/s, Loss=2.1666, Triplet=0.5612, Acc=0.6786]\n"
     ]
    },
    {
     "name": "stdout",
     "output_type": "stream",
     "text": [
      "train Loss: 2.0529 (Triplet: 0.3366) Acc: 0.6520\n"
     ]
    },
    {
     "name": "stderr",
     "output_type": "stream",
     "text": [
      "Val Epoch 9: 100%|██████████| 32/32 [00:06<00:00,  4.82it/s, Loss=1.4996, Triplet=0.4188, Acc=0.6786]\n"
     ]
    },
    {
     "name": "stdout",
     "output_type": "stream",
     "text": [
      "val Loss: 2.2337 Acc: 0.6784\n",
      "New best model saved with val_acc: 0.6784\n",
      "\n",
      "Epoch 10/49\n",
      "----------\n"
     ]
    },
    {
     "name": "stderr",
     "output_type": "stream",
     "text": [
      "Train Epoch 10: 100%|██████████| 32/32 [00:05<00:00,  6.14it/s, Loss=1.7127, Triplet=0.2505, Acc=0.6786]\n"
     ]
    },
    {
     "name": "stdout",
     "output_type": "stream",
     "text": [
      "train Loss: 1.8482 (Triplet: 0.2556) Acc: 0.7098\n"
     ]
    },
    {
     "name": "stderr",
     "output_type": "stream",
     "text": [
      "Val Epoch 10: 100%|██████████| 32/32 [00:06<00:00,  4.79it/s, Loss=1.3174, Triplet=0.4130, Acc=0.7857]\n"
     ]
    },
    {
     "name": "stdout",
     "output_type": "stream",
     "text": [
      "val Loss: 2.0778 Acc: 0.7078\n",
      "New best model saved with val_acc: 0.7078\n",
      "\n",
      "Epoch 11/49\n",
      "----------\n"
     ]
    },
    {
     "name": "stderr",
     "output_type": "stream",
     "text": [
      "Train Epoch 11: 100%|██████████| 32/32 [00:05<00:00,  6.33it/s, Loss=1.4068, Triplet=0.0318, Acc=0.9286]\n"
     ]
    },
    {
     "name": "stdout",
     "output_type": "stream",
     "text": [
      "train Loss: 1.7008 (Triplet: 0.2399) Acc: 0.7304\n"
     ]
    },
    {
     "name": "stderr",
     "output_type": "stream",
     "text": [
      "Val Epoch 11: 100%|██████████| 32/32 [00:06<00:00,  5.15it/s, Loss=1.1234, Triplet=0.4094, Acc=0.7857]\n"
     ]
    },
    {
     "name": "stdout",
     "output_type": "stream",
     "text": [
      "val Loss: 1.9287 Acc: 0.7490\n",
      "New best model saved with val_acc: 0.7490\n",
      "\n",
      "Epoch 12/49\n",
      "----------\n"
     ]
    },
    {
     "name": "stderr",
     "output_type": "stream",
     "text": [
      "Train Epoch 12: 100%|██████████| 32/32 [00:05<00:00,  5.80it/s, Loss=1.5881, Triplet=0.1558, Acc=0.7143]\n"
     ]
    },
    {
     "name": "stdout",
     "output_type": "stream",
     "text": [
      "train Loss: 1.5563 (Triplet: 0.2724) Acc: 0.7637\n"
     ]
    },
    {
     "name": "stderr",
     "output_type": "stream",
     "text": [
      "Val Epoch 12: 100%|██████████| 32/32 [00:05<00:00,  5.70it/s, Loss=1.0280, Triplet=0.3548, Acc=0.8571]\n"
     ]
    },
    {
     "name": "stdout",
     "output_type": "stream",
     "text": [
      "val Loss: 1.7946 Acc: 0.7637\n",
      "New best model saved with val_acc: 0.7637\n",
      "\n",
      "Epoch 13/49\n",
      "----------\n"
     ]
    },
    {
     "name": "stderr",
     "output_type": "stream",
     "text": [
      "Train Epoch 13: 100%|██████████| 32/32 [00:05<00:00,  5.40it/s, Loss=1.4338, Triplet=0.1087, Acc=0.7500]\n"
     ]
    },
    {
     "name": "stdout",
     "output_type": "stream",
     "text": [
      "train Loss: 1.4144 (Triplet: 0.2584) Acc: 0.8196\n"
     ]
    },
    {
     "name": "stderr",
     "output_type": "stream",
     "text": [
      "Val Epoch 13: 100%|██████████| 32/32 [00:05<00:00,  5.76it/s, Loss=0.9608, Triplet=0.3462, Acc=0.8571]\n"
     ]
    },
    {
     "name": "stdout",
     "output_type": "stream",
     "text": [
      "val Loss: 1.6720 Acc: 0.7922\n",
      "New best model saved with val_acc: 0.7922\n",
      "\n",
      "Epoch 14/49\n",
      "----------\n"
     ]
    },
    {
     "name": "stderr",
     "output_type": "stream",
     "text": [
      "Train Epoch 14: 100%|██████████| 32/32 [00:06<00:00,  5.11it/s, Loss=0.9939, Triplet=0.0884, Acc=0.9286]\n"
     ]
    },
    {
     "name": "stdout",
     "output_type": "stream",
     "text": [
      "train Loss: 1.2833 (Triplet: 0.2192) Acc: 0.8216\n"
     ]
    },
    {
     "name": "stderr",
     "output_type": "stream",
     "text": [
      "Val Epoch 14: 100%|██████████| 32/32 [00:05<00:00,  5.56it/s, Loss=0.8097, Triplet=0.4146, Acc=0.8929]\n"
     ]
    },
    {
     "name": "stdout",
     "output_type": "stream",
     "text": [
      "val Loss: 1.5653 Acc: 0.8000\n",
      "New best model saved with val_acc: 0.8000\n",
      "\n",
      "Epoch 15/49\n",
      "----------\n"
     ]
    },
    {
     "name": "stderr",
     "output_type": "stream",
     "text": [
      "Train Epoch 15: 100%|██████████| 32/32 [00:06<00:00,  5.14it/s, Loss=1.1427, Triplet=0.2607, Acc=0.9643]\n"
     ]
    },
    {
     "name": "stdout",
     "output_type": "stream",
     "text": [
      "train Loss: 1.2099 (Triplet: 0.2856) Acc: 0.8265\n"
     ]
    },
    {
     "name": "stderr",
     "output_type": "stream",
     "text": [
      "Val Epoch 15: 100%|██████████| 32/32 [00:05<00:00,  5.75it/s, Loss=0.7655, Triplet=0.3815, Acc=0.8929]\n"
     ]
    },
    {
     "name": "stdout",
     "output_type": "stream",
     "text": [
      "val Loss: 1.4480 Acc: 0.8167\n",
      "New best model saved with val_acc: 0.8167\n",
      "\n",
      "Epoch 16/49\n",
      "----------\n"
     ]
    },
    {
     "name": "stderr",
     "output_type": "stream",
     "text": [
      "Train Epoch 16: 100%|██████████| 32/32 [00:06<00:00,  5.12it/s, Loss=0.8803, Triplet=0.0000, Acc=0.9286]\n"
     ]
    },
    {
     "name": "stdout",
     "output_type": "stream",
     "text": [
      "train Loss: 1.0823 (Triplet: 0.2072) Acc: 0.8618\n"
     ]
    },
    {
     "name": "stderr",
     "output_type": "stream",
     "text": [
      "Val Epoch 16: 100%|██████████| 32/32 [00:05<00:00,  5.73it/s, Loss=0.7013, Triplet=0.4057, Acc=0.9286]\n"
     ]
    },
    {
     "name": "stdout",
     "output_type": "stream",
     "text": [
      "val Loss: 1.3449 Acc: 0.8333\n",
      "New best model saved with val_acc: 0.8333\n",
      "\n",
      "Epoch 17/49\n",
      "----------\n"
     ]
    },
    {
     "name": "stderr",
     "output_type": "stream",
     "text": [
      "Train Epoch 17: 100%|██████████| 32/32 [00:06<00:00,  5.29it/s, Loss=0.9526, Triplet=0.0000, Acc=0.9286]\n"
     ]
    },
    {
     "name": "stdout",
     "output_type": "stream",
     "text": [
      "train Loss: 0.9501 (Triplet: 0.2022) Acc: 0.8833\n"
     ]
    },
    {
     "name": "stderr",
     "output_type": "stream",
     "text": [
      "Val Epoch 17: 100%|██████████| 32/32 [00:05<00:00,  5.62it/s, Loss=0.6491, Triplet=0.4001, Acc=0.8929]\n"
     ]
    },
    {
     "name": "stdout",
     "output_type": "stream",
     "text": [
      "val Loss: 1.2583 Acc: 0.8480\n",
      "New best model saved with val_acc: 0.8480\n",
      "\n",
      "Epoch 18/49\n",
      "----------\n"
     ]
    },
    {
     "name": "stderr",
     "output_type": "stream",
     "text": [
      "Train Epoch 18: 100%|██████████| 32/32 [00:05<00:00,  5.88it/s, Loss=0.7925, Triplet=0.0000, Acc=0.8571]\n"
     ]
    },
    {
     "name": "stdout",
     "output_type": "stream",
     "text": [
      "train Loss: 0.9081 (Triplet: 0.2473) Acc: 0.9010\n"
     ]
    },
    {
     "name": "stderr",
     "output_type": "stream",
     "text": [
      "Val Epoch 18: 100%|██████████| 32/32 [00:06<00:00,  5.16it/s, Loss=0.5951, Triplet=0.4534, Acc=0.9643]\n"
     ]
    },
    {
     "name": "stdout",
     "output_type": "stream",
     "text": [
      "val Loss: 1.1940 Acc: 0.8686\n",
      "New best model saved with val_acc: 0.8686\n",
      "\n",
      "Epoch 19/49\n",
      "----------\n"
     ]
    },
    {
     "name": "stderr",
     "output_type": "stream",
     "text": [
      "Train Epoch 19: 100%|██████████| 32/32 [00:05<00:00,  6.13it/s, Loss=0.8564, Triplet=0.4829, Acc=0.9286]\n"
     ]
    },
    {
     "name": "stdout",
     "output_type": "stream",
     "text": [
      "train Loss: 0.8383 (Triplet: 0.1968) Acc: 0.8853\n"
     ]
    },
    {
     "name": "stderr",
     "output_type": "stream",
     "text": [
      "Val Epoch 19: 100%|██████████| 32/32 [00:06<00:00,  4.72it/s, Loss=0.5194, Triplet=0.3764, Acc=0.9643]\n"
     ]
    },
    {
     "name": "stdout",
     "output_type": "stream",
     "text": [
      "val Loss: 1.1217 Acc: 0.8784\n",
      "New best model saved with val_acc: 0.8784\n",
      "\n",
      "Epoch 20/49\n",
      "----------\n"
     ]
    },
    {
     "name": "stderr",
     "output_type": "stream",
     "text": [
      "Train Epoch 20: 100%|██████████| 32/32 [00:05<00:00,  6.22it/s, Loss=0.7091, Triplet=0.0066, Acc=0.9286]\n"
     ]
    },
    {
     "name": "stdout",
     "output_type": "stream",
     "text": [
      "train Loss: 0.7558 (Triplet: 0.2181) Acc: 0.9010\n"
     ]
    },
    {
     "name": "stderr",
     "output_type": "stream",
     "text": [
      "Val Epoch 20: 100%|██████████| 32/32 [00:06<00:00,  4.81it/s, Loss=0.5042, Triplet=0.4359, Acc=0.9643]\n"
     ]
    },
    {
     "name": "stdout",
     "output_type": "stream",
     "text": [
      "val Loss: 1.0587 Acc: 0.8853\n",
      "New best model saved with val_acc: 0.8853\n",
      "\n",
      "Epoch 21/49\n",
      "----------\n"
     ]
    },
    {
     "name": "stderr",
     "output_type": "stream",
     "text": [
      "Train Epoch 21: 100%|██████████| 32/32 [00:05<00:00,  6.22it/s, Loss=0.6470, Triplet=0.0000, Acc=0.9643]\n"
     ]
    },
    {
     "name": "stdout",
     "output_type": "stream",
     "text": [
      "train Loss: 0.7140 (Triplet: 0.1941) Acc: 0.9039\n"
     ]
    },
    {
     "name": "stderr",
     "output_type": "stream",
     "text": [
      "Val Epoch 21: 100%|██████████| 32/32 [00:06<00:00,  4.87it/s, Loss=0.5375, Triplet=0.5023, Acc=0.9643]\n"
     ]
    },
    {
     "name": "stdout",
     "output_type": "stream",
     "text": [
      "val Loss: 1.0292 Acc: 0.8833\n",
      "\n",
      "Epoch 22/49\n",
      "----------\n"
     ]
    },
    {
     "name": "stderr",
     "output_type": "stream",
     "text": [
      "Train Epoch 22: 100%|██████████| 32/32 [00:05<00:00,  6.06it/s, Loss=0.7070, Triplet=0.4282, Acc=0.8929]\n"
     ]
    },
    {
     "name": "stdout",
     "output_type": "stream",
     "text": [
      "train Loss: 0.6392 (Triplet: 0.1903) Acc: 0.9157\n"
     ]
    },
    {
     "name": "stderr",
     "output_type": "stream",
     "text": [
      "Val Epoch 22: 100%|██████████| 32/32 [00:06<00:00,  4.80it/s, Loss=0.4970, Triplet=0.4651, Acc=0.9643]\n"
     ]
    },
    {
     "name": "stdout",
     "output_type": "stream",
     "text": [
      "val Loss: 0.9853 Acc: 0.8941\n",
      "New best model saved with val_acc: 0.8941\n",
      "\n",
      "Epoch 23/49\n",
      "----------\n"
     ]
    },
    {
     "name": "stderr",
     "output_type": "stream",
     "text": [
      "Train Epoch 23: 100%|██████████| 32/32 [00:05<00:00,  6.14it/s, Loss=0.8268, Triplet=0.3415, Acc=0.8214]\n"
     ]
    },
    {
     "name": "stdout",
     "output_type": "stream",
     "text": [
      "train Loss: 0.6203 (Triplet: 0.2261) Acc: 0.9108\n"
     ]
    },
    {
     "name": "stderr",
     "output_type": "stream",
     "text": [
      "Val Epoch 23: 100%|██████████| 32/32 [00:06<00:00,  5.09it/s, Loss=0.4571, Triplet=0.4928, Acc=0.9643]\n"
     ]
    },
    {
     "name": "stdout",
     "output_type": "stream",
     "text": [
      "val Loss: 0.9333 Acc: 0.9000\n",
      "New best model saved with val_acc: 0.9000\n",
      "\n",
      "Epoch 24/49\n",
      "----------\n"
     ]
    },
    {
     "name": "stderr",
     "output_type": "stream",
     "text": [
      "Train Epoch 24: 100%|██████████| 32/32 [00:05<00:00,  6.17it/s, Loss=0.5036, Triplet=0.0000, Acc=0.8929]\n"
     ]
    },
    {
     "name": "stdout",
     "output_type": "stream",
     "text": [
      "train Loss: 0.5744 (Triplet: 0.1442) Acc: 0.9176\n"
     ]
    },
    {
     "name": "stderr",
     "output_type": "stream",
     "text": [
      "Val Epoch 24: 100%|██████████| 32/32 [00:05<00:00,  5.43it/s, Loss=0.4547, Triplet=0.4848, Acc=0.9643]\n"
     ]
    },
    {
     "name": "stdout",
     "output_type": "stream",
     "text": [
      "val Loss: 0.8983 Acc: 0.9059\n",
      "New best model saved with val_acc: 0.9059\n",
      "\n",
      "Epoch 25/49\n",
      "----------\n"
     ]
    },
    {
     "name": "stderr",
     "output_type": "stream",
     "text": [
      "Train Epoch 25: 100%|██████████| 32/32 [00:05<00:00,  5.49it/s, Loss=0.3024, Triplet=0.0000, Acc=0.9643]\n"
     ]
    },
    {
     "name": "stdout",
     "output_type": "stream",
     "text": [
      "train Loss: 0.4909 (Triplet: 0.1302) Acc: 0.9353\n"
     ]
    },
    {
     "name": "stderr",
     "output_type": "stream",
     "text": [
      "Val Epoch 25: 100%|██████████| 32/32 [00:05<00:00,  5.75it/s, Loss=0.4268, Triplet=0.4790, Acc=0.9643]\n"
     ]
    },
    {
     "name": "stdout",
     "output_type": "stream",
     "text": [
      "val Loss: 0.8807 Acc: 0.9069\n",
      "New best model saved with val_acc: 0.9069\n",
      "\n",
      "Epoch 26/49\n",
      "----------\n"
     ]
    },
    {
     "name": "stderr",
     "output_type": "stream",
     "text": [
      "Train Epoch 26: 100%|██████████| 32/32 [00:06<00:00,  5.06it/s, Loss=0.4336, Triplet=0.0313, Acc=1.0000]\n"
     ]
    },
    {
     "name": "stdout",
     "output_type": "stream",
     "text": [
      "train Loss: 0.4924 (Triplet: 0.1967) Acc: 0.9382\n"
     ]
    },
    {
     "name": "stderr",
     "output_type": "stream",
     "text": [
      "Val Epoch 26: 100%|██████████| 32/32 [00:05<00:00,  5.69it/s, Loss=0.3950, Triplet=0.4360, Acc=0.9643]\n"
     ]
    },
    {
     "name": "stdout",
     "output_type": "stream",
     "text": [
      "val Loss: 0.8528 Acc: 0.9069\n",
      "\n",
      "Epoch 27/49\n",
      "----------\n"
     ]
    },
    {
     "name": "stderr",
     "output_type": "stream",
     "text": [
      "Train Epoch 27: 100%|██████████| 32/32 [00:06<00:00,  5.04it/s, Loss=0.5070, Triplet=0.0941, Acc=0.8929]\n"
     ]
    },
    {
     "name": "stdout",
     "output_type": "stream",
     "text": [
      "train Loss: 0.4648 (Triplet: 0.1678) Acc: 0.9402\n"
     ]
    },
    {
     "name": "stderr",
     "output_type": "stream",
     "text": [
      "Val Epoch 27: 100%|██████████| 32/32 [00:05<00:00,  5.84it/s, Loss=0.4120, Triplet=0.4695, Acc=0.9286]\n"
     ]
    },
    {
     "name": "stdout",
     "output_type": "stream",
     "text": [
      "val Loss: 0.8144 Acc: 0.9059\n",
      "\n",
      "Epoch 28/49\n",
      "----------\n"
     ]
    },
    {
     "name": "stderr",
     "output_type": "stream",
     "text": [
      "Train Epoch 28: 100%|██████████| 32/32 [00:06<00:00,  5.12it/s, Loss=0.5001, Triplet=0.2132, Acc=0.8929]\n"
     ]
    },
    {
     "name": "stdout",
     "output_type": "stream",
     "text": [
      "train Loss: 0.4297 (Triplet: 0.2014) Acc: 0.9471\n"
     ]
    },
    {
     "name": "stderr",
     "output_type": "stream",
     "text": [
      "Val Epoch 28: 100%|██████████| 32/32 [00:05<00:00,  5.75it/s, Loss=0.3740, Triplet=0.4400, Acc=0.9643]\n"
     ]
    },
    {
     "name": "stdout",
     "output_type": "stream",
     "text": [
      "val Loss: 0.8018 Acc: 0.9108\n",
      "New best model saved with val_acc: 0.9108\n",
      "\n",
      "Epoch 29/49\n",
      "----------\n"
     ]
    },
    {
     "name": "stderr",
     "output_type": "stream",
     "text": [
      "Train Epoch 29: 100%|██████████| 32/32 [00:05<00:00,  5.40it/s, Loss=0.3517, Triplet=0.0000, Acc=0.9286]\n"
     ]
    },
    {
     "name": "stdout",
     "output_type": "stream",
     "text": [
      "train Loss: 0.4254 (Triplet: 0.1516) Acc: 0.9422\n"
     ]
    },
    {
     "name": "stderr",
     "output_type": "stream",
     "text": [
      "Val Epoch 29: 100%|██████████| 32/32 [00:05<00:00,  5.63it/s, Loss=0.3756, Triplet=0.4790, Acc=0.9643]\n"
     ]
    },
    {
     "name": "stdout",
     "output_type": "stream",
     "text": [
      "val Loss: 0.7894 Acc: 0.9137\n",
      "New best model saved with val_acc: 0.9137\n",
      "\n",
      "Epoch 30/49\n",
      "----------\n"
     ]
    },
    {
     "name": "stderr",
     "output_type": "stream",
     "text": [
      "Train Epoch 30: 100%|██████████| 32/32 [00:05<00:00,  5.83it/s, Loss=0.2453, Triplet=0.0000, Acc=1.0000]\n"
     ]
    },
    {
     "name": "stdout",
     "output_type": "stream",
     "text": [
      "train Loss: 0.3909 (Triplet: 0.1228) Acc: 0.9451\n"
     ]
    },
    {
     "name": "stderr",
     "output_type": "stream",
     "text": [
      "Val Epoch 30: 100%|██████████| 32/32 [00:06<00:00,  5.21it/s, Loss=0.3531, Triplet=0.4854, Acc=0.9643]\n"
     ]
    },
    {
     "name": "stdout",
     "output_type": "stream",
     "text": [
      "val Loss: 0.7819 Acc: 0.9127\n",
      "\n",
      "Epoch 31/49\n",
      "----------\n"
     ]
    },
    {
     "name": "stderr",
     "output_type": "stream",
     "text": [
      "Train Epoch 31: 100%|██████████| 32/32 [00:04<00:00,  6.44it/s, Loss=0.2071, Triplet=0.0000, Acc=1.0000]\n"
     ]
    },
    {
     "name": "stdout",
     "output_type": "stream",
     "text": [
      "train Loss: 0.3769 (Triplet: 0.1142) Acc: 0.9431\n"
     ]
    },
    {
     "name": "stderr",
     "output_type": "stream",
     "text": [
      "Val Epoch 31: 100%|██████████| 32/32 [00:06<00:00,  4.84it/s, Loss=0.3800, Triplet=0.4632, Acc=0.9643]\n"
     ]
    },
    {
     "name": "stdout",
     "output_type": "stream",
     "text": [
      "val Loss: 0.7848 Acc: 0.9088\n",
      "\n",
      "Epoch 32/49\n",
      "----------\n"
     ]
    },
    {
     "name": "stderr",
     "output_type": "stream",
     "text": [
      "Train Epoch 32: 100%|██████████| 32/32 [00:04<00:00,  6.52it/s, Loss=0.4722, Triplet=0.1933, Acc=0.9286]\n"
     ]
    },
    {
     "name": "stdout",
     "output_type": "stream",
     "text": [
      "train Loss: 0.3835 (Triplet: 0.1546) Acc: 0.9392\n"
     ]
    },
    {
     "name": "stderr",
     "output_type": "stream",
     "text": [
      "Val Epoch 32: 100%|██████████| 32/32 [00:06<00:00,  4.79it/s, Loss=0.3464, Triplet=0.4476, Acc=0.9643]\n"
     ]
    },
    {
     "name": "stdout",
     "output_type": "stream",
     "text": [
      "val Loss: 0.7742 Acc: 0.9069\n",
      "\n",
      "Epoch 33/49\n",
      "----------\n"
     ]
    },
    {
     "name": "stderr",
     "output_type": "stream",
     "text": [
      "Train Epoch 33: 100%|██████████| 32/32 [00:04<00:00,  6.42it/s, Loss=0.3955, Triplet=0.0000, Acc=0.8929]\n"
     ]
    },
    {
     "name": "stdout",
     "output_type": "stream",
     "text": [
      "train Loss: 0.3710 (Triplet: 0.1332) Acc: 0.9490\n"
     ]
    },
    {
     "name": "stderr",
     "output_type": "stream",
     "text": [
      "Val Epoch 33: 100%|██████████| 32/32 [00:06<00:00,  4.95it/s, Loss=0.3513, Triplet=0.4368, Acc=0.9643]\n"
     ]
    },
    {
     "name": "stdout",
     "output_type": "stream",
     "text": [
      "val Loss: 0.7703 Acc: 0.9108\n",
      "\n",
      "Epoch 34/49\n",
      "----------\n"
     ]
    },
    {
     "name": "stderr",
     "output_type": "stream",
     "text": [
      "Train Epoch 34: 100%|██████████| 32/32 [00:05<00:00,  6.37it/s, Loss=0.2374, Triplet=0.0000, Acc=0.9286]\n"
     ]
    },
    {
     "name": "stdout",
     "output_type": "stream",
     "text": [
      "train Loss: 0.3718 (Triplet: 0.1381) Acc: 0.9588\n"
     ]
    },
    {
     "name": "stderr",
     "output_type": "stream",
     "text": [
      "Val Epoch 34: 100%|██████████| 32/32 [00:05<00:00,  5.66it/s, Loss=0.3534, Triplet=0.4709, Acc=0.9643]\n"
     ]
    },
    {
     "name": "stdout",
     "output_type": "stream",
     "text": [
      "val Loss: 0.7679 Acc: 0.9147\n",
      "New best model saved with val_acc: 0.9147\n",
      "\n",
      "Epoch 35/49\n",
      "----------\n"
     ]
    },
    {
     "name": "stderr",
     "output_type": "stream",
     "text": [
      "Train Epoch 35: 100%|██████████| 32/32 [00:05<00:00,  5.51it/s, Loss=0.3066, Triplet=0.0796, Acc=1.0000]\n"
     ]
    },
    {
     "name": "stdout",
     "output_type": "stream",
     "text": [
      "train Loss: 0.3468 (Triplet: 0.0930) Acc: 0.9500\n"
     ]
    },
    {
     "name": "stderr",
     "output_type": "stream",
     "text": [
      "Val Epoch 35: 100%|██████████| 32/32 [00:05<00:00,  5.78it/s, Loss=0.3379, Triplet=0.4275, Acc=0.9643]\n"
     ]
    },
    {
     "name": "stdout",
     "output_type": "stream",
     "text": [
      "val Loss: 0.7616 Acc: 0.9108\n",
      "\n",
      "Epoch 36/49\n",
      "----------\n"
     ]
    },
    {
     "name": "stderr",
     "output_type": "stream",
     "text": [
      "Train Epoch 36: 100%|██████████| 32/32 [00:06<00:00,  5.22it/s, Loss=0.3884, Triplet=0.2315, Acc=0.9286]\n"
     ]
    },
    {
     "name": "stdout",
     "output_type": "stream",
     "text": [
      "train Loss: 0.3530 (Triplet: 0.1297) Acc: 0.9559\n"
     ]
    },
    {
     "name": "stderr",
     "output_type": "stream",
     "text": [
      "Val Epoch 36: 100%|██████████| 32/32 [00:05<00:00,  5.83it/s, Loss=0.3328, Triplet=0.4250, Acc=0.9643]\n"
     ]
    },
    {
     "name": "stdout",
     "output_type": "stream",
     "text": [
      "val Loss: 0.7612 Acc: 0.9147\n",
      "\n",
      "Epoch 37/49\n",
      "----------\n"
     ]
    },
    {
     "name": "stderr",
     "output_type": "stream",
     "text": [
      "Train Epoch 37: 100%|██████████| 32/32 [00:06<00:00,  5.30it/s, Loss=0.7400, Triplet=0.7884, Acc=0.8929]\n"
     ]
    },
    {
     "name": "stdout",
     "output_type": "stream",
     "text": [
      "train Loss: 0.3672 (Triplet: 0.1615) Acc: 0.9471\n"
     ]
    },
    {
     "name": "stderr",
     "output_type": "stream",
     "text": [
      "Val Epoch 37: 100%|██████████| 32/32 [00:05<00:00,  5.77it/s, Loss=0.3598, Triplet=0.4737, Acc=0.9643]\n"
     ]
    },
    {
     "name": "stdout",
     "output_type": "stream",
     "text": [
      "val Loss: 0.7692 Acc: 0.9088\n",
      "\n",
      "Epoch 38/49\n",
      "----------\n"
     ]
    },
    {
     "name": "stderr",
     "output_type": "stream",
     "text": [
      "Train Epoch 38: 100%|██████████| 32/32 [00:06<00:00,  5.30it/s, Loss=0.3275, Triplet=0.0606, Acc=0.9643]\n"
     ]
    },
    {
     "name": "stdout",
     "output_type": "stream",
     "text": [
      "train Loss: 0.3841 (Triplet: 0.1613) Acc: 0.9451\n"
     ]
    },
    {
     "name": "stderr",
     "output_type": "stream",
     "text": [
      "Val Epoch 38: 100%|██████████| 32/32 [00:05<00:00,  5.80it/s, Loss=0.3393, Triplet=0.4417, Acc=0.9643]\n"
     ]
    },
    {
     "name": "stdout",
     "output_type": "stream",
     "text": [
      "val Loss: 0.7563 Acc: 0.9147\n",
      "\n",
      "Epoch 39/49\n",
      "----------\n"
     ]
    },
    {
     "name": "stderr",
     "output_type": "stream",
     "text": [
      "Train Epoch 39: 100%|██████████| 32/32 [00:05<00:00,  6.12it/s, Loss=0.3504, Triplet=0.0000, Acc=0.8929]\n"
     ]
    },
    {
     "name": "stdout",
     "output_type": "stream",
     "text": [
      "train Loss: 0.3515 (Triplet: 0.1291) Acc: 0.9480\n"
     ]
    },
    {
     "name": "stderr",
     "output_type": "stream",
     "text": [
      "Val Epoch 39: 100%|██████████| 32/32 [00:06<00:00,  5.21it/s, Loss=0.3625, Triplet=0.4452, Acc=0.9643]\n"
     ]
    },
    {
     "name": "stdout",
     "output_type": "stream",
     "text": [
      "val Loss: 0.7563 Acc: 0.9167\n",
      "New best model saved with val_acc: 0.9167\n",
      "\n",
      "Epoch 40/49\n",
      "----------\n"
     ]
    },
    {
     "name": "stderr",
     "output_type": "stream",
     "text": [
      "Train Epoch 40: 100%|██████████| 32/32 [00:05<00:00,  6.11it/s, Loss=0.2744, Triplet=0.0000, Acc=0.9643]\n"
     ]
    },
    {
     "name": "stdout",
     "output_type": "stream",
     "text": [
      "train Loss: 0.3318 (Triplet: 0.0902) Acc: 0.9569\n"
     ]
    },
    {
     "name": "stderr",
     "output_type": "stream",
     "text": [
      "Val Epoch 40: 100%|██████████| 32/32 [00:06<00:00,  4.57it/s, Loss=0.3367, Triplet=0.4026, Acc=0.9643]\n"
     ]
    },
    {
     "name": "stdout",
     "output_type": "stream",
     "text": [
      "val Loss: 0.7482 Acc: 0.9127\n",
      "\n",
      "Epoch 41/49\n",
      "----------\n"
     ]
    },
    {
     "name": "stderr",
     "output_type": "stream",
     "text": [
      "Train Epoch 41: 100%|██████████| 32/32 [00:05<00:00,  6.12it/s, Loss=0.3723, Triplet=0.0000, Acc=0.9286]\n"
     ]
    },
    {
     "name": "stdout",
     "output_type": "stream",
     "text": [
      "train Loss: 0.3345 (Triplet: 0.0953) Acc: 0.9480\n"
     ]
    },
    {
     "name": "stderr",
     "output_type": "stream",
     "text": [
      "Val Epoch 41: 100%|██████████| 32/32 [00:06<00:00,  4.85it/s, Loss=0.3565, Triplet=0.4360, Acc=0.9643]\n"
     ]
    },
    {
     "name": "stdout",
     "output_type": "stream",
     "text": [
      "val Loss: 0.7475 Acc: 0.9167\n",
      "\n",
      "Epoch 42/49\n",
      "----------\n"
     ]
    },
    {
     "name": "stderr",
     "output_type": "stream",
     "text": [
      "Train Epoch 42: 100%|██████████| 32/32 [00:05<00:00,  6.35it/s, Loss=0.3930, Triplet=0.3833, Acc=0.9643]\n"
     ]
    },
    {
     "name": "stdout",
     "output_type": "stream",
     "text": [
      "train Loss: 0.3524 (Triplet: 0.1345) Acc: 0.9520\n"
     ]
    },
    {
     "name": "stderr",
     "output_type": "stream",
     "text": [
      "Val Epoch 42: 100%|██████████| 32/32 [00:06<00:00,  4.80it/s, Loss=0.3440, Triplet=0.4551, Acc=0.9643]\n"
     ]
    },
    {
     "name": "stdout",
     "output_type": "stream",
     "text": [
      "val Loss: 0.7526 Acc: 0.9118\n",
      "\n",
      "Epoch 43/49\n",
      "----------\n"
     ]
    },
    {
     "name": "stderr",
     "output_type": "stream",
     "text": [
      "Train Epoch 43: 100%|██████████| 32/32 [00:05<00:00,  6.01it/s, Loss=0.3324, Triplet=0.0440, Acc=0.8929]\n"
     ]
    },
    {
     "name": "stdout",
     "output_type": "stream",
     "text": [
      "train Loss: 0.3120 (Triplet: 0.0924) Acc: 0.9618\n"
     ]
    },
    {
     "name": "stderr",
     "output_type": "stream",
     "text": [
      "Val Epoch 43: 100%|██████████| 32/32 [00:06<00:00,  4.82it/s, Loss=0.3560, Triplet=0.4567, Acc=0.9643]\n"
     ]
    },
    {
     "name": "stdout",
     "output_type": "stream",
     "text": [
      "val Loss: 0.7476 Acc: 0.9157\n",
      "\n",
      "Epoch 44/49\n",
      "----------\n"
     ]
    },
    {
     "name": "stderr",
     "output_type": "stream",
     "text": [
      "Train Epoch 44: 100%|██████████| 32/32 [00:05<00:00,  6.22it/s, Loss=0.3074, Triplet=0.1750, Acc=0.9643]\n"
     ]
    },
    {
     "name": "stdout",
     "output_type": "stream",
     "text": [
      "train Loss: 0.3362 (Triplet: 0.1560) Acc: 0.9549\n"
     ]
    },
    {
     "name": "stderr",
     "output_type": "stream",
     "text": [
      "Val Epoch 44: 100%|██████████| 32/32 [00:06<00:00,  5.32it/s, Loss=0.3502, Triplet=0.4431, Acc=0.9643]\n"
     ]
    },
    {
     "name": "stdout",
     "output_type": "stream",
     "text": [
      "val Loss: 0.7506 Acc: 0.9186\n",
      "New best model saved with val_acc: 0.9186\n",
      "\n",
      "Epoch 45/49\n",
      "----------\n"
     ]
    },
    {
     "name": "stderr",
     "output_type": "stream",
     "text": [
      "Train Epoch 45: 100%|██████████| 32/32 [00:05<00:00,  5.74it/s, Loss=0.2217, Triplet=0.0000, Acc=1.0000]\n"
     ]
    },
    {
     "name": "stdout",
     "output_type": "stream",
     "text": [
      "train Loss: 0.3410 (Triplet: 0.1060) Acc: 0.9471\n"
     ]
    },
    {
     "name": "stderr",
     "output_type": "stream",
     "text": [
      "Val Epoch 45: 100%|██████████| 32/32 [00:05<00:00,  5.58it/s, Loss=0.3330, Triplet=0.4207, Acc=0.9643]\n"
     ]
    },
    {
     "name": "stdout",
     "output_type": "stream",
     "text": [
      "val Loss: 0.7454 Acc: 0.9176\n",
      "\n",
      "Epoch 46/49\n",
      "----------\n"
     ]
    },
    {
     "name": "stderr",
     "output_type": "stream",
     "text": [
      "Train Epoch 46: 100%|██████████| 32/32 [00:06<00:00,  5.28it/s, Loss=0.3414, Triplet=0.1192, Acc=0.9643]\n"
     ]
    },
    {
     "name": "stdout",
     "output_type": "stream",
     "text": [
      "train Loss: 0.3262 (Triplet: 0.0945) Acc: 0.9549\n"
     ]
    },
    {
     "name": "stderr",
     "output_type": "stream",
     "text": [
      "Val Epoch 46: 100%|██████████| 32/32 [00:05<00:00,  5.83it/s, Loss=0.3371, Triplet=0.4500, Acc=0.9643]\n"
     ]
    },
    {
     "name": "stdout",
     "output_type": "stream",
     "text": [
      "val Loss: 0.7482 Acc: 0.9167\n",
      "\n",
      "Epoch 47/49\n",
      "----------\n"
     ]
    },
    {
     "name": "stderr",
     "output_type": "stream",
     "text": [
      "Train Epoch 47: 100%|██████████| 32/32 [00:06<00:00,  5.30it/s, Loss=0.3032, Triplet=0.0144, Acc=0.9643]\n"
     ]
    },
    {
     "name": "stdout",
     "output_type": "stream",
     "text": [
      "train Loss: 0.3311 (Triplet: 0.0940) Acc: 0.9451\n"
     ]
    },
    {
     "name": "stderr",
     "output_type": "stream",
     "text": [
      "Val Epoch 47: 100%|██████████| 32/32 [00:05<00:00,  5.75it/s, Loss=0.3387, Triplet=0.4377, Acc=0.9643]\n"
     ]
    },
    {
     "name": "stdout",
     "output_type": "stream",
     "text": [
      "val Loss: 0.7422 Acc: 0.9167\n",
      "\n",
      "Epoch 48/49\n",
      "----------\n"
     ]
    },
    {
     "name": "stderr",
     "output_type": "stream",
     "text": [
      "Train Epoch 48: 100%|██████████| 32/32 [00:05<00:00,  5.34it/s, Loss=0.2946, Triplet=0.0000, Acc=1.0000]\n"
     ]
    },
    {
     "name": "stdout",
     "output_type": "stream",
     "text": [
      "train Loss: 0.3445 (Triplet: 0.1299) Acc: 0.9500\n"
     ]
    },
    {
     "name": "stderr",
     "output_type": "stream",
     "text": [
      "Val Epoch 48: 100%|██████████| 32/32 [00:05<00:00,  5.60it/s, Loss=0.3365, Triplet=0.4485, Acc=0.9643]\n"
     ]
    },
    {
     "name": "stdout",
     "output_type": "stream",
     "text": [
      "val Loss: 0.7484 Acc: 0.9167\n",
      "\n",
      "Epoch 49/49\n",
      "----------\n"
     ]
    },
    {
     "name": "stderr",
     "output_type": "stream",
     "text": [
      "Train Epoch 49: 100%|██████████| 32/32 [00:05<00:00,  6.01it/s, Loss=0.2116, Triplet=0.0000, Acc=0.9643]\n"
     ]
    },
    {
     "name": "stdout",
     "output_type": "stream",
     "text": [
      "train Loss: 0.3601 (Triplet: 0.1345) Acc: 0.9480\n"
     ]
    },
    {
     "name": "stderr",
     "output_type": "stream",
     "text": [
      "Val Epoch 49: 100%|██████████| 32/32 [00:06<00:00,  5.29it/s, Loss=0.3275, Triplet=0.4286, Acc=0.9643]\n"
     ]
    },
    {
     "name": "stdout",
     "output_type": "stream",
     "text": [
      "val Loss: 0.7376 Acc: 0.9176\n",
      "\n",
      "Training complete in 9m 50s\n",
      "Best val Acc: 0.918627\n"
     ]
    },
    {
     "data": {
      "image/png": "[encoded data removed]",
      "text/plain": [
       "<Figure size 1500x500 with 2 Axes>"
      ]
     },
     "metadata": {},
     "output_type": "display_data"
    },
    {
     "data": {
      "image/png": "[encoded data removed]",
      "text/plain": [
       "<Figure size 1000x500 with 1 Axes>"
      ]
     },
     "metadata": {},
     "output_type": "display_data"
    },
    {
     "name": "stdout",
     "output_type": "stream",
     "text": [
      "Evaluating on test set...\n"
     ]
    },
    {
     "name": "stderr",
     "output_type": "stream",
     "text": [
      "100%|██████████| 193/193 [00:34<00:00,  5.59it/s]"
     ]
    },
    {
     "name": "stdout",
     "output_type": "stream",
     "text": [
      "Test Loss: 0.6260\n",
      "Test Accuracy: 0.8858\n",
      "\n",
      "ResNet34 with Triplet Loss - Test Accuracy: 0.8858\n"
     ]
    },
    {
     "name": "stderr",
     "output_type": "stream",
     "text": [
      "\n"
     ]
    }
   ],
   "source": [
    "# Train ResNet-34 with Triplet Loss\n",
    "print(\"\\n\" + \"=\"*70)\n",
    "print(\"TRAINING RESNET-34 WITH TRIPLET LOSS\")\n",
    "print(\"=\"*70)\n",
    "\n",
    "# Create model with triplet loss support\n",
    "model_resnet34_triplet = ResNetWithTripletLoss(base_model='resnet34', num_frozen_stages=3, num_classes=102, embedding_dim=256)\n",
    "model_resnet34_triplet = model_resnet34_triplet.to(device)\n",
    "\n",
    "# Count parameters\n",
    "trainable_params_triplet = sum(p.numel() for p in model_resnet34_triplet.parameters() if p.requires_grad)\n",
    "total_params_triplet = sum(p.numel() for p in model_resnet34_triplet.parameters())\n",
    "print(f\"ResNet34 Triplet - Trainable parameters: {trainable_params_triplet}/{total_params_triplet} ({trainable_params_triplet/total_params_triplet*100:.2f}%)\")\n",
    "\n",
    "# Define loss functions\n",
    "criterion_ce = nn.CrossEntropyLoss()\n",
    "criterion_triplet = TripletLoss(margin=1.0, p=2)\n",
    "\n",
    "# Define optimizer\n",
    "optimizer_34_triplet = optim.SGD(\n",
    "    filter(lambda p: p.requires_grad, model_resnet34_triplet.parameters()),\n",
    "    lr=0.001, momentum=0.9\n",
    ")\n",
    "scheduler_34_triplet = lr_scheduler.StepLR(optimizer_34_triplet, step_size=30, gamma=0.1)\n",
    "\n",
    "# Train model with Triplet Loss\n",
    "model_resnet34_triplet, train_losses_34_triplet, train_accs_34_triplet, val_losses_34_triplet, val_accs_34_triplet, train_triplet_losses_34 = train_model_with_triplet_loss(\n",
    "    model_resnet34_triplet, criterion_ce, criterion_triplet, optimizer_34_triplet, scheduler_34_triplet,\n",
    "    num_epochs, 'resnet34_frozen_triplet', lambda_triplet=0.3\n",
    ")\n",
    "\n",
    "# Plot results\n",
    "plot_training_curves(train_losses_34_triplet, val_losses_34_triplet, train_accs_34_triplet, val_accs_34_triplet, 'ResNet34_Frozen_Triplet')\n",
    "\n",
    "# Plot triplet loss component\n",
    "fig, ax = plt.subplots(1, 1, figsize=(10, 5))\n",
    "ax.plot(train_triplet_losses_34, label='Triplet Loss Component', linewidth=2, color='purple')\n",
    "ax.set_title('Triplet Loss Component Over Training', fontsize=13, fontweight='bold')\n",
    "ax.set_xlabel('Epoch', fontsize=12)\n",
    "ax.set_ylabel('Triplet Loss', fontsize=12)\n",
    "ax.legend(fontsize=11)\n",
    "ax.grid(True, alpha=0.3)\n",
    "plt.tight_layout()\n",
    "plt.savefig('resnet34_frozen_triplet_loss_component.png', dpi=300, bbox_inches='tight')\n",
    "plt.show()\n",
    "\n",
    "# Evaluate on test set - Wrapper to handle tuple output from ResNetWithTripletLoss\n",
    "was_training = model_resnet34_triplet.training\n",
    "model_resnet34_triplet.eval()\n",
    "\n",
    "test_loss_34_triplet = 0.0\n",
    "correct = 0\n",
    "all_preds_34_triplet = []\n",
    "all_labels_34_triplet = []\n",
    "\n",
    "print(\"Evaluating on test set...\")\n",
    "with torch.no_grad():\n",
    "    for inputs, labels in tqdm(dataloaders['test']):\n",
    "        inputs = inputs.to(device)\n",
    "        labels = labels.to(device)\n",
    "\n",
    "        embeddings, logits = model_resnet34_triplet(inputs)  # Get both embeddings and logits\n",
    "        _, preds = torch.max(logits, 1)\n",
    "\n",
    "        test_loss_34_triplet += criterion_ce(logits, labels).item() * inputs.size(0)\n",
    "        correct += torch.sum(preds == labels.data)\n",
    "\n",
    "        all_preds_34_triplet.extend(preds.cpu().numpy())\n",
    "        all_labels_34_triplet.extend(labels.cpu().numpy())\n",
    "\n",
    "test_loss_34_triplet /= dataset_sizes['test']\n",
    "test_acc_34_triplet = correct.double() / dataset_sizes['test']\n",
    "\n",
    "print(f'Test Loss: {test_loss_34_triplet:.4f}')\n",
    "print(f'Test Accuracy: {test_acc_34_triplet:.4f}')\n",
    "\n",
    "model_resnet34_triplet.train(mode=was_training)\n",
    "\n",
    "# Save training logs\n",
    "with open('resnet34_frozen_triplet.txt', 'w') as f:\n",
    "    f.write(\"Epoch,Train_Loss,Val_Loss,Train_Acc,Val_Acc,Train_Triplet_Loss\\n\")\n",
    "    for epoch in range(len(train_losses_34_triplet)):\n",
    "        f.write(f\"{epoch+1},{train_losses_34_triplet[epoch]:.4f},{val_losses_34_triplet[epoch]:.4f},{train_accs_34_triplet[epoch]:.4f},{val_accs_34_triplet[epoch]:.4f},{train_triplet_losses_34[epoch]:.4f}\\n\")\n",
    "\n",
    "print(f\"\\nResNet34 with Triplet Loss - Test Accuracy: {test_acc_34_triplet:.4f}\")\n",
    "\n",
    "\n"
   ]
  },
  {
   "cell_type": "code",
   "execution_count": 21,
   "id": "2UKuEyYR5cua",
   "metadata": {
    "colab": {
     "base_uri": "https://localhost:8080/"
    },
    "executionInfo": {
     "elapsed": 12,
     "status": "ok",
     "timestamp": 1761841557328,
     "user": {
      "displayName": "Fact Frenzy NBA",
      "userId": "02617294725587601640"
     },
     "user_tz": -480
    },
    "id": "2UKuEyYR5cua",
    "outputId": "99cfb7ea-4fd5-44dc-d9c2-acd3533df4a8"
   },
   "outputs": [
    {
     "name": "stdout",
     "output_type": "stream",
     "text": [
      "\n",
      "======================================================================\n",
      "COMPARISON: Baseline vs MixUp vs Triplet Loss\n",
      "======================================================================\n",
      "Method                                   Test Accuracy       \n",
      "----------------------------------------------------------------------\n",
      "ResNet34 Frozen + MixUp                  0.8969\n",
      "ResNet34 Frozen + Triplet Loss           0.8858\n",
      "======================================================================\n"
     ]
    }
   ],
   "source": [
    "# Comparison of all methods\n",
    "print(\"\\n\" + \"=\"*70)\n",
    "print(\"COMPARISON: Baseline vs MixUp vs Triplet Loss\")\n",
    "print(\"=\"*70)\n",
    "print(f\"{'Method':<40} {'Test Accuracy':<20}\")\n",
    "print(\"-\"*70)\n",
    "#print(f\"{'ResNet34 Frozen (Baseline)':<40} {test_acc_34:.4f}\")\n",
    "print(f\"{'ResNet34 Frozen + MixUp':<40} {test_acc_34_mixup:.4f}\")\n",
    "print(f\"{'ResNet34 Frozen + Triplet Loss':<40} {test_acc_34_triplet:.4f}\")\n",
    "print(\"=\"*70)"
   ]
  },
  {
   "cell_type": "markdown",
   "id": "6VB3FuNv5dNt",
   "metadata": {
    "id": "6VB3FuNv5dNt"
   },
   "source": [
    "old"
   ]
  },
  {
   "cell_type": "code",
   "execution_count": 15,
   "id": "49b669d5",
   "metadata": {
    "colab": {
     "base_uri": "https://localhost:8080/",
     "height": 1000
    },
    "executionInfo": {
     "elapsed": 595533,
     "status": "error",
     "timestamp": 1761840208463,
     "user": {
      "displayName": "Fact Frenzy NBA",
      "userId": "02617294725587601640"
     },
     "user_tz": -480
    },
    "id": "49b669d5",
    "outputId": "d39ba470-c09f-4081-f3a2-a164fe3149e9"
   },
   "outputs": [
    {
     "name": "stdout",
     "output_type": "stream",
     "text": [
      "\n",
      "======================================================================\n",
      "TRAINING RESNET-34 WITH TRIPLET LOSS\n",
      "======================================================================\n",
      "ResNet34 Triplet - Trainable parameters: 20094310/21442214 (93.71%)\n",
      "Epoch 0/49\n",
      "----------\n"
     ]
    },
    {
     "name": "stderr",
     "output_type": "stream",
     "text": [
      "Train Epoch 0: 100%|██████████| 32/32 [00:05<00:00,  5.73it/s, Loss=3.4305, Triplet=0.6556, Acc=0.0000]\n"
     ]
    },
    {
     "name": "stdout",
     "output_type": "stream",
     "text": [
      "train Loss: 3.3691 (Triplet: 0.3512) Acc: 0.0147\n"
     ]
    },
    {
     "name": "stderr",
     "output_type": "stream",
     "text": [
      "Val Epoch 0: 100%|██████████| 32/32 [00:06<00:00,  5.28it/s, Loss=3.7495, Triplet=2.2827, Acc=0.0357]\n"
     ]
    },
    {
     "name": "stdout",
     "output_type": "stream",
     "text": [
      "val Loss: 3.8194 Acc: 0.0176\n",
      "New best model saved with val_acc: 0.0176\n",
      "\n",
      "Epoch 1/49\n",
      "----------\n"
     ]
    },
    {
     "name": "stderr",
     "output_type": "stream",
     "text": [
      "Train Epoch 1: 100%|██████████| 32/32 [00:05<00:00,  6.26it/s, Loss=3.1817, Triplet=0.0174, Acc=0.0357]\n"
     ]
    },
    {
     "name": "stdout",
     "output_type": "stream",
     "text": [
      "train Loss: 3.2690 (Triplet: 0.4161) Acc: 0.0382\n"
     ]
    },
    {
     "name": "stderr",
     "output_type": "stream",
     "text": [
      "Val Epoch 1: 100%|██████████| 32/32 [00:06<00:00,  4.77it/s, Loss=3.5890, Triplet=2.0534, Acc=0.0714]\n"
     ]
    },
    {
     "name": "stdout",
     "output_type": "stream",
     "text": [
      "val Loss: 3.6631 Acc: 0.0696\n",
      "New best model saved with val_acc: 0.0696\n",
      "\n",
      "Epoch 2/49\n",
      "----------\n"
     ]
    },
    {
     "name": "stderr",
     "output_type": "stream",
     "text": [
      "Train Epoch 2: 100%|██████████| 32/32 [00:05<00:00,  6.40it/s, Loss=3.0232, Triplet=0.0601, Acc=0.1071]\n"
     ]
    },
    {
     "name": "stdout",
     "output_type": "stream",
     "text": [
      "train Loss: 3.1117 (Triplet: 0.2997) Acc: 0.1127\n"
     ]
    },
    {
     "name": "stderr",
     "output_type": "stream",
     "text": [
      "Val Epoch 2: 100%|██████████| 32/32 [00:06<00:00,  4.77it/s, Loss=3.3845, Triplet=1.8305, Acc=0.3929]\n"
     ]
    },
    {
     "name": "stdout",
     "output_type": "stream",
     "text": [
      "val Loss: 3.4943 Acc: 0.2127\n",
      "New best model saved with val_acc: 0.2127\n",
      "\n",
      "Epoch 3/49\n",
      "----------\n"
     ]
    },
    {
     "name": "stderr",
     "output_type": "stream",
     "text": [
      "Train Epoch 3: 100%|██████████| 32/32 [00:05<00:00,  6.36it/s, Loss=3.1217, Triplet=0.5764, Acc=0.2500]\n"
     ]
    },
    {
     "name": "stdout",
     "output_type": "stream",
     "text": [
      "train Loss: 2.9885 (Triplet: 0.3093) Acc: 0.2490\n"
     ]
    },
    {
     "name": "stderr",
     "output_type": "stream",
     "text": [
      "Val Epoch 3: 100%|██████████| 32/32 [00:06<00:00,  4.70it/s, Loss=3.1821, Triplet=1.5378, Acc=0.3571]\n"
     ]
    },
    {
     "name": "stdout",
     "output_type": "stream",
     "text": [
      "val Loss: 3.3018 Acc: 0.3588\n",
      "New best model saved with val_acc: 0.3588\n",
      "\n",
      "Epoch 4/49\n",
      "----------\n"
     ]
    },
    {
     "name": "stderr",
     "output_type": "stream",
     "text": [
      "Train Epoch 4: 100%|██████████| 32/32 [00:05<00:00,  6.21it/s, Loss=2.7942, Triplet=0.3437, Acc=0.3929]\n"
     ]
    },
    {
     "name": "stdout",
     "output_type": "stream",
     "text": [
      "train Loss: 2.8403 (Triplet: 0.3024) Acc: 0.3647\n"
     ]
    },
    {
     "name": "stderr",
     "output_type": "stream",
     "text": [
      "Val Epoch 4: 100%|██████████| 32/32 [00:06<00:00,  4.82it/s, Loss=2.9436, Triplet=1.2823, Acc=0.3929]\n"
     ]
    },
    {
     "name": "stdout",
     "output_type": "stream",
     "text": [
      "val Loss: 3.1066 Acc: 0.4412\n",
      "New best model saved with val_acc: 0.4412\n",
      "\n",
      "Epoch 5/49\n",
      "----------\n"
     ]
    },
    {
     "name": "stderr",
     "output_type": "stream",
     "text": [
      "Train Epoch 5: 100%|██████████| 32/32 [00:05<00:00,  6.38it/s, Loss=2.7397, Triplet=0.4576, Acc=0.4643]\n"
     ]
    },
    {
     "name": "stdout",
     "output_type": "stream",
     "text": [
      "train Loss: 2.6922 (Triplet: 0.3546) Acc: 0.4745\n"
     ]
    },
    {
     "name": "stderr",
     "output_type": "stream",
     "text": [
      "Val Epoch 5: 100%|██████████| 32/32 [00:06<00:00,  4.95it/s, Loss=2.7150, Triplet=1.2143, Acc=0.5714]\n"
     ]
    },
    {
     "name": "stdout",
     "output_type": "stream",
     "text": [
      "val Loss: 2.9118 Acc: 0.5275\n",
      "New best model saved with val_acc: 0.5275\n",
      "\n",
      "Epoch 6/49\n",
      "----------\n"
     ]
    },
    {
     "name": "stderr",
     "output_type": "stream",
     "text": [
      "Train Epoch 6: 100%|██████████| 32/32 [00:05<00:00,  6.04it/s, Loss=2.5440, Triplet=0.2762, Acc=0.4286]\n"
     ]
    },
    {
     "name": "stdout",
     "output_type": "stream",
     "text": [
      "train Loss: 2.5208 (Triplet: 0.2922) Acc: 0.5304\n"
     ]
    },
    {
     "name": "stderr",
     "output_type": "stream",
     "text": [
      "Val Epoch 6: 100%|██████████| 32/32 [00:06<00:00,  5.22it/s, Loss=2.4562, Triplet=1.0760, Acc=0.6786]\n"
     ]
    },
    {
     "name": "stdout",
     "output_type": "stream",
     "text": [
      "val Loss: 2.7168 Acc: 0.5667\n",
      "New best model saved with val_acc: 0.5667\n",
      "\n",
      "Epoch 7/49\n",
      "----------\n"
     ]
    },
    {
     "name": "stderr",
     "output_type": "stream",
     "text": [
      "Train Epoch 7: 100%|██████████| 32/32 [00:05<00:00,  5.80it/s, Loss=2.0198, Triplet=0.0423, Acc=0.7500]\n"
     ]
    },
    {
     "name": "stdout",
     "output_type": "stream",
     "text": [
      "train Loss: 2.3093 (Triplet: 0.2428) Acc: 0.6167\n"
     ]
    },
    {
     "name": "stderr",
     "output_type": "stream",
     "text": [
      "Val Epoch 7: 100%|██████████| 32/32 [00:05<00:00,  5.62it/s, Loss=2.1321, Triplet=0.8448, Acc=0.7857]\n"
     ]
    },
    {
     "name": "stdout",
     "output_type": "stream",
     "text": [
      "val Loss: 2.5286 Acc: 0.6333\n",
      "New best model saved with val_acc: 0.6333\n",
      "\n",
      "Epoch 8/49\n",
      "----------\n"
     ]
    },
    {
     "name": "stderr",
     "output_type": "stream",
     "text": [
      "Train Epoch 8: 100%|██████████| 32/32 [00:06<00:00,  5.17it/s, Loss=2.1380, Triplet=0.7507, Acc=0.7143]\n"
     ]
    },
    {
     "name": "stdout",
     "output_type": "stream",
     "text": [
      "train Loss: 2.1567 (Triplet: 0.2757) Acc: 0.6422\n"
     ]
    },
    {
     "name": "stderr",
     "output_type": "stream",
     "text": [
      "Val Epoch 8: 100%|██████████| 32/32 [00:05<00:00,  5.52it/s, Loss=1.8906, Triplet=0.8187, Acc=0.8214]\n"
     ]
    },
    {
     "name": "stdout",
     "output_type": "stream",
     "text": [
      "val Loss: 2.3681 Acc: 0.6578\n",
      "New best model saved with val_acc: 0.6578\n",
      "\n",
      "Epoch 9/49\n",
      "----------\n"
     ]
    },
    {
     "name": "stderr",
     "output_type": "stream",
     "text": [
      "Train Epoch 9: 100%|██████████| 32/32 [00:06<00:00,  5.10it/s, Loss=2.0661, Triplet=0.4187, Acc=0.6786]\n"
     ]
    },
    {
     "name": "stdout",
     "output_type": "stream",
     "text": [
      "train Loss: 1.9837 (Triplet: 0.2601) Acc: 0.6804\n"
     ]
    },
    {
     "name": "stderr",
     "output_type": "stream",
     "text": [
      "Val Epoch 9: 100%|██████████| 32/32 [00:05<00:00,  5.66it/s, Loss=1.6860, Triplet=0.7886, Acc=0.8571]\n"
     ]
    },
    {
     "name": "stdout",
     "output_type": "stream",
     "text": [
      "val Loss: 2.1945 Acc: 0.6902\n",
      "New best model saved with val_acc: 0.6902\n",
      "\n",
      "Epoch 10/49\n",
      "----------\n"
     ]
    },
    {
     "name": "stderr",
     "output_type": "stream",
     "text": [
      "Train Epoch 10: 100%|██████████| 32/32 [00:06<00:00,  5.02it/s, Loss=1.8626, Triplet=0.1515, Acc=0.7143]\n"
     ]
    },
    {
     "name": "stdout",
     "output_type": "stream",
     "text": [
      "train Loss: 1.8462 (Triplet: 0.2839) Acc: 0.7010\n"
     ]
    },
    {
     "name": "stderr",
     "output_type": "stream",
     "text": [
      "Val Epoch 10: 100%|██████████| 32/32 [00:05<00:00,  5.66it/s, Loss=1.4979, Triplet=0.7841, Acc=0.8571]\n"
     ]
    },
    {
     "name": "stdout",
     "output_type": "stream",
     "text": [
      "val Loss: 2.0416 Acc: 0.7186\n",
      "New best model saved with val_acc: 0.7186\n",
      "\n",
      "Epoch 11/49\n",
      "----------\n"
     ]
    },
    {
     "name": "stderr",
     "output_type": "stream",
     "text": [
      "Train Epoch 11: 100%|██████████| 32/32 [00:06<00:00,  4.99it/s, Loss=1.2577, Triplet=0.0000, Acc=0.9643]\n"
     ]
    },
    {
     "name": "stdout",
     "output_type": "stream",
     "text": [
      "train Loss: 1.7073 (Triplet: 0.3228) Acc: 0.7549\n"
     ]
    },
    {
     "name": "stderr",
     "output_type": "stream",
     "text": [
      "Val Epoch 11: 100%|██████████| 32/32 [00:05<00:00,  5.74it/s, Loss=1.2689, Triplet=0.6911, Acc=0.8571]\n"
     ]
    },
    {
     "name": "stdout",
     "output_type": "stream",
     "text": [
      "val Loss: 1.9001 Acc: 0.7441\n",
      "New best model saved with val_acc: 0.7441\n",
      "\n",
      "Epoch 12/49\n",
      "----------\n"
     ]
    },
    {
     "name": "stderr",
     "output_type": "stream",
     "text": [
      "Train Epoch 12: 100%|██████████| 32/32 [00:05<00:00,  5.37it/s, Loss=1.4516, Triplet=0.0242, Acc=0.7500]\n"
     ]
    },
    {
     "name": "stdout",
     "output_type": "stream",
     "text": [
      "train Loss: 1.5353 (Triplet: 0.2358) Acc: 0.7882\n"
     ]
    },
    {
     "name": "stderr",
     "output_type": "stream",
     "text": [
      "Val Epoch 12: 100%|██████████| 32/32 [00:05<00:00,  5.48it/s, Loss=1.1956, Triplet=0.7265, Acc=0.8571]\n"
     ]
    },
    {
     "name": "stdout",
     "output_type": "stream",
     "text": [
      "val Loss: 1.7688 Acc: 0.7578\n",
      "New best model saved with val_acc: 0.7578\n",
      "\n",
      "Epoch 13/49\n",
      "----------\n"
     ]
    },
    {
     "name": "stderr",
     "output_type": "stream",
     "text": [
      "Train Epoch 13: 100%|██████████| 32/32 [00:05<00:00,  5.66it/s, Loss=1.5706, Triplet=0.6959, Acc=0.7857]\n"
     ]
    },
    {
     "name": "stdout",
     "output_type": "stream",
     "text": [
      "train Loss: 1.4233 (Triplet: 0.2616) Acc: 0.7873\n"
     ]
    },
    {
     "name": "stderr",
     "output_type": "stream",
     "text": [
      "Val Epoch 13: 100%|██████████| 32/32 [00:06<00:00,  5.21it/s, Loss=1.0454, Triplet=0.6183, Acc=0.8571]\n"
     ]
    },
    {
     "name": "stdout",
     "output_type": "stream",
     "text": [
      "val Loss: 1.6468 Acc: 0.7873\n",
      "New best model saved with val_acc: 0.7873\n",
      "\n",
      "Epoch 14/49\n",
      "----------\n"
     ]
    },
    {
     "name": "stderr",
     "output_type": "stream",
     "text": [
      "Train Epoch 14: 100%|██████████| 32/32 [00:05<00:00,  5.83it/s, Loss=1.4406, Triplet=0.0081, Acc=0.7143]\n"
     ]
    },
    {
     "name": "stdout",
     "output_type": "stream",
     "text": [
      "train Loss: 1.2962 (Triplet: 0.2721) Acc: 0.8196\n"
     ]
    },
    {
     "name": "stderr",
     "output_type": "stream",
     "text": [
      "Val Epoch 14: 100%|██████████| 32/32 [00:06<00:00,  4.84it/s, Loss=0.9488, Triplet=0.5692, Acc=0.8571]\n"
     ]
    },
    {
     "name": "stdout",
     "output_type": "stream",
     "text": [
      "val Loss: 1.5378 Acc: 0.8078\n",
      "New best model saved with val_acc: 0.8078\n",
      "\n",
      "Epoch 15/49\n",
      "----------\n"
     ]
    },
    {
     "name": "stderr",
     "output_type": "stream",
     "text": [
      "Train Epoch 15: 100%|██████████| 32/32 [00:05<00:00,  6.15it/s, Loss=1.1000, Triplet=0.1077, Acc=0.8214]\n"
     ]
    },
    {
     "name": "stdout",
     "output_type": "stream",
     "text": [
      "train Loss: 1.1631 (Triplet: 0.2592) Acc: 0.8471\n"
     ]
    },
    {
     "name": "stderr",
     "output_type": "stream",
     "text": [
      "Val Epoch 15: 100%|██████████| 32/32 [00:06<00:00,  4.64it/s, Loss=0.9126, Triplet=0.4828, Acc=0.8571]\n"
     ]
    },
    {
     "name": "stdout",
     "output_type": "stream",
     "text": [
      "val Loss: 1.4351 Acc: 0.8176\n",
      "New best model saved with val_acc: 0.8176\n",
      "\n",
      "Epoch 16/49\n",
      "----------\n"
     ]
    },
    {
     "name": "stderr",
     "output_type": "stream",
     "text": [
      "Train Epoch 16: 100%|██████████| 32/32 [00:05<00:00,  6.18it/s, Loss=1.3997, Triplet=0.7143, Acc=0.8214]\n"
     ]
    },
    {
     "name": "stdout",
     "output_type": "stream",
     "text": [
      "train Loss: 1.0821 (Triplet: 0.2347) Acc: 0.8637\n"
     ]
    },
    {
     "name": "stderr",
     "output_type": "stream",
     "text": [
      "Val Epoch 16: 100%|██████████| 32/32 [00:07<00:00,  4.54it/s, Loss=0.7747, Triplet=0.4810, Acc=0.8571]\n"
     ]
    },
    {
     "name": "stdout",
     "output_type": "stream",
     "text": [
      "val Loss: 1.3348 Acc: 0.8304\n",
      "New best model saved with val_acc: 0.8304\n",
      "\n",
      "Epoch 17/49\n",
      "----------\n"
     ]
    },
    {
     "name": "stderr",
     "output_type": "stream",
     "text": [
      "Train Epoch 17: 100%|██████████| 32/32 [00:05<00:00,  6.19it/s, Loss=0.9541, Triplet=0.0000, Acc=0.8929]\n"
     ]
    },
    {
     "name": "stdout",
     "output_type": "stream",
     "text": [
      "train Loss: 0.9827 (Triplet: 0.2360) Acc: 0.8755\n"
     ]
    },
    {
     "name": "stderr",
     "output_type": "stream",
     "text": [
      "Val Epoch 17: 100%|██████████| 32/32 [00:06<00:00,  4.71it/s, Loss=0.7393, Triplet=0.5259, Acc=0.8571]\n"
     ]
    },
    {
     "name": "stdout",
     "output_type": "stream",
     "text": [
      "val Loss: 1.2482 Acc: 0.8510\n",
      "New best model saved with val_acc: 0.8510\n",
      "\n",
      "Epoch 18/49\n",
      "----------\n"
     ]
    },
    {
     "name": "stderr",
     "output_type": "stream",
     "text": [
      "Train Epoch 18: 100%|██████████| 32/32 [00:05<00:00,  5.88it/s, Loss=0.8729, Triplet=0.0000, Acc=0.8929]\n"
     ]
    },
    {
     "name": "stdout",
     "output_type": "stream",
     "text": [
      "train Loss: 0.9323 (Triplet: 0.2984) Acc: 0.8853\n"
     ]
    },
    {
     "name": "stderr",
     "output_type": "stream",
     "text": [
      "Val Epoch 18: 100%|██████████| 32/32 [00:06<00:00,  4.68it/s, Loss=0.6884, Triplet=0.4587, Acc=0.8929]\n"
     ]
    },
    {
     "name": "stdout",
     "output_type": "stream",
     "text": [
      "val Loss: 1.1711 Acc: 0.8598\n",
      "New best model saved with val_acc: 0.8598\n",
      "\n",
      "Epoch 19/49\n",
      "----------\n"
     ]
    },
    {
     "name": "stderr",
     "output_type": "stream",
     "text": [
      "Train Epoch 19: 100%|██████████| 32/32 [00:05<00:00,  5.97it/s, Loss=0.6435, Triplet=0.0000, Acc=0.9643]\n"
     ]
    },
    {
     "name": "stdout",
     "output_type": "stream",
     "text": [
      "train Loss: 0.8376 (Triplet: 0.2111) Acc: 0.8882\n"
     ]
    },
    {
     "name": "stderr",
     "output_type": "stream",
     "text": [
      "Val Epoch 19: 100%|██████████| 32/32 [00:06<00:00,  4.78it/s, Loss=0.7028, Triplet=0.5093, Acc=0.9286]\n"
     ]
    },
    {
     "name": "stdout",
     "output_type": "stream",
     "text": [
      "val Loss: 1.0942 Acc: 0.8686\n",
      "New best model saved with val_acc: 0.8686\n",
      "\n",
      "Epoch 20/49\n",
      "----------\n"
     ]
    },
    {
     "name": "stderr",
     "output_type": "stream",
     "text": [
      "Train Epoch 20: 100%|██████████| 32/32 [00:05<00:00,  6.15it/s, Loss=0.8221, Triplet=0.2392, Acc=0.9286]\n"
     ]
    },
    {
     "name": "stdout",
     "output_type": "stream",
     "text": [
      "train Loss: 0.7539 (Triplet: 0.1818) Acc: 0.9020\n"
     ]
    },
    {
     "name": "stderr",
     "output_type": "stream",
     "text": [
      "Val Epoch 20: 100%|██████████| 32/32 [00:06<00:00,  4.81it/s, Loss=0.6635, Triplet=0.4300, Acc=0.9286]\n"
     ]
    },
    {
     "name": "stdout",
     "output_type": "stream",
     "text": [
      "val Loss: 1.0513 Acc: 0.8647\n",
      "\n",
      "Epoch 21/49\n",
      "----------\n"
     ]
    },
    {
     "name": "stderr",
     "output_type": "stream",
     "text": [
      "Train Epoch 21: 100%|██████████| 32/32 [00:05<00:00,  6.12it/s, Loss=0.7107, Triplet=0.1870, Acc=0.8214]\n"
     ]
    },
    {
     "name": "stdout",
     "output_type": "stream",
     "text": [
      "train Loss: 0.6991 (Triplet: 0.1901) Acc: 0.9196\n"
     ]
    },
    {
     "name": "stderr",
     "output_type": "stream",
     "text": [
      "Val Epoch 21: 100%|██████████| 32/32 [00:06<00:00,  5.03it/s, Loss=0.6502, Triplet=0.5258, Acc=0.9286]\n"
     ]
    },
    {
     "name": "stdout",
     "output_type": "stream",
     "text": [
      "val Loss: 0.9985 Acc: 0.8775\n",
      "New best model saved with val_acc: 0.8775\n",
      "\n",
      "Epoch 22/49\n",
      "----------\n"
     ]
    },
    {
     "name": "stderr",
     "output_type": "stream",
     "text": [
      "Train Epoch 22: 100%|██████████| 32/32 [00:05<00:00,  5.83it/s, Loss=0.5785, Triplet=0.1623, Acc=0.8929]\n"
     ]
    },
    {
     "name": "stdout",
     "output_type": "stream",
     "text": [
      "train Loss: 0.6576 (Triplet: 0.2231) Acc: 0.9127\n"
     ]
    },
    {
     "name": "stderr",
     "output_type": "stream",
     "text": [
      "Val Epoch 22: 100%|██████████| 32/32 [00:05<00:00,  5.60it/s, Loss=0.5349, Triplet=0.3850, Acc=0.9643]\n"
     ]
    },
    {
     "name": "stdout",
     "output_type": "stream",
     "text": [
      "val Loss: 0.9462 Acc: 0.8902\n",
      "New best model saved with val_acc: 0.8902\n",
      "\n",
      "Epoch 23/49\n",
      "----------\n"
     ]
    },
    {
     "name": "stderr",
     "output_type": "stream",
     "text": [
      "Train Epoch 23: 100%|██████████| 32/32 [00:06<00:00,  5.22it/s, Loss=0.4637, Triplet=0.0199, Acc=1.0000]\n"
     ]
    },
    {
     "name": "stdout",
     "output_type": "stream",
     "text": [
      "train Loss: 0.6129 (Triplet: 0.1955) Acc: 0.9147\n"
     ]
    },
    {
     "name": "stderr",
     "output_type": "stream",
     "text": [
      "Val Epoch 23: 100%|██████████| 32/32 [00:05<00:00,  5.53it/s, Loss=0.5311, Triplet=0.3729, Acc=1.0000]\n"
     ]
    },
    {
     "name": "stdout",
     "output_type": "stream",
     "text": [
      "val Loss: 0.9165 Acc: 0.8951\n",
      "New best model saved with val_acc: 0.8951\n",
      "\n",
      "Epoch 24/49\n",
      "----------\n"
     ]
    },
    {
     "name": "stderr",
     "output_type": "stream",
     "text": [
      "Train Epoch 24: 100%|██████████| 32/32 [00:06<00:00,  4.85it/s, Loss=0.3310, Triplet=0.0000, Acc=0.9643]\n"
     ]
    },
    {
     "name": "stdout",
     "output_type": "stream",
     "text": [
      "train Loss: 0.5507 (Triplet: 0.1650) Acc: 0.9275\n"
     ]
    },
    {
     "name": "stderr",
     "output_type": "stream",
     "text": [
      "Val Epoch 24: 100%|██████████| 32/32 [00:05<00:00,  5.60it/s, Loss=0.4894, Triplet=0.3972, Acc=0.9643]\n"
     ]
    },
    {
     "name": "stdout",
     "output_type": "stream",
     "text": [
      "val Loss: 0.8837 Acc: 0.8951\n",
      "\n",
      "Epoch 25/49\n",
      "----------\n"
     ]
    },
    {
     "name": "stderr",
     "output_type": "stream",
     "text": [
      "Train Epoch 25: 100%|██████████| 32/32 [00:06<00:00,  5.02it/s, Loss=0.3784, Triplet=0.0556, Acc=0.9643]\n"
     ]
    },
    {
     "name": "stdout",
     "output_type": "stream",
     "text": [
      "train Loss: 0.5223 (Triplet: 0.1415) Acc: 0.9235\n"
     ]
    },
    {
     "name": "stderr",
     "output_type": "stream",
     "text": [
      "Val Epoch 25: 100%|██████████| 32/32 [00:05<00:00,  5.55it/s, Loss=0.4876, Triplet=0.3629, Acc=0.9286]\n"
     ]
    },
    {
     "name": "stdout",
     "output_type": "stream",
     "text": [
      "val Loss: 0.8396 Acc: 0.9039\n",
      "New best model saved with val_acc: 0.9039\n",
      "\n",
      "Epoch 26/49\n",
      "----------\n"
     ]
    },
    {
     "name": "stderr",
     "output_type": "stream",
     "text": [
      "Train Epoch 26: 100%|██████████| 32/32 [00:06<00:00,  5.00it/s, Loss=0.3178, Triplet=0.0000, Acc=0.9643]\n"
     ]
    },
    {
     "name": "stdout",
     "output_type": "stream",
     "text": [
      "train Loss: 0.5005 (Triplet: 0.1578) Acc: 0.9225\n"
     ]
    },
    {
     "name": "stderr",
     "output_type": "stream",
     "text": [
      "Val Epoch 26: 100%|██████████| 32/32 [00:05<00:00,  5.48it/s, Loss=0.4499, Triplet=0.3777, Acc=1.0000]\n"
     ]
    },
    {
     "name": "stdout",
     "output_type": "stream",
     "text": [
      "val Loss: 0.8204 Acc: 0.9000\n",
      "\n",
      "Epoch 27/49\n",
      "----------\n"
     ]
    },
    {
     "name": "stderr",
     "output_type": "stream",
     "text": [
      "Train Epoch 27: 100%|██████████| 32/32 [00:06<00:00,  5.20it/s, Loss=0.5044, Triplet=0.0068, Acc=0.9286]\n"
     ]
    },
    {
     "name": "stdout",
     "output_type": "stream",
     "text": [
      "train Loss: 0.4952 (Triplet: 0.1701) Acc: 0.9245\n"
     ]
    },
    {
     "name": "stderr",
     "output_type": "stream",
     "text": [
      "Val Epoch 27: 100%|██████████| 32/32 [00:05<00:00,  5.69it/s, Loss=0.4198, Triplet=0.2841, Acc=1.0000]\n"
     ]
    },
    {
     "name": "stdout",
     "output_type": "stream",
     "text": [
      "val Loss: 0.7951 Acc: 0.9059\n",
      "New best model saved with val_acc: 0.9059\n",
      "\n",
      "Epoch 28/49\n",
      "----------\n"
     ]
    },
    {
     "name": "stderr",
     "output_type": "stream",
     "text": [
      "Train Epoch 28: 100%|██████████| 32/32 [00:05<00:00,  5.79it/s, Loss=0.2622, Triplet=0.0000, Acc=1.0000]\n"
     ]
    },
    {
     "name": "stdout",
     "output_type": "stream",
     "text": [
      "train Loss: 0.4521 (Triplet: 0.1749) Acc: 0.9412\n"
     ]
    },
    {
     "name": "stderr",
     "output_type": "stream",
     "text": [
      "Val Epoch 28: 100%|██████████| 32/32 [00:05<00:00,  5.36it/s, Loss=0.4052, Triplet=0.2255, Acc=0.8929]\n"
     ]
    },
    {
     "name": "stdout",
     "output_type": "stream",
     "text": [
      "val Loss: 0.7590 Acc: 0.9039\n",
      "\n",
      "Epoch 29/49\n",
      "----------\n"
     ]
    },
    {
     "name": "stderr",
     "output_type": "stream",
     "text": [
      "Train Epoch 29: 100%|██████████| 32/32 [00:05<00:00,  6.19it/s, Loss=0.3760, Triplet=0.1989, Acc=0.9643]\n"
     ]
    },
    {
     "name": "stdout",
     "output_type": "stream",
     "text": [
      "train Loss: 0.4068 (Triplet: 0.1678) Acc: 0.9500\n"
     ]
    },
    {
     "name": "stderr",
     "output_type": "stream",
     "text": [
      "Val Epoch 29: 100%|██████████| 32/32 [00:06<00:00,  4.85it/s, Loss=0.3918, Triplet=0.2948, Acc=0.9643]\n"
     ]
    },
    {
     "name": "stdout",
     "output_type": "stream",
     "text": [
      "val Loss: 0.7330 Acc: 0.9098\n",
      "New best model saved with val_acc: 0.9098\n",
      "\n",
      "Epoch 30/49\n",
      "----------\n"
     ]
    },
    {
     "name": "stderr",
     "output_type": "stream",
     "text": [
      "Train Epoch 30: 100%|██████████| 32/32 [00:05<00:00,  6.25it/s, Loss=0.4486, Triplet=0.0000, Acc=0.8571]\n"
     ]
    },
    {
     "name": "stdout",
     "output_type": "stream",
     "text": [
      "train Loss: 0.3918 (Triplet: 0.0706) Acc: 0.9402\n"
     ]
    },
    {
     "name": "stderr",
     "output_type": "stream",
     "text": [
      "Val Epoch 30: 100%|██████████| 32/32 [00:06<00:00,  4.78it/s, Loss=0.4369, Triplet=0.4350, Acc=0.9643]\n"
     ]
    },
    {
     "name": "stdout",
     "output_type": "stream",
     "text": [
      "val Loss: 0.7322 Acc: 0.9078\n",
      "\n",
      "Epoch 31/49\n",
      "----------\n"
     ]
    },
    {
     "name": "stderr",
     "output_type": "stream",
     "text": [
      "Train Epoch 31: 100%|██████████| 32/32 [00:04<00:00,  6.41it/s, Loss=0.3631, Triplet=0.1095, Acc=0.9286]\n"
     ]
    },
    {
     "name": "stdout",
     "output_type": "stream",
     "text": [
      "train Loss: 0.3980 (Triplet: 0.1821) Acc: 0.9480\n"
     ]
    },
    {
     "name": "stderr",
     "output_type": "stream",
     "text": [
      "Val Epoch 31: 100%|██████████| 32/32 [00:06<00:00,  4.63it/s, Loss=0.4110, Triplet=0.3522, Acc=1.0000]\n"
     ]
    },
    {
     "name": "stdout",
     "output_type": "stream",
     "text": [
      "val Loss: 0.7296 Acc: 0.9118\n",
      "New best model saved with val_acc: 0.9118\n",
      "\n",
      "Epoch 32/49\n",
      "----------\n"
     ]
    },
    {
     "name": "stderr",
     "output_type": "stream",
     "text": [
      "Train Epoch 32: 100%|██████████| 32/32 [00:05<00:00,  6.34it/s, Loss=0.2187, Triplet=0.0000, Acc=1.0000]\n"
     ]
    },
    {
     "name": "stdout",
     "output_type": "stream",
     "text": [
      "train Loss: 0.3900 (Triplet: 0.1404) Acc: 0.9422\n"
     ]
    },
    {
     "name": "stderr",
     "output_type": "stream",
     "text": [
      "Val Epoch 32: 100%|██████████| 32/32 [00:06<00:00,  4.90it/s, Loss=0.3734, Triplet=0.2377, Acc=1.0000]\n"
     ]
    },
    {
     "name": "stdout",
     "output_type": "stream",
     "text": [
      "val Loss: 0.7290 Acc: 0.9108\n",
      "\n",
      "Epoch 33/49\n",
      "----------\n"
     ]
    },
    {
     "name": "stderr",
     "output_type": "stream",
     "text": [
      "Train Epoch 33: 100%|██████████| 32/32 [00:05<00:00,  6.26it/s, Loss=0.4168, Triplet=0.2036, Acc=1.0000]\n"
     ]
    },
    {
     "name": "stdout",
     "output_type": "stream",
     "text": [
      "train Loss: 0.3745 (Triplet: 0.1012) Acc: 0.9510\n"
     ]
    },
    {
     "name": "stderr",
     "output_type": "stream",
     "text": [
      "Val Epoch 33: 100%|██████████| 32/32 [00:05<00:00,  5.70it/s, Loss=0.4249, Triplet=0.3495, Acc=0.9643]\n"
     ]
    },
    {
     "name": "stdout",
     "output_type": "stream",
     "text": [
      "val Loss: 0.7277 Acc: 0.9088\n",
      "\n",
      "Epoch 34/49\n",
      "----------\n"
     ]
    },
    {
     "name": "stderr",
     "output_type": "stream",
     "text": [
      "Train Epoch 34: 100%|██████████| 32/32 [00:05<00:00,  5.38it/s, Loss=0.6295, Triplet=0.4389, Acc=0.8929]\n"
     ]
    },
    {
     "name": "stdout",
     "output_type": "stream",
     "text": [
      "train Loss: 0.4162 (Triplet: 0.1711) Acc: 0.9333\n"
     ]
    },
    {
     "name": "stderr",
     "output_type": "stream",
     "text": [
      "Val Epoch 34: 100%|██████████| 32/32 [00:05<00:00,  5.85it/s, Loss=0.4138, Triplet=0.3602, Acc=0.9643]\n"
     ]
    },
    {
     "name": "stdout",
     "output_type": "stream",
     "text": [
      "val Loss: 0.7249 Acc: 0.9088\n",
      "\n",
      "Epoch 35/49\n",
      "----------\n"
     ]
    },
    {
     "name": "stderr",
     "output_type": "stream",
     "text": [
      "Train Epoch 35: 100%|██████████| 32/32 [00:06<00:00,  5.20it/s, Loss=0.3543, Triplet=0.0631, Acc=0.9643]\n"
     ]
    },
    {
     "name": "stdout",
     "output_type": "stream",
     "text": [
      "train Loss: 0.3614 (Triplet: 0.1018) Acc: 0.9471\n"
     ]
    },
    {
     "name": "stderr",
     "output_type": "stream",
     "text": [
      "Val Epoch 35: 100%|██████████| 32/32 [00:05<00:00,  5.73it/s, Loss=0.3745, Triplet=0.2685, Acc=1.0000]\n"
     ]
    },
    {
     "name": "stdout",
     "output_type": "stream",
     "text": [
      "val Loss: 0.7249 Acc: 0.9118\n",
      "\n",
      "Epoch 36/49\n",
      "----------\n"
     ]
    },
    {
     "name": "stderr",
     "output_type": "stream",
     "text": [
      "Train Epoch 36: 100%|██████████| 32/32 [00:06<00:00,  5.13it/s, Loss=0.1871, Triplet=0.0000, Acc=1.0000]\n"
     ]
    },
    {
     "name": "stdout",
     "output_type": "stream",
     "text": [
      "train Loss: 0.3742 (Triplet: 0.1287) Acc: 0.9510\n"
     ]
    },
    {
     "name": "stderr",
     "output_type": "stream",
     "text": [
      "Val Epoch 36: 100%|██████████| 32/32 [00:05<00:00,  5.78it/s, Loss=0.3899, Triplet=0.3400, Acc=1.0000]\n"
     ]
    },
    {
     "name": "stdout",
     "output_type": "stream",
     "text": [
      "val Loss: 0.7215 Acc: 0.9098\n",
      "\n",
      "Epoch 37/49\n",
      "----------\n"
     ]
    },
    {
     "name": "stderr",
     "output_type": "stream",
     "text": [
      "Train Epoch 37: 100%|██████████| 32/32 [00:05<00:00,  5.36it/s, Loss=0.4059, Triplet=0.2050, Acc=0.8929]\n"
     ]
    },
    {
     "name": "stdout",
     "output_type": "stream",
     "text": [
      "train Loss: 0.3419 (Triplet: 0.0984) Acc: 0.9529\n"
     ]
    },
    {
     "name": "stderr",
     "output_type": "stream",
     "text": [
      "Val Epoch 37: 100%|██████████| 32/32 [00:05<00:00,  5.78it/s, Loss=0.3675, Triplet=0.2909, Acc=1.0000]\n"
     ]
    },
    {
     "name": "stdout",
     "output_type": "stream",
     "text": [
      "val Loss: 0.7218 Acc: 0.9078\n",
      "\n",
      "Epoch 38/49\n",
      "----------\n"
     ]
    },
    {
     "name": "stderr",
     "output_type": "stream",
     "text": [
      "Train Epoch 38: 100%|██████████| 32/32 [00:05<00:00,  6.33it/s, Loss=0.2287, Triplet=0.0000, Acc=1.0000]\n"
     ]
    },
    {
     "name": "stdout",
     "output_type": "stream",
     "text": [
      "train Loss: 0.3452 (Triplet: 0.0855) Acc: 0.9598\n"
     ]
    },
    {
     "name": "stderr",
     "output_type": "stream",
     "text": [
      "Val Epoch 38: 100%|██████████| 32/32 [00:06<00:00,  5.03it/s, Loss=0.3747, Triplet=0.2610, Acc=0.9643]\n"
     ]
    },
    {
     "name": "stdout",
     "output_type": "stream",
     "text": [
      "val Loss: 0.7191 Acc: 0.9118\n",
      "\n",
      "Epoch 39/49\n",
      "----------\n"
     ]
    },
    {
     "name": "stderr",
     "output_type": "stream",
     "text": [
      "Train Epoch 39: 100%|██████████| 32/32 [00:05<00:00,  6.34it/s, Loss=0.2881, Triplet=0.0000, Acc=1.0000]\n"
     ]
    },
    {
     "name": "stdout",
     "output_type": "stream",
     "text": [
      "train Loss: 0.3349 (Triplet: 0.1033) Acc: 0.9627\n"
     ]
    },
    {
     "name": "stderr",
     "output_type": "stream",
     "text": [
      "Val Epoch 39: 100%|██████████| 32/32 [00:06<00:00,  4.72it/s, Loss=0.4130, Triplet=0.3683, Acc=0.9643]\n"
     ]
    },
    {
     "name": "stdout",
     "output_type": "stream",
     "text": [
      "val Loss: 0.7138 Acc: 0.9098\n",
      "\n",
      "Epoch 40/49\n",
      "----------\n"
     ]
    },
    {
     "name": "stderr",
     "output_type": "stream",
     "text": [
      "Train Epoch 40: 100%|██████████| 32/32 [00:04<00:00,  6.49it/s, Loss=0.2612, Triplet=0.0000, Acc=1.0000]\n"
     ]
    },
    {
     "name": "stdout",
     "output_type": "stream",
     "text": [
      "train Loss: 0.3240 (Triplet: 0.0809) Acc: 0.9647\n"
     ]
    },
    {
     "name": "stderr",
     "output_type": "stream",
     "text": [
      "Val Epoch 40: 100%|██████████| 32/32 [00:06<00:00,  4.89it/s, Loss=0.4062, Triplet=0.3913, Acc=1.0000]\n"
     ]
    },
    {
     "name": "stdout",
     "output_type": "stream",
     "text": [
      "val Loss: 0.7135 Acc: 0.9167\n",
      "New best model saved with val_acc: 0.9167\n",
      "\n",
      "Epoch 41/49\n",
      "----------\n"
     ]
    },
    {
     "name": "stderr",
     "output_type": "stream",
     "text": [
      "Train Epoch 41: 100%|██████████| 32/32 [00:05<00:00,  6.22it/s, Loss=0.3468, Triplet=0.0000, Acc=1.0000]\n"
     ]
    },
    {
     "name": "stdout",
     "output_type": "stream",
     "text": [
      "train Loss: 0.3510 (Triplet: 0.1249) Acc: 0.9539\n"
     ]
    },
    {
     "name": "stderr",
     "output_type": "stream",
     "text": [
      "Val Epoch 41: 100%|██████████| 32/32 [00:06<00:00,  4.89it/s, Loss=0.3757, Triplet=0.3214, Acc=1.0000]\n"
     ]
    },
    {
     "name": "stdout",
     "output_type": "stream",
     "text": [
      "val Loss: 0.7125 Acc: 0.9167\n",
      "\n",
      "Epoch 42/49\n",
      "----------\n"
     ]
    },
    {
     "name": "stderr",
     "output_type": "stream",
     "text": [
      "Train Epoch 42: 100%|██████████| 32/32 [00:05<00:00,  6.35it/s, Loss=0.2960, Triplet=0.0000, Acc=0.9286]\n"
     ]
    },
    {
     "name": "stdout",
     "output_type": "stream",
     "text": [
      "train Loss: 0.3750 (Triplet: 0.1345) Acc: 0.9431\n"
     ]
    },
    {
     "name": "stderr",
     "output_type": "stream",
     "text": [
      "Val Epoch 42: 100%|██████████| 32/32 [00:05<00:00,  5.57it/s, Loss=0.3638, Triplet=0.3200, Acc=1.0000]\n"
     ]
    },
    {
     "name": "stdout",
     "output_type": "stream",
     "text": [
      "val Loss: 0.7140 Acc: 0.9118\n",
      "\n",
      "Epoch 43/49\n",
      "----------\n"
     ]
    },
    {
     "name": "stderr",
     "output_type": "stream",
     "text": [
      "Train Epoch 43: 100%|██████████| 32/32 [00:05<00:00,  5.55it/s, Loss=0.4168, Triplet=0.2701, Acc=1.0000]\n"
     ]
    },
    {
     "name": "stdout",
     "output_type": "stream",
     "text": [
      "train Loss: 0.3437 (Triplet: 0.1262) Acc: 0.9539\n"
     ]
    },
    {
     "name": "stderr",
     "output_type": "stream",
     "text": [
      "Val Epoch 43: 100%|██████████| 32/32 [00:05<00:00,  5.83it/s, Loss=0.3859, Triplet=0.3099, Acc=0.9643]\n"
     ]
    },
    {
     "name": "stdout",
     "output_type": "stream",
     "text": [
      "val Loss: 0.7083 Acc: 0.9088\n",
      "\n",
      "Epoch 44/49\n",
      "----------\n"
     ]
    },
    {
     "name": "stderr",
     "output_type": "stream",
     "text": [
      "Train Epoch 44: 100%|██████████| 32/32 [00:06<00:00,  5.22it/s, Loss=0.2523, Triplet=0.0000, Acc=0.9286]\n"
     ]
    },
    {
     "name": "stdout",
     "output_type": "stream",
     "text": [
      "train Loss: 0.3177 (Triplet: 0.1097) Acc: 0.9647\n"
     ]
    },
    {
     "name": "stderr",
     "output_type": "stream",
     "text": [
      "Val Epoch 44: 100%|██████████| 32/32 [00:05<00:00,  5.89it/s, Loss=0.3899, Triplet=0.3030, Acc=1.0000]\n"
     ]
    },
    {
     "name": "stdout",
     "output_type": "stream",
     "text": [
      "val Loss: 0.7128 Acc: 0.9186\n",
      "New best model saved with val_acc: 0.9186\n",
      "\n",
      "Epoch 45/49\n",
      "----------\n"
     ]
    },
    {
     "name": "stderr",
     "output_type": "stream",
     "text": [
      "Train Epoch 45: 100%|██████████| 32/32 [00:06<00:00,  5.08it/s, Loss=0.2635, Triplet=0.0000, Acc=1.0000]\n"
     ]
    },
    {
     "name": "stdout",
     "output_type": "stream",
     "text": [
      "train Loss: 0.3363 (Triplet: 0.0945) Acc: 0.9588\n"
     ]
    },
    {
     "name": "stderr",
     "output_type": "stream",
     "text": [
      "Val Epoch 45: 100%|██████████| 32/32 [00:05<00:00,  5.85it/s, Loss=0.3900, Triplet=0.3524, Acc=1.0000]\n"
     ]
    },
    {
     "name": "stdout",
     "output_type": "stream",
     "text": [
      "val Loss: 0.7036 Acc: 0.9176\n",
      "\n",
      "Epoch 46/49\n",
      "----------\n"
     ]
    },
    {
     "name": "stderr",
     "output_type": "stream",
     "text": [
      "Train Epoch 46: 100%|██████████| 32/32 [00:05<00:00,  5.40it/s, Loss=0.4816, Triplet=0.2060, Acc=0.9286]\n"
     ]
    },
    {
     "name": "stdout",
     "output_type": "stream",
     "text": [
      "train Loss: 0.3495 (Triplet: 0.1228) Acc: 0.9598\n"
     ]
    },
    {
     "name": "stderr",
     "output_type": "stream",
     "text": [
      "Val Epoch 46: 100%|██████████| 32/32 [00:05<00:00,  5.71it/s, Loss=0.3953, Triplet=0.3269, Acc=0.9643]\n"
     ]
    },
    {
     "name": "stdout",
     "output_type": "stream",
     "text": [
      "val Loss: 0.7071 Acc: 0.9157\n",
      "\n",
      "Epoch 47/49\n",
      "----------\n"
     ]
    },
    {
     "name": "stderr",
     "output_type": "stream",
     "text": [
      "Train Epoch 47: 100%|██████████| 32/32 [00:05<00:00,  6.36it/s, Loss=0.2787, Triplet=0.0728, Acc=1.0000]\n"
     ]
    },
    {
     "name": "stdout",
     "output_type": "stream",
     "text": [
      "train Loss: 0.3777 (Triplet: 0.1865) Acc: 0.9480\n"
     ]
    },
    {
     "name": "stderr",
     "output_type": "stream",
     "text": [
      "Val Epoch 47: 100%|██████████| 32/32 [00:06<00:00,  5.01it/s, Loss=0.3812, Triplet=0.3070, Acc=1.0000]\n"
     ]
    },
    {
     "name": "stdout",
     "output_type": "stream",
     "text": [
      "val Loss: 0.7065 Acc: 0.9118\n",
      "\n",
      "Epoch 48/49\n",
      "----------\n"
     ]
    },
    {
     "name": "stderr",
     "output_type": "stream",
     "text": [
      "Train Epoch 48: 100%|██████████| 32/32 [00:05<00:00,  6.35it/s, Loss=0.4713, Triplet=0.4904, Acc=0.9286]\n"
     ]
    },
    {
     "name": "stdout",
     "output_type": "stream",
     "text": [
      "train Loss: 0.3432 (Triplet: 0.1374) Acc: 0.9520\n"
     ]
    },
    {
     "name": "stderr",
     "output_type": "stream",
     "text": [
      "Val Epoch 48: 100%|██████████| 32/32 [00:06<00:00,  4.82it/s, Loss=0.3661, Triplet=0.2941, Acc=0.9643]\n"
     ]
    },
    {
     "name": "stdout",
     "output_type": "stream",
     "text": [
      "val Loss: 0.7099 Acc: 0.9176\n",
      "\n",
      "Epoch 49/49\n",
      "----------\n"
     ]
    },
    {
     "name": "stderr",
     "output_type": "stream",
     "text": [
      "Train Epoch 49: 100%|██████████| 32/32 [00:05<00:00,  6.34it/s, Loss=0.3088, Triplet=0.0000, Acc=0.9286]\n"
     ]
    },
    {
     "name": "stdout",
     "output_type": "stream",
     "text": [
      "train Loss: 0.3370 (Triplet: 0.1329) Acc: 0.9510\n"
     ]
    },
    {
     "name": "stderr",
     "output_type": "stream",
     "text": [
      "Val Epoch 49: 100%|██████████| 32/32 [00:06<00:00,  4.87it/s, Loss=0.3586, Triplet=0.2514, Acc=0.9643]\n"
     ]
    },
    {
     "name": "stdout",
     "output_type": "stream",
     "text": [
      "val Loss: 0.7045 Acc: 0.9127\n",
      "\n",
      "Training complete in 9m 52s\n",
      "Best val Acc: 0.918627\n"
     ]
    },
    {
     "data": {
      "image/png": "[encoded data removed]",
      "text/plain": [
       "<Figure size 1500x500 with 2 Axes>"
      ]
     },
     "metadata": {},
     "output_type": "display_data"
    },
    {
     "data": {
      "image/png": "[encoded data removed]",
      "text/plain": [
       "<Figure size 1000x500 with 1 Axes>"
      ]
     },
     "metadata": {},
     "output_type": "display_data"
    },
    {
     "name": "stdout",
     "output_type": "stream",
     "text": [
      "Evaluating on test set...\n"
     ]
    },
    {
     "name": "stderr",
     "output_type": "stream",
     "text": [
      "  0%|          | 0/193 [00:00<?, ?it/s]\n"
     ]
    },
    {
     "ename": "TypeError",
     "evalue": "max() received an invalid combination of arguments - got (tuple, int), but expected one of:\n * (Tensor input, *, Tensor out = None)\n * (Tensor input, Tensor other, *, Tensor out = None)\n * (Tensor input, int dim, bool keepdim = False, *, tuple of Tensors out = None)\n * (Tensor input, name dim, bool keepdim = False, *, tuple of Tensors out = None)\n",
     "output_type": "error",
     "traceback": [
      "\u001b[0;31m---------------------------------------------------------------------------\u001b[0m",
      "\u001b[0;31mTypeError\u001b[0m                                 Traceback (most recent call last)",
      "\u001b[0;32m/tmp/ipython-input-677919731.py\u001b[0m in \u001b[0;36m<cell line: 0>\u001b[0;34m()\u001b[0m\n\u001b[1;32m     46\u001b[0m \u001b[0;34m\u001b[0m\u001b[0m\n\u001b[1;32m     47\u001b[0m \u001b[0;31m# Evaluate on test set\u001b[0m\u001b[0;34m\u001b[0m\u001b[0;34m\u001b[0m\u001b[0m\n\u001b[0;32m---> 48\u001b[0;31m \u001b[0mtest_loss_34_triplet\u001b[0m\u001b[0;34m,\u001b[0m \u001b[0mtest_acc_34_triplet\u001b[0m\u001b[0;34m,\u001b[0m \u001b[0mall_preds_34_triplet\u001b[0m\u001b[0;34m,\u001b[0m \u001b[0mall_labels_34_triplet\u001b[0m \u001b[0;34m=\u001b[0m \u001b[0mevaluate_model\u001b[0m\u001b[0;34m(\u001b[0m\u001b[0mmodel_resnet34_triplet\u001b[0m\u001b[0;34m,\u001b[0m \u001b[0mcriterion_ce\u001b[0m\u001b[0;34m)\u001b[0m\u001b[0;34m\u001b[0m\u001b[0;34m\u001b[0m\u001b[0m\n\u001b[0m\u001b[1;32m     49\u001b[0m \u001b[0;34m\u001b[0m\u001b[0m\n\u001b[1;32m     50\u001b[0m \u001b[0;31m# Save training logs\u001b[0m\u001b[0;34m\u001b[0m\u001b[0;34m\u001b[0m\u001b[0m\n",
      "\u001b[0;32m/tmp/ipython-input-1728688683.py\u001b[0m in \u001b[0;36mevaluate_model\u001b[0;34m(model, criterion)\u001b[0m\n\u001b[1;32m     78\u001b[0m \u001b[0;34m\u001b[0m\u001b[0m\n\u001b[1;32m     79\u001b[0m             \u001b[0moutputs\u001b[0m \u001b[0;34m=\u001b[0m \u001b[0mmodel\u001b[0m\u001b[0;34m(\u001b[0m\u001b[0minputs\u001b[0m\u001b[0;34m)\u001b[0m\u001b[0;34m\u001b[0m\u001b[0;34m\u001b[0m\u001b[0m\n\u001b[0;32m---> 80\u001b[0;31m             \u001b[0m_\u001b[0m\u001b[0;34m,\u001b[0m \u001b[0mpreds\u001b[0m \u001b[0;34m=\u001b[0m \u001b[0mtorch\u001b[0m\u001b[0;34m.\u001b[0m\u001b[0mmax\u001b[0m\u001b[0;34m(\u001b[0m\u001b[0moutputs\u001b[0m\u001b[0;34m,\u001b[0m \u001b[0;36m1\u001b[0m\u001b[0;34m)\u001b[0m\u001b[0;34m\u001b[0m\u001b[0;34m\u001b[0m\u001b[0m\n\u001b[0m\u001b[1;32m     81\u001b[0m \u001b[0;34m\u001b[0m\u001b[0m\n\u001b[1;32m     82\u001b[0m             \u001b[0mtest_loss\u001b[0m \u001b[0;34m+=\u001b[0m \u001b[0mcriterion\u001b[0m\u001b[0;34m(\u001b[0m\u001b[0moutputs\u001b[0m\u001b[0;34m,\u001b[0m \u001b[0mlabels\u001b[0m\u001b[0;34m)\u001b[0m\u001b[0;34m.\u001b[0m\u001b[0mitem\u001b[0m\u001b[0;34m(\u001b[0m\u001b[0;34m)\u001b[0m \u001b[0;34m*\u001b[0m \u001b[0minputs\u001b[0m\u001b[0;34m.\u001b[0m\u001b[0msize\u001b[0m\u001b[0;34m(\u001b[0m\u001b[0;36m0\u001b[0m\u001b[0;34m)\u001b[0m\u001b[0;34m\u001b[0m\u001b[0;34m\u001b[0m\u001b[0m\n",
      "\u001b[0;31mTypeError\u001b[0m: max() received an invalid combination of arguments - got (tuple, int), but expected one of:\n * (Tensor input, *, Tensor out = None)\n * (Tensor input, Tensor other, *, Tensor out = None)\n * (Tensor input, int dim, bool keepdim = False, *, tuple of Tensors out = None)\n * (Tensor input, name dim, bool keepdim = False, *, tuple of Tensors out = None)\n"
     ]
    }
   ],
   "source": [
    "# Train ResNet-34 with Triplet Loss\n",
    "print(\"\\n\" + \"=\"*70)\n",
    "print(\"TRAINING RESNET-34 WITH TRIPLET LOSS\")\n",
    "print(\"=\"*70)\n",
    "\n",
    "# Create model with triplet loss support\n",
    "model_resnet34_triplet = ResNetWithTripletLoss(base_model='resnet34', num_frozen_stages=3, num_classes=102, embedding_dim=256)\n",
    "model_resnet34_triplet = model_resnet34_triplet.to(device)\n",
    "\n",
    "# Count parameters\n",
    "trainable_params_triplet = sum(p.numel() for p in model_resnet34_triplet.parameters() if p.requires_grad)\n",
    "total_params_triplet = sum(p.numel() for p in model_resnet34_triplet.parameters())\n",
    "print(f\"ResNet34 Triplet - Trainable parameters: {trainable_params_triplet}/{total_params_triplet} ({trainable_params_triplet/total_params_triplet*100:.2f}%)\")\n",
    "\n",
    "# Define loss functions\n",
    "criterion_ce = nn.CrossEntropyLoss()\n",
    "criterion_triplet = TripletLoss(margin=1.0, p=2)\n",
    "\n",
    "# Define optimizer\n",
    "optimizer_34_triplet = optim.SGD(\n",
    "    filter(lambda p: p.requires_grad, model_resnet34_triplet.parameters()),\n",
    "    lr=0.001, momentum=0.9\n",
    ")\n",
    "scheduler_34_triplet = lr_scheduler.StepLR(optimizer_34_triplet, step_size=30, gamma=0.1)\n",
    "\n",
    "# Train model with Triplet Loss\n",
    "model_resnet34_triplet, train_losses_34_triplet, train_accs_34_triplet, val_losses_34_triplet, val_accs_34_triplet, train_triplet_losses_34 = train_model_with_triplet_loss(\n",
    "    model_resnet34_triplet, criterion_ce, criterion_triplet, optimizer_34_triplet, scheduler_34_triplet,\n",
    "    num_epochs, 'resnet34_frozen_triplet', lambda_triplet=0.3\n",
    ")\n",
    "\n",
    "\n"
   ]
  },
  {
   "cell_type": "code",
   "execution_count": 18,
   "id": "sXpBUa4h4tIy",
   "metadata": {
    "colab": {
     "base_uri": "https://localhost:8080/",
     "height": 383
    },
    "executionInfo": {
     "elapsed": 3058,
     "status": "error",
     "timestamp": 1761840652962,
     "user": {
      "displayName": "Fact Frenzy NBA",
      "userId": "02617294725587601640"
     },
     "user_tz": -480
    },
    "id": "sXpBUa4h4tIy",
    "outputId": "980cc974-04e9-4821-d482-727761b7250e"
   },
   "outputs": [
    {
     "name": "stdout",
     "output_type": "stream",
     "text": [
      "Evaluating on test set...\n"
     ]
    },
    {
     "name": "stderr",
     "output_type": "stream",
     "text": [
      "  0%|          | 0/193 [00:03<?, ?it/s]\n"
     ]
    },
    {
     "ename": "TypeError",
     "evalue": "max() received an invalid combination of arguments - got (tuple, int), but expected one of:\n * (Tensor input, *, Tensor out = None)\n * (Tensor input, Tensor other, *, Tensor out = None)\n * (Tensor input, int dim, bool keepdim = False, *, tuple of Tensors out = None)\n * (Tensor input, name dim, bool keepdim = False, *, tuple of Tensors out = None)\n",
     "output_type": "error",
     "traceback": [
      "\u001b[0;31m---------------------------------------------------------------------------\u001b[0m",
      "\u001b[0;31mTypeError\u001b[0m                                 Traceback (most recent call last)",
      "\u001b[0;32m/tmp/ipython-input-2326237996.py\u001b[0m in \u001b[0;36m<cell line: 0>\u001b[0;34m()\u001b[0m\n\u001b[0;32m----> 1\u001b[0;31m \u001b[0mtest_loss_34_triplet\u001b[0m\u001b[0;34m,\u001b[0m \u001b[0mtest_acc_34_triplet\u001b[0m\u001b[0;34m,\u001b[0m \u001b[0mall_preds_34_triplet\u001b[0m\u001b[0;34m,\u001b[0m \u001b[0mall_labels_34_triplet\u001b[0m \u001b[0;34m=\u001b[0m \u001b[0mevaluate_model\u001b[0m\u001b[0;34m(\u001b[0m\u001b[0mmodel_resnet34_triplet\u001b[0m\u001b[0;34m,\u001b[0m \u001b[0mcriterion_ce\u001b[0m\u001b[0;34m)\u001b[0m\u001b[0;34m\u001b[0m\u001b[0;34m\u001b[0m\u001b[0m\n\u001b[0m",
      "\u001b[0;32m/tmp/ipython-input-1728688683.py\u001b[0m in \u001b[0;36mevaluate_model\u001b[0;34m(model, criterion)\u001b[0m\n\u001b[1;32m     78\u001b[0m \u001b[0;34m\u001b[0m\u001b[0m\n\u001b[1;32m     79\u001b[0m             \u001b[0moutputs\u001b[0m \u001b[0;34m=\u001b[0m \u001b[0mmodel\u001b[0m\u001b[0;34m(\u001b[0m\u001b[0minputs\u001b[0m\u001b[0;34m)\u001b[0m\u001b[0;34m\u001b[0m\u001b[0;34m\u001b[0m\u001b[0m\n\u001b[0;32m---> 80\u001b[0;31m             \u001b[0m_\u001b[0m\u001b[0;34m,\u001b[0m \u001b[0mpreds\u001b[0m \u001b[0;34m=\u001b[0m \u001b[0mtorch\u001b[0m\u001b[0;34m.\u001b[0m\u001b[0mmax\u001b[0m\u001b[0;34m(\u001b[0m\u001b[0moutputs\u001b[0m\u001b[0;34m,\u001b[0m \u001b[0;36m1\u001b[0m\u001b[0;34m)\u001b[0m\u001b[0;34m\u001b[0m\u001b[0;34m\u001b[0m\u001b[0m\n\u001b[0m\u001b[1;32m     81\u001b[0m \u001b[0;34m\u001b[0m\u001b[0m\n\u001b[1;32m     82\u001b[0m             \u001b[0mtest_loss\u001b[0m \u001b[0;34m+=\u001b[0m \u001b[0mcriterion\u001b[0m\u001b[0;34m(\u001b[0m\u001b[0moutputs\u001b[0m\u001b[0;34m,\u001b[0m \u001b[0mlabels\u001b[0m\u001b[0;34m)\u001b[0m\u001b[0;34m.\u001b[0m\u001b[0mitem\u001b[0m\u001b[0;34m(\u001b[0m\u001b[0;34m)\u001b[0m \u001b[0;34m*\u001b[0m \u001b[0minputs\u001b[0m\u001b[0;34m.\u001b[0m\u001b[0msize\u001b[0m\u001b[0;34m(\u001b[0m\u001b[0;36m0\u001b[0m\u001b[0;34m)\u001b[0m\u001b[0;34m\u001b[0m\u001b[0;34m\u001b[0m\u001b[0m\n",
      "\u001b[0;31mTypeError\u001b[0m: max() received an invalid combination of arguments - got (tuple, int), but expected one of:\n * (Tensor input, *, Tensor out = None)\n * (Tensor input, Tensor other, *, Tensor out = None)\n * (Tensor input, int dim, bool keepdim = False, *, tuple of Tensors out = None)\n * (Tensor input, name dim, bool keepdim = False, *, tuple of Tensors out = None)\n"
     ]
    }
   ],
   "source": [
    "test_loss_34_triplet, test_acc_34_triplet, all_preds_34_triplet, all_labels_34_triplet = evaluate_model(model_resnet34_triplet, criterion_ce)\n"
   ]
  },
  {
   "cell_type": "code",
   "execution_count": 17,
   "id": "CrqZYnG73Mm1",
   "metadata": {
    "colab": {
     "base_uri": "https://localhost:8080/",
     "height": 438
    },
    "executionInfo": {
     "elapsed": 34938,
     "status": "error",
     "timestamp": 1761840560641,
     "user": {
      "displayName": "Fact Frenzy NBA",
      "userId": "02617294725587601640"
     },
     "user_tz": -480
    },
    "id": "CrqZYnG73Mm1",
    "outputId": "ac8a97de-8d5b-48f6-d19e-949ad3a87d2d"
   },
   "outputs": [
    {
     "name": "stdout",
     "output_type": "stream",
     "text": [
      "Evaluating on test set...\n"
     ]
    },
    {
     "name": "stderr",
     "output_type": "stream",
     "text": [
      "100%|██████████| 193/193 [00:34<00:00,  5.53it/s]\n"
     ]
    },
    {
     "name": "stdout",
     "output_type": "stream",
     "text": [
      "Test Loss: 0.6401\n",
      "Test Accuracy: 0.8777\n",
      "\n",
      "ResNet34 with Triplet Loss - Test Accuracy: 0.8777\n",
      "\n",
      "======================================================================\n",
      "COMPARISON: Baseline vs MixUp vs Triplet Loss\n",
      "======================================================================\n",
      "Method                                   Test Accuracy       \n",
      "----------------------------------------------------------------------\n"
     ]
    },
    {
     "ename": "NameError",
     "evalue": "name 'test_acc_34' is not defined",
     "output_type": "error",
     "traceback": [
      "\u001b[0;31m---------------------------------------------------------------------------\u001b[0m",
      "\u001b[0;31mNameError\u001b[0m                                 Traceback (most recent call last)",
      "\u001b[0;32m/tmp/ipython-input-2777080745.py\u001b[0m in \u001b[0;36m<cell line: 0>\u001b[0;34m()\u001b[0m\n\u001b[1;32m     50\u001b[0m \u001b[0mprint\u001b[0m\u001b[0;34m(\u001b[0m\u001b[0;34mf\"{'Method':<40} {'Test Accuracy':<20}\"\u001b[0m\u001b[0;34m)\u001b[0m\u001b[0;34m\u001b[0m\u001b[0;34m\u001b[0m\u001b[0m\n\u001b[1;32m     51\u001b[0m \u001b[0mprint\u001b[0m\u001b[0;34m(\u001b[0m\u001b[0;34m\"-\"\u001b[0m\u001b[0;34m*\u001b[0m\u001b[0;36m70\u001b[0m\u001b[0;34m)\u001b[0m\u001b[0;34m\u001b[0m\u001b[0;34m\u001b[0m\u001b[0m\n\u001b[0;32m---> 52\u001b[0;31m \u001b[0mprint\u001b[0m\u001b[0;34m(\u001b[0m\u001b[0;34mf\"{'ResNet34 Frozen (Baseline)':<40} {test_acc_34:.4f}\"\u001b[0m\u001b[0;34m)\u001b[0m\u001b[0;34m\u001b[0m\u001b[0;34m\u001b[0m\u001b[0m\n\u001b[0m\u001b[1;32m     53\u001b[0m \u001b[0mprint\u001b[0m\u001b[0;34m(\u001b[0m\u001b[0;34mf\"{'ResNet34 Frozen + MixUp':<40} {test_acc_34_mixup:.4f}\"\u001b[0m\u001b[0;34m)\u001b[0m\u001b[0;34m\u001b[0m\u001b[0;34m\u001b[0m\u001b[0m\n\u001b[1;32m     54\u001b[0m \u001b[0mprint\u001b[0m\u001b[0;34m(\u001b[0m\u001b[0;34mf\"{'ResNet34 Frozen + Triplet Loss':<40} {test_acc_34_triplet:.4f}\"\u001b[0m\u001b[0;34m)\u001b[0m\u001b[0;34m\u001b[0m\u001b[0;34m\u001b[0m\u001b[0m\n",
      "\u001b[0;31mNameError\u001b[0m: name 'test_acc_34' is not defined"
     ]
    }
   ],
   "source": [
    "# Plot results\n",
    "plot_training_curves(train_losses_34_triplet, val_losses_34_triplet, train_accs_34_triplet, val_accs_34_triplet, 'ResNet34_Frozen_Triplet')\n",
    "\n",
    "# Plot triplet loss component\n",
    "fig, ax = plt.subplots(1, 1, figsize=(10, 5))\n",
    "ax.plot(train_triplet_losses_34, label='Triplet Loss Component', linewidth=2, color='purple')\n",
    "ax.set_title('Triplet Loss Component Over Training', fontsize=13, fontweight='bold')\n",
    "ax.set_xlabel('Epoch', fontsize=12)\n",
    "ax.set_ylabel('Triplet Loss', fontsize=12)\n",
    "ax.legend(fontsize=11)\n",
    "ax.grid(True, alpha=0.3)\n",
    "plt.tight_layout()\n",
    "plt.savefig('resnet34_frozen_triplet_loss_component.png', dpi=300, bbox_inches='tight')\n",
    "plt.show()\n",
    "\n",
    "# Evaluate on test set\n",
    "test_loss_34_triplet, test_acc_34_triplet, all_preds_34_triplet, all_labels_34_triplet = evaluate_model(model_resnet34_triplet, criterion_ce)\n",
    "\n",
    "# Save training logs\n",
    "with open('resnet34_frozen_triplet.txt', 'w') as f:\n",
    "    f.write(\"Epoch,Train_Loss,Val_Loss,Train_Acc,Val_Acc,Train_Triplet_Loss\\n\")\n",
    "    for epoch in range(len(train_losses_34_triplet)):\n",
    "        f.write(f\"{epoch+1},{train_losses_34_triplet[epoch]:.4f},{val_losses_34_triplet[epoch]:.4f},{train_accs_34_triplet[epoch]:.4f},{val_accs_34_triplet[epoch]:.4f},{train_triplet_losses_34[epoch]:.4f}\\n\")\n",
    "\n",
    "print(f\"\\nResNet34 with Triplet Loss - Test Accuracy: {test_acc_34_triplet:.4f}\")\n",
    "\n",
    "# Comparison of all methods\n",
    "print(\"\\n\" + \"=\"*70)\n",
    "print(\"COMPARISON: Baseline vs MixUp vs Triplet Loss\")\n",
    "print(\"=\"*70)\n",
    "print(f\"{'Method':<40} {'Test Accuracy':<20}\")\n",
    "print(\"-\"*70)\n",
    "print(f\"{'ResNet34 Frozen (Baseline)':<40} {test_acc_34:.4f}\")\n",
    "print(f\"{'ResNet34 Frozen + MixUp':<40} {test_acc_34_mixup:.4f}\")\n",
    "print(f\"{'ResNet34 Frozen + Triplet Loss':<40} {test_acc_34_triplet:.4f}\")\n",
    "print(\"=\"*70)"
   ]
  },
  {
   "cell_type": "code",
   "execution_count": null,
   "id": "ufmi-vws4n89",
   "metadata": {
    "id": "ufmi-vws4n89"
   },
   "outputs": [],
   "source": [
    "# Special evaluation function for Triplet Loss model\n",
    "def evaluate_model_triplet(model, criterion):\n",
    "    was_training = model.training\n",
    "    model.eval()\n",
    "\n",
    "    test_loss = 0.0\n",
    "    correct = 0\n",
    "    all_preds = []\n",
    "    all_labels = []\n",
    "\n",
    "    print(\"Evaluating on test set...\")\n",
    "    with torch.no_grad():\n",
    "        for inputs, labels in tqdm(dataloaders['test']):\n",
    "            inputs = inputs.to(device)\n",
    "            labels = labels.to(device)\n",
    "\n",
    "            embeddings, logits = model(inputs)  # Get both embeddings and logits\n",
    "            _, preds = torch.max(logits, 1)\n",
    "\n",
    "            test_loss += criterion(logits, labels).item() * inputs.size(0)\n",
    "            correct += torch.sum(preds == labels.data)\n",
    "\n",
    "            all_preds.extend(preds.cpu().numpy())\n",
    "            all_labels.extend(labels.cpu().numpy())\n",
    "\n",
    "    test_loss /= dataset_sizes['test']\n",
    "    test_acc = correct.double() / dataset_sizes['test']\n",
    "\n",
    "    print(f'Test Loss: {test_loss:.4f}')\n",
    "    print(f'Test Accuracy: {test_acc:.4f}')\n",
    "\n",
    "    model.train(mode=was_training)\n",
    "    return test_loss, test_acc, all_preds, all_labels\n",
    "\n",
    "# Re-evaluate using the correct function\n",
    "test_loss_34_triplet, test_acc_34_triplet, all_preds_34_triplet, all_labels_34_triplet = evaluate_model_triplet(model_resnet34_triplet, criterion_ce)\n",
    "\n",
    "# Save training logs\n",
    "with open('resnet34_frozen_triplet.txt', 'w') as f:\n",
    "    f.write(\"Epoch,Train_Loss,Val_Loss,Train_Acc,Val_Acc,Train_Triplet_Loss\\n\")\n",
    "    for epoch in range(len(train_losses_34_triplet)):\n",
    "        f.write(f\"{epoch+1},{train_losses_34_triplet[epoch]:.4f},{val_losses_34_triplet[epoch]:.4f},{train_accs_34_triplet[epoch]:.4f},{val_accs_34_triplet[epoch]:.4f},{train_triplet_losses_34[epoch]:.4f}\\n\")\n",
    "\n",
    "print(f\"\\nResNet34 with Triplet Loss - Test Accuracy: {test_acc_34_triplet:.4f}\")\n",
    "\n",
    "# Comparison of all methods\n",
    "print(\"\\n\" + \"=\"*70)\n",
    "print(\"COMPARISON: Baseline vs MixUp vs Triplet Loss\")\n",
    "print(\"=\"*70)\n",
    "print(f\"{'Method':<40} {'Test Accuracy':<20}\")\n",
    "print(\"-\"*70)\n",
    "print(f\"{'ResNet34 Frozen (Baseline)':<40} {test_acc_34:.4f}\")\n",
    "print(f\"{'ResNet34 Frozen + MixUp':<40} {test_acc_34_mixup:.4f}\")\n",
    "print(f\"{'ResNet34 Frozen + Triplet Loss':<40} {test_acc_34_triplet:.4f}\")\n",
    "print(\"=\"*70)\n"
   ]
  },
  {
   "cell_type": "code",
   "execution_count": null,
   "id": "Odx0aln23NHt",
   "metadata": {
    "id": "Odx0aln23NHt"
   },
   "outputs": [],
   "source": []
  }
 ],
 "metadata": {
  "colab": {
   "provenance": []
  },
  "kernelspec": {
   "display_name": "Python 3",
   "name": "python3"
  },
  "language_info": {
   "codemirror_mode": {
    "name": "ipython",
    "version": 3
   },
   "file_extension": ".py",
   "mimetype": "text/x-python",
   "name": "python",
   "nbconvert_exporter": "python",
   "pygments_lexer": "ipython3",
   "version": "3.11.5"
  }
 },
 "nbformat": 4,
 "nbformat_minor": 5
}
