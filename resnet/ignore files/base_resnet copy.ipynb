{
 "cells": [
  {
   "cell_type": "markdown",
   "id": "f8e021fd",
   "metadata": {},
   "source": [
    "# Flower Recognition with ResNet"
   ]
  },
  {
   "cell_type": "code",
   "execution_count": null,
   "id": "615a7c67",
   "metadata": {},
   "outputs": [],
   "source": []
  },
  {
   "cell_type": "code",
   "execution_count": 3,
   "id": "9509e9c3",
   "metadata": {},
   "outputs": [
    {
     "name": "stdout",
     "output_type": "stream",
     "text": [
      "Requirement already satisfied: torch in /home/UG/rishika004/.venv/lib/python3.9/site-packages (2.8.0)\n",
      "Requirement already satisfied: torchvision in /home/UG/rishika004/.venv/lib/python3.9/site-packages (0.23.0)\n",
      "Requirement already satisfied: pandas in /home/UG/rishika004/.venv/lib/python3.9/site-packages (2.3.3)\n",
      "Requirement already satisfied: numpy in /home/UG/rishika004/.venv/lib/python3.9/site-packages (2.0.2)\n",
      "Requirement already satisfied: matplotlib in /home/UG/rishika004/.venv/lib/python3.9/site-packages (3.9.4)\n",
      "Requirement already satisfied: scikit-learn in /home/UG/rishika004/.venv/lib/python3.9/site-packages (1.6.1)\n",
      "Requirement already satisfied: pillow in /home/UG/rishika004/.venv/lib/python3.9/site-packages (11.3.0)\n",
      "Requirement already satisfied: scipy in /home/UG/rishika004/.venv/lib/python3.9/site-packages (1.13.1)\n",
      "Requirement already satisfied: filelock in /home/UG/rishika004/.venv/lib/python3.9/site-packages (from torch) (3.19.1)\n",
      "Requirement already satisfied: typing-extensions>=4.10.0 in /home/UG/rishika004/.venv/lib/python3.9/site-packages (from torch) (4.15.0)\n",
      "Requirement already satisfied: sympy>=1.13.3 in /home/UG/rishika004/.venv/lib/python3.9/site-packages (from torch) (1.14.0)\n",
      "Requirement already satisfied: networkx in /home/UG/rishika004/.venv/lib/python3.9/site-packages (from torch) (3.2.1)\n",
      "Requirement already satisfied: jinja2 in /home/UG/rishika004/.venv/lib/python3.9/site-packages (from torch) (3.1.6)\n",
      "Requirement already satisfied: fsspec in /home/UG/rishika004/.venv/lib/python3.9/site-packages (from torch) (2025.9.0)\n",
      "Requirement already satisfied: nvidia-cuda-nvrtc-cu12==12.8.93 in /home/UG/rishika004/.venv/lib/python3.9/site-packages (from torch) (12.8.93)\n",
      "Requirement already satisfied: nvidia-cuda-runtime-cu12==12.8.90 in /home/UG/rishika004/.venv/lib/python3.9/site-packages (from torch) (12.8.90)\n",
      "Requirement already satisfied: nvidia-cuda-cupti-cu12==12.8.90 in /home/UG/rishika004/.venv/lib/python3.9/site-packages (from torch) (12.8.90)\n",
      "Requirement already satisfied: nvidia-cudnn-cu12==9.10.2.21 in /home/UG/rishika004/.venv/lib/python3.9/site-packages (from torch) (9.10.2.21)\n",
      "Requirement already satisfied: nvidia-cublas-cu12==12.8.4.1 in /home/UG/rishika004/.venv/lib/python3.9/site-packages (from torch) (12.8.4.1)\n",
      "Requirement already satisfied: nvidia-cufft-cu12==11.3.3.83 in /home/UG/rishika004/.venv/lib/python3.9/site-packages (from torch) (11.3.3.83)\n",
      "Requirement already satisfied: nvidia-curand-cu12==10.3.9.90 in /home/UG/rishika004/.venv/lib/python3.9/site-packages (from torch) (10.3.9.90)\n",
      "Requirement already satisfied: nvidia-cusolver-cu12==11.7.3.90 in /home/UG/rishika004/.venv/lib/python3.9/site-packages (from torch) (11.7.3.90)\n",
      "Requirement already satisfied: nvidia-cusparse-cu12==12.5.8.93 in /home/UG/rishika004/.venv/lib/python3.9/site-packages (from torch) (12.5.8.93)\n",
      "Requirement already satisfied: nvidia-cusparselt-cu12==0.7.1 in /home/UG/rishika004/.venv/lib/python3.9/site-packages (from torch) (0.7.1)\n",
      "Requirement already satisfied: nvidia-nccl-cu12==2.27.3 in /home/UG/rishika004/.venv/lib/python3.9/site-packages (from torch) (2.27.3)\n",
      "Requirement already satisfied: nvidia-nvtx-cu12==12.8.90 in /home/UG/rishika004/.venv/lib/python3.9/site-packages (from torch) (12.8.90)\n",
      "Requirement already satisfied: nvidia-nvjitlink-cu12==12.8.93 in /home/UG/rishika004/.venv/lib/python3.9/site-packages (from torch) (12.8.93)\n",
      "Requirement already satisfied: nvidia-cufile-cu12==1.13.1.3 in /home/UG/rishika004/.venv/lib/python3.9/site-packages (from torch) (1.13.1.3)\n",
      "Requirement already satisfied: triton==3.4.0 in /home/UG/rishika004/.venv/lib/python3.9/site-packages (from torch) (3.4.0)\n",
      "Requirement already satisfied: setuptools>=40.8.0 in /home/UG/rishika004/.venv/lib/python3.9/site-packages (from triton==3.4.0->torch) (80.9.0)\n",
      "Requirement already satisfied: importlib-metadata in /home/UG/rishika004/.venv/lib/python3.9/site-packages (from triton==3.4.0->torch) (8.7.0)\n",
      "Requirement already satisfied: setuptools>=40.8.0 in /home/UG/rishika004/.venv/lib/python3.9/site-packages (from triton==3.4.0->torch) (80.9.0)\n",
      "Requirement already satisfied: importlib-metadata in /home/UG/rishika004/.venv/lib/python3.9/site-packages (from triton==3.4.0->torch) (8.7.0)\n",
      "Requirement already satisfied: python-dateutil>=2.8.2 in /home/UG/rishika004/.venv/lib/python3.9/site-packages (from pandas) (2.9.0.post0)\n",
      "Requirement already satisfied: pytz>=2020.1 in /home/UG/rishika004/.venv/lib/python3.9/site-packages (from pandas) (2025.2)\n",
      "Requirement already satisfied: tzdata>=2022.7 in /home/UG/rishika004/.venv/lib/python3.9/site-packages (from pandas) (2025.2)\n",
      "Requirement already satisfied: contourpy>=1.0.1 in /home/UG/rishika004/.venv/lib/python3.9/site-packages (from matplotlib) (1.3.0)\n",
      "Requirement already satisfied: cycler>=0.10 in /home/UG/rishika004/.venv/lib/python3.9/site-packages (from matplotlib) (0.12.1)\n",
      "Requirement already satisfied: fonttools>=4.22.0 in /home/UG/rishika004/.venv/lib/python3.9/site-packages (from matplotlib) (4.60.1)\n",
      "Requirement already satisfied: kiwisolver>=1.3.1 in /home/UG/rishika004/.venv/lib/python3.9/site-packages (from matplotlib) (1.4.7)\n",
      "Requirement already satisfied: packaging>=20.0 in /home/UG/rishika004/.venv/lib/python3.9/site-packages (from matplotlib) (25.0)\n",
      "Requirement already satisfied: pyparsing>=2.3.1 in /home/UG/rishika004/.venv/lib/python3.9/site-packages (from matplotlib) (3.2.5)\n",
      "Requirement already satisfied: importlib-resources>=3.2.0 in /home/UG/rishika004/.venv/lib/python3.9/site-packages (from matplotlib) (6.5.2)\n",
      "Requirement already satisfied: joblib>=1.2.0 in /home/UG/rishika004/.venv/lib/python3.9/site-packages (from scikit-learn) (1.5.2)\n",
      "Requirement already satisfied: threadpoolctl>=3.1.0 in /home/UG/rishika004/.venv/lib/python3.9/site-packages (from scikit-learn) (3.6.0)\n",
      "Requirement already satisfied: python-dateutil>=2.8.2 in /home/UG/rishika004/.venv/lib/python3.9/site-packages (from pandas) (2.9.0.post0)\n",
      "Requirement already satisfied: pytz>=2020.1 in /home/UG/rishika004/.venv/lib/python3.9/site-packages (from pandas) (2025.2)\n",
      "Requirement already satisfied: tzdata>=2022.7 in /home/UG/rishika004/.venv/lib/python3.9/site-packages (from pandas) (2025.2)\n",
      "Requirement already satisfied: contourpy>=1.0.1 in /home/UG/rishika004/.venv/lib/python3.9/site-packages (from matplotlib) (1.3.0)\n",
      "Requirement already satisfied: cycler>=0.10 in /home/UG/rishika004/.venv/lib/python3.9/site-packages (from matplotlib) (0.12.1)\n",
      "Requirement already satisfied: fonttools>=4.22.0 in /home/UG/rishika004/.venv/lib/python3.9/site-packages (from matplotlib) (4.60.1)\n",
      "Requirement already satisfied: kiwisolver>=1.3.1 in /home/UG/rishika004/.venv/lib/python3.9/site-packages (from matplotlib) (1.4.7)\n",
      "Requirement already satisfied: packaging>=20.0 in /home/UG/rishika004/.venv/lib/python3.9/site-packages (from matplotlib) (25.0)\n",
      "Requirement already satisfied: pyparsing>=2.3.1 in /home/UG/rishika004/.venv/lib/python3.9/site-packages (from matplotlib) (3.2.5)\n",
      "Requirement already satisfied: importlib-resources>=3.2.0 in /home/UG/rishika004/.venv/lib/python3.9/site-packages (from matplotlib) (6.5.2)\n",
      "Requirement already satisfied: joblib>=1.2.0 in /home/UG/rishika004/.venv/lib/python3.9/site-packages (from scikit-learn) (1.5.2)\n",
      "Requirement already satisfied: threadpoolctl>=3.1.0 in /home/UG/rishika004/.venv/lib/python3.9/site-packages (from scikit-learn) (3.6.0)\n",
      "Requirement already satisfied: zipp>=3.1.0 in /home/UG/rishika004/.venv/lib/python3.9/site-packages (from importlib-resources>=3.2.0->matplotlib) (3.23.0)\n",
      "Requirement already satisfied: six>=1.5 in /home/UG/rishika004/.venv/lib/python3.9/site-packages (from python-dateutil>=2.8.2->pandas) (1.17.0)\n",
      "Requirement already satisfied: zipp>=3.1.0 in /home/UG/rishika004/.venv/lib/python3.9/site-packages (from importlib-resources>=3.2.0->matplotlib) (3.23.0)\n",
      "Requirement already satisfied: six>=1.5 in /home/UG/rishika004/.venv/lib/python3.9/site-packages (from python-dateutil>=2.8.2->pandas) (1.17.0)\n",
      "Requirement already satisfied: mpmath<1.4,>=1.1.0 in /home/UG/rishika004/.venv/lib/python3.9/site-packages (from sympy>=1.13.3->torch) (1.3.0)\n",
      "Requirement already satisfied: mpmath<1.4,>=1.1.0 in /home/UG/rishika004/.venv/lib/python3.9/site-packages (from sympy>=1.13.3->torch) (1.3.0)\n",
      "Requirement already satisfied: MarkupSafe>=2.0 in /home/UG/rishika004/.venv/lib/python3.9/site-packages (from jinja2->torch) (3.0.3)\n",
      "Requirement already satisfied: MarkupSafe>=2.0 in /home/UG/rishika004/.venv/lib/python3.9/site-packages (from jinja2->torch) (3.0.3)\n",
      "Using device: cpu\n",
      "Using device: cpu\n"
     ]
    }
   ],
   "source": [
    "# Flower Recognition with ResNet - Complete Implementation\n",
    "# Installing required packages\n",
    "!pip install torch torchvision pandas numpy matplotlib scikit-learn pillow scipy\n",
    "\n",
    "import numpy as np\n",
    "import pandas as pd\n",
    "import matplotlib.pyplot as plt\n",
    "import seaborn as sns\n",
    "\n",
    "import torch\n",
    "import torch.nn as nn\n",
    "import torch.optim as optim\n",
    "from torch.optim import lr_scheduler\n",
    "import torch.backends.cudnn as cudnn\n",
    "import torch.nn.functional as F\n",
    "\n",
    "import torchvision\n",
    "from torchvision import datasets, transforms, models\n",
    "from torch.utils.data import DataLoader\n",
    "\n",
    "from sklearn.metrics import confusion_matrix, classification_report\n",
    "import scipy\n",
    "from PIL import Image\n",
    "import os\n",
    "import shutil\n",
    "import time\n",
    "from tempfile import TemporaryDirectory\n",
    "from tqdm import tqdm\n",
    "import warnings\n",
    "warnings.filterwarnings('ignore')\n",
    "\n",
    "# Set device\n",
    "device = torch.device(\"cuda:0\" if torch.cuda.is_available() else \"cpu\")\n",
    "print(f\"Using device: {device}\")\n",
    "\n",
    "# Set random seeds for reproducibility\n",
    "torch.manual_seed(42)\n",
    "np.random.seed(42)\n",
    "if torch.cuda.is_available():\n",
    "    torch.cuda.manual_seed(42)"
   ]
  },
  {
   "cell_type": "code",
   "execution_count": 4,
   "id": "f7548775",
   "metadata": {},
   "outputs": [
    {
     "name": "stdout",
     "output_type": "stream",
     "text": [
      "Dataset sizes:\n",
      "Training: 1020 images\n",
      "Validation: 1020 images\n",
      "Test: 6149 images\n"
     ]
    }
   ],
   "source": [
    "# Set up data loading and preprocessing\n",
    "import os\n",
    "import scipy.io\n",
    "from torchvision import transforms, datasets\n",
    "from torch.utils.data import Dataset, DataLoader\n",
    "from PIL import Image\n",
    "\n",
    "# Data directories\n",
    "data_dir = 'data/flowers-102'\n",
    "images_dir = os.path.join(data_dir, 'jpg')\n",
    "\n",
    "# Load mat files for labels and train/val/test splits\n",
    "labels = scipy.io.loadmat(os.path.join(data_dir, 'imagelabels.mat'))['labels'][0] - 1  # Convert to 0-based indexing\n",
    "splits = scipy.io.loadmat(os.path.join(data_dir, 'setid.mat'))\n",
    "\n",
    "# Get indices for train, val, and test sets\n",
    "train_idx = splits['trnid'][0] - 1  # Convert to 0-based indexing\n",
    "val_idx = splits['valid'][0] - 1\n",
    "test_idx = splits['tstid'][0] - 1\n",
    "\n",
    "class Flowers102Dataset(Dataset):\n",
    "    def __init__(self, image_dir, indices, labels, transform=None):\n",
    "        self.image_dir = image_dir\n",
    "        self.indices = indices\n",
    "        self.labels = labels\n",
    "        self.transform = transform\n",
    "\n",
    "    def __len__(self):\n",
    "        return len(self.indices)\n",
    "\n",
    "    def __getitem__(self, idx):\n",
    "        img_idx = self.indices[idx]\n",
    "        img_name = f'image_{img_idx+1:05d}.jpg'\n",
    "        img_path = os.path.join(self.image_dir, img_name)\n",
    "        image = Image.open(img_path).convert('RGB')\n",
    "        \n",
    "        if self.transform:\n",
    "            image = self.transform(image)\n",
    "            \n",
    "        label = self.labels[img_idx]\n",
    "        return image, label\n",
    "\n",
    "# Define transforms\n",
    "train_transform = transforms.Compose([\n",
    "    transforms.RandomResizedCrop(224),\n",
    "    transforms.RandomHorizontalFlip(),\n",
    "    transforms.ToTensor(),\n",
    "    transforms.Normalize([0.485, 0.456, 0.406], [0.229, 0.224, 0.225])\n",
    "])\n",
    "\n",
    "val_test_transform = transforms.Compose([\n",
    "    transforms.Resize(256),\n",
    "    transforms.CenterCrop(224),\n",
    "    transforms.ToTensor(),\n",
    "    transforms.Normalize([0.485, 0.456, 0.406], [0.229, 0.224, 0.225])\n",
    "])\n",
    "\n",
    "# Create datasets\n",
    "train_dataset = Flowers102Dataset(images_dir, train_idx, labels, train_transform)\n",
    "val_dataset = Flowers102Dataset(images_dir, val_idx, labels, val_test_transform)\n",
    "test_dataset = Flowers102Dataset(images_dir, test_idx, labels, val_test_transform)\n",
    "\n",
    "# Create dataloaders\n",
    "batch_size = 32\n",
    "dataloaders = {\n",
    "    'train': DataLoader(train_dataset, batch_size=batch_size, shuffle=True, num_workers=4),\n",
    "    'val': DataLoader(val_dataset, batch_size=batch_size, shuffle=False, num_workers=4),\n",
    "    'test': DataLoader(test_dataset, batch_size=batch_size, shuffle=False, num_workers=4)\n",
    "}\n",
    "\n",
    "# Store dataset sizes\n",
    "dataset_sizes = {\n",
    "    'train': len(train_dataset),\n",
    "    'val': len(val_dataset),\n",
    "    'test': len(test_dataset)\n",
    "}\n",
    "\n",
    "print(f\"Dataset sizes:\")\n",
    "print(f\"Training: {dataset_sizes['train']} images\")\n",
    "print(f\"Validation: {dataset_sizes['val']} images\")\n",
    "print(f\"Test: {dataset_sizes['test']} images\")"
   ]
  },
  {
   "cell_type": "code",
   "execution_count": 5,
   "id": "c072060c",
   "metadata": {},
   "outputs": [
    {
     "name": "stdout",
     "output_type": "stream",
     "text": [
      "Training samples:\n"
     ]
    },
    {
     "data": {
      "image/png": "[encoded data removed]",
      "text/plain": [
       "<Figure size 640x480 with 1 Axes>"
      ]
     },
     "metadata": {},
     "output_type": "display_data"
    }
   ],
   "source": [
    "def imshow(inp, title=None):\n",
    "    \"\"\"Display image for Tensor.\"\"\"\n",
    "    inp = inp.numpy().transpose((1, 2, 0))\n",
    "    mean = np.array([0.485, 0.456, 0.406])\n",
    "    std = np.array([0.229, 0.224, 0.225])\n",
    "    inp = std * inp + mean\n",
    "    inp = np.clip(inp, 0, 1)\n",
    "    plt.imshow(inp)\n",
    "    if title is not None:\n",
    "        plt.title(title)\n",
    "    plt.pause(0.001)\n",
    "\n",
    "# Visualize some training images\n",
    "def visualize_samples(dataloader, num_images=8):\n",
    "    inputs, classes = next(iter(dataloader))\n",
    "    out = torchvision.utils.make_grid(inputs[:num_images])\n",
    "    imshow(out, title=[f'Class {x}' for x in classes[:num_images]])\n",
    "\n",
    "print(\"Training samples:\")\n",
    "visualize_samples(dataloaders['train'])"
   ]
  },
  {
   "cell_type": "code",
   "execution_count": 15,
   "id": "9ef28202",
   "metadata": {},
   "outputs": [],
   "source": [
    "# Base ResNet Model\n",
    "class FlowerResNet(nn.Module):\n",
    "    def __init__(self, base_model='resnet18', pretrained=True, num_classes=102):\n",
    "        super(FlowerResNet, self).__init__()\n",
    "        \n",
    "        if base_model == 'resnet18':\n",
    "            if pretrained:\n",
    "                self.backbone = models.resnet18(weights='IMAGENET1K_V1')\n",
    "            else:\n",
    "                self.backbone = models.resnet18(weights=None)\n",
    "        elif base_model == 'resnet34':\n",
    "            if pretrained:\n",
    "                self.backbone = models.resnet34(weights='IMAGENET1K_V1')\n",
    "            else:\n",
    "                self.backbone = models.resnet34(weights=None)\n",
    "        else:\n",
    "            raise ValueError(\"Unsupported base model\")\n",
    "        \n",
    "        # Replace the final fully connected layer\n",
    "        in_features = self.backbone.fc.in_features\n",
    "        self.backbone.fc = nn.Linear(in_features, num_classes)\n",
    "        \n",
    "    def forward(self, x):\n",
    "        return self.backbone(x)\n",
    "\n",
    "# Model with Frozen Stages\n",
    "class FlowerResNetFrozen(nn.Module):\n",
    "    def __init__(self, base_model='resnet18', num_frozen_stages=3, num_classes=102):\n",
    "        super(FlowerResNetFrozen, self).__init__()\n",
    "        \n",
    "        if base_model == 'resnet18':\n",
    "            self.backbone = models.resnet18(weights='IMAGENET1K_V1')\n",
    "        elif base_model == 'resnet34':\n",
    "            self.backbone = models.resnet34(weights='IMAGENET1K_V1')\n",
    "        else:\n",
    "            raise ValueError(\"Unsupported base model\")\n",
    "        \n",
    "        # Freeze specified stages\n",
    "        self._freeze_stages(num_frozen_stages)\n",
    "        \n",
    "        # Replace the final fully connected layer\n",
    "        in_features = self.backbone.fc.in_features\n",
    "        self.backbone.fc = nn.Linear(in_features, num_classes)\n",
    "        \n",
    "    def _freeze_stages(self, num_stages):\n",
    "        \"\"\"Freeze the first num_stages of ResNet\"\"\"\n",
    "        if num_stages >= 1:\n",
    "            for param in self.backbone.conv1.parameters():\n",
    "                param.requires_grad = False\n",
    "            for param in self.backbone.bn1.parameters():\n",
    "                param.requires_grad = False\n",
    "        if num_stages >= 2:\n",
    "            for param in self.backbone.layer1.parameters():\n",
    "                param.requires_grad = False\n",
    "        if num_stages >= 3:\n",
    "            for param in self.backbone.layer2.parameters():\n",
    "                param.requires_grad = False\n",
    "        if num_stages >= 4:\n",
    "            for param in self.backbone.layer3.parameters():\n",
    "                param.requires_grad = False\n",
    "        if num_stages >= 5:\n",
    "            for param in self.backbone.layer4.parameters():\n",
    "                param.requires_grad = False\n",
    "                \n",
    "    def forward(self, x):\n",
    "        return self.backbone(x)\n",
    "\n",
    "# Deformable Convolution Implementation\n",
    "class DeformableConv2d(nn.Module):\n",
    "    def __init__(self, in_channels, out_channels, kernel_size=3, stride=1, padding=1):\n",
    "        super(DeformableConv2d, self).__init__()\n",
    "        \n",
    "        # Offset convolution\n",
    "        self.offset_conv = nn.Conv2d(\n",
    "            in_channels, \n",
    "            2 * kernel_size * kernel_size,\n",
    "            kernel_size=kernel_size, \n",
    "            stride=stride, \n",
    "            padding=padding\n",
    "        )\n",
    "        \n",
    "        # Regular convolution\n",
    "        self.conv = nn.Conv2d(\n",
    "            in_channels, \n",
    "            out_channels, \n",
    "            kernel_size=kernel_size, \n",
    "            stride=stride, \n",
    "            padding=padding\n",
    "        )\n",
    "        \n",
    "        self.kernel_size = kernel_size\n",
    "        \n",
    "    def forward(self, x):\n",
    "        # Generate offsets (simplified implementation)\n",
    "        try:\n",
    "            from torchvision.ops import deform_conv2d\n",
    "            return deform_conv2d(x, offsets, self.conv.weight, self.conv.bias, \n",
    "                            stride=self.conv.stride, padding=self.conv.padding)\n",
    "        except ImportError:\n",
    "            # Fallback: at least use the offsets somehow, or just regular conv\n",
    "            return self.conv(x)\n",
    "\n",
    "# ResNet with Deformable Convolutions\n",
    "class FlowerResNetDeformable(nn.Module):\n",
    "    def __init__(self, base_model='resnet18', deform_layers=['layer3'], num_classes=102):\n",
    "        super(FlowerResNetDeformable, self).__init__()\n",
    "        \n",
    "        if base_model == 'resnet18':\n",
    "            self.backbone = models.resnet18(weights='IMAGENET1K_V1')\n",
    "        else:\n",
    "            raise ValueError(\"Only resnet18 supported for deformable version\")\n",
    "        \n",
    "        # Replace regular convolutions with deformable ones in specified layers\n",
    "        self._replace_with_deformable_conv(deform_layers)\n",
    "        \n",
    "        # Replace the final fully connected layer\n",
    "        in_features = self.backbone.fc.in_features\n",
    "        self.backbone.fc = nn.Linear(in_features, num_classes)\n",
    "        \n",
    "    def _replace_with_deformable_conv(self, deform_layers):\n",
    "        \"\"\"Replace regular convolutions with deformable convolutions in specified layers\"\"\"\n",
    "        layers_dict = {\n",
    "            'layer1': self.backbone.layer1,\n",
    "            'layer2': self.backbone.layer2,\n",
    "            'layer3': self.backbone.layer3,\n",
    "            'layer4': self.backbone.layer4\n",
    "        }\n",
    "        \n",
    "        for layer_name in deform_layers:\n",
    "            if layer_name in layers_dict:\n",
    "                layer = layers_dict[layer_name]\n",
    "                for block_idx, block in enumerate(layer):\n",
    "                    # Replace 3x3 convolutions in each basic block\n",
    "                    if hasattr(block, 'conv1') and block.conv1.kernel_size == (3, 3):\n",
    "                        in_channels = block.conv1.in_channels\n",
    "                        out_channels = block.conv1.out_channels\n",
    "                        block.conv1 = DeformableConv2d(in_channels, out_channels)\n",
    "                        \n",
    "                    if hasattr(block, 'conv2') and block.conv2.kernel_size == (3, 3):\n",
    "                        in_channels = block.conv2.in_channels\n",
    "                        out_channels = block.conv2.out_channels\n",
    "                        block.conv2 = DeformableConv2d(in_channels, out_channels)\n",
    "    \n",
    "    def forward(self, x):\n",
    "        return self.backbone(x)"
   ]
  },
  {
   "cell_type": "code",
   "execution_count": 7,
   "id": "57b9eea3",
   "metadata": {},
   "outputs": [],
   "source": [
    "def train_model(model, criterion, optimizer, scheduler, num_epochs=25, model_name='resnet18'):\n",
    "    since = time.time()\n",
    "    \n",
    "    # Create checkpoint directory\n",
    "    checkpoint_path = './model_checkpoints'\n",
    "    os.makedirs(checkpoint_path, exist_ok=True)\n",
    "    best_model_params_path = os.path.join(checkpoint_path, f'best_{model_name}_params.pt')\n",
    "    \n",
    "    # Save initial model\n",
    "    torch.save(model.state_dict(), best_model_params_path)\n",
    "    \n",
    "    # Track metrics\n",
    "    train_losses, train_accs = [], []\n",
    "    val_losses, val_accs = [], []\n",
    "    best_acc = 0.0\n",
    "    \n",
    "    for epoch in range(num_epochs):\n",
    "        print(f'Epoch {epoch}/{num_epochs - 1}')\n",
    "        print('-' * 10)\n",
    "        \n",
    "        # Each epoch has training and validation phases\n",
    "        for phase in ['train', 'val']:\n",
    "            if phase == 'train':\n",
    "                model.train()\n",
    "            else:\n",
    "                model.eval()\n",
    "\n",
    "            running_loss = 0.0\n",
    "            running_corrects = 0\n",
    "\n",
    "            # Iterate over data with progress bar\n",
    "            pbar = tqdm(dataloaders[phase], desc=f'{phase.capitalize()} Epoch {epoch}')\n",
    "            for inputs, labels in pbar:\n",
    "                inputs = inputs.to(device)\n",
    "                labels = labels.to(device)\n",
    "\n",
    "                # Zero gradients\n",
    "                optimizer.zero_grad()\n",
    "\n",
    "                # Forward pass\n",
    "                with torch.set_grad_enabled(phase == 'train'):\n",
    "                    outputs = model(inputs)\n",
    "                    _, preds = torch.max(outputs, 1)\n",
    "                    loss = criterion(outputs, labels)\n",
    "\n",
    "                    # Backward + optimize only in training phase\n",
    "                    if phase == 'train':\n",
    "                        loss.backward()\n",
    "                        optimizer.step()\n",
    "\n",
    "                # Statistics\n",
    "                running_loss += loss.item() * inputs.size(0)\n",
    "                running_corrects += torch.sum(preds == labels.data)\n",
    "                \n",
    "                # Update progress bar\n",
    "                pbar.set_postfix({\n",
    "                    'Loss': f'{loss.item():.4f}',\n",
    "                    'Acc': f'{torch.sum(preds == labels.data).item() / inputs.size(0):.4f}'\n",
    "                })\n",
    "            \n",
    "            if phase == 'train' and scheduler is not None:\n",
    "                scheduler.step()\n",
    "            \n",
    "            # Calculate epoch metrics\n",
    "            epoch_loss = running_loss / dataset_sizes[phase]\n",
    "            epoch_acc = running_corrects.double() / dataset_sizes[phase]\n",
    "            \n",
    "            print(f'{phase} Loss: {epoch_loss:.4f} Acc: {epoch_acc:.4f}')\n",
    "            \n",
    "            # Store metrics\n",
    "            if phase == 'train':\n",
    "                train_losses.append(epoch_loss)\n",
    "                train_accs.append(epoch_acc.cpu())\n",
    "            else:\n",
    "                val_losses.append(epoch_loss)\n",
    "                val_accs.append(epoch_acc.cpu())\n",
    "            \n",
    "            # Save best model\n",
    "            if phase == 'val' and epoch_acc > best_acc:\n",
    "                best_acc = epoch_acc\n",
    "                torch.save(model.state_dict(), best_model_params_path)\n",
    "                print(f'New best model saved with val_acc: {best_acc:.4f}')\n",
    "\n",
    "        print()\n",
    "\n",
    "    time_elapsed = time.time() - since\n",
    "    print(f'Training complete in {time_elapsed // 60:.0f}m {time_elapsed % 60:.0f}s')\n",
    "    print(f'Best val Acc: {best_acc:4f}')\n",
    "\n",
    "    # Load best model weights\n",
    "    model.load_state_dict(torch.load(best_model_params_path))\n",
    "    \n",
    "    return model, train_losses, train_accs, val_losses, val_accs"
   ]
  },
  {
   "cell_type": "code",
   "execution_count": 8,
   "id": "b67e717d",
   "metadata": {},
   "outputs": [],
   "source": [
    "def plot_training_curves(train_losses, val_losses, train_accs, val_accs, model_name):\n",
    "    fig, (ax1, ax2) = plt.subplots(1, 2, figsize=(15, 5))\n",
    "    \n",
    "    # Plot losses\n",
    "    ax1.plot(train_losses, label='Train Loss')\n",
    "    ax1.plot(val_losses, label='Val Loss')\n",
    "    ax1.set_title(f'{model_name} - Loss')\n",
    "    ax1.set_xlabel('Epoch')\n",
    "    ax1.set_ylabel('Loss')\n",
    "    ax1.legend()\n",
    "    ax1.grid(True)\n",
    "    \n",
    "    # Plot accuracies\n",
    "    ax2.plot(train_accs, label='Train Acc')\n",
    "    ax2.plot(val_accs, label='Val Acc')\n",
    "    ax2.set_title(f'{model_name} - Accuracy')\n",
    "    ax2.set_xlabel('Epoch')\n",
    "    ax2.set_ylabel('Accuracy')\n",
    "    ax2.legend()\n",
    "    ax2.grid(True)\n",
    "    \n",
    "    plt.tight_layout()\n",
    "    plt.savefig(f'{model_name}_training_curves.png', dpi=300, bbox_inches='tight')\n",
    "    plt.show()\n",
    "\n",
    "def visualize_model_predictions(model, num_images=6):\n",
    "    was_training = model.training\n",
    "    model.eval()\n",
    "    images_so_far = 0\n",
    "    fig = plt.figure(figsize=(12, 8))\n",
    "\n",
    "    with torch.no_grad():\n",
    "        for inputs, labels in dataloaders['val']:\n",
    "            inputs = inputs.to(device)\n",
    "            labels = labels.to(device)\n",
    "\n",
    "            outputs = model(inputs)\n",
    "            _, preds = torch.max(outputs, 1)\n",
    "\n",
    "            for j in range(inputs.size()[0]):\n",
    "                images_so_far += 1\n",
    "                ax = plt.subplot(num_images//2, 2, images_so_far)\n",
    "                ax.axis('off')\n",
    "                \n",
    "                # Color code correct/incorrect predictions\n",
    "                color = 'green' if preds[j] == labels[j] else 'red'\n",
    "                ax.set_title(f'Pred: {preds[j].item()} | True: {labels[j].item()}',\n",
    "                           color=color, fontweight='bold')\n",
    "                \n",
    "                # Denormalize and show image\n",
    "                inp = inputs.cpu().data[j]\n",
    "                inp = inp.numpy().transpose((1, 2, 0))\n",
    "                mean = np.array([0.485, 0.456, 0.406])\n",
    "                std = np.array([0.229, 0.224, 0.225])\n",
    "                inp = std * inp + mean\n",
    "                inp = np.clip(inp, 0, 1)\n",
    "                ax.imshow(inp)\n",
    "\n",
    "                if images_so_far == num_images:\n",
    "                    model.train(mode=was_training)\n",
    "                    return\n",
    "        model.train(mode=was_training)\n",
    "\n",
    "def evaluate_model(model, criterion):\n",
    "    was_training = model.training\n",
    "    model.eval()\n",
    "    \n",
    "    test_loss = 0.0\n",
    "    correct = 0\n",
    "    all_preds = []\n",
    "    all_labels = []\n",
    "    \n",
    "    print(\"Evaluating on test set...\")\n",
    "    with torch.no_grad():\n",
    "        for inputs, labels in tqdm(dataloaders['test']):\n",
    "            inputs = inputs.to(device)\n",
    "            labels = labels.to(device)\n",
    "\n",
    "            outputs = model(inputs)\n",
    "            _, preds = torch.max(outputs, 1)\n",
    "            \n",
    "            test_loss += criterion(outputs, labels).item() * inputs.size(0)\n",
    "            correct += torch.sum(preds == labels.data)\n",
    "            \n",
    "            all_preds.extend(preds.cpu().numpy())\n",
    "            all_labels.extend(labels.cpu().numpy())\n",
    "    \n",
    "    test_loss /= dataset_sizes['test']\n",
    "    test_acc = correct.double() / dataset_sizes['test']\n",
    "    \n",
    "    print(f'Test Loss: {test_loss:.4f}')\n",
    "    print(f'Test Accuracy: {test_acc:.4f}')\n",
    "    \n",
    "    model.train(mode=was_training)\n",
    "    return test_loss, test_acc, all_preds, all_labels\n",
    "\n",
    "def plot_confusion_matrix(all_labels, all_preds, class_names=None):\n",
    "    cm = confusion_matrix(all_labels, all_preds)\n",
    "    plt.figure(figsize=(12, 10))\n",
    "    sns.heatmap(cm, annot=False, fmt='d', cmap='Blues', \n",
    "                xticklabels=class_names if class_names else range(102),\n",
    "                yticklabels=class_names if class_names else range(102))\n",
    "    plt.title('Confusion Matrix')\n",
    "    plt.xlabel('Predicted Label')\n",
    "    plt.ylabel('True Label')\n",
    "    plt.tight_layout()\n",
    "    plt.savefig('confusion_matrix.png', dpi=300, bbox_inches='tight')\n",
    "    plt.show()"
   ]
  },
  {
   "cell_type": "code",
   "execution_count": 9,
   "id": "26fbdc7c",
   "metadata": {},
   "outputs": [
    {
     "name": "stdout",
     "output_type": "stream",
     "text": [
      "Downloading: \"https://download.pytorch.org/models/resnet18-f37072fd.pth\" to /home/UG/rishika004/.cache/torch/hub/checkpoints/resnet18-f37072fd.pth\n"
     ]
    },
    {
     "name": "stderr",
     "output_type": "stream",
     "text": [
      "100%|██████████| 44.7M/44.7M [00:00<00:00, 275MB/s]\n",
      "\n"
     ]
    },
    {
     "name": "stdout",
     "output_type": "stream",
     "text": [
      "Model architecture:\n",
      "backbone.layer4.0.conv1.weight: torch.Size([512, 256, 3, 3])\n",
      "backbone.layer4.0.bn1.weight: torch.Size([512])\n",
      "backbone.layer4.0.bn1.bias: torch.Size([512])\n",
      "backbone.layer4.0.conv2.weight: torch.Size([512, 512, 3, 3])\n",
      "backbone.layer4.0.bn2.weight: torch.Size([512])\n",
      "backbone.layer4.0.bn2.bias: torch.Size([512])\n",
      "backbone.layer4.0.downsample.0.weight: torch.Size([512, 256, 1, 1])\n",
      "backbone.layer4.0.downsample.1.weight: torch.Size([512])\n",
      "backbone.layer4.0.downsample.1.bias: torch.Size([512])\n",
      "backbone.layer4.1.conv1.weight: torch.Size([512, 512, 3, 3])\n",
      "backbone.layer4.1.bn1.weight: torch.Size([512])\n",
      "backbone.layer4.1.bn1.bias: torch.Size([512])\n",
      "backbone.layer4.1.conv2.weight: torch.Size([512, 512, 3, 3])\n",
      "backbone.layer4.1.bn2.weight: torch.Size([512])\n",
      "backbone.layer4.1.bn2.bias: torch.Size([512])\n",
      "backbone.fc.weight: torch.Size([102, 512])\n",
      "backbone.fc.bias: torch.Size([102])\n",
      "Epoch 0/49\n",
      "----------\n",
      "Epoch 0/49\n",
      "----------\n"
     ]
    },
    {
     "name": "stderr",
     "output_type": "stream",
     "text": [
      "Train Epoch 0: 100%|██████████| 32/32 [00:24<00:00,  1.33it/s, Loss=4.5855, Acc=0.0357]\n",
      "Train Epoch 0: 100%|██████████| 32/32 [00:24<00:00,  1.33it/s, Loss=4.5855, Acc=0.0357]\n"
     ]
    },
    {
     "name": "stdout",
     "output_type": "stream",
     "text": [
      "train Loss: 4.6938 Acc: 0.0147\n"
     ]
    },
    {
     "name": "stderr",
     "output_type": "stream",
     "text": [
      "Val Epoch 0: 100%|██████████| 32/32 [00:07<00:00,  4.56it/s, Loss=4.2075, Acc=0.1429]\n",
      "\n"
     ]
    },
    {
     "name": "stdout",
     "output_type": "stream",
     "text": [
      "val Loss: 4.3728 Acc: 0.0804\n",
      "New best model saved with val_acc: 0.0804\n",
      "\n",
      "Epoch 1/49\n",
      "----------\n",
      "New best model saved with val_acc: 0.0804\n",
      "\n",
      "Epoch 1/49\n",
      "----------\n"
     ]
    },
    {
     "name": "stderr",
     "output_type": "stream",
     "text": [
      "Train Epoch 1: 100%|██████████| 32/32 [00:14<00:00,  2.21it/s, Loss=3.8780, Acc=0.2857]\n",
      "Train Epoch 1: 100%|██████████| 32/32 [00:14<00:00,  2.21it/s, Loss=3.8780, Acc=0.2857]\n"
     ]
    },
    {
     "name": "stdout",
     "output_type": "stream",
     "text": [
      "train Loss: 4.2212 Acc: 0.1206\n"
     ]
    },
    {
     "name": "stderr",
     "output_type": "stream",
     "text": [
      "Val Epoch 1: 100%|██████████| 32/32 [00:04<00:00,  7.41it/s, Loss=3.4918, Acc=0.4643]\n",
      "\n"
     ]
    },
    {
     "name": "stdout",
     "output_type": "stream",
     "text": [
      "val Loss: 3.8982 Acc: 0.2588\n",
      "New best model saved with val_acc: 0.2588\n",
      "\n",
      "Epoch 2/49\n",
      "----------\n",
      "New best model saved with val_acc: 0.2588\n",
      "\n",
      "Epoch 2/49\n",
      "----------\n"
     ]
    },
    {
     "name": "stderr",
     "output_type": "stream",
     "text": [
      "Train Epoch 2: 100%|██████████| 32/32 [00:11<00:00,  2.68it/s, Loss=3.4896, Acc=0.4286]\n",
      "Train Epoch 2: 100%|██████████| 32/32 [00:11<00:00,  2.68it/s, Loss=3.4896, Acc=0.4286]\n"
     ]
    },
    {
     "name": "stdout",
     "output_type": "stream",
     "text": [
      "train Loss: 3.7541 Acc: 0.3216\n"
     ]
    },
    {
     "name": "stderr",
     "output_type": "stream",
     "text": [
      "Val Epoch 2: 100%|██████████| 32/32 [00:04<00:00,  7.58it/s, Loss=2.8661, Acc=0.6786]\n",
      "\n"
     ]
    },
    {
     "name": "stdout",
     "output_type": "stream",
     "text": [
      "val Loss: 3.3844 Acc: 0.4510\n",
      "New best model saved with val_acc: 0.4510\n",
      "\n",
      "Epoch 3/49\n",
      "----------\n",
      "New best model saved with val_acc: 0.4510\n",
      "\n",
      "Epoch 3/49\n",
      "----------\n"
     ]
    },
    {
     "name": "stderr",
     "output_type": "stream",
     "text": [
      "Train Epoch 3: 100%|██████████| 32/32 [00:11<00:00,  2.81it/s, Loss=2.8084, Acc=0.5714]\n",
      "Train Epoch 3: 100%|██████████| 32/32 [00:11<00:00,  2.81it/s, Loss=2.8084, Acc=0.5714]\n"
     ]
    },
    {
     "name": "stdout",
     "output_type": "stream",
     "text": [
      "train Loss: 3.2675 Acc: 0.4980\n"
     ]
    },
    {
     "name": "stderr",
     "output_type": "stream",
     "text": [
      "Val Epoch 3: 100%|██████████| 32/32 [00:04<00:00,  7.44it/s, Loss=2.1523, Acc=0.8929]\n",
      "\n"
     ]
    },
    {
     "name": "stdout",
     "output_type": "stream",
     "text": [
      "val Loss: 2.8553 Acc: 0.5618\n",
      "New best model saved with val_acc: 0.5618\n",
      "\n",
      "Epoch 4/49\n",
      "----------\n",
      "New best model saved with val_acc: 0.5618\n",
      "\n",
      "Epoch 4/49\n",
      "----------\n"
     ]
    },
    {
     "name": "stderr",
     "output_type": "stream",
     "text": [
      "Train Epoch 4: 100%|██████████| 32/32 [00:12<00:00,  2.66it/s, Loss=2.8464, Acc=0.5714]\n",
      "Train Epoch 4: 100%|██████████| 32/32 [00:12<00:00,  2.66it/s, Loss=2.8464, Acc=0.5714]\n"
     ]
    },
    {
     "name": "stdout",
     "output_type": "stream",
     "text": [
      "train Loss: 2.8044 Acc: 0.6088\n"
     ]
    },
    {
     "name": "stderr",
     "output_type": "stream",
     "text": [
      "Val Epoch 4: 100%|██████████| 32/32 [00:04<00:00,  7.41it/s, Loss=1.6883, Acc=0.9643]\n",
      "\n"
     ]
    },
    {
     "name": "stdout",
     "output_type": "stream",
     "text": [
      "val Loss: 2.4634 Acc: 0.6363\n",
      "New best model saved with val_acc: 0.6363\n",
      "\n",
      "Epoch 5/49\n",
      "----------\n",
      "New best model saved with val_acc: 0.6363\n",
      "\n",
      "Epoch 5/49\n",
      "----------\n"
     ]
    },
    {
     "name": "stderr",
     "output_type": "stream",
     "text": [
      "Train Epoch 5: 100%|██████████| 32/32 [00:11<00:00,  2.77it/s, Loss=2.3858, Acc=0.6786]\n",
      "Train Epoch 5: 100%|██████████| 32/32 [00:11<00:00,  2.77it/s, Loss=2.3858, Acc=0.6786]\n"
     ]
    },
    {
     "name": "stdout",
     "output_type": "stream",
     "text": [
      "train Loss: 2.4319 Acc: 0.6892\n"
     ]
    },
    {
     "name": "stderr",
     "output_type": "stream",
     "text": [
      "Val Epoch 5: 100%|██████████| 32/32 [00:04<00:00,  7.85it/s, Loss=1.2651, Acc=0.9643]\n",
      "\n"
     ]
    },
    {
     "name": "stdout",
     "output_type": "stream",
     "text": [
      "val Loss: 2.0758 Acc: 0.6941\n",
      "New best model saved with val_acc: 0.6941\n",
      "\n",
      "Epoch 6/49\n",
      "----------\n",
      "New best model saved with val_acc: 0.6941\n",
      "\n",
      "Epoch 6/49\n",
      "----------\n"
     ]
    },
    {
     "name": "stderr",
     "output_type": "stream",
     "text": [
      "Train Epoch 6: 100%|██████████| 32/32 [00:11<00:00,  2.81it/s, Loss=1.8713, Acc=0.8571]\n",
      "Train Epoch 6: 100%|██████████| 32/32 [00:11<00:00,  2.81it/s, Loss=1.8713, Acc=0.8571]\n"
     ]
    },
    {
     "name": "stdout",
     "output_type": "stream",
     "text": [
      "train Loss: 2.1545 Acc: 0.7196\n"
     ]
    },
    {
     "name": "stderr",
     "output_type": "stream",
     "text": [
      "Val Epoch 6: 100%|██████████| 32/32 [00:04<00:00,  7.55it/s, Loss=1.1191, Acc=0.9643]\n",
      "\n"
     ]
    },
    {
     "name": "stdout",
     "output_type": "stream",
     "text": [
      "val Loss: 1.7987 Acc: 0.7304\n",
      "New best model saved with val_acc: 0.7304\n",
      "\n",
      "Epoch 7/49\n",
      "----------\n",
      "New best model saved with val_acc: 0.7304\n",
      "\n",
      "Epoch 7/49\n",
      "----------\n"
     ]
    },
    {
     "name": "stderr",
     "output_type": "stream",
     "text": [
      "Train Epoch 7: 100%|██████████| 32/32 [00:10<00:00,  2.94it/s, Loss=2.1714, Acc=0.7143]\n",
      "Train Epoch 7: 100%|██████████| 32/32 [00:10<00:00,  2.94it/s, Loss=2.1714, Acc=0.7143]\n"
     ]
    },
    {
     "name": "stdout",
     "output_type": "stream",
     "text": [
      "train Loss: 1.8906 Acc: 0.7608\n"
     ]
    },
    {
     "name": "stderr",
     "output_type": "stream",
     "text": [
      "Val Epoch 7: 100%|██████████| 32/32 [00:04<00:00,  7.59it/s, Loss=0.9530, Acc=0.9286]\n",
      "\n"
     ]
    },
    {
     "name": "stdout",
     "output_type": "stream",
     "text": [
      "val Loss: 1.5824 Acc: 0.7559\n",
      "New best model saved with val_acc: 0.7559\n",
      "\n",
      "Epoch 8/49\n",
      "----------\n",
      "New best model saved with val_acc: 0.7559\n",
      "\n",
      "Epoch 8/49\n",
      "----------\n"
     ]
    },
    {
     "name": "stderr",
     "output_type": "stream",
     "text": [
      "Train Epoch 8: 100%|██████████| 32/32 [00:11<00:00,  2.82it/s, Loss=1.3070, Acc=0.8929]\n",
      "Train Epoch 8: 100%|██████████| 32/32 [00:11<00:00,  2.82it/s, Loss=1.3070, Acc=0.8929]\n"
     ]
    },
    {
     "name": "stdout",
     "output_type": "stream",
     "text": [
      "train Loss: 1.6476 Acc: 0.8010\n"
     ]
    },
    {
     "name": "stderr",
     "output_type": "stream",
     "text": [
      "Val Epoch 8: 100%|██████████| 32/32 [00:04<00:00,  7.38it/s, Loss=0.8683, Acc=0.9643]\n",
      "\n"
     ]
    },
    {
     "name": "stdout",
     "output_type": "stream",
     "text": [
      "val Loss: 1.4041 Acc: 0.7912\n",
      "New best model saved with val_acc: 0.7912\n",
      "\n",
      "Epoch 9/49\n",
      "----------\n",
      "New best model saved with val_acc: 0.7912\n",
      "\n",
      "Epoch 9/49\n",
      "----------\n"
     ]
    },
    {
     "name": "stderr",
     "output_type": "stream",
     "text": [
      "Train Epoch 9: 100%|██████████| 32/32 [00:12<00:00,  2.63it/s, Loss=1.6843, Acc=0.7500]\n",
      "Train Epoch 9: 100%|██████████| 32/32 [00:12<00:00,  2.63it/s, Loss=1.6843, Acc=0.7500]\n"
     ]
    },
    {
     "name": "stdout",
     "output_type": "stream",
     "text": [
      "train Loss: 1.4937 Acc: 0.8265\n"
     ]
    },
    {
     "name": "stderr",
     "output_type": "stream",
     "text": [
      "Val Epoch 9: 100%|██████████| 32/32 [00:03<00:00,  8.03it/s, Loss=0.6208, Acc=1.0000]\n",
      "\n"
     ]
    },
    {
     "name": "stdout",
     "output_type": "stream",
     "text": [
      "val Loss: 1.2803 Acc: 0.8049\n",
      "New best model saved with val_acc: 0.8049\n",
      "\n",
      "Epoch 10/49\n",
      "----------\n",
      "New best model saved with val_acc: 0.8049\n",
      "\n",
      "Epoch 10/49\n",
      "----------\n"
     ]
    },
    {
     "name": "stderr",
     "output_type": "stream",
     "text": [
      "Train Epoch 10: 100%|██████████| 32/32 [00:11<00:00,  2.76it/s, Loss=1.2411, Acc=0.8929]\n",
      "Train Epoch 10: 100%|██████████| 32/32 [00:11<00:00,  2.76it/s, Loss=1.2411, Acc=0.8929]\n"
     ]
    },
    {
     "name": "stdout",
     "output_type": "stream",
     "text": [
      "train Loss: 1.3188 Acc: 0.8510\n"
     ]
    },
    {
     "name": "stderr",
     "output_type": "stream",
     "text": [
      "Val Epoch 10: 100%|██████████| 32/32 [00:04<00:00,  7.97it/s, Loss=0.6603, Acc=0.9643]\n",
      "\n"
     ]
    },
    {
     "name": "stdout",
     "output_type": "stream",
     "text": [
      "val Loss: 1.1605 Acc: 0.8245\n",
      "New best model saved with val_acc: 0.8245\n",
      "\n",
      "Epoch 11/49\n",
      "----------\n",
      "New best model saved with val_acc: 0.8245\n",
      "\n",
      "Epoch 11/49\n",
      "----------\n"
     ]
    },
    {
     "name": "stderr",
     "output_type": "stream",
     "text": [
      "Train Epoch 11: 100%|██████████| 32/32 [00:11<00:00,  2.69it/s, Loss=1.1104, Acc=0.8214]\n",
      "Train Epoch 11: 100%|██████████| 32/32 [00:11<00:00,  2.69it/s, Loss=1.1104, Acc=0.8214]\n"
     ]
    },
    {
     "name": "stdout",
     "output_type": "stream",
     "text": [
      "train Loss: 1.1799 Acc: 0.8804\n"
     ]
    },
    {
     "name": "stderr",
     "output_type": "stream",
     "text": [
      "Val Epoch 11: 100%|██████████| 32/32 [00:04<00:00,  7.71it/s, Loss=0.5977, Acc=0.9286]\n",
      "\n"
     ]
    },
    {
     "name": "stdout",
     "output_type": "stream",
     "text": [
      "val Loss: 1.0346 Acc: 0.8343\n",
      "New best model saved with val_acc: 0.8343\n",
      "\n",
      "Epoch 12/49\n",
      "----------\n",
      "New best model saved with val_acc: 0.8343\n",
      "\n",
      "Epoch 12/49\n",
      "----------\n"
     ]
    },
    {
     "name": "stderr",
     "output_type": "stream",
     "text": [
      "Train Epoch 12: 100%|██████████| 32/32 [00:11<00:00,  2.78it/s, Loss=1.0787, Acc=0.8571]\n",
      "Train Epoch 12: 100%|██████████| 32/32 [00:11<00:00,  2.78it/s, Loss=1.0787, Acc=0.8571]\n"
     ]
    },
    {
     "name": "stdout",
     "output_type": "stream",
     "text": [
      "train Loss: 1.0743 Acc: 0.8784\n"
     ]
    },
    {
     "name": "stderr",
     "output_type": "stream",
     "text": [
      "Val Epoch 12: 100%|██████████| 32/32 [00:04<00:00,  7.56it/s, Loss=0.6188, Acc=0.9286]\n",
      "\n"
     ]
    },
    {
     "name": "stdout",
     "output_type": "stream",
     "text": [
      "val Loss: 0.9809 Acc: 0.8471\n",
      "New best model saved with val_acc: 0.8471\n",
      "\n",
      "Epoch 13/49\n",
      "----------\n",
      "New best model saved with val_acc: 0.8471\n",
      "\n",
      "Epoch 13/49\n",
      "----------\n"
     ]
    },
    {
     "name": "stderr",
     "output_type": "stream",
     "text": [
      "Train Epoch 13: 100%|██████████| 32/32 [00:10<00:00,  2.97it/s, Loss=1.1673, Acc=0.8571]\n",
      "Train Epoch 13: 100%|██████████| 32/32 [00:10<00:00,  2.97it/s, Loss=1.1673, Acc=0.8571]\n"
     ]
    },
    {
     "name": "stdout",
     "output_type": "stream",
     "text": [
      "train Loss: 0.9906 Acc: 0.8765\n"
     ]
    },
    {
     "name": "stderr",
     "output_type": "stream",
     "text": [
      "Val Epoch 13: 100%|██████████| 32/32 [00:04<00:00,  7.45it/s, Loss=0.5340, Acc=0.9643]\n",
      "\n"
     ]
    },
    {
     "name": "stdout",
     "output_type": "stream",
     "text": [
      "val Loss: 0.9082 Acc: 0.8490\n",
      "New best model saved with val_acc: 0.8490\n",
      "\n",
      "Epoch 14/49\n",
      "----------\n",
      "New best model saved with val_acc: 0.8490\n",
      "\n",
      "Epoch 14/49\n",
      "----------\n"
     ]
    },
    {
     "name": "stderr",
     "output_type": "stream",
     "text": [
      "Train Epoch 14: 100%|██████████| 32/32 [00:12<00:00,  2.55it/s, Loss=0.8626, Acc=0.8571]\n",
      "Train Epoch 14: 100%|██████████| 32/32 [00:12<00:00,  2.55it/s, Loss=0.8626, Acc=0.8571]\n"
     ]
    },
    {
     "name": "stdout",
     "output_type": "stream",
     "text": [
      "train Loss: 0.8667 Acc: 0.8990\n"
     ]
    },
    {
     "name": "stderr",
     "output_type": "stream",
     "text": [
      "Val Epoch 14: 100%|██████████| 32/32 [00:04<00:00,  7.70it/s, Loss=0.4701, Acc=0.9643]\n",
      "\n"
     ]
    },
    {
     "name": "stdout",
     "output_type": "stream",
     "text": [
      "val Loss: 0.8374 Acc: 0.8618\n",
      "New best model saved with val_acc: 0.8618\n",
      "\n",
      "Epoch 15/49\n",
      "----------\n",
      "New best model saved with val_acc: 0.8618\n",
      "\n",
      "Epoch 15/49\n",
      "----------\n"
     ]
    },
    {
     "name": "stderr",
     "output_type": "stream",
     "text": [
      "Train Epoch 15: 100%|██████████| 32/32 [00:11<00:00,  2.75it/s, Loss=0.9109, Acc=0.8929]\n",
      "Train Epoch 15: 100%|██████████| 32/32 [00:11<00:00,  2.75it/s, Loss=0.9109, Acc=0.8929]\n"
     ]
    },
    {
     "name": "stdout",
     "output_type": "stream",
     "text": [
      "train Loss: 0.8323 Acc: 0.9010\n"
     ]
    },
    {
     "name": "stderr",
     "output_type": "stream",
     "text": [
      "Val Epoch 15: 100%|██████████| 32/32 [00:04<00:00,  7.51it/s, Loss=0.4278, Acc=0.9643]\n",
      "Val Epoch 15: 100%|██████████| 32/32 [00:04<00:00,  7.51it/s, Loss=0.4278, Acc=0.9643]\n"
     ]
    },
    {
     "name": "stdout",
     "output_type": "stream",
     "text": [
      "val Loss: 0.8056 Acc: 0.8588\n",
      "\n",
      "Epoch 16/49\n",
      "----------\n"
     ]
    },
    {
     "name": "stderr",
     "output_type": "stream",
     "text": [
      "Train Epoch 16: 100%|██████████| 32/32 [00:11<00:00,  2.78it/s, Loss=0.8714, Acc=0.9286]\n",
      "Train Epoch 16: 100%|██████████| 32/32 [00:11<00:00,  2.78it/s, Loss=0.8714, Acc=0.9286]\n"
     ]
    },
    {
     "name": "stdout",
     "output_type": "stream",
     "text": [
      "train Loss: 0.7677 Acc: 0.9235\n"
     ]
    },
    {
     "name": "stderr",
     "output_type": "stream",
     "text": [
      "Val Epoch 16: 100%|██████████| 32/32 [00:04<00:00,  7.46it/s, Loss=0.3741, Acc=0.9643]\n",
      "\n"
     ]
    },
    {
     "name": "stdout",
     "output_type": "stream",
     "text": [
      "val Loss: 0.7662 Acc: 0.8706\n",
      "New best model saved with val_acc: 0.8706\n",
      "\n",
      "Epoch 17/49\n",
      "----------\n",
      "New best model saved with val_acc: 0.8706\n",
      "\n",
      "Epoch 17/49\n",
      "----------\n"
     ]
    },
    {
     "name": "stderr",
     "output_type": "stream",
     "text": [
      "Train Epoch 17: 100%|██████████| 32/32 [00:11<00:00,  2.68it/s, Loss=0.9215, Acc=0.8571]\n",
      "Train Epoch 17: 100%|██████████| 32/32 [00:11<00:00,  2.68it/s, Loss=0.9215, Acc=0.8571]\n"
     ]
    },
    {
     "name": "stdout",
     "output_type": "stream",
     "text": [
      "train Loss: 0.7063 Acc: 0.9275\n"
     ]
    },
    {
     "name": "stderr",
     "output_type": "stream",
     "text": [
      "Val Epoch 17: 100%|██████████| 32/32 [00:04<00:00,  7.93it/s, Loss=0.4086, Acc=0.9643]\n",
      "Val Epoch 17: 100%|██████████| 32/32 [00:04<00:00,  7.93it/s, Loss=0.4086, Acc=0.9643]\n"
     ]
    },
    {
     "name": "stdout",
     "output_type": "stream",
     "text": [
      "val Loss: 0.7404 Acc: 0.8706\n",
      "\n",
      "Epoch 18/49\n",
      "----------\n"
     ]
    },
    {
     "name": "stderr",
     "output_type": "stream",
     "text": [
      "Train Epoch 18: 100%|██████████| 32/32 [00:10<00:00,  2.97it/s, Loss=0.5809, Acc=0.9643]\n",
      "Train Epoch 18: 100%|██████████| 32/32 [00:10<00:00,  2.97it/s, Loss=0.5809, Acc=0.9643]\n"
     ]
    },
    {
     "name": "stdout",
     "output_type": "stream",
     "text": [
      "train Loss: 0.6473 Acc: 0.9245\n"
     ]
    },
    {
     "name": "stderr",
     "output_type": "stream",
     "text": [
      "Val Epoch 18: 100%|██████████| 32/32 [00:04<00:00,  7.72it/s, Loss=0.3865, Acc=0.9643]\n",
      "\n"
     ]
    },
    {
     "name": "stdout",
     "output_type": "stream",
     "text": [
      "val Loss: 0.6787 Acc: 0.8794\n",
      "New best model saved with val_acc: 0.8794\n",
      "\n",
      "Epoch 19/49\n",
      "----------\n",
      "New best model saved with val_acc: 0.8794\n",
      "\n",
      "Epoch 19/49\n",
      "----------\n"
     ]
    },
    {
     "name": "stderr",
     "output_type": "stream",
     "text": [
      "Train Epoch 19: 100%|██████████| 32/32 [00:10<00:00,  2.94it/s, Loss=0.6894, Acc=0.8929]\n",
      "Train Epoch 19: 100%|██████████| 32/32 [00:10<00:00,  2.94it/s, Loss=0.6894, Acc=0.8929]\n"
     ]
    },
    {
     "name": "stdout",
     "output_type": "stream",
     "text": [
      "train Loss: 0.6139 Acc: 0.9343\n"
     ]
    },
    {
     "name": "stderr",
     "output_type": "stream",
     "text": [
      "Val Epoch 19: 100%|██████████| 32/32 [00:04<00:00,  7.79it/s, Loss=0.3731, Acc=0.9643]\n",
      "\n"
     ]
    },
    {
     "name": "stdout",
     "output_type": "stream",
     "text": [
      "val Loss: 0.6663 Acc: 0.8833\n",
      "New best model saved with val_acc: 0.8833\n",
      "\n",
      "Epoch 20/49\n",
      "----------\n",
      "New best model saved with val_acc: 0.8833\n",
      "\n",
      "Epoch 20/49\n",
      "----------\n"
     ]
    },
    {
     "name": "stderr",
     "output_type": "stream",
     "text": [
      "Train Epoch 20: 100%|██████████| 32/32 [00:11<00:00,  2.84it/s, Loss=0.6985, Acc=0.9286]\n",
      "Train Epoch 20: 100%|██████████| 32/32 [00:11<00:00,  2.84it/s, Loss=0.6985, Acc=0.9286]\n"
     ]
    },
    {
     "name": "stdout",
     "output_type": "stream",
     "text": [
      "train Loss: 0.5967 Acc: 0.9333\n"
     ]
    },
    {
     "name": "stderr",
     "output_type": "stream",
     "text": [
      "Val Epoch 20: 100%|██████████| 32/32 [00:04<00:00,  7.71it/s, Loss=0.4130, Acc=0.9643]\n",
      "\n"
     ]
    },
    {
     "name": "stdout",
     "output_type": "stream",
     "text": [
      "val Loss: 0.6256 Acc: 0.8941\n",
      "New best model saved with val_acc: 0.8941\n",
      "\n",
      "Epoch 21/49\n",
      "----------\n",
      "New best model saved with val_acc: 0.8941\n",
      "\n",
      "Epoch 21/49\n",
      "----------\n"
     ]
    },
    {
     "name": "stderr",
     "output_type": "stream",
     "text": [
      "Train Epoch 21: 100%|██████████| 32/32 [00:12<00:00,  2.63it/s, Loss=0.8496, Acc=0.8929]\n",
      "Train Epoch 21: 100%|██████████| 32/32 [00:12<00:00,  2.63it/s, Loss=0.8496, Acc=0.8929]\n"
     ]
    },
    {
     "name": "stdout",
     "output_type": "stream",
     "text": [
      "train Loss: 0.5684 Acc: 0.9363\n"
     ]
    },
    {
     "name": "stderr",
     "output_type": "stream",
     "text": [
      "Val Epoch 21: 100%|██████████| 32/32 [00:04<00:00,  7.26it/s, Loss=0.3658, Acc=0.9643]\n",
      "\n"
     ]
    },
    {
     "name": "stdout",
     "output_type": "stream",
     "text": [
      "val Loss: 0.6056 Acc: 0.9020\n",
      "New best model saved with val_acc: 0.9020\n",
      "\n",
      "Epoch 22/49\n",
      "----------\n",
      "New best model saved with val_acc: 0.9020\n",
      "\n",
      "Epoch 22/49\n",
      "----------\n"
     ]
    },
    {
     "name": "stderr",
     "output_type": "stream",
     "text": [
      "Train Epoch 22: 100%|██████████| 32/32 [00:10<00:00,  2.96it/s, Loss=0.8169, Acc=0.8929]\n",
      "Train Epoch 22: 100%|██████████| 32/32 [00:10<00:00,  2.96it/s, Loss=0.8169, Acc=0.8929]\n"
     ]
    },
    {
     "name": "stdout",
     "output_type": "stream",
     "text": [
      "train Loss: 0.5465 Acc: 0.9333\n"
     ]
    },
    {
     "name": "stderr",
     "output_type": "stream",
     "text": [
      "Val Epoch 22: 100%|██████████| 32/32 [00:04<00:00,  7.41it/s, Loss=0.2421, Acc=0.9643]\n",
      "Val Epoch 22: 100%|██████████| 32/32 [00:04<00:00,  7.41it/s, Loss=0.2421, Acc=0.9643]\n"
     ]
    },
    {
     "name": "stdout",
     "output_type": "stream",
     "text": [
      "val Loss: 0.5962 Acc: 0.8931\n",
      "\n",
      "Epoch 23/49\n",
      "----------\n"
     ]
    },
    {
     "name": "stderr",
     "output_type": "stream",
     "text": [
      "Train Epoch 23: 100%|██████████| 32/32 [00:11<00:00,  2.75it/s, Loss=0.6412, Acc=0.9286]\n",
      "Train Epoch 23: 100%|██████████| 32/32 [00:11<00:00,  2.75it/s, Loss=0.6412, Acc=0.9286]\n"
     ]
    },
    {
     "name": "stdout",
     "output_type": "stream",
     "text": [
      "train Loss: 0.5007 Acc: 0.9333\n"
     ]
    },
    {
     "name": "stderr",
     "output_type": "stream",
     "text": [
      "Val Epoch 23: 100%|██████████| 32/32 [00:05<00:00,  6.31it/s, Loss=0.2484, Acc=0.9643]\n",
      "Val Epoch 23: 100%|██████████| 32/32 [00:05<00:00,  6.31it/s, Loss=0.2484, Acc=0.9643]\n"
     ]
    },
    {
     "name": "stdout",
     "output_type": "stream",
     "text": [
      "val Loss: 0.5748 Acc: 0.8941\n",
      "\n",
      "Epoch 24/49\n",
      "----------\n"
     ]
    },
    {
     "name": "stderr",
     "output_type": "stream",
     "text": [
      "Train Epoch 24: 100%|██████████| 32/32 [00:11<00:00,  2.80it/s, Loss=0.5082, Acc=0.9286]\n",
      "Train Epoch 24: 100%|██████████| 32/32 [00:11<00:00,  2.80it/s, Loss=0.5082, Acc=0.9286]\n"
     ]
    },
    {
     "name": "stdout",
     "output_type": "stream",
     "text": [
      "train Loss: 0.4760 Acc: 0.9392\n"
     ]
    },
    {
     "name": "stderr",
     "output_type": "stream",
     "text": [
      "Val Epoch 24: 100%|██████████| 32/32 [00:04<00:00,  7.51it/s, Loss=0.2328, Acc=0.9643]\n",
      "Val Epoch 24: 100%|██████████| 32/32 [00:04<00:00,  7.51it/s, Loss=0.2328, Acc=0.9643]\n"
     ]
    },
    {
     "name": "stdout",
     "output_type": "stream",
     "text": [
      "val Loss: 0.5561 Acc: 0.8882\n",
      "\n",
      "Epoch 25/49\n",
      "----------\n"
     ]
    },
    {
     "name": "stderr",
     "output_type": "stream",
     "text": [
      "Train Epoch 25: 100%|██████████| 32/32 [00:11<00:00,  2.78it/s, Loss=0.4205, Acc=0.9286]\n",
      "Train Epoch 25: 100%|██████████| 32/32 [00:11<00:00,  2.78it/s, Loss=0.4205, Acc=0.9286]\n"
     ]
    },
    {
     "name": "stdout",
     "output_type": "stream",
     "text": [
      "train Loss: 0.4367 Acc: 0.9500\n"
     ]
    },
    {
     "name": "stderr",
     "output_type": "stream",
     "text": [
      "Val Epoch 25: 100%|██████████| 32/32 [00:04<00:00,  7.55it/s, Loss=0.2750, Acc=0.9643]\n",
      "Val Epoch 25: 100%|██████████| 32/32 [00:04<00:00,  7.55it/s, Loss=0.2750, Acc=0.9643]\n"
     ]
    },
    {
     "name": "stdout",
     "output_type": "stream",
     "text": [
      "val Loss: 0.5413 Acc: 0.9000\n",
      "\n",
      "Epoch 26/49\n",
      "----------\n"
     ]
    },
    {
     "name": "stderr",
     "output_type": "stream",
     "text": [
      "Train Epoch 26: 100%|██████████| 32/32 [00:11<00:00,  2.86it/s, Loss=0.7200, Acc=0.8929]\n",
      "Train Epoch 26: 100%|██████████| 32/32 [00:11<00:00,  2.86it/s, Loss=0.7200, Acc=0.8929]\n"
     ]
    },
    {
     "name": "stdout",
     "output_type": "stream",
     "text": [
      "train Loss: 0.4248 Acc: 0.9402\n"
     ]
    },
    {
     "name": "stderr",
     "output_type": "stream",
     "text": [
      "Val Epoch 26: 100%|██████████| 32/32 [00:04<00:00,  7.80it/s, Loss=0.2236, Acc=0.9643]\n",
      "\n"
     ]
    },
    {
     "name": "stdout",
     "output_type": "stream",
     "text": [
      "val Loss: 0.5286 Acc: 0.9118\n",
      "New best model saved with val_acc: 0.9118\n",
      "\n",
      "Epoch 27/49\n",
      "----------\n",
      "New best model saved with val_acc: 0.9118\n",
      "\n",
      "Epoch 27/49\n",
      "----------\n"
     ]
    },
    {
     "name": "stderr",
     "output_type": "stream",
     "text": [
      "Train Epoch 27: 100%|██████████| 32/32 [00:11<00:00,  2.78it/s, Loss=0.4794, Acc=0.9286]\n",
      "Train Epoch 27: 100%|██████████| 32/32 [00:11<00:00,  2.78it/s, Loss=0.4794, Acc=0.9286]\n"
     ]
    },
    {
     "name": "stdout",
     "output_type": "stream",
     "text": [
      "train Loss: 0.4364 Acc: 0.9480\n"
     ]
    },
    {
     "name": "stderr",
     "output_type": "stream",
     "text": [
      "Val Epoch 27: 100%|██████████| 32/32 [00:04<00:00,  7.56it/s, Loss=0.2698, Acc=0.9643]\n",
      "Val Epoch 27: 100%|██████████| 32/32 [00:04<00:00,  7.56it/s, Loss=0.2698, Acc=0.9643]\n"
     ]
    },
    {
     "name": "stdout",
     "output_type": "stream",
     "text": [
      "val Loss: 0.5077 Acc: 0.9118\n",
      "\n",
      "Epoch 28/49\n",
      "----------\n"
     ]
    },
    {
     "name": "stderr",
     "output_type": "stream",
     "text": [
      "Train Epoch 28: 100%|██████████| 32/32 [00:11<00:00,  2.77it/s, Loss=0.3773, Acc=0.9286]\n",
      "Train Epoch 28: 100%|██████████| 32/32 [00:11<00:00,  2.77it/s, Loss=0.3773, Acc=0.9286]\n"
     ]
    },
    {
     "name": "stdout",
     "output_type": "stream",
     "text": [
      "train Loss: 0.3801 Acc: 0.9559\n"
     ]
    },
    {
     "name": "stderr",
     "output_type": "stream",
     "text": [
      "Val Epoch 28: 100%|██████████| 32/32 [00:04<00:00,  7.76it/s, Loss=0.2306, Acc=0.9643]\n",
      "Val Epoch 28: 100%|██████████| 32/32 [00:04<00:00,  7.76it/s, Loss=0.2306, Acc=0.9643]\n"
     ]
    },
    {
     "name": "stdout",
     "output_type": "stream",
     "text": [
      "val Loss: 0.5130 Acc: 0.9069\n",
      "\n",
      "Epoch 29/49\n",
      "----------\n"
     ]
    },
    {
     "name": "stderr",
     "output_type": "stream",
     "text": [
      "Train Epoch 29: 100%|██████████| 32/32 [00:11<00:00,  2.75it/s, Loss=0.4142, Acc=0.9286]\n",
      "Train Epoch 29: 100%|██████████| 32/32 [00:11<00:00,  2.75it/s, Loss=0.4142, Acc=0.9286]\n"
     ]
    },
    {
     "name": "stdout",
     "output_type": "stream",
     "text": [
      "train Loss: 0.3979 Acc: 0.9461\n"
     ]
    },
    {
     "name": "stderr",
     "output_type": "stream",
     "text": [
      "Val Epoch 29: 100%|██████████| 32/32 [00:04<00:00,  7.81it/s, Loss=0.2236, Acc=0.9643]\n",
      "Val Epoch 29: 100%|██████████| 32/32 [00:04<00:00,  7.81it/s, Loss=0.2236, Acc=0.9643]\n"
     ]
    },
    {
     "name": "stdout",
     "output_type": "stream",
     "text": [
      "val Loss: 0.5001 Acc: 0.9069\n",
      "\n",
      "Epoch 30/49\n",
      "----------\n"
     ]
    },
    {
     "name": "stderr",
     "output_type": "stream",
     "text": [
      "Train Epoch 30: 100%|██████████| 32/32 [00:11<00:00,  2.68it/s, Loss=0.2220, Acc=1.0000]\n",
      "Train Epoch 30: 100%|██████████| 32/32 [00:11<00:00,  2.68it/s, Loss=0.2220, Acc=1.0000]\n"
     ]
    },
    {
     "name": "stdout",
     "output_type": "stream",
     "text": [
      "train Loss: 0.3322 Acc: 0.9618\n"
     ]
    },
    {
     "name": "stderr",
     "output_type": "stream",
     "text": [
      "Val Epoch 30: 100%|██████████| 32/32 [00:04<00:00,  7.41it/s, Loss=0.2118, Acc=0.9643]\n",
      "Val Epoch 30: 100%|██████████| 32/32 [00:04<00:00,  7.41it/s, Loss=0.2118, Acc=0.9643]\n"
     ]
    },
    {
     "name": "stdout",
     "output_type": "stream",
     "text": [
      "val Loss: 0.4953 Acc: 0.9039\n",
      "\n",
      "Epoch 31/49\n",
      "----------\n"
     ]
    },
    {
     "name": "stderr",
     "output_type": "stream",
     "text": [
      "Train Epoch 31: 100%|██████████| 32/32 [00:11<00:00,  2.70it/s, Loss=0.2806, Acc=1.0000]\n",
      "Train Epoch 31: 100%|██████████| 32/32 [00:11<00:00,  2.70it/s, Loss=0.2806, Acc=1.0000]\n"
     ]
    },
    {
     "name": "stdout",
     "output_type": "stream",
     "text": [
      "train Loss: 0.3269 Acc: 0.9647\n"
     ]
    },
    {
     "name": "stderr",
     "output_type": "stream",
     "text": [
      "Val Epoch 31: 100%|██████████| 32/32 [00:04<00:00,  7.58it/s, Loss=0.2100, Acc=0.9643]\n",
      "Val Epoch 31: 100%|██████████| 32/32 [00:04<00:00,  7.58it/s, Loss=0.2100, Acc=0.9643]\n"
     ]
    },
    {
     "name": "stdout",
     "output_type": "stream",
     "text": [
      "val Loss: 0.4947 Acc: 0.9049\n",
      "\n",
      "Epoch 32/49\n",
      "----------\n"
     ]
    },
    {
     "name": "stderr",
     "output_type": "stream",
     "text": [
      "Train Epoch 32: 100%|██████████| 32/32 [00:11<00:00,  2.75it/s, Loss=0.2677, Acc=1.0000]\n",
      "Train Epoch 32: 100%|██████████| 32/32 [00:11<00:00,  2.75it/s, Loss=0.2677, Acc=1.0000]\n"
     ]
    },
    {
     "name": "stdout",
     "output_type": "stream",
     "text": [
      "train Loss: 0.3251 Acc: 0.9657\n"
     ]
    },
    {
     "name": "stderr",
     "output_type": "stream",
     "text": [
      "Val Epoch 32: 100%|██████████| 32/32 [00:04<00:00,  7.86it/s, Loss=0.2198, Acc=0.9643]\n",
      "Val Epoch 32: 100%|██████████| 32/32 [00:04<00:00,  7.86it/s, Loss=0.2198, Acc=0.9643]\n"
     ]
    },
    {
     "name": "stdout",
     "output_type": "stream",
     "text": [
      "val Loss: 0.4967 Acc: 0.9069\n",
      "\n",
      "Epoch 33/49\n",
      "----------\n"
     ]
    },
    {
     "name": "stderr",
     "output_type": "stream",
     "text": [
      "Train Epoch 33: 100%|██████████| 32/32 [00:11<00:00,  2.72it/s, Loss=0.4873, Acc=0.8214]\n",
      "Train Epoch 33: 100%|██████████| 32/32 [00:11<00:00,  2.72it/s, Loss=0.4873, Acc=0.8214]\n"
     ]
    },
    {
     "name": "stdout",
     "output_type": "stream",
     "text": [
      "train Loss: 0.3640 Acc: 0.9588\n"
     ]
    },
    {
     "name": "stderr",
     "output_type": "stream",
     "text": [
      "Val Epoch 33: 100%|██████████| 32/32 [00:04<00:00,  7.70it/s, Loss=0.2345, Acc=0.9643]\n",
      "Val Epoch 33: 100%|██████████| 32/32 [00:04<00:00,  7.70it/s, Loss=0.2345, Acc=0.9643]\n"
     ]
    },
    {
     "name": "stdout",
     "output_type": "stream",
     "text": [
      "val Loss: 0.4983 Acc: 0.9029\n",
      "\n",
      "Epoch 34/49\n",
      "----------\n"
     ]
    },
    {
     "name": "stderr",
     "output_type": "stream",
     "text": [
      "Train Epoch 34: 100%|██████████| 32/32 [00:12<00:00,  2.62it/s, Loss=0.1895, Acc=1.0000]\n",
      "Train Epoch 34: 100%|██████████| 32/32 [00:12<00:00,  2.62it/s, Loss=0.1895, Acc=1.0000]\n"
     ]
    },
    {
     "name": "stdout",
     "output_type": "stream",
     "text": [
      "train Loss: 0.3153 Acc: 0.9637\n"
     ]
    },
    {
     "name": "stderr",
     "output_type": "stream",
     "text": [
      "Val Epoch 34: 100%|██████████| 32/32 [00:04<00:00,  7.42it/s, Loss=0.1992, Acc=0.9643]\n",
      "Val Epoch 34: 100%|██████████| 32/32 [00:04<00:00,  7.42it/s, Loss=0.1992, Acc=0.9643]\n"
     ]
    },
    {
     "name": "stdout",
     "output_type": "stream",
     "text": [
      "val Loss: 0.4889 Acc: 0.9078\n",
      "\n",
      "Epoch 35/49\n",
      "----------\n"
     ]
    },
    {
     "name": "stderr",
     "output_type": "stream",
     "text": [
      "Train Epoch 35: 100%|██████████| 32/32 [00:11<00:00,  2.80it/s, Loss=0.2701, Acc=0.9643]\n",
      "Train Epoch 35: 100%|██████████| 32/32 [00:11<00:00,  2.80it/s, Loss=0.2701, Acc=0.9643]\n"
     ]
    },
    {
     "name": "stdout",
     "output_type": "stream",
     "text": [
      "train Loss: 0.3264 Acc: 0.9696\n"
     ]
    },
    {
     "name": "stderr",
     "output_type": "stream",
     "text": [
      "Val Epoch 35: 100%|██████████| 32/32 [00:04<00:00,  7.71it/s, Loss=0.2056, Acc=0.9643]\n",
      "Val Epoch 35: 100%|██████████| 32/32 [00:04<00:00,  7.71it/s, Loss=0.2056, Acc=0.9643]\n"
     ]
    },
    {
     "name": "stdout",
     "output_type": "stream",
     "text": [
      "val Loss: 0.4831 Acc: 0.9049\n",
      "\n",
      "Epoch 36/49\n",
      "----------\n"
     ]
    },
    {
     "name": "stderr",
     "output_type": "stream",
     "text": [
      "Train Epoch 36: 100%|██████████| 32/32 [00:11<00:00,  2.74it/s, Loss=0.3267, Acc=0.8929]\n",
      "Train Epoch 36: 100%|██████████| 32/32 [00:11<00:00,  2.74it/s, Loss=0.3267, Acc=0.8929]\n"
     ]
    },
    {
     "name": "stdout",
     "output_type": "stream",
     "text": [
      "train Loss: 0.3090 Acc: 0.9637\n"
     ]
    },
    {
     "name": "stderr",
     "output_type": "stream",
     "text": [
      "Val Epoch 36: 100%|██████████| 32/32 [00:04<00:00,  7.52it/s, Loss=0.2143, Acc=0.9643]\n",
      "\n"
     ]
    },
    {
     "name": "stdout",
     "output_type": "stream",
     "text": [
      "val Loss: 0.4868 Acc: 0.9137\n",
      "New best model saved with val_acc: 0.9137\n",
      "\n",
      "Epoch 37/49\n",
      "----------\n",
      "New best model saved with val_acc: 0.9137\n",
      "\n",
      "Epoch 37/49\n",
      "----------\n"
     ]
    },
    {
     "name": "stderr",
     "output_type": "stream",
     "text": [
      "Train Epoch 37: 100%|██████████| 32/32 [00:14<00:00,  2.19it/s, Loss=0.2683, Acc=0.9643]\n",
      "Train Epoch 37: 100%|██████████| 32/32 [00:14<00:00,  2.19it/s, Loss=0.2683, Acc=0.9643]\n"
     ]
    },
    {
     "name": "stdout",
     "output_type": "stream",
     "text": [
      "train Loss: 0.3301 Acc: 0.9627\n"
     ]
    },
    {
     "name": "stderr",
     "output_type": "stream",
     "text": [
      "Val Epoch 37: 100%|██████████| 32/32 [00:04<00:00,  7.58it/s, Loss=0.1938, Acc=0.9643]\n",
      "Val Epoch 37: 100%|██████████| 32/32 [00:04<00:00,  7.58it/s, Loss=0.1938, Acc=0.9643]\n"
     ]
    },
    {
     "name": "stdout",
     "output_type": "stream",
     "text": [
      "val Loss: 0.4905 Acc: 0.9118\n",
      "\n",
      "Epoch 38/49\n",
      "----------\n"
     ]
    },
    {
     "name": "stderr",
     "output_type": "stream",
     "text": [
      "Train Epoch 38: 100%|██████████| 32/32 [00:11<00:00,  2.68it/s, Loss=0.3496, Acc=0.9643]\n",
      "Train Epoch 38: 100%|██████████| 32/32 [00:11<00:00,  2.68it/s, Loss=0.3496, Acc=0.9643]\n"
     ]
    },
    {
     "name": "stdout",
     "output_type": "stream",
     "text": [
      "train Loss: 0.3400 Acc: 0.9559\n"
     ]
    },
    {
     "name": "stderr",
     "output_type": "stream",
     "text": [
      "Val Epoch 38: 100%|██████████| 32/32 [00:04<00:00,  7.38it/s, Loss=0.2061, Acc=0.9643]\n",
      "Val Epoch 38: 100%|██████████| 32/32 [00:04<00:00,  7.38it/s, Loss=0.2061, Acc=0.9643]\n"
     ]
    },
    {
     "name": "stdout",
     "output_type": "stream",
     "text": [
      "val Loss: 0.4853 Acc: 0.9098\n",
      "\n",
      "Epoch 39/49\n",
      "----------\n"
     ]
    },
    {
     "name": "stderr",
     "output_type": "stream",
     "text": [
      "Train Epoch 39: 100%|██████████| 32/32 [00:11<00:00,  2.70it/s, Loss=0.2917, Acc=1.0000]\n",
      "Train Epoch 39: 100%|██████████| 32/32 [00:11<00:00,  2.70it/s, Loss=0.2917, Acc=1.0000]\n"
     ]
    },
    {
     "name": "stdout",
     "output_type": "stream",
     "text": [
      "train Loss: 0.3258 Acc: 0.9647\n"
     ]
    },
    {
     "name": "stderr",
     "output_type": "stream",
     "text": [
      "Val Epoch 39: 100%|██████████| 32/32 [00:04<00:00,  7.33it/s, Loss=0.2148, Acc=0.9643]\n",
      "Val Epoch 39: 100%|██████████| 32/32 [00:04<00:00,  7.33it/s, Loss=0.2148, Acc=0.9643]\n"
     ]
    },
    {
     "name": "stdout",
     "output_type": "stream",
     "text": [
      "val Loss: 0.4822 Acc: 0.9118\n",
      "\n",
      "Epoch 40/49\n",
      "----------\n"
     ]
    },
    {
     "name": "stderr",
     "output_type": "stream",
     "text": [
      "Train Epoch 40: 100%|██████████| 32/32 [00:12<00:00,  2.65it/s, Loss=0.2996, Acc=0.9286]\n",
      "Train Epoch 40: 100%|██████████| 32/32 [00:12<00:00,  2.65it/s, Loss=0.2996, Acc=0.9286]\n"
     ]
    },
    {
     "name": "stdout",
     "output_type": "stream",
     "text": [
      "train Loss: 0.3195 Acc: 0.9608\n"
     ]
    },
    {
     "name": "stderr",
     "output_type": "stream",
     "text": [
      "Val Epoch 40: 100%|██████████| 32/32 [00:04<00:00,  7.20it/s, Loss=0.2393, Acc=0.9643]\n",
      "Val Epoch 40: 100%|██████████| 32/32 [00:04<00:00,  7.20it/s, Loss=0.2393, Acc=0.9643]\n"
     ]
    },
    {
     "name": "stdout",
     "output_type": "stream",
     "text": [
      "val Loss: 0.4792 Acc: 0.9108\n",
      "\n",
      "Epoch 41/49\n",
      "----------\n"
     ]
    },
    {
     "name": "stderr",
     "output_type": "stream",
     "text": [
      "Train Epoch 41: 100%|██████████| 32/32 [00:11<00:00,  2.69it/s, Loss=0.2670, Acc=0.9286]\n",
      "Train Epoch 41: 100%|██████████| 32/32 [00:11<00:00,  2.69it/s, Loss=0.2670, Acc=0.9286]\n"
     ]
    },
    {
     "name": "stdout",
     "output_type": "stream",
     "text": [
      "train Loss: 0.3284 Acc: 0.9549\n"
     ]
    },
    {
     "name": "stderr",
     "output_type": "stream",
     "text": [
      "Val Epoch 41: 100%|██████████| 32/32 [00:04<00:00,  7.75it/s, Loss=0.2170, Acc=0.9643]\n",
      "\n"
     ]
    },
    {
     "name": "stdout",
     "output_type": "stream",
     "text": [
      "val Loss: 0.4909 Acc: 0.9167\n",
      "New best model saved with val_acc: 0.9167\n",
      "\n",
      "Epoch 42/49\n",
      "----------\n",
      "New best model saved with val_acc: 0.9167\n",
      "\n",
      "Epoch 42/49\n",
      "----------\n"
     ]
    },
    {
     "name": "stderr",
     "output_type": "stream",
     "text": [
      "Train Epoch 42: 100%|██████████| 32/32 [00:17<00:00,  1.88it/s, Loss=0.6636, Acc=0.8929]\n",
      "Train Epoch 42: 100%|██████████| 32/32 [00:17<00:00,  1.88it/s, Loss=0.6636, Acc=0.8929]\n"
     ]
    },
    {
     "name": "stdout",
     "output_type": "stream",
     "text": [
      "train Loss: 0.3364 Acc: 0.9627\n"
     ]
    },
    {
     "name": "stderr",
     "output_type": "stream",
     "text": [
      "Val Epoch 42: 100%|██████████| 32/32 [00:04<00:00,  7.36it/s, Loss=0.2282, Acc=0.9643]\n",
      "Val Epoch 42: 100%|██████████| 32/32 [00:04<00:00,  7.36it/s, Loss=0.2282, Acc=0.9643]\n"
     ]
    },
    {
     "name": "stdout",
     "output_type": "stream",
     "text": [
      "val Loss: 0.4807 Acc: 0.9127\n",
      "\n",
      "Epoch 43/49\n",
      "----------\n"
     ]
    },
    {
     "name": "stderr",
     "output_type": "stream",
     "text": [
      "Train Epoch 43: 100%|██████████| 32/32 [00:11<00:00,  2.71it/s, Loss=0.2600, Acc=1.0000]\n",
      "Train Epoch 43: 100%|██████████| 32/32 [00:11<00:00,  2.71it/s, Loss=0.2600, Acc=1.0000]\n"
     ]
    },
    {
     "name": "stdout",
     "output_type": "stream",
     "text": [
      "train Loss: 0.3194 Acc: 0.9667\n"
     ]
    },
    {
     "name": "stderr",
     "output_type": "stream",
     "text": [
      "Val Epoch 43: 100%|██████████| 32/32 [00:05<00:00,  5.52it/s, Loss=0.2272, Acc=0.9643]\n",
      "Val Epoch 43: 100%|██████████| 32/32 [00:05<00:00,  5.52it/s, Loss=0.2272, Acc=0.9643]\n"
     ]
    },
    {
     "name": "stdout",
     "output_type": "stream",
     "text": [
      "val Loss: 0.4823 Acc: 0.9147\n",
      "\n",
      "Epoch 44/49\n",
      "----------\n"
     ]
    },
    {
     "name": "stderr",
     "output_type": "stream",
     "text": [
      "Train Epoch 44: 100%|██████████| 32/32 [00:12<00:00,  2.62it/s, Loss=0.4201, Acc=0.9643]\n",
      "Train Epoch 44: 100%|██████████| 32/32 [00:12<00:00,  2.62it/s, Loss=0.4201, Acc=0.9643]\n"
     ]
    },
    {
     "name": "stdout",
     "output_type": "stream",
     "text": [
      "train Loss: 0.3309 Acc: 0.9676\n"
     ]
    },
    {
     "name": "stderr",
     "output_type": "stream",
     "text": [
      "Val Epoch 44: 100%|██████████| 32/32 [00:04<00:00,  7.45it/s, Loss=0.2285, Acc=0.9643]\n",
      "Val Epoch 44: 100%|██████████| 32/32 [00:04<00:00,  7.45it/s, Loss=0.2285, Acc=0.9643]\n"
     ]
    },
    {
     "name": "stdout",
     "output_type": "stream",
     "text": [
      "val Loss: 0.4861 Acc: 0.9127\n",
      "\n",
      "Epoch 45/49\n",
      "----------\n"
     ]
    },
    {
     "name": "stderr",
     "output_type": "stream",
     "text": [
      "Train Epoch 45: 100%|██████████| 32/32 [00:11<00:00,  2.74it/s, Loss=0.3421, Acc=1.0000]\n",
      "Train Epoch 45: 100%|██████████| 32/32 [00:11<00:00,  2.74it/s, Loss=0.3421, Acc=1.0000]\n"
     ]
    },
    {
     "name": "stdout",
     "output_type": "stream",
     "text": [
      "train Loss: 0.3269 Acc: 0.9598\n"
     ]
    },
    {
     "name": "stderr",
     "output_type": "stream",
     "text": [
      "Val Epoch 45: 100%|██████████| 32/32 [00:04<00:00,  7.66it/s, Loss=0.2302, Acc=0.9643]\n",
      "Val Epoch 45: 100%|██████████| 32/32 [00:04<00:00,  7.66it/s, Loss=0.2302, Acc=0.9643]\n"
     ]
    },
    {
     "name": "stdout",
     "output_type": "stream",
     "text": [
      "val Loss: 0.4709 Acc: 0.9147\n",
      "\n",
      "Epoch 46/49\n",
      "----------\n"
     ]
    },
    {
     "name": "stderr",
     "output_type": "stream",
     "text": [
      "Train Epoch 46: 100%|██████████| 32/32 [00:11<00:00,  2.77it/s, Loss=0.3461, Acc=0.9643]\n",
      "Train Epoch 46: 100%|██████████| 32/32 [00:11<00:00,  2.77it/s, Loss=0.3461, Acc=0.9643]\n"
     ]
    },
    {
     "name": "stdout",
     "output_type": "stream",
     "text": [
      "train Loss: 0.3388 Acc: 0.9588\n"
     ]
    },
    {
     "name": "stderr",
     "output_type": "stream",
     "text": [
      "Val Epoch 46: 100%|██████████| 32/32 [00:04<00:00,  7.37it/s, Loss=0.2267, Acc=0.9643]\n",
      "Val Epoch 46: 100%|██████████| 32/32 [00:04<00:00,  7.37it/s, Loss=0.2267, Acc=0.9643]\n"
     ]
    },
    {
     "name": "stdout",
     "output_type": "stream",
     "text": [
      "val Loss: 0.4763 Acc: 0.9088\n",
      "\n",
      "Epoch 47/49\n",
      "----------\n"
     ]
    },
    {
     "name": "stderr",
     "output_type": "stream",
     "text": [
      "Train Epoch 47: 100%|██████████| 32/32 [00:11<00:00,  2.77it/s, Loss=0.3053, Acc=0.9643]\n",
      "Train Epoch 47: 100%|██████████| 32/32 [00:11<00:00,  2.77it/s, Loss=0.3053, Acc=0.9643]\n"
     ]
    },
    {
     "name": "stdout",
     "output_type": "stream",
     "text": [
      "train Loss: 0.3355 Acc: 0.9618\n"
     ]
    },
    {
     "name": "stderr",
     "output_type": "stream",
     "text": [
      "Val Epoch 47: 100%|██████████| 32/32 [00:04<00:00,  7.63it/s, Loss=0.1971, Acc=0.9643]\n",
      "Val Epoch 47: 100%|██████████| 32/32 [00:04<00:00,  7.63it/s, Loss=0.1971, Acc=0.9643]\n"
     ]
    },
    {
     "name": "stdout",
     "output_type": "stream",
     "text": [
      "val Loss: 0.4680 Acc: 0.9108\n",
      "\n",
      "Epoch 48/49\n",
      "----------\n"
     ]
    },
    {
     "name": "stderr",
     "output_type": "stream",
     "text": [
      "Train Epoch 48: 100%|██████████| 32/32 [00:11<00:00,  2.70it/s, Loss=0.4291, Acc=0.9643]\n",
      "Train Epoch 48: 100%|██████████| 32/32 [00:11<00:00,  2.70it/s, Loss=0.4291, Acc=0.9643]\n"
     ]
    },
    {
     "name": "stdout",
     "output_type": "stream",
     "text": [
      "train Loss: 0.3292 Acc: 0.9578\n"
     ]
    },
    {
     "name": "stderr",
     "output_type": "stream",
     "text": [
      "Val Epoch 48: 100%|██████████| 32/32 [00:04<00:00,  7.48it/s, Loss=0.2211, Acc=0.9643]\n",
      "Val Epoch 48: 100%|██████████| 32/32 [00:04<00:00,  7.48it/s, Loss=0.2211, Acc=0.9643]\n"
     ]
    },
    {
     "name": "stdout",
     "output_type": "stream",
     "text": [
      "val Loss: 0.4813 Acc: 0.9118\n",
      "\n",
      "Epoch 49/49\n",
      "----------\n"
     ]
    },
    {
     "name": "stderr",
     "output_type": "stream",
     "text": [
      "Train Epoch 49: 100%|██████████| 32/32 [00:11<00:00,  2.75it/s, Loss=0.5421, Acc=0.8929]\n",
      "Train Epoch 49: 100%|██████████| 32/32 [00:11<00:00,  2.75it/s, Loss=0.5421, Acc=0.8929]\n"
     ]
    },
    {
     "name": "stdout",
     "output_type": "stream",
     "text": [
      "train Loss: 0.3780 Acc: 0.9559\n"
     ]
    },
    {
     "name": "stderr",
     "output_type": "stream",
     "text": [
      "Val Epoch 49: 100%|██████████| 32/32 [00:04<00:00,  7.73it/s, Loss=0.2081, Acc=0.9643]\n",
      "\n"
     ]
    },
    {
     "name": "stdout",
     "output_type": "stream",
     "text": [
      "val Loss: 0.4751 Acc: 0.9118\n",
      "\n",
      "Training complete in 13m 52s\n",
      "Best val Acc: 0.916667\n"
     ]
    },
    {
     "data": {
      "image/png": "[encoded data removed]",
      "text/plain": [
       "<Figure size 1500x500 with 2 Axes>"
      ]
     },
     "metadata": {},
     "output_type": "display_data"
    },
    {
     "name": "stdout",
     "output_type": "stream",
     "text": [
      "Evaluating on test set...\n"
     ]
    },
    {
     "name": "stderr",
     "output_type": "stream",
     "text": [
      "100%|██████████| 193/193 [00:37<00:00,  5.21it/s]"
     ]
    },
    {
     "name": "stdout",
     "output_type": "stream",
     "text": [
      "Test Loss: 0.5874\n",
      "Test Accuracy: 0.8803\n",
      "ResNet18 Original - Test Accuracy: 0.8803\n"
     ]
    },
    {
     "name": "stderr",
     "output_type": "stream",
     "text": [
      "\n"
     ]
    }
   ],
   "source": [
    "\n",
    "# Create model\n",
    "model_resnet18 = FlowerResNet(base_model='resnet18', pretrained=True, num_classes=102)\n",
    "model_resnet18 = model_resnet18.to(device)\n",
    "\n",
    "# Display model architecture\n",
    "print(\"Model architecture:\")\n",
    "for name, param in model_resnet18.named_parameters():\n",
    "    if \"fc\" in name or \"layer4\" in name:\n",
    "        print(f\"{name}: {param.shape}\")\n",
    "\n",
    "# Define loss function and optimizer\n",
    "criterion = nn.CrossEntropyLoss()\n",
    "optimizer = optim.SGD(model_resnet18.parameters(), lr=0.001, momentum=0.9)\n",
    "scheduler = lr_scheduler.StepLR(optimizer, step_size=30, gamma=0.1)\n",
    "\n",
    "# Train model\n",
    "num_epochs = 50\n",
    "model_resnet18, train_losses, train_accs, val_losses, val_accs = train_model(\n",
    "    model_resnet18, criterion, optimizer, scheduler, num_epochs, 'resnet18_original'\n",
    ")\n",
    "\n",
    "# Plot results\n",
    "plot_training_curves(train_losses, val_losses, train_accs, val_accs, 'ResNet18_Original')\n",
    "\n",
    "# Evaluate on test set\n",
    "test_loss, test_acc, all_preds, all_labels = evaluate_model(model_resnet18, criterion)\n",
    "\n",
    "# Save training logs\n",
    "with open('resnet18_original.txt', 'w') as f:\n",
    "    f.write(\"Epoch,Train_Loss,Val_Loss,Train_Acc,Val_Acc\\n\")\n",
    "    for epoch in range(num_epochs):\n",
    "        f.write(f\"{epoch+1},{train_losses[epoch]:.4f},{val_losses[epoch]:.4f},{train_accs[epoch]:.4f},{val_accs[epoch]:.4f}\\n\")\n",
    "\n",
    "print(f\"ResNet18 Original - Test Accuracy: {test_acc:.4f}\")"
   ]
  },
  {
   "cell_type": "markdown",
   "id": "a30d8536",
   "metadata": {},
   "source": [
    "### Experiment 2 resnet-18 with 3 frozen stages"
   ]
  },
  {
   "cell_type": "code",
   "execution_count": 10,
   "id": "f3d97cf8",
   "metadata": {},
   "outputs": [
    {
     "name": "stdout",
     "output_type": "stream",
     "text": [
      "Trainable parameters: 10545766/11228838 (93.92%)\n",
      "Epoch 0/49\n",
      "----------\n",
      "Epoch 0/49\n",
      "----------\n"
     ]
    },
    {
     "name": "stderr",
     "output_type": "stream",
     "text": [
      "Train Epoch 0: 100%|██████████| 32/32 [00:07<00:00,  4.34it/s, Loss=4.5514, Acc=0.0357]\n",
      "Train Epoch 0: 100%|██████████| 32/32 [00:07<00:00,  4.34it/s, Loss=4.5514, Acc=0.0357]\n"
     ]
    },
    {
     "name": "stdout",
     "output_type": "stream",
     "text": [
      "train Loss: 4.7557 Acc: 0.0157\n"
     ]
    },
    {
     "name": "stderr",
     "output_type": "stream",
     "text": [
      "Val Epoch 0: 100%|██████████| 32/32 [00:04<00:00,  7.25it/s, Loss=4.0162, Acc=0.1071]\n",
      "\n"
     ]
    },
    {
     "name": "stdout",
     "output_type": "stream",
     "text": [
      "val Loss: 4.4227 Acc: 0.0471\n",
      "New best model saved with val_acc: 0.0471\n",
      "\n",
      "Epoch 1/49\n",
      "----------\n",
      "New best model saved with val_acc: 0.0471\n",
      "\n",
      "Epoch 1/49\n",
      "----------\n"
     ]
    },
    {
     "name": "stderr",
     "output_type": "stream",
     "text": [
      "Train Epoch 1: 100%|██████████| 32/32 [00:07<00:00,  4.33it/s, Loss=4.2355, Acc=0.0714]\n",
      "Train Epoch 1: 100%|██████████| 32/32 [00:07<00:00,  4.33it/s, Loss=4.2355, Acc=0.0714]\n"
     ]
    },
    {
     "name": "stdout",
     "output_type": "stream",
     "text": [
      "train Loss: 4.3051 Acc: 0.0745\n"
     ]
    },
    {
     "name": "stderr",
     "output_type": "stream",
     "text": [
      "Val Epoch 1: 100%|██████████| 32/32 [00:04<00:00,  7.64it/s, Loss=3.5237, Acc=0.4643]\n",
      "\n"
     ]
    },
    {
     "name": "stdout",
     "output_type": "stream",
     "text": [
      "val Loss: 3.9703 Acc: 0.2127\n",
      "New best model saved with val_acc: 0.2127\n",
      "\n",
      "Epoch 2/49\n",
      "----------\n",
      "New best model saved with val_acc: 0.2127\n",
      "\n",
      "Epoch 2/49\n",
      "----------\n"
     ]
    },
    {
     "name": "stderr",
     "output_type": "stream",
     "text": [
      "Train Epoch 2: 100%|██████████| 32/32 [00:07<00:00,  4.42it/s, Loss=3.7410, Acc=0.3214]\n",
      "Train Epoch 2: 100%|██████████| 32/32 [00:07<00:00,  4.42it/s, Loss=3.7410, Acc=0.3214]\n"
     ]
    },
    {
     "name": "stdout",
     "output_type": "stream",
     "text": [
      "train Loss: 3.8614 Acc: 0.2892\n"
     ]
    },
    {
     "name": "stderr",
     "output_type": "stream",
     "text": [
      "Val Epoch 2: 100%|██████████| 32/32 [00:04<00:00,  7.36it/s, Loss=3.0009, Acc=0.7143]\n",
      "\n"
     ]
    },
    {
     "name": "stdout",
     "output_type": "stream",
     "text": [
      "val Loss: 3.4903 Acc: 0.4167\n",
      "New best model saved with val_acc: 0.4167\n",
      "\n",
      "Epoch 3/49\n",
      "----------\n",
      "New best model saved with val_acc: 0.4167\n",
      "\n",
      "Epoch 3/49\n",
      "----------\n"
     ]
    },
    {
     "name": "stderr",
     "output_type": "stream",
     "text": [
      "Train Epoch 3: 100%|██████████| 32/32 [00:06<00:00,  4.60it/s, Loss=2.9461, Acc=0.7857]\n",
      "Train Epoch 3: 100%|██████████| 32/32 [00:06<00:00,  4.60it/s, Loss=2.9461, Acc=0.7857]\n"
     ]
    },
    {
     "name": "stdout",
     "output_type": "stream",
     "text": [
      "train Loss: 3.3898 Acc: 0.4725\n"
     ]
    },
    {
     "name": "stderr",
     "output_type": "stream",
     "text": [
      "Val Epoch 3: 100%|██████████| 32/32 [00:04<00:00,  7.75it/s, Loss=2.2624, Acc=0.9286]\n",
      "\n"
     ]
    },
    {
     "name": "stdout",
     "output_type": "stream",
     "text": [
      "val Loss: 3.0142 Acc: 0.5618\n",
      "New best model saved with val_acc: 0.5618\n",
      "\n",
      "Epoch 4/49\n",
      "----------\n",
      "New best model saved with val_acc: 0.5618\n",
      "\n",
      "Epoch 4/49\n",
      "----------\n"
     ]
    },
    {
     "name": "stderr",
     "output_type": "stream",
     "text": [
      "Train Epoch 4: 100%|██████████| 32/32 [00:06<00:00,  4.58it/s, Loss=2.8208, Acc=0.6071]\n",
      "Train Epoch 4: 100%|██████████| 32/32 [00:06<00:00,  4.58it/s, Loss=2.8208, Acc=0.6071]\n"
     ]
    },
    {
     "name": "stdout",
     "output_type": "stream",
     "text": [
      "train Loss: 2.9682 Acc: 0.5941\n"
     ]
    },
    {
     "name": "stderr",
     "output_type": "stream",
     "text": [
      "Val Epoch 4: 100%|██████████| 32/32 [00:04<00:00,  7.47it/s, Loss=1.5881, Acc=0.9643]\n",
      "\n"
     ]
    },
    {
     "name": "stdout",
     "output_type": "stream",
     "text": [
      "val Loss: 2.5509 Acc: 0.6559\n",
      "New best model saved with val_acc: 0.6559\n",
      "\n",
      "Epoch 5/49\n",
      "----------\n",
      "New best model saved with val_acc: 0.6559\n",
      "\n",
      "Epoch 5/49\n",
      "----------\n"
     ]
    },
    {
     "name": "stderr",
     "output_type": "stream",
     "text": [
      "Train Epoch 5: 100%|██████████| 32/32 [00:07<00:00,  4.53it/s, Loss=2.2221, Acc=0.7857]\n",
      "Train Epoch 5: 100%|██████████| 32/32 [00:07<00:00,  4.53it/s, Loss=2.2221, Acc=0.7857]\n"
     ]
    },
    {
     "name": "stdout",
     "output_type": "stream",
     "text": [
      "train Loss: 2.5911 Acc: 0.6902\n"
     ]
    },
    {
     "name": "stderr",
     "output_type": "stream",
     "text": [
      "Val Epoch 5: 100%|██████████| 32/32 [00:04<00:00,  7.61it/s, Loss=1.2846, Acc=0.9286]\n",
      "\n"
     ]
    },
    {
     "name": "stdout",
     "output_type": "stream",
     "text": [
      "val Loss: 2.1898 Acc: 0.7118\n",
      "New best model saved with val_acc: 0.7118\n",
      "\n",
      "Epoch 6/49\n",
      "----------\n",
      "New best model saved with val_acc: 0.7118\n",
      "\n",
      "Epoch 6/49\n",
      "----------\n"
     ]
    },
    {
     "name": "stderr",
     "output_type": "stream",
     "text": [
      "Train Epoch 6: 100%|██████████| 32/32 [00:07<00:00,  4.28it/s, Loss=1.8823, Acc=0.8571]\n",
      "Train Epoch 6: 100%|██████████| 32/32 [00:07<00:00,  4.28it/s, Loss=1.8823, Acc=0.8571]\n"
     ]
    },
    {
     "name": "stdout",
     "output_type": "stream",
     "text": [
      "train Loss: 2.2331 Acc: 0.7284\n"
     ]
    },
    {
     "name": "stderr",
     "output_type": "stream",
     "text": [
      "Val Epoch 6: 100%|██████████| 32/32 [00:04<00:00,  7.44it/s, Loss=1.1438, Acc=0.9643]\n",
      "\n"
     ]
    },
    {
     "name": "stdout",
     "output_type": "stream",
     "text": [
      "val Loss: 1.8617 Acc: 0.7422\n",
      "New best model saved with val_acc: 0.7422\n",
      "\n",
      "Epoch 7/49\n",
      "----------\n",
      "New best model saved with val_acc: 0.7422\n",
      "\n",
      "Epoch 7/49\n",
      "----------\n"
     ]
    },
    {
     "name": "stderr",
     "output_type": "stream",
     "text": [
      "Train Epoch 7: 100%|██████████| 32/32 [00:07<00:00,  4.30it/s, Loss=2.0263, Acc=0.7143]\n",
      "Train Epoch 7: 100%|██████████| 32/32 [00:07<00:00,  4.30it/s, Loss=2.0263, Acc=0.7143]\n"
     ]
    },
    {
     "name": "stdout",
     "output_type": "stream",
     "text": [
      "train Loss: 1.9834 Acc: 0.7873\n"
     ]
    },
    {
     "name": "stderr",
     "output_type": "stream",
     "text": [
      "Val Epoch 7: 100%|██████████| 32/32 [00:04<00:00,  7.57it/s, Loss=0.8998, Acc=0.9286]\n",
      "\n"
     ]
    },
    {
     "name": "stdout",
     "output_type": "stream",
     "text": [
      "val Loss: 1.6434 Acc: 0.7696\n",
      "New best model saved with val_acc: 0.7696\n",
      "\n",
      "Epoch 8/49\n",
      "----------\n",
      "New best model saved with val_acc: 0.7696\n",
      "\n",
      "Epoch 8/49\n",
      "----------\n"
     ]
    },
    {
     "name": "stderr",
     "output_type": "stream",
     "text": [
      "Train Epoch 8: 100%|██████████| 32/32 [00:07<00:00,  4.48it/s, Loss=1.6387, Acc=0.7143]\n",
      "Train Epoch 8: 100%|██████████| 32/32 [00:07<00:00,  4.48it/s, Loss=1.6387, Acc=0.7143]\n"
     ]
    },
    {
     "name": "stdout",
     "output_type": "stream",
     "text": [
      "train Loss: 1.7492 Acc: 0.8029\n"
     ]
    },
    {
     "name": "stderr",
     "output_type": "stream",
     "text": [
      "Val Epoch 8: 100%|██████████| 32/32 [00:04<00:00,  7.92it/s, Loss=0.8151, Acc=0.9643]\n",
      "\n"
     ]
    },
    {
     "name": "stdout",
     "output_type": "stream",
     "text": [
      "val Loss: 1.4535 Acc: 0.7990\n",
      "New best model saved with val_acc: 0.7990\n",
      "\n",
      "Epoch 9/49\n",
      "----------\n",
      "New best model saved with val_acc: 0.7990\n",
      "\n",
      "Epoch 9/49\n",
      "----------\n"
     ]
    },
    {
     "name": "stderr",
     "output_type": "stream",
     "text": [
      "Train Epoch 9: 100%|██████████| 32/32 [00:06<00:00,  4.68it/s, Loss=1.9231, Acc=0.6786]\n",
      "Train Epoch 9: 100%|██████████| 32/32 [00:06<00:00,  4.68it/s, Loss=1.9231, Acc=0.6786]\n"
     ]
    },
    {
     "name": "stdout",
     "output_type": "stream",
     "text": [
      "train Loss: 1.5483 Acc: 0.8225\n"
     ]
    },
    {
     "name": "stderr",
     "output_type": "stream",
     "text": [
      "Val Epoch 9: 100%|██████████| 32/32 [00:04<00:00,  7.44it/s, Loss=0.7577, Acc=1.0000]\n",
      "\n"
     ]
    },
    {
     "name": "stdout",
     "output_type": "stream",
     "text": [
      "val Loss: 1.3002 Acc: 0.8294\n",
      "New best model saved with val_acc: 0.8294\n",
      "\n",
      "Epoch 10/49\n",
      "----------\n",
      "New best model saved with val_acc: 0.8294\n",
      "\n",
      "Epoch 10/49\n",
      "----------\n"
     ]
    },
    {
     "name": "stderr",
     "output_type": "stream",
     "text": [
      "Train Epoch 10: 100%|██████████| 32/32 [00:07<00:00,  4.56it/s, Loss=1.5249, Acc=0.7857]\n",
      "Train Epoch 10: 100%|██████████| 32/32 [00:07<00:00,  4.56it/s, Loss=1.5249, Acc=0.7857]\n"
     ]
    },
    {
     "name": "stdout",
     "output_type": "stream",
     "text": [
      "train Loss: 1.3600 Acc: 0.8578\n"
     ]
    },
    {
     "name": "stderr",
     "output_type": "stream",
     "text": [
      "Val Epoch 10: 100%|██████████| 32/32 [00:04<00:00,  7.61it/s, Loss=0.6224, Acc=1.0000]\n",
      "\n"
     ]
    },
    {
     "name": "stdout",
     "output_type": "stream",
     "text": [
      "val Loss: 1.1591 Acc: 0.8333\n",
      "New best model saved with val_acc: 0.8333\n",
      "\n",
      "Epoch 11/49\n",
      "----------\n",
      "New best model saved with val_acc: 0.8333\n",
      "\n",
      "Epoch 11/49\n",
      "----------\n"
     ]
    },
    {
     "name": "stderr",
     "output_type": "stream",
     "text": [
      "Train Epoch 11: 100%|██████████| 32/32 [00:07<00:00,  4.51it/s, Loss=1.0960, Acc=0.9286]\n",
      "Train Epoch 11: 100%|██████████| 32/32 [00:07<00:00,  4.51it/s, Loss=1.0960, Acc=0.9286]\n"
     ]
    },
    {
     "name": "stdout",
     "output_type": "stream",
     "text": [
      "train Loss: 1.2313 Acc: 0.8765\n"
     ]
    },
    {
     "name": "stderr",
     "output_type": "stream",
     "text": [
      "Val Epoch 11: 100%|██████████| 32/32 [00:04<00:00,  7.61it/s, Loss=0.6187, Acc=1.0000]\n",
      "\n"
     ]
    },
    {
     "name": "stdout",
     "output_type": "stream",
     "text": [
      "val Loss: 1.0665 Acc: 0.8578\n",
      "New best model saved with val_acc: 0.8578\n",
      "\n",
      "Epoch 12/49\n",
      "----------\n",
      "New best model saved with val_acc: 0.8578\n",
      "\n",
      "Epoch 12/49\n",
      "----------\n"
     ]
    },
    {
     "name": "stderr",
     "output_type": "stream",
     "text": [
      "Train Epoch 12: 100%|██████████| 32/32 [00:07<00:00,  4.54it/s, Loss=0.8377, Acc=0.8929]\n",
      "Train Epoch 12: 100%|██████████| 32/32 [00:07<00:00,  4.54it/s, Loss=0.8377, Acc=0.8929]\n"
     ]
    },
    {
     "name": "stdout",
     "output_type": "stream",
     "text": [
      "train Loss: 1.1440 Acc: 0.8696\n"
     ]
    },
    {
     "name": "stderr",
     "output_type": "stream",
     "text": [
      "Val Epoch 12: 100%|██████████| 32/32 [00:04<00:00,  7.52it/s, Loss=0.5764, Acc=0.9643]\n",
      "\n"
     ]
    },
    {
     "name": "stdout",
     "output_type": "stream",
     "text": [
      "val Loss: 0.9754 Acc: 0.8667\n",
      "New best model saved with val_acc: 0.8667\n",
      "\n",
      "Epoch 13/49\n",
      "----------\n",
      "New best model saved with val_acc: 0.8667\n",
      "\n",
      "Epoch 13/49\n",
      "----------\n"
     ]
    },
    {
     "name": "stderr",
     "output_type": "stream",
     "text": [
      "Train Epoch 13: 100%|██████████| 32/32 [00:07<00:00,  4.21it/s, Loss=1.0982, Acc=0.8214]\n",
      "Train Epoch 13: 100%|██████████| 32/32 [00:07<00:00,  4.21it/s, Loss=1.0982, Acc=0.8214]\n"
     ]
    },
    {
     "name": "stdout",
     "output_type": "stream",
     "text": [
      "train Loss: 1.0235 Acc: 0.8941\n"
     ]
    },
    {
     "name": "stderr",
     "output_type": "stream",
     "text": [
      "Val Epoch 13: 100%|██████████| 32/32 [00:05<00:00,  6.37it/s, Loss=0.5339, Acc=1.0000]\n",
      "\n"
     ]
    },
    {
     "name": "stdout",
     "output_type": "stream",
     "text": [
      "val Loss: 0.8999 Acc: 0.8735\n",
      "New best model saved with val_acc: 0.8735\n",
      "\n",
      "Epoch 14/49\n",
      "----------\n",
      "New best model saved with val_acc: 0.8735\n",
      "\n",
      "Epoch 14/49\n",
      "----------\n"
     ]
    },
    {
     "name": "stderr",
     "output_type": "stream",
     "text": [
      "Train Epoch 14: 100%|██████████| 32/32 [00:07<00:00,  4.42it/s, Loss=0.9332, Acc=0.8929]\n",
      "Train Epoch 14: 100%|██████████| 32/32 [00:07<00:00,  4.42it/s, Loss=0.9332, Acc=0.8929]\n"
     ]
    },
    {
     "name": "stdout",
     "output_type": "stream",
     "text": [
      "train Loss: 0.9164 Acc: 0.9039\n"
     ]
    },
    {
     "name": "stderr",
     "output_type": "stream",
     "text": [
      "Val Epoch 14: 100%|██████████| 32/32 [00:04<00:00,  7.04it/s, Loss=0.4161, Acc=0.9643]\n",
      "Val Epoch 14: 100%|██████████| 32/32 [00:04<00:00,  7.04it/s, Loss=0.4161, Acc=0.9643]\n"
     ]
    },
    {
     "name": "stdout",
     "output_type": "stream",
     "text": [
      "val Loss: 0.8405 Acc: 0.8706\n",
      "\n",
      "Epoch 15/49\n",
      "----------\n"
     ]
    },
    {
     "name": "stderr",
     "output_type": "stream",
     "text": [
      "Train Epoch 15: 100%|██████████| 32/32 [00:07<00:00,  4.51it/s, Loss=0.8859, Acc=0.8929]\n",
      "Train Epoch 15: 100%|██████████| 32/32 [00:07<00:00,  4.51it/s, Loss=0.8859, Acc=0.8929]\n"
     ]
    },
    {
     "name": "stdout",
     "output_type": "stream",
     "text": [
      "train Loss: 0.8396 Acc: 0.9127\n"
     ]
    },
    {
     "name": "stderr",
     "output_type": "stream",
     "text": [
      "Val Epoch 15: 100%|██████████| 32/32 [00:04<00:00,  7.84it/s, Loss=0.4744, Acc=0.9643]\n",
      "\n"
     ]
    },
    {
     "name": "stdout",
     "output_type": "stream",
     "text": [
      "val Loss: 0.7967 Acc: 0.8784\n",
      "New best model saved with val_acc: 0.8784\n",
      "\n",
      "Epoch 16/49\n",
      "----------\n",
      "New best model saved with val_acc: 0.8784\n",
      "\n",
      "Epoch 16/49\n",
      "----------\n"
     ]
    },
    {
     "name": "stderr",
     "output_type": "stream",
     "text": [
      "Train Epoch 16: 100%|██████████| 32/32 [00:07<00:00,  4.48it/s, Loss=0.9638, Acc=0.8929]\n",
      "Train Epoch 16: 100%|██████████| 32/32 [00:07<00:00,  4.48it/s, Loss=0.9638, Acc=0.8929]\n"
     ]
    },
    {
     "name": "stdout",
     "output_type": "stream",
     "text": [
      "train Loss: 0.7821 Acc: 0.9118\n"
     ]
    },
    {
     "name": "stderr",
     "output_type": "stream",
     "text": [
      "Val Epoch 16: 100%|██████████| 32/32 [00:04<00:00,  7.78it/s, Loss=0.4264, Acc=0.9643]\n",
      "\n"
     ]
    },
    {
     "name": "stdout",
     "output_type": "stream",
     "text": [
      "val Loss: 0.7501 Acc: 0.8853\n",
      "New best model saved with val_acc: 0.8853\n",
      "\n",
      "Epoch 17/49\n",
      "----------\n",
      "New best model saved with val_acc: 0.8853\n",
      "\n",
      "Epoch 17/49\n",
      "----------\n"
     ]
    },
    {
     "name": "stderr",
     "output_type": "stream",
     "text": [
      "Train Epoch 17: 100%|██████████| 32/32 [00:10<00:00,  2.96it/s, Loss=0.6973, Acc=0.9286]\n",
      "Train Epoch 17: 100%|██████████| 32/32 [00:10<00:00,  2.96it/s, Loss=0.6973, Acc=0.9286]\n"
     ]
    },
    {
     "name": "stdout",
     "output_type": "stream",
     "text": [
      "train Loss: 0.7031 Acc: 0.9314\n"
     ]
    },
    {
     "name": "stderr",
     "output_type": "stream",
     "text": [
      "Val Epoch 17: 100%|██████████| 32/32 [00:04<00:00,  7.60it/s, Loss=0.4329, Acc=0.9643]\n",
      "\n"
     ]
    },
    {
     "name": "stdout",
     "output_type": "stream",
     "text": [
      "val Loss: 0.7131 Acc: 0.8892\n",
      "New best model saved with val_acc: 0.8892\n",
      "\n",
      "Epoch 18/49\n",
      "----------\n",
      "New best model saved with val_acc: 0.8892\n",
      "\n",
      "Epoch 18/49\n",
      "----------\n"
     ]
    },
    {
     "name": "stderr",
     "output_type": "stream",
     "text": [
      "Train Epoch 18: 100%|██████████| 32/32 [00:06<00:00,  4.77it/s, Loss=0.4212, Acc=0.9643]\n",
      "Train Epoch 18: 100%|██████████| 32/32 [00:06<00:00,  4.77it/s, Loss=0.4212, Acc=0.9643]\n"
     ]
    },
    {
     "name": "stdout",
     "output_type": "stream",
     "text": [
      "train Loss: 0.7313 Acc: 0.9069\n"
     ]
    },
    {
     "name": "stderr",
     "output_type": "stream",
     "text": [
      "Val Epoch 18: 100%|██████████| 32/32 [00:04<00:00,  7.79it/s, Loss=0.3518, Acc=0.9643]\n",
      "\n"
     ]
    },
    {
     "name": "stdout",
     "output_type": "stream",
     "text": [
      "val Loss: 0.6831 Acc: 0.8951\n",
      "New best model saved with val_acc: 0.8951\n",
      "\n",
      "Epoch 19/49\n",
      "----------\n",
      "New best model saved with val_acc: 0.8951\n",
      "\n",
      "Epoch 19/49\n",
      "----------\n"
     ]
    },
    {
     "name": "stderr",
     "output_type": "stream",
     "text": [
      "Train Epoch 19: 100%|██████████| 32/32 [00:07<00:00,  4.46it/s, Loss=0.7380, Acc=0.9643]\n",
      "Train Epoch 19: 100%|██████████| 32/32 [00:07<00:00,  4.46it/s, Loss=0.7380, Acc=0.9643]\n"
     ]
    },
    {
     "name": "stdout",
     "output_type": "stream",
     "text": [
      "train Loss: 0.6680 Acc: 0.9216\n"
     ]
    },
    {
     "name": "stderr",
     "output_type": "stream",
     "text": [
      "Val Epoch 19: 100%|██████████| 32/32 [00:04<00:00,  7.63it/s, Loss=0.3767, Acc=0.9643]\n",
      "\n"
     ]
    },
    {
     "name": "stdout",
     "output_type": "stream",
     "text": [
      "val Loss: 0.6557 Acc: 0.8971\n",
      "New best model saved with val_acc: 0.8971\n",
      "\n",
      "Epoch 20/49\n",
      "----------\n",
      "New best model saved with val_acc: 0.8971\n",
      "\n",
      "Epoch 20/49\n",
      "----------\n"
     ]
    },
    {
     "name": "stderr",
     "output_type": "stream",
     "text": [
      "Train Epoch 20: 100%|██████████| 32/32 [00:06<00:00,  4.77it/s, Loss=0.4197, Acc=1.0000]\n",
      "Train Epoch 20: 100%|██████████| 32/32 [00:06<00:00,  4.77it/s, Loss=0.4197, Acc=1.0000]\n"
     ]
    },
    {
     "name": "stdout",
     "output_type": "stream",
     "text": [
      "train Loss: 0.6069 Acc: 0.9343\n"
     ]
    },
    {
     "name": "stderr",
     "output_type": "stream",
     "text": [
      "Val Epoch 20: 100%|██████████| 32/32 [00:04<00:00,  7.95it/s, Loss=0.3840, Acc=0.9643]\n",
      "Val Epoch 20: 100%|██████████| 32/32 [00:04<00:00,  7.95it/s, Loss=0.3840, Acc=0.9643]\n"
     ]
    },
    {
     "name": "stdout",
     "output_type": "stream",
     "text": [
      "val Loss: 0.6238 Acc: 0.8961\n",
      "\n",
      "Epoch 21/49\n",
      "----------\n"
     ]
    },
    {
     "name": "stderr",
     "output_type": "stream",
     "text": [
      "Train Epoch 21: 100%|██████████| 32/32 [00:06<00:00,  4.58it/s, Loss=0.5089, Acc=0.9286]\n",
      "Train Epoch 21: 100%|██████████| 32/32 [00:06<00:00,  4.58it/s, Loss=0.5089, Acc=0.9286]\n"
     ]
    },
    {
     "name": "stdout",
     "output_type": "stream",
     "text": [
      "train Loss: 0.5777 Acc: 0.9324\n"
     ]
    },
    {
     "name": "stderr",
     "output_type": "stream",
     "text": [
      "Val Epoch 21: 100%|██████████| 32/32 [00:04<00:00,  7.78it/s, Loss=0.3221, Acc=0.9643]\n",
      "Val Epoch 21: 100%|██████████| 32/32 [00:04<00:00,  7.78it/s, Loss=0.3221, Acc=0.9643]\n"
     ]
    },
    {
     "name": "stdout",
     "output_type": "stream",
     "text": [
      "val Loss: 0.6149 Acc: 0.8961\n",
      "\n",
      "Epoch 22/49\n",
      "----------\n"
     ]
    },
    {
     "name": "stderr",
     "output_type": "stream",
     "text": [
      "Train Epoch 22: 100%|██████████| 32/32 [00:06<00:00,  4.71it/s, Loss=0.3690, Acc=0.9643]\n",
      "Train Epoch 22: 100%|██████████| 32/32 [00:06<00:00,  4.71it/s, Loss=0.3690, Acc=0.9643]\n"
     ]
    },
    {
     "name": "stdout",
     "output_type": "stream",
     "text": [
      "train Loss: 0.5418 Acc: 0.9412\n"
     ]
    },
    {
     "name": "stderr",
     "output_type": "stream",
     "text": [
      "Val Epoch 22: 100%|██████████| 32/32 [00:04<00:00,  7.65it/s, Loss=0.3083, Acc=0.9643]\n",
      "\n"
     ]
    },
    {
     "name": "stdout",
     "output_type": "stream",
     "text": [
      "val Loss: 0.5821 Acc: 0.9039\n",
      "New best model saved with val_acc: 0.9039\n",
      "\n",
      "Epoch 23/49\n",
      "----------\n",
      "New best model saved with val_acc: 0.9039\n",
      "\n",
      "Epoch 23/49\n",
      "----------\n"
     ]
    },
    {
     "name": "stderr",
     "output_type": "stream",
     "text": [
      "Train Epoch 23: 100%|██████████| 32/32 [00:06<00:00,  4.85it/s, Loss=0.5589, Acc=0.8929]\n",
      "Train Epoch 23: 100%|██████████| 32/32 [00:06<00:00,  4.85it/s, Loss=0.5589, Acc=0.8929]\n"
     ]
    },
    {
     "name": "stdout",
     "output_type": "stream",
     "text": [
      "train Loss: 0.5012 Acc: 0.9480\n"
     ]
    },
    {
     "name": "stderr",
     "output_type": "stream",
     "text": [
      "Val Epoch 23: 100%|██████████| 32/32 [00:04<00:00,  7.76it/s, Loss=0.3490, Acc=0.9643]\n",
      "\n"
     ]
    },
    {
     "name": "stdout",
     "output_type": "stream",
     "text": [
      "val Loss: 0.5640 Acc: 0.9088\n",
      "New best model saved with val_acc: 0.9088\n",
      "\n",
      "Epoch 24/49\n",
      "----------\n",
      "New best model saved with val_acc: 0.9088\n",
      "\n",
      "Epoch 24/49\n",
      "----------\n"
     ]
    },
    {
     "name": "stderr",
     "output_type": "stream",
     "text": [
      "Train Epoch 24: 100%|██████████| 32/32 [00:07<00:00,  4.56it/s, Loss=0.4844, Acc=0.9643]\n",
      "Train Epoch 24: 100%|██████████| 32/32 [00:07<00:00,  4.56it/s, Loss=0.4844, Acc=0.9643]\n"
     ]
    },
    {
     "name": "stdout",
     "output_type": "stream",
     "text": [
      "train Loss: 0.4962 Acc: 0.9451\n"
     ]
    },
    {
     "name": "stderr",
     "output_type": "stream",
     "text": [
      "Val Epoch 24: 100%|██████████| 32/32 [00:04<00:00,  7.70it/s, Loss=0.3128, Acc=0.9643]\n",
      "Val Epoch 24: 100%|██████████| 32/32 [00:04<00:00,  7.70it/s, Loss=0.3128, Acc=0.9643]\n"
     ]
    },
    {
     "name": "stdout",
     "output_type": "stream",
     "text": [
      "val Loss: 0.5514 Acc: 0.9039\n",
      "\n",
      "Epoch 25/49\n",
      "----------\n"
     ]
    },
    {
     "name": "stderr",
     "output_type": "stream",
     "text": [
      "Train Epoch 25: 100%|██████████| 32/32 [00:06<00:00,  4.83it/s, Loss=0.5100, Acc=0.9286]\n",
      "Train Epoch 25: 100%|██████████| 32/32 [00:06<00:00,  4.83it/s, Loss=0.5100, Acc=0.9286]\n"
     ]
    },
    {
     "name": "stdout",
     "output_type": "stream",
     "text": [
      "train Loss: 0.4490 Acc: 0.9510\n"
     ]
    },
    {
     "name": "stderr",
     "output_type": "stream",
     "text": [
      "Val Epoch 25: 100%|██████████| 32/32 [00:04<00:00,  7.71it/s, Loss=0.3545, Acc=0.9643]\n",
      "Val Epoch 25: 100%|██████████| 32/32 [00:04<00:00,  7.71it/s, Loss=0.3545, Acc=0.9643]\n"
     ]
    },
    {
     "name": "stdout",
     "output_type": "stream",
     "text": [
      "val Loss: 0.5397 Acc: 0.9078\n",
      "\n",
      "Epoch 26/49\n",
      "----------\n"
     ]
    },
    {
     "name": "stderr",
     "output_type": "stream",
     "text": [
      "Train Epoch 26: 100%|██████████| 32/32 [00:07<00:00,  4.37it/s, Loss=0.5672, Acc=0.9286]\n",
      "Train Epoch 26: 100%|██████████| 32/32 [00:07<00:00,  4.37it/s, Loss=0.5672, Acc=0.9286]\n"
     ]
    },
    {
     "name": "stdout",
     "output_type": "stream",
     "text": [
      "train Loss: 0.4567 Acc: 0.9500\n"
     ]
    },
    {
     "name": "stderr",
     "output_type": "stream",
     "text": [
      "Val Epoch 26: 100%|██████████| 32/32 [00:04<00:00,  7.89it/s, Loss=0.3091, Acc=0.9643]\n",
      "\n"
     ]
    },
    {
     "name": "stdout",
     "output_type": "stream",
     "text": [
      "val Loss: 0.5229 Acc: 0.9108\n",
      "New best model saved with val_acc: 0.9108\n",
      "\n",
      "Epoch 27/49\n",
      "----------\n",
      "New best model saved with val_acc: 0.9108\n",
      "\n",
      "Epoch 27/49\n",
      "----------\n"
     ]
    },
    {
     "name": "stderr",
     "output_type": "stream",
     "text": [
      "Train Epoch 27: 100%|██████████| 32/32 [00:07<00:00,  4.50it/s, Loss=0.2683, Acc=0.9643]\n",
      "Train Epoch 27: 100%|██████████| 32/32 [00:07<00:00,  4.50it/s, Loss=0.2683, Acc=0.9643]\n"
     ]
    },
    {
     "name": "stdout",
     "output_type": "stream",
     "text": [
      "train Loss: 0.4339 Acc: 0.9451\n"
     ]
    },
    {
     "name": "stderr",
     "output_type": "stream",
     "text": [
      "Val Epoch 27: 100%|██████████| 32/32 [00:04<00:00,  7.62it/s, Loss=0.2984, Acc=0.9643]\n",
      "Val Epoch 27: 100%|██████████| 32/32 [00:04<00:00,  7.62it/s, Loss=0.2984, Acc=0.9643]\n"
     ]
    },
    {
     "name": "stdout",
     "output_type": "stream",
     "text": [
      "val Loss: 0.5114 Acc: 0.9098\n",
      "\n",
      "Epoch 28/49\n",
      "----------\n"
     ]
    },
    {
     "name": "stderr",
     "output_type": "stream",
     "text": [
      "Train Epoch 28: 100%|██████████| 32/32 [00:07<00:00,  4.55it/s, Loss=0.2684, Acc=1.0000]\n",
      "Train Epoch 28: 100%|██████████| 32/32 [00:07<00:00,  4.55it/s, Loss=0.2684, Acc=1.0000]\n"
     ]
    },
    {
     "name": "stdout",
     "output_type": "stream",
     "text": [
      "train Loss: 0.4113 Acc: 0.9549\n"
     ]
    },
    {
     "name": "stderr",
     "output_type": "stream",
     "text": [
      "Val Epoch 28: 100%|██████████| 32/32 [00:04<00:00,  7.91it/s, Loss=0.2908, Acc=0.9643]\n",
      "\n"
     ]
    },
    {
     "name": "stdout",
     "output_type": "stream",
     "text": [
      "val Loss: 0.5002 Acc: 0.9118\n",
      "New best model saved with val_acc: 0.9118\n",
      "\n",
      "Epoch 29/49\n",
      "----------\n",
      "New best model saved with val_acc: 0.9118\n",
      "\n",
      "Epoch 29/49\n",
      "----------\n"
     ]
    },
    {
     "name": "stderr",
     "output_type": "stream",
     "text": [
      "Train Epoch 29: 100%|██████████| 32/32 [00:06<00:00,  4.63it/s, Loss=0.2921, Acc=1.0000]\n",
      "Train Epoch 29: 100%|██████████| 32/32 [00:06<00:00,  4.63it/s, Loss=0.2921, Acc=1.0000]\n"
     ]
    },
    {
     "name": "stdout",
     "output_type": "stream",
     "text": [
      "train Loss: 0.3831 Acc: 0.9500\n"
     ]
    },
    {
     "name": "stderr",
     "output_type": "stream",
     "text": [
      "Val Epoch 29: 100%|██████████| 32/32 [00:04<00:00,  7.76it/s, Loss=0.3057, Acc=0.9643]\n",
      "\n"
     ]
    },
    {
     "name": "stdout",
     "output_type": "stream",
     "text": [
      "val Loss: 0.5010 Acc: 0.9127\n",
      "New best model saved with val_acc: 0.9127\n",
      "\n",
      "Epoch 30/49\n",
      "----------\n",
      "New best model saved with val_acc: 0.9127\n",
      "\n",
      "Epoch 30/49\n",
      "----------\n"
     ]
    },
    {
     "name": "stderr",
     "output_type": "stream",
     "text": [
      "Train Epoch 30: 100%|██████████| 32/32 [00:07<00:00,  4.41it/s, Loss=0.3574, Acc=0.9643]\n",
      "Train Epoch 30: 100%|██████████| 32/32 [00:07<00:00,  4.41it/s, Loss=0.3574, Acc=0.9643]\n"
     ]
    },
    {
     "name": "stdout",
     "output_type": "stream",
     "text": [
      "train Loss: 0.3953 Acc: 0.9461\n"
     ]
    },
    {
     "name": "stderr",
     "output_type": "stream",
     "text": [
      "Val Epoch 30: 100%|██████████| 32/32 [00:04<00:00,  7.68it/s, Loss=0.2899, Acc=0.9643]\n",
      "Val Epoch 30: 100%|██████████| 32/32 [00:04<00:00,  7.68it/s, Loss=0.2899, Acc=0.9643]\n"
     ]
    },
    {
     "name": "stdout",
     "output_type": "stream",
     "text": [
      "val Loss: 0.4886 Acc: 0.9088\n",
      "\n",
      "Epoch 31/49\n",
      "----------\n"
     ]
    },
    {
     "name": "stderr",
     "output_type": "stream",
     "text": [
      "Train Epoch 31: 100%|██████████| 32/32 [00:06<00:00,  4.62it/s, Loss=0.4378, Acc=0.8929]\n",
      "Train Epoch 31: 100%|██████████| 32/32 [00:06<00:00,  4.62it/s, Loss=0.4378, Acc=0.8929]\n"
     ]
    },
    {
     "name": "stdout",
     "output_type": "stream",
     "text": [
      "train Loss: 0.3676 Acc: 0.9598\n"
     ]
    },
    {
     "name": "stderr",
     "output_type": "stream",
     "text": [
      "Val Epoch 31: 100%|██████████| 32/32 [00:04<00:00,  7.92it/s, Loss=0.2722, Acc=0.9643]\n",
      "Val Epoch 31: 100%|██████████| 32/32 [00:04<00:00,  7.92it/s, Loss=0.2722, Acc=0.9643]\n"
     ]
    },
    {
     "name": "stdout",
     "output_type": "stream",
     "text": [
      "val Loss: 0.4892 Acc: 0.9108\n",
      "\n",
      "Epoch 32/49\n",
      "----------\n"
     ]
    },
    {
     "name": "stderr",
     "output_type": "stream",
     "text": [
      "Train Epoch 32: 100%|██████████| 32/32 [00:07<00:00,  4.51it/s, Loss=0.3622, Acc=0.9643]\n",
      "Train Epoch 32: 100%|██████████| 32/32 [00:07<00:00,  4.51it/s, Loss=0.3622, Acc=0.9643]\n"
     ]
    },
    {
     "name": "stdout",
     "output_type": "stream",
     "text": [
      "train Loss: 0.3645 Acc: 0.9608\n"
     ]
    },
    {
     "name": "stderr",
     "output_type": "stream",
     "text": [
      "Val Epoch 32: 100%|██████████| 32/32 [00:04<00:00,  7.78it/s, Loss=0.2818, Acc=0.9643]\n",
      "\n"
     ]
    },
    {
     "name": "stdout",
     "output_type": "stream",
     "text": [
      "val Loss: 0.4905 Acc: 0.9157\n",
      "New best model saved with val_acc: 0.9157\n",
      "\n",
      "Epoch 33/49\n",
      "----------\n",
      "New best model saved with val_acc: 0.9157\n",
      "\n",
      "Epoch 33/49\n",
      "----------\n"
     ]
    },
    {
     "name": "stderr",
     "output_type": "stream",
     "text": [
      "Train Epoch 33: 100%|██████████| 32/32 [00:06<00:00,  4.72it/s, Loss=0.2740, Acc=0.9643]\n",
      "Train Epoch 33: 100%|██████████| 32/32 [00:06<00:00,  4.72it/s, Loss=0.2740, Acc=0.9643]\n"
     ]
    },
    {
     "name": "stdout",
     "output_type": "stream",
     "text": [
      "train Loss: 0.3435 Acc: 0.9657\n"
     ]
    },
    {
     "name": "stderr",
     "output_type": "stream",
     "text": [
      "Val Epoch 33: 100%|██████████| 32/32 [00:04<00:00,  7.74it/s, Loss=0.2819, Acc=0.9643]\n",
      "Val Epoch 33: 100%|██████████| 32/32 [00:04<00:00,  7.74it/s, Loss=0.2819, Acc=0.9643]\n"
     ]
    },
    {
     "name": "stdout",
     "output_type": "stream",
     "text": [
      "val Loss: 0.4859 Acc: 0.9088\n",
      "\n",
      "Epoch 34/49\n",
      "----------\n"
     ]
    },
    {
     "name": "stderr",
     "output_type": "stream",
     "text": [
      "Train Epoch 34: 100%|██████████| 32/32 [00:06<00:00,  4.60it/s, Loss=0.3261, Acc=0.9643]\n",
      "Train Epoch 34: 100%|██████████| 32/32 [00:06<00:00,  4.60it/s, Loss=0.3261, Acc=0.9643]\n"
     ]
    },
    {
     "name": "stdout",
     "output_type": "stream",
     "text": [
      "train Loss: 0.3440 Acc: 0.9667\n"
     ]
    },
    {
     "name": "stderr",
     "output_type": "stream",
     "text": [
      "Val Epoch 34: 100%|██████████| 32/32 [00:04<00:00,  7.72it/s, Loss=0.2685, Acc=0.9643]\n",
      "Val Epoch 34: 100%|██████████| 32/32 [00:04<00:00,  7.72it/s, Loss=0.2685, Acc=0.9643]\n"
     ]
    },
    {
     "name": "stdout",
     "output_type": "stream",
     "text": [
      "val Loss: 0.4821 Acc: 0.9157\n",
      "\n",
      "Epoch 35/49\n",
      "----------\n"
     ]
    },
    {
     "name": "stderr",
     "output_type": "stream",
     "text": [
      "Train Epoch 35: 100%|██████████| 32/32 [00:07<00:00,  4.46it/s, Loss=0.2753, Acc=1.0000]\n",
      "Train Epoch 35: 100%|██████████| 32/32 [00:07<00:00,  4.46it/s, Loss=0.2753, Acc=1.0000]\n"
     ]
    },
    {
     "name": "stdout",
     "output_type": "stream",
     "text": [
      "train Loss: 0.3613 Acc: 0.9618\n"
     ]
    },
    {
     "name": "stderr",
     "output_type": "stream",
     "text": [
      "Val Epoch 35: 100%|██████████| 32/32 [00:04<00:00,  7.21it/s, Loss=0.2685, Acc=0.9643]\n",
      "Val Epoch 35: 100%|██████████| 32/32 [00:04<00:00,  7.21it/s, Loss=0.2685, Acc=0.9643]\n"
     ]
    },
    {
     "name": "stdout",
     "output_type": "stream",
     "text": [
      "val Loss: 0.4900 Acc: 0.9127\n",
      "\n",
      "Epoch 36/49\n",
      "----------\n"
     ]
    },
    {
     "name": "stderr",
     "output_type": "stream",
     "text": [
      "Train Epoch 36: 100%|██████████| 32/32 [00:06<00:00,  4.68it/s, Loss=0.3269, Acc=0.9643]\n",
      "Train Epoch 36: 100%|██████████| 32/32 [00:06<00:00,  4.68it/s, Loss=0.3269, Acc=0.9643]\n"
     ]
    },
    {
     "name": "stdout",
     "output_type": "stream",
     "text": [
      "train Loss: 0.3161 Acc: 0.9686\n"
     ]
    },
    {
     "name": "stderr",
     "output_type": "stream",
     "text": [
      "Val Epoch 36: 100%|██████████| 32/32 [00:04<00:00,  7.73it/s, Loss=0.2736, Acc=0.9643]\n",
      "Val Epoch 36: 100%|██████████| 32/32 [00:04<00:00,  7.73it/s, Loss=0.2736, Acc=0.9643]\n"
     ]
    },
    {
     "name": "stdout",
     "output_type": "stream",
     "text": [
      "val Loss: 0.4859 Acc: 0.9127\n",
      "\n",
      "Epoch 37/49\n",
      "----------\n"
     ]
    },
    {
     "name": "stderr",
     "output_type": "stream",
     "text": [
      "Train Epoch 37: 100%|██████████| 32/32 [00:06<00:00,  4.71it/s, Loss=0.3795, Acc=0.8929]\n",
      "Train Epoch 37: 100%|██████████| 32/32 [00:06<00:00,  4.71it/s, Loss=0.3795, Acc=0.8929]\n"
     ]
    },
    {
     "name": "stdout",
     "output_type": "stream",
     "text": [
      "train Loss: 0.3350 Acc: 0.9569\n"
     ]
    },
    {
     "name": "stderr",
     "output_type": "stream",
     "text": [
      "Val Epoch 37: 100%|██████████| 32/32 [00:04<00:00,  7.74it/s, Loss=0.2785, Acc=0.9643]\n",
      "Val Epoch 37: 100%|██████████| 32/32 [00:04<00:00,  7.74it/s, Loss=0.2785, Acc=0.9643]\n"
     ]
    },
    {
     "name": "stdout",
     "output_type": "stream",
     "text": [
      "val Loss: 0.4853 Acc: 0.9137\n",
      "\n",
      "Epoch 38/49\n",
      "----------\n"
     ]
    },
    {
     "name": "stderr",
     "output_type": "stream",
     "text": [
      "Train Epoch 38: 100%|██████████| 32/32 [00:07<00:00,  4.22it/s, Loss=0.3881, Acc=0.9643]\n",
      "Train Epoch 38: 100%|██████████| 32/32 [00:07<00:00,  4.22it/s, Loss=0.3881, Acc=0.9643]\n"
     ]
    },
    {
     "name": "stdout",
     "output_type": "stream",
     "text": [
      "train Loss: 0.3375 Acc: 0.9676\n"
     ]
    },
    {
     "name": "stderr",
     "output_type": "stream",
     "text": [
      "Val Epoch 38: 100%|██████████| 32/32 [00:04<00:00,  7.62it/s, Loss=0.2685, Acc=0.9643]\n",
      "Val Epoch 38: 100%|██████████| 32/32 [00:04<00:00,  7.62it/s, Loss=0.2685, Acc=0.9643]\n"
     ]
    },
    {
     "name": "stdout",
     "output_type": "stream",
     "text": [
      "val Loss: 0.4877 Acc: 0.9127\n",
      "\n",
      "Epoch 39/49\n",
      "----------\n"
     ]
    },
    {
     "name": "stderr",
     "output_type": "stream",
     "text": [
      "Train Epoch 39: 100%|██████████| 32/32 [00:07<00:00,  4.30it/s, Loss=0.2936, Acc=0.9643]\n",
      "Train Epoch 39: 100%|██████████| 32/32 [00:07<00:00,  4.30it/s, Loss=0.2936, Acc=0.9643]\n"
     ]
    },
    {
     "name": "stdout",
     "output_type": "stream",
     "text": [
      "train Loss: 0.3894 Acc: 0.9510\n"
     ]
    },
    {
     "name": "stderr",
     "output_type": "stream",
     "text": [
      "Val Epoch 39: 100%|██████████| 32/32 [00:04<00:00,  7.60it/s, Loss=0.2740, Acc=0.9643]\n",
      "Val Epoch 39: 100%|██████████| 32/32 [00:04<00:00,  7.60it/s, Loss=0.2740, Acc=0.9643]\n"
     ]
    },
    {
     "name": "stdout",
     "output_type": "stream",
     "text": [
      "val Loss: 0.4885 Acc: 0.9088\n",
      "\n",
      "Epoch 40/49\n",
      "----------\n"
     ]
    },
    {
     "name": "stderr",
     "output_type": "stream",
     "text": [
      "Train Epoch 40: 100%|██████████| 32/32 [00:07<00:00,  4.55it/s, Loss=0.4002, Acc=0.9286]\n",
      "Train Epoch 40: 100%|██████████| 32/32 [00:07<00:00,  4.55it/s, Loss=0.4002, Acc=0.9286]\n"
     ]
    },
    {
     "name": "stdout",
     "output_type": "stream",
     "text": [
      "train Loss: 0.3555 Acc: 0.9539\n"
     ]
    },
    {
     "name": "stderr",
     "output_type": "stream",
     "text": [
      "Val Epoch 40: 100%|██████████| 32/32 [00:04<00:00,  7.65it/s, Loss=0.2539, Acc=0.9643]\n",
      "Val Epoch 40: 100%|██████████| 32/32 [00:04<00:00,  7.65it/s, Loss=0.2539, Acc=0.9643]\n"
     ]
    },
    {
     "name": "stdout",
     "output_type": "stream",
     "text": [
      "val Loss: 0.4792 Acc: 0.9127\n",
      "\n",
      "Epoch 41/49\n",
      "----------\n"
     ]
    },
    {
     "name": "stderr",
     "output_type": "stream",
     "text": [
      "Train Epoch 41: 100%|██████████| 32/32 [00:07<00:00,  4.48it/s, Loss=0.4607, Acc=0.9643]\n",
      "Train Epoch 41: 100%|██████████| 32/32 [00:07<00:00,  4.48it/s, Loss=0.4607, Acc=0.9643]\n"
     ]
    },
    {
     "name": "stdout",
     "output_type": "stream",
     "text": [
      "train Loss: 0.3685 Acc: 0.9618\n"
     ]
    },
    {
     "name": "stderr",
     "output_type": "stream",
     "text": [
      "Val Epoch 41: 100%|██████████| 32/32 [00:04<00:00,  7.84it/s, Loss=0.2704, Acc=0.9643]\n",
      "Val Epoch 41: 100%|██████████| 32/32 [00:04<00:00,  7.84it/s, Loss=0.2704, Acc=0.9643]\n"
     ]
    },
    {
     "name": "stdout",
     "output_type": "stream",
     "text": [
      "val Loss: 0.4789 Acc: 0.9147\n",
      "\n",
      "Epoch 42/49\n",
      "----------\n"
     ]
    },
    {
     "name": "stderr",
     "output_type": "stream",
     "text": [
      "Train Epoch 42: 100%|██████████| 32/32 [00:07<00:00,  4.36it/s, Loss=0.5226, Acc=0.9286]\n",
      "Train Epoch 42: 100%|██████████| 32/32 [00:07<00:00,  4.36it/s, Loss=0.5226, Acc=0.9286]\n"
     ]
    },
    {
     "name": "stdout",
     "output_type": "stream",
     "text": [
      "train Loss: 0.3693 Acc: 0.9539\n"
     ]
    },
    {
     "name": "stderr",
     "output_type": "stream",
     "text": [
      "Val Epoch 42: 100%|██████████| 32/32 [00:04<00:00,  7.66it/s, Loss=0.2841, Acc=0.9643]\n",
      "Val Epoch 42: 100%|██████████| 32/32 [00:04<00:00,  7.66it/s, Loss=0.2841, Acc=0.9643]\n"
     ]
    },
    {
     "name": "stdout",
     "output_type": "stream",
     "text": [
      "val Loss: 0.4833 Acc: 0.9098\n",
      "\n",
      "Epoch 43/49\n",
      "----------\n"
     ]
    },
    {
     "name": "stderr",
     "output_type": "stream",
     "text": [
      "Train Epoch 43: 100%|██████████| 32/32 [00:07<00:00,  4.30it/s, Loss=0.3640, Acc=0.9286]\n",
      "Train Epoch 43: 100%|██████████| 32/32 [00:07<00:00,  4.30it/s, Loss=0.3640, Acc=0.9286]\n"
     ]
    },
    {
     "name": "stdout",
     "output_type": "stream",
     "text": [
      "train Loss: 0.3503 Acc: 0.9608\n"
     ]
    },
    {
     "name": "stderr",
     "output_type": "stream",
     "text": [
      "Val Epoch 43: 100%|██████████| 32/32 [00:04<00:00,  7.58it/s, Loss=0.2590, Acc=0.9643]\n",
      "Val Epoch 43: 100%|██████████| 32/32 [00:04<00:00,  7.58it/s, Loss=0.2590, Acc=0.9643]\n"
     ]
    },
    {
     "name": "stdout",
     "output_type": "stream",
     "text": [
      "val Loss: 0.4841 Acc: 0.9118\n",
      "\n",
      "Epoch 44/49\n",
      "----------\n"
     ]
    },
    {
     "name": "stderr",
     "output_type": "stream",
     "text": [
      "Train Epoch 44: 100%|██████████| 32/32 [00:07<00:00,  4.29it/s, Loss=0.3082, Acc=1.0000]\n",
      "Train Epoch 44: 100%|██████████| 32/32 [00:07<00:00,  4.29it/s, Loss=0.3082, Acc=1.0000]\n"
     ]
    },
    {
     "name": "stdout",
     "output_type": "stream",
     "text": [
      "train Loss: 0.3372 Acc: 0.9598\n"
     ]
    },
    {
     "name": "stderr",
     "output_type": "stream",
     "text": [
      "Val Epoch 44: 100%|██████████| 32/32 [00:04<00:00,  7.63it/s, Loss=0.2697, Acc=0.9643]\n",
      "Val Epoch 44: 100%|██████████| 32/32 [00:04<00:00,  7.63it/s, Loss=0.2697, Acc=0.9643]\n"
     ]
    },
    {
     "name": "stdout",
     "output_type": "stream",
     "text": [
      "val Loss: 0.4743 Acc: 0.9147\n",
      "\n",
      "Epoch 45/49\n",
      "----------\n"
     ]
    },
    {
     "name": "stderr",
     "output_type": "stream",
     "text": [
      "Train Epoch 45: 100%|██████████| 32/32 [00:07<00:00,  4.33it/s, Loss=0.3347, Acc=1.0000]\n",
      "Train Epoch 45: 100%|██████████| 32/32 [00:07<00:00,  4.33it/s, Loss=0.3347, Acc=1.0000]\n"
     ]
    },
    {
     "name": "stdout",
     "output_type": "stream",
     "text": [
      "train Loss: 0.3434 Acc: 0.9598\n"
     ]
    },
    {
     "name": "stderr",
     "output_type": "stream",
     "text": [
      "Val Epoch 45: 100%|██████████| 32/32 [00:04<00:00,  7.57it/s, Loss=0.2400, Acc=0.9643]\n",
      "Val Epoch 45: 100%|██████████| 32/32 [00:04<00:00,  7.57it/s, Loss=0.2400, Acc=0.9643]\n"
     ]
    },
    {
     "name": "stdout",
     "output_type": "stream",
     "text": [
      "val Loss: 0.4768 Acc: 0.9147\n",
      "\n",
      "Epoch 46/49\n",
      "----------\n"
     ]
    },
    {
     "name": "stderr",
     "output_type": "stream",
     "text": [
      "Train Epoch 46: 100%|██████████| 32/32 [00:06<00:00,  4.65it/s, Loss=0.4152, Acc=0.9286]\n",
      "Train Epoch 46: 100%|██████████| 32/32 [00:06<00:00,  4.65it/s, Loss=0.4152, Acc=0.9286]\n"
     ]
    },
    {
     "name": "stdout",
     "output_type": "stream",
     "text": [
      "train Loss: 0.3527 Acc: 0.9569\n"
     ]
    },
    {
     "name": "stderr",
     "output_type": "stream",
     "text": [
      "Val Epoch 46: 100%|██████████| 32/32 [00:04<00:00,  7.82it/s, Loss=0.2669, Acc=0.9643]\n",
      "Val Epoch 46: 100%|██████████| 32/32 [00:04<00:00,  7.82it/s, Loss=0.2669, Acc=0.9643]\n"
     ]
    },
    {
     "name": "stdout",
     "output_type": "stream",
     "text": [
      "val Loss: 0.4803 Acc: 0.9118\n",
      "\n",
      "Epoch 47/49\n",
      "----------\n"
     ]
    },
    {
     "name": "stderr",
     "output_type": "stream",
     "text": [
      "Train Epoch 47: 100%|██████████| 32/32 [00:07<00:00,  4.24it/s, Loss=0.1600, Acc=1.0000]\n",
      "Train Epoch 47: 100%|██████████| 32/32 [00:07<00:00,  4.24it/s, Loss=0.1600, Acc=1.0000]\n"
     ]
    },
    {
     "name": "stdout",
     "output_type": "stream",
     "text": [
      "train Loss: 0.3566 Acc: 0.9539\n"
     ]
    },
    {
     "name": "stderr",
     "output_type": "stream",
     "text": [
      "Val Epoch 47: 100%|██████████| 32/32 [00:04<00:00,  7.34it/s, Loss=0.2533, Acc=0.9643]\n",
      "Val Epoch 47: 100%|██████████| 32/32 [00:04<00:00,  7.34it/s, Loss=0.2533, Acc=0.9643]\n"
     ]
    },
    {
     "name": "stdout",
     "output_type": "stream",
     "text": [
      "val Loss: 0.4786 Acc: 0.9108\n",
      "\n",
      "Epoch 48/49\n",
      "----------\n"
     ]
    },
    {
     "name": "stderr",
     "output_type": "stream",
     "text": [
      "Train Epoch 48: 100%|██████████| 32/32 [00:07<00:00,  4.36it/s, Loss=0.2243, Acc=1.0000]\n",
      "Train Epoch 48: 100%|██████████| 32/32 [00:07<00:00,  4.36it/s, Loss=0.2243, Acc=1.0000]\n"
     ]
    },
    {
     "name": "stdout",
     "output_type": "stream",
     "text": [
      "train Loss: 0.3277 Acc: 0.9618\n"
     ]
    },
    {
     "name": "stderr",
     "output_type": "stream",
     "text": [
      "Val Epoch 48: 100%|██████████| 32/32 [00:04<00:00,  7.46it/s, Loss=0.2645, Acc=0.9643]\n",
      "Val Epoch 48: 100%|██████████| 32/32 [00:04<00:00,  7.46it/s, Loss=0.2645, Acc=0.9643]\n"
     ]
    },
    {
     "name": "stdout",
     "output_type": "stream",
     "text": [
      "val Loss: 0.4756 Acc: 0.9098\n",
      "\n",
      "Epoch 49/49\n",
      "----------\n"
     ]
    },
    {
     "name": "stderr",
     "output_type": "stream",
     "text": [
      "Train Epoch 49: 100%|██████████| 32/32 [00:07<00:00,  4.15it/s, Loss=0.2720, Acc=1.0000]\n",
      "Train Epoch 49: 100%|██████████| 32/32 [00:07<00:00,  4.15it/s, Loss=0.2720, Acc=1.0000]\n"
     ]
    },
    {
     "name": "stdout",
     "output_type": "stream",
     "text": [
      "train Loss: 0.3368 Acc: 0.9627\n"
     ]
    },
    {
     "name": "stderr",
     "output_type": "stream",
     "text": [
      "Val Epoch 49: 100%|██████████| 32/32 [00:04<00:00,  7.63it/s, Loss=0.2627, Acc=0.9643]\n",
      "\n"
     ]
    },
    {
     "name": "stdout",
     "output_type": "stream",
     "text": [
      "val Loss: 0.4666 Acc: 0.9157\n",
      "\n",
      "Training complete in 9m 42s\n",
      "Best val Acc: 0.915686\n"
     ]
    },
    {
     "data": {
      "image/png": "[encoded data removed]",
      "text/plain": [
       "<Figure size 1500x500 with 2 Axes>"
      ]
     },
     "metadata": {},
     "output_type": "display_data"
    },
    {
     "name": "stdout",
     "output_type": "stream",
     "text": [
      "Evaluating on test set...\n"
     ]
    },
    {
     "name": "stderr",
     "output_type": "stream",
     "text": [
      "100%|██████████| 193/193 [00:20<00:00,  9.35it/s]"
     ]
    },
    {
     "name": "stdout",
     "output_type": "stream",
     "text": [
      "Test Loss: 0.5767\n",
      "Test Accuracy: 0.8868\n",
      "ResNet18 Frozen - Test Accuracy: 0.8868\n"
     ]
    },
    {
     "name": "stderr",
     "output_type": "stream",
     "text": [
      "\n"
     ]
    }
   ],
   "source": [
    "\n",
    "# Create model with frozen stages\n",
    "model_frozen = FlowerResNetFrozen(base_model='resnet18', num_frozen_stages=3, num_classes=102)\n",
    "model_frozen = model_frozen.to(device)\n",
    "\n",
    "# Count trainable parameters\n",
    "trainable_params = sum(p.numel() for p in model_frozen.parameters() if p.requires_grad)\n",
    "total_params = sum(p.numel() for p in model_frozen.parameters())\n",
    "print(f\"Trainable parameters: {trainable_params}/{total_params} ({trainable_params/total_params*100:.2f}%)\")\n",
    "\n",
    "# Define optimizer for only trainable parameters\n",
    "optimizer_ft = optim.SGD(\n",
    "    filter(lambda p: p.requires_grad, model_frozen.parameters()), \n",
    "    lr=0.001, momentum=0.9\n",
    ")\n",
    "scheduler_ft = lr_scheduler.StepLR(optimizer_ft, step_size=30, gamma=0.1)\n",
    "\n",
    "# Train model\n",
    "model_frozen, train_losses_f, train_accs_f, val_losses_f, val_accs_f = train_model(\n",
    "    model_frozen, criterion, optimizer_ft, scheduler_ft, num_epochs, 'resnet18_frozen'\n",
    ")\n",
    "\n",
    "# Plot results\n",
    "plot_training_curves(train_losses_f, val_losses_f, train_accs_f, val_accs_f, 'ResNet18_Frozen')\n",
    "\n",
    "# Evaluate on test set\n",
    "test_loss_f, test_acc_f, all_preds_f, all_labels_f = evaluate_model(model_frozen, criterion)\n",
    "\n",
    "# Save training logs\n",
    "with open('resnet18_frozen.txt', 'w') as f:\n",
    "    f.write(\"Epoch,Train_Loss,Val_Loss,Train_Acc,Val_Acc\\n\")\n",
    "    for epoch in range(num_epochs):\n",
    "        f.write(f\"{epoch+1},{train_losses_f[epoch]:.4f},{val_losses_f[epoch]:.4f},{train_accs_f[epoch]:.4f},{val_accs_f[epoch]:.4f}\\n\")\n",
    "\n",
    "print(f\"ResNet18 Frozen - Test Accuracy: {test_acc_f:.4f}\")"
   ]
  },
  {
   "cell_type": "markdown",
   "id": "21de1450",
   "metadata": {},
   "source": [
    "### Experiment 3 resnet-34 with 3 frozen stages "
   ]
  },
  {
   "cell_type": "code",
   "execution_count": 11,
   "id": "4b7278cd",
   "metadata": {},
   "outputs": [
    {
     "name": "stdout",
     "output_type": "stream",
     "text": [
      "Downloading: \"https://download.pytorch.org/models/resnet34-b627a593.pth\" to /home/UG/rishika004/.cache/torch/hub/checkpoints/resnet34-b627a593.pth\n"
     ]
    },
    {
     "name": "stderr",
     "output_type": "stream",
     "text": [
      "100%|██████████| 83.3M/83.3M [00:00<00:00, 256MB/s]\n",
      "\n"
     ]
    },
    {
     "name": "stdout",
     "output_type": "stream",
     "text": [
      "ResNet34 - Trainable parameters: 19989094/21336998 (93.68%)\n",
      "Epoch 0/49\n",
      "----------\n",
      "Epoch 0/49\n",
      "----------\n"
     ]
    },
    {
     "name": "stderr",
     "output_type": "stream",
     "text": [
      "Train Epoch 0: 100%|██████████| 32/32 [00:11<00:00,  2.82it/s, Loss=4.4086, Acc=0.0714]\n",
      "Train Epoch 0: 100%|██████████| 32/32 [00:11<00:00,  2.82it/s, Loss=4.4086, Acc=0.0714]\n"
     ]
    },
    {
     "name": "stdout",
     "output_type": "stream",
     "text": [
      "train Loss: 4.7367 Acc: 0.0216\n"
     ]
    },
    {
     "name": "stderr",
     "output_type": "stream",
     "text": [
      "Val Epoch 0: 100%|██████████| 32/32 [00:05<00:00,  5.58it/s, Loss=4.3519, Acc=0.1071]\n",
      "\n"
     ]
    },
    {
     "name": "stdout",
     "output_type": "stream",
     "text": [
      "val Loss: 4.3275 Acc: 0.0765\n",
      "New best model saved with val_acc: 0.0765\n",
      "\n",
      "Epoch 1/49\n",
      "----------\n",
      "New best model saved with val_acc: 0.0765\n",
      "\n",
      "Epoch 1/49\n",
      "----------\n"
     ]
    },
    {
     "name": "stderr",
     "output_type": "stream",
     "text": [
      "Train Epoch 1: 100%|██████████| 32/32 [00:12<00:00,  2.57it/s, Loss=3.9253, Acc=0.2143]\n",
      "Train Epoch 1: 100%|██████████| 32/32 [00:12<00:00,  2.57it/s, Loss=3.9253, Acc=0.2143]\n"
     ]
    },
    {
     "name": "stdout",
     "output_type": "stream",
     "text": [
      "train Loss: 4.1263 Acc: 0.1461\n"
     ]
    },
    {
     "name": "stderr",
     "output_type": "stream",
     "text": [
      "Val Epoch 1: 100%|██████████| 32/32 [00:05<00:00,  5.46it/s, Loss=3.6771, Acc=0.5000]\n",
      "\n"
     ]
    },
    {
     "name": "stdout",
     "output_type": "stream",
     "text": [
      "val Loss: 3.7296 Acc: 0.3078\n",
      "New best model saved with val_acc: 0.3078\n",
      "\n",
      "Epoch 2/49\n",
      "----------\n",
      "New best model saved with val_acc: 0.3078\n",
      "\n",
      "Epoch 2/49\n",
      "----------\n"
     ]
    },
    {
     "name": "stderr",
     "output_type": "stream",
     "text": [
      "Train Epoch 2: 100%|██████████| 32/32 [00:11<00:00,  2.83it/s, Loss=3.4327, Acc=0.3929]\n",
      "Train Epoch 2: 100%|██████████| 32/32 [00:11<00:00,  2.83it/s, Loss=3.4327, Acc=0.3929]\n"
     ]
    },
    {
     "name": "stdout",
     "output_type": "stream",
     "text": [
      "train Loss: 3.5573 Acc: 0.3922\n"
     ]
    },
    {
     "name": "stderr",
     "output_type": "stream",
     "text": [
      "Val Epoch 2: 100%|██████████| 32/32 [00:06<00:00,  5.18it/s, Loss=2.8522, Acc=0.5714]\n",
      "\n"
     ]
    },
    {
     "name": "stdout",
     "output_type": "stream",
     "text": [
      "val Loss: 3.1110 Acc: 0.5216\n",
      "New best model saved with val_acc: 0.5216\n",
      "\n",
      "Epoch 3/49\n",
      "----------\n",
      "New best model saved with val_acc: 0.5216\n",
      "\n",
      "Epoch 3/49\n",
      "----------\n"
     ]
    },
    {
     "name": "stderr",
     "output_type": "stream",
     "text": [
      "Train Epoch 3: 100%|██████████| 32/32 [00:12<00:00,  2.60it/s, Loss=2.9110, Acc=0.5357]\n",
      "Train Epoch 3: 100%|██████████| 32/32 [00:12<00:00,  2.60it/s, Loss=2.9110, Acc=0.5357]\n"
     ]
    },
    {
     "name": "stdout",
     "output_type": "stream",
     "text": [
      "train Loss: 2.9830 Acc: 0.5706\n"
     ]
    },
    {
     "name": "stderr",
     "output_type": "stream",
     "text": [
      "Val Epoch 3: 100%|██████████| 32/32 [00:05<00:00,  5.41it/s, Loss=2.0972, Acc=0.6786]\n",
      "\n"
     ]
    },
    {
     "name": "stdout",
     "output_type": "stream",
     "text": [
      "val Loss: 2.5573 Acc: 0.6343\n",
      "New best model saved with val_acc: 0.6343\n",
      "\n",
      "Epoch 4/49\n",
      "----------\n",
      "New best model saved with val_acc: 0.6343\n",
      "\n",
      "Epoch 4/49\n",
      "----------\n"
     ]
    },
    {
     "name": "stderr",
     "output_type": "stream",
     "text": [
      "Train Epoch 4: 100%|██████████| 32/32 [00:13<00:00,  2.39it/s, Loss=2.2655, Acc=0.7143]\n",
      "Train Epoch 4: 100%|██████████| 32/32 [00:13<00:00,  2.39it/s, Loss=2.2655, Acc=0.7143]\n"
     ]
    },
    {
     "name": "stdout",
     "output_type": "stream",
     "text": [
      "train Loss: 2.5108 Acc: 0.6745\n"
     ]
    },
    {
     "name": "stderr",
     "output_type": "stream",
     "text": [
      "Val Epoch 4: 100%|██████████| 32/32 [00:06<00:00,  5.11it/s, Loss=1.6222, Acc=0.7500]\n",
      "\n"
     ]
    },
    {
     "name": "stdout",
     "output_type": "stream",
     "text": [
      "val Loss: 2.1061 Acc: 0.7088\n",
      "New best model saved with val_acc: 0.7088\n",
      "\n",
      "Epoch 5/49\n",
      "----------\n",
      "New best model saved with val_acc: 0.7088\n",
      "\n",
      "Epoch 5/49\n",
      "----------\n"
     ]
    },
    {
     "name": "stderr",
     "output_type": "stream",
     "text": [
      "Train Epoch 5: 100%|██████████| 32/32 [00:11<00:00,  2.87it/s, Loss=2.1510, Acc=0.6429]\n",
      "Train Epoch 5: 100%|██████████| 32/32 [00:11<00:00,  2.87it/s, Loss=2.1510, Acc=0.6429]\n"
     ]
    },
    {
     "name": "stdout",
     "output_type": "stream",
     "text": [
      "train Loss: 2.1006 Acc: 0.7402\n"
     ]
    },
    {
     "name": "stderr",
     "output_type": "stream",
     "text": [
      "Val Epoch 5: 100%|██████████| 32/32 [00:06<00:00,  5.16it/s, Loss=1.3847, Acc=0.7143]\n",
      "\n"
     ]
    },
    {
     "name": "stdout",
     "output_type": "stream",
     "text": [
      "val Loss: 1.7668 Acc: 0.7520\n",
      "New best model saved with val_acc: 0.7520\n",
      "\n",
      "Epoch 6/49\n",
      "----------\n",
      "New best model saved with val_acc: 0.7520\n",
      "\n",
      "Epoch 6/49\n",
      "----------\n"
     ]
    },
    {
     "name": "stderr",
     "output_type": "stream",
     "text": [
      "Train Epoch 6: 100%|██████████| 32/32 [00:12<00:00,  2.51it/s, Loss=1.9463, Acc=0.6786]\n",
      "Train Epoch 6: 100%|██████████| 32/32 [00:12<00:00,  2.51it/s, Loss=1.9463, Acc=0.6786]\n"
     ]
    },
    {
     "name": "stdout",
     "output_type": "stream",
     "text": [
      "train Loss: 1.7943 Acc: 0.7882\n"
     ]
    },
    {
     "name": "stderr",
     "output_type": "stream",
     "text": [
      "Val Epoch 6: 100%|██████████| 32/32 [00:05<00:00,  5.48it/s, Loss=1.0446, Acc=0.8214]\n",
      "\n"
     ]
    },
    {
     "name": "stdout",
     "output_type": "stream",
     "text": [
      "val Loss: 1.4938 Acc: 0.7843\n",
      "New best model saved with val_acc: 0.7843\n",
      "\n",
      "Epoch 7/49\n",
      "----------\n",
      "New best model saved with val_acc: 0.7843\n",
      "\n",
      "Epoch 7/49\n",
      "----------\n"
     ]
    },
    {
     "name": "stderr",
     "output_type": "stream",
     "text": [
      "Train Epoch 7: 100%|██████████| 32/32 [00:11<00:00,  2.88it/s, Loss=1.7804, Acc=0.7143]\n",
      "Train Epoch 7: 100%|██████████| 32/32 [00:11<00:00,  2.88it/s, Loss=1.7804, Acc=0.7143]\n"
     ]
    },
    {
     "name": "stdout",
     "output_type": "stream",
     "text": [
      "train Loss: 1.5112 Acc: 0.8392\n"
     ]
    },
    {
     "name": "stderr",
     "output_type": "stream",
     "text": [
      "Val Epoch 7: 100%|██████████| 32/32 [00:05<00:00,  5.52it/s, Loss=0.9478, Acc=0.8571]\n",
      "\n"
     ]
    },
    {
     "name": "stdout",
     "output_type": "stream",
     "text": [
      "val Loss: 1.2856 Acc: 0.8127\n",
      "New best model saved with val_acc: 0.8127\n",
      "\n",
      "Epoch 8/49\n",
      "----------\n",
      "New best model saved with val_acc: 0.8127\n",
      "\n",
      "Epoch 8/49\n",
      "----------\n"
     ]
    },
    {
     "name": "stderr",
     "output_type": "stream",
     "text": [
      "Train Epoch 8: 100%|██████████| 32/32 [00:11<00:00,  2.82it/s, Loss=1.1854, Acc=0.8571]\n",
      "Train Epoch 8: 100%|██████████| 32/32 [00:11<00:00,  2.82it/s, Loss=1.1854, Acc=0.8571]\n"
     ]
    },
    {
     "name": "stdout",
     "output_type": "stream",
     "text": [
      "train Loss: 1.2951 Acc: 0.8637\n"
     ]
    },
    {
     "name": "stderr",
     "output_type": "stream",
     "text": [
      "Val Epoch 8: 100%|██████████| 32/32 [00:06<00:00,  5.21it/s, Loss=0.7788, Acc=0.8571]\n",
      "\n"
     ]
    },
    {
     "name": "stdout",
     "output_type": "stream",
     "text": [
      "val Loss: 1.1327 Acc: 0.8412\n",
      "New best model saved with val_acc: 0.8412\n",
      "\n",
      "Epoch 9/49\n",
      "----------\n",
      "New best model saved with val_acc: 0.8412\n",
      "\n",
      "Epoch 9/49\n",
      "----------\n"
     ]
    },
    {
     "name": "stderr",
     "output_type": "stream",
     "text": [
      "Train Epoch 9: 100%|██████████| 32/32 [00:11<00:00,  2.68it/s, Loss=0.9455, Acc=0.8571]\n",
      "Train Epoch 9: 100%|██████████| 32/32 [00:11<00:00,  2.68it/s, Loss=0.9455, Acc=0.8571]\n"
     ]
    },
    {
     "name": "stdout",
     "output_type": "stream",
     "text": [
      "train Loss: 1.1265 Acc: 0.8824\n"
     ]
    },
    {
     "name": "stderr",
     "output_type": "stream",
     "text": [
      "Val Epoch 9: 100%|██████████| 32/32 [00:06<00:00,  5.28it/s, Loss=0.6958, Acc=0.9643]\n",
      "\n"
     ]
    },
    {
     "name": "stdout",
     "output_type": "stream",
     "text": [
      "val Loss: 1.0027 Acc: 0.8588\n",
      "New best model saved with val_acc: 0.8588\n",
      "\n",
      "Epoch 10/49\n",
      "----------\n",
      "New best model saved with val_acc: 0.8588\n",
      "\n",
      "Epoch 10/49\n",
      "----------\n"
     ]
    },
    {
     "name": "stderr",
     "output_type": "stream",
     "text": [
      "Train Epoch 10: 100%|██████████| 32/32 [00:12<00:00,  2.55it/s, Loss=0.8569, Acc=0.9286]\n",
      "Train Epoch 10: 100%|██████████| 32/32 [00:12<00:00,  2.55it/s, Loss=0.8569, Acc=0.9286]\n"
     ]
    },
    {
     "name": "stdout",
     "output_type": "stream",
     "text": [
      "train Loss: 0.9647 Acc: 0.9098\n"
     ]
    },
    {
     "name": "stderr",
     "output_type": "stream",
     "text": [
      "Val Epoch 10: 100%|██████████| 32/32 [00:06<00:00,  5.13it/s, Loss=0.7184, Acc=0.9286]\n",
      "\n"
     ]
    },
    {
     "name": "stdout",
     "output_type": "stream",
     "text": [
      "val Loss: 0.8990 Acc: 0.8676\n",
      "New best model saved with val_acc: 0.8676\n",
      "\n",
      "Epoch 11/49\n",
      "----------\n",
      "New best model saved with val_acc: 0.8676\n",
      "\n",
      "Epoch 11/49\n",
      "----------\n"
     ]
    },
    {
     "name": "stderr",
     "output_type": "stream",
     "text": [
      "Train Epoch 11: 100%|██████████| 32/32 [00:12<00:00,  2.52it/s, Loss=0.8025, Acc=0.8929]\n",
      "Train Epoch 11: 100%|██████████| 32/32 [00:12<00:00,  2.52it/s, Loss=0.8025, Acc=0.8929]\n"
     ]
    },
    {
     "name": "stdout",
     "output_type": "stream",
     "text": [
      "train Loss: 0.8889 Acc: 0.9010\n"
     ]
    },
    {
     "name": "stderr",
     "output_type": "stream",
     "text": [
      "Val Epoch 11: 100%|██████████| 32/32 [00:06<00:00,  5.07it/s, Loss=0.5776, Acc=1.0000]\n",
      "\n"
     ]
    },
    {
     "name": "stdout",
     "output_type": "stream",
     "text": [
      "val Loss: 0.8131 Acc: 0.8735\n",
      "New best model saved with val_acc: 0.8735\n",
      "\n",
      "Epoch 12/49\n",
      "----------\n",
      "New best model saved with val_acc: 0.8735\n",
      "\n",
      "Epoch 12/49\n",
      "----------\n"
     ]
    },
    {
     "name": "stderr",
     "output_type": "stream",
     "text": [
      "Train Epoch 12: 100%|██████████| 32/32 [00:11<00:00,  2.75it/s, Loss=0.8111, Acc=0.9643]\n",
      "Train Epoch 12: 100%|██████████| 32/32 [00:11<00:00,  2.75it/s, Loss=0.8111, Acc=0.9643]\n"
     ]
    },
    {
     "name": "stdout",
     "output_type": "stream",
     "text": [
      "train Loss: 0.7839 Acc: 0.9147\n"
     ]
    },
    {
     "name": "stderr",
     "output_type": "stream",
     "text": [
      "Val Epoch 12: 100%|██████████| 32/32 [00:06<00:00,  4.79it/s, Loss=0.5863, Acc=0.9286]\n",
      "\n"
     ]
    },
    {
     "name": "stdout",
     "output_type": "stream",
     "text": [
      "val Loss: 0.7468 Acc: 0.8765\n",
      "New best model saved with val_acc: 0.8765\n",
      "\n",
      "Epoch 13/49\n",
      "----------\n",
      "New best model saved with val_acc: 0.8765\n",
      "\n",
      "Epoch 13/49\n",
      "----------\n"
     ]
    },
    {
     "name": "stderr",
     "output_type": "stream",
     "text": [
      "Train Epoch 13: 100%|██████████| 32/32 [00:13<00:00,  2.38it/s, Loss=0.6988, Acc=0.8571]\n",
      "Train Epoch 13: 100%|██████████| 32/32 [00:13<00:00,  2.38it/s, Loss=0.6988, Acc=0.8571]\n"
     ]
    },
    {
     "name": "stdout",
     "output_type": "stream",
     "text": [
      "train Loss: 0.7007 Acc: 0.9225\n"
     ]
    },
    {
     "name": "stderr",
     "output_type": "stream",
     "text": [
      "Val Epoch 13: 100%|██████████| 32/32 [00:06<00:00,  5.25it/s, Loss=0.5212, Acc=1.0000]\n",
      "\n"
     ]
    },
    {
     "name": "stdout",
     "output_type": "stream",
     "text": [
      "val Loss: 0.7004 Acc: 0.8902\n",
      "New best model saved with val_acc: 0.8902\n",
      "\n",
      "Epoch 14/49\n",
      "----------\n",
      "New best model saved with val_acc: 0.8902\n",
      "\n",
      "Epoch 14/49\n",
      "----------\n"
     ]
    },
    {
     "name": "stderr",
     "output_type": "stream",
     "text": [
      "Train Epoch 14: 100%|██████████| 32/32 [00:12<00:00,  2.66it/s, Loss=0.5526, Acc=0.9643]\n",
      "Train Epoch 14: 100%|██████████| 32/32 [00:12<00:00,  2.66it/s, Loss=0.5526, Acc=0.9643]\n"
     ]
    },
    {
     "name": "stdout",
     "output_type": "stream",
     "text": [
      "train Loss: 0.6493 Acc: 0.9353\n"
     ]
    },
    {
     "name": "stderr",
     "output_type": "stream",
     "text": [
      "Val Epoch 14: 100%|██████████| 32/32 [00:05<00:00,  5.45it/s, Loss=0.4533, Acc=1.0000]\n",
      "\n"
     ]
    },
    {
     "name": "stdout",
     "output_type": "stream",
     "text": [
      "val Loss: 0.6530 Acc: 0.8990\n",
      "New best model saved with val_acc: 0.8990\n",
      "\n",
      "Epoch 15/49\n",
      "----------\n",
      "New best model saved with val_acc: 0.8990\n",
      "\n",
      "Epoch 15/49\n",
      "----------\n"
     ]
    },
    {
     "name": "stderr",
     "output_type": "stream",
     "text": [
      "Train Epoch 15: 100%|██████████| 32/32 [00:12<00:00,  2.64it/s, Loss=0.7397, Acc=0.9286]\n",
      "Train Epoch 15: 100%|██████████| 32/32 [00:12<00:00,  2.64it/s, Loss=0.7397, Acc=0.9286]\n"
     ]
    },
    {
     "name": "stdout",
     "output_type": "stream",
     "text": [
      "train Loss: 0.5764 Acc: 0.9294\n"
     ]
    },
    {
     "name": "stderr",
     "output_type": "stream",
     "text": [
      "Val Epoch 15: 100%|██████████| 32/32 [00:06<00:00,  4.95it/s, Loss=0.3829, Acc=1.0000]\n",
      "Val Epoch 15: 100%|██████████| 32/32 [00:06<00:00,  4.95it/s, Loss=0.3829, Acc=1.0000]\n"
     ]
    },
    {
     "name": "stdout",
     "output_type": "stream",
     "text": [
      "val Loss: 0.6184 Acc: 0.8961\n",
      "\n",
      "Epoch 16/49\n",
      "----------\n"
     ]
    },
    {
     "name": "stderr",
     "output_type": "stream",
     "text": [
      "Train Epoch 16: 100%|██████████| 32/32 [00:13<00:00,  2.38it/s, Loss=0.5510, Acc=0.9286]\n",
      "Train Epoch 16: 100%|██████████| 32/32 [00:13<00:00,  2.38it/s, Loss=0.5510, Acc=0.9286]\n"
     ]
    },
    {
     "name": "stdout",
     "output_type": "stream",
     "text": [
      "train Loss: 0.5184 Acc: 0.9461\n"
     ]
    },
    {
     "name": "stderr",
     "output_type": "stream",
     "text": [
      "Val Epoch 16: 100%|██████████| 32/32 [00:07<00:00,  4.44it/s, Loss=0.3980, Acc=1.0000]\n",
      "Val Epoch 16: 100%|██████████| 32/32 [00:07<00:00,  4.44it/s, Loss=0.3980, Acc=1.0000]\n"
     ]
    },
    {
     "name": "stdout",
     "output_type": "stream",
     "text": [
      "val Loss: 0.5857 Acc: 0.8990\n",
      "\n",
      "Epoch 17/49\n",
      "----------\n"
     ]
    },
    {
     "name": "stderr",
     "output_type": "stream",
     "text": [
      "Train Epoch 17: 100%|██████████| 32/32 [00:13<00:00,  2.38it/s, Loss=0.7777, Acc=0.8571]\n",
      "Train Epoch 17: 100%|██████████| 32/32 [00:13<00:00,  2.38it/s, Loss=0.7777, Acc=0.8571]\n"
     ]
    },
    {
     "name": "stdout",
     "output_type": "stream",
     "text": [
      "train Loss: 0.5073 Acc: 0.9373\n"
     ]
    },
    {
     "name": "stderr",
     "output_type": "stream",
     "text": [
      "Val Epoch 17: 100%|██████████| 32/32 [00:06<00:00,  4.66it/s, Loss=0.3947, Acc=1.0000]\n",
      "\n"
     ]
    },
    {
     "name": "stdout",
     "output_type": "stream",
     "text": [
      "val Loss: 0.5542 Acc: 0.9059\n",
      "New best model saved with val_acc: 0.9059\n",
      "\n",
      "Epoch 18/49\n",
      "----------\n",
      "New best model saved with val_acc: 0.9059\n",
      "\n",
      "Epoch 18/49\n",
      "----------\n"
     ]
    },
    {
     "name": "stderr",
     "output_type": "stream",
     "text": [
      "Train Epoch 18: 100%|██████████| 32/32 [00:13<00:00,  2.40it/s, Loss=0.2886, Acc=0.9643]\n",
      "Train Epoch 18: 100%|██████████| 32/32 [00:13<00:00,  2.40it/s, Loss=0.2886, Acc=0.9643]\n"
     ]
    },
    {
     "name": "stdout",
     "output_type": "stream",
     "text": [
      "train Loss: 0.4347 Acc: 0.9539\n"
     ]
    },
    {
     "name": "stderr",
     "output_type": "stream",
     "text": [
      "Val Epoch 18: 100%|██████████| 32/32 [00:07<00:00,  4.21it/s, Loss=0.3669, Acc=1.0000]\n",
      "\n"
     ]
    },
    {
     "name": "stdout",
     "output_type": "stream",
     "text": [
      "val Loss: 0.5334 Acc: 0.9069\n",
      "New best model saved with val_acc: 0.9069\n",
      "\n",
      "Epoch 19/49\n",
      "----------\n",
      "New best model saved with val_acc: 0.9069\n",
      "\n",
      "Epoch 19/49\n",
      "----------\n"
     ]
    },
    {
     "name": "stderr",
     "output_type": "stream",
     "text": [
      "Train Epoch 19: 100%|██████████| 32/32 [00:13<00:00,  2.34it/s, Loss=0.3709, Acc=0.9643]\n",
      "Train Epoch 19: 100%|██████████| 32/32 [00:13<00:00,  2.34it/s, Loss=0.3709, Acc=0.9643]\n"
     ]
    },
    {
     "name": "stdout",
     "output_type": "stream",
     "text": [
      "train Loss: 0.3791 Acc: 0.9618\n"
     ]
    },
    {
     "name": "stderr",
     "output_type": "stream",
     "text": [
      "Val Epoch 19: 100%|██████████| 32/32 [00:07<00:00,  4.44it/s, Loss=0.3951, Acc=1.0000]\n",
      "\n"
     ]
    },
    {
     "name": "stdout",
     "output_type": "stream",
     "text": [
      "val Loss: 0.5128 Acc: 0.9137\n",
      "New best model saved with val_acc: 0.9137\n",
      "\n",
      "Epoch 20/49\n",
      "----------\n",
      "New best model saved with val_acc: 0.9137\n",
      "\n",
      "Epoch 20/49\n",
      "----------\n"
     ]
    },
    {
     "name": "stderr",
     "output_type": "stream",
     "text": [
      "Train Epoch 20: 100%|██████████| 32/32 [00:14<00:00,  2.17it/s, Loss=0.4091, Acc=0.9643]\n",
      "Train Epoch 20: 100%|██████████| 32/32 [00:14<00:00,  2.17it/s, Loss=0.4091, Acc=0.9643]\n"
     ]
    },
    {
     "name": "stdout",
     "output_type": "stream",
     "text": [
      "train Loss: 0.3970 Acc: 0.9539\n"
     ]
    },
    {
     "name": "stderr",
     "output_type": "stream",
     "text": [
      "Val Epoch 20: 100%|██████████| 32/32 [00:19<00:00,  1.67it/s, Loss=0.3201, Acc=1.0000]\n",
      "Val Epoch 20: 100%|██████████| 32/32 [00:19<00:00,  1.67it/s, Loss=0.3201, Acc=1.0000]\n"
     ]
    },
    {
     "name": "stdout",
     "output_type": "stream",
     "text": [
      "val Loss: 0.4954 Acc: 0.9127\n",
      "\n",
      "Epoch 21/49\n",
      "----------\n"
     ]
    },
    {
     "name": "stderr",
     "output_type": "stream",
     "text": [
      "Train Epoch 21: 100%|██████████| 32/32 [00:13<00:00,  2.40it/s, Loss=0.3928, Acc=0.9643]\n",
      "Train Epoch 21: 100%|██████████| 32/32 [00:13<00:00,  2.40it/s, Loss=0.3928, Acc=0.9643]\n"
     ]
    },
    {
     "name": "stdout",
     "output_type": "stream",
     "text": [
      "train Loss: 0.4147 Acc: 0.9402\n"
     ]
    },
    {
     "name": "stderr",
     "output_type": "stream",
     "text": [
      "Val Epoch 21: 100%|██████████| 32/32 [00:11<00:00,  2.75it/s, Loss=0.2590, Acc=1.0000]\n",
      "Val Epoch 21: 100%|██████████| 32/32 [00:11<00:00,  2.75it/s, Loss=0.2590, Acc=1.0000]\n"
     ]
    },
    {
     "name": "stdout",
     "output_type": "stream",
     "text": [
      "val Loss: 0.4771 Acc: 0.9118\n",
      "\n",
      "Epoch 22/49\n",
      "----------\n"
     ]
    },
    {
     "name": "stderr",
     "output_type": "stream",
     "text": [
      "Train Epoch 22: 100%|██████████| 32/32 [00:14<00:00,  2.23it/s, Loss=0.3735, Acc=0.9643]\n",
      "Train Epoch 22: 100%|██████████| 32/32 [00:14<00:00,  2.23it/s, Loss=0.3735, Acc=0.9643]\n"
     ]
    },
    {
     "name": "stdout",
     "output_type": "stream",
     "text": [
      "train Loss: 0.3748 Acc: 0.9578\n"
     ]
    },
    {
     "name": "stderr",
     "output_type": "stream",
     "text": [
      "Val Epoch 22: 100%|██████████| 32/32 [00:07<00:00,  4.39it/s, Loss=0.2262, Acc=1.0000]\n",
      "\n"
     ]
    },
    {
     "name": "stdout",
     "output_type": "stream",
     "text": [
      "val Loss: 0.4734 Acc: 0.9147\n",
      "New best model saved with val_acc: 0.9147\n",
      "\n",
      "Epoch 23/49\n",
      "----------\n",
      "New best model saved with val_acc: 0.9147\n",
      "\n",
      "Epoch 23/49\n",
      "----------\n"
     ]
    },
    {
     "name": "stderr",
     "output_type": "stream",
     "text": [
      "Train Epoch 23: 100%|██████████| 32/32 [00:14<00:00,  2.24it/s, Loss=0.1860, Acc=1.0000]\n",
      "Train Epoch 23: 100%|██████████| 32/32 [00:14<00:00,  2.24it/s, Loss=0.1860, Acc=1.0000]\n"
     ]
    },
    {
     "name": "stdout",
     "output_type": "stream",
     "text": [
      "train Loss: 0.3500 Acc: 0.9520\n"
     ]
    },
    {
     "name": "stderr",
     "output_type": "stream",
     "text": [
      "Val Epoch 23: 100%|██████████| 32/32 [00:07<00:00,  4.27it/s, Loss=0.3042, Acc=1.0000]\n",
      "\n"
     ]
    },
    {
     "name": "stdout",
     "output_type": "stream",
     "text": [
      "val Loss: 0.4510 Acc: 0.9206\n",
      "New best model saved with val_acc: 0.9206\n",
      "\n",
      "Epoch 24/49\n",
      "----------\n",
      "New best model saved with val_acc: 0.9206\n",
      "\n",
      "Epoch 24/49\n",
      "----------\n"
     ]
    },
    {
     "name": "stderr",
     "output_type": "stream",
     "text": [
      "Train Epoch 24: 100%|██████████| 32/32 [00:13<00:00,  2.31it/s, Loss=0.2547, Acc=1.0000]\n",
      "Train Epoch 24: 100%|██████████| 32/32 [00:13<00:00,  2.31it/s, Loss=0.2547, Acc=1.0000]\n"
     ]
    },
    {
     "name": "stdout",
     "output_type": "stream",
     "text": [
      "train Loss: 0.3320 Acc: 0.9549\n"
     ]
    },
    {
     "name": "stderr",
     "output_type": "stream",
     "text": [
      "Val Epoch 24: 100%|██████████| 32/32 [00:09<00:00,  3.27it/s, Loss=0.2980, Acc=1.0000]\n",
      "\n"
     ]
    },
    {
     "name": "stdout",
     "output_type": "stream",
     "text": [
      "val Loss: 0.4398 Acc: 0.9235\n",
      "New best model saved with val_acc: 0.9235\n",
      "\n",
      "Epoch 25/49\n",
      "----------\n",
      "New best model saved with val_acc: 0.9235\n",
      "\n",
      "Epoch 25/49\n",
      "----------\n"
     ]
    },
    {
     "name": "stderr",
     "output_type": "stream",
     "text": [
      "Train Epoch 25: 100%|██████████| 32/32 [00:13<00:00,  2.42it/s, Loss=0.5362, Acc=0.9286]\n",
      "Train Epoch 25: 100%|██████████| 32/32 [00:13<00:00,  2.42it/s, Loss=0.5362, Acc=0.9286]\n"
     ]
    },
    {
     "name": "stdout",
     "output_type": "stream",
     "text": [
      "train Loss: 0.3166 Acc: 0.9598\n"
     ]
    },
    {
     "name": "stderr",
     "output_type": "stream",
     "text": [
      "Val Epoch 25: 100%|██████████| 32/32 [00:07<00:00,  4.43it/s, Loss=0.2829, Acc=1.0000]\n",
      "\n"
     ]
    },
    {
     "name": "stdout",
     "output_type": "stream",
     "text": [
      "val Loss: 0.4313 Acc: 0.9245\n",
      "New best model saved with val_acc: 0.9245\n",
      "\n",
      "Epoch 26/49\n",
      "----------\n",
      "New best model saved with val_acc: 0.9245\n",
      "\n",
      "Epoch 26/49\n",
      "----------\n"
     ]
    },
    {
     "name": "stderr",
     "output_type": "stream",
     "text": [
      "Train Epoch 26: 100%|██████████| 32/32 [00:13<00:00,  2.35it/s, Loss=0.2551, Acc=0.9643]\n",
      "Train Epoch 26: 100%|██████████| 32/32 [00:13<00:00,  2.35it/s, Loss=0.2551, Acc=0.9643]\n"
     ]
    },
    {
     "name": "stdout",
     "output_type": "stream",
     "text": [
      "train Loss: 0.2842 Acc: 0.9676\n"
     ]
    },
    {
     "name": "stderr",
     "output_type": "stream",
     "text": [
      "Val Epoch 26: 100%|██████████| 32/32 [00:06<00:00,  4.70it/s, Loss=0.2139, Acc=1.0000]\n",
      "Val Epoch 26: 100%|██████████| 32/32 [00:06<00:00,  4.70it/s, Loss=0.2139, Acc=1.0000]\n"
     ]
    },
    {
     "name": "stdout",
     "output_type": "stream",
     "text": [
      "val Loss: 0.4219 Acc: 0.9235\n",
      "\n",
      "Epoch 27/49\n",
      "----------\n"
     ]
    },
    {
     "name": "stderr",
     "output_type": "stream",
     "text": [
      "Train Epoch 27: 100%|██████████| 32/32 [00:13<00:00,  2.40it/s, Loss=0.3153, Acc=0.9643]\n",
      "Train Epoch 27: 100%|██████████| 32/32 [00:13<00:00,  2.40it/s, Loss=0.3153, Acc=0.9643]\n"
     ]
    },
    {
     "name": "stdout",
     "output_type": "stream",
     "text": [
      "train Loss: 0.2494 Acc: 0.9706\n"
     ]
    },
    {
     "name": "stderr",
     "output_type": "stream",
     "text": [
      "Val Epoch 27: 100%|██████████| 32/32 [00:05<00:00,  5.50it/s, Loss=0.2030, Acc=1.0000]\n",
      "Val Epoch 27: 100%|██████████| 32/32 [00:05<00:00,  5.50it/s, Loss=0.2030, Acc=1.0000]\n"
     ]
    },
    {
     "name": "stdout",
     "output_type": "stream",
     "text": [
      "val Loss: 0.4135 Acc: 0.9225\n",
      "\n",
      "Epoch 28/49\n",
      "----------\n"
     ]
    },
    {
     "name": "stderr",
     "output_type": "stream",
     "text": [
      "Train Epoch 28: 100%|██████████| 32/32 [00:12<00:00,  2.51it/s, Loss=0.1560, Acc=1.0000]\n",
      "Train Epoch 28: 100%|██████████| 32/32 [00:12<00:00,  2.51it/s, Loss=0.1560, Acc=1.0000]\n"
     ]
    },
    {
     "name": "stdout",
     "output_type": "stream",
     "text": [
      "train Loss: 0.2427 Acc: 0.9676\n"
     ]
    },
    {
     "name": "stderr",
     "output_type": "stream",
     "text": [
      "Val Epoch 28: 100%|██████████| 32/32 [00:06<00:00,  5.08it/s, Loss=0.1819, Acc=1.0000]\n",
      "Val Epoch 28: 100%|██████████| 32/32 [00:06<00:00,  5.08it/s, Loss=0.1819, Acc=1.0000]\n"
     ]
    },
    {
     "name": "stdout",
     "output_type": "stream",
     "text": [
      "val Loss: 0.4088 Acc: 0.9225\n",
      "\n",
      "Epoch 29/49\n",
      "----------\n"
     ]
    },
    {
     "name": "stderr",
     "output_type": "stream",
     "text": [
      "Train Epoch 29: 100%|██████████| 32/32 [00:11<00:00,  2.72it/s, Loss=0.3165, Acc=0.9286]\n",
      "Train Epoch 29: 100%|██████████| 32/32 [00:11<00:00,  2.72it/s, Loss=0.3165, Acc=0.9286]\n"
     ]
    },
    {
     "name": "stdout",
     "output_type": "stream",
     "text": [
      "train Loss: 0.2460 Acc: 0.9686\n"
     ]
    },
    {
     "name": "stderr",
     "output_type": "stream",
     "text": [
      "Val Epoch 29: 100%|██████████| 32/32 [00:06<00:00,  5.04it/s, Loss=0.2178, Acc=1.0000]\n",
      "\n"
     ]
    },
    {
     "name": "stdout",
     "output_type": "stream",
     "text": [
      "val Loss: 0.4028 Acc: 0.9265\n",
      "New best model saved with val_acc: 0.9265\n",
      "\n",
      "Epoch 30/49\n",
      "----------\n",
      "New best model saved with val_acc: 0.9265\n",
      "\n",
      "Epoch 30/49\n",
      "----------\n"
     ]
    },
    {
     "name": "stderr",
     "output_type": "stream",
     "text": [
      "Train Epoch 30: 100%|██████████| 32/32 [00:12<00:00,  2.56it/s, Loss=0.2166, Acc=0.9643]\n",
      "Train Epoch 30: 100%|██████████| 32/32 [00:12<00:00,  2.56it/s, Loss=0.2166, Acc=0.9643]\n"
     ]
    },
    {
     "name": "stdout",
     "output_type": "stream",
     "text": [
      "train Loss: 0.2237 Acc: 0.9735\n"
     ]
    },
    {
     "name": "stderr",
     "output_type": "stream",
     "text": [
      "Val Epoch 30: 100%|██████████| 32/32 [00:06<00:00,  4.91it/s, Loss=0.2181, Acc=1.0000]\n",
      "\n"
     ]
    },
    {
     "name": "stdout",
     "output_type": "stream",
     "text": [
      "val Loss: 0.3938 Acc: 0.9275\n",
      "New best model saved with val_acc: 0.9275\n",
      "\n",
      "Epoch 31/49\n",
      "----------\n",
      "New best model saved with val_acc: 0.9275\n",
      "\n",
      "Epoch 31/49\n",
      "----------\n"
     ]
    },
    {
     "name": "stderr",
     "output_type": "stream",
     "text": [
      "Train Epoch 31: 100%|██████████| 32/32 [00:12<00:00,  2.55it/s, Loss=0.3739, Acc=0.9286]\n",
      "Train Epoch 31: 100%|██████████| 32/32 [00:12<00:00,  2.55it/s, Loss=0.3739, Acc=0.9286]\n"
     ]
    },
    {
     "name": "stdout",
     "output_type": "stream",
     "text": [
      "train Loss: 0.2246 Acc: 0.9735\n"
     ]
    },
    {
     "name": "stderr",
     "output_type": "stream",
     "text": [
      "Val Epoch 31: 100%|██████████| 32/32 [00:06<00:00,  5.08it/s, Loss=0.2165, Acc=1.0000]\n",
      "\n"
     ]
    },
    {
     "name": "stdout",
     "output_type": "stream",
     "text": [
      "val Loss: 0.3917 Acc: 0.9304\n",
      "New best model saved with val_acc: 0.9304\n",
      "\n",
      "Epoch 32/49\n",
      "----------\n",
      "New best model saved with val_acc: 0.9304\n",
      "\n",
      "Epoch 32/49\n",
      "----------\n"
     ]
    },
    {
     "name": "stderr",
     "output_type": "stream",
     "text": [
      "Train Epoch 32: 100%|██████████| 32/32 [00:12<00:00,  2.49it/s, Loss=0.2449, Acc=0.9643]\n",
      "Train Epoch 32: 100%|██████████| 32/32 [00:12<00:00,  2.49it/s, Loss=0.2449, Acc=0.9643]\n"
     ]
    },
    {
     "name": "stdout",
     "output_type": "stream",
     "text": [
      "train Loss: 0.2259 Acc: 0.9765\n"
     ]
    },
    {
     "name": "stderr",
     "output_type": "stream",
     "text": [
      "Val Epoch 32: 100%|██████████| 32/32 [00:06<00:00,  5.10it/s, Loss=0.2182, Acc=1.0000]\n",
      "Val Epoch 32: 100%|██████████| 32/32 [00:06<00:00,  5.10it/s, Loss=0.2182, Acc=1.0000]\n"
     ]
    },
    {
     "name": "stdout",
     "output_type": "stream",
     "text": [
      "val Loss: 0.3972 Acc: 0.9284\n",
      "\n",
      "Epoch 33/49\n",
      "----------\n"
     ]
    },
    {
     "name": "stderr",
     "output_type": "stream",
     "text": [
      "Train Epoch 33: 100%|██████████| 32/32 [00:12<00:00,  2.57it/s, Loss=0.5282, Acc=0.9286]\n",
      "Train Epoch 33: 100%|██████████| 32/32 [00:12<00:00,  2.57it/s, Loss=0.5282, Acc=0.9286]\n"
     ]
    },
    {
     "name": "stdout",
     "output_type": "stream",
     "text": [
      "train Loss: 0.2530 Acc: 0.9716\n"
     ]
    },
    {
     "name": "stderr",
     "output_type": "stream",
     "text": [
      "Val Epoch 33: 100%|██████████| 32/32 [00:06<00:00,  5.05it/s, Loss=0.2152, Acc=1.0000]\n",
      "Val Epoch 33: 100%|██████████| 32/32 [00:06<00:00,  5.05it/s, Loss=0.2152, Acc=1.0000]\n"
     ]
    },
    {
     "name": "stdout",
     "output_type": "stream",
     "text": [
      "val Loss: 0.3918 Acc: 0.9275\n",
      "\n",
      "Epoch 34/49\n",
      "----------\n"
     ]
    },
    {
     "name": "stderr",
     "output_type": "stream",
     "text": [
      "Train Epoch 34: 100%|██████████| 32/32 [00:11<00:00,  2.67it/s, Loss=0.4246, Acc=0.9286]\n",
      "Train Epoch 34: 100%|██████████| 32/32 [00:11<00:00,  2.67it/s, Loss=0.4246, Acc=0.9286]\n"
     ]
    },
    {
     "name": "stdout",
     "output_type": "stream",
     "text": [
      "train Loss: 0.2146 Acc: 0.9775\n"
     ]
    },
    {
     "name": "stderr",
     "output_type": "stream",
     "text": [
      "Val Epoch 34: 100%|██████████| 32/32 [00:06<00:00,  5.21it/s, Loss=0.2238, Acc=1.0000]\n",
      "Val Epoch 34: 100%|██████████| 32/32 [00:06<00:00,  5.21it/s, Loss=0.2238, Acc=1.0000]\n"
     ]
    },
    {
     "name": "stdout",
     "output_type": "stream",
     "text": [
      "val Loss: 0.3920 Acc: 0.9245\n",
      "\n",
      "Epoch 35/49\n",
      "----------\n"
     ]
    },
    {
     "name": "stderr",
     "output_type": "stream",
     "text": [
      "Train Epoch 35: 100%|██████████| 32/32 [00:13<00:00,  2.32it/s, Loss=0.2680, Acc=1.0000]\n",
      "Train Epoch 35: 100%|██████████| 32/32 [00:13<00:00,  2.32it/s, Loss=0.2680, Acc=1.0000]\n"
     ]
    },
    {
     "name": "stdout",
     "output_type": "stream",
     "text": [
      "train Loss: 0.2433 Acc: 0.9706\n"
     ]
    },
    {
     "name": "stderr",
     "output_type": "stream",
     "text": [
      "Val Epoch 35: 100%|██████████| 32/32 [00:07<00:00,  4.34it/s, Loss=0.2137, Acc=1.0000]\n",
      "Val Epoch 35: 100%|██████████| 32/32 [00:07<00:00,  4.34it/s, Loss=0.2137, Acc=1.0000]\n"
     ]
    },
    {
     "name": "stdout",
     "output_type": "stream",
     "text": [
      "val Loss: 0.3948 Acc: 0.9294\n",
      "\n",
      "Epoch 36/49\n",
      "----------\n"
     ]
    },
    {
     "name": "stderr",
     "output_type": "stream",
     "text": [
      "Train Epoch 36: 100%|██████████| 32/32 [00:14<00:00,  2.27it/s, Loss=0.1388, Acc=1.0000]\n",
      "Train Epoch 36: 100%|██████████| 32/32 [00:14<00:00,  2.27it/s, Loss=0.1388, Acc=1.0000]\n"
     ]
    },
    {
     "name": "stdout",
     "output_type": "stream",
     "text": [
      "train Loss: 0.2418 Acc: 0.9716\n"
     ]
    },
    {
     "name": "stderr",
     "output_type": "stream",
     "text": [
      "Val Epoch 36: 100%|██████████| 32/32 [00:07<00:00,  4.47it/s, Loss=0.2099, Acc=1.0000]\n",
      "Val Epoch 36: 100%|██████████| 32/32 [00:07<00:00,  4.47it/s, Loss=0.2099, Acc=1.0000]\n"
     ]
    },
    {
     "name": "stdout",
     "output_type": "stream",
     "text": [
      "val Loss: 0.3918 Acc: 0.9284\n",
      "\n",
      "Epoch 37/49\n",
      "----------\n"
     ]
    },
    {
     "name": "stderr",
     "output_type": "stream",
     "text": [
      "Train Epoch 37: 100%|██████████| 32/32 [00:15<00:00,  2.13it/s, Loss=0.1522, Acc=0.9643]\n",
      "Train Epoch 37: 100%|██████████| 32/32 [00:15<00:00,  2.13it/s, Loss=0.1522, Acc=0.9643]\n"
     ]
    },
    {
     "name": "stdout",
     "output_type": "stream",
     "text": [
      "train Loss: 0.2309 Acc: 0.9647\n"
     ]
    },
    {
     "name": "stderr",
     "output_type": "stream",
     "text": [
      "Val Epoch 37: 100%|██████████| 32/32 [00:07<00:00,  4.45it/s, Loss=0.1909, Acc=1.0000]\n",
      "Val Epoch 37: 100%|██████████| 32/32 [00:07<00:00,  4.45it/s, Loss=0.1909, Acc=1.0000]\n"
     ]
    },
    {
     "name": "stdout",
     "output_type": "stream",
     "text": [
      "val Loss: 0.3912 Acc: 0.9265\n",
      "\n",
      "Epoch 38/49\n",
      "----------\n"
     ]
    },
    {
     "name": "stderr",
     "output_type": "stream",
     "text": [
      "Train Epoch 38: 100%|██████████| 32/32 [00:13<00:00,  2.29it/s, Loss=0.1455, Acc=1.0000]\n",
      "Train Epoch 38: 100%|██████████| 32/32 [00:13<00:00,  2.29it/s, Loss=0.1455, Acc=1.0000]\n"
     ]
    },
    {
     "name": "stdout",
     "output_type": "stream",
     "text": [
      "train Loss: 0.2565 Acc: 0.9637\n"
     ]
    },
    {
     "name": "stderr",
     "output_type": "stream",
     "text": [
      "Val Epoch 38: 100%|██████████| 32/32 [00:06<00:00,  4.86it/s, Loss=0.1925, Acc=1.0000]\n",
      "Val Epoch 38: 100%|██████████| 32/32 [00:06<00:00,  4.86it/s, Loss=0.1925, Acc=1.0000]\n"
     ]
    },
    {
     "name": "stdout",
     "output_type": "stream",
     "text": [
      "val Loss: 0.3888 Acc: 0.9235\n",
      "\n",
      "Epoch 39/49\n",
      "----------\n"
     ]
    },
    {
     "name": "stderr",
     "output_type": "stream",
     "text": [
      "Train Epoch 39: 100%|██████████| 32/32 [00:12<00:00,  2.52it/s, Loss=0.1021, Acc=1.0000]\n",
      "Train Epoch 39: 100%|██████████| 32/32 [00:12<00:00,  2.52it/s, Loss=0.1021, Acc=1.0000]\n"
     ]
    },
    {
     "name": "stdout",
     "output_type": "stream",
     "text": [
      "train Loss: 0.1984 Acc: 0.9853\n"
     ]
    },
    {
     "name": "stderr",
     "output_type": "stream",
     "text": [
      "Val Epoch 39: 100%|██████████| 32/32 [00:06<00:00,  4.81it/s, Loss=0.2301, Acc=1.0000]\n",
      "Val Epoch 39: 100%|██████████| 32/32 [00:06<00:00,  4.81it/s, Loss=0.2301, Acc=1.0000]\n"
     ]
    },
    {
     "name": "stdout",
     "output_type": "stream",
     "text": [
      "val Loss: 0.3997 Acc: 0.9284\n",
      "\n",
      "Epoch 40/49\n",
      "----------\n"
     ]
    },
    {
     "name": "stderr",
     "output_type": "stream",
     "text": [
      "Train Epoch 40: 100%|██████████| 32/32 [00:13<00:00,  2.41it/s, Loss=0.1916, Acc=0.9643]\n",
      "Train Epoch 40: 100%|██████████| 32/32 [00:13<00:00,  2.41it/s, Loss=0.1916, Acc=0.9643]\n"
     ]
    },
    {
     "name": "stdout",
     "output_type": "stream",
     "text": [
      "train Loss: 0.2518 Acc: 0.9647\n"
     ]
    },
    {
     "name": "stderr",
     "output_type": "stream",
     "text": [
      "Val Epoch 40: 100%|██████████| 32/32 [00:06<00:00,  4.85it/s, Loss=0.2156, Acc=1.0000]\n",
      "Val Epoch 40: 100%|██████████| 32/32 [00:06<00:00,  4.85it/s, Loss=0.2156, Acc=1.0000]\n"
     ]
    },
    {
     "name": "stdout",
     "output_type": "stream",
     "text": [
      "val Loss: 0.3890 Acc: 0.9275\n",
      "\n",
      "Epoch 41/49\n",
      "----------\n"
     ]
    },
    {
     "name": "stderr",
     "output_type": "stream",
     "text": [
      "Train Epoch 41: 100%|██████████| 32/32 [00:12<00:00,  2.46it/s, Loss=0.4049, Acc=0.8929]\n",
      "Train Epoch 41: 100%|██████████| 32/32 [00:12<00:00,  2.46it/s, Loss=0.4049, Acc=0.8929]\n"
     ]
    },
    {
     "name": "stdout",
     "output_type": "stream",
     "text": [
      "train Loss: 0.2293 Acc: 0.9735\n"
     ]
    },
    {
     "name": "stderr",
     "output_type": "stream",
     "text": [
      "Val Epoch 41: 100%|██████████| 32/32 [00:06<00:00,  5.03it/s, Loss=0.2023, Acc=1.0000]\n"
     ]
    },
    {
     "name": "stdout",
     "output_type": "stream",
     "text": [
      "val Loss: 0.3861 Acc: 0.9245\n",
      "\n",
      "Epoch 42/49\n",
      "----------\n"
     ]
    },
    {
     "name": "stderr",
     "output_type": "stream",
     "text": [
      "Train Epoch 42: 100%|██████████| 32/32 [00:12<00:00,  2.55it/s, Loss=0.1558, Acc=1.0000]\n"
     ]
    },
    {
     "name": "stdout",
     "output_type": "stream",
     "text": [
      "train Loss: 0.2315 Acc: 0.9716\n"
     ]
    },
    {
     "name": "stderr",
     "output_type": "stream",
     "text": [
      "Val Epoch 42: 100%|██████████| 32/32 [00:06<00:00,  4.90it/s, Loss=0.1922, Acc=1.0000]\n",
      "Val Epoch 42: 100%|██████████| 32/32 [00:06<00:00,  4.90it/s, Loss=0.1922, Acc=1.0000]\n"
     ]
    },
    {
     "name": "stdout",
     "output_type": "stream",
     "text": [
      "val Loss: 0.3877 Acc: 0.9255\n",
      "\n",
      "Epoch 43/49\n",
      "----------\n"
     ]
    },
    {
     "name": "stderr",
     "output_type": "stream",
     "text": [
      "Train Epoch 43: 100%|██████████| 32/32 [00:11<00:00,  2.75it/s, Loss=0.1784, Acc=0.9643]\n",
      "Train Epoch 43: 100%|██████████| 32/32 [00:11<00:00,  2.75it/s, Loss=0.1784, Acc=0.9643]\n"
     ]
    },
    {
     "name": "stdout",
     "output_type": "stream",
     "text": [
      "train Loss: 0.2372 Acc: 0.9706\n"
     ]
    },
    {
     "name": "stderr",
     "output_type": "stream",
     "text": [
      "Val Epoch 43: 100%|██████████| 32/32 [00:06<00:00,  5.21it/s, Loss=0.1947, Acc=1.0000]\n",
      "Val Epoch 43: 100%|██████████| 32/32 [00:06<00:00,  5.21it/s, Loss=0.1947, Acc=1.0000]\n"
     ]
    },
    {
     "name": "stdout",
     "output_type": "stream",
     "text": [
      "val Loss: 0.3903 Acc: 0.9284\n",
      "\n",
      "Epoch 44/49\n",
      "----------\n"
     ]
    },
    {
     "name": "stderr",
     "output_type": "stream",
     "text": [
      "Train Epoch 44: 100%|██████████| 32/32 [00:16<00:00,  2.00it/s, Loss=0.3426, Acc=0.9643]\n",
      "Train Epoch 44: 100%|██████████| 32/32 [00:16<00:00,  2.00it/s, Loss=0.3426, Acc=0.9643]\n"
     ]
    },
    {
     "name": "stdout",
     "output_type": "stream",
     "text": [
      "train Loss: 0.2179 Acc: 0.9706\n"
     ]
    },
    {
     "name": "stderr",
     "output_type": "stream",
     "text": [
      "Val Epoch 44: 100%|██████████| 32/32 [00:06<00:00,  4.77it/s, Loss=0.1964, Acc=1.0000]\n",
      "Val Epoch 44: 100%|██████████| 32/32 [00:06<00:00,  4.77it/s, Loss=0.1964, Acc=1.0000]\n"
     ]
    },
    {
     "name": "stdout",
     "output_type": "stream",
     "text": [
      "val Loss: 0.3809 Acc: 0.9284\n",
      "\n",
      "Epoch 45/49\n",
      "----------\n"
     ]
    },
    {
     "name": "stderr",
     "output_type": "stream",
     "text": [
      "Train Epoch 45: 100%|██████████| 32/32 [00:15<00:00,  2.03it/s, Loss=0.2886, Acc=0.9643]\n",
      "Train Epoch 45: 100%|██████████| 32/32 [00:15<00:00,  2.03it/s, Loss=0.2886, Acc=0.9643]\n"
     ]
    },
    {
     "name": "stdout",
     "output_type": "stream",
     "text": [
      "train Loss: 0.2316 Acc: 0.9686\n"
     ]
    },
    {
     "name": "stderr",
     "output_type": "stream",
     "text": [
      "Val Epoch 45: 100%|██████████| 32/32 [00:07<00:00,  4.36it/s, Loss=0.2037, Acc=1.0000]\n",
      "Val Epoch 45: 100%|██████████| 32/32 [00:07<00:00,  4.36it/s, Loss=0.2037, Acc=1.0000]\n"
     ]
    },
    {
     "name": "stdout",
     "output_type": "stream",
     "text": [
      "val Loss: 0.3815 Acc: 0.9265\n",
      "\n",
      "Epoch 46/49\n",
      "----------\n"
     ]
    },
    {
     "name": "stderr",
     "output_type": "stream",
     "text": [
      "Train Epoch 46: 100%|██████████| 32/32 [00:14<00:00,  2.20it/s, Loss=0.2651, Acc=0.9643]\n",
      "Train Epoch 46: 100%|██████████| 32/32 [00:14<00:00,  2.20it/s, Loss=0.2651, Acc=0.9643]\n"
     ]
    },
    {
     "name": "stdout",
     "output_type": "stream",
     "text": [
      "train Loss: 0.2113 Acc: 0.9735\n"
     ]
    },
    {
     "name": "stderr",
     "output_type": "stream",
     "text": [
      "Val Epoch 46: 100%|██████████| 32/32 [00:07<00:00,  4.09it/s, Loss=0.2126, Acc=1.0000]\n",
      "Val Epoch 46: 100%|██████████| 32/32 [00:07<00:00,  4.09it/s, Loss=0.2126, Acc=1.0000]\n"
     ]
    },
    {
     "name": "stdout",
     "output_type": "stream",
     "text": [
      "val Loss: 0.3850 Acc: 0.9304\n",
      "\n",
      "Epoch 47/49\n",
      "----------\n"
     ]
    },
    {
     "name": "stderr",
     "output_type": "stream",
     "text": [
      "Train Epoch 47: 100%|██████████| 32/32 [00:13<00:00,  2.30it/s, Loss=0.2571, Acc=0.9643]\n",
      "Train Epoch 47: 100%|██████████| 32/32 [00:13<00:00,  2.30it/s, Loss=0.2571, Acc=0.9643]\n"
     ]
    },
    {
     "name": "stdout",
     "output_type": "stream",
     "text": [
      "train Loss: 0.2456 Acc: 0.9676\n"
     ]
    },
    {
     "name": "stderr",
     "output_type": "stream",
     "text": [
      "Val Epoch 47: 100%|██████████| 32/32 [00:07<00:00,  4.33it/s, Loss=0.2107, Acc=1.0000]\n",
      "Val Epoch 47: 100%|██████████| 32/32 [00:07<00:00,  4.33it/s, Loss=0.2107, Acc=1.0000]\n"
     ]
    },
    {
     "name": "stdout",
     "output_type": "stream",
     "text": [
      "val Loss: 0.3822 Acc: 0.9304\n",
      "\n",
      "Epoch 48/49\n",
      "----------\n"
     ]
    },
    {
     "name": "stderr",
     "output_type": "stream",
     "text": [
      "Train Epoch 48: 100%|██████████| 32/32 [00:15<00:00,  2.09it/s, Loss=0.3086, Acc=0.9643]\n",
      "Train Epoch 48: 100%|██████████| 32/32 [00:15<00:00,  2.09it/s, Loss=0.3086, Acc=0.9643]\n"
     ]
    },
    {
     "name": "stdout",
     "output_type": "stream",
     "text": [
      "train Loss: 0.2408 Acc: 0.9676\n"
     ]
    },
    {
     "name": "stderr",
     "output_type": "stream",
     "text": [
      "Val Epoch 48: 100%|██████████| 32/32 [00:07<00:00,  4.26it/s, Loss=0.1999, Acc=1.0000]\n",
      "\n"
     ]
    },
    {
     "name": "stdout",
     "output_type": "stream",
     "text": [
      "val Loss: 0.3869 Acc: 0.9314\n",
      "New best model saved with val_acc: 0.9314\n",
      "\n",
      "Epoch 49/49\n",
      "----------\n",
      "New best model saved with val_acc: 0.9314\n",
      "\n",
      "Epoch 49/49\n",
      "----------\n"
     ]
    },
    {
     "name": "stderr",
     "output_type": "stream",
     "text": [
      "Train Epoch 49: 100%|██████████| 32/32 [00:14<00:00,  2.26it/s, Loss=0.1008, Acc=1.0000]\n",
      "Train Epoch 49: 100%|██████████| 32/32 [00:14<00:00,  2.26it/s, Loss=0.1008, Acc=1.0000]\n"
     ]
    },
    {
     "name": "stdout",
     "output_type": "stream",
     "text": [
      "train Loss: 0.2144 Acc: 0.9716\n"
     ]
    },
    {
     "name": "stderr",
     "output_type": "stream",
     "text": [
      "Val Epoch 49: 100%|██████████| 32/32 [00:06<00:00,  4.81it/s, Loss=0.2037, Acc=1.0000]\n",
      "\n"
     ]
    },
    {
     "name": "stdout",
     "output_type": "stream",
     "text": [
      "val Loss: 0.3839 Acc: 0.9294\n",
      "\n",
      "Training complete in 17m 7s\n",
      "Best val Acc: 0.931373\n"
     ]
    },
    {
     "data": {
      "image/png": "[encoded data removed]",
      "text/plain": [
       "<Figure size 1500x500 with 2 Axes>"
      ]
     },
     "metadata": {},
     "output_type": "display_data"
    },
    {
     "name": "stdout",
     "output_type": "stream",
     "text": [
      "Evaluating on test set...\n"
     ]
    },
    {
     "name": "stderr",
     "output_type": "stream",
     "text": [
      "100%|██████████| 193/193 [00:36<00:00,  5.25it/s]"
     ]
    },
    {
     "name": "stdout",
     "output_type": "stream",
     "text": [
      "Test Loss: 0.4596\n",
      "Test Accuracy: 0.9000\n",
      "ResNet34 Frozen - Test Accuracy: 0.9000\n"
     ]
    },
    {
     "name": "stderr",
     "output_type": "stream",
     "text": [
      "\n"
     ]
    }
   ],
   "source": [
    "\n",
    "# Create ResNet-34 model with frozen stages\n",
    "model_resnet34 = FlowerResNetFrozen(base_model='resnet34', num_frozen_stages=3, num_classes=102)\n",
    "model_resnet34 = model_resnet34.to(device)\n",
    "\n",
    "# Count parameters\n",
    "trainable_params_34 = sum(p.numel() for p in model_resnet34.parameters() if p.requires_grad)\n",
    "total_params_34 = sum(p.numel() for p in model_resnet34.parameters())\n",
    "print(f\"ResNet34 - Trainable parameters: {trainable_params_34}/{total_params_34} ({trainable_params_34/total_params_34*100:.2f}%)\")\n",
    "\n",
    "# Define optimizer\n",
    "optimizer_34 = optim.SGD(\n",
    "    filter(lambda p: p.requires_grad, model_resnet34.parameters()), \n",
    "    lr=0.001, momentum=0.9\n",
    ")\n",
    "scheduler_34 = lr_scheduler.StepLR(optimizer_34, step_size=30, gamma=0.1)\n",
    "\n",
    "# Train model\n",
    "model_resnet34, train_losses_34, train_accs_34, val_losses_34, val_accs_34 = train_model(\n",
    "    model_resnet34, criterion, optimizer_34, scheduler_34, num_epochs, 'resnet34_frozen'\n",
    ")\n",
    "\n",
    "# Plot results\n",
    "plot_training_curves(train_losses_34, val_losses_34, train_accs_34, val_accs_34, 'ResNet34_Frozen')\n",
    "\n",
    "# Evaluate on test set\n",
    "test_loss_34, test_acc_34, all_preds_34, all_labels_34 = evaluate_model(model_resnet34, criterion)\n",
    "\n",
    "# Save training logs\n",
    "with open('resnet34_frozen.txt', 'w') as f:\n",
    "    f.write(\"Epoch,Train_Loss,Val_Loss,Train_Acc,Val_Acc\\n\")\n",
    "    for epoch in range(num_epochs):\n",
    "        f.write(f\"{epoch+1},{train_losses_34[epoch]:.4f},{val_losses_34[epoch]:.4f},{train_accs_34[epoch]:.4f},{val_accs_34[epoch]:.4f}\\n\")\n",
    "\n",
    "print(f\"ResNet34 Frozen - Test Accuracy: {test_acc_34:.4f}\")"
   ]
  },
  {
   "cell_type": "markdown",
   "id": "f2280bec",
   "metadata": {},
   "source": [
    "### Experiment 4 Resnet-18 with deformable convolutions"
   ]
  },
  {
   "cell_type": "code",
   "execution_count": 13,
   "id": "0ac3ade7",
   "metadata": {},
   "outputs": [],
   "source": [
    "class FlowerResNetDeformable(nn.Module):\n",
    "    def __init__(self, base_model='resnet18', deform_layers=['layer3'], num_classes=102):\n",
    "        super(FlowerResNetDeformable, self).__init__()\n",
    "        \n",
    "        if base_model == 'resnet18':\n",
    "            self.backbone = models.resnet18(weights='IMAGENET1K_V1')\n",
    "        else:\n",
    "            raise ValueError(\"Only resnet18 supported for deformable version\")\n",
    "        \n",
    "        # Store original convolutions for reference\n",
    "        self.original_convs = {}\n",
    "        \n",
    "        # Replace regular convolutions with deformable ones in specified layers\n",
    "        self._replace_with_deformable_conv(deform_layers)\n",
    "        \n",
    "        # Replace the final fully connected layer\n",
    "        in_features = self.backbone.fc.in_features\n",
    "        self.backbone.fc = nn.Linear(in_features, num_classes)\n",
    "        \n",
    "    def _replace_with_deformable_conv(self, deform_layers):\n",
    "        \"\"\"Replace regular convolutions with deformable convolutions in specified layers\"\"\"\n",
    "        layers_dict = {\n",
    "            'layer1': self.backbone.layer1,\n",
    "            'layer2': self.backbone.layer2, \n",
    "            'layer3': self.backbone.layer3,\n",
    "            'layer4': self.backbone.layer4\n",
    "        }\n",
    "        \n",
    "        for layer_name in deform_layers:\n",
    "            if layer_name in layers_dict:\n",
    "                layer = layers_dict[layer_name]\n",
    "                for block_idx, block in enumerate(layer):\n",
    "                    # Store original parameters\n",
    "                    if hasattr(block, 'conv1') and block.conv1.kernel_size == (3, 3):\n",
    "                        in_channels = block.conv1.in_channels\n",
    "                        out_channels = block.conv1.out_channels\n",
    "                        stride = block.conv1.stride[0]\n",
    "                        padding = block.conv1.padding[0]\n",
    "                        \n",
    "                        # Create deformable convolution with same parameters\n",
    "                        deform_conv = DeformableConv2d(\n",
    "                            in_channels, out_channels, \n",
    "                            kernel_size=3, stride=stride, padding=padding\n",
    "                        )\n",
    "                        \n",
    "                        # Copy weights from original convolution\n",
    "                        deform_conv.conv.weight.data = block.conv1.weight.data.clone()\n",
    "                        block.conv1 = deform_conv\n",
    "                        \n",
    "                    if hasattr(block, 'conv2') and block.conv2.kernel_size == (3, 3):\n",
    "                        in_channels = block.conv2.in_channels\n",
    "                        out_channels = block.conv2.out_channels  \n",
    "                        stride = block.conv2.stride[0]\n",
    "                        padding = block.conv2.padding[0]\n",
    "                        \n",
    "                        # Create deformable convolution with same parameters\n",
    "                        deform_conv = DeformableConv2d(\n",
    "                            in_channels, out_channels,\n",
    "                            kernel_size=3, stride=stride, padding=padding\n",
    "                        )\n",
    "                        \n",
    "                        # Copy weights from original convolution\n",
    "                        deform_conv.conv.weight.data = block.conv2.weight.data.clone()\n",
    "                        block.conv2 = deform_conv\n",
    "    \n",
    "    def forward(self, x):\n",
    "        return self.backbone(x)\n"
   ]
  },
  {
   "cell_type": "code",
   "execution_count": 14,
   "id": "fc42f36e",
   "metadata": {},
   "outputs": [
    {
     "name": "stdout",
     "output_type": "stream",
     "text": [
      "Epoch 0/49\n",
      "----------\n"
     ]
    },
    {
     "name": "stderr",
     "output_type": "stream",
     "text": [
      "Train Epoch 0: 100%|██████████| 32/32 [00:59<00:00,  1.87s/it, Loss=4.5682, Acc=0.0000]\n",
      "Train Epoch 0: 100%|██████████| 32/32 [00:59<00:00,  1.87s/it, Loss=4.5682, Acc=0.0000]\n"
     ]
    },
    {
     "name": "stdout",
     "output_type": "stream",
     "text": [
      "train Loss: 4.6860 Acc: 0.0186\n"
     ]
    },
    {
     "name": "stderr",
     "output_type": "stream",
     "text": [
      "Val Epoch 0: 100%|██████████| 32/32 [00:39<00:00,  1.22s/it, Loss=4.3635, Acc=0.0357]\n",
      "\n"
     ]
    },
    {
     "name": "stdout",
     "output_type": "stream",
     "text": [
      "val Loss: 4.3563 Acc: 0.0627\n",
      "New best model saved with val_acc: 0.0627\n",
      "\n",
      "Epoch 1/49\n",
      "----------\n",
      "New best model saved with val_acc: 0.0627\n",
      "\n",
      "Epoch 1/49\n",
      "----------\n"
     ]
    },
    {
     "name": "stderr",
     "output_type": "stream",
     "text": [
      "Train Epoch 1: 100%|██████████| 32/32 [00:41<00:00,  1.28s/it, Loss=4.2061, Acc=0.0714]\n",
      "Train Epoch 1: 100%|██████████| 32/32 [00:41<00:00,  1.28s/it, Loss=4.2061, Acc=0.0714]\n"
     ]
    },
    {
     "name": "stdout",
     "output_type": "stream",
     "text": [
      "train Loss: 4.2185 Acc: 0.1118\n"
     ]
    },
    {
     "name": "stderr",
     "output_type": "stream",
     "text": [
      "Val Epoch 1: 100%|██████████| 32/32 [00:21<00:00,  1.46it/s, Loss=3.8539, Acc=0.3571]\n",
      "\n"
     ]
    },
    {
     "name": "stdout",
     "output_type": "stream",
     "text": [
      "val Loss: 3.9072 Acc: 0.2569\n",
      "New best model saved with val_acc: 0.2569\n",
      "\n",
      "Epoch 2/49\n",
      "----------\n",
      "New best model saved with val_acc: 0.2569\n",
      "\n",
      "Epoch 2/49\n",
      "----------\n"
     ]
    },
    {
     "name": "stderr",
     "output_type": "stream",
     "text": [
      "Train Epoch 2: 100%|██████████| 32/32 [00:43<00:00,  1.35s/it, Loss=3.7231, Acc=0.2500]\n",
      "Train Epoch 2: 100%|██████████| 32/32 [00:43<00:00,  1.35s/it, Loss=3.7231, Acc=0.2500]\n"
     ]
    },
    {
     "name": "stdout",
     "output_type": "stream",
     "text": [
      "train Loss: 3.7590 Acc: 0.2873\n"
     ]
    },
    {
     "name": "stderr",
     "output_type": "stream",
     "text": [
      "Val Epoch 2: 100%|██████████| 32/32 [00:16<00:00,  1.96it/s, Loss=3.0865, Acc=0.6786]\n",
      "\n"
     ]
    },
    {
     "name": "stdout",
     "output_type": "stream",
     "text": [
      "val Loss: 3.4033 Acc: 0.4265\n",
      "New best model saved with val_acc: 0.4265\n",
      "\n",
      "Epoch 3/49\n",
      "----------\n",
      "New best model saved with val_acc: 0.4265\n",
      "\n",
      "Epoch 3/49\n",
      "----------\n"
     ]
    },
    {
     "name": "stderr",
     "output_type": "stream",
     "text": [
      "Train Epoch 3: 100%|██████████| 32/32 [00:47<00:00,  1.49s/it, Loss=3.3175, Acc=0.3571]\n",
      "Train Epoch 3: 100%|██████████| 32/32 [00:47<00:00,  1.49s/it, Loss=3.3175, Acc=0.3571]\n"
     ]
    },
    {
     "name": "stdout",
     "output_type": "stream",
     "text": [
      "train Loss: 3.3035 Acc: 0.4657\n"
     ]
    },
    {
     "name": "stderr",
     "output_type": "stream",
     "text": [
      "Val Epoch 3: 100%|██████████| 32/32 [00:18<00:00,  1.71it/s, Loss=2.4223, Acc=0.8214]\n",
      "\n"
     ]
    },
    {
     "name": "stdout",
     "output_type": "stream",
     "text": [
      "val Loss: 2.8839 Acc: 0.5559\n",
      "New best model saved with val_acc: 0.5559\n",
      "\n",
      "Epoch 4/49\n",
      "----------\n",
      "New best model saved with val_acc: 0.5559\n",
      "\n",
      "Epoch 4/49\n",
      "----------\n"
     ]
    },
    {
     "name": "stderr",
     "output_type": "stream",
     "text": [
      "Train Epoch 4: 100%|██████████| 32/32 [00:36<00:00,  1.13s/it, Loss=2.8781, Acc=0.5000]\n",
      "Train Epoch 4: 100%|██████████| 32/32 [00:36<00:00,  1.13s/it, Loss=2.8781, Acc=0.5000]\n"
     ]
    },
    {
     "name": "stdout",
     "output_type": "stream",
     "text": [
      "train Loss: 2.8542 Acc: 0.5882\n"
     ]
    },
    {
     "name": "stderr",
     "output_type": "stream",
     "text": [
      "Val Epoch 4: 100%|██████████| 32/32 [00:04<00:00,  7.10it/s, Loss=1.9179, Acc=0.8571]\n",
      "\n"
     ]
    },
    {
     "name": "stdout",
     "output_type": "stream",
     "text": [
      "val Loss: 2.4261 Acc: 0.6412\n",
      "New best model saved with val_acc: 0.6412\n",
      "\n",
      "Epoch 5/49\n",
      "----------\n",
      "New best model saved with val_acc: 0.6412\n",
      "\n",
      "Epoch 5/49\n",
      "----------\n"
     ]
    },
    {
     "name": "stderr",
     "output_type": "stream",
     "text": [
      "Train Epoch 5: 100%|██████████| 32/32 [00:12<00:00,  2.61it/s, Loss=2.3292, Acc=0.6429]\n",
      "Train Epoch 5: 100%|██████████| 32/32 [00:12<00:00,  2.61it/s, Loss=2.3292, Acc=0.6429]\n"
     ]
    },
    {
     "name": "stdout",
     "output_type": "stream",
     "text": [
      "train Loss: 2.4627 Acc: 0.6627\n"
     ]
    },
    {
     "name": "stderr",
     "output_type": "stream",
     "text": [
      "Val Epoch 5: 100%|██████████| 32/32 [00:04<00:00,  7.30it/s, Loss=1.4524, Acc=0.8571]\n",
      "\n"
     ]
    },
    {
     "name": "stdout",
     "output_type": "stream",
     "text": [
      "val Loss: 2.1062 Acc: 0.6941\n",
      "New best model saved with val_acc: 0.6941\n",
      "\n",
      "Epoch 6/49\n",
      "----------\n",
      "New best model saved with val_acc: 0.6941\n",
      "\n",
      "Epoch 6/49\n",
      "----------\n"
     ]
    },
    {
     "name": "stderr",
     "output_type": "stream",
     "text": [
      "Train Epoch 6: 100%|██████████| 32/32 [00:12<00:00,  2.54it/s, Loss=2.0917, Acc=0.7500]\n",
      "Train Epoch 6: 100%|██████████| 32/32 [00:12<00:00,  2.54it/s, Loss=2.0917, Acc=0.7500]\n"
     ]
    },
    {
     "name": "stdout",
     "output_type": "stream",
     "text": [
      "train Loss: 2.1456 Acc: 0.7392\n"
     ]
    },
    {
     "name": "stderr",
     "output_type": "stream",
     "text": [
      "Val Epoch 6: 100%|██████████| 32/32 [00:04<00:00,  7.44it/s, Loss=1.0446, Acc=1.0000]\n",
      "\n"
     ]
    },
    {
     "name": "stdout",
     "output_type": "stream",
     "text": [
      "val Loss: 1.8136 Acc: 0.7510\n",
      "New best model saved with val_acc: 0.7510\n",
      "\n",
      "Epoch 7/49\n",
      "----------\n",
      "New best model saved with val_acc: 0.7510\n",
      "\n",
      "Epoch 7/49\n",
      "----------\n"
     ]
    },
    {
     "name": "stderr",
     "output_type": "stream",
     "text": [
      "Train Epoch 7: 100%|██████████| 32/32 [00:15<00:00,  2.04it/s, Loss=1.4896, Acc=0.8929]\n",
      "Train Epoch 7: 100%|██████████| 32/32 [00:15<00:00,  2.04it/s, Loss=1.4896, Acc=0.8929]\n"
     ]
    },
    {
     "name": "stdout",
     "output_type": "stream",
     "text": [
      "train Loss: 1.8996 Acc: 0.7627\n"
     ]
    },
    {
     "name": "stderr",
     "output_type": "stream",
     "text": [
      "Val Epoch 7: 100%|██████████| 32/32 [00:04<00:00,  6.48it/s, Loss=0.9722, Acc=0.9286]\n",
      "\n"
     ]
    },
    {
     "name": "stdout",
     "output_type": "stream",
     "text": [
      "val Loss: 1.6182 Acc: 0.7696\n",
      "New best model saved with val_acc: 0.7696\n",
      "\n",
      "Epoch 8/49\n",
      "----------\n",
      "New best model saved with val_acc: 0.7696\n",
      "\n",
      "Epoch 8/49\n",
      "----------\n"
     ]
    },
    {
     "name": "stderr",
     "output_type": "stream",
     "text": [
      "Train Epoch 8: 100%|██████████| 32/32 [00:12<00:00,  2.53it/s, Loss=1.5491, Acc=0.8929]\n",
      "Train Epoch 8: 100%|██████████| 32/32 [00:12<00:00,  2.53it/s, Loss=1.5491, Acc=0.8929]\n"
     ]
    },
    {
     "name": "stdout",
     "output_type": "stream",
     "text": [
      "train Loss: 1.6510 Acc: 0.8069\n"
     ]
    },
    {
     "name": "stderr",
     "output_type": "stream",
     "text": [
      "Val Epoch 8: 100%|██████████| 32/32 [00:04<00:00,  7.48it/s, Loss=0.7739, Acc=1.0000]\n",
      "\n"
     ]
    },
    {
     "name": "stdout",
     "output_type": "stream",
     "text": [
      "val Loss: 1.4110 Acc: 0.7990\n",
      "New best model saved with val_acc: 0.7990\n",
      "\n",
      "Epoch 9/49\n",
      "----------\n",
      "New best model saved with val_acc: 0.7990\n",
      "\n",
      "Epoch 9/49\n",
      "----------\n"
     ]
    },
    {
     "name": "stderr",
     "output_type": "stream",
     "text": [
      "Train Epoch 9: 100%|██████████| 32/32 [00:12<00:00,  2.47it/s, Loss=1.6894, Acc=0.7857]\n",
      "Train Epoch 9: 100%|██████████| 32/32 [00:12<00:00,  2.47it/s, Loss=1.6894, Acc=0.7857]\n"
     ]
    },
    {
     "name": "stdout",
     "output_type": "stream",
     "text": [
      "train Loss: 1.4970 Acc: 0.8275\n"
     ]
    },
    {
     "name": "stderr",
     "output_type": "stream",
     "text": [
      "Val Epoch 9: 100%|██████████| 32/32 [00:04<00:00,  7.38it/s, Loss=0.6943, Acc=1.0000]\n",
      "\n"
     ]
    },
    {
     "name": "stdout",
     "output_type": "stream",
     "text": [
      "val Loss: 1.2828 Acc: 0.8216\n",
      "New best model saved with val_acc: 0.8216\n",
      "\n",
      "Epoch 10/49\n",
      "----------\n",
      "New best model saved with val_acc: 0.8216\n",
      "\n",
      "Epoch 10/49\n",
      "----------\n"
     ]
    },
    {
     "name": "stderr",
     "output_type": "stream",
     "text": [
      "Train Epoch 10: 100%|██████████| 32/32 [00:12<00:00,  2.55it/s, Loss=1.2609, Acc=0.9286]\n",
      "Train Epoch 10: 100%|██████████| 32/32 [00:12<00:00,  2.55it/s, Loss=1.2609, Acc=0.9286]\n"
     ]
    },
    {
     "name": "stdout",
     "output_type": "stream",
     "text": [
      "train Loss: 1.3112 Acc: 0.8500\n"
     ]
    },
    {
     "name": "stderr",
     "output_type": "stream",
     "text": [
      "Val Epoch 10: 100%|██████████| 32/32 [00:04<00:00,  7.41it/s, Loss=0.6228, Acc=0.9643]\n",
      "\n"
     ]
    },
    {
     "name": "stdout",
     "output_type": "stream",
     "text": [
      "val Loss: 1.1466 Acc: 0.8363\n",
      "New best model saved with val_acc: 0.8363\n",
      "\n",
      "Epoch 11/49\n",
      "----------\n",
      "New best model saved with val_acc: 0.8363\n",
      "\n",
      "Epoch 11/49\n",
      "----------\n"
     ]
    },
    {
     "name": "stderr",
     "output_type": "stream",
     "text": [
      "Train Epoch 11: 100%|██████████| 32/32 [00:12<00:00,  2.58it/s, Loss=1.1678, Acc=0.8929]\n",
      "Train Epoch 11: 100%|██████████| 32/32 [00:12<00:00,  2.58it/s, Loss=1.1678, Acc=0.8929]\n"
     ]
    },
    {
     "name": "stdout",
     "output_type": "stream",
     "text": [
      "train Loss: 1.1819 Acc: 0.8696\n"
     ]
    },
    {
     "name": "stderr",
     "output_type": "stream",
     "text": [
      "Val Epoch 11: 100%|██████████| 32/32 [00:04<00:00,  7.33it/s, Loss=0.5356, Acc=0.9643]\n",
      "\n"
     ]
    },
    {
     "name": "stdout",
     "output_type": "stream",
     "text": [
      "val Loss: 1.0511 Acc: 0.8402\n",
      "New best model saved with val_acc: 0.8402\n",
      "\n",
      "Epoch 12/49\n",
      "----------\n",
      "New best model saved with val_acc: 0.8402\n",
      "\n",
      "Epoch 12/49\n",
      "----------\n"
     ]
    },
    {
     "name": "stderr",
     "output_type": "stream",
     "text": [
      "Train Epoch 12: 100%|██████████| 32/32 [00:12<00:00,  2.48it/s, Loss=1.0632, Acc=0.8571]\n",
      "Train Epoch 12: 100%|██████████| 32/32 [00:12<00:00,  2.48it/s, Loss=1.0632, Acc=0.8571]\n"
     ]
    },
    {
     "name": "stdout",
     "output_type": "stream",
     "text": [
      "train Loss: 1.0893 Acc: 0.8735\n"
     ]
    },
    {
     "name": "stderr",
     "output_type": "stream",
     "text": [
      "Val Epoch 12: 100%|██████████| 32/32 [00:04<00:00,  7.24it/s, Loss=0.5717, Acc=0.9643]\n",
      "\n"
     ]
    },
    {
     "name": "stdout",
     "output_type": "stream",
     "text": [
      "val Loss: 0.9824 Acc: 0.8598\n",
      "New best model saved with val_acc: 0.8598\n",
      "\n",
      "Epoch 13/49\n",
      "----------\n",
      "New best model saved with val_acc: 0.8598\n",
      "\n",
      "Epoch 13/49\n",
      "----------\n"
     ]
    },
    {
     "name": "stderr",
     "output_type": "stream",
     "text": [
      "Train Epoch 13: 100%|██████████| 32/32 [00:11<00:00,  2.85it/s, Loss=1.1863, Acc=0.7857]\n",
      "Train Epoch 13: 100%|██████████| 32/32 [00:11<00:00,  2.85it/s, Loss=1.1863, Acc=0.7857]\n"
     ]
    },
    {
     "name": "stdout",
     "output_type": "stream",
     "text": [
      "train Loss: 1.0016 Acc: 0.8843\n"
     ]
    },
    {
     "name": "stderr",
     "output_type": "stream",
     "text": [
      "Val Epoch 13: 100%|██████████| 32/32 [00:04<00:00,  7.85it/s, Loss=0.5107, Acc=0.9643]\n",
      "Val Epoch 13: 100%|██████████| 32/32 [00:04<00:00,  7.85it/s, Loss=0.5107, Acc=0.9643]\n"
     ]
    },
    {
     "name": "stdout",
     "output_type": "stream",
     "text": [
      "val Loss: 0.8901 Acc: 0.8578\n",
      "\n",
      "Epoch 14/49\n",
      "----------\n"
     ]
    },
    {
     "name": "stderr",
     "output_type": "stream",
     "text": [
      "Train Epoch 14: 100%|██████████| 32/32 [00:12<00:00,  2.64it/s, Loss=1.3005, Acc=0.7857]\n",
      "Train Epoch 14: 100%|██████████| 32/32 [00:12<00:00,  2.64it/s, Loss=1.3005, Acc=0.7857]\n"
     ]
    },
    {
     "name": "stdout",
     "output_type": "stream",
     "text": [
      "train Loss: 0.9331 Acc: 0.8882\n"
     ]
    },
    {
     "name": "stderr",
     "output_type": "stream",
     "text": [
      "Val Epoch 14: 100%|██████████| 32/32 [00:04<00:00,  7.08it/s, Loss=0.4602, Acc=0.9643]\n",
      "\n"
     ]
    },
    {
     "name": "stdout",
     "output_type": "stream",
     "text": [
      "val Loss: 0.8407 Acc: 0.8735\n",
      "New best model saved with val_acc: 0.8735\n",
      "\n",
      "Epoch 15/49\n",
      "----------\n",
      "New best model saved with val_acc: 0.8735\n",
      "\n",
      "Epoch 15/49\n",
      "----------\n"
     ]
    },
    {
     "name": "stderr",
     "output_type": "stream",
     "text": [
      "Train Epoch 15: 100%|██████████| 32/32 [00:12<00:00,  2.49it/s, Loss=0.8093, Acc=0.8929]\n",
      "Train Epoch 15: 100%|██████████| 32/32 [00:12<00:00,  2.49it/s, Loss=0.8093, Acc=0.8929]\n"
     ]
    },
    {
     "name": "stdout",
     "output_type": "stream",
     "text": [
      "train Loss: 0.8307 Acc: 0.9127\n"
     ]
    },
    {
     "name": "stderr",
     "output_type": "stream",
     "text": [
      "Val Epoch 15: 100%|██████████| 32/32 [00:04<00:00,  7.39it/s, Loss=0.4079, Acc=0.9643]\n",
      "\n"
     ]
    },
    {
     "name": "stdout",
     "output_type": "stream",
     "text": [
      "val Loss: 0.7972 Acc: 0.8745\n",
      "New best model saved with val_acc: 0.8745\n",
      "\n",
      "Epoch 16/49\n",
      "----------\n",
      "New best model saved with val_acc: 0.8745\n",
      "\n",
      "Epoch 16/49\n",
      "----------\n"
     ]
    },
    {
     "name": "stderr",
     "output_type": "stream",
     "text": [
      "Train Epoch 16: 100%|██████████| 32/32 [00:12<00:00,  2.51it/s, Loss=1.0022, Acc=0.8571]\n",
      "Train Epoch 16: 100%|██████████| 32/32 [00:12<00:00,  2.51it/s, Loss=1.0022, Acc=0.8571]\n"
     ]
    },
    {
     "name": "stdout",
     "output_type": "stream",
     "text": [
      "train Loss: 0.7488 Acc: 0.9265\n"
     ]
    },
    {
     "name": "stderr",
     "output_type": "stream",
     "text": [
      "Val Epoch 16: 100%|██████████| 32/32 [00:04<00:00,  7.73it/s, Loss=0.4108, Acc=0.9643]\n",
      "\n"
     ]
    },
    {
     "name": "stdout",
     "output_type": "stream",
     "text": [
      "val Loss: 0.7533 Acc: 0.8814\n",
      "New best model saved with val_acc: 0.8814\n",
      "\n",
      "Epoch 17/49\n",
      "----------\n",
      "New best model saved with val_acc: 0.8814\n",
      "\n",
      "Epoch 17/49\n",
      "----------\n"
     ]
    },
    {
     "name": "stderr",
     "output_type": "stream",
     "text": [
      "Train Epoch 17: 100%|██████████| 32/32 [00:11<00:00,  2.68it/s, Loss=0.6627, Acc=0.8214]\n",
      "Train Epoch 17: 100%|██████████| 32/32 [00:11<00:00,  2.68it/s, Loss=0.6627, Acc=0.8214]\n"
     ]
    },
    {
     "name": "stdout",
     "output_type": "stream",
     "text": [
      "train Loss: 0.7084 Acc: 0.9098\n"
     ]
    },
    {
     "name": "stderr",
     "output_type": "stream",
     "text": [
      "Val Epoch 17: 100%|██████████| 32/32 [00:04<00:00,  7.63it/s, Loss=0.3866, Acc=0.9643]\n",
      "\n"
     ]
    },
    {
     "name": "stdout",
     "output_type": "stream",
     "text": [
      "val Loss: 0.6993 Acc: 0.8863\n",
      "New best model saved with val_acc: 0.8863\n",
      "\n",
      "Epoch 18/49\n",
      "----------\n",
      "New best model saved with val_acc: 0.8863\n",
      "\n",
      "Epoch 18/49\n",
      "----------\n"
     ]
    },
    {
     "name": "stderr",
     "output_type": "stream",
     "text": [
      "Train Epoch 18: 100%|██████████| 32/32 [00:12<00:00,  2.60it/s, Loss=0.5549, Acc=0.9643]\n",
      "Train Epoch 18: 100%|██████████| 32/32 [00:12<00:00,  2.60it/s, Loss=0.5549, Acc=0.9643]\n"
     ]
    },
    {
     "name": "stdout",
     "output_type": "stream",
     "text": [
      "train Loss: 0.6387 Acc: 0.9363\n"
     ]
    },
    {
     "name": "stderr",
     "output_type": "stream",
     "text": [
      "Val Epoch 18: 100%|██████████| 32/32 [00:04<00:00,  7.74it/s, Loss=0.4073, Acc=0.9643]\n",
      "\n"
     ]
    },
    {
     "name": "stdout",
     "output_type": "stream",
     "text": [
      "val Loss: 0.6898 Acc: 0.8961\n",
      "New best model saved with val_acc: 0.8961\n",
      "\n",
      "Epoch 19/49\n",
      "----------\n",
      "New best model saved with val_acc: 0.8961\n",
      "\n",
      "Epoch 19/49\n",
      "----------\n"
     ]
    },
    {
     "name": "stderr",
     "output_type": "stream",
     "text": [
      "Train Epoch 19: 100%|██████████| 32/32 [00:13<00:00,  2.45it/s, Loss=0.7340, Acc=0.8571]\n",
      "Train Epoch 19: 100%|██████████| 32/32 [00:13<00:00,  2.45it/s, Loss=0.7340, Acc=0.8571]\n"
     ]
    },
    {
     "name": "stdout",
     "output_type": "stream",
     "text": [
      "train Loss: 0.5500 Acc: 0.9529\n"
     ]
    },
    {
     "name": "stderr",
     "output_type": "stream",
     "text": [
      "Val Epoch 19: 100%|██████████| 32/32 [00:04<00:00,  7.55it/s, Loss=0.3664, Acc=0.9643]\n",
      "Val Epoch 19: 100%|██████████| 32/32 [00:04<00:00,  7.55it/s, Loss=0.3664, Acc=0.9643]\n"
     ]
    },
    {
     "name": "stdout",
     "output_type": "stream",
     "text": [
      "val Loss: 0.6572 Acc: 0.8961\n",
      "\n",
      "Epoch 20/49\n",
      "----------\n"
     ]
    },
    {
     "name": "stderr",
     "output_type": "stream",
     "text": [
      "Train Epoch 20: 100%|██████████| 32/32 [00:12<00:00,  2.55it/s, Loss=0.5042, Acc=0.9286]\n",
      "Train Epoch 20: 100%|██████████| 32/32 [00:12<00:00,  2.55it/s, Loss=0.5042, Acc=0.9286]\n"
     ]
    },
    {
     "name": "stdout",
     "output_type": "stream",
     "text": [
      "train Loss: 0.5567 Acc: 0.9422\n"
     ]
    },
    {
     "name": "stderr",
     "output_type": "stream",
     "text": [
      "Val Epoch 20: 100%|██████████| 32/32 [00:04<00:00,  7.29it/s, Loss=0.3375, Acc=0.9643]\n",
      "Val Epoch 20: 100%|██████████| 32/32 [00:04<00:00,  7.29it/s, Loss=0.3375, Acc=0.9643]\n"
     ]
    },
    {
     "name": "stdout",
     "output_type": "stream",
     "text": [
      "val Loss: 0.6263 Acc: 0.8961\n",
      "\n",
      "Epoch 21/49\n",
      "----------\n"
     ]
    },
    {
     "name": "stderr",
     "output_type": "stream",
     "text": [
      "Train Epoch 21: 100%|██████████| 32/32 [00:11<00:00,  2.77it/s, Loss=0.5508, Acc=0.9286]\n",
      "Train Epoch 21: 100%|██████████| 32/32 [00:11<00:00,  2.77it/s, Loss=0.5508, Acc=0.9286]\n"
     ]
    },
    {
     "name": "stdout",
     "output_type": "stream",
     "text": [
      "train Loss: 0.5405 Acc: 0.9294\n"
     ]
    },
    {
     "name": "stderr",
     "output_type": "stream",
     "text": [
      "Val Epoch 21: 100%|██████████| 32/32 [00:04<00:00,  7.34it/s, Loss=0.4148, Acc=0.9643]\n",
      "\n"
     ]
    },
    {
     "name": "stdout",
     "output_type": "stream",
     "text": [
      "val Loss: 0.6028 Acc: 0.8980\n",
      "New best model saved with val_acc: 0.8980\n",
      "\n",
      "Epoch 22/49\n",
      "----------\n",
      "New best model saved with val_acc: 0.8980\n",
      "\n",
      "Epoch 22/49\n",
      "----------\n"
     ]
    },
    {
     "name": "stderr",
     "output_type": "stream",
     "text": [
      "Train Epoch 22: 100%|██████████| 32/32 [00:11<00:00,  2.73it/s, Loss=0.5601, Acc=0.9643]\n",
      "Train Epoch 22: 100%|██████████| 32/32 [00:11<00:00,  2.73it/s, Loss=0.5601, Acc=0.9643]\n"
     ]
    },
    {
     "name": "stdout",
     "output_type": "stream",
     "text": [
      "train Loss: 0.5347 Acc: 0.9402\n"
     ]
    },
    {
     "name": "stderr",
     "output_type": "stream",
     "text": [
      "Val Epoch 22: 100%|██████████| 32/32 [00:04<00:00,  7.97it/s, Loss=0.3831, Acc=0.9643]\n",
      "\n"
     ]
    },
    {
     "name": "stdout",
     "output_type": "stream",
     "text": [
      "val Loss: 0.5878 Acc: 0.9049\n",
      "New best model saved with val_acc: 0.9049\n",
      "\n",
      "Epoch 23/49\n",
      "----------\n",
      "New best model saved with val_acc: 0.9049\n",
      "\n",
      "Epoch 23/49\n",
      "----------\n"
     ]
    },
    {
     "name": "stderr",
     "output_type": "stream",
     "text": [
      "Train Epoch 23: 100%|██████████| 32/32 [00:12<00:00,  2.59it/s, Loss=0.4044, Acc=0.9643]\n",
      "Train Epoch 23: 100%|██████████| 32/32 [00:12<00:00,  2.59it/s, Loss=0.4044, Acc=0.9643]\n"
     ]
    },
    {
     "name": "stdout",
     "output_type": "stream",
     "text": [
      "train Loss: 0.4910 Acc: 0.9451\n"
     ]
    },
    {
     "name": "stderr",
     "output_type": "stream",
     "text": [
      "Val Epoch 23: 100%|██████████| 32/32 [00:04<00:00,  7.50it/s, Loss=0.3290, Acc=0.9643]\n",
      "\n"
     ]
    },
    {
     "name": "stdout",
     "output_type": "stream",
     "text": [
      "val Loss: 0.5734 Acc: 0.9098\n",
      "New best model saved with val_acc: 0.9098\n",
      "\n",
      "Epoch 24/49\n",
      "----------\n",
      "New best model saved with val_acc: 0.9098\n",
      "\n",
      "Epoch 24/49\n",
      "----------\n"
     ]
    },
    {
     "name": "stderr",
     "output_type": "stream",
     "text": [
      "Train Epoch 24: 100%|██████████| 32/32 [00:12<00:00,  2.61it/s, Loss=0.5047, Acc=0.9286]\n",
      "Train Epoch 24: 100%|██████████| 32/32 [00:12<00:00,  2.61it/s, Loss=0.5047, Acc=0.9286]\n"
     ]
    },
    {
     "name": "stdout",
     "output_type": "stream",
     "text": [
      "train Loss: 0.4874 Acc: 0.9373\n"
     ]
    },
    {
     "name": "stderr",
     "output_type": "stream",
     "text": [
      "Val Epoch 24: 100%|██████████| 32/32 [00:04<00:00,  7.46it/s, Loss=0.2857, Acc=0.9643]\n",
      "Val Epoch 24: 100%|██████████| 32/32 [00:04<00:00,  7.46it/s, Loss=0.2857, Acc=0.9643]\n"
     ]
    },
    {
     "name": "stdout",
     "output_type": "stream",
     "text": [
      "val Loss: 0.5592 Acc: 0.9010\n",
      "\n",
      "Epoch 25/49\n",
      "----------\n"
     ]
    },
    {
     "name": "stderr",
     "output_type": "stream",
     "text": [
      "Train Epoch 25: 100%|██████████| 32/32 [00:12<00:00,  2.64it/s, Loss=0.6435, Acc=0.8571]\n",
      "Train Epoch 25: 100%|██████████| 32/32 [00:12<00:00,  2.64it/s, Loss=0.6435, Acc=0.8571]\n"
     ]
    },
    {
     "name": "stdout",
     "output_type": "stream",
     "text": [
      "train Loss: 0.4550 Acc: 0.9402\n"
     ]
    },
    {
     "name": "stderr",
     "output_type": "stream",
     "text": [
      "Val Epoch 25: 100%|██████████| 32/32 [00:04<00:00,  7.42it/s, Loss=0.2703, Acc=0.9643]\n",
      "Val Epoch 25: 100%|██████████| 32/32 [00:04<00:00,  7.42it/s, Loss=0.2703, Acc=0.9643]\n"
     ]
    },
    {
     "name": "stdout",
     "output_type": "stream",
     "text": [
      "val Loss: 0.5416 Acc: 0.9098\n",
      "\n",
      "Epoch 26/49\n",
      "----------\n"
     ]
    },
    {
     "name": "stderr",
     "output_type": "stream",
     "text": [
      "Train Epoch 26: 100%|██████████| 32/32 [00:12<00:00,  2.54it/s, Loss=0.3875, Acc=0.9643]\n",
      "Train Epoch 26: 100%|██████████| 32/32 [00:12<00:00,  2.54it/s, Loss=0.3875, Acc=0.9643]\n"
     ]
    },
    {
     "name": "stdout",
     "output_type": "stream",
     "text": [
      "train Loss: 0.4366 Acc: 0.9441\n"
     ]
    },
    {
     "name": "stderr",
     "output_type": "stream",
     "text": [
      "Val Epoch 26: 100%|██████████| 32/32 [00:04<00:00,  7.56it/s, Loss=0.3665, Acc=0.9643]\n",
      "\n"
     ]
    },
    {
     "name": "stdout",
     "output_type": "stream",
     "text": [
      "val Loss: 0.5202 Acc: 0.9108\n",
      "New best model saved with val_acc: 0.9108\n",
      "\n",
      "Epoch 27/49\n",
      "----------\n",
      "New best model saved with val_acc: 0.9108\n",
      "\n",
      "Epoch 27/49\n",
      "----------\n"
     ]
    },
    {
     "name": "stderr",
     "output_type": "stream",
     "text": [
      "Train Epoch 27: 100%|██████████| 32/32 [00:12<00:00,  2.59it/s, Loss=0.4098, Acc=0.9286]\n",
      "Train Epoch 27: 100%|██████████| 32/32 [00:12<00:00,  2.59it/s, Loss=0.4098, Acc=0.9286]\n"
     ]
    },
    {
     "name": "stdout",
     "output_type": "stream",
     "text": [
      "train Loss: 0.3768 Acc: 0.9627\n"
     ]
    },
    {
     "name": "stderr",
     "output_type": "stream",
     "text": [
      "Val Epoch 27: 100%|██████████| 32/32 [00:04<00:00,  7.81it/s, Loss=0.2777, Acc=0.9643]\n",
      "\n"
     ]
    },
    {
     "name": "stdout",
     "output_type": "stream",
     "text": [
      "val Loss: 0.5235 Acc: 0.9176\n",
      "New best model saved with val_acc: 0.9176\n",
      "\n",
      "Epoch 28/49\n",
      "----------\n",
      "New best model saved with val_acc: 0.9176\n",
      "\n",
      "Epoch 28/49\n",
      "----------\n"
     ]
    },
    {
     "name": "stderr",
     "output_type": "stream",
     "text": [
      "Train Epoch 28: 100%|██████████| 32/32 [00:11<00:00,  2.72it/s, Loss=0.3410, Acc=0.9643]\n",
      "Train Epoch 28: 100%|██████████| 32/32 [00:11<00:00,  2.72it/s, Loss=0.3410, Acc=0.9643]\n"
     ]
    },
    {
     "name": "stdout",
     "output_type": "stream",
     "text": [
      "train Loss: 0.3739 Acc: 0.9539\n"
     ]
    },
    {
     "name": "stderr",
     "output_type": "stream",
     "text": [
      "Val Epoch 28: 100%|██████████| 32/32 [00:04<00:00,  7.45it/s, Loss=0.3403, Acc=0.9643]\n",
      "Val Epoch 28: 100%|██████████| 32/32 [00:04<00:00,  7.45it/s, Loss=0.3403, Acc=0.9643]\n"
     ]
    },
    {
     "name": "stdout",
     "output_type": "stream",
     "text": [
      "val Loss: 0.5157 Acc: 0.9176\n",
      "\n",
      "Epoch 29/49\n",
      "----------\n"
     ]
    },
    {
     "name": "stderr",
     "output_type": "stream",
     "text": [
      "Train Epoch 29: 100%|██████████| 32/32 [00:12<00:00,  2.55it/s, Loss=0.3348, Acc=0.9643]\n",
      "Train Epoch 29: 100%|██████████| 32/32 [00:12<00:00,  2.55it/s, Loss=0.3348, Acc=0.9643]\n"
     ]
    },
    {
     "name": "stdout",
     "output_type": "stream",
     "text": [
      "train Loss: 0.3900 Acc: 0.9461\n"
     ]
    },
    {
     "name": "stderr",
     "output_type": "stream",
     "text": [
      "Val Epoch 29: 100%|██████████| 32/32 [00:04<00:00,  7.35it/s, Loss=0.3201, Acc=0.9643]\n",
      "Val Epoch 29: 100%|██████████| 32/32 [00:04<00:00,  7.35it/s, Loss=0.3201, Acc=0.9643]\n"
     ]
    },
    {
     "name": "stdout",
     "output_type": "stream",
     "text": [
      "val Loss: 0.4904 Acc: 0.9147\n",
      "\n",
      "Epoch 30/49\n",
      "----------\n"
     ]
    },
    {
     "name": "stderr",
     "output_type": "stream",
     "text": [
      "Train Epoch 30: 100%|██████████| 32/32 [00:12<00:00,  2.56it/s, Loss=0.2829, Acc=0.9643]\n",
      "Train Epoch 30: 100%|██████████| 32/32 [00:12<00:00,  2.56it/s, Loss=0.2829, Acc=0.9643]\n"
     ]
    },
    {
     "name": "stdout",
     "output_type": "stream",
     "text": [
      "train Loss: 0.3756 Acc: 0.9559\n"
     ]
    },
    {
     "name": "stderr",
     "output_type": "stream",
     "text": [
      "Val Epoch 30: 100%|██████████| 32/32 [00:04<00:00,  7.36it/s, Loss=0.3089, Acc=0.9643]\n",
      "Val Epoch 30: 100%|██████████| 32/32 [00:04<00:00,  7.36it/s, Loss=0.3089, Acc=0.9643]\n"
     ]
    },
    {
     "name": "stdout",
     "output_type": "stream",
     "text": [
      "val Loss: 0.4965 Acc: 0.9157\n",
      "\n",
      "Epoch 31/49\n",
      "----------\n"
     ]
    },
    {
     "name": "stderr",
     "output_type": "stream",
     "text": [
      "Train Epoch 31: 100%|██████████| 32/32 [00:12<00:00,  2.56it/s, Loss=0.4111, Acc=0.9643]\n",
      "Train Epoch 31: 100%|██████████| 32/32 [00:12<00:00,  2.56it/s, Loss=0.4111, Acc=0.9643]\n"
     ]
    },
    {
     "name": "stdout",
     "output_type": "stream",
     "text": [
      "train Loss: 0.3308 Acc: 0.9706\n"
     ]
    },
    {
     "name": "stderr",
     "output_type": "stream",
     "text": [
      "Val Epoch 31: 100%|██████████| 32/32 [00:04<00:00,  6.82it/s, Loss=0.3042, Acc=0.9643]\n",
      "Val Epoch 31: 100%|██████████| 32/32 [00:04<00:00,  6.82it/s, Loss=0.3042, Acc=0.9643]\n"
     ]
    },
    {
     "name": "stdout",
     "output_type": "stream",
     "text": [
      "val Loss: 0.4921 Acc: 0.9157\n",
      "\n",
      "Epoch 32/49\n",
      "----------\n"
     ]
    },
    {
     "name": "stderr",
     "output_type": "stream",
     "text": [
      "Train Epoch 32: 100%|██████████| 32/32 [00:11<00:00,  2.71it/s, Loss=0.3053, Acc=1.0000]\n",
      "Train Epoch 32: 100%|██████████| 32/32 [00:11<00:00,  2.71it/s, Loss=0.3053, Acc=1.0000]\n"
     ]
    },
    {
     "name": "stdout",
     "output_type": "stream",
     "text": [
      "train Loss: 0.3795 Acc: 0.9539\n"
     ]
    },
    {
     "name": "stderr",
     "output_type": "stream",
     "text": [
      "Val Epoch 32: 100%|██████████| 32/32 [00:04<00:00,  7.35it/s, Loss=0.2776, Acc=0.9643]\n",
      "Val Epoch 32: 100%|██████████| 32/32 [00:04<00:00,  7.35it/s, Loss=0.2776, Acc=0.9643]\n"
     ]
    },
    {
     "name": "stdout",
     "output_type": "stream",
     "text": [
      "val Loss: 0.4867 Acc: 0.9137\n",
      "\n",
      "Epoch 33/49\n",
      "----------\n"
     ]
    },
    {
     "name": "stderr",
     "output_type": "stream",
     "text": [
      "Train Epoch 33: 100%|██████████| 32/32 [00:12<00:00,  2.64it/s, Loss=0.4277, Acc=0.9286]\n",
      "Train Epoch 33: 100%|██████████| 32/32 [00:12<00:00,  2.64it/s, Loss=0.4277, Acc=0.9286]\n"
     ]
    },
    {
     "name": "stdout",
     "output_type": "stream",
     "text": [
      "train Loss: 0.3303 Acc: 0.9637\n"
     ]
    },
    {
     "name": "stderr",
     "output_type": "stream",
     "text": [
      "Val Epoch 33: 100%|██████████| 32/32 [00:04<00:00,  7.15it/s, Loss=0.2949, Acc=0.9643]\n",
      "\n"
     ]
    },
    {
     "name": "stdout",
     "output_type": "stream",
     "text": [
      "val Loss: 0.4948 Acc: 0.9216\n",
      "New best model saved with val_acc: 0.9216\n",
      "\n",
      "Epoch 34/49\n",
      "----------\n",
      "New best model saved with val_acc: 0.9216\n",
      "\n",
      "Epoch 34/49\n",
      "----------\n"
     ]
    },
    {
     "name": "stderr",
     "output_type": "stream",
     "text": [
      "Train Epoch 34: 100%|██████████| 32/32 [00:12<00:00,  2.62it/s, Loss=0.2368, Acc=1.0000]\n",
      "Train Epoch 34: 100%|██████████| 32/32 [00:12<00:00,  2.62it/s, Loss=0.2368, Acc=1.0000]\n"
     ]
    },
    {
     "name": "stdout",
     "output_type": "stream",
     "text": [
      "train Loss: 0.3468 Acc: 0.9627\n"
     ]
    },
    {
     "name": "stderr",
     "output_type": "stream",
     "text": [
      "Val Epoch 34: 100%|██████████| 32/32 [00:04<00:00,  7.41it/s, Loss=0.2882, Acc=0.9643]\n",
      "Val Epoch 34: 100%|██████████| 32/32 [00:04<00:00,  7.41it/s, Loss=0.2882, Acc=0.9643]\n"
     ]
    },
    {
     "name": "stdout",
     "output_type": "stream",
     "text": [
      "val Loss: 0.4918 Acc: 0.9196\n",
      "\n",
      "Epoch 35/49\n",
      "----------\n"
     ]
    },
    {
     "name": "stderr",
     "output_type": "stream",
     "text": [
      "Train Epoch 35: 100%|██████████| 32/32 [00:11<00:00,  2.72it/s, Loss=0.4030, Acc=0.9643]\n",
      "Train Epoch 35: 100%|██████████| 32/32 [00:11<00:00,  2.72it/s, Loss=0.4030, Acc=0.9643]\n"
     ]
    },
    {
     "name": "stdout",
     "output_type": "stream",
     "text": [
      "train Loss: 0.3442 Acc: 0.9529\n"
     ]
    },
    {
     "name": "stderr",
     "output_type": "stream",
     "text": [
      "Val Epoch 35: 100%|██████████| 32/32 [00:04<00:00,  7.32it/s, Loss=0.2595, Acc=0.9643]\n",
      "Val Epoch 35: 100%|██████████| 32/32 [00:04<00:00,  7.32it/s, Loss=0.2595, Acc=0.9643]\n"
     ]
    },
    {
     "name": "stdout",
     "output_type": "stream",
     "text": [
      "val Loss: 0.4865 Acc: 0.9186\n",
      "\n",
      "Epoch 36/49\n",
      "----------\n"
     ]
    },
    {
     "name": "stderr",
     "output_type": "stream",
     "text": [
      "Train Epoch 36: 100%|██████████| 32/32 [00:11<00:00,  2.74it/s, Loss=0.2296, Acc=1.0000]\n",
      "Train Epoch 36: 100%|██████████| 32/32 [00:11<00:00,  2.74it/s, Loss=0.2296, Acc=1.0000]\n"
     ]
    },
    {
     "name": "stdout",
     "output_type": "stream",
     "text": [
      "train Loss: 0.3438 Acc: 0.9657\n"
     ]
    },
    {
     "name": "stderr",
     "output_type": "stream",
     "text": [
      "Val Epoch 36: 100%|██████████| 32/32 [00:04<00:00,  7.29it/s, Loss=0.2887, Acc=0.9643]\n",
      "Val Epoch 36: 100%|██████████| 32/32 [00:04<00:00,  7.29it/s, Loss=0.2887, Acc=0.9643]\n"
     ]
    },
    {
     "name": "stdout",
     "output_type": "stream",
     "text": [
      "val Loss: 0.4896 Acc: 0.9147\n",
      "\n",
      "Epoch 37/49\n",
      "----------\n"
     ]
    },
    {
     "name": "stderr",
     "output_type": "stream",
     "text": [
      "Train Epoch 37: 100%|██████████| 32/32 [00:11<00:00,  2.84it/s, Loss=0.3393, Acc=0.9643]\n",
      "Train Epoch 37: 100%|██████████| 32/32 [00:11<00:00,  2.84it/s, Loss=0.3393, Acc=0.9643]\n"
     ]
    },
    {
     "name": "stdout",
     "output_type": "stream",
     "text": [
      "train Loss: 0.3495 Acc: 0.9520\n"
     ]
    },
    {
     "name": "stderr",
     "output_type": "stream",
     "text": [
      "Val Epoch 37: 100%|██████████| 32/32 [00:04<00:00,  7.29it/s, Loss=0.2483, Acc=0.9643]\n",
      "Val Epoch 37: 100%|██████████| 32/32 [00:04<00:00,  7.29it/s, Loss=0.2483, Acc=0.9643]\n"
     ]
    },
    {
     "name": "stdout",
     "output_type": "stream",
     "text": [
      "val Loss: 0.4810 Acc: 0.9147\n",
      "\n",
      "Epoch 38/49\n",
      "----------\n"
     ]
    },
    {
     "name": "stderr",
     "output_type": "stream",
     "text": [
      "Train Epoch 38: 100%|██████████| 32/32 [00:11<00:00,  2.80it/s, Loss=0.4497, Acc=0.8929]\n",
      "Train Epoch 38: 100%|██████████| 32/32 [00:11<00:00,  2.80it/s, Loss=0.4497, Acc=0.8929]\n"
     ]
    },
    {
     "name": "stdout",
     "output_type": "stream",
     "text": [
      "train Loss: 0.3248 Acc: 0.9618\n"
     ]
    },
    {
     "name": "stderr",
     "output_type": "stream",
     "text": [
      "Val Epoch 38: 100%|██████████| 32/32 [00:04<00:00,  7.43it/s, Loss=0.2582, Acc=0.9643]\n",
      "Val Epoch 38: 100%|██████████| 32/32 [00:04<00:00,  7.43it/s, Loss=0.2582, Acc=0.9643]\n"
     ]
    },
    {
     "name": "stdout",
     "output_type": "stream",
     "text": [
      "val Loss: 0.4889 Acc: 0.9127\n",
      "\n",
      "Epoch 39/49\n",
      "----------\n"
     ]
    },
    {
     "name": "stderr",
     "output_type": "stream",
     "text": [
      "Train Epoch 39: 100%|██████████| 32/32 [00:11<00:00,  2.86it/s, Loss=0.4123, Acc=0.9643]\n",
      "Train Epoch 39: 100%|██████████| 32/32 [00:11<00:00,  2.86it/s, Loss=0.4123, Acc=0.9643]\n"
     ]
    },
    {
     "name": "stdout",
     "output_type": "stream",
     "text": [
      "train Loss: 0.3468 Acc: 0.9598\n"
     ]
    },
    {
     "name": "stderr",
     "output_type": "stream",
     "text": [
      "Val Epoch 39: 100%|██████████| 32/32 [00:04<00:00,  7.35it/s, Loss=0.2371, Acc=0.9643]\n",
      "Val Epoch 39: 100%|██████████| 32/32 [00:04<00:00,  7.35it/s, Loss=0.2371, Acc=0.9643]\n"
     ]
    },
    {
     "name": "stdout",
     "output_type": "stream",
     "text": [
      "val Loss: 0.4788 Acc: 0.9167\n",
      "\n",
      "Epoch 40/49\n",
      "----------\n"
     ]
    },
    {
     "name": "stderr",
     "output_type": "stream",
     "text": [
      "Train Epoch 40: 100%|██████████| 32/32 [00:11<00:00,  2.77it/s, Loss=0.3244, Acc=0.9643]\n",
      "Train Epoch 40: 100%|██████████| 32/32 [00:11<00:00,  2.77it/s, Loss=0.3244, Acc=0.9643]\n"
     ]
    },
    {
     "name": "stdout",
     "output_type": "stream",
     "text": [
      "train Loss: 0.3149 Acc: 0.9676\n"
     ]
    },
    {
     "name": "stderr",
     "output_type": "stream",
     "text": [
      "Val Epoch 40: 100%|██████████| 32/32 [00:04<00:00,  7.52it/s, Loss=0.2458, Acc=0.9643]\n",
      "Val Epoch 40: 100%|██████████| 32/32 [00:04<00:00,  7.52it/s, Loss=0.2458, Acc=0.9643]\n"
     ]
    },
    {
     "name": "stdout",
     "output_type": "stream",
     "text": [
      "val Loss: 0.4782 Acc: 0.9167\n",
      "\n",
      "Epoch 41/49\n",
      "----------\n"
     ]
    },
    {
     "name": "stderr",
     "output_type": "stream",
     "text": [
      "Train Epoch 41: 100%|██████████| 32/32 [00:11<00:00,  2.72it/s, Loss=0.3214, Acc=0.9643]\n",
      "Train Epoch 41: 100%|██████████| 32/32 [00:11<00:00,  2.72it/s, Loss=0.3214, Acc=0.9643]\n"
     ]
    },
    {
     "name": "stdout",
     "output_type": "stream",
     "text": [
      "train Loss: 0.3198 Acc: 0.9706\n"
     ]
    },
    {
     "name": "stderr",
     "output_type": "stream",
     "text": [
      "Val Epoch 41: 100%|██████████| 32/32 [00:04<00:00,  7.18it/s, Loss=0.2547, Acc=0.9643]\n",
      "Val Epoch 41: 100%|██████████| 32/32 [00:04<00:00,  7.18it/s, Loss=0.2547, Acc=0.9643]\n"
     ]
    },
    {
     "name": "stdout",
     "output_type": "stream",
     "text": [
      "val Loss: 0.4765 Acc: 0.9196\n",
      "\n",
      "Epoch 42/49\n",
      "----------\n"
     ]
    },
    {
     "name": "stderr",
     "output_type": "stream",
     "text": [
      "Train Epoch 42: 100%|██████████| 32/32 [00:11<00:00,  2.90it/s, Loss=0.3525, Acc=0.9643]\n",
      "Train Epoch 42: 100%|██████████| 32/32 [00:11<00:00,  2.90it/s, Loss=0.3525, Acc=0.9643]\n"
     ]
    },
    {
     "name": "stdout",
     "output_type": "stream",
     "text": [
      "train Loss: 0.3129 Acc: 0.9716\n"
     ]
    },
    {
     "name": "stderr",
     "output_type": "stream",
     "text": [
      "Val Epoch 42: 100%|██████████| 32/32 [00:04<00:00,  7.70it/s, Loss=0.2719, Acc=0.9643]\n",
      "Val Epoch 42: 100%|██████████| 32/32 [00:04<00:00,  7.70it/s, Loss=0.2719, Acc=0.9643]\n"
     ]
    },
    {
     "name": "stdout",
     "output_type": "stream",
     "text": [
      "val Loss: 0.4701 Acc: 0.9216\n",
      "\n",
      "Epoch 43/49\n",
      "----------\n"
     ]
    },
    {
     "name": "stderr",
     "output_type": "stream",
     "text": [
      "Train Epoch 43: 100%|██████████| 32/32 [00:11<00:00,  2.69it/s, Loss=0.4378, Acc=0.9286]\n",
      "Train Epoch 43: 100%|██████████| 32/32 [00:11<00:00,  2.69it/s, Loss=0.4378, Acc=0.9286]\n"
     ]
    },
    {
     "name": "stdout",
     "output_type": "stream",
     "text": [
      "train Loss: 0.3735 Acc: 0.9520\n"
     ]
    },
    {
     "name": "stderr",
     "output_type": "stream",
     "text": [
      "Val Epoch 43: 100%|██████████| 32/32 [00:04<00:00,  7.19it/s, Loss=0.2518, Acc=0.9643]\n",
      "Val Epoch 43: 100%|██████████| 32/32 [00:04<00:00,  7.19it/s, Loss=0.2518, Acc=0.9643]\n"
     ]
    },
    {
     "name": "stdout",
     "output_type": "stream",
     "text": [
      "val Loss: 0.4732 Acc: 0.9196\n",
      "\n",
      "Epoch 44/49\n",
      "----------\n"
     ]
    },
    {
     "name": "stderr",
     "output_type": "stream",
     "text": [
      "Train Epoch 44: 100%|██████████| 32/32 [00:11<00:00,  2.76it/s, Loss=0.2202, Acc=1.0000]\n",
      "Train Epoch 44: 100%|██████████| 32/32 [00:11<00:00,  2.76it/s, Loss=0.2202, Acc=1.0000]\n"
     ]
    },
    {
     "name": "stdout",
     "output_type": "stream",
     "text": [
      "train Loss: 0.3094 Acc: 0.9657\n"
     ]
    },
    {
     "name": "stderr",
     "output_type": "stream",
     "text": [
      "Val Epoch 44: 100%|██████████| 32/32 [00:04<00:00,  7.48it/s, Loss=0.2454, Acc=0.9643]\n",
      "Val Epoch 44: 100%|██████████| 32/32 [00:04<00:00,  7.48it/s, Loss=0.2454, Acc=0.9643]\n"
     ]
    },
    {
     "name": "stdout",
     "output_type": "stream",
     "text": [
      "val Loss: 0.4708 Acc: 0.9176\n",
      "\n",
      "Epoch 45/49\n",
      "----------\n"
     ]
    },
    {
     "name": "stderr",
     "output_type": "stream",
     "text": [
      "Train Epoch 45: 100%|██████████| 32/32 [00:12<00:00,  2.66it/s, Loss=0.4190, Acc=0.9643]\n",
      "Train Epoch 45: 100%|██████████| 32/32 [00:12<00:00,  2.66it/s, Loss=0.4190, Acc=0.9643]\n"
     ]
    },
    {
     "name": "stdout",
     "output_type": "stream",
     "text": [
      "train Loss: 0.3441 Acc: 0.9608\n"
     ]
    },
    {
     "name": "stderr",
     "output_type": "stream",
     "text": [
      "Val Epoch 45: 100%|██████████| 32/32 [00:04<00:00,  7.32it/s, Loss=0.2866, Acc=0.9643]\n",
      "Val Epoch 45: 100%|██████████| 32/32 [00:04<00:00,  7.32it/s, Loss=0.2866, Acc=0.9643]\n"
     ]
    },
    {
     "name": "stdout",
     "output_type": "stream",
     "text": [
      "val Loss: 0.4702 Acc: 0.9186\n",
      "\n",
      "Epoch 46/49\n",
      "----------\n"
     ]
    },
    {
     "name": "stderr",
     "output_type": "stream",
     "text": [
      "Train Epoch 46: 100%|██████████| 32/32 [00:11<00:00,  2.79it/s, Loss=0.3406, Acc=0.9643]\n",
      "Train Epoch 46: 100%|██████████| 32/32 [00:11<00:00,  2.79it/s, Loss=0.3406, Acc=0.9643]\n"
     ]
    },
    {
     "name": "stdout",
     "output_type": "stream",
     "text": [
      "train Loss: 0.3389 Acc: 0.9608\n"
     ]
    },
    {
     "name": "stderr",
     "output_type": "stream",
     "text": [
      "Val Epoch 46: 100%|██████████| 32/32 [00:04<00:00,  7.11it/s, Loss=0.2675, Acc=0.9643]\n",
      "Val Epoch 46: 100%|██████████| 32/32 [00:04<00:00,  7.11it/s, Loss=0.2675, Acc=0.9643]\n"
     ]
    },
    {
     "name": "stdout",
     "output_type": "stream",
     "text": [
      "val Loss: 0.4745 Acc: 0.9186\n",
      "\n",
      "Epoch 47/49\n",
      "----------\n"
     ]
    },
    {
     "name": "stderr",
     "output_type": "stream",
     "text": [
      "Train Epoch 47: 100%|██████████| 32/32 [00:11<00:00,  2.74it/s, Loss=0.3969, Acc=0.9643]\n",
      "Train Epoch 47: 100%|██████████| 32/32 [00:11<00:00,  2.74it/s, Loss=0.3969, Acc=0.9643]\n"
     ]
    },
    {
     "name": "stdout",
     "output_type": "stream",
     "text": [
      "train Loss: 0.3398 Acc: 0.9529\n"
     ]
    },
    {
     "name": "stderr",
     "output_type": "stream",
     "text": [
      "Val Epoch 47: 100%|██████████| 32/32 [00:04<00:00,  7.27it/s, Loss=0.2604, Acc=0.9643]\n",
      "Val Epoch 47: 100%|██████████| 32/32 [00:04<00:00,  7.27it/s, Loss=0.2604, Acc=0.9643]\n"
     ]
    },
    {
     "name": "stdout",
     "output_type": "stream",
     "text": [
      "val Loss: 0.4769 Acc: 0.9157\n",
      "\n",
      "Epoch 48/49\n",
      "----------\n"
     ]
    },
    {
     "name": "stderr",
     "output_type": "stream",
     "text": [
      "Train Epoch 48: 100%|██████████| 32/32 [00:11<00:00,  2.73it/s, Loss=0.1575, Acc=1.0000]\n",
      "Train Epoch 48: 100%|██████████| 32/32 [00:11<00:00,  2.73it/s, Loss=0.1575, Acc=1.0000]\n"
     ]
    },
    {
     "name": "stdout",
     "output_type": "stream",
     "text": [
      "train Loss: 0.3103 Acc: 0.9588\n"
     ]
    },
    {
     "name": "stderr",
     "output_type": "stream",
     "text": [
      "Val Epoch 48: 100%|██████████| 32/32 [00:04<00:00,  7.41it/s, Loss=0.2696, Acc=0.9643]\n",
      "Val Epoch 48: 100%|██████████| 32/32 [00:04<00:00,  7.41it/s, Loss=0.2696, Acc=0.9643]\n"
     ]
    },
    {
     "name": "stdout",
     "output_type": "stream",
     "text": [
      "val Loss: 0.4782 Acc: 0.9147\n",
      "\n",
      "Epoch 49/49\n",
      "----------\n"
     ]
    },
    {
     "name": "stderr",
     "output_type": "stream",
     "text": [
      "Train Epoch 49: 100%|██████████| 32/32 [00:11<00:00,  2.74it/s, Loss=0.3299, Acc=0.9643]\n",
      "Train Epoch 49: 100%|██████████| 32/32 [00:11<00:00,  2.74it/s, Loss=0.3299, Acc=0.9643]\n"
     ]
    },
    {
     "name": "stdout",
     "output_type": "stream",
     "text": [
      "train Loss: 0.3238 Acc: 0.9676\n"
     ]
    },
    {
     "name": "stderr",
     "output_type": "stream",
     "text": [
      "Val Epoch 49: 100%|██████████| 32/32 [00:04<00:00,  7.33it/s, Loss=0.2827, Acc=0.9643]\n",
      "\n"
     ]
    },
    {
     "name": "stdout",
     "output_type": "stream",
     "text": [
      "val Loss: 0.4800 Acc: 0.9196\n",
      "\n",
      "Training complete in 18m 1s\n",
      "Best val Acc: 0.921569\n"
     ]
    },
    {
     "data": {
      "image/png": "[encoded data removed]",
      "text/plain": [
       "<Figure size 1500x500 with 2 Axes>"
      ]
     },
     "metadata": {},
     "output_type": "display_data"
    },
    {
     "name": "stdout",
     "output_type": "stream",
     "text": [
      "Evaluating on test set...\n"
     ]
    },
    {
     "name": "stderr",
     "output_type": "stream",
     "text": [
      "100%|██████████| 193/193 [00:20<00:00,  9.19it/s]"
     ]
    },
    {
     "name": "stdout",
     "output_type": "stream",
     "text": [
      "Test Loss: 0.5938\n",
      "Test Accuracy: 0.8842\n",
      "ResNet18 Deformable - Test Accuracy: 0.8842\n"
     ]
    },
    {
     "name": "stderr",
     "output_type": "stream",
     "text": [
      "\n"
     ]
    }
   ],
   "source": [
    "\n",
    "# Create model with deformable convolutions\n",
    "model_deform = FlowerResNetDeformable(\n",
    "    base_model='resnet18', \n",
    "    deform_layers=['layer3'], \n",
    "    num_classes=102\n",
    ")\n",
    "model_deform = model_deform.to(device)\n",
    "\n",
    "# Define optimizer\n",
    "optimizer_deform = optim.SGD(model_deform.parameters(), lr=0.001, momentum=0.9)\n",
    "scheduler_deform = lr_scheduler.StepLR(optimizer_deform, step_size=30, gamma=0.1)\n",
    "\n",
    "# Train model\n",
    "model_deform, train_losses_d, train_accs_d, val_losses_d, val_accs_d = train_model(\n",
    "    model_deform, criterion, optimizer_deform, scheduler_deform, num_epochs, 'resnet18_deformable'\n",
    ")\n",
    "\n",
    "# Plot results\n",
    "plot_training_curves(train_losses_d, val_losses_d, train_accs_d, val_accs_d, 'ResNet18_Deformable')\n",
    "\n",
    "# Evaluate on test set\n",
    "test_loss_d, test_acc_d, all_preds_d, all_labels_d = evaluate_model(model_deform, criterion)\n",
    "\n",
    "# Save training logs\n",
    "with open('resnet18_deformable.txt', 'w') as f:\n",
    "    f.write(\"Epoch,Train_Loss,Val_Loss,Train_Acc,Val_Acc\\n\")\n",
    "    for epoch in range(num_epochs):\n",
    "        f.write(f\"{epoch+1},{train_losses_d[epoch]:.4f},{val_losses_d[epoch]:.4f},{train_accs_d[epoch]:.4f},{val_accs_d[epoch]:.4f}\\n\")\n",
    "\n",
    "print(f\"ResNet18 Deformable - Test Accuracy: {test_acc_d:.4f}\")"
   ]
  },
  {
   "cell_type": "code",
   "execution_count": 16,
   "id": "0915db33",
   "metadata": {},
   "outputs": [],
   "source": [
    "class DeformableConv2d(nn.Module):\n",
    "    def __init__(self, in_channels, out_channels, kernel_size=3, stride=1, padding=1):\n",
    "        super(DeformableConv2d, self).__init__()\n",
    "        \n",
    "        self.kernel_size = kernel_size\n",
    "        self.stride = stride\n",
    "        self.padding = padding\n",
    "        \n",
    "        # Offset convolution - generates 2*kernel_size*kernel_size offsets (x,y for each kernel position)\n",
    "        self.offset_conv = nn.Conv2d(\n",
    "            in_channels, \n",
    "            2 * kernel_size * kernel_size,  # 2 offsets (x,y) for each kernel position\n",
    "            kernel_size=kernel_size, \n",
    "            stride=stride, \n",
    "            padding=padding\n",
    "        )\n",
    "        \n",
    "        # Regular convolution for the actual features\n",
    "        self.conv = nn.Conv2d(\n",
    "            in_channels, \n",
    "            out_channels, \n",
    "            kernel_size=kernel_size, \n",
    "            stride=stride, \n",
    "            padding=padding\n",
    "        )\n",
    "        \n",
    "        # Initialize offset weights to zero for stable training start\n",
    "        nn.init.constant_(self.offset_conv.weight, 0.)\n",
    "        nn.init.constant_(self.offset_conv.bias, 0.)\n",
    "        \n",
    "    def forward(self, x):\n",
    "        # Generate offsets [batch, 2*K*K, H, W]\n",
    "        offsets = self.offset_conv(x)\n",
    "        \n",
    "        # Use torchvision's deform_conv2d if available\n",
    "        try:\n",
    "            from torchvision.ops import deform_conv2d\n",
    "            return deform_conv2d(\n",
    "                x, \n",
    "                offsets, \n",
    "                self.conv.weight, \n",
    "                self.conv.bias,\n",
    "                stride=(self.stride, self.stride),\n",
    "                padding=(self.padding, self.padding)\n",
    "            )\n",
    "        except ImportError:\n",
    "            # Fallback implementation - apply regular convolution but at least use the offsets in some way\n",
    "            # This is a simplified version - in practice you'd implement proper sampling\n",
    "            print(\"Warning: torchvision.ops.deform_conv2d not available, using regular convolution\")\n",
    "            return self.conv(x)\n",
    "\n",
    "class FlowerResNetDeformable(nn.Module):\n",
    "    def __init__(self, base_model='resnet18', deform_layers=['layer3'], num_classes=102):\n",
    "        super(FlowerResNetDeformable, self).__init__()\n",
    "        \n",
    "        if base_model == 'resnet18':\n",
    "            self.backbone = models.resnet18(weights='IMAGENET1K_V1')\n",
    "        else:\n",
    "            raise ValueError(\"Only resnet18 supported for deformable version\")\n",
    "        \n",
    "        # Replace regular convolutions with deformable ones in specified layers\n",
    "        self._replace_with_deformable_conv(deform_layers)\n",
    "        \n",
    "        # Replace the final fully connected layer\n",
    "        in_features = self.backbone.fc.in_features\n",
    "        self.backbone.fc = nn.Linear(in_features, num_classes)\n",
    "        \n",
    "    def _replace_with_deformable_conv(self, deform_layers):\n",
    "        \"\"\"Replace regular convolutions with deformable convolutions in specified layers\"\"\"\n",
    "        layers_dict = {\n",
    "            'layer1': self.backbone.layer1,\n",
    "            'layer2': self.backbone.layer2, \n",
    "            'layer3': self.backbone.layer3,\n",
    "            'layer4': self.backbone.layer4\n",
    "        }\n",
    "        \n",
    "        for layer_name in deform_layers:\n",
    "            if layer_name in layers_dict:\n",
    "                layer = layers_dict[layer_name]\n",
    "                for block_idx, block in enumerate(layer):\n",
    "                    # Store original parameters and replace conv1\n",
    "                    if hasattr(block, 'conv1') and block.conv1.kernel_size == (3, 3):\n",
    "                        in_channels = block.conv1.in_channels\n",
    "                        out_channels = block.conv1.out_channels\n",
    "                        stride = block.conv1.stride[0]\n",
    "                        padding = block.conv1.padding[0]\n",
    "                        bias = block.conv1.bias is not None\n",
    "                        \n",
    "                        # Create deformable convolution with same parameters\n",
    "                        deform_conv = DeformableConv2d(\n",
    "                            in_channels, out_channels, \n",
    "                            kernel_size=3, stride=stride, padding=padding\n",
    "                        )\n",
    "                        \n",
    "                        # Copy weights and bias from original convolution\n",
    "                        deform_conv.conv.weight.data = block.conv1.weight.data.clone()\n",
    "                        if bias and deform_conv.conv.bias is not None:\n",
    "                            deform_conv.conv.bias.data = block.conv1.bias.data.clone()\n",
    "                        \n",
    "                        block.conv1 = deform_conv\n",
    "                        \n",
    "                    # Store original parameters and replace conv2  \n",
    "                    if hasattr(block, 'conv2') and block.conv2.kernel_size == (3, 3):\n",
    "                        in_channels = block.conv2.in_channels\n",
    "                        out_channels = block.conv2.out_channels  \n",
    "                        stride = block.conv2.stride[0]\n",
    "                        padding = block.conv2.padding[0]\n",
    "                        bias = block.conv2.bias is not None\n",
    "                        \n",
    "                        # Create deformable convolution with same parameters\n",
    "                        deform_conv = DeformableConv2d(\n",
    "                            in_channels, out_channels,\n",
    "                            kernel_size=3, stride=stride, padding=padding\n",
    "                        )\n",
    "                        \n",
    "                        # Copy weights and bias from original convolution\n",
    "                        deform_conv.conv.weight.data = block.conv2.weight.data.clone()\n",
    "                        if bias and deform_conv.conv.bias is not None:\n",
    "                            deform_conv.conv.bias.data = block.conv2.bias.data.clone()\n",
    "                        \n",
    "                        block.conv2 = deform_conv\n",
    "    \n",
    "    def forward(self, x):\n",
    "        return self.backbone(x)"
   ]
  },
  {
   "cell_type": "code",
   "execution_count": null,
   "id": "4a6a01f8",
   "metadata": {},
   "outputs": [
    {
     "name": "stdout",
     "output_type": "stream",
     "text": [
      "Deformable model created. Checking layers...\n",
      "Found deformable layer: backbone.layer3.0.conv1.offset_conv\n",
      "Found deformable layer: backbone.layer3.0.conv2.offset_conv\n",
      "Found deformable layer: backbone.layer3.1.conv1.offset_conv\n",
      "Found deformable layer: backbone.layer3.1.conv2.offset_conv\n",
      "Epoch 0/49\n",
      "----------\n",
      "Epoch 0/49\n",
      "----------\n"
     ]
    },
    {
     "name": "stderr",
     "output_type": "stream",
     "text": [
      "Train Epoch 0: 100%|██████████| 32/32 [04:55<00:00,  9.24s/it, Loss=4.5432, Acc=0.0000]\n",
      "Train Epoch 0: 100%|██████████| 32/32 [04:55<00:00,  9.24s/it, Loss=4.5432, Acc=0.0000]\n"
     ]
    },
    {
     "name": "stdout",
     "output_type": "stream",
     "text": [
      "train Loss: 4.7004 Acc: 0.0147\n"
     ]
    },
    {
     "name": "stderr",
     "output_type": "stream",
     "text": [
      "Val Epoch 0: 100%|██████████| 32/32 [00:35<00:00,  1.12s/it, Loss=4.0753, Acc=0.1786]\n",
      "\n"
     ]
    },
    {
     "name": "stdout",
     "output_type": "stream",
     "text": [
      "val Loss: 4.3895 Acc: 0.0529\n",
      "New best model saved with val_acc: 0.0529\n",
      "\n",
      "Epoch 1/49\n",
      "----------\n",
      "New best model saved with val_acc: 0.0529\n",
      "\n",
      "Epoch 1/49\n",
      "----------\n"
     ]
    },
    {
     "name": "stderr",
     "output_type": "stream",
     "text": [
      "Train Epoch 1: 100%|██████████| 32/32 [04:53<00:00,  9.18s/it, Loss=4.2173, Acc=0.1071]\n",
      "Train Epoch 1: 100%|██████████| 32/32 [04:53<00:00,  9.18s/it, Loss=4.2173, Acc=0.1071]\n"
     ]
    },
    {
     "name": "stdout",
     "output_type": "stream",
     "text": [
      "train Loss: 4.2111 Acc: 0.1059\n"
     ]
    },
    {
     "name": "stderr",
     "output_type": "stream",
     "text": [
      "Val Epoch 1: 100%|██████████| 32/32 [00:36<00:00,  1.14s/it, Loss=3.7008, Acc=0.3214]\n",
      "\n"
     ]
    },
    {
     "name": "stdout",
     "output_type": "stream",
     "text": [
      "val Loss: 3.9155 Acc: 0.2333\n",
      "New best model saved with val_acc: 0.2333\n",
      "\n",
      "Epoch 2/49\n",
      "----------\n",
      "New best model saved with val_acc: 0.2333\n",
      "\n",
      "Epoch 2/49\n",
      "----------\n"
     ]
    },
    {
     "name": "stderr",
     "output_type": "stream",
     "text": [
      "Train Epoch 2: 100%|██████████| 32/32 [04:57<00:00,  9.31s/it, Loss=3.8707, Acc=0.2143]\n",
      "Train Epoch 2: 100%|██████████| 32/32 [04:57<00:00,  9.31s/it, Loss=3.8707, Acc=0.2143]\n"
     ]
    },
    {
     "name": "stdout",
     "output_type": "stream",
     "text": [
      "train Loss: 3.7612 Acc: 0.3088\n"
     ]
    },
    {
     "name": "stderr",
     "output_type": "stream",
     "text": [
      "Val Epoch 2: 100%|██████████| 32/32 [00:36<00:00,  1.15s/it, Loss=2.8460, Acc=0.7857]\n",
      "\n"
     ]
    },
    {
     "name": "stdout",
     "output_type": "stream",
     "text": [
      "val Loss: 3.4150 Acc: 0.4147\n",
      "New best model saved with val_acc: 0.4147\n",
      "\n",
      "Epoch 3/49\n",
      "----------\n",
      "New best model saved with val_acc: 0.4147\n",
      "\n",
      "Epoch 3/49\n",
      "----------\n"
     ]
    },
    {
     "name": "stderr",
     "output_type": "stream",
     "text": [
      "Train Epoch 3: 100%|██████████| 32/32 [05:05<00:00,  9.55s/it, Loss=3.0736, Acc=0.5357]\n",
      "Train Epoch 3: 100%|██████████| 32/32 [05:05<00:00,  9.55s/it, Loss=3.0736, Acc=0.5357]\n"
     ]
    },
    {
     "name": "stdout",
     "output_type": "stream",
     "text": [
      "train Loss: 3.2879 Acc: 0.4804\n"
     ]
    },
    {
     "name": "stderr",
     "output_type": "stream",
     "text": [
      "Val Epoch 3: 100%|██████████| 32/32 [00:37<00:00,  1.16s/it, Loss=2.2749, Acc=0.7143]\n",
      "\n"
     ]
    },
    {
     "name": "stdout",
     "output_type": "stream",
     "text": [
      "val Loss: 2.8928 Acc: 0.5353\n",
      "New best model saved with val_acc: 0.5353\n",
      "\n",
      "Epoch 4/49\n",
      "----------\n",
      "New best model saved with val_acc: 0.5353\n",
      "\n",
      "Epoch 4/49\n",
      "----------\n"
     ]
    },
    {
     "name": "stderr",
     "output_type": "stream",
     "text": [
      "Train Epoch 4: 100%|██████████| 32/32 [04:59<00:00,  9.36s/it, Loss=2.8089, Acc=0.5714]\n",
      "Train Epoch 4: 100%|██████████| 32/32 [04:59<00:00,  9.36s/it, Loss=2.8089, Acc=0.5714]\n"
     ]
    },
    {
     "name": "stdout",
     "output_type": "stream",
     "text": [
      "train Loss: 2.8512 Acc: 0.5922\n"
     ]
    },
    {
     "name": "stderr",
     "output_type": "stream",
     "text": [
      "Val Epoch 4: 100%|██████████| 32/32 [00:36<00:00,  1.14s/it, Loss=1.5568, Acc=0.8571]\n",
      "\n"
     ]
    },
    {
     "name": "stdout",
     "output_type": "stream",
     "text": [
      "val Loss: 2.4419 Acc: 0.6118\n",
      "New best model saved with val_acc: 0.6118\n",
      "\n",
      "Epoch 5/49\n",
      "----------\n",
      "New best model saved with val_acc: 0.6118\n",
      "\n",
      "Epoch 5/49\n",
      "----------\n"
     ]
    },
    {
     "name": "stderr",
     "output_type": "stream",
     "text": [
      "Train Epoch 5: 100%|██████████| 32/32 [04:49<00:00,  9.04s/it, Loss=2.5377, Acc=0.4643]\n",
      "Train Epoch 5: 100%|██████████| 32/32 [04:49<00:00,  9.04s/it, Loss=2.5377, Acc=0.4643]\n"
     ]
    },
    {
     "name": "stdout",
     "output_type": "stream",
     "text": [
      "train Loss: 2.4861 Acc: 0.6598\n"
     ]
    },
    {
     "name": "stderr",
     "output_type": "stream",
     "text": [
      "Val Epoch 5: 100%|██████████| 32/32 [00:35<00:00,  1.11s/it, Loss=1.2136, Acc=0.9286]\n",
      "\n"
     ]
    },
    {
     "name": "stdout",
     "output_type": "stream",
     "text": [
      "val Loss: 2.1037 Acc: 0.6696\n",
      "New best model saved with val_acc: 0.6696\n",
      "\n",
      "Epoch 6/49\n",
      "----------\n",
      "New best model saved with val_acc: 0.6696\n",
      "\n",
      "Epoch 6/49\n",
      "----------\n"
     ]
    },
    {
     "name": "stderr",
     "output_type": "stream",
     "text": [
      "Train Epoch 6: 100%|██████████| 32/32 [04:56<00:00,  9.26s/it, Loss=2.3785, Acc=0.5714]\n",
      "Train Epoch 6: 100%|██████████| 32/32 [04:56<00:00,  9.26s/it, Loss=2.3785, Acc=0.5714]\n"
     ]
    },
    {
     "name": "stdout",
     "output_type": "stream",
     "text": [
      "train Loss: 2.1627 Acc: 0.7147\n"
     ]
    },
    {
     "name": "stderr",
     "output_type": "stream",
     "text": [
      "Val Epoch 6: 100%|██████████| 32/32 [00:35<00:00,  1.12s/it, Loss=1.1641, Acc=0.9286]\n",
      "\n"
     ]
    },
    {
     "name": "stdout",
     "output_type": "stream",
     "text": [
      "val Loss: 1.8467 Acc: 0.7088\n",
      "New best model saved with val_acc: 0.7088\n",
      "\n",
      "Epoch 7/49\n",
      "----------\n",
      "New best model saved with val_acc: 0.7088\n",
      "\n",
      "Epoch 7/49\n",
      "----------\n"
     ]
    },
    {
     "name": "stderr",
     "output_type": "stream",
     "text": [
      "Train Epoch 7: 100%|██████████| 32/32 [04:47<00:00,  8.98s/it, Loss=1.9208, Acc=0.7857]\n",
      "Train Epoch 7: 100%|██████████| 32/32 [04:47<00:00,  8.98s/it, Loss=1.9208, Acc=0.7857]\n"
     ]
    },
    {
     "name": "stdout",
     "output_type": "stream",
     "text": [
      "train Loss: 1.9419 Acc: 0.7461\n"
     ]
    },
    {
     "name": "stderr",
     "output_type": "stream",
     "text": [
      "Val Epoch 7: 100%|██████████| 32/32 [00:35<00:00,  1.11s/it, Loss=1.0767, Acc=0.9286]\n",
      "\n"
     ]
    },
    {
     "name": "stdout",
     "output_type": "stream",
     "text": [
      "val Loss: 1.6306 Acc: 0.7353\n",
      "New best model saved with val_acc: 0.7353\n",
      "\n",
      "Epoch 8/49\n",
      "----------\n",
      "New best model saved with val_acc: 0.7353\n",
      "\n",
      "Epoch 8/49\n",
      "----------\n"
     ]
    },
    {
     "name": "stderr",
     "output_type": "stream",
     "text": [
      "Train Epoch 8: 100%|██████████| 32/32 [04:52<00:00,  9.14s/it, Loss=1.9001, Acc=0.6786]\n",
      "Train Epoch 8: 100%|██████████| 32/32 [04:52<00:00,  9.14s/it, Loss=1.9001, Acc=0.6786]\n"
     ]
    },
    {
     "name": "stdout",
     "output_type": "stream",
     "text": [
      "train Loss: 1.6600 Acc: 0.8127\n"
     ]
    },
    {
     "name": "stderr",
     "output_type": "stream",
     "text": [
      "Val Epoch 8: 100%|██████████| 32/32 [00:36<00:00,  1.14s/it, Loss=0.8574, Acc=0.9286]\n",
      "\n"
     ]
    },
    {
     "name": "stdout",
     "output_type": "stream",
     "text": [
      "val Loss: 1.4729 Acc: 0.7765\n",
      "New best model saved with val_acc: 0.7765\n",
      "\n",
      "Epoch 9/49\n",
      "----------\n",
      "New best model saved with val_acc: 0.7765\n",
      "\n",
      "Epoch 9/49\n",
      "----------\n"
     ]
    },
    {
     "name": "stderr",
     "output_type": "stream",
     "text": [
      "Train Epoch 9: 100%|██████████| 32/32 [05:00<00:00,  9.38s/it, Loss=1.5883, Acc=0.7857]\n",
      "Train Epoch 9: 100%|██████████| 32/32 [05:00<00:00,  9.38s/it, Loss=1.5883, Acc=0.7857]\n"
     ]
    },
    {
     "name": "stdout",
     "output_type": "stream",
     "text": [
      "train Loss: 1.4988 Acc: 0.8069\n"
     ]
    },
    {
     "name": "stderr",
     "output_type": "stream",
     "text": [
      "Val Epoch 9: 100%|██████████| 32/32 [00:36<00:00,  1.13s/it, Loss=0.8411, Acc=0.9286]\n",
      "\n"
     ]
    },
    {
     "name": "stdout",
     "output_type": "stream",
     "text": [
      "val Loss: 1.3319 Acc: 0.7941\n",
      "New best model saved with val_acc: 0.7941\n",
      "\n",
      "Epoch 10/49\n",
      "----------\n",
      "New best model saved with val_acc: 0.7941\n",
      "\n",
      "Epoch 10/49\n",
      "----------\n"
     ]
    },
    {
     "name": "stderr",
     "output_type": "stream",
     "text": [
      "Train Epoch 10:  84%|████████▍ | 27/32 [04:12<00:46,  9.34s/it, Loss=1.1750, Acc=0.9062]"
     ]
    }
   ],
   "source": [
    "\n",
    "# Create model with deformable convolutions\n",
    "model_deform = FlowerResNetDeformable(\n",
    "    base_model='resnet18', \n",
    "    deform_layers=['layer3'], \n",
    "    num_classes=102\n",
    ")\n",
    "model_deform = model_deform.to(device)\n",
    "\n",
    "# Print model info to verify deformable convolutions are there\n",
    "print(\"Deformable model created. Checking layers...\")\n",
    "for name, module in model_deform.named_modules():\n",
    "    if 'deform' in name.lower() or 'offset' in name.lower():\n",
    "        print(f\"Found deformable layer: {name}\")\n",
    "\n",
    "# Define optimizer\n",
    "optimizer_deform = optim.SGD(model_deform.parameters(), lr=0.001, momentum=0.9)\n",
    "scheduler_deform = lr_scheduler.StepLR(optimizer_deform, step_size=30, gamma=0.1)\n",
    "\n",
    "# Train model\n",
    "model_deform, train_losses_d, train_accs_d, val_losses_d, val_accs_d = train_model(\n",
    "    model_deform, criterion, optimizer_deform, scheduler_deform, num_epochs, 'resnet18_deformable'\n",
    ")\n",
    "\n",
    "# Plot results\n",
    "plot_training_curves(train_losses_d, val_losses_d, train_accs_d, val_accs_d, 'ResNet18_Deformable')\n",
    "\n",
    "# Evaluate on test set\n",
    "test_loss_d, test_acc_d, all_preds_d, all_labels_d = evaluate_model(model_deform, criterion)\n",
    "\n",
    "# Save training logs\n",
    "with open('resnet18_deformable.txt', 'w') as f:\n",
    "    f.write(\"Epoch,Train_Loss,Val_Loss,Train_Acc,Val_Acc\\n\")\n",
    "    for epoch in range(num_epochs):\n",
    "        f.write(f\"{epoch+1},{train_losses_d[epoch]:.4f},{val_losses_d[epoch]:.4f},{train_accs_d[epoch]:.4f},{val_accs_d[epoch]:.4f}\\n\")\n",
    "\n",
    "print(f\"ResNet18 Deformable - Test Accuracy: {test_acc_d:.4f}\")\n"
   ]
  },
  {
   "cell_type": "code",
   "execution_count": null,
   "id": "09c049a1",
   "metadata": {},
   "outputs": [],
   "source": []
  },
  {
   "cell_type": "code",
   "execution_count": null,
   "id": "4b668871",
   "metadata": {},
   "outputs": [],
   "source": [
    "# Compare all experiments\n",
    "def compare_experiments():\n",
    "    experiments = {\n",
    "        'ResNet18 Original': 'resnet18_original.txt',\n",
    "        'ResNet18 Frozen': 'resnet18_frozen.txt', \n",
    "        'ResNet34 Frozen': 'resnet34_frozen.txt',\n",
    "        'ResNet18 Deformable': 'resnet18_deformable.txt'\n",
    "    }\n",
    "    \n",
    "    plt.figure(figsize=(15, 6))\n",
    "    \n",
    "    # Plot validation accuracy comparison\n",
    "    plt.subplot(1, 2, 1)\n",
    "    for exp_name, file_path in experiments.items():\n",
    "        try:\n",
    "            data = pd.read_csv(file_path)\n",
    "            plt.plot(data['Val_Acc'], label=exp_name, linewidth=2)\n",
    "        except FileNotFoundError:\n",
    "            print(f\"File {file_path} not found\")\n",
    "            continue\n",
    "    \n",
    "    plt.title('Validation Accuracy Comparison')\n",
    "    plt.xlabel('Epoch')\n",
    "    plt.ylabel('Accuracy')\n",
    "    plt.legend()\n",
    "    plt.grid(True, alpha=0.3)\n",
    "    \n",
    "    # Plot validation loss comparison\n",
    "    plt.subplot(1, 2, 2)\n",
    "    for exp_name, file_path in experiments.items():\n",
    "        try:\n",
    "            data = pd.read_csv(file_path)\n",
    "            plt.plot(data['Val_Loss'], label=exp_name, linewidth=2)\n",
    "        except FileNotFoundError:\n",
    "            continue\n",
    "    \n",
    "    plt.title('Validation Loss Comparison')\n",
    "    plt.xlabel('Epoch')\n",
    "    plt.ylabel('Loss')\n",
    "    plt.legend()\n",
    "    plt.grid(True, alpha=0.3)\n",
    "    \n",
    "    plt.tight_layout()\n",
    "    plt.savefig('all_experiments_comparison.png', dpi=300, bbox_inches='tight')\n",
    "    plt.show()\n",
    "\n",
    "# Compare experiments\n",
    "compare_experiments()\n",
    "\n",
    "# Visualize predictions from the best model\n",
    "print(\"Visualizing predictions from ResNet18 Original:\")\n",
    "visualize_model_predictions(model_resnet18)\n",
    "\n",
    "# Create summary table\n",
    "results_summary = {\n",
    "    'Model': ['ResNet18 Original', 'ResNet18 Frozen', 'ResNet34 Frozen', 'ResNet18 Deformable'],\n",
    "    'Test Accuracy': [float(test_acc), float(test_acc_f), float(test_acc_34), float(test_acc_d)],\n",
    "    'Best Val Accuracy': [max(val_accs), max(val_accs_f), max(val_accs_34), max(val_accs_d)]\n",
    "}\n",
    "\n",
    "results_df = pd.DataFrame(results_summary)\n",
    "print(\"\\n=== Results Summary ===\")\n",
    "print(results_df.to_string(index=False))\n",
    "\n",
    "# Save results to CSV\n",
    "results_df.to_csv('experiment_results.csv', index=False)"
   ]
  },
  {
   "cell_type": "code",
   "execution_count": null,
   "id": "ef77350e",
   "metadata": {},
   "outputs": [],
   "source": [
    "# Confusion matrix for the best model\n",
    "print(\"Generating confusion matrix for ResNet18 Original...\")\n",
    "plot_confusion_matrix(all_labels, all_preds)\n",
    "\n",
    "# Class-wise accuracy\n",
    "def calculate_class_accuracy(all_labels, all_preds, num_classes=102):\n",
    "    class_correct = [0] * num_classes\n",
    "    class_total = [0] * num_classes\n",
    "    \n",
    "    for i in range(len(all_labels)):\n",
    "        label = all_labels[i]\n",
    "        pred = all_preds[i]\n",
    "        class_total[label] += 1\n",
    "        if label == pred:\n",
    "            class_correct[label] += 1\n",
    "    \n",
    "    class_accuracy = [class_correct[i] / class_total[i] if class_total[i] > 0 else 0 \n",
    "                     for i in range(num_classes)]\n",
    "    \n",
    "    return class_accuracy\n",
    "\n",
    "class_accuracy = calculate_class_accuracy(all_labels, all_preds)\n",
    "\n",
    "# Plot class-wise accuracy\n",
    "plt.figure(figsize=(15, 6))\n",
    "plt.bar(range(102), class_accuracy)\n",
    "plt.title('Class-wise Accuracy')\n",
    "plt.xlabel('Class ID')\n",
    "plt.ylabel('Accuracy')\n",
    "plt.grid(True, alpha=0.3)\n",
    "plt.tight_layout()\n",
    "plt.savefig('class_wise_accuracy.png', dpi=300, bbox_inches='tight')\n",
    "plt.show()\n",
    "\n",
    "# Print worst performing classes\n",
    "class_acc_df = pd.DataFrame({\n",
    "    'Class': range(102),\n",
    "    'Accuracy': class_accuracy,\n",
    "    'Samples': [sum(1 for x in all_labels if x == i) for i in range(102)]\n",
    "})\n",
    "\n",
    "print(\"\\nTop 10 worst performing classes:\")\n",
    "print(class_acc_df.nsmallest(10, 'Accuracy')[['Class', 'Accuracy', 'Samples']].to_string(index=False))\n",
    "\n",
    "print(\"\\nTop 10 best performing classes:\")\n",
    "print(class_acc_df.nlargest(10, 'Accuracy')[['Class', 'Accuracy', 'Samples']].to_string(index=False))"
   ]
  },
  {
   "cell_type": "code",
   "execution_count": null,
   "id": "0ee903aa",
   "metadata": {},
   "outputs": [],
   "source": []
  }
 ],
 "metadata": {
  "kernelspec": {
   "display_name": ".venv",
   "language": "python",
   "name": "python3"
  },
  "language_info": {
   "codemirror_mode": {
    "name": "ipython",
    "version": 3
   },
   "file_extension": ".py",
   "mimetype": "text/x-python",
   "name": "python",
   "nbconvert_exporter": "python",
   "pygments_lexer": "ipython3",
   "version": "3.9.21"
  }
 },
 "nbformat": 4,
 "nbformat_minor": 5
}
