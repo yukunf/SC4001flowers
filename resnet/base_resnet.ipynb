{
 "cells": [
  {
   "cell_type": "markdown",
   "id": "f8e021fd",
   "metadata": {},
   "source": [
    "# Flower Recognition with ResNet"
   ]
  },
  {
   "cell_type": "code",
   "execution_count": null,
   "id": "615a7c67",
   "metadata": {},
   "outputs": [],
   "source": []
  },
  {
   "cell_type": "code",
   "execution_count": 3,
   "id": "9509e9c3",
   "metadata": {},
   "outputs": [
    {
     "name": "stdout",
     "output_type": "stream",
     "text": [
      "Requirement already satisfied: torch in /home/UG/rishika004/.venv/lib/python3.9/site-packages (2.8.0)\n",
      "Requirement already satisfied: torchvision in /home/UG/rishika004/.venv/lib/python3.9/site-packages (0.23.0)\n",
      "Requirement already satisfied: pandas in /home/UG/rishika004/.venv/lib/python3.9/site-packages (2.3.3)\n",
      "Requirement already satisfied: numpy in /home/UG/rishika004/.venv/lib/python3.9/site-packages (2.0.2)\n",
      "Requirement already satisfied: matplotlib in /home/UG/rishika004/.venv/lib/python3.9/site-packages (3.9.4)\n",
      "Requirement already satisfied: scikit-learn in /home/UG/rishika004/.venv/lib/python3.9/site-packages (1.6.1)\n",
      "Requirement already satisfied: pillow in /home/UG/rishika004/.venv/lib/python3.9/site-packages (11.3.0)\n",
      "Requirement already satisfied: scipy in /home/UG/rishika004/.venv/lib/python3.9/site-packages (1.13.1)\n",
      "Requirement already satisfied: filelock in /home/UG/rishika004/.venv/lib/python3.9/site-packages (from torch) (3.19.1)\n",
      "Requirement already satisfied: typing-extensions>=4.10.0 in /home/UG/rishika004/.venv/lib/python3.9/site-packages (from torch) (4.15.0)\n",
      "Requirement already satisfied: sympy>=1.13.3 in /home/UG/rishika004/.venv/lib/python3.9/site-packages (from torch) (1.14.0)\n",
      "Requirement already satisfied: networkx in /home/UG/rishika004/.venv/lib/python3.9/site-packages (from torch) (3.2.1)\n",
      "Requirement already satisfied: jinja2 in /home/UG/rishika004/.venv/lib/python3.9/site-packages (from torch) (3.1.6)\n",
      "Requirement already satisfied: fsspec in /home/UG/rishika004/.venv/lib/python3.9/site-packages (from torch) (2025.9.0)\n",
      "Requirement already satisfied: nvidia-cuda-nvrtc-cu12==12.8.93 in /home/UG/rishika004/.venv/lib/python3.9/site-packages (from torch) (12.8.93)\n",
      "Requirement already satisfied: nvidia-cuda-runtime-cu12==12.8.90 in /home/UG/rishika004/.venv/lib/python3.9/site-packages (from torch) (12.8.90)\n",
      "Requirement already satisfied: nvidia-cuda-cupti-cu12==12.8.90 in /home/UG/rishika004/.venv/lib/python3.9/site-packages (from torch) (12.8.90)\n",
      "Requirement already satisfied: nvidia-cudnn-cu12==9.10.2.21 in /home/UG/rishika004/.venv/lib/python3.9/site-packages (from torch) (9.10.2.21)\n",
      "Requirement already satisfied: nvidia-cublas-cu12==12.8.4.1 in /home/UG/rishika004/.venv/lib/python3.9/site-packages (from torch) (12.8.4.1)\n",
      "Requirement already satisfied: nvidia-cufft-cu12==11.3.3.83 in /home/UG/rishika004/.venv/lib/python3.9/site-packages (from torch) (11.3.3.83)\n",
      "Requirement already satisfied: nvidia-curand-cu12==10.3.9.90 in /home/UG/rishika004/.venv/lib/python3.9/site-packages (from torch) (10.3.9.90)\n",
      "Requirement already satisfied: nvidia-cusolver-cu12==11.7.3.90 in /home/UG/rishika004/.venv/lib/python3.9/site-packages (from torch) (11.7.3.90)\n",
      "Requirement already satisfied: nvidia-cusparse-cu12==12.5.8.93 in /home/UG/rishika004/.venv/lib/python3.9/site-packages (from torch) (12.5.8.93)\n",
      "Requirement already satisfied: nvidia-cusparselt-cu12==0.7.1 in /home/UG/rishika004/.venv/lib/python3.9/site-packages (from torch) (0.7.1)\n",
      "Requirement already satisfied: nvidia-nccl-cu12==2.27.3 in /home/UG/rishika004/.venv/lib/python3.9/site-packages (from torch) (2.27.3)\n",
      "Requirement already satisfied: nvidia-nvtx-cu12==12.8.90 in /home/UG/rishika004/.venv/lib/python3.9/site-packages (from torch) (12.8.90)\n",
      "Requirement already satisfied: nvidia-nvjitlink-cu12==12.8.93 in /home/UG/rishika004/.venv/lib/python3.9/site-packages (from torch) (12.8.93)\n",
      "Requirement already satisfied: nvidia-cufile-cu12==1.13.1.3 in /home/UG/rishika004/.venv/lib/python3.9/site-packages (from torch) (1.13.1.3)\n",
      "Requirement already satisfied: triton==3.4.0 in /home/UG/rishika004/.venv/lib/python3.9/site-packages (from torch) (3.4.0)\n",
      "Requirement already satisfied: setuptools>=40.8.0 in /home/UG/rishika004/.venv/lib/python3.9/site-packages (from triton==3.4.0->torch) (80.9.0)\n",
      "Requirement already satisfied: importlib-metadata in /home/UG/rishika004/.venv/lib/python3.9/site-packages (from triton==3.4.0->torch) (8.7.0)\n",
      "Requirement already satisfied: setuptools>=40.8.0 in /home/UG/rishika004/.venv/lib/python3.9/site-packages (from triton==3.4.0->torch) (80.9.0)\n",
      "Requirement already satisfied: importlib-metadata in /home/UG/rishika004/.venv/lib/python3.9/site-packages (from triton==3.4.0->torch) (8.7.0)\n",
      "Requirement already satisfied: python-dateutil>=2.8.2 in /home/UG/rishika004/.venv/lib/python3.9/site-packages (from pandas) (2.9.0.post0)\n",
      "Requirement already satisfied: pytz>=2020.1 in /home/UG/rishika004/.venv/lib/python3.9/site-packages (from pandas) (2025.2)\n",
      "Requirement already satisfied: tzdata>=2022.7 in /home/UG/rishika004/.venv/lib/python3.9/site-packages (from pandas) (2025.2)\n",
      "Requirement already satisfied: contourpy>=1.0.1 in /home/UG/rishika004/.venv/lib/python3.9/site-packages (from matplotlib) (1.3.0)\n",
      "Requirement already satisfied: cycler>=0.10 in /home/UG/rishika004/.venv/lib/python3.9/site-packages (from matplotlib) (0.12.1)\n",
      "Requirement already satisfied: fonttools>=4.22.0 in /home/UG/rishika004/.venv/lib/python3.9/site-packages (from matplotlib) (4.60.1)\n",
      "Requirement already satisfied: kiwisolver>=1.3.1 in /home/UG/rishika004/.venv/lib/python3.9/site-packages (from matplotlib) (1.4.7)\n",
      "Requirement already satisfied: packaging>=20.0 in /home/UG/rishika004/.venv/lib/python3.9/site-packages (from matplotlib) (25.0)\n",
      "Requirement already satisfied: pyparsing>=2.3.1 in /home/UG/rishika004/.venv/lib/python3.9/site-packages (from matplotlib) (3.2.5)\n",
      "Requirement already satisfied: importlib-resources>=3.2.0 in /home/UG/rishika004/.venv/lib/python3.9/site-packages (from matplotlib) (6.5.2)\n",
      "Requirement already satisfied: joblib>=1.2.0 in /home/UG/rishika004/.venv/lib/python3.9/site-packages (from scikit-learn) (1.5.2)\n",
      "Requirement already satisfied: threadpoolctl>=3.1.0 in /home/UG/rishika004/.venv/lib/python3.9/site-packages (from scikit-learn) (3.6.0)\n",
      "Requirement already satisfied: python-dateutil>=2.8.2 in /home/UG/rishika004/.venv/lib/python3.9/site-packages (from pandas) (2.9.0.post0)\n",
      "Requirement already satisfied: pytz>=2020.1 in /home/UG/rishika004/.venv/lib/python3.9/site-packages (from pandas) (2025.2)\n",
      "Requirement already satisfied: tzdata>=2022.7 in /home/UG/rishika004/.venv/lib/python3.9/site-packages (from pandas) (2025.2)\n",
      "Requirement already satisfied: contourpy>=1.0.1 in /home/UG/rishika004/.venv/lib/python3.9/site-packages (from matplotlib) (1.3.0)\n",
      "Requirement already satisfied: cycler>=0.10 in /home/UG/rishika004/.venv/lib/python3.9/site-packages (from matplotlib) (0.12.1)\n",
      "Requirement already satisfied: fonttools>=4.22.0 in /home/UG/rishika004/.venv/lib/python3.9/site-packages (from matplotlib) (4.60.1)\n",
      "Requirement already satisfied: kiwisolver>=1.3.1 in /home/UG/rishika004/.venv/lib/python3.9/site-packages (from matplotlib) (1.4.7)\n",
      "Requirement already satisfied: packaging>=20.0 in /home/UG/rishika004/.venv/lib/python3.9/site-packages (from matplotlib) (25.0)\n",
      "Requirement already satisfied: pyparsing>=2.3.1 in /home/UG/rishika004/.venv/lib/python3.9/site-packages (from matplotlib) (3.2.5)\n",
      "Requirement already satisfied: importlib-resources>=3.2.0 in /home/UG/rishika004/.venv/lib/python3.9/site-packages (from matplotlib) (6.5.2)\n",
      "Requirement already satisfied: joblib>=1.2.0 in /home/UG/rishika004/.venv/lib/python3.9/site-packages (from scikit-learn) (1.5.2)\n",
      "Requirement already satisfied: threadpoolctl>=3.1.0 in /home/UG/rishika004/.venv/lib/python3.9/site-packages (from scikit-learn) (3.6.0)\n",
      "Requirement already satisfied: zipp>=3.1.0 in /home/UG/rishika004/.venv/lib/python3.9/site-packages (from importlib-resources>=3.2.0->matplotlib) (3.23.0)\n",
      "Requirement already satisfied: six>=1.5 in /home/UG/rishika004/.venv/lib/python3.9/site-packages (from python-dateutil>=2.8.2->pandas) (1.17.0)\n",
      "Requirement already satisfied: zipp>=3.1.0 in /home/UG/rishika004/.venv/lib/python3.9/site-packages (from importlib-resources>=3.2.0->matplotlib) (3.23.0)\n",
      "Requirement already satisfied: six>=1.5 in /home/UG/rishika004/.venv/lib/python3.9/site-packages (from python-dateutil>=2.8.2->pandas) (1.17.0)\n",
      "Requirement already satisfied: mpmath<1.4,>=1.1.0 in /home/UG/rishika004/.venv/lib/python3.9/site-packages (from sympy>=1.13.3->torch) (1.3.0)\n",
      "Requirement already satisfied: mpmath<1.4,>=1.1.0 in /home/UG/rishika004/.venv/lib/python3.9/site-packages (from sympy>=1.13.3->torch) (1.3.0)\n",
      "Requirement already satisfied: MarkupSafe>=2.0 in /home/UG/rishika004/.venv/lib/python3.9/site-packages (from jinja2->torch) (3.0.3)\n",
      "Requirement already satisfied: MarkupSafe>=2.0 in /home/UG/rishika004/.venv/lib/python3.9/site-packages (from jinja2->torch) (3.0.3)\n",
      "Using device: cpu\n",
      "Using device: cpu\n"
     ]
    }
   ],
   "source": [
    "# Flower Recognition with ResNet - Complete Implementation\n",
    "# Installing required packages\n",
    "!pip install torch torchvision pandas numpy matplotlib scikit-learn pillow scipy\n",
    "\n",
    "import numpy as np\n",
    "import pandas as pd\n",
    "import matplotlib.pyplot as plt\n",
    "import seaborn as sns\n",
    "\n",
    "import torch\n",
    "import torch.nn as nn\n",
    "import torch.optim as optim\n",
    "from torch.optim import lr_scheduler\n",
    "import torch.backends.cudnn as cudnn\n",
    "import torch.nn.functional as F\n",
    "\n",
    "import torchvision\n",
    "from torchvision import datasets, transforms, models\n",
    "from torch.utils.data import DataLoader\n",
    "\n",
    "from sklearn.metrics import confusion_matrix, classification_report\n",
    "import scipy\n",
    "from PIL import Image\n",
    "import os\n",
    "import shutil\n",
    "import time\n",
    "from tempfile import TemporaryDirectory\n",
    "from tqdm import tqdm\n",
    "import warnings\n",
    "warnings.filterwarnings('ignore')\n",
    "\n",
    "# Set device\n",
    "device = torch.device(\"cuda:0\" if torch.cuda.is_available() else \"cpu\")\n",
    "print(f\"Using device: {device}\")\n",
    "\n",
    "# Set random seeds for reproducibility\n",
    "torch.manual_seed(42)\n",
    "np.random.seed(42)\n",
    "if torch.cuda.is_available():\n",
    "    torch.cuda.manual_seed(42)"
   ]
  },
  {
   "cell_type": "code",
   "execution_count": 4,
   "id": "f7548775",
   "metadata": {},
   "outputs": [
    {
     "name": "stdout",
     "output_type": "stream",
     "text": [
      "Dataset sizes:\n",
      "Training: 1020 images\n",
      "Validation: 1020 images\n",
      "Test: 6149 images\n"
     ]
    }
   ],
   "source": [
    "# Set up data loading and preprocessing\n",
    "import os\n",
    "import scipy.io\n",
    "from torchvision import transforms, datasets\n",
    "from torch.utils.data import Dataset, DataLoader\n",
    "from PIL import Image\n",
    "\n",
    "# Data directories\n",
    "data_dir = 'data/flowers-102'\n",
    "images_dir = os.path.join(data_dir, 'jpg')\n",
    "\n",
    "# Load mat files for labels and train/val/test splits\n",
    "labels = scipy.io.loadmat(os.path.join(data_dir, 'imagelabels.mat'))['labels'][0] - 1  # Convert to 0-based indexing\n",
    "splits = scipy.io.loadmat(os.path.join(data_dir, 'setid.mat'))\n",
    "\n",
    "# Get indices for train, val, and test sets\n",
    "train_idx = splits['trnid'][0] - 1  # Convert to 0-based indexing\n",
    "val_idx = splits['valid'][0] - 1\n",
    "test_idx = splits['tstid'][0] - 1\n",
    "\n",
    "class Flowers102Dataset(Dataset):\n",
    "    def __init__(self, image_dir, indices, labels, transform=None):\n",
    "        self.image_dir = image_dir\n",
    "        self.indices = indices\n",
    "        self.labels = labels\n",
    "        self.transform = transform\n",
    "\n",
    "    def __len__(self):\n",
    "        return len(self.indices)\n",
    "\n",
    "    def __getitem__(self, idx):\n",
    "        img_idx = self.indices[idx]\n",
    "        img_name = f'image_{img_idx+1:05d}.jpg'\n",
    "        img_path = os.path.join(self.image_dir, img_name)\n",
    "        image = Image.open(img_path).convert('RGB')\n",
    "        \n",
    "        if self.transform:\n",
    "            image = self.transform(image)\n",
    "            \n",
    "        label = self.labels[img_idx]\n",
    "        return image, label\n",
    "\n",
    "# Define transforms\n",
    "train_transform = transforms.Compose([\n",
    "    transforms.RandomResizedCrop(224),\n",
    "    transforms.RandomHorizontalFlip(),\n",
    "    transforms.ToTensor(),\n",
    "    transforms.Normalize([0.485, 0.456, 0.406], [0.229, 0.224, 0.225])\n",
    "])\n",
    "\n",
    "val_test_transform = transforms.Compose([\n",
    "    transforms.Resize(256),\n",
    "    transforms.CenterCrop(224),\n",
    "    transforms.ToTensor(),\n",
    "    transforms.Normalize([0.485, 0.456, 0.406], [0.229, 0.224, 0.225])\n",
    "])\n",
    "\n",
    "# Create datasets\n",
    "train_dataset = Flowers102Dataset(images_dir, train_idx, labels, train_transform)\n",
    "val_dataset = Flowers102Dataset(images_dir, val_idx, labels, val_test_transform)\n",
    "test_dataset = Flowers102Dataset(images_dir, test_idx, labels, val_test_transform)\n",
    "\n",
    "# Create dataloaders\n",
    "batch_size = 32\n",
    "dataloaders = {\n",
    "    'train': DataLoader(train_dataset, batch_size=batch_size, shuffle=True, num_workers=4),\n",
    "    'val': DataLoader(val_dataset, batch_size=batch_size, shuffle=False, num_workers=4),\n",
    "    'test': DataLoader(test_dataset, batch_size=batch_size, shuffle=False, num_workers=4)\n",
    "}\n",
    "\n",
    "# Store dataset sizes\n",
    "dataset_sizes = {\n",
    "    'train': len(train_dataset),\n",
    "    'val': len(val_dataset),\n",
    "    'test': len(test_dataset)\n",
    "}\n",
    "\n",
    "print(f\"Dataset sizes:\")\n",
    "print(f\"Training: {dataset_sizes['train']} images\")\n",
    "print(f\"Validation: {dataset_sizes['val']} images\")\n",
    "print(f\"Test: {dataset_sizes['test']} images\")"
   ]
  },
  {
   "cell_type": "code",
   "execution_count": 5,
   "id": "c072060c",
   "metadata": {},
   "outputs": [
    {
     "name": "stdout",
     "output_type": "stream",
     "text": [
      "Training samples:\n"
     ]
    },
    {
     "data": {
      "image/png": "[encoded data removed]",
      "text/plain": [
       "<Figure size 640x480 with 1 Axes>"
      ]
     },
     "metadata": {},
     "output_type": "display_data"
    }
   ],
   "source": [
    "def imshow(inp, title=None):\n",
    "    \"\"\"Display image for Tensor.\"\"\"\n",
    "    inp = inp.numpy().transpose((1, 2, 0))\n",
    "    mean = np.array([0.485, 0.456, 0.406])\n",
    "    std = np.array([0.229, 0.224, 0.225])\n",
    "    inp = std * inp + mean\n",
    "    inp = np.clip(inp, 0, 1)\n",
    "    plt.imshow(inp)\n",
    "    if title is not None:\n",
    "        plt.title(title)\n",
    "    plt.pause(0.001)\n",
    "\n",
    "# Visualize some training images\n",
    "def visualize_samples(dataloader, num_images=8):\n",
    "    inputs, classes = next(iter(dataloader))\n",
    "    out = torchvision.utils.make_grid(inputs[:num_images])\n",
    "    imshow(out, title=[f'Class {x}' for x in classes[:num_images]])\n",
    "\n",
    "print(\"Training samples:\")\n",
    "visualize_samples(dataloaders['train'])"
   ]
  },
  {
   "cell_type": "code",
   "execution_count": 15,
   "id": "9ef28202",
   "metadata": {},
   "outputs": [],
   "source": [
    "# Base ResNet Model\n",
    "class FlowerResNet(nn.Module):\n",
    "    def __init__(self, base_model='resnet18', pretrained=True, num_classes=102):\n",
    "        super(FlowerResNet, self).__init__()\n",
    "        \n",
    "        if base_model == 'resnet18':\n",
    "            if pretrained:\n",
    "                self.backbone = models.resnet18(weights='IMAGENET1K_V1')\n",
    "            else:\n",
    "                self.backbone = models.resnet18(weights=None)\n",
    "        elif base_model == 'resnet34':\n",
    "            if pretrained:\n",
    "                self.backbone = models.resnet34(weights='IMAGENET1K_V1')\n",
    "            else:\n",
    "                self.backbone = models.resnet34(weights=None)\n",
    "        else:\n",
    "            raise ValueError(\"Unsupported base model\")\n",
    "        \n",
    "        # Replace the final fully connected layer\n",
    "        in_features = self.backbone.fc.in_features\n",
    "        self.backbone.fc = nn.Linear(in_features, num_classes)\n",
    "        \n",
    "    def forward(self, x):\n",
    "        return self.backbone(x)\n",
    "\n",
    "# Model with Frozen Stages\n",
    "class FlowerResNetFrozen(nn.Module):\n",
    "    def __init__(self, base_model='resnet18', num_frozen_stages=3, num_classes=102):\n",
    "        super(FlowerResNetFrozen, self).__init__()\n",
    "        \n",
    "        if base_model == 'resnet18':\n",
    "            self.backbone = models.resnet18(weights='IMAGENET1K_V1')\n",
    "        elif base_model == 'resnet34':\n",
    "            self.backbone = models.resnet34(weights='IMAGENET1K_V1')\n",
    "        else:\n",
    "            raise ValueError(\"Unsupported base model\")\n",
    "        \n",
    "        # Freeze specified stages\n",
    "        self._freeze_stages(num_frozen_stages)\n",
    "        \n",
    "        # Replace the final fully connected layer\n",
    "        in_features = self.backbone.fc.in_features\n",
    "        self.backbone.fc = nn.Linear(in_features, num_classes)\n",
    "        \n",
    "    def _freeze_stages(self, num_stages):\n",
    "        \"\"\"Freeze the first num_stages of ResNet\"\"\"\n",
    "        if num_stages >= 1:\n",
    "            for param in self.backbone.conv1.parameters():\n",
    "                param.requires_grad = False\n",
    "            for param in self.backbone.bn1.parameters():\n",
    "                param.requires_grad = False\n",
    "        if num_stages >= 2:\n",
    "            for param in self.backbone.layer1.parameters():\n",
    "                param.requires_grad = False\n",
    "        if num_stages >= 3:\n",
    "            for param in self.backbone.layer2.parameters():\n",
    "                param.requires_grad = False\n",
    "        if num_stages >= 4:\n",
    "            for param in self.backbone.layer3.parameters():\n",
    "                param.requires_grad = False\n",
    "        if num_stages >= 5:\n",
    "            for param in self.backbone.layer4.parameters():\n",
    "                param.requires_grad = False\n",
    "                \n",
    "    def forward(self, x):\n",
    "        return self.backbone(x)\n",
    "\n",
    "# Deformable Convolution Implementation\n",
    "class DeformableConv2d(nn.Module):\n",
    "    def __init__(self, in_channels, out_channels, kernel_size=3, stride=1, padding=1):\n",
    "        super(DeformableConv2d, self).__init__()\n",
    "        \n",
    "        # Offset convolution\n",
    "        self.offset_conv = nn.Conv2d(\n",
    "            in_channels, \n",
    "            2 * kernel_size * kernel_size,\n",
    "            kernel_size=kernel_size, \n",
    "            stride=stride, \n",
    "            padding=padding\n",
    "        )\n",
    "        \n",
    "        # Regular convolution\n",
    "        self.conv = nn.Conv2d(\n",
    "            in_channels, \n",
    "            out_channels, \n",
    "            kernel_size=kernel_size, \n",
    "            stride=stride, \n",
    "            padding=padding\n",
    "        )\n",
    "        \n",
    "        self.kernel_size = kernel_size\n",
    "        \n",
    "    def forward(self, x):\n",
    "        # Generate offsets (simplified implementation)\n",
    "        try:\n",
    "            from torchvision.ops import deform_conv2d\n",
    "            return deform_conv2d(x, offsets, self.conv.weight, self.conv.bias, \n",
    "                            stride=self.conv.stride, padding=self.conv.padding)\n",
    "        except ImportError:\n",
    "            # Fallback: at least use the offsets somehow, or just regular conv\n",
    "            return self.conv(x)\n",
    "\n",
    "# ResNet with Deformable Convolutions\n",
    "class FlowerResNetDeformable(nn.Module):\n",
    "    def __init__(self, base_model='resnet18', deform_layers=['layer3'], num_classes=102):\n",
    "        super(FlowerResNetDeformable, self).__init__()\n",
    "        \n",
    "        if base_model == 'resnet18':\n",
    "            self.backbone = models.resnet18(weights='IMAGENET1K_V1')\n",
    "        else:\n",
    "            raise ValueError(\"Only resnet18 supported for deformable version\")\n",
    "        \n",
    "        # Replace regular convolutions with deformable ones in specified layers\n",
    "        self._replace_with_deformable_conv(deform_layers)\n",
    "        \n",
    "        # Replace the final fully connected layer\n",
    "        in_features = self.backbone.fc.in_features\n",
    "        self.backbone.fc = nn.Linear(in_features, num_classes)\n",
    "        \n",
    "    def _replace_with_deformable_conv(self, deform_layers):\n",
    "        \"\"\"Replace regular convolutions with deformable convolutions in specified layers\"\"\"\n",
    "        layers_dict = {\n",
    "            'layer1': self.backbone.layer1,\n",
    "            'layer2': self.backbone.layer2,\n",
    "            'layer3': self.backbone.layer3,\n",
    "            'layer4': self.backbone.layer4\n",
    "        }\n",
    "        \n",
    "        for layer_name in deform_layers:\n",
    "            if layer_name in layers_dict:\n",
    "                layer = layers_dict[layer_name]\n",
    "                for block_idx, block in enumerate(layer):\n",
    "                    # Replace 3x3 convolutions in each basic block\n",
    "                    if hasattr(block, 'conv1') and block.conv1.kernel_size == (3, 3):\n",
    "                        in_channels = block.conv1.in_channels\n",
    "                        out_channels = block.conv1.out_channels\n",
    "                        block.conv1 = DeformableConv2d(in_channels, out_channels)\n",
    "                        \n",
    "                    if hasattr(block, 'conv2') and block.conv2.kernel_size == (3, 3):\n",
    "                        in_channels = block.conv2.in_channels\n",
    "                        out_channels = block.conv2.out_channels\n",
    "                        block.conv2 = DeformableConv2d(in_channels, out_channels)\n",
    "    \n",
    "    def forward(self, x):\n",
    "        return self.backbone(x)"
   ]
  },
  {
   "cell_type": "code",
   "execution_count": 7,
   "id": "57b9eea3",
   "metadata": {},
   "outputs": [],
   "source": [
    "def train_model(model, criterion, optimizer, scheduler, num_epochs=25, model_name='resnet18'):\n",
    "    since = time.time()\n",
    "    \n",
    "    # Create checkpoint directory\n",
    "    checkpoint_path = './model_checkpoints'\n",
    "    os.makedirs(checkpoint_path, exist_ok=True)\n",
    "    best_model_params_path = os.path.join(checkpoint_path, f'best_{model_name}_params.pt')\n",
    "    \n",
    "    # Save initial model\n",
    "    torch.save(model.state_dict(), best_model_params_path)\n",
    "    \n",
    "    # Track metrics\n",
    "    train_losses, train_accs = [], []\n",
    "    val_losses, val_accs = [], []\n",
    "    best_acc = 0.0\n",
    "    \n",
    "    for epoch in range(num_epochs):\n",
    "        print(f'Epoch {epoch}/{num_epochs - 1}')\n",
    "        print('-' * 10)\n",
    "        \n",
    "        # Each epoch has training and validation phases\n",
    "        for phase in ['train', 'val']:\n",
    "            if phase == 'train':\n",
    "                model.train()\n",
    "            else:\n",
    "                model.eval()\n",
    "\n",
    "            running_loss = 0.0\n",
    "            running_corrects = 0\n",
    "\n",
    "            # Iterate over data with progress bar\n",
    "            pbar = tqdm(dataloaders[phase], desc=f'{phase.capitalize()} Epoch {epoch}')\n",
    "            for inputs, labels in pbar:\n",
    "                inputs = inputs.to(device)\n",
    "                labels = labels.to(device)\n",
    "\n",
    "                # Zero gradients\n",
    "                optimizer.zero_grad()\n",
    "\n",
    "                # Forward pass\n",
    "                with torch.set_grad_enabled(phase == 'train'):\n",
    "                    outputs = model(inputs)\n",
    "                    _, preds = torch.max(outputs, 1)\n",
    "                    loss = criterion(outputs, labels)\n",
    "\n",
    "                    # Backward + optimize only in training phase\n",
    "                    if phase == 'train':\n",
    "                        loss.backward()\n",
    "                        optimizer.step()\n",
    "\n",
    "                # Statistics\n",
    "                running_loss += loss.item() * inputs.size(0)\n",
    "                running_corrects += torch.sum(preds == labels.data)\n",
    "                \n",
    "                # Update progress bar\n",
    "                pbar.set_postfix({\n",
    "                    'Loss': f'{loss.item():.4f}',\n",
    "                    'Acc': f'{torch.sum(preds == labels.data).item() / inputs.size(0):.4f}'\n",
    "                })\n",
    "            \n",
    "            if phase == 'train' and scheduler is not None:\n",
    "                scheduler.step()\n",
    "            \n",
    "            # Calculate epoch metrics\n",
    "            epoch_loss = running_loss / dataset_sizes[phase]\n",
    "            epoch_acc = running_corrects.double() / dataset_sizes[phase]\n",
    "            \n",
    "            print(f'{phase} Loss: {epoch_loss:.4f} Acc: {epoch_acc:.4f}')\n",
    "            \n",
    "            # Store metrics\n",
    "            if phase == 'train':\n",
    "                train_losses.append(epoch_loss)\n",
    "                train_accs.append(epoch_acc.cpu())\n",
    "            else:\n",
    "                val_losses.append(epoch_loss)\n",
    "                val_accs.append(epoch_acc.cpu())\n",
    "            \n",
    "            # Save best model\n",
    "            if phase == 'val' and epoch_acc > best_acc:\n",
    "                best_acc = epoch_acc\n",
    "                torch.save(model.state_dict(), best_model_params_path)\n",
    "                print(f'New best model saved with val_acc: {best_acc:.4f}')\n",
    "\n",
    "        print()\n",
    "\n",
    "    time_elapsed = time.time() - since\n",
    "    print(f'Training complete in {time_elapsed // 60:.0f}m {time_elapsed % 60:.0f}s')\n",
    "    print(f'Best val Acc: {best_acc:4f}')\n",
    "\n",
    "    # Load best model weights\n",
    "    model.load_state_dict(torch.load(best_model_params_path))\n",
    "    \n",
    "    return model, train_losses, train_accs, val_losses, val_accs"
   ]
  },
  {
   "cell_type": "code",
   "execution_count": 8,
   "id": "b67e717d",
   "metadata": {},
   "outputs": [],
   "source": [
    "def plot_training_curves(train_losses, val_losses, train_accs, val_accs, model_name):\n",
    "    fig, (ax1, ax2) = plt.subplots(1, 2, figsize=(15, 5))\n",
    "    \n",
    "    # Plot losses\n",
    "    ax1.plot(train_losses, label='Train Loss')\n",
    "    ax1.plot(val_losses, label='Val Loss')\n",
    "    ax1.set_title(f'{model_name} - Loss')\n",
    "    ax1.set_xlabel('Epoch')\n",
    "    ax1.set_ylabel('Loss')\n",
    "    ax1.legend()\n",
    "    ax1.grid(True)\n",
    "    \n",
    "    # Plot accuracies\n",
    "    ax2.plot(train_accs, label='Train Acc')\n",
    "    ax2.plot(val_accs, label='Val Acc')\n",
    "    ax2.set_title(f'{model_name} - Accuracy')\n",
    "    ax2.set_xlabel('Epoch')\n",
    "    ax2.set_ylabel('Accuracy')\n",
    "    ax2.legend()\n",
    "    ax2.grid(True)\n",
    "    \n",
    "    plt.tight_layout()\n",
    "    plt.savefig(f'{model_name}_training_curves.png', dpi=300, bbox_inches='tight')\n",
    "    plt.show()\n",
    "\n",
    "def visualize_model_predictions(model, num_images=6):\n",
    "    was_training = model.training\n",
    "    model.eval()\n",
    "    images_so_far = 0\n",
    "    fig = plt.figure(figsize=(12, 8))\n",
    "\n",
    "    with torch.no_grad():\n",
    "        for inputs, labels in dataloaders['val']:\n",
    "            inputs = inputs.to(device)\n",
    "            labels = labels.to(device)\n",
    "\n",
    "            outputs = model(inputs)\n",
    "            _, preds = torch.max(outputs, 1)\n",
    "\n",
    "            for j in range(inputs.size()[0]):\n",
    "                images_so_far += 1\n",
    "                ax = plt.subplot(num_images//2, 2, images_so_far)\n",
    "                ax.axis('off')\n",
    "                \n",
    "                # Color code correct/incorrect predictions\n",
    "                color = 'green' if preds[j] == labels[j] else 'red'\n",
    "                ax.set_title(f'Pred: {preds[j].item()} | True: {labels[j].item()}',\n",
    "                           color=color, fontweight='bold')\n",
    "                \n",
    "                # Denormalize and show image\n",
    "                inp = inputs.cpu().data[j]\n",
    "                inp = inp.numpy().transpose((1, 2, 0))\n",
    "                mean = np.array([0.485, 0.456, 0.406])\n",
    "                std = np.array([0.229, 0.224, 0.225])\n",
    "                inp = std * inp + mean\n",
    "                inp = np.clip(inp, 0, 1)\n",
    "                ax.imshow(inp)\n",
    "\n",
    "                if images_so_far == num_images:\n",
    "                    model.train(mode=was_training)\n",
    "                    return\n",
    "        model.train(mode=was_training)\n",
    "\n",
    "def evaluate_model(model, criterion):\n",
    "    was_training = model.training\n",
    "    model.eval()\n",
    "    \n",
    "    test_loss = 0.0\n",
    "    correct = 0\n",
    "    all_preds = []\n",
    "    all_labels = []\n",
    "    \n",
    "    print(\"Evaluating on test set...\")\n",
    "    with torch.no_grad():\n",
    "        for inputs, labels in tqdm(dataloaders['test']):\n",
    "            inputs = inputs.to(device)\n",
    "            labels = labels.to(device)\n",
    "\n",
    "            outputs = model(inputs)\n",
    "            _, preds = torch.max(outputs, 1)\n",
    "            \n",
    "            test_loss += criterion(outputs, labels).item() * inputs.size(0)\n",
    "            correct += torch.sum(preds == labels.data)\n",
    "            \n",
    "            all_preds.extend(preds.cpu().numpy())\n",
    "            all_labels.extend(labels.cpu().numpy())\n",
    "    \n",
    "    test_loss /= dataset_sizes['test']\n",
    "    test_acc = correct.double() / dataset_sizes['test']\n",
    "    \n",
    "    print(f'Test Loss: {test_loss:.4f}')\n",
    "    print(f'Test Accuracy: {test_acc:.4f}')\n",
    "    \n",
    "    model.train(mode=was_training)\n",
    "    return test_loss, test_acc, all_preds, all_labels\n",
    "\n",
    "def plot_confusion_matrix(all_labels, all_preds, class_names=None):\n",
    "    cm = confusion_matrix(all_labels, all_preds)\n",
    "    plt.figure(figsize=(12, 10))\n",
    "    sns.heatmap(cm, annot=False, fmt='d', cmap='Blues', \n",
    "                xticklabels=class_names if class_names else range(102),\n",
    "                yticklabels=class_names if class_names else range(102))\n",
    "    plt.title('Confusion Matrix')\n",
    "    plt.xlabel('Predicted Label')\n",
    "    plt.ylabel('True Label')\n",
    "    plt.tight_layout()\n",
    "    plt.savefig('confusion_matrix.png', dpi=300, bbox_inches='tight')\n",
    "    plt.show()"
   ]
  },
  {
   "cell_type": "code",
   "execution_count": 9,
   "id": "26fbdc7c",
   "metadata": {},
   "outputs": [
    {
     "name": "stdout",
     "output_type": "stream",
     "text": [
      "Downloading: \"https://download.pytorch.org/models/resnet18-f37072fd.pth\" to /home/UG/rishika004/.cache/torch/hub/checkpoints/resnet18-f37072fd.pth\n"
     ]
    },
    {
     "name": "stderr",
     "output_type": "stream",
     "text": [
      "100%|██████████| 44.7M/44.7M [00:00<00:00, 275MB/s]\n",
      "\n"
     ]
    },
    {
     "name": "stdout",
     "output_type": "stream",
     "text": [
      "Model architecture:\n",
      "backbone.layer4.0.conv1.weight: torch.Size([512, 256, 3, 3])\n",
      "backbone.layer4.0.bn1.weight: torch.Size([512])\n",
      "backbone.layer4.0.bn1.bias: torch.Size([512])\n",
      "backbone.layer4.0.conv2.weight: torch.Size([512, 512, 3, 3])\n",
      "backbone.layer4.0.bn2.weight: torch.Size([512])\n",
      "backbone.layer4.0.bn2.bias: torch.Size([512])\n",
      "backbone.layer4.0.downsample.0.weight: torch.Size([512, 256, 1, 1])\n",
      "backbone.layer4.0.downsample.1.weight: torch.Size([512])\n",
      "backbone.layer4.0.downsample.1.bias: torch.Size([512])\n",
      "backbone.layer4.1.conv1.weight: torch.Size([512, 512, 3, 3])\n",
      "backbone.layer4.1.bn1.weight: torch.Size([512])\n",
      "backbone.layer4.1.bn1.bias: torch.Size([512])\n",
      "backbone.layer4.1.conv2.weight: torch.Size([512, 512, 3, 3])\n",
      "backbone.layer4.1.bn2.weight: torch.Size([512])\n",
      "backbone.layer4.1.bn2.bias: torch.Size([512])\n",
      "backbone.fc.weight: torch.Size([102, 512])\n",
      "backbone.fc.bias: torch.Size([102])\n",
      "Epoch 0/49\n",
      "----------\n",
      "Epoch 0/49\n",
      "----------\n"
     ]
    },
    {
     "name": "stderr",
     "output_type": "stream",
     "text": [
      "Train Epoch 0: 100%|██████████| 32/32 [00:24<00:00,  1.33it/s, Loss=4.5855, Acc=0.0357]\n",
      "Train Epoch 0: 100%|██████████| 32/32 [00:24<00:00,  1.33it/s, Loss=4.5855, Acc=0.0357]\n"
     ]
    },
    {
     "name": "stdout",
     "output_type": "stream",
     "text": [
      "train Loss: 4.6938 Acc: 0.0147\n"
     ]
    },
    {
     "name": "stderr",
     "output_type": "stream",
     "text": [
      "Val Epoch 0: 100%|██████████| 32/32 [00:07<00:00,  4.56it/s, Loss=4.2075, Acc=0.1429]\n",
      "\n"
     ]
    },
    {
     "name": "stdout",
     "output_type": "stream",
     "text": [
      "val Loss: 4.3728 Acc: 0.0804\n",
      "New best model saved with val_acc: 0.0804\n",
      "\n",
      "Epoch 1/49\n",
      "----------\n",
      "New best model saved with val_acc: 0.0804\n",
      "\n",
      "Epoch 1/49\n",
      "----------\n"
     ]
    },
    {
     "name": "stderr",
     "output_type": "stream",
     "text": [
      "Train Epoch 1: 100%|██████████| 32/32 [00:14<00:00,  2.21it/s, Loss=3.8780, Acc=0.2857]\n",
      "Train Epoch 1: 100%|██████████| 32/32 [00:14<00:00,  2.21it/s, Loss=3.8780, Acc=0.2857]\n"
     ]
    },
    {
     "name": "stdout",
     "output_type": "stream",
     "text": [
      "train Loss: 4.2212 Acc: 0.1206\n"
     ]
    },
    {
     "name": "stderr",
     "output_type": "stream",
     "text": [
      "Val Epoch 1: 100%|██████████| 32/32 [00:04<00:00,  7.41it/s, Loss=3.4918, Acc=0.4643]\n",
      "\n"
     ]
    },
    {
     "name": "stdout",
     "output_type": "stream",
     "text": [
      "val Loss: 3.8982 Acc: 0.2588\n",
      "New best model saved with val_acc: 0.2588\n",
      "\n",
      "Epoch 2/49\n",
      "----------\n",
      "New best model saved with val_acc: 0.2588\n",
      "\n",
      "Epoch 2/49\n",
      "----------\n"
     ]
    },
    {
     "name": "stderr",
     "output_type": "stream",
     "text": [
      "Train Epoch 2: 100%|██████████| 32/32 [00:11<00:00,  2.68it/s, Loss=3.4896, Acc=0.4286]\n",
      "Train Epoch 2: 100%|██████████| 32/32 [00:11<00:00,  2.68it/s, Loss=3.4896, Acc=0.4286]\n"
     ]
    },
    {
     "name": "stdout",
     "output_type": "stream",
     "text": [
      "train Loss: 3.7541 Acc: 0.3216\n"
     ]
    },
    {
     "name": "stderr",
     "output_type": "stream",
     "text": [
      "Val Epoch 2: 100%|██████████| 32/32 [00:04<00:00,  7.58it/s, Loss=2.8661, Acc=0.6786]\n",
      "\n"
     ]
    },
    {
     "name": "stdout",
     "output_type": "stream",
     "text": [
      "val Loss: 3.3844 Acc: 0.4510\n",
      "New best model saved with val_acc: 0.4510\n",
      "\n",
      "Epoch 3/49\n",
      "----------\n",
      "New best model saved with val_acc: 0.4510\n",
      "\n",
      "Epoch 3/49\n",
      "----------\n"
     ]
    },
    {
     "name": "stderr",
     "output_type": "stream",
     "text": [
      "Train Epoch 3: 100%|██████████| 32/32 [00:11<00:00,  2.81it/s, Loss=2.8084, Acc=0.5714]\n",
      "Train Epoch 3: 100%|██████████| 32/32 [00:11<00:00,  2.81it/s, Loss=2.8084, Acc=0.5714]\n"
     ]
    },
    {
     "name": "stdout",
     "output_type": "stream",
     "text": [
      "train Loss: 3.2675 Acc: 0.4980\n"
     ]
    },
    {
     "name": "stderr",
     "output_type": "stream",
     "text": [
      "Val Epoch 3: 100%|██████████| 32/32 [00:04<00:00,  7.44it/s, Loss=2.1523, Acc=0.8929]\n",
      "\n"
     ]
    },
    {
     "name": "stdout",
     "output_type": "stream",
     "text": [
      "val Loss: 2.8553 Acc: 0.5618\n",
      "New best model saved with val_acc: 0.5618\n",
      "\n",
      "Epoch 4/49\n",
      "----------\n",
      "New best model saved with val_acc: 0.5618\n",
      "\n",
      "Epoch 4/49\n",
      "----------\n"
     ]
    },
    {
     "name": "stderr",
     "output_type": "stream",
     "text": [
      "Train Epoch 4: 100%|██████████| 32/32 [00:12<00:00,  2.66it/s, Loss=2.8464, Acc=0.5714]\n",
      "Train Epoch 4: 100%|██████████| 32/32 [00:12<00:00,  2.66it/s, Loss=2.8464, Acc=0.5714]\n"
     ]
    },
    {
     "name": "stdout",
     "output_type": "stream",
     "text": [
      "train Loss: 2.8044 Acc: 0.6088\n"
     ]
    },
    {
     "name": "stderr",
     "output_type": "stream",
     "text": [
      "Val Epoch 4: 100%|██████████| 32/32 [00:04<00:00,  7.41it/s, Loss=1.6883, Acc=0.9643]\n",
      "\n"
     ]
    },
    {
     "name": "stdout",
     "output_type": "stream",
     "text": [
      "val Loss: 2.4634 Acc: 0.6363\n",
      "New best model saved with val_acc: 0.6363\n",
      "\n",
      "Epoch 5/49\n",
      "----------\n",
      "New best model saved with val_acc: 0.6363\n",
      "\n",
      "Epoch 5/49\n",
      "----------\n"
     ]
    },
    {
     "name": "stderr",
     "output_type": "stream",
     "text": [
      "Train Epoch 5: 100%|██████████| 32/32 [00:11<00:00,  2.77it/s, Loss=2.3858, Acc=0.6786]\n",
      "Train Epoch 5: 100%|██████████| 32/32 [00:11<00:00,  2.77it/s, Loss=2.3858, Acc=0.6786]\n"
     ]
    },
    {
     "name": "stdout",
     "output_type": "stream",
     "text": [
      "train Loss: 2.4319 Acc: 0.6892\n"
     ]
    },
    {
     "name": "stderr",
     "output_type": "stream",
     "text": [
      "Val Epoch 5: 100%|██████████| 32/32 [00:04<00:00,  7.85it/s, Loss=1.2651, Acc=0.9643]\n",
      "\n"
     ]
    },
    {
     "name": "stdout",
     "output_type": "stream",
     "text": [
      "val Loss: 2.0758 Acc: 0.6941\n",
      "New best model saved with val_acc: 0.6941\n",
      "\n",
      "Epoch 6/49\n",
      "----------\n",
      "New best model saved with val_acc: 0.6941\n",
      "\n",
      "Epoch 6/49\n",
      "----------\n"
     ]
    },
    {
     "name": "stderr",
     "output_type": "stream",
     "text": [
      "Train Epoch 6: 100%|██████████| 32/32 [00:11<00:00,  2.81it/s, Loss=1.8713, Acc=0.8571]\n",
      "Train Epoch 6: 100%|██████████| 32/32 [00:11<00:00,  2.81it/s, Loss=1.8713, Acc=0.8571]\n"
     ]
    },
    {
     "name": "stdout",
     "output_type": "stream",
     "text": [
      "train Loss: 2.1545 Acc: 0.7196\n"
     ]
    },
    {
     "name": "stderr",
     "output_type": "stream",
     "text": [
      "Val Epoch 6: 100%|██████████| 32/32 [00:04<00:00,  7.55it/s, Loss=1.1191, Acc=0.9643]\n",
      "\n"
     ]
    },
    {
     "name": "stdout",
     "output_type": "stream",
     "text": [
      "val Loss: 1.7987 Acc: 0.7304\n",
      "New best model saved with val_acc: 0.7304\n",
      "\n",
      "Epoch 7/49\n",
      "----------\n",
      "New best model saved with val_acc: 0.7304\n",
      "\n",
      "Epoch 7/49\n",
      "----------\n"
     ]
    },
    {
     "name": "stderr",
     "output_type": "stream",
     "text": [
      "Train Epoch 7: 100%|██████████| 32/32 [00:10<00:00,  2.94it/s, Loss=2.1714, Acc=0.7143]\n",
      "Train Epoch 7: 100%|██████████| 32/32 [00:10<00:00,  2.94it/s, Loss=2.1714, Acc=0.7143]\n"
     ]
    },
    {
     "name": "stdout",
     "output_type": "stream",
     "text": [
      "train Loss: 1.8906 Acc: 0.7608\n"
     ]
    },
    {
     "name": "stderr",
     "output_type": "stream",
     "text": [
      "Val Epoch 7: 100%|██████████| 32/32 [00:04<00:00,  7.59it/s, Loss=0.9530, Acc=0.9286]\n",
      "\n"
     ]
    },
    {
     "name": "stdout",
     "output_type": "stream",
     "text": [
      "val Loss: 1.5824 Acc: 0.7559\n",
      "New best model saved with val_acc: 0.7559\n",
      "\n",
      "Epoch 8/49\n",
      "----------\n",
      "New best model saved with val_acc: 0.7559\n",
      "\n",
      "Epoch 8/49\n",
      "----------\n"
     ]
    },
    {
     "name": "stderr",
     "output_type": "stream",
     "text": [
      "Train Epoch 8: 100%|██████████| 32/32 [00:11<00:00,  2.82it/s, Loss=1.3070, Acc=0.8929]\n",
      "Train Epoch 8: 100%|██████████| 32/32 [00:11<00:00,  2.82it/s, Loss=1.3070, Acc=0.8929]\n"
     ]
    },
    {
     "name": "stdout",
     "output_type": "stream",
     "text": [
      "train Loss: 1.6476 Acc: 0.8010\n"
     ]
    },
    {
     "name": "stderr",
     "output_type": "stream",
     "text": [
      "Val Epoch 8: 100%|██████████| 32/32 [00:04<00:00,  7.38it/s, Loss=0.8683, Acc=0.9643]\n",
      "\n"
     ]
    },
    {
     "name": "stdout",
     "output_type": "stream",
     "text": [
      "val Loss: 1.4041 Acc: 0.7912\n",
      "New best model saved with val_acc: 0.7912\n",
      "\n",
      "Epoch 9/49\n",
      "----------\n",
      "New best model saved with val_acc: 0.7912\n",
      "\n",
      "Epoch 9/49\n",
      "----------\n"
     ]
    },
    {
     "name": "stderr",
     "output_type": "stream",
     "text": [
      "Train Epoch 9: 100%|██████████| 32/32 [00:12<00:00,  2.63it/s, Loss=1.6843, Acc=0.7500]\n",
      "Train Epoch 9: 100%|██████████| 32/32 [00:12<00:00,  2.63it/s, Loss=1.6843, Acc=0.7500]\n"
     ]
    },
    {
     "name": "stdout",
     "output_type": "stream",
     "text": [
      "train Loss: 1.4937 Acc: 0.8265\n"
     ]
    },
    {
     "name": "stderr",
     "output_type": "stream",
     "text": [
      "Val Epoch 9: 100%|██████████| 32/32 [00:03<00:00,  8.03it/s, Loss=0.6208, Acc=1.0000]\n",
      "\n"
     ]
    },
    {
     "name": "stdout",
     "output_type": "stream",
     "text": [
      "val Loss: 1.2803 Acc: 0.8049\n",
      "New best model saved with val_acc: 0.8049\n",
      "\n",
      "Epoch 10/49\n",
      "----------\n",
      "New best model saved with val_acc: 0.8049\n",
      "\n",
      "Epoch 10/49\n",
      "----------\n"
     ]
    },
    {
     "name": "stderr",
     "output_type": "stream",
     "text": [
      "Train Epoch 10: 100%|██████████| 32/32 [00:11<00:00,  2.76it/s, Loss=1.2411, Acc=0.8929]\n",
      "Train Epoch 10: 100%|██████████| 32/32 [00:11<00:00,  2.76it/s, Loss=1.2411, Acc=0.8929]\n"
     ]
    },
    {
     "name": "stdout",
     "output_type": "stream",
     "text": [
      "train Loss: 1.3188 Acc: 0.8510\n"
     ]
    },
    {
     "name": "stderr",
     "output_type": "stream",
     "text": [
      "Val Epoch 10: 100%|██████████| 32/32 [00:04<00:00,  7.97it/s, Loss=0.6603, Acc=0.9643]\n",
      "\n"
     ]
    },
    {
     "name": "stdout",
     "output_type": "stream",
     "text": [
      "val Loss: 1.1605 Acc: 0.8245\n",
      "New best model saved with val_acc: 0.8245\n",
      "\n",
      "Epoch 11/49\n",
      "----------\n",
      "New best model saved with val_acc: 0.8245\n",
      "\n",
      "Epoch 11/49\n",
      "----------\n"
     ]
    },
    {
     "name": "stderr",
     "output_type": "stream",
     "text": [
      "Train Epoch 11: 100%|██████████| 32/32 [00:11<00:00,  2.69it/s, Loss=1.1104, Acc=0.8214]\n",
      "Train Epoch 11: 100%|██████████| 32/32 [00:11<00:00,  2.69it/s, Loss=1.1104, Acc=0.8214]\n"
     ]
    },
    {
     "name": "stdout",
     "output_type": "stream",
     "text": [
      "train Loss: 1.1799 Acc: 0.8804\n"
     ]
    },
    {
     "name": "stderr",
     "output_type": "stream",
     "text": [
      "Val Epoch 11: 100%|██████████| 32/32 [00:04<00:00,  7.71it/s, Loss=0.5977, Acc=0.9286]\n",
      "\n"
     ]
    },
    {
     "name": "stdout",
     "output_type": "stream",
     "text": [
      "val Loss: 1.0346 Acc: 0.8343\n",
      "New best model saved with val_acc: 0.8343\n",
      "\n",
      "Epoch 12/49\n",
      "----------\n",
      "New best model saved with val_acc: 0.8343\n",
      "\n",
      "Epoch 12/49\n",
      "----------\n"
     ]
    },
    {
     "name": "stderr",
     "output_type": "stream",
     "text": [
      "Train Epoch 12: 100%|██████████| 32/32 [00:11<00:00,  2.78it/s, Loss=1.0787, Acc=0.8571]\n",
      "Train Epoch 12: 100%|██████████| 32/32 [00:11<00:00,  2.78it/s, Loss=1.0787, Acc=0.8571]\n"
     ]
    },
    {
     "name": "stdout",
     "output_type": "stream",
     "text": [
      "train Loss: 1.0743 Acc: 0.8784\n"
     ]
    },
    {
     "name": "stderr",
     "output_type": "stream",
     "text": [
      "Val Epoch 12: 100%|██████████| 32/32 [00:04<00:00,  7.56it/s, Loss=0.6188, Acc=0.9286]\n",
      "\n"
     ]
    },
    {
     "name": "stdout",
     "output_type": "stream",
     "text": [
      "val Loss: 0.9809 Acc: 0.8471\n",
      "New best model saved with val_acc: 0.8471\n",
      "\n",
      "Epoch 13/49\n",
      "----------\n",
      "New best model saved with val_acc: 0.8471\n",
      "\n",
      "Epoch 13/49\n",
      "----------\n"
     ]
    },
    {
     "name": "stderr",
     "output_type": "stream",
     "text": [
      "Train Epoch 13: 100%|██████████| 32/32 [00:10<00:00,  2.97it/s, Loss=1.1673, Acc=0.8571]\n",
      "Train Epoch 13: 100%|██████████| 32/32 [00:10<00:00,  2.97it/s, Loss=1.1673, Acc=0.8571]\n"
     ]
    },
    {
     "name": "stdout",
     "output_type": "stream",
     "text": [
      "train Loss: 0.9906 Acc: 0.8765\n"
     ]
    },
    {
     "name": "stderr",
     "output_type": "stream",
     "text": [
      "Val Epoch 13: 100%|██████████| 32/32 [00:04<00:00,  7.45it/s, Loss=0.5340, Acc=0.9643]\n",
      "\n"
     ]
    },
    {
     "name": "stdout",
     "output_type": "stream",
     "text": [
      "val Loss: 0.9082 Acc: 0.8490\n",
      "New best model saved with val_acc: 0.8490\n",
      "\n",
      "Epoch 14/49\n",
      "----------\n",
      "New best model saved with val_acc: 0.8490\n",
      "\n",
      "Epoch 14/49\n",
      "----------\n"
     ]
    },
    {
     "name": "stderr",
     "output_type": "stream",
     "text": [
      "Train Epoch 14: 100%|██████████| 32/32 [00:12<00:00,  2.55it/s, Loss=0.8626, Acc=0.8571]\n",
      "Train Epoch 14: 100%|██████████| 32/32 [00:12<00:00,  2.55it/s, Loss=0.8626, Acc=0.8571]\n"
     ]
    },
    {
     "name": "stdout",
     "output_type": "stream",
     "text": [
      "train Loss: 0.8667 Acc: 0.8990\n"
     ]
    },
    {
     "name": "stderr",
     "output_type": "stream",
     "text": [
      "Val Epoch 14: 100%|██████████| 32/32 [00:04<00:00,  7.70it/s, Loss=0.4701, Acc=0.9643]\n",
      "\n"
     ]
    },
    {
     "name": "stdout",
     "output_type": "stream",
     "text": [
      "val Loss: 0.8374 Acc: 0.8618\n",
      "New best model saved with val_acc: 0.8618\n",
      "\n",
      "Epoch 15/49\n",
      "----------\n",
      "New best model saved with val_acc: 0.8618\n",
      "\n",
      "Epoch 15/49\n",
      "----------\n"
     ]
    },
    {
     "name": "stderr",
     "output_type": "stream",
     "text": [
      "Train Epoch 15: 100%|██████████| 32/32 [00:11<00:00,  2.75it/s, Loss=0.9109, Acc=0.8929]\n",
      "Train Epoch 15: 100%|██████████| 32/32 [00:11<00:00,  2.75it/s, Loss=0.9109, Acc=0.8929]\n"
     ]
    },
    {
     "name": "stdout",
     "output_type": "stream",
     "text": [
      "train Loss: 0.8323 Acc: 0.9010\n"
     ]
    },
    {
     "name": "stderr",
     "output_type": "stream",
     "text": [
      "Val Epoch 15: 100%|██████████| 32/32 [00:04<00:00,  7.51it/s, Loss=0.4278, Acc=0.9643]\n",
      "Val Epoch 15: 100%|██████████| 32/32 [00:04<00:00,  7.51it/s, Loss=0.4278, Acc=0.9643]\n"
     ]
    },
    {
     "name": "stdout",
     "output_type": "stream",
     "text": [
      "val Loss: 0.8056 Acc: 0.8588\n",
      "\n",
      "Epoch 16/49\n",
      "----------\n"
     ]
    },
    {
     "name": "stderr",
     "output_type": "stream",
     "text": [
      "Train Epoch 16: 100%|██████████| 32/32 [00:11<00:00,  2.78it/s, Loss=0.8714, Acc=0.9286]\n",
      "Train Epoch 16: 100%|██████████| 32/32 [00:11<00:00,  2.78it/s, Loss=0.8714, Acc=0.9286]\n"
     ]
    },
    {
     "name": "stdout",
     "output_type": "stream",
     "text": [
      "train Loss: 0.7677 Acc: 0.9235\n"
     ]
    },
    {
     "name": "stderr",
     "output_type": "stream",
     "text": [
      "Val Epoch 16: 100%|██████████| 32/32 [00:04<00:00,  7.46it/s, Loss=0.3741, Acc=0.9643]\n",
      "\n"
     ]
    },
    {
     "name": "stdout",
     "output_type": "stream",
     "text": [
      "val Loss: 0.7662 Acc: 0.8706\n",
      "New best model saved with val_acc: 0.8706\n",
      "\n",
      "Epoch 17/49\n",
      "----------\n",
      "New best model saved with val_acc: 0.8706\n",
      "\n",
      "Epoch 17/49\n",
      "----------\n"
     ]
    },
    {
     "name": "stderr",
     "output_type": "stream",
     "text": [
      "Train Epoch 17: 100%|██████████| 32/32 [00:11<00:00,  2.68it/s, Loss=0.9215, Acc=0.8571]\n",
      "Train Epoch 17: 100%|██████████| 32/32 [00:11<00:00,  2.68it/s, Loss=0.9215, Acc=0.8571]\n"
     ]
    },
    {
     "name": "stdout",
     "output_type": "stream",
     "text": [
      "train Loss: 0.7063 Acc: 0.9275\n"
     ]
    },
    {
     "name": "stderr",
     "output_type": "stream",
     "text": [
      "Val Epoch 17: 100%|██████████| 32/32 [00:04<00:00,  7.93it/s, Loss=0.4086, Acc=0.9643]\n",
      "Val Epoch 17: 100%|██████████| 32/32 [00:04<00:00,  7.93it/s, Loss=0.4086, Acc=0.9643]\n"
     ]
    },
    {
     "name": "stdout",
     "output_type": "stream",
     "text": [
      "val Loss: 0.7404 Acc: 0.8706\n",
      "\n",
      "Epoch 18/49\n",
      "----------\n"
     ]
    },
    {
     "name": "stderr",
     "output_type": "stream",
     "text": [
      "Train Epoch 18: 100%|██████████| 32/32 [00:10<00:00,  2.97it/s, Loss=0.5809, Acc=0.9643]\n",
      "Train Epoch 18: 100%|██████████| 32/32 [00:10<00:00,  2.97it/s, Loss=0.5809, Acc=0.9643]\n"
     ]
    },
    {
     "name": "stdout",
     "output_type": "stream",
     "text": [
      "train Loss: 0.6473 Acc: 0.9245\n"
     ]
    },
    {
     "name": "stderr",
     "output_type": "stream",
     "text": [
      "Val Epoch 18: 100%|██████████| 32/32 [00:04<00:00,  7.72it/s, Loss=0.3865, Acc=0.9643]\n",
      "\n"
     ]
    },
    {
     "name": "stdout",
     "output_type": "stream",
     "text": [
      "val Loss: 0.6787 Acc: 0.8794\n",
      "New best model saved with val_acc: 0.8794\n",
      "\n",
      "Epoch 19/49\n",
      "----------\n",
      "New best model saved with val_acc: 0.8794\n",
      "\n",
      "Epoch 19/49\n",
      "----------\n"
     ]
    },
    {
     "name": "stderr",
     "output_type": "stream",
     "text": [
      "Train Epoch 19: 100%|██████████| 32/32 [00:10<00:00,  2.94it/s, Loss=0.6894, Acc=0.8929]\n",
      "Train Epoch 19: 100%|██████████| 32/32 [00:10<00:00,  2.94it/s, Loss=0.6894, Acc=0.8929]\n"
     ]
    },
    {
     "name": "stdout",
     "output_type": "stream",
     "text": [
      "train Loss: 0.6139 Acc: 0.9343\n"
     ]
    },
    {
     "name": "stderr",
     "output_type": "stream",
     "text": [
      "Val Epoch 19: 100%|██████████| 32/32 [00:04<00:00,  7.79it/s, Loss=0.3731, Acc=0.9643]\n",
      "\n"
     ]
    },
    {
     "name": "stdout",
     "output_type": "stream",
     "text": [
      "val Loss: 0.6663 Acc: 0.8833\n",
      "New best model saved with val_acc: 0.8833\n",
      "\n",
      "Epoch 20/49\n",
      "----------\n",
      "New best model saved with val_acc: 0.8833\n",
      "\n",
      "Epoch 20/49\n",
      "----------\n"
     ]
    },
    {
     "name": "stderr",
     "output_type": "stream",
     "text": [
      "Train Epoch 20: 100%|██████████| 32/32 [00:11<00:00,  2.84it/s, Loss=0.6985, Acc=0.9286]\n",
      "Train Epoch 20: 100%|██████████| 32/32 [00:11<00:00,  2.84it/s, Loss=0.6985, Acc=0.9286]\n"
     ]
    },
    {
     "name": "stdout",
     "output_type": "stream",
     "text": [
      "train Loss: 0.5967 Acc: 0.9333\n"
     ]
    },
    {
     "name": "stderr",
     "output_type": "stream",
     "text": [
      "Val Epoch 20: 100%|██████████| 32/32 [00:04<00:00,  7.71it/s, Loss=0.4130, Acc=0.9643]\n",
      "\n"
     ]
    },
    {
     "name": "stdout",
     "output_type": "stream",
     "text": [
      "val Loss: 0.6256 Acc: 0.8941\n",
      "New best model saved with val_acc: 0.8941\n",
      "\n",
      "Epoch 21/49\n",
      "----------\n",
      "New best model saved with val_acc: 0.8941\n",
      "\n",
      "Epoch 21/49\n",
      "----------\n"
     ]
    },
    {
     "name": "stderr",
     "output_type": "stream",
     "text": [
      "Train Epoch 21: 100%|██████████| 32/32 [00:12<00:00,  2.63it/s, Loss=0.8496, Acc=0.8929]\n",
      "Train Epoch 21: 100%|██████████| 32/32 [00:12<00:00,  2.63it/s, Loss=0.8496, Acc=0.8929]\n"
     ]
    },
    {
     "name": "stdout",
     "output_type": "stream",
     "text": [
      "train Loss: 0.5684 Acc: 0.9363\n"
     ]
    },
    {
     "name": "stderr",
     "output_type": "stream",
     "text": [
      "Val Epoch 21: 100%|██████████| 32/32 [00:04<00:00,  7.26it/s, Loss=0.3658, Acc=0.9643]\n",
      "\n"
     ]
    },
    {
     "name": "stdout",
     "output_type": "stream",
     "text": [
      "val Loss: 0.6056 Acc: 0.9020\n",
      "New best model saved with val_acc: 0.9020\n",
      "\n",
      "Epoch 22/49\n",
      "----------\n",
      "New best model saved with val_acc: 0.9020\n",
      "\n",
      "Epoch 22/49\n",
      "----------\n"
     ]
    },
    {
     "name": "stderr",
     "output_type": "stream",
     "text": [
      "Train Epoch 22: 100%|██████████| 32/32 [00:10<00:00,  2.96it/s, Loss=0.8169, Acc=0.8929]\n",
      "Train Epoch 22: 100%|██████████| 32/32 [00:10<00:00,  2.96it/s, Loss=0.8169, Acc=0.8929]\n"
     ]
    },
    {
     "name": "stdout",
     "output_type": "stream",
     "text": [
      "train Loss: 0.5465 Acc: 0.9333\n"
     ]
    },
    {
     "name": "stderr",
     "output_type": "stream",
     "text": [
      "Val Epoch 22: 100%|██████████| 32/32 [00:04<00:00,  7.41it/s, Loss=0.2421, Acc=0.9643]\n",
      "Val Epoch 22: 100%|██████████| 32/32 [00:04<00:00,  7.41it/s, Loss=0.2421, Acc=0.9643]\n"
     ]
    },
    {
     "name": "stdout",
     "output_type": "stream",
     "text": [
      "val Loss: 0.5962 Acc: 0.8931\n",
      "\n",
      "Epoch 23/49\n",
      "----------\n"
     ]
    },
    {
     "name": "stderr",
     "output_type": "stream",
     "text": [
      "Train Epoch 23: 100%|██████████| 32/32 [00:11<00:00,  2.75it/s, Loss=0.6412, Acc=0.9286]\n",
      "Train Epoch 23: 100%|██████████| 32/32 [00:11<00:00,  2.75it/s, Loss=0.6412, Acc=0.9286]\n"
     ]
    },
    {
     "name": "stdout",
     "output_type": "stream",
     "text": [
      "train Loss: 0.5007 Acc: 0.9333\n"
     ]
    },
    {
     "name": "stderr",
     "output_type": "stream",
     "text": [
      "Val Epoch 23: 100%|██████████| 32/32 [00:05<00:00,  6.31it/s, Loss=0.2484, Acc=0.9643]\n",
      "Val Epoch 23: 100%|██████████| 32/32 [00:05<00:00,  6.31it/s, Loss=0.2484, Acc=0.9643]\n"
     ]
    },
    {
     "name": "stdout",
     "output_type": "stream",
     "text": [
      "val Loss: 0.5748 Acc: 0.8941\n",
      "\n",
      "Epoch 24/49\n",
      "----------\n"
     ]
    },
    {
     "name": "stderr",
     "output_type": "stream",
     "text": [
      "Train Epoch 24: 100%|██████████| 32/32 [00:11<00:00,  2.80it/s, Loss=0.5082, Acc=0.9286]\n",
      "Train Epoch 24: 100%|██████████| 32/32 [00:11<00:00,  2.80it/s, Loss=0.5082, Acc=0.9286]\n"
     ]
    },
    {
     "name": "stdout",
     "output_type": "stream",
     "text": [
      "train Loss: 0.4760 Acc: 0.9392\n"
     ]
    },
    {
     "name": "stderr",
     "output_type": "stream",
     "text": [
      "Val Epoch 24: 100%|██████████| 32/32 [00:04<00:00,  7.51it/s, Loss=0.2328, Acc=0.9643]\n",
      "Val Epoch 24: 100%|██████████| 32/32 [00:04<00:00,  7.51it/s, Loss=0.2328, Acc=0.9643]\n"
     ]
    },
    {
     "name": "stdout",
     "output_type": "stream",
     "text": [
      "val Loss: 0.5561 Acc: 0.8882\n",
      "\n",
      "Epoch 25/49\n",
      "----------\n"
     ]
    },
    {
     "name": "stderr",
     "output_type": "stream",
     "text": [
      "Train Epoch 25: 100%|██████████| 32/32 [00:11<00:00,  2.78it/s, Loss=0.4205, Acc=0.9286]\n",
      "Train Epoch 25: 100%|██████████| 32/32 [00:11<00:00,  2.78it/s, Loss=0.4205, Acc=0.9286]\n"
     ]
    },
    {
     "name": "stdout",
     "output_type": "stream",
     "text": [
      "train Loss: 0.4367 Acc: 0.9500\n"
     ]
    },
    {
     "name": "stderr",
     "output_type": "stream",
     "text": [
      "Val Epoch 25: 100%|██████████| 32/32 [00:04<00:00,  7.55it/s, Loss=0.2750, Acc=0.9643]\n",
      "Val Epoch 25: 100%|██████████| 32/32 [00:04<00:00,  7.55it/s, Loss=0.2750, Acc=0.9643]\n"
     ]
    },
    {
     "name": "stdout",
     "output_type": "stream",
     "text": [
      "val Loss: 0.5413 Acc: 0.9000\n",
      "\n",
      "Epoch 26/49\n",
      "----------\n"
     ]
    },
    {
     "name": "stderr",
     "output_type": "stream",
     "text": [
      "Train Epoch 26: 100%|██████████| 32/32 [00:11<00:00,  2.86it/s, Loss=0.7200, Acc=0.8929]\n",
      "Train Epoch 26: 100%|██████████| 32/32 [00:11<00:00,  2.86it/s, Loss=0.7200, Acc=0.8929]\n"
     ]
    },
    {
     "name": "stdout",
     "output_type": "stream",
     "text": [
      "train Loss: 0.4248 Acc: 0.9402\n"
     ]
    },
    {
     "name": "stderr",
     "output_type": "stream",
     "text": [
      "Val Epoch 26: 100%|██████████| 32/32 [00:04<00:00,  7.80it/s, Loss=0.2236, Acc=0.9643]\n",
      "\n"
     ]
    },
    {
     "name": "stdout",
     "output_type": "stream",
     "text": [
      "val Loss: 0.5286 Acc: 0.9118\n",
      "New best model saved with val_acc: 0.9118\n",
      "\n",
      "Epoch 27/49\n",
      "----------\n",
      "New best model saved with val_acc: 0.9118\n",
      "\n",
      "Epoch 27/49\n",
      "----------\n"
     ]
    },
    {
     "name": "stderr",
     "output_type": "stream",
     "text": [
      "Train Epoch 27: 100%|██████████| 32/32 [00:11<00:00,  2.78it/s, Loss=0.4794, Acc=0.9286]\n",
      "Train Epoch 27: 100%|██████████| 32/32 [00:11<00:00,  2.78it/s, Loss=0.4794, Acc=0.9286]\n"
     ]
    },
    {
     "name": "stdout",
     "output_type": "stream",
     "text": [
      "train Loss: 0.4364 Acc: 0.9480\n"
     ]
    },
    {
     "name": "stderr",
     "output_type": "stream",
     "text": [
      "Val Epoch 27: 100%|██████████| 32/32 [00:04<00:00,  7.56it/s, Loss=0.2698, Acc=0.9643]\n",
      "Val Epoch 27: 100%|██████████| 32/32 [00:04<00:00,  7.56it/s, Loss=0.2698, Acc=0.9643]\n"
     ]
    },
    {
     "name": "stdout",
     "output_type": "stream",
     "text": [
      "val Loss: 0.5077 Acc: 0.9118\n",
      "\n",
      "Epoch 28/49\n",
      "----------\n"
     ]
    },
    {
     "name": "stderr",
     "output_type": "stream",
     "text": [
      "Train Epoch 28: 100%|██████████| 32/32 [00:11<00:00,  2.77it/s, Loss=0.3773, Acc=0.9286]\n",
      "Train Epoch 28: 100%|██████████| 32/32 [00:11<00:00,  2.77it/s, Loss=0.3773, Acc=0.9286]\n"
     ]
    },
    {
     "name": "stdout",
     "output_type": "stream",
     "text": [
      "train Loss: 0.3801 Acc: 0.9559\n"
     ]
    },
    {
     "name": "stderr",
     "output_type": "stream",
     "text": [
      "Val Epoch 28: 100%|██████████| 32/32 [00:04<00:00,  7.76it/s, Loss=0.2306, Acc=0.9643]\n",
      "Val Epoch 28: 100%|██████████| 32/32 [00:04<00:00,  7.76it/s, Loss=0.2306, Acc=0.9643]\n"
     ]
    },
    {
     "name": "stdout",
     "output_type": "stream",
     "text": [
      "val Loss: 0.5130 Acc: 0.9069\n",
      "\n",
      "Epoch 29/49\n",
      "----------\n"
     ]
    },
    {
     "name": "stderr",
     "output_type": "stream",
     "text": [
      "Train Epoch 29: 100%|██████████| 32/32 [00:11<00:00,  2.75it/s, Loss=0.4142, Acc=0.9286]\n",
      "Train Epoch 29: 100%|██████████| 32/32 [00:11<00:00,  2.75it/s, Loss=0.4142, Acc=0.9286]\n"
     ]
    },
    {
     "name": "stdout",
     "output_type": "stream",
     "text": [
      "train Loss: 0.3979 Acc: 0.9461\n"
     ]
    },
    {
     "name": "stderr",
     "output_type": "stream",
     "text": [
      "Val Epoch 29: 100%|██████████| 32/32 [00:04<00:00,  7.81it/s, Loss=0.2236, Acc=0.9643]\n",
      "Val Epoch 29: 100%|██████████| 32/32 [00:04<00:00,  7.81it/s, Loss=0.2236, Acc=0.9643]\n"
     ]
    },
    {
     "name": "stdout",
     "output_type": "stream",
     "text": [
      "val Loss: 0.5001 Acc: 0.9069\n",
      "\n",
      "Epoch 30/49\n",
      "----------\n"
     ]
    },
    {
     "name": "stderr",
     "output_type": "stream",
     "text": [
      "Train Epoch 30: 100%|██████████| 32/32 [00:11<00:00,  2.68it/s, Loss=0.2220, Acc=1.0000]\n",
      "Train Epoch 30: 100%|██████████| 32/32 [00:11<00:00,  2.68it/s, Loss=0.2220, Acc=1.0000]\n"
     ]
    },
    {
     "name": "stdout",
     "output_type": "stream",
     "text": [
      "train Loss: 0.3322 Acc: 0.9618\n"
     ]
    },
    {
     "name": "stderr",
     "output_type": "stream",
     "text": [
      "Val Epoch 30: 100%|██████████| 32/32 [00:04<00:00,  7.41it/s, Loss=0.2118, Acc=0.9643]\n",
      "Val Epoch 30: 100%|██████████| 32/32 [00:04<00:00,  7.41it/s, Loss=0.2118, Acc=0.9643]\n"
     ]
    },
    {
     "name": "stdout",
     "output_type": "stream",
     "text": [
      "val Loss: 0.4953 Acc: 0.9039\n",
      "\n",
      "Epoch 31/49\n",
      "----------\n"
     ]
    },
    {
     "name": "stderr",
     "output_type": "stream",
     "text": [
      "Train Epoch 31: 100%|██████████| 32/32 [00:11<00:00,  2.70it/s, Loss=0.2806, Acc=1.0000]\n",
      "Train Epoch 31: 100%|██████████| 32/32 [00:11<00:00,  2.70it/s, Loss=0.2806, Acc=1.0000]\n"
     ]
    },
    {
     "name": "stdout",
     "output_type": "stream",
     "text": [
      "train Loss: 0.3269 Acc: 0.9647\n"
     ]
    },
    {
     "name": "stderr",
     "output_type": "stream",
     "text": [
      "Val Epoch 31: 100%|██████████| 32/32 [00:04<00:00,  7.58it/s, Loss=0.2100, Acc=0.9643]\n",
      "Val Epoch 31: 100%|██████████| 32/32 [00:04<00:00,  7.58it/s, Loss=0.2100, Acc=0.9643]\n"
     ]
    },
    {
     "name": "stdout",
     "output_type": "stream",
     "text": [
      "val Loss: 0.4947 Acc: 0.9049\n",
      "\n",
      "Epoch 32/49\n",
      "----------\n"
     ]
    },
    {
     "name": "stderr",
     "output_type": "stream",
     "text": [
      "Train Epoch 32: 100%|██████████| 32/32 [00:11<00:00,  2.75it/s, Loss=0.2677, Acc=1.0000]\n",
      "Train Epoch 32: 100%|██████████| 32/32 [00:11<00:00,  2.75it/s, Loss=0.2677, Acc=1.0000]\n"
     ]
    },
    {
     "name": "stdout",
     "output_type": "stream",
     "text": [
      "train Loss: 0.3251 Acc: 0.9657\n"
     ]
    },
    {
     "name": "stderr",
     "output_type": "stream",
     "text": [
      "Val Epoch 32: 100%|██████████| 32/32 [00:04<00:00,  7.86it/s, Loss=0.2198, Acc=0.9643]\n",
      "Val Epoch 32: 100%|██████████| 32/32 [00:04<00:00,  7.86it/s, Loss=0.2198, Acc=0.9643]\n"
     ]
    },
    {
     "name": "stdout",
     "output_type": "stream",
     "text": [
      "val Loss: 0.4967 Acc: 0.9069\n",
      "\n",
      "Epoch 33/49\n",
      "----------\n"
     ]
    },
    {
     "name": "stderr",
     "output_type": "stream",
     "text": [
      "Train Epoch 33: 100%|██████████| 32/32 [00:11<00:00,  2.72it/s, Loss=0.4873, Acc=0.8214]\n",
      "Train Epoch 33: 100%|██████████| 32/32 [00:11<00:00,  2.72it/s, Loss=0.4873, Acc=0.8214]\n"
     ]
    },
    {
     "name": "stdout",
     "output_type": "stream",
     "text": [
      "train Loss: 0.3640 Acc: 0.9588\n"
     ]
    },
    {
     "name": "stderr",
     "output_type": "stream",
     "text": [
      "Val Epoch 33: 100%|██████████| 32/32 [00:04<00:00,  7.70it/s, Loss=0.2345, Acc=0.9643]\n",
      "Val Epoch 33: 100%|██████████| 32/32 [00:04<00:00,  7.70it/s, Loss=0.2345, Acc=0.9643]\n"
     ]
    },
    {
     "name": "stdout",
     "output_type": "stream",
     "text": [
      "val Loss: 0.4983 Acc: 0.9029\n",
      "\n",
      "Epoch 34/49\n",
      "----------\n"
     ]
    },
    {
     "name": "stderr",
     "output_type": "stream",
     "text": [
      "Train Epoch 34: 100%|██████████| 32/32 [00:12<00:00,  2.62it/s, Loss=0.1895, Acc=1.0000]\n",
      "Train Epoch 34: 100%|██████████| 32/32 [00:12<00:00,  2.62it/s, Loss=0.1895, Acc=1.0000]\n"
     ]
    },
    {
     "name": "stdout",
     "output_type": "stream",
     "text": [
      "train Loss: 0.3153 Acc: 0.9637\n"
     ]
    },
    {
     "name": "stderr",
     "output_type": "stream",
     "text": [
      "Val Epoch 34: 100%|██████████| 32/32 [00:04<00:00,  7.42it/s, Loss=0.1992, Acc=0.9643]\n",
      "Val Epoch 34: 100%|██████████| 32/32 [00:04<00:00,  7.42it/s, Loss=0.1992, Acc=0.9643]\n"
     ]
    },
    {
     "name": "stdout",
     "output_type": "stream",
     "text": [
      "val Loss: 0.4889 Acc: 0.9078\n",
      "\n",
      "Epoch 35/49\n",
      "----------\n"
     ]
    },
    {
     "name": "stderr",
     "output_type": "stream",
     "text": [
      "Train Epoch 35: 100%|██████████| 32/32 [00:11<00:00,  2.80it/s, Loss=0.2701, Acc=0.9643]\n",
      "Train Epoch 35: 100%|██████████| 32/32 [00:11<00:00,  2.80it/s, Loss=0.2701, Acc=0.9643]\n"
     ]
    },
    {
     "name": "stdout",
     "output_type": "stream",
     "text": [
      "train Loss: 0.3264 Acc: 0.9696\n"
     ]
    },
    {
     "name": "stderr",
     "output_type": "stream",
     "text": [
      "Val Epoch 35: 100%|██████████| 32/32 [00:04<00:00,  7.71it/s, Loss=0.2056, Acc=0.9643]\n",
      "Val Epoch 35: 100%|██████████| 32/32 [00:04<00:00,  7.71it/s, Loss=0.2056, Acc=0.9643]\n"
     ]
    },
    {
     "name": "stdout",
     "output_type": "stream",
     "text": [
      "val Loss: 0.4831 Acc: 0.9049\n",
      "\n",
      "Epoch 36/49\n",
      "----------\n"
     ]
    },
    {
     "name": "stderr",
     "output_type": "stream",
     "text": [
      "Train Epoch 36: 100%|██████████| 32/32 [00:11<00:00,  2.74it/s, Loss=0.3267, Acc=0.8929]\n",
      "Train Epoch 36: 100%|██████████| 32/32 [00:11<00:00,  2.74it/s, Loss=0.3267, Acc=0.8929]\n"
     ]
    },
    {
     "name": "stdout",
     "output_type": "stream",
     "text": [
      "train Loss: 0.3090 Acc: 0.9637\n"
     ]
    },
    {
     "name": "stderr",
     "output_type": "stream",
     "text": [
      "Val Epoch 36: 100%|██████████| 32/32 [00:04<00:00,  7.52it/s, Loss=0.2143, Acc=0.9643]\n",
      "\n"
     ]
    },
    {
     "name": "stdout",
     "output_type": "stream",
     "text": [
      "val Loss: 0.4868 Acc: 0.9137\n",
      "New best model saved with val_acc: 0.9137\n",
      "\n",
      "Epoch 37/49\n",
      "----------\n",
      "New best model saved with val_acc: 0.9137\n",
      "\n",
      "Epoch 37/49\n",
      "----------\n"
     ]
    },
    {
     "name": "stderr",
     "output_type": "stream",
     "text": [
      "Train Epoch 37: 100%|██████████| 32/32 [00:14<00:00,  2.19it/s, Loss=0.2683, Acc=0.9643]\n",
      "Train Epoch 37: 100%|██████████| 32/32 [00:14<00:00,  2.19it/s, Loss=0.2683, Acc=0.9643]\n"
     ]
    },
    {
     "name": "stdout",
     "output_type": "stream",
     "text": [
      "train Loss: 0.3301 Acc: 0.9627\n"
     ]
    },
    {
     "name": "stderr",
     "output_type": "stream",
     "text": [
      "Val Epoch 37: 100%|██████████| 32/32 [00:04<00:00,  7.58it/s, Loss=0.1938, Acc=0.9643]\n",
      "Val Epoch 37: 100%|██████████| 32/32 [00:04<00:00,  7.58it/s, Loss=0.1938, Acc=0.9643]\n"
     ]
    },
    {
     "name": "stdout",
     "output_type": "stream",
     "text": [
      "val Loss: 0.4905 Acc: 0.9118\n",
      "\n",
      "Epoch 38/49\n",
      "----------\n"
     ]
    },
    {
     "name": "stderr",
     "output_type": "stream",
     "text": [
      "Train Epoch 38: 100%|██████████| 32/32 [00:11<00:00,  2.68it/s, Loss=0.3496, Acc=0.9643]\n",
      "Train Epoch 38: 100%|██████████| 32/32 [00:11<00:00,  2.68it/s, Loss=0.3496, Acc=0.9643]\n"
     ]
    },
    {
     "name": "stdout",
     "output_type": "stream",
     "text": [
      "train Loss: 0.3400 Acc: 0.9559\n"
     ]
    },
    {
     "name": "stderr",
     "output_type": "stream",
     "text": [
      "Val Epoch 38: 100%|██████████| 32/32 [00:04<00:00,  7.38it/s, Loss=0.2061, Acc=0.9643]\n",
      "Val Epoch 38: 100%|██████████| 32/32 [00:04<00:00,  7.38it/s, Loss=0.2061, Acc=0.9643]\n"
     ]
    },
    {
     "name": "stdout",
     "output_type": "stream",
     "text": [
      "val Loss: 0.4853 Acc: 0.9098\n",
      "\n",
      "Epoch 39/49\n",
      "----------\n"
     ]
    },
    {
     "name": "stderr",
     "output_type": "stream",
     "text": [
      "Train Epoch 39: 100%|██████████| 32/32 [00:11<00:00,  2.70it/s, Loss=0.2917, Acc=1.0000]\n",
      "Train Epoch 39: 100%|██████████| 32/32 [00:11<00:00,  2.70it/s, Loss=0.2917, Acc=1.0000]\n"
     ]
    },
    {
     "name": "stdout",
     "output_type": "stream",
     "text": [
      "train Loss: 0.3258 Acc: 0.9647\n"
     ]
    },
    {
     "name": "stderr",
     "output_type": "stream",
     "text": [
      "Val Epoch 39: 100%|██████████| 32/32 [00:04<00:00,  7.33it/s, Loss=0.2148, Acc=0.9643]\n",
      "Val Epoch 39: 100%|██████████| 32/32 [00:04<00:00,  7.33it/s, Loss=0.2148, Acc=0.9643]\n"
     ]
    },
    {
     "name": "stdout",
     "output_type": "stream",
     "text": [
      "val Loss: 0.4822 Acc: 0.9118\n",
      "\n",
      "Epoch 40/49\n",
      "----------\n"
     ]
    },
    {
     "name": "stderr",
     "output_type": "stream",
     "text": [
      "Train Epoch 40: 100%|██████████| 32/32 [00:12<00:00,  2.65it/s, Loss=0.2996, Acc=0.9286]\n",
      "Train Epoch 40: 100%|██████████| 32/32 [00:12<00:00,  2.65it/s, Loss=0.2996, Acc=0.9286]\n"
     ]
    },
    {
     "name": "stdout",
     "output_type": "stream",
     "text": [
      "train Loss: 0.3195 Acc: 0.9608\n"
     ]
    },
    {
     "name": "stderr",
     "output_type": "stream",
     "text": [
      "Val Epoch 40: 100%|██████████| 32/32 [00:04<00:00,  7.20it/s, Loss=0.2393, Acc=0.9643]\n",
      "Val Epoch 40: 100%|██████████| 32/32 [00:04<00:00,  7.20it/s, Loss=0.2393, Acc=0.9643]\n"
     ]
    },
    {
     "name": "stdout",
     "output_type": "stream",
     "text": [
      "val Loss: 0.4792 Acc: 0.9108\n",
      "\n",
      "Epoch 41/49\n",
      "----------\n"
     ]
    },
    {
     "name": "stderr",
     "output_type": "stream",
     "text": [
      "Train Epoch 41: 100%|██████████| 32/32 [00:11<00:00,  2.69it/s, Loss=0.2670, Acc=0.9286]\n",
      "Train Epoch 41: 100%|██████████| 32/32 [00:11<00:00,  2.69it/s, Loss=0.2670, Acc=0.9286]\n"
     ]
    },
    {
     "name": "stdout",
     "output_type": "stream",
     "text": [
      "train Loss: 0.3284 Acc: 0.9549\n"
     ]
    },
    {
     "name": "stderr",
     "output_type": "stream",
     "text": [
      "Val Epoch 41: 100%|██████████| 32/32 [00:04<00:00,  7.75it/s, Loss=0.2170, Acc=0.9643]\n",
      "\n"
     ]
    },
    {
     "name": "stdout",
     "output_type": "stream",
     "text": [
      "val Loss: 0.4909 Acc: 0.9167\n",
      "New best model saved with val_acc: 0.9167\n",
      "\n",
      "Epoch 42/49\n",
      "----------\n",
      "New best model saved with val_acc: 0.9167\n",
      "\n",
      "Epoch 42/49\n",
      "----------\n"
     ]
    },
    {
     "name": "stderr",
     "output_type": "stream",
     "text": [
      "Train Epoch 42: 100%|██████████| 32/32 [00:17<00:00,  1.88it/s, Loss=0.6636, Acc=0.8929]\n",
      "Train Epoch 42: 100%|██████████| 32/32 [00:17<00:00,  1.88it/s, Loss=0.6636, Acc=0.8929]\n"
     ]
    },
    {
     "name": "stdout",
     "output_type": "stream",
     "text": [
      "train Loss: 0.3364 Acc: 0.9627\n"
     ]
    },
    {
     "name": "stderr",
     "output_type": "stream",
     "text": [
      "Val Epoch 42: 100%|██████████| 32/32 [00:04<00:00,  7.36it/s, Loss=0.2282, Acc=0.9643]\n",
      "Val Epoch 42: 100%|██████████| 32/32 [00:04<00:00,  7.36it/s, Loss=0.2282, Acc=0.9643]\n"
     ]
    },
    {
     "name": "stdout",
     "output_type": "stream",
     "text": [
      "val Loss: 0.4807 Acc: 0.9127\n",
      "\n",
      "Epoch 43/49\n",
      "----------\n"
     ]
    },
    {
     "name": "stderr",
     "output_type": "stream",
     "text": [
      "Train Epoch 43: 100%|██████████| 32/32 [00:11<00:00,  2.71it/s, Loss=0.2600, Acc=1.0000]\n",
      "Train Epoch 43: 100%|██████████| 32/32 [00:11<00:00,  2.71it/s, Loss=0.2600, Acc=1.0000]\n"
     ]
    },
    {
     "name": "stdout",
     "output_type": "stream",
     "text": [
      "train Loss: 0.3194 Acc: 0.9667\n"
     ]
    },
    {
     "name": "stderr",
     "output_type": "stream",
     "text": [
      "Val Epoch 43: 100%|██████████| 32/32 [00:05<00:00,  5.52it/s, Loss=0.2272, Acc=0.9643]\n",
      "Val Epoch 43: 100%|██████████| 32/32 [00:05<00:00,  5.52it/s, Loss=0.2272, Acc=0.9643]\n"
     ]
    },
    {
     "name": "stdout",
     "output_type": "stream",
     "text": [
      "val Loss: 0.4823 Acc: 0.9147\n",
      "\n",
      "Epoch 44/49\n",
      "----------\n"
     ]
    },
    {
     "name": "stderr",
     "output_type": "stream",
     "text": [
      "Train Epoch 44: 100%|██████████| 32/32 [00:12<00:00,  2.62it/s, Loss=0.4201, Acc=0.9643]\n",
      "Train Epoch 44: 100%|██████████| 32/32 [00:12<00:00,  2.62it/s, Loss=0.4201, Acc=0.9643]\n"
     ]
    },
    {
     "name": "stdout",
     "output_type": "stream",
     "text": [
      "train Loss: 0.3309 Acc: 0.9676\n"
     ]
    },
    {
     "name": "stderr",
     "output_type": "stream",
     "text": [
      "Val Epoch 44: 100%|██████████| 32/32 [00:04<00:00,  7.45it/s, Loss=0.2285, Acc=0.9643]\n",
      "Val Epoch 44: 100%|██████████| 32/32 [00:04<00:00,  7.45it/s, Loss=0.2285, Acc=0.9643]\n"
     ]
    },
    {
     "name": "stdout",
     "output_type": "stream",
     "text": [
      "val Loss: 0.4861 Acc: 0.9127\n",
      "\n",
      "Epoch 45/49\n",
      "----------\n"
     ]
    },
    {
     "name": "stderr",
     "output_type": "stream",
     "text": [
      "Train Epoch 45: 100%|██████████| 32/32 [00:11<00:00,  2.74it/s, Loss=0.3421, Acc=1.0000]\n",
      "Train Epoch 45: 100%|██████████| 32/32 [00:11<00:00,  2.74it/s, Loss=0.3421, Acc=1.0000]\n"
     ]
    },
    {
     "name": "stdout",
     "output_type": "stream",
     "text": [
      "train Loss: 0.3269 Acc: 0.9598\n"
     ]
    },
    {
     "name": "stderr",
     "output_type": "stream",
     "text": [
      "Val Epoch 45: 100%|██████████| 32/32 [00:04<00:00,  7.66it/s, Loss=0.2302, Acc=0.9643]\n",
      "Val Epoch 45: 100%|██████████| 32/32 [00:04<00:00,  7.66it/s, Loss=0.2302, Acc=0.9643]\n"
     ]
    },
    {
     "name": "stdout",
     "output_type": "stream",
     "text": [
      "val Loss: 0.4709 Acc: 0.9147\n",
      "\n",
      "Epoch 46/49\n",
      "----------\n"
     ]
    },
    {
     "name": "stderr",
     "output_type": "stream",
     "text": [
      "Train Epoch 46: 100%|██████████| 32/32 [00:11<00:00,  2.77it/s, Loss=0.3461, Acc=0.9643]\n",
      "Train Epoch 46: 100%|██████████| 32/32 [00:11<00:00,  2.77it/s, Loss=0.3461, Acc=0.9643]\n"
     ]
    },
    {
     "name": "stdout",
     "output_type": "stream",
     "text": [
      "train Loss: 0.3388 Acc: 0.9588\n"
     ]
    },
    {
     "name": "stderr",
     "output_type": "stream",
     "text": [
      "Val Epoch 46: 100%|██████████| 32/32 [00:04<00:00,  7.37it/s, Loss=0.2267, Acc=0.9643]\n",
      "Val Epoch 46: 100%|██████████| 32/32 [00:04<00:00,  7.37it/s, Loss=0.2267, Acc=0.9643]\n"
     ]
    },
    {
     "name": "stdout",
     "output_type": "stream",
     "text": [
      "val Loss: 0.4763 Acc: 0.9088\n",
      "\n",
      "Epoch 47/49\n",
      "----------\n"
     ]
    },
    {
     "name": "stderr",
     "output_type": "stream",
     "text": [
      "Train Epoch 47: 100%|██████████| 32/32 [00:11<00:00,  2.77it/s, Loss=0.3053, Acc=0.9643]\n",
      "Train Epoch 47: 100%|██████████| 32/32 [00:11<00:00,  2.77it/s, Loss=0.3053, Acc=0.9643]\n"
     ]
    },
    {
     "name": "stdout",
     "output_type": "stream",
     "text": [
      "train Loss: 0.3355 Acc: 0.9618\n"
     ]
    },
    {
     "name": "stderr",
     "output_type": "stream",
     "text": [
      "Val Epoch 47: 100%|██████████| 32/32 [00:04<00:00,  7.63it/s, Loss=0.1971, Acc=0.9643]\n",
      "Val Epoch 47: 100%|██████████| 32/32 [00:04<00:00,  7.63it/s, Loss=0.1971, Acc=0.9643]\n"
     ]
    },
    {
     "name": "stdout",
     "output_type": "stream",
     "text": [
      "val Loss: 0.4680 Acc: 0.9108\n",
      "\n",
      "Epoch 48/49\n",
      "----------\n"
     ]
    },
    {
     "name": "stderr",
     "output_type": "stream",
     "text": [
      "Train Epoch 48: 100%|██████████| 32/32 [00:11<00:00,  2.70it/s, Loss=0.4291, Acc=0.9643]\n",
      "Train Epoch 48: 100%|██████████| 32/32 [00:11<00:00,  2.70it/s, Loss=0.4291, Acc=0.9643]\n"
     ]
    },
    {
     "name": "stdout",
     "output_type": "stream",
     "text": [
      "train Loss: 0.3292 Acc: 0.9578\n"
     ]
    },
    {
     "name": "stderr",
     "output_type": "stream",
     "text": [
      "Val Epoch 48: 100%|██████████| 32/32 [00:04<00:00,  7.48it/s, Loss=0.2211, Acc=0.9643]\n",
      "Val Epoch 48: 100%|██████████| 32/32 [00:04<00:00,  7.48it/s, Loss=0.2211, Acc=0.9643]\n"
     ]
    },
    {
     "name": "stdout",
     "output_type": "stream",
     "text": [
      "val Loss: 0.4813 Acc: 0.9118\n",
      "\n",
      "Epoch 49/49\n",
      "----------\n"
     ]
    },
    {
     "name": "stderr",
     "output_type": "stream",
     "text": [
      "Train Epoch 49: 100%|██████████| 32/32 [00:11<00:00,  2.75it/s, Loss=0.5421, Acc=0.8929]\n",
      "Train Epoch 49: 100%|██████████| 32/32 [00:11<00:00,  2.75it/s, Loss=0.5421, Acc=0.8929]\n"
     ]
    },
    {
     "name": "stdout",
     "output_type": "stream",
     "text": [
      "train Loss: 0.3780 Acc: 0.9559\n"
     ]
    },
    {
     "name": "stderr",
     "output_type": "stream",
     "text": [
      "Val Epoch 49: 100%|██████████| 32/32 [00:04<00:00,  7.73it/s, Loss=0.2081, Acc=0.9643]\n",
      "\n"
     ]
    },
    {
     "name": "stdout",
     "output_type": "stream",
     "text": [
      "val Loss: 0.4751 Acc: 0.9118\n",
      "\n",
      "Training complete in 13m 52s\n",
      "Best val Acc: 0.916667\n"
     ]
    },
    {
     "data": {
      "image/png": "[encoded data removed]",
      "text/plain": [
       "<Figure size 1500x500 with 2 Axes>"
      ]
     },
     "metadata": {},
     "output_type": "display_data"
    },
    {
     "name": "stdout",
     "output_type": "stream",
     "text": [
      "Evaluating on test set...\n"
     ]
    },
    {
     "name": "stderr",
     "output_type": "stream",
     "text": [
      "100%|██████████| 193/193 [00:37<00:00,  5.21it/s]"
     ]
    },
    {
     "name": "stdout",
     "output_type": "stream",
     "text": [
      "Test Loss: 0.5874\n",
      "Test Accuracy: 0.8803\n",
      "ResNet18 Original - Test Accuracy: 0.8803\n"
     ]
    },
    {
     "name": "stderr",
     "output_type": "stream",
     "text": [
      "\n"
     ]
    }
   ],
   "source": [
    "\n",
    "# Create model\n",
    "model_resnet18 = FlowerResNet(base_model='resnet18', pretrained=True, num_classes=102)\n",
    "model_resnet18 = model_resnet18.to(device)\n",
    "\n",
    "# Display model architecture\n",
    "print(\"Model architecture:\")\n",
    "for name, param in model_resnet18.named_parameters():\n",
    "    if \"fc\" in name or \"layer4\" in name:\n",
    "        print(f\"{name}: {param.shape}\")\n",
    "\n",
    "# Define loss function and optimizer\n",
    "criterion = nn.CrossEntropyLoss()\n",
    "optimizer = optim.SGD(model_resnet18.parameters(), lr=0.001, momentum=0.9)\n",
    "scheduler = lr_scheduler.StepLR(optimizer, step_size=30, gamma=0.1)\n",
    "\n",
    "# Train model\n",
    "num_epochs = 50\n",
    "model_resnet18, train_losses, train_accs, val_losses, val_accs = train_model(\n",
    "    model_resnet18, criterion, optimizer, scheduler, num_epochs, 'resnet18_original'\n",
    ")\n",
    "\n",
    "# Plot results\n",
    "plot_training_curves(train_losses, val_losses, train_accs, val_accs, 'ResNet18_Original')\n",
    "\n",
    "# Evaluate on test set\n",
    "test_loss, test_acc, all_preds, all_labels = evaluate_model(model_resnet18, criterion)\n",
    "\n",
    "# Save training logs\n",
    "with open('resnet18_original.txt', 'w') as f:\n",
    "    f.write(\"Epoch,Train_Loss,Val_Loss,Train_Acc,Val_Acc\\n\")\n",
    "    for epoch in range(num_epochs):\n",
    "        f.write(f\"{epoch+1},{train_losses[epoch]:.4f},{val_losses[epoch]:.4f},{train_accs[epoch]:.4f},{val_accs[epoch]:.4f}\\n\")\n",
    "\n",
    "print(f\"ResNet18 Original - Test Accuracy: {test_acc:.4f}\")"
   ]
  }
 ],
 "metadata": {
  "kernelspec": {
   "display_name": ".venv",
   "language": "python",
   "name": "python3"
  },
  "language_info": {
   "codemirror_mode": {
    "name": "ipython",
    "version": 3
   },
   "file_extension": ".py",
   "mimetype": "text/x-python",
   "name": "python",
   "nbconvert_exporter": "python",
   "pygments_lexer": "ipython3",
   "version": "3.9.21"
  }
 },
 "nbformat": 4,
 "nbformat_minor": 5
}
